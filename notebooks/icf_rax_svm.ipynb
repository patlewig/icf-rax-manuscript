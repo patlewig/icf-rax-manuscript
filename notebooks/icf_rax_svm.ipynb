{
 "cells": [
  {
   "cell_type": "code",
   "execution_count": 1,
   "id": "11f50688-c0ec-461e-bbf5-51b5246076a7",
   "metadata": {},
   "outputs": [],
   "source": [
    "import matplotlib.pyplot as plt"
   ]
  },
  {
   "cell_type": "code",
   "execution_count": 2,
   "id": "f06a975b-43af-43dc-b065-b56a89756eba",
   "metadata": {},
   "outputs": [],
   "source": [
    "import pandas as pd\n",
    "import numpy as np\n",
    "%matplotlib inline\n",
    "from rdkit import Chem\n",
    "from rdkit.Chem import AllChem\n",
    "import openpyxl"
   ]
  },
  {
   "cell_type": "code",
   "execution_count": 3,
   "id": "ea723bdd-1f00-4794-a235-20a28d30b817",
   "metadata": {},
   "outputs": [],
   "source": [
    "import os"
   ]
  },
  {
   "cell_type": "code",
   "execution_count": 4,
   "id": "b508a920-0b0a-4f13-bfbc-80f488198048",
   "metadata": {},
   "outputs": [],
   "source": [
    "TOP = os.getcwd().replace('notebooks', '')\n",
    "raw_dir = TOP + 'data/raw/'\n",
    "processed_dir = TOP + 'data/processed/'"
   ]
  },
  {
   "cell_type": "code",
   "execution_count": 5,
   "id": "e19ab639-b0bd-4381-8756-f1efbbe7845e",
   "metadata": {},
   "outputs": [
    {
     "data": {
      "text/html": [
       "<div>\n",
       "<style scoped>\n",
       "    .dataframe tbody tr th:only-of-type {\n",
       "        vertical-align: middle;\n",
       "    }\n",
       "\n",
       "    .dataframe tbody tr th {\n",
       "        vertical-align: top;\n",
       "    }\n",
       "\n",
       "    .dataframe thead th {\n",
       "        text-align: right;\n",
       "    }\n",
       "</style>\n",
       "<table border=\"1\" class=\"dataframe\">\n",
       "  <thead>\n",
       "    <tr style=\"text-align: right;\">\n",
       "      <th></th>\n",
       "      <th>Status</th>\n",
       "      <th>Index</th>\n",
       "      <th>Substance Name in Assessment</th>\n",
       "      <th>Substance Number in Assessment</th>\n",
       "      <th>Substance Role</th>\n",
       "      <th>Read-Across Assessment Title</th>\n",
       "      <th>Year of Assessment</th>\n",
       "      <th>Link to Assessment</th>\n",
       "      <th>Source (e.g. OECD IATA case study,  U.S. EPA PPRTV, journal article, primary author, etc.)</th>\n",
       "      <th>Decision Context Purpose (e.g., regulatory, hazard screening, risk assessment, REACH, TSCA, test order, framework validation, etc.)</th>\n",
       "      <th>...</th>\n",
       "      <th>Other Toxicity Value</th>\n",
       "      <th>Other Toxicity Value units</th>\n",
       "      <th>Citation for  Toxicity Value</th>\n",
       "      <th>Predicted Toxicity Type</th>\n",
       "      <th>Toxicological Endpoint Predicted by Read-Across</th>\n",
       "      <th>Predicted Endpoint Value</th>\n",
       "      <th>Predicted Endpoint Value Units</th>\n",
       "      <th>Method or Calculation Used to Derive Target Chemical Endpoint Value</th>\n",
       "      <th>Authors' Rationale for Choosing the Analogues/Category Justification</th>\n",
       "      <th>Analogue Evidence Stream</th>\n",
       "    </tr>\n",
       "  </thead>\n",
       "  <tbody>\n",
       "    <tr>\n",
       "      <th>0</th>\n",
       "      <td>QC done</td>\n",
       "      <td>1</td>\n",
       "      <td>Chlorobenzene</td>\n",
       "      <td>1</td>\n",
       "      <td>Target</td>\n",
       "      <td>Case Study on the Use of Integrated Approaches...</td>\n",
       "      <td>2020.0</td>\n",
       "      <td>http://www.oecd.org/officialdocuments/publicdi...</td>\n",
       "      <td>OECD IATA case study</td>\n",
       "      <td>Case study to clarify regulatory acceptance an...</td>\n",
       "      <td>...</td>\n",
       "      <td>NaN</td>\n",
       "      <td>NaN</td>\n",
       "      <td>NaN</td>\n",
       "      <td>90-day oral</td>\n",
       "      <td>NOAEL</td>\n",
       "      <td>Not determined</td>\n",
       "      <td>NaN</td>\n",
       "      <td>A 90-day NOAEL for chlorobenzene could not be ...</td>\n",
       "      <td>The category members were selected for this st...</td>\n",
       "      <td>Structural_ChemMine-tools_MCS-Tanimoto | Physc...</td>\n",
       "    </tr>\n",
       "    <tr>\n",
       "      <th>1</th>\n",
       "      <td>QC done</td>\n",
       "      <td>1</td>\n",
       "      <td>1,4-Dichlorobenzene</td>\n",
       "      <td>2</td>\n",
       "      <td>Target</td>\n",
       "      <td>Case Study on the Use of Integrated Approaches...</td>\n",
       "      <td>2020.0</td>\n",
       "      <td>http://www.oecd.org/officialdocuments/publicdi...</td>\n",
       "      <td>OECD IATA case study</td>\n",
       "      <td>Case study to clarify regulatory acceptance an...</td>\n",
       "      <td>...</td>\n",
       "      <td>NaN</td>\n",
       "      <td>NaN</td>\n",
       "      <td>NaN</td>\n",
       "      <td>90-day oral</td>\n",
       "      <td>NOAEL</td>\n",
       "      <td>7.8</td>\n",
       "      <td>mg/kg/day</td>\n",
       "      <td>The NOAEL for 1,2,4-trichlorobenzene was appli...</td>\n",
       "      <td>The category members were selected for this st...</td>\n",
       "      <td>Structural_ChemMine-tools_MCS-Tanimoto | Physc...</td>\n",
       "    </tr>\n",
       "    <tr>\n",
       "      <th>2</th>\n",
       "      <td>QC done</td>\n",
       "      <td>1</td>\n",
       "      <td>1,2-Dichlorobenzene</td>\n",
       "      <td>3</td>\n",
       "      <td>Category member</td>\n",
       "      <td>Case Study on the Use of Integrated Approaches...</td>\n",
       "      <td>2020.0</td>\n",
       "      <td>http://www.oecd.org/officialdocuments/publicdi...</td>\n",
       "      <td>OECD IATA case study</td>\n",
       "      <td>Case study to clarify regulatory acceptance an...</td>\n",
       "      <td>...</td>\n",
       "      <td>NaN</td>\n",
       "      <td>NaN</td>\n",
       "      <td>NaN</td>\n",
       "      <td>NaN</td>\n",
       "      <td>NaN</td>\n",
       "      <td>NaN</td>\n",
       "      <td>NaN</td>\n",
       "      <td>NaN</td>\n",
       "      <td>The category members were selected for this st...</td>\n",
       "      <td>Structural_ChemMine-tools_MCS-Tanimoto | Physc...</td>\n",
       "    </tr>\n",
       "    <tr>\n",
       "      <th>3</th>\n",
       "      <td>QC done</td>\n",
       "      <td>1</td>\n",
       "      <td>1,3-Dichlorobenzene</td>\n",
       "      <td>4</td>\n",
       "      <td>Target</td>\n",
       "      <td>Case Study on the Use of Integrated Approaches...</td>\n",
       "      <td>2020.0</td>\n",
       "      <td>http://www.oecd.org/officialdocuments/publicdi...</td>\n",
       "      <td>OECD IATA case study</td>\n",
       "      <td>Case study to clarify regulatory acceptance an...</td>\n",
       "      <td>...</td>\n",
       "      <td>NaN</td>\n",
       "      <td>NaN</td>\n",
       "      <td>NaN</td>\n",
       "      <td>90-day oral</td>\n",
       "      <td>NOAEL</td>\n",
       "      <td>7.8</td>\n",
       "      <td>mg/kg/day</td>\n",
       "      <td>The NOAEL for 1,2,4-trichlorobenzene was appli...</td>\n",
       "      <td>The category members were selected for this st...</td>\n",
       "      <td>Structural_ChemMine-tools_MCS-Tanimoto | Physc...</td>\n",
       "    </tr>\n",
       "    <tr>\n",
       "      <th>4</th>\n",
       "      <td>QC done</td>\n",
       "      <td>1</td>\n",
       "      <td>1,2,4-Trichlorobenzene</td>\n",
       "      <td>5</td>\n",
       "      <td>Source Analogue</td>\n",
       "      <td>Case Study on the Use of Integrated Approaches...</td>\n",
       "      <td>2020.0</td>\n",
       "      <td>http://www.oecd.org/officialdocuments/publicdi...</td>\n",
       "      <td>OECD IATA case study</td>\n",
       "      <td>Case study to clarify regulatory acceptance an...</td>\n",
       "      <td>...</td>\n",
       "      <td>NaN</td>\n",
       "      <td>NaN</td>\n",
       "      <td>NaN</td>\n",
       "      <td>NaN</td>\n",
       "      <td>NaN</td>\n",
       "      <td>NaN</td>\n",
       "      <td>NaN</td>\n",
       "      <td>NaN</td>\n",
       "      <td>The category members were selected for this st...</td>\n",
       "      <td>Structural_ChemMine-tools_MCS-Tanimoto | Physc...</td>\n",
       "    </tr>\n",
       "  </tbody>\n",
       "</table>\n",
       "<p>5 rows × 53 columns</p>\n",
       "</div>"
      ],
      "text/plain": [
       "    Status  Index Substance Name in Assessment Substance Number in Assessment  \\\n",
       "0  QC done      1                Chlorobenzene                              1   \n",
       "1  QC done      1          1,4-Dichlorobenzene                              2   \n",
       "2  QC done      1          1,2-Dichlorobenzene                              3   \n",
       "3  QC done      1          1,3-Dichlorobenzene                              4   \n",
       "4  QC done      1       1,2,4-Trichlorobenzene                              5   \n",
       "\n",
       "    Substance Role                       Read-Across Assessment Title  \\\n",
       "0           Target  Case Study on the Use of Integrated Approaches...   \n",
       "1           Target  Case Study on the Use of Integrated Approaches...   \n",
       "2  Category member  Case Study on the Use of Integrated Approaches...   \n",
       "3           Target  Case Study on the Use of Integrated Approaches...   \n",
       "4  Source Analogue  Case Study on the Use of Integrated Approaches...   \n",
       "\n",
       "   Year of Assessment                                 Link to Assessment  \\\n",
       "0              2020.0  http://www.oecd.org/officialdocuments/publicdi...   \n",
       "1              2020.0  http://www.oecd.org/officialdocuments/publicdi...   \n",
       "2              2020.0  http://www.oecd.org/officialdocuments/publicdi...   \n",
       "3              2020.0  http://www.oecd.org/officialdocuments/publicdi...   \n",
       "4              2020.0  http://www.oecd.org/officialdocuments/publicdi...   \n",
       "\n",
       "  Source (e.g. OECD IATA case study,  U.S. EPA PPRTV, journal article, primary author, etc.)  \\\n",
       "0                               OECD IATA case study                                           \n",
       "1                               OECD IATA case study                                           \n",
       "2                               OECD IATA case study                                           \n",
       "3                               OECD IATA case study                                           \n",
       "4                               OECD IATA case study                                           \n",
       "\n",
       "  Decision Context Purpose (e.g., regulatory, hazard screening, risk assessment, REACH, TSCA, test order, framework validation, etc.)  \\\n",
       "0  Case study to clarify regulatory acceptance an...                                                                                    \n",
       "1  Case study to clarify regulatory acceptance an...                                                                                    \n",
       "2  Case study to clarify regulatory acceptance an...                                                                                    \n",
       "3  Case study to clarify regulatory acceptance an...                                                                                    \n",
       "4  Case study to clarify regulatory acceptance an...                                                                                    \n",
       "\n",
       "   ... Other Toxicity Value Other Toxicity Value units  \\\n",
       "0  ...                  NaN                        NaN   \n",
       "1  ...                  NaN                        NaN   \n",
       "2  ...                  NaN                        NaN   \n",
       "3  ...                  NaN                        NaN   \n",
       "4  ...                  NaN                        NaN   \n",
       "\n",
       "  Citation for  Toxicity Value Predicted Toxicity Type  \\\n",
       "0                          NaN             90-day oral   \n",
       "1                          NaN             90-day oral   \n",
       "2                          NaN                     NaN   \n",
       "3                          NaN             90-day oral   \n",
       "4                          NaN                     NaN   \n",
       "\n",
       "  Toxicological Endpoint Predicted by Read-Across Predicted Endpoint Value  \\\n",
       "0                                           NOAEL           Not determined   \n",
       "1                                           NOAEL                      7.8   \n",
       "2                                             NaN                      NaN   \n",
       "3                                           NOAEL                      7.8   \n",
       "4                                             NaN                      NaN   \n",
       "\n",
       "  Predicted Endpoint Value Units  \\\n",
       "0                            NaN   \n",
       "1                      mg/kg/day   \n",
       "2                            NaN   \n",
       "3                      mg/kg/day   \n",
       "4                            NaN   \n",
       "\n",
       "   Method or Calculation Used to Derive Target Chemical Endpoint Value  \\\n",
       "0  A 90-day NOAEL for chlorobenzene could not be ...                     \n",
       "1  The NOAEL for 1,2,4-trichlorobenzene was appli...                     \n",
       "2                                                NaN                     \n",
       "3  The NOAEL for 1,2,4-trichlorobenzene was appli...                     \n",
       "4                                                NaN                     \n",
       "\n",
       "  Authors' Rationale for Choosing the Analogues/Category Justification  \\\n",
       "0  The category members were selected for this st...                     \n",
       "1  The category members were selected for this st...                     \n",
       "2  The category members were selected for this st...                     \n",
       "3  The category members were selected for this st...                     \n",
       "4  The category members were selected for this st...                     \n",
       "\n",
       "                            Analogue Evidence Stream  \n",
       "0  Structural_ChemMine-tools_MCS-Tanimoto | Physc...  \n",
       "1  Structural_ChemMine-tools_MCS-Tanimoto | Physc...  \n",
       "2  Structural_ChemMine-tools_MCS-Tanimoto | Physc...  \n",
       "3  Structural_ChemMine-tools_MCS-Tanimoto | Physc...  \n",
       "4  Structural_ChemMine-tools_MCS-Tanimoto | Physc...  \n",
       "\n",
       "[5 rows x 53 columns]"
      ]
     },
     "execution_count": 5,
     "metadata": {},
     "output_type": "execute_result"
    }
   ],
   "source": [
    "df = pd.read_excel(raw_dir+'ICF_extractions_211223.xlsx', index_col=[0])\n",
    "df.head()"
   ]
  },
  {
   "cell_type": "code",
   "execution_count": 6,
   "id": "b9cf0bb3-756f-4287-b38f-7cd2c0693b12",
   "metadata": {},
   "outputs": [
    {
     "data": {
      "text/plain": [
       "Approach \\n(Analogue or Category)\n",
       "Category             550\n",
       "Analogue             132\n",
       "Category/Analogue     51\n",
       "Name: count, dtype: int64"
      ]
     },
     "execution_count": 6,
     "metadata": {},
     "output_type": "execute_result"
    }
   ],
   "source": [
    "df['Approach \\n(Analogue or Category)'].value_counts()"
   ]
  },
  {
   "cell_type": "code",
   "execution_count": 7,
   "id": "b9318bca-e30e-413d-ae91-ac77a4c04a28",
   "metadata": {},
   "outputs": [
    {
     "data": {
      "text/plain": [
       "array(['Journal article', 'US EPA PPRTV',\n",
       "       'OECD IATA case study (developed by EU ToxRisk project [BIAC])',\n",
       "       'Health Canada screening assessment for the Challenge'],\n",
       "      dtype=object)"
      ]
     },
     "execution_count": 7,
     "metadata": {},
     "output_type": "execute_result"
    }
   ],
   "source": [
    "df[df['Approach \\n(Analogue or Category)'] == 'Analogue']['Source (e.g. OECD IATA case study,  U.S. EPA PPRTV, journal article, primary author, etc.)'].unique()"
   ]
  },
  {
   "cell_type": "code",
   "execution_count": 8,
   "id": "2aa448a7-cf6c-4bbb-a4c6-842b6c659016",
   "metadata": {},
   "outputs": [],
   "source": [
    "df1= df[df['Approach \\n(Analogue or Category)'] == 'Analogue']"
   ]
  },
  {
   "cell_type": "code",
   "execution_count": 9,
   "id": "91148e80-5d6f-409e-b6c1-af4b20e0d13f",
   "metadata": {},
   "outputs": [
    {
     "name": "stderr",
     "output_type": "stream",
     "text": [
      "/tmp/ipykernel_1830607/2052842987.py:1: SettingWithCopyWarning: \n",
      "A value is trying to be set on a copy of a slice from a DataFrame.\n",
      "Try using .loc[row_indexer,col_indexer] = value instead\n",
      "\n",
      "See the caveats in the documentation: https://pandas.pydata.org/pandas-docs/stable/user_guide/indexing.html#returning-a-view-versus-a-copy\n",
      "  df1['Substance Role'] = [e.strip() for e in df1['Substance Role']]\n"
     ]
    }
   ],
   "source": [
    "df1['Substance Role'] = [e.strip() for e in df1['Substance Role']]"
   ]
  },
  {
   "cell_type": "code",
   "execution_count": 10,
   "id": "57ce2bae-4ea6-46b0-99f8-fec7da914b78",
   "metadata": {},
   "outputs": [
    {
     "name": "stderr",
     "output_type": "stream",
     "text": [
      "/tmp/ipykernel_1830607/2461384047.py:1: SettingWithCopyWarning: \n",
      "A value is trying to be set on a copy of a slice from a DataFrame.\n",
      "Try using .loc[row_indexer,col_indexer] = value instead\n",
      "\n",
      "See the caveats in the documentation: https://pandas.pydata.org/pandas-docs/stable/user_guide/indexing.html#returning-a-view-versus-a-copy\n",
      "  df1['Substance Role'] = df1['Substance Role'].replace('Source Analgoue','Source Analogue')\n"
     ]
    }
   ],
   "source": [
    "df1['Substance Role'] = df1['Substance Role'].replace('Source Analgoue','Source Analogue')"
   ]
  },
  {
   "cell_type": "code",
   "execution_count": 11,
   "id": "2755a17b-9260-426e-9ca6-8dbc3c114a76",
   "metadata": {},
   "outputs": [
    {
     "data": {
      "text/plain": [
       "array(['Target', 'Source Analogue', 'Candidate Analogue'], dtype=object)"
      ]
     },
     "execution_count": 11,
     "metadata": {},
     "output_type": "execute_result"
    }
   ],
   "source": [
    "df1['Substance Role'].unique()"
   ]
  },
  {
   "cell_type": "code",
   "execution_count": 14,
   "id": "992463b6-3769-44d0-80da-f3816d8dc22a",
   "metadata": {},
   "outputs": [],
   "source": [
    "rax_dict = {}\n",
    "for i,group in df1.groupby(['Index']):\n",
    "    subset = group[['Index','Substance Role', 'DTXSID', 'SMILES']]\n",
    "    k = [e for e in subset['DTXSID']][0]\n",
    "    v = [(a,b) for a,b in zip(subset['DTXSID'], subset['Substance Role']) if b != 'Target']\n",
    "    v1 = [a[0] for a in v]\n",
    "    rax_dict[k] = v1\n",
    "    \n",
    "    "
   ]
  },
  {
   "cell_type": "code",
   "execution_count": 15,
   "id": "508cd2d1-fd20-4f8b-b565-e8e53535008b",
   "metadata": {},
   "outputs": [],
   "source": [
    "rax_df = pd.DataFrame(list(rax_dict.items()), columns = ['target', 'analogue'])"
   ]
  },
  {
   "cell_type": "code",
   "execution_count": 16,
   "id": "3cd85299-4516-4724-92e6-24d8956eaa99",
   "metadata": {},
   "outputs": [],
   "source": [
    "rax_df = rax_df.explode('analogue')"
   ]
  },
  {
   "cell_type": "code",
   "execution_count": 17,
   "id": "4cef4213-d83e-4802-a046-5603a1a4a906",
   "metadata": {},
   "outputs": [
    {
     "data": {
      "text/html": [
       "<div>\n",
       "<style scoped>\n",
       "    .dataframe tbody tr th:only-of-type {\n",
       "        vertical-align: middle;\n",
       "    }\n",
       "\n",
       "    .dataframe tbody tr th {\n",
       "        vertical-align: top;\n",
       "    }\n",
       "\n",
       "    .dataframe thead th {\n",
       "        text-align: right;\n",
       "    }\n",
       "</style>\n",
       "<table border=\"1\" class=\"dataframe\">\n",
       "  <thead>\n",
       "    <tr style=\"text-align: right;\">\n",
       "      <th></th>\n",
       "      <th>target</th>\n",
       "      <th>analogue</th>\n",
       "    </tr>\n",
       "  </thead>\n",
       "  <tbody>\n",
       "    <tr>\n",
       "      <th>0</th>\n",
       "      <td>DTXSID0020232</td>\n",
       "      <td>DTXSID5021336</td>\n",
       "    </tr>\n",
       "    <tr>\n",
       "      <th>0</th>\n",
       "      <td>DTXSID0020232</td>\n",
       "      <td>DTXSID9026132</td>\n",
       "    </tr>\n",
       "    <tr>\n",
       "      <th>0</th>\n",
       "      <td>DTXSID0020232</td>\n",
       "      <td>DTXSID2052281</td>\n",
       "    </tr>\n",
       "    <tr>\n",
       "      <th>1</th>\n",
       "      <td>DTXSID8074312</td>\n",
       "      <td>DTXSID7024372</td>\n",
       "    </tr>\n",
       "    <tr>\n",
       "      <th>1</th>\n",
       "      <td>DTXSID8074312</td>\n",
       "      <td>DTXSID4020959</td>\n",
       "    </tr>\n",
       "  </tbody>\n",
       "</table>\n",
       "</div>"
      ],
      "text/plain": [
       "          target       analogue\n",
       "0  DTXSID0020232  DTXSID5021336\n",
       "0  DTXSID0020232  DTXSID9026132\n",
       "0  DTXSID0020232  DTXSID2052281\n",
       "1  DTXSID8074312  DTXSID7024372\n",
       "1  DTXSID8074312  DTXSID4020959"
      ]
     },
     "execution_count": 17,
     "metadata": {},
     "output_type": "execute_result"
    }
   ],
   "source": [
    "rax_df.head()"
   ]
  },
  {
   "cell_type": "code",
   "execution_count": null,
   "id": "24bd8381-caa9-4634-a3b5-0c9fd8c519ee",
   "metadata": {},
   "outputs": [
    {
     "data": {
      "text/html": [
       "<div>\n",
       "<style scoped>\n",
       "    .dataframe tbody tr th:only-of-type {\n",
       "        vertical-align: middle;\n",
       "    }\n",
       "\n",
       "    .dataframe tbody tr th {\n",
       "        vertical-align: top;\n",
       "    }\n",
       "\n",
       "    .dataframe thead th {\n",
       "        text-align: right;\n",
       "    }\n",
       "</style>\n",
       "<table border=\"1\" class=\"dataframe\">\n",
       "  <thead>\n",
       "    <tr style=\"text-align: right;\">\n",
       "      <th></th>\n",
       "      <th>Substance Role</th>\n",
       "      <th>DTXSID</th>\n",
       "    </tr>\n",
       "  </thead>\n",
       "  <tbody>\n",
       "    <tr>\n",
       "      <th>12</th>\n",
       "      <td>Target</td>\n",
       "      <td>DTXSID0020232</td>\n",
       "    </tr>\n",
       "    <tr>\n",
       "      <th>13</th>\n",
       "      <td>Source Analogue</td>\n",
       "      <td>DTXSID5021336</td>\n",
       "    </tr>\n",
       "    <tr>\n",
       "      <th>14</th>\n",
       "      <td>Candidate Analogue</td>\n",
       "      <td>DTXSID9026132</td>\n",
       "    </tr>\n",
       "    <tr>\n",
       "      <th>15</th>\n",
       "      <td>Candidate Analogue</td>\n",
       "      <td>DTXSID2052281</td>\n",
       "    </tr>\n",
       "  </tbody>\n",
       "</table>\n",
       "</div>"
      ],
      "text/plain": [
       "        Substance Role         DTXSID\n",
       "12              Target  DTXSID0020232\n",
       "13     Source Analogue  DTXSID5021336\n",
       "14  Candidate Analogue  DTXSID9026132\n",
       "15  Candidate Analogue  DTXSID2052281"
      ]
     },
     "execution_count": 12,
     "metadata": {},
     "output_type": "execute_result"
    }
   ],
   "source": [
    "df1[df1['Index'] ==2][['Substance Role', 'DTXSID']]"
   ]
  },
  {
   "cell_type": "code",
   "execution_count": 18,
   "id": "24b18c71-8ca5-4025-ab4f-10f35bf01dbb",
   "metadata": {},
   "outputs": [],
   "source": [
    "my_smi = {k: v for k,v  in zip(df1['DTXSID'], df1['SMILES'])}"
   ]
  },
  {
   "cell_type": "code",
   "execution_count": 19,
   "id": "3c32889f-f923-4efe-a39b-ca0584e2e553",
   "metadata": {},
   "outputs": [],
   "source": [
    "rax_df['target_smi'] = rax_df['target'].apply(lambda x: my_smi[x])"
   ]
  },
  {
   "cell_type": "code",
   "execution_count": 20,
   "id": "4515f9cd-1174-4ba1-999d-59e0bb5fbe91",
   "metadata": {},
   "outputs": [],
   "source": [
    "rax_df['analogue_smi'] = rax_df['analogue'].apply(lambda x: my_smi[x])"
   ]
  },
  {
   "cell_type": "code",
   "execution_count": 21,
   "id": "01f688b7-7356-4c26-81aa-631db01c82db",
   "metadata": {},
   "outputs": [],
   "source": [
    "all_ids = list(set(df1['DTXSID']))"
   ]
  },
  {
   "cell_type": "code",
   "execution_count": 22,
   "id": "a40c6515-2101-4586-bd02-b0de62b07e66",
   "metadata": {},
   "outputs": [
    {
     "data": {
      "text/plain": [
       "88"
      ]
     },
     "execution_count": 22,
     "metadata": {},
     "output_type": "execute_result"
    }
   ],
   "source": [
    "len(all_ids)"
   ]
  },
  {
   "cell_type": "code",
   "execution_count": 23,
   "id": "d45a6e08-ca61-4643-a358-722bfa41dbc9",
   "metadata": {},
   "outputs": [],
   "source": [
    "rax_cases = {}\n",
    "for i,group in df1.groupby(['Index']):\n",
    "    rax_cases[i] = list(group['DTXSID'])"
   ]
  },
  {
   "cell_type": "code",
   "execution_count": 24,
   "id": "cc8631ac-9293-4818-a0c3-a6d11ad4b074",
   "metadata": {},
   "outputs": [],
   "source": [
    "#rax_cases"
   ]
  },
  {
   "cell_type": "code",
   "execution_count": 25,
   "id": "23a85936-505b-4e3b-9d83-9bb29a0ddec7",
   "metadata": {},
   "outputs": [],
   "source": [
    "new_df = pd.DataFrame(index = all_ids, columns = all_ids)\n"
   ]
  },
  {
   "cell_type": "code",
   "execution_count": 26,
   "id": "60a64f41-b928-4f76-910a-0c56a3064fae",
   "metadata": {},
   "outputs": [],
   "source": [
    "new_df2 = new_df.copy()"
   ]
  },
  {
   "cell_type": "code",
   "execution_count": 27,
   "id": "f60c85fd-05a4-4ad3-b4ec-d8277cb6e636",
   "metadata": {},
   "outputs": [],
   "source": [
    "cases = list(rax_cases.values())"
   ]
  },
  {
   "cell_type": "code",
   "execution_count": 28,
   "id": "f4f139a6-846e-4106-aee8-92b4e136df10",
   "metadata": {},
   "outputs": [],
   "source": [
    "#cases"
   ]
  },
  {
   "cell_type": "code",
   "execution_count": 29,
   "id": "ee47a0e8-d0a0-48b7-b460-30c10eec3b32",
   "metadata": {},
   "outputs": [],
   "source": [
    "def update_df(df):\n",
    "    df1 = df.copy()\n",
    "    for i in df1.index:\n",
    "        for c in df1.columns:\n",
    "            if i == c:\n",
    "                df1.loc[i,c] =0\n",
    "            elif any((i in sublist) and (c in sublist) for sublist in cases):\n",
    "                df1.loc[i, c] =0\n",
    "            else:\n",
    "                df1.loc[i, c] = 1\n",
    "    return df1\n",
    "\n",
    "                \n"
   ]
  },
  {
   "cell_type": "code",
   "execution_count": 30,
   "id": "e83db65f-d75e-497f-96e7-91ada0c9c028",
   "metadata": {},
   "outputs": [],
   "source": [
    "updated = update_df(new_df2)"
   ]
  },
  {
   "cell_type": "code",
   "execution_count": 31,
   "id": "0dc6c04b-16f1-451a-be0d-f5b0444c8d4a",
   "metadata": {},
   "outputs": [
    {
     "data": {
      "text/html": [
       "<div>\n",
       "<style scoped>\n",
       "    .dataframe tbody tr th:only-of-type {\n",
       "        vertical-align: middle;\n",
       "    }\n",
       "\n",
       "    .dataframe tbody tr th {\n",
       "        vertical-align: top;\n",
       "    }\n",
       "\n",
       "    .dataframe thead th {\n",
       "        text-align: right;\n",
       "    }\n",
       "</style>\n",
       "<table border=\"1\" class=\"dataframe\">\n",
       "  <thead>\n",
       "    <tr style=\"text-align: right;\">\n",
       "      <th></th>\n",
       "      <th>DTXSID3042219</th>\n",
       "      <th>DTXSID0059746</th>\n",
       "      <th>DTXSID4025909</th>\n",
       "      <th>DTXSID5021336</th>\n",
       "      <th>DTXSID5024479</th>\n",
       "      <th>DTXSID80168576</th>\n",
       "      <th>DTXSID3024497</th>\n",
       "      <th>DTXSID7047221</th>\n",
       "      <th>DTXSID5024346</th>\n",
       "      <th>DTXSID3020207</th>\n",
       "      <th>...</th>\n",
       "      <th>DTXSID8074312</th>\n",
       "      <th>DTXSID6025355</th>\n",
       "      <th>DTXSID7020762</th>\n",
       "      <th>DTXSID3020833</th>\n",
       "      <th>DTXSID5039224</th>\n",
       "      <th>DTXSID5024051</th>\n",
       "      <th>DTXSID0028030</th>\n",
       "      <th>DTXSID0021917</th>\n",
       "      <th>DTXSID0020494</th>\n",
       "      <th>DTXSID6022472</th>\n",
       "    </tr>\n",
       "  </thead>\n",
       "  <tbody>\n",
       "    <tr>\n",
       "      <th>DTXSID3042219</th>\n",
       "      <td>0</td>\n",
       "      <td>1</td>\n",
       "      <td>1</td>\n",
       "      <td>1</td>\n",
       "      <td>1</td>\n",
       "      <td>1</td>\n",
       "      <td>1</td>\n",
       "      <td>1</td>\n",
       "      <td>1</td>\n",
       "      <td>1</td>\n",
       "      <td>...</td>\n",
       "      <td>1</td>\n",
       "      <td>1</td>\n",
       "      <td>1</td>\n",
       "      <td>1</td>\n",
       "      <td>1</td>\n",
       "      <td>1</td>\n",
       "      <td>1</td>\n",
       "      <td>1</td>\n",
       "      <td>1</td>\n",
       "      <td>1</td>\n",
       "    </tr>\n",
       "    <tr>\n",
       "      <th>DTXSID0059746</th>\n",
       "      <td>1</td>\n",
       "      <td>0</td>\n",
       "      <td>1</td>\n",
       "      <td>1</td>\n",
       "      <td>1</td>\n",
       "      <td>1</td>\n",
       "      <td>1</td>\n",
       "      <td>1</td>\n",
       "      <td>1</td>\n",
       "      <td>1</td>\n",
       "      <td>...</td>\n",
       "      <td>1</td>\n",
       "      <td>1</td>\n",
       "      <td>1</td>\n",
       "      <td>1</td>\n",
       "      <td>1</td>\n",
       "      <td>1</td>\n",
       "      <td>1</td>\n",
       "      <td>1</td>\n",
       "      <td>1</td>\n",
       "      <td>1</td>\n",
       "    </tr>\n",
       "    <tr>\n",
       "      <th>DTXSID4025909</th>\n",
       "      <td>1</td>\n",
       "      <td>1</td>\n",
       "      <td>0</td>\n",
       "      <td>1</td>\n",
       "      <td>1</td>\n",
       "      <td>1</td>\n",
       "      <td>1</td>\n",
       "      <td>1</td>\n",
       "      <td>1</td>\n",
       "      <td>0</td>\n",
       "      <td>...</td>\n",
       "      <td>1</td>\n",
       "      <td>1</td>\n",
       "      <td>1</td>\n",
       "      <td>1</td>\n",
       "      <td>1</td>\n",
       "      <td>1</td>\n",
       "      <td>1</td>\n",
       "      <td>1</td>\n",
       "      <td>1</td>\n",
       "      <td>1</td>\n",
       "    </tr>\n",
       "    <tr>\n",
       "      <th>DTXSID5021336</th>\n",
       "      <td>1</td>\n",
       "      <td>1</td>\n",
       "      <td>1</td>\n",
       "      <td>0</td>\n",
       "      <td>1</td>\n",
       "      <td>1</td>\n",
       "      <td>1</td>\n",
       "      <td>1</td>\n",
       "      <td>1</td>\n",
       "      <td>1</td>\n",
       "      <td>...</td>\n",
       "      <td>1</td>\n",
       "      <td>1</td>\n",
       "      <td>1</td>\n",
       "      <td>1</td>\n",
       "      <td>1</td>\n",
       "      <td>1</td>\n",
       "      <td>1</td>\n",
       "      <td>1</td>\n",
       "      <td>1</td>\n",
       "      <td>1</td>\n",
       "    </tr>\n",
       "    <tr>\n",
       "      <th>DTXSID5024479</th>\n",
       "      <td>1</td>\n",
       "      <td>1</td>\n",
       "      <td>1</td>\n",
       "      <td>1</td>\n",
       "      <td>0</td>\n",
       "      <td>1</td>\n",
       "      <td>1</td>\n",
       "      <td>1</td>\n",
       "      <td>1</td>\n",
       "      <td>1</td>\n",
       "      <td>...</td>\n",
       "      <td>1</td>\n",
       "      <td>1</td>\n",
       "      <td>1</td>\n",
       "      <td>1</td>\n",
       "      <td>1</td>\n",
       "      <td>1</td>\n",
       "      <td>1</td>\n",
       "      <td>1</td>\n",
       "      <td>1</td>\n",
       "      <td>1</td>\n",
       "    </tr>\n",
       "    <tr>\n",
       "      <th>...</th>\n",
       "      <td>...</td>\n",
       "      <td>...</td>\n",
       "      <td>...</td>\n",
       "      <td>...</td>\n",
       "      <td>...</td>\n",
       "      <td>...</td>\n",
       "      <td>...</td>\n",
       "      <td>...</td>\n",
       "      <td>...</td>\n",
       "      <td>...</td>\n",
       "      <td>...</td>\n",
       "      <td>...</td>\n",
       "      <td>...</td>\n",
       "      <td>...</td>\n",
       "      <td>...</td>\n",
       "      <td>...</td>\n",
       "      <td>...</td>\n",
       "      <td>...</td>\n",
       "      <td>...</td>\n",
       "      <td>...</td>\n",
       "      <td>...</td>\n",
       "    </tr>\n",
       "    <tr>\n",
       "      <th>DTXSID5024051</th>\n",
       "      <td>1</td>\n",
       "      <td>1</td>\n",
       "      <td>1</td>\n",
       "      <td>1</td>\n",
       "      <td>1</td>\n",
       "      <td>1</td>\n",
       "      <td>1</td>\n",
       "      <td>1</td>\n",
       "      <td>1</td>\n",
       "      <td>1</td>\n",
       "      <td>...</td>\n",
       "      <td>1</td>\n",
       "      <td>1</td>\n",
       "      <td>1</td>\n",
       "      <td>1</td>\n",
       "      <td>1</td>\n",
       "      <td>0</td>\n",
       "      <td>1</td>\n",
       "      <td>1</td>\n",
       "      <td>0</td>\n",
       "      <td>1</td>\n",
       "    </tr>\n",
       "    <tr>\n",
       "      <th>DTXSID0028030</th>\n",
       "      <td>1</td>\n",
       "      <td>1</td>\n",
       "      <td>1</td>\n",
       "      <td>1</td>\n",
       "      <td>1</td>\n",
       "      <td>1</td>\n",
       "      <td>1</td>\n",
       "      <td>1</td>\n",
       "      <td>1</td>\n",
       "      <td>1</td>\n",
       "      <td>...</td>\n",
       "      <td>1</td>\n",
       "      <td>1</td>\n",
       "      <td>1</td>\n",
       "      <td>1</td>\n",
       "      <td>1</td>\n",
       "      <td>1</td>\n",
       "      <td>0</td>\n",
       "      <td>1</td>\n",
       "      <td>1</td>\n",
       "      <td>1</td>\n",
       "    </tr>\n",
       "    <tr>\n",
       "      <th>DTXSID0021917</th>\n",
       "      <td>1</td>\n",
       "      <td>1</td>\n",
       "      <td>1</td>\n",
       "      <td>1</td>\n",
       "      <td>1</td>\n",
       "      <td>1</td>\n",
       "      <td>1</td>\n",
       "      <td>1</td>\n",
       "      <td>1</td>\n",
       "      <td>1</td>\n",
       "      <td>...</td>\n",
       "      <td>1</td>\n",
       "      <td>1</td>\n",
       "      <td>1</td>\n",
       "      <td>1</td>\n",
       "      <td>1</td>\n",
       "      <td>1</td>\n",
       "      <td>1</td>\n",
       "      <td>0</td>\n",
       "      <td>1</td>\n",
       "      <td>1</td>\n",
       "    </tr>\n",
       "    <tr>\n",
       "      <th>DTXSID0020494</th>\n",
       "      <td>1</td>\n",
       "      <td>1</td>\n",
       "      <td>1</td>\n",
       "      <td>1</td>\n",
       "      <td>1</td>\n",
       "      <td>1</td>\n",
       "      <td>1</td>\n",
       "      <td>1</td>\n",
       "      <td>1</td>\n",
       "      <td>1</td>\n",
       "      <td>...</td>\n",
       "      <td>1</td>\n",
       "      <td>1</td>\n",
       "      <td>1</td>\n",
       "      <td>1</td>\n",
       "      <td>1</td>\n",
       "      <td>0</td>\n",
       "      <td>1</td>\n",
       "      <td>1</td>\n",
       "      <td>0</td>\n",
       "      <td>1</td>\n",
       "    </tr>\n",
       "    <tr>\n",
       "      <th>DTXSID6022472</th>\n",
       "      <td>1</td>\n",
       "      <td>1</td>\n",
       "      <td>1</td>\n",
       "      <td>1</td>\n",
       "      <td>1</td>\n",
       "      <td>1</td>\n",
       "      <td>1</td>\n",
       "      <td>1</td>\n",
       "      <td>1</td>\n",
       "      <td>1</td>\n",
       "      <td>...</td>\n",
       "      <td>1</td>\n",
       "      <td>1</td>\n",
       "      <td>1</td>\n",
       "      <td>1</td>\n",
       "      <td>1</td>\n",
       "      <td>1</td>\n",
       "      <td>1</td>\n",
       "      <td>1</td>\n",
       "      <td>1</td>\n",
       "      <td>0</td>\n",
       "    </tr>\n",
       "  </tbody>\n",
       "</table>\n",
       "<p>88 rows × 88 columns</p>\n",
       "</div>"
      ],
      "text/plain": [
       "              DTXSID3042219 DTXSID0059746 DTXSID4025909 DTXSID5021336  \\\n",
       "DTXSID3042219             0             1             1             1   \n",
       "DTXSID0059746             1             0             1             1   \n",
       "DTXSID4025909             1             1             0             1   \n",
       "DTXSID5021336             1             1             1             0   \n",
       "DTXSID5024479             1             1             1             1   \n",
       "...                     ...           ...           ...           ...   \n",
       "DTXSID5024051             1             1             1             1   \n",
       "DTXSID0028030             1             1             1             1   \n",
       "DTXSID0021917             1             1             1             1   \n",
       "DTXSID0020494             1             1             1             1   \n",
       "DTXSID6022472             1             1             1             1   \n",
       "\n",
       "              DTXSID5024479 DTXSID80168576 DTXSID3024497 DTXSID7047221  \\\n",
       "DTXSID3042219             1              1             1             1   \n",
       "DTXSID0059746             1              1             1             1   \n",
       "DTXSID4025909             1              1             1             1   \n",
       "DTXSID5021336             1              1             1             1   \n",
       "DTXSID5024479             0              1             1             1   \n",
       "...                     ...            ...           ...           ...   \n",
       "DTXSID5024051             1              1             1             1   \n",
       "DTXSID0028030             1              1             1             1   \n",
       "DTXSID0021917             1              1             1             1   \n",
       "DTXSID0020494             1              1             1             1   \n",
       "DTXSID6022472             1              1             1             1   \n",
       "\n",
       "              DTXSID5024346 DTXSID3020207  ... DTXSID8074312 DTXSID6025355  \\\n",
       "DTXSID3042219             1             1  ...             1             1   \n",
       "DTXSID0059746             1             1  ...             1             1   \n",
       "DTXSID4025909             1             0  ...             1             1   \n",
       "DTXSID5021336             1             1  ...             1             1   \n",
       "DTXSID5024479             1             1  ...             1             1   \n",
       "...                     ...           ...  ...           ...           ...   \n",
       "DTXSID5024051             1             1  ...             1             1   \n",
       "DTXSID0028030             1             1  ...             1             1   \n",
       "DTXSID0021917             1             1  ...             1             1   \n",
       "DTXSID0020494             1             1  ...             1             1   \n",
       "DTXSID6022472             1             1  ...             1             1   \n",
       "\n",
       "              DTXSID7020762 DTXSID3020833 DTXSID5039224 DTXSID5024051  \\\n",
       "DTXSID3042219             1             1             1             1   \n",
       "DTXSID0059746             1             1             1             1   \n",
       "DTXSID4025909             1             1             1             1   \n",
       "DTXSID5021336             1             1             1             1   \n",
       "DTXSID5024479             1             1             1             1   \n",
       "...                     ...           ...           ...           ...   \n",
       "DTXSID5024051             1             1             1             0   \n",
       "DTXSID0028030             1             1             1             1   \n",
       "DTXSID0021917             1             1             1             1   \n",
       "DTXSID0020494             1             1             1             0   \n",
       "DTXSID6022472             1             1             1             1   \n",
       "\n",
       "              DTXSID0028030 DTXSID0021917 DTXSID0020494 DTXSID6022472  \n",
       "DTXSID3042219             1             1             1             1  \n",
       "DTXSID0059746             1             1             1             1  \n",
       "DTXSID4025909             1             1             1             1  \n",
       "DTXSID5021336             1             1             1             1  \n",
       "DTXSID5024479             1             1             1             1  \n",
       "...                     ...           ...           ...           ...  \n",
       "DTXSID5024051             1             1             0             1  \n",
       "DTXSID0028030             0             1             1             1  \n",
       "DTXSID0021917             1             0             1             1  \n",
       "DTXSID0020494             1             1             0             1  \n",
       "DTXSID6022472             1             1             1             0  \n",
       "\n",
       "[88 rows x 88 columns]"
      ]
     },
     "execution_count": 31,
     "metadata": {},
     "output_type": "execute_result"
    }
   ],
   "source": [
    "updated"
   ]
  },
  {
   "cell_type": "code",
   "execution_count": 32,
   "id": "4f6e3f70-ca8c-48e6-a157-0314e54006d0",
   "metadata": {},
   "outputs": [],
   "source": [
    "import numpy as np"
   ]
  },
  {
   "cell_type": "code",
   "execution_count": 33,
   "id": "2077ed42-e318-4786-b779-fb98292964bc",
   "metadata": {},
   "outputs": [],
   "source": [
    "def isSymmetric(mat, N):\n",
    "    transmat = np.array(mat).transpose()\n",
    "    if np.array_equal(mat, transmat):\n",
    "        return True\n",
    "    return False"
   ]
  },
  {
   "cell_type": "code",
   "execution_count": 34,
   "id": "74c078be-7e28-4e4b-96b7-66fd14877419",
   "metadata": {},
   "outputs": [
    {
     "data": {
      "text/plain": [
       "True"
      ]
     },
     "execution_count": 34,
     "metadata": {},
     "output_type": "execute_result"
    }
   ],
   "source": [
    "isSymmetric(updated.values, 88)"
   ]
  },
  {
   "cell_type": "code",
   "execution_count": 35,
   "id": "b9e21a1c-ed46-411d-bf36-ac09173275d2",
   "metadata": {},
   "outputs": [],
   "source": [
    "def remove_upper_triangle(df):\n",
    "    # Get the upper triangle mask\n",
    "    mask = pd.DataFrame(np.triu(np.ones(df.shape), k=0), columns=df.columns, index=df.index)\n",
    "\n",
    "    # Set upper triangle values to NaN\n",
    "    df = df.where(mask == 0)\n",
    "\n",
    "    return df"
   ]
  },
  {
   "cell_type": "code",
   "execution_count": 36,
   "id": "cde2fea0-34af-4a90-ba91-5c575da1bd6a",
   "metadata": {},
   "outputs": [],
   "source": [
    "new_df3 = remove_upper_triangle(updated)"
   ]
  },
  {
   "cell_type": "code",
   "execution_count": 37,
   "id": "e70b1325-6086-4246-acce-03e7cb263149",
   "metadata": {},
   "outputs": [],
   "source": [
    "new_df3 =new_df3.unstack().reset_index().dropna()"
   ]
  },
  {
   "cell_type": "code",
   "execution_count": 38,
   "id": "56774cac-9926-4687-a797-84f3e03f581a",
   "metadata": {},
   "outputs": [
    {
     "data": {
      "text/html": [
       "<div>\n",
       "<style scoped>\n",
       "    .dataframe tbody tr th:only-of-type {\n",
       "        vertical-align: middle;\n",
       "    }\n",
       "\n",
       "    .dataframe tbody tr th {\n",
       "        vertical-align: top;\n",
       "    }\n",
       "\n",
       "    .dataframe thead th {\n",
       "        text-align: right;\n",
       "    }\n",
       "</style>\n",
       "<table border=\"1\" class=\"dataframe\">\n",
       "  <thead>\n",
       "    <tr style=\"text-align: right;\">\n",
       "      <th></th>\n",
       "      <th>level_0</th>\n",
       "      <th>level_1</th>\n",
       "      <th>0</th>\n",
       "    </tr>\n",
       "  </thead>\n",
       "  <tbody>\n",
       "    <tr>\n",
       "      <th>1</th>\n",
       "      <td>DTXSID3042219</td>\n",
       "      <td>DTXSID0059746</td>\n",
       "      <td>1</td>\n",
       "    </tr>\n",
       "    <tr>\n",
       "      <th>2</th>\n",
       "      <td>DTXSID3042219</td>\n",
       "      <td>DTXSID4025909</td>\n",
       "      <td>1</td>\n",
       "    </tr>\n",
       "    <tr>\n",
       "      <th>3</th>\n",
       "      <td>DTXSID3042219</td>\n",
       "      <td>DTXSID5021336</td>\n",
       "      <td>1</td>\n",
       "    </tr>\n",
       "    <tr>\n",
       "      <th>4</th>\n",
       "      <td>DTXSID3042219</td>\n",
       "      <td>DTXSID5024479</td>\n",
       "      <td>1</td>\n",
       "    </tr>\n",
       "    <tr>\n",
       "      <th>5</th>\n",
       "      <td>DTXSID3042219</td>\n",
       "      <td>DTXSID80168576</td>\n",
       "      <td>1</td>\n",
       "    </tr>\n",
       "    <tr>\n",
       "      <th>...</th>\n",
       "      <td>...</td>\n",
       "      <td>...</td>\n",
       "      <td>...</td>\n",
       "    </tr>\n",
       "    <tr>\n",
       "      <th>7478</th>\n",
       "      <td>DTXSID0028030</td>\n",
       "      <td>DTXSID0020494</td>\n",
       "      <td>1</td>\n",
       "    </tr>\n",
       "    <tr>\n",
       "      <th>7479</th>\n",
       "      <td>DTXSID0028030</td>\n",
       "      <td>DTXSID6022472</td>\n",
       "      <td>1</td>\n",
       "    </tr>\n",
       "    <tr>\n",
       "      <th>7566</th>\n",
       "      <td>DTXSID0021917</td>\n",
       "      <td>DTXSID0020494</td>\n",
       "      <td>1</td>\n",
       "    </tr>\n",
       "    <tr>\n",
       "      <th>7567</th>\n",
       "      <td>DTXSID0021917</td>\n",
       "      <td>DTXSID6022472</td>\n",
       "      <td>1</td>\n",
       "    </tr>\n",
       "    <tr>\n",
       "      <th>7655</th>\n",
       "      <td>DTXSID0020494</td>\n",
       "      <td>DTXSID6022472</td>\n",
       "      <td>1</td>\n",
       "    </tr>\n",
       "  </tbody>\n",
       "</table>\n",
       "<p>3828 rows × 3 columns</p>\n",
       "</div>"
      ],
      "text/plain": [
       "            level_0         level_1  0\n",
       "1     DTXSID3042219   DTXSID0059746  1\n",
       "2     DTXSID3042219   DTXSID4025909  1\n",
       "3     DTXSID3042219   DTXSID5021336  1\n",
       "4     DTXSID3042219   DTXSID5024479  1\n",
       "5     DTXSID3042219  DTXSID80168576  1\n",
       "...             ...             ... ..\n",
       "7478  DTXSID0028030   DTXSID0020494  1\n",
       "7479  DTXSID0028030   DTXSID6022472  1\n",
       "7566  DTXSID0021917   DTXSID0020494  1\n",
       "7567  DTXSID0021917   DTXSID6022472  1\n",
       "7655  DTXSID0020494   DTXSID6022472  1\n",
       "\n",
       "[3828 rows x 3 columns]"
      ]
     },
     "execution_count": 38,
     "metadata": {},
     "output_type": "execute_result"
    }
   ],
   "source": [
    "new_df3"
   ]
  },
  {
   "cell_type": "code",
   "execution_count": 39,
   "id": "8358192f-1b1f-41af-acc0-cb5a28407c07",
   "metadata": {},
   "outputs": [],
   "source": [
    "new_df3.columns = ['Target', 'Analogue', 'Label']"
   ]
  },
  {
   "cell_type": "code",
   "execution_count": 40,
   "id": "f1608e9b-dec4-4fec-a6a2-440daa97f1c0",
   "metadata": {},
   "outputs": [],
   "source": [
    "new_df3 = new_df3[new_df3['Target'] != new_df3['Analogue']]"
   ]
  },
  {
   "cell_type": "code",
   "execution_count": 41,
   "id": "92f232c2-b0af-42bd-b370-83a089bfea4c",
   "metadata": {},
   "outputs": [
    {
     "data": {
      "text/plain": [
       "Label\n",
       "1    3667\n",
       "0     161\n",
       "Name: count, dtype: int64"
      ]
     },
     "execution_count": 41,
     "metadata": {},
     "output_type": "execute_result"
    }
   ],
   "source": [
    "new_df3['Label'].value_counts()"
   ]
  },
  {
   "cell_type": "code",
   "execution_count": 42,
   "id": "79a38be9-8e1f-4a6b-be46-de7028d02f06",
   "metadata": {},
   "outputs": [],
   "source": [
    "new_df3['analogue_smi'] = new_df3['Analogue'].apply(lambda x: my_smi[x])\n",
    "new_df3['target_smi'] = new_df3['Target'].apply(lambda x: my_smi[x])\n"
   ]
  },
  {
   "cell_type": "code",
   "execution_count": 43,
   "id": "edaecba6-7f74-4528-98b5-a32152b9bae8",
   "metadata": {},
   "outputs": [],
   "source": [
    "from rdkit import DataStructs\n",
    "from rdkit.Chem import AllChem"
   ]
  },
  {
   "cell_type": "code",
   "execution_count": 44,
   "id": "0ed617f2-ce45-4552-b178-fb3ceb3f1c15",
   "metadata": {},
   "outputs": [],
   "source": [
    "fpgen = AllChem.GetMorganGenerator(radius=3, fpSize=1024)"
   ]
  },
  {
   "cell_type": "code",
   "execution_count": 45,
   "id": "31d2c30b-c0b9-4d1d-a635-395bed8f289b",
   "metadata": {},
   "outputs": [],
   "source": [
    "new_df3['analogue_mol'] = [Chem.MolFromSmiles(e) for e in new_df3['analogue_smi']]\n",
    "\n",
    "new_df3['target_mol'] = [Chem.MolFromSmiles(e) for e in new_df3['target_smi']]\n"
   ]
  },
  {
   "cell_type": "code",
   "execution_count": 46,
   "id": "37eb5428-982a-47d2-9f26-86f4aaa7ebd2",
   "metadata": {},
   "outputs": [],
   "source": [
    "new_df3['fps_target'] = new_df3['target_mol'].apply(lambda x: fpgen.GetFingerprint(x))"
   ]
  },
  {
   "cell_type": "code",
   "execution_count": 47,
   "id": "03de3be8-4d56-4f42-8aa9-f55d83f30be8",
   "metadata": {},
   "outputs": [],
   "source": [
    "new_df3['fps_analogue'] = new_df3['analogue_mol'].apply(lambda x: fpgen.GetFingerprint(x))"
   ]
  },
  {
   "cell_type": "code",
   "execution_count": 74,
   "id": "20833bbd-b148-47dd-95fb-0cf329a3ef92",
   "metadata": {},
   "outputs": [],
   "source": [
    "new_df3['fps_target'] = [np.array(AllChem.GetMorganFingerprintAsBitVect(i,3,1024)) for i in new_df3['target_mol']]"
   ]
  },
  {
   "cell_type": "code",
   "execution_count": 75,
   "id": "d4d42dd7-89ce-44d0-901f-09e259f194fd",
   "metadata": {},
   "outputs": [],
   "source": [
    "new_df3['fps_analogue'] = [np.array(AllChem.GetMorganFingerprintAsBitVect(i,3,1024)) for i in new_df3['analogue_mol']] "
   ]
  },
  {
   "cell_type": "code",
   "execution_count": 76,
   "id": "75c86722-9e22-4346-92d1-572d4f7221c0",
   "metadata": {},
   "outputs": [],
   "source": [
    "similar_pairs = new_df3[new_df3['Label'] == 0]\n",
    "dissimilar_pairs = new_df3[new_df3['Label'] == 1]\n",
    "\n",
    "# Step 2: Downsample dissimilar pairs\n",
    "downsampled_dissimilar_pairs = dissimilar_pairs.sample(n=len(similar_pairs), replace=False)\n",
    "\n",
    "# Step 3: Combine balanced pairs\n",
    "balanced_df = pd.concat([similar_pairs, downsampled_dissimilar_pairs])\n",
    "\n",
    "# Step 4: Shuffle the dataset\n",
    "balanced_df = balanced_df.sample(frac=1, random_state=42)"
   ]
  },
  {
   "cell_type": "code",
   "execution_count": 77,
   "id": "50e10ad5-fb0f-4a02-b46b-2170e94f1ccf",
   "metadata": {},
   "outputs": [
    {
     "data": {
      "text/plain": [
       "Label\n",
       "1    161\n",
       "0    161\n",
       "Name: count, dtype: int64"
      ]
     },
     "execution_count": 77,
     "metadata": {},
     "output_type": "execute_result"
    }
   ],
   "source": [
    "balanced_df['Label'].value_counts()"
   ]
  },
  {
   "cell_type": "code",
   "execution_count": 112,
   "id": "1574c91d-9f25-4647-ac6d-3ff12aafea13",
   "metadata": {},
   "outputs": [],
   "source": [
    "balanced_df['Label'] = balanced_df['Label'].apply(lambda x: -1 if x==1 else 1)"
   ]
  },
  {
   "cell_type": "code",
   "execution_count": 85,
   "id": "29ec1fad-7e6f-4c1c-8bb8-7fc568b70c0c",
   "metadata": {},
   "outputs": [],
   "source": [
    "#balanced_df['fps_target'].values.tolist()"
   ]
  },
  {
   "cell_type": "code",
   "execution_count": 56,
   "id": "bbf00318-d444-4ef1-b8ba-f24e549648e3",
   "metadata": {},
   "outputs": [],
   "source": [
    "from sklearn.model_selection import train_test_split\n"
   ]
  },
  {
   "cell_type": "code",
   "execution_count": 148,
   "id": "5e5c699c-e445-4714-b169-48b26896f34c",
   "metadata": {},
   "outputs": [],
   "source": [
    "X_target = balanced_df['fps_target'].values.tolist()\n",
    "X_analogue = balanced_df['fps_analogue'].values.tolist()\n",
    "y = balanced_df['Label']"
   ]
  },
  {
   "cell_type": "code",
   "execution_count": 149,
   "id": "22a3eb55-6234-4fd3-bb92-056c80dc774a",
   "metadata": {},
   "outputs": [],
   "source": [
    "X_target_train, X_target_val, X_analogue_train, X_analogue_val, y_train, y_val = train_test_split(\n",
    "    X_target, X_analogue, y, test_size=0.2, random_state=42\n",
    ")\n"
   ]
  },
  {
   "cell_type": "code",
   "execution_count": 150,
   "id": "9636e176-f20e-4892-a2b3-1d1172f7a8db",
   "metadata": {},
   "outputs": [],
   "source": [
    "from sklearn.svm import SVC"
   ]
  },
  {
   "cell_type": "code",
   "execution_count": 151,
   "id": "483aef1b-be03-4ee2-9545-fcdd9bb9a35b",
   "metadata": {},
   "outputs": [],
   "source": [
    "model = SVC(kernel='rbf')"
   ]
  },
  {
   "cell_type": "code",
   "execution_count": 152,
   "id": "7f60d50a-c076-4b97-a1a5-3cac43e33ff8",
   "metadata": {},
   "outputs": [
    {
     "data": {
      "text/plain": [
       "array([0, 0, 0, ..., 0, 0, 1])"
      ]
     },
     "execution_count": 152,
     "metadata": {},
     "output_type": "execute_result"
    }
   ],
   "source": [
    "np.concatenate([X_target_train[0], X_analogue_train[0]])"
   ]
  },
  {
   "cell_type": "code",
   "execution_count": 153,
   "id": "d87f8bc2-c6df-4c72-85fd-2bdd3a716886",
   "metadata": {},
   "outputs": [],
   "source": [
    "X_train = [(X_target_train[i]- X_analogue_train[i]) for i in range(len(X_target_train))]\n"
   ]
  },
  {
   "cell_type": "code",
   "execution_count": 154,
   "id": "94f05913-c7d0-4c02-b3b9-adfbb05d2ec1",
   "metadata": {},
   "outputs": [],
   "source": [
    "#X_train"
   ]
  },
  {
   "cell_type": "code",
   "execution_count": 155,
   "id": "e48f67f6-d033-47a5-bda7-4212001a04b9",
   "metadata": {},
   "outputs": [],
   "source": [
    "y_train = y_train.astype(int).values"
   ]
  },
  {
   "cell_type": "code",
   "execution_count": 156,
   "id": "e0b431c7-d396-43db-86af-7ff13d4c5dd2",
   "metadata": {},
   "outputs": [
    {
     "data": {
      "text/html": [
       "<style>#sk-container-id-4 {\n",
       "  /* Definition of color scheme common for light and dark mode */\n",
       "  --sklearn-color-text: black;\n",
       "  --sklearn-color-line: gray;\n",
       "  /* Definition of color scheme for unfitted estimators */\n",
       "  --sklearn-color-unfitted-level-0: #fff5e6;\n",
       "  --sklearn-color-unfitted-level-1: #f6e4d2;\n",
       "  --sklearn-color-unfitted-level-2: #ffe0b3;\n",
       "  --sklearn-color-unfitted-level-3: chocolate;\n",
       "  /* Definition of color scheme for fitted estimators */\n",
       "  --sklearn-color-fitted-level-0: #f0f8ff;\n",
       "  --sklearn-color-fitted-level-1: #d4ebff;\n",
       "  --sklearn-color-fitted-level-2: #b3dbfd;\n",
       "  --sklearn-color-fitted-level-3: cornflowerblue;\n",
       "\n",
       "  /* Specific color for light theme */\n",
       "  --sklearn-color-text-on-default-background: var(--sg-text-color, var(--theme-code-foreground, var(--jp-content-font-color1, black)));\n",
       "  --sklearn-color-background: var(--sg-background-color, var(--theme-background, var(--jp-layout-color0, white)));\n",
       "  --sklearn-color-border-box: var(--sg-text-color, var(--theme-code-foreground, var(--jp-content-font-color1, black)));\n",
       "  --sklearn-color-icon: #696969;\n",
       "\n",
       "  @media (prefers-color-scheme: dark) {\n",
       "    /* Redefinition of color scheme for dark theme */\n",
       "    --sklearn-color-text-on-default-background: var(--sg-text-color, var(--theme-code-foreground, var(--jp-content-font-color1, white)));\n",
       "    --sklearn-color-background: var(--sg-background-color, var(--theme-background, var(--jp-layout-color0, #111)));\n",
       "    --sklearn-color-border-box: var(--sg-text-color, var(--theme-code-foreground, var(--jp-content-font-color1, white)));\n",
       "    --sklearn-color-icon: #878787;\n",
       "  }\n",
       "}\n",
       "\n",
       "#sk-container-id-4 {\n",
       "  color: var(--sklearn-color-text);\n",
       "}\n",
       "\n",
       "#sk-container-id-4 pre {\n",
       "  padding: 0;\n",
       "}\n",
       "\n",
       "#sk-container-id-4 input.sk-hidden--visually {\n",
       "  border: 0;\n",
       "  clip: rect(1px 1px 1px 1px);\n",
       "  clip: rect(1px, 1px, 1px, 1px);\n",
       "  height: 1px;\n",
       "  margin: -1px;\n",
       "  overflow: hidden;\n",
       "  padding: 0;\n",
       "  position: absolute;\n",
       "  width: 1px;\n",
       "}\n",
       "\n",
       "#sk-container-id-4 div.sk-dashed-wrapped {\n",
       "  border: 1px dashed var(--sklearn-color-line);\n",
       "  margin: 0 0.4em 0.5em 0.4em;\n",
       "  box-sizing: border-box;\n",
       "  padding-bottom: 0.4em;\n",
       "  background-color: var(--sklearn-color-background);\n",
       "}\n",
       "\n",
       "#sk-container-id-4 div.sk-container {\n",
       "  /* jupyter's `normalize.less` sets `[hidden] { display: none; }`\n",
       "     but bootstrap.min.css set `[hidden] { display: none !important; }`\n",
       "     so we also need the `!important` here to be able to override the\n",
       "     default hidden behavior on the sphinx rendered scikit-learn.org.\n",
       "     See: https://github.com/scikit-learn/scikit-learn/issues/21755 */\n",
       "  display: inline-block !important;\n",
       "  position: relative;\n",
       "}\n",
       "\n",
       "#sk-container-id-4 div.sk-text-repr-fallback {\n",
       "  display: none;\n",
       "}\n",
       "\n",
       "div.sk-parallel-item,\n",
       "div.sk-serial,\n",
       "div.sk-item {\n",
       "  /* draw centered vertical line to link estimators */\n",
       "  background-image: linear-gradient(var(--sklearn-color-text-on-default-background), var(--sklearn-color-text-on-default-background));\n",
       "  background-size: 2px 100%;\n",
       "  background-repeat: no-repeat;\n",
       "  background-position: center center;\n",
       "}\n",
       "\n",
       "/* Parallel-specific style estimator block */\n",
       "\n",
       "#sk-container-id-4 div.sk-parallel-item::after {\n",
       "  content: \"\";\n",
       "  width: 100%;\n",
       "  border-bottom: 2px solid var(--sklearn-color-text-on-default-background);\n",
       "  flex-grow: 1;\n",
       "}\n",
       "\n",
       "#sk-container-id-4 div.sk-parallel {\n",
       "  display: flex;\n",
       "  align-items: stretch;\n",
       "  justify-content: center;\n",
       "  background-color: var(--sklearn-color-background);\n",
       "  position: relative;\n",
       "}\n",
       "\n",
       "#sk-container-id-4 div.sk-parallel-item {\n",
       "  display: flex;\n",
       "  flex-direction: column;\n",
       "}\n",
       "\n",
       "#sk-container-id-4 div.sk-parallel-item:first-child::after {\n",
       "  align-self: flex-end;\n",
       "  width: 50%;\n",
       "}\n",
       "\n",
       "#sk-container-id-4 div.sk-parallel-item:last-child::after {\n",
       "  align-self: flex-start;\n",
       "  width: 50%;\n",
       "}\n",
       "\n",
       "#sk-container-id-4 div.sk-parallel-item:only-child::after {\n",
       "  width: 0;\n",
       "}\n",
       "\n",
       "/* Serial-specific style estimator block */\n",
       "\n",
       "#sk-container-id-4 div.sk-serial {\n",
       "  display: flex;\n",
       "  flex-direction: column;\n",
       "  align-items: center;\n",
       "  background-color: var(--sklearn-color-background);\n",
       "  padding-right: 1em;\n",
       "  padding-left: 1em;\n",
       "}\n",
       "\n",
       "\n",
       "/* Toggleable style: style used for estimator/Pipeline/ColumnTransformer box that is\n",
       "clickable and can be expanded/collapsed.\n",
       "- Pipeline and ColumnTransformer use this feature and define the default style\n",
       "- Estimators will overwrite some part of the style using the `sk-estimator` class\n",
       "*/\n",
       "\n",
       "/* Pipeline and ColumnTransformer style (default) */\n",
       "\n",
       "#sk-container-id-4 div.sk-toggleable {\n",
       "  /* Default theme specific background. It is overwritten whether we have a\n",
       "  specific estimator or a Pipeline/ColumnTransformer */\n",
       "  background-color: var(--sklearn-color-background);\n",
       "}\n",
       "\n",
       "/* Toggleable label */\n",
       "#sk-container-id-4 label.sk-toggleable__label {\n",
       "  cursor: pointer;\n",
       "  display: block;\n",
       "  width: 100%;\n",
       "  margin-bottom: 0;\n",
       "  padding: 0.5em;\n",
       "  box-sizing: border-box;\n",
       "  text-align: center;\n",
       "}\n",
       "\n",
       "#sk-container-id-4 label.sk-toggleable__label-arrow:before {\n",
       "  /* Arrow on the left of the label */\n",
       "  content: \"▸\";\n",
       "  float: left;\n",
       "  margin-right: 0.25em;\n",
       "  color: var(--sklearn-color-icon);\n",
       "}\n",
       "\n",
       "#sk-container-id-4 label.sk-toggleable__label-arrow:hover:before {\n",
       "  color: var(--sklearn-color-text);\n",
       "}\n",
       "\n",
       "/* Toggleable content - dropdown */\n",
       "\n",
       "#sk-container-id-4 div.sk-toggleable__content {\n",
       "  max-height: 0;\n",
       "  max-width: 0;\n",
       "  overflow: hidden;\n",
       "  text-align: left;\n",
       "  /* unfitted */\n",
       "  background-color: var(--sklearn-color-unfitted-level-0);\n",
       "}\n",
       "\n",
       "#sk-container-id-4 div.sk-toggleable__content.fitted {\n",
       "  /* fitted */\n",
       "  background-color: var(--sklearn-color-fitted-level-0);\n",
       "}\n",
       "\n",
       "#sk-container-id-4 div.sk-toggleable__content pre {\n",
       "  margin: 0.2em;\n",
       "  border-radius: 0.25em;\n",
       "  color: var(--sklearn-color-text);\n",
       "  /* unfitted */\n",
       "  background-color: var(--sklearn-color-unfitted-level-0);\n",
       "}\n",
       "\n",
       "#sk-container-id-4 div.sk-toggleable__content.fitted pre {\n",
       "  /* unfitted */\n",
       "  background-color: var(--sklearn-color-fitted-level-0);\n",
       "}\n",
       "\n",
       "#sk-container-id-4 input.sk-toggleable__control:checked~div.sk-toggleable__content {\n",
       "  /* Expand drop-down */\n",
       "  max-height: 200px;\n",
       "  max-width: 100%;\n",
       "  overflow: auto;\n",
       "}\n",
       "\n",
       "#sk-container-id-4 input.sk-toggleable__control:checked~label.sk-toggleable__label-arrow:before {\n",
       "  content: \"▾\";\n",
       "}\n",
       "\n",
       "/* Pipeline/ColumnTransformer-specific style */\n",
       "\n",
       "#sk-container-id-4 div.sk-label input.sk-toggleable__control:checked~label.sk-toggleable__label {\n",
       "  color: var(--sklearn-color-text);\n",
       "  background-color: var(--sklearn-color-unfitted-level-2);\n",
       "}\n",
       "\n",
       "#sk-container-id-4 div.sk-label.fitted input.sk-toggleable__control:checked~label.sk-toggleable__label {\n",
       "  background-color: var(--sklearn-color-fitted-level-2);\n",
       "}\n",
       "\n",
       "/* Estimator-specific style */\n",
       "\n",
       "/* Colorize estimator box */\n",
       "#sk-container-id-4 div.sk-estimator input.sk-toggleable__control:checked~label.sk-toggleable__label {\n",
       "  /* unfitted */\n",
       "  background-color: var(--sklearn-color-unfitted-level-2);\n",
       "}\n",
       "\n",
       "#sk-container-id-4 div.sk-estimator.fitted input.sk-toggleable__control:checked~label.sk-toggleable__label {\n",
       "  /* fitted */\n",
       "  background-color: var(--sklearn-color-fitted-level-2);\n",
       "}\n",
       "\n",
       "#sk-container-id-4 div.sk-label label.sk-toggleable__label,\n",
       "#sk-container-id-4 div.sk-label label {\n",
       "  /* The background is the default theme color */\n",
       "  color: var(--sklearn-color-text-on-default-background);\n",
       "}\n",
       "\n",
       "/* On hover, darken the color of the background */\n",
       "#sk-container-id-4 div.sk-label:hover label.sk-toggleable__label {\n",
       "  color: var(--sklearn-color-text);\n",
       "  background-color: var(--sklearn-color-unfitted-level-2);\n",
       "}\n",
       "\n",
       "/* Label box, darken color on hover, fitted */\n",
       "#sk-container-id-4 div.sk-label.fitted:hover label.sk-toggleable__label.fitted {\n",
       "  color: var(--sklearn-color-text);\n",
       "  background-color: var(--sklearn-color-fitted-level-2);\n",
       "}\n",
       "\n",
       "/* Estimator label */\n",
       "\n",
       "#sk-container-id-4 div.sk-label label {\n",
       "  font-family: monospace;\n",
       "  font-weight: bold;\n",
       "  display: inline-block;\n",
       "  line-height: 1.2em;\n",
       "}\n",
       "\n",
       "#sk-container-id-4 div.sk-label-container {\n",
       "  text-align: center;\n",
       "}\n",
       "\n",
       "/* Estimator-specific */\n",
       "#sk-container-id-4 div.sk-estimator {\n",
       "  font-family: monospace;\n",
       "  border: 1px dotted var(--sklearn-color-border-box);\n",
       "  border-radius: 0.25em;\n",
       "  box-sizing: border-box;\n",
       "  margin-bottom: 0.5em;\n",
       "  /* unfitted */\n",
       "  background-color: var(--sklearn-color-unfitted-level-0);\n",
       "}\n",
       "\n",
       "#sk-container-id-4 div.sk-estimator.fitted {\n",
       "  /* fitted */\n",
       "  background-color: var(--sklearn-color-fitted-level-0);\n",
       "}\n",
       "\n",
       "/* on hover */\n",
       "#sk-container-id-4 div.sk-estimator:hover {\n",
       "  /* unfitted */\n",
       "  background-color: var(--sklearn-color-unfitted-level-2);\n",
       "}\n",
       "\n",
       "#sk-container-id-4 div.sk-estimator.fitted:hover {\n",
       "  /* fitted */\n",
       "  background-color: var(--sklearn-color-fitted-level-2);\n",
       "}\n",
       "\n",
       "/* Specification for estimator info (e.g. \"i\" and \"?\") */\n",
       "\n",
       "/* Common style for \"i\" and \"?\" */\n",
       "\n",
       ".sk-estimator-doc-link,\n",
       "a:link.sk-estimator-doc-link,\n",
       "a:visited.sk-estimator-doc-link {\n",
       "  float: right;\n",
       "  font-size: smaller;\n",
       "  line-height: 1em;\n",
       "  font-family: monospace;\n",
       "  background-color: var(--sklearn-color-background);\n",
       "  border-radius: 1em;\n",
       "  height: 1em;\n",
       "  width: 1em;\n",
       "  text-decoration: none !important;\n",
       "  margin-left: 1ex;\n",
       "  /* unfitted */\n",
       "  border: var(--sklearn-color-unfitted-level-1) 1pt solid;\n",
       "  color: var(--sklearn-color-unfitted-level-1);\n",
       "}\n",
       "\n",
       ".sk-estimator-doc-link.fitted,\n",
       "a:link.sk-estimator-doc-link.fitted,\n",
       "a:visited.sk-estimator-doc-link.fitted {\n",
       "  /* fitted */\n",
       "  border: var(--sklearn-color-fitted-level-1) 1pt solid;\n",
       "  color: var(--sklearn-color-fitted-level-1);\n",
       "}\n",
       "\n",
       "/* On hover */\n",
       "div.sk-estimator:hover .sk-estimator-doc-link:hover,\n",
       ".sk-estimator-doc-link:hover,\n",
       "div.sk-label-container:hover .sk-estimator-doc-link:hover,\n",
       ".sk-estimator-doc-link:hover {\n",
       "  /* unfitted */\n",
       "  background-color: var(--sklearn-color-unfitted-level-3);\n",
       "  color: var(--sklearn-color-background);\n",
       "  text-decoration: none;\n",
       "}\n",
       "\n",
       "div.sk-estimator.fitted:hover .sk-estimator-doc-link.fitted:hover,\n",
       ".sk-estimator-doc-link.fitted:hover,\n",
       "div.sk-label-container:hover .sk-estimator-doc-link.fitted:hover,\n",
       ".sk-estimator-doc-link.fitted:hover {\n",
       "  /* fitted */\n",
       "  background-color: var(--sklearn-color-fitted-level-3);\n",
       "  color: var(--sklearn-color-background);\n",
       "  text-decoration: none;\n",
       "}\n",
       "\n",
       "/* Span, style for the box shown on hovering the info icon */\n",
       ".sk-estimator-doc-link span {\n",
       "  display: none;\n",
       "  z-index: 9999;\n",
       "  position: relative;\n",
       "  font-weight: normal;\n",
       "  right: .2ex;\n",
       "  padding: .5ex;\n",
       "  margin: .5ex;\n",
       "  width: min-content;\n",
       "  min-width: 20ex;\n",
       "  max-width: 50ex;\n",
       "  color: var(--sklearn-color-text);\n",
       "  box-shadow: 2pt 2pt 4pt #999;\n",
       "  /* unfitted */\n",
       "  background: var(--sklearn-color-unfitted-level-0);\n",
       "  border: .5pt solid var(--sklearn-color-unfitted-level-3);\n",
       "}\n",
       "\n",
       ".sk-estimator-doc-link.fitted span {\n",
       "  /* fitted */\n",
       "  background: var(--sklearn-color-fitted-level-0);\n",
       "  border: var(--sklearn-color-fitted-level-3);\n",
       "}\n",
       "\n",
       ".sk-estimator-doc-link:hover span {\n",
       "  display: block;\n",
       "}\n",
       "\n",
       "/* \"?\"-specific style due to the `<a>` HTML tag */\n",
       "\n",
       "#sk-container-id-4 a.estimator_doc_link {\n",
       "  float: right;\n",
       "  font-size: 1rem;\n",
       "  line-height: 1em;\n",
       "  font-family: monospace;\n",
       "  background-color: var(--sklearn-color-background);\n",
       "  border-radius: 1rem;\n",
       "  height: 1rem;\n",
       "  width: 1rem;\n",
       "  text-decoration: none;\n",
       "  /* unfitted */\n",
       "  color: var(--sklearn-color-unfitted-level-1);\n",
       "  border: var(--sklearn-color-unfitted-level-1) 1pt solid;\n",
       "}\n",
       "\n",
       "#sk-container-id-4 a.estimator_doc_link.fitted {\n",
       "  /* fitted */\n",
       "  border: var(--sklearn-color-fitted-level-1) 1pt solid;\n",
       "  color: var(--sklearn-color-fitted-level-1);\n",
       "}\n",
       "\n",
       "/* On hover */\n",
       "#sk-container-id-4 a.estimator_doc_link:hover {\n",
       "  /* unfitted */\n",
       "  background-color: var(--sklearn-color-unfitted-level-3);\n",
       "  color: var(--sklearn-color-background);\n",
       "  text-decoration: none;\n",
       "}\n",
       "\n",
       "#sk-container-id-4 a.estimator_doc_link.fitted:hover {\n",
       "  /* fitted */\n",
       "  background-color: var(--sklearn-color-fitted-level-3);\n",
       "}\n",
       "</style><div id=\"sk-container-id-4\" class=\"sk-top-container\"><div class=\"sk-text-repr-fallback\"><pre>SVC()</pre><b>In a Jupyter environment, please rerun this cell to show the HTML representation or trust the notebook. <br />On GitHub, the HTML representation is unable to render, please try loading this page with nbviewer.org.</b></div><div class=\"sk-container\" hidden><div class=\"sk-item\"><div class=\"sk-estimator fitted sk-toggleable\"><input class=\"sk-toggleable__control sk-hidden--visually\" id=\"sk-estimator-id-4\" type=\"checkbox\" checked><label for=\"sk-estimator-id-4\" class=\"sk-toggleable__label fitted sk-toggleable__label-arrow fitted\">&nbsp;&nbsp;SVC<a class=\"sk-estimator-doc-link fitted\" rel=\"noreferrer\" target=\"_blank\" href=\"https://scikit-learn.org/1.4/modules/generated/sklearn.svm.SVC.html\">?<span>Documentation for SVC</span></a><span class=\"sk-estimator-doc-link fitted\">i<span>Fitted</span></span></label><div class=\"sk-toggleable__content fitted\"><pre>SVC()</pre></div> </div></div></div></div>"
      ],
      "text/plain": [
       "SVC()"
      ]
     },
     "execution_count": 156,
     "metadata": {},
     "output_type": "execute_result"
    }
   ],
   "source": [
    "model.fit(X_train, y_train)"
   ]
  },
  {
   "cell_type": "code",
   "execution_count": 161,
   "id": "fe95a477-5ffa-4240-90a9-aed7c5f33860",
   "metadata": {},
   "outputs": [],
   "source": [
    "X_val = [(X_target_val[i] - X_analogue_val[i]) for i in range(len(X_target_val))]"
   ]
  },
  {
   "cell_type": "code",
   "execution_count": 162,
   "id": "622f8157-1ac3-4d01-8317-1d58fefb08e1",
   "metadata": {},
   "outputs": [],
   "source": [
    "from sklearn.metrics import accuracy_score"
   ]
  },
  {
   "cell_type": "code",
   "execution_count": 163,
   "id": "68102e9a-d597-45fc-a152-e9c341c8f73f",
   "metadata": {},
   "outputs": [
    {
     "name": "stdout",
     "output_type": "stream",
     "text": [
      "Accuracy on validation set: 0.86\n"
     ]
    }
   ],
   "source": [
    "# Predictions on the validation set\n",
    "y_pred = model.predict(X_val)\n",
    "\n",
    "# Evaluate the model\n",
    "accuracy = accuracy_score(y_val.astype(int).values, y_pred)\n",
    "print(f'Accuracy on validation set: {accuracy:.2f}')"
   ]
  },
  {
   "cell_type": "code",
   "execution_count": 232,
   "id": "f3594837-062c-4377-a583-2f3f73fe27ec",
   "metadata": {},
   "outputs": [],
   "source": [
    "from sklearn.model_selection import train_test_split\n",
    "from sklearn.model_selection import cross_val_score\n",
    "from sklearn.metrics import balanced_accuracy_score, make_scorer"
   ]
  },
  {
   "cell_type": "code",
   "execution_count": 218,
   "id": "1b3b36cc-ef2d-4889-a870-7cac86139ac4",
   "metadata": {},
   "outputs": [],
   "source": [
    "X_target = balanced_df['fps_target'].values\n",
    "X_analogue = balanced_df['fps_analogue'].values\n",
    "y = balanced_df['Label'].values"
   ]
  },
  {
   "cell_type": "code",
   "execution_count": 214,
   "id": "a739233a-5bc0-461c-a32c-9d2550be7e3d",
   "metadata": {},
   "outputs": [],
   "source": [
    "mylst = []\n",
    "for a,b in zip(X_target, X_analogue):\n",
    "    mylst.append([a,b])\n"
   ]
  },
  {
   "cell_type": "code",
   "execution_count": 215,
   "id": "f79e17db-7bea-4416-b030-df619c8d6c3c",
   "metadata": {},
   "outputs": [],
   "source": [
    "analogue_pairs = np.asarray(mylst).reshape(322,-1,1024)"
   ]
  },
  {
   "cell_type": "code",
   "execution_count": 251,
   "id": "5f41d28c-903c-4610-8750-ba9116c69945",
   "metadata": {},
   "outputs": [],
   "source": [
    "from metric_learn import ITML\n",
    "\n",
    "from sklearn.model_selection import cross_validate, train_test_split\n",
    "from sklearn.pipeline import make_pipeline\n",
    "from sklearn.metrics import balanced_accuracy_score, f1_score, make_scorer, roc_auc_score\n",
    "from sklearn.model_selection import StratifiedKFold\n"
   ]
  },
  {
   "cell_type": "code",
   "execution_count": 252,
   "id": "00e737a1-de19-45e1-a609-523e1bb7b790",
   "metadata": {},
   "outputs": [
    {
     "data": {
      "text/plain": [
       "(322,)"
      ]
     },
     "execution_count": 252,
     "metadata": {},
     "output_type": "execute_result"
    }
   ],
   "source": [
    "y.shape"
   ]
  },
  {
   "cell_type": "code",
   "execution_count": 253,
   "id": "d842a74b-4a0f-47c2-b872-b478f2c47fb0",
   "metadata": {},
   "outputs": [],
   "source": [
    "indices = np.arange(1,balanced_df.shape[0]+1)\n",
    "#indices"
   ]
  },
  {
   "cell_type": "code",
   "execution_count": 274,
   "id": "ef73b691-0457-40d1-a5ad-aac793f2d16b",
   "metadata": {},
   "outputs": [],
   "source": [
    "itml = ITML(random_state = 42)\n"
   ]
  },
  {
   "cell_type": "code",
   "execution_count": 275,
   "id": "03fff7a0-2ee2-4a2d-bef8-179f10af97fb",
   "metadata": {},
   "outputs": [],
   "source": [
    "pairs_train, pairs_test, y_train, y_test, idx1, idx2 = train_test_split(analogue_pairs, y, indices, test_size = 0.25, stratify=y, random_state = 42)"
   ]
  },
  {
   "cell_type": "code",
   "execution_count": 276,
   "id": "577f8ccb-7a54-48af-8e8c-4877abd36cac",
   "metadata": {},
   "outputs": [
    {
     "data": {
      "text/plain": [
       "((241, 2, 1024), (81, 2, 1024), (241,), (81,))"
      ]
     },
     "execution_count": 276,
     "metadata": {},
     "output_type": "execute_result"
    }
   ],
   "source": [
    "pairs_train.shape, pairs_test.shape, y_train.shape, y_test.shape"
   ]
  },
  {
   "cell_type": "code",
   "execution_count": 277,
   "id": "a41ae0dc-9a7a-4ea6-8c32-6307eb8fb3b2",
   "metadata": {},
   "outputs": [],
   "source": [
    "baa = make_scorer(balanced_accuracy_score)"
   ]
  },
  {
   "cell_type": "code",
   "execution_count": 278,
   "id": "fa8a5b32-c055-4562-8454-22a04daa495a",
   "metadata": {},
   "outputs": [],
   "source": [
    "from sklearn.metrics import roc_auc_score"
   ]
  },
  {
   "cell_type": "code",
   "execution_count": 279,
   "id": "1e253314-c28e-43bb-abe8-12151229a102",
   "metadata": {},
   "outputs": [],
   "source": [
    "cv = StratifiedKFold(n_splits = 5)"
   ]
  },
  {
   "cell_type": "code",
   "execution_count": 280,
   "id": "03680895-a0ff-42b1-a7c4-117fe7f7f2f8",
   "metadata": {},
   "outputs": [],
   "source": [
    "result_itml = cross_validate(itml, pairs_train,  y_train, cv=cv, scoring = baa,return_train_score = True )"
   ]
  },
  {
   "cell_type": "code",
   "execution_count": 281,
   "id": "4d947876-e14f-45f7-8345-17264c3ec298",
   "metadata": {},
   "outputs": [],
   "source": [
    "cv_results = pd.DataFrame(result_itml)"
   ]
  },
  {
   "cell_type": "code",
   "execution_count": 282,
   "id": "ac8ce913-b586-4c93-a78f-b54c319a4373",
   "metadata": {},
   "outputs": [
    {
     "data": {
      "text/html": [
       "<div>\n",
       "<style scoped>\n",
       "    .dataframe tbody tr th:only-of-type {\n",
       "        vertical-align: middle;\n",
       "    }\n",
       "\n",
       "    .dataframe tbody tr th {\n",
       "        vertical-align: top;\n",
       "    }\n",
       "\n",
       "    .dataframe thead th {\n",
       "        text-align: right;\n",
       "    }\n",
       "</style>\n",
       "<table border=\"1\" class=\"dataframe\">\n",
       "  <thead>\n",
       "    <tr style=\"text-align: right;\">\n",
       "      <th></th>\n",
       "      <th>fit_time</th>\n",
       "      <th>score_time</th>\n",
       "      <th>test_score</th>\n",
       "      <th>train_score</th>\n",
       "    </tr>\n",
       "  </thead>\n",
       "  <tbody>\n",
       "    <tr>\n",
       "      <th>0</th>\n",
       "      <td>4.807521</td>\n",
       "      <td>0.004544</td>\n",
       "      <td>0.680000</td>\n",
       "      <td>1.0</td>\n",
       "    </tr>\n",
       "    <tr>\n",
       "      <th>1</th>\n",
       "      <td>4.567953</td>\n",
       "      <td>0.004493</td>\n",
       "      <td>0.645833</td>\n",
       "      <td>1.0</td>\n",
       "    </tr>\n",
       "    <tr>\n",
       "      <th>2</th>\n",
       "      <td>4.245110</td>\n",
       "      <td>0.004497</td>\n",
       "      <td>0.708333</td>\n",
       "      <td>1.0</td>\n",
       "    </tr>\n",
       "    <tr>\n",
       "      <th>3</th>\n",
       "      <td>4.330333</td>\n",
       "      <td>0.004458</td>\n",
       "      <td>0.645833</td>\n",
       "      <td>1.0</td>\n",
       "    </tr>\n",
       "    <tr>\n",
       "      <th>4</th>\n",
       "      <td>4.340387</td>\n",
       "      <td>0.015861</td>\n",
       "      <td>0.666667</td>\n",
       "      <td>1.0</td>\n",
       "    </tr>\n",
       "  </tbody>\n",
       "</table>\n",
       "</div>"
      ],
      "text/plain": [
       "   fit_time  score_time  test_score  train_score\n",
       "0  4.807521    0.004544    0.680000          1.0\n",
       "1  4.567953    0.004493    0.645833          1.0\n",
       "2  4.245110    0.004497    0.708333          1.0\n",
       "3  4.330333    0.004458    0.645833          1.0\n",
       "4  4.340387    0.015861    0.666667          1.0"
      ]
     },
     "execution_count": 282,
     "metadata": {},
     "output_type": "execute_result"
    }
   ],
   "source": [
    "cv_results"
   ]
  },
  {
   "cell_type": "code",
   "execution_count": 283,
   "id": "9a31a42c-313e-4b67-ad61-5867e86e2d86",
   "metadata": {},
   "outputs": [
    {
     "data": {
      "text/plain": [
       "(0.6693333333333333, 0.026203000252303585)"
      ]
     },
     "execution_count": 283,
     "metadata": {},
     "output_type": "execute_result"
    }
   ],
   "source": [
    "cv_results['test_score'].mean(), cv_results['test_score'].std()"
   ]
  },
  {
   "cell_type": "code",
   "execution_count": 284,
   "id": "6588bca5-2c9a-418c-9515-ad80e9e46c0b",
   "metadata": {},
   "outputs": [
    {
     "data": {
      "image/png": "[encoded data removed]",
      "text/plain": [
       "<Figure size 600x400 with 1 Axes>"
      ]
     },
     "metadata": {},
     "output_type": "display_data"
    }
   ],
   "source": [
    "cv_results[['test_score', 'train_score']].plot.hist(edgecolor = 'black', figsize = (6,4))\n",
    "plt.xlabel('CV Balanced Accuracy')\n",
    "plt.legend(loc = 'center left', bbox_to_anchor = (1,0.5))\n",
    "plt.tight_layout()"
   ]
  },
  {
   "cell_type": "code",
   "execution_count": 326,
   "id": "83364ba2-74fa-4d58-a71b-893d317364fd",
   "metadata": {},
   "outputs": [],
   "source": [
    "def cv_run(gamma):\n",
    "    a =cross_validate(ITML(random_state=42, gamma = gamma), pairs_train, y_train, cv=cv, scoring = make_scorer(balanced_accuracy_score), n_jobs=-1, return_estimator=True) \n",
    "    return a['test_score'].mean()"
   ]
  },
  {
   "cell_type": "code",
   "execution_count": 327,
   "id": "6914715b-1932-4cf0-8d36-009b60e75f41",
   "metadata": {},
   "outputs": [],
   "source": [
    "gammas = [0.25,0.5,0.75,1,5,10]\n",
    "grid_search = []\n",
    "for gamma in gammas:\n",
    "    grid_search.append([gamma, cv_run(gamma)])"
   ]
  },
  {
   "cell_type": "code",
   "execution_count": 328,
   "id": "b3499b32-35c8-4094-801f-4bab66c35e3e",
   "metadata": {},
   "outputs": [
    {
     "data": {
      "text/plain": [
       "[[0.25, 0.7683333333333333],\n",
       " [0.5, 0.7315],\n",
       " [0.75, 0.6901666666666667],\n",
       " [1, 0.6693333333333333],\n",
       " [5, 0.5493333333333332],\n",
       " [10, 0.5451666666666666]]"
      ]
     },
     "execution_count": 328,
     "metadata": {},
     "output_type": "execute_result"
    }
   ],
   "source": [
    "grid_search"
   ]
  },
  {
   "cell_type": "code",
   "execution_count": 329,
   "id": "82b74b3d-a3e4-4236-93bf-8a21bb524fec",
   "metadata": {},
   "outputs": [],
   "source": [
    "best_model = ITML(random_state=42, gamma = 0.25)"
   ]
  },
  {
   "cell_type": "code",
   "execution_count": 330,
   "id": "ee2826ce-61a6-42ef-80ab-e7ea80ccf67f",
   "metadata": {},
   "outputs": [
    {
     "data": {
      "text/html": [
       "<style>#sk-container-id-10 {\n",
       "  /* Definition of color scheme common for light and dark mode */\n",
       "  --sklearn-color-text: black;\n",
       "  --sklearn-color-line: gray;\n",
       "  /* Definition of color scheme for unfitted estimators */\n",
       "  --sklearn-color-unfitted-level-0: #fff5e6;\n",
       "  --sklearn-color-unfitted-level-1: #f6e4d2;\n",
       "  --sklearn-color-unfitted-level-2: #ffe0b3;\n",
       "  --sklearn-color-unfitted-level-3: chocolate;\n",
       "  /* Definition of color scheme for fitted estimators */\n",
       "  --sklearn-color-fitted-level-0: #f0f8ff;\n",
       "  --sklearn-color-fitted-level-1: #d4ebff;\n",
       "  --sklearn-color-fitted-level-2: #b3dbfd;\n",
       "  --sklearn-color-fitted-level-3: cornflowerblue;\n",
       "\n",
       "  /* Specific color for light theme */\n",
       "  --sklearn-color-text-on-default-background: var(--sg-text-color, var(--theme-code-foreground, var(--jp-content-font-color1, black)));\n",
       "  --sklearn-color-background: var(--sg-background-color, var(--theme-background, var(--jp-layout-color0, white)));\n",
       "  --sklearn-color-border-box: var(--sg-text-color, var(--theme-code-foreground, var(--jp-content-font-color1, black)));\n",
       "  --sklearn-color-icon: #696969;\n",
       "\n",
       "  @media (prefers-color-scheme: dark) {\n",
       "    /* Redefinition of color scheme for dark theme */\n",
       "    --sklearn-color-text-on-default-background: var(--sg-text-color, var(--theme-code-foreground, var(--jp-content-font-color1, white)));\n",
       "    --sklearn-color-background: var(--sg-background-color, var(--theme-background, var(--jp-layout-color0, #111)));\n",
       "    --sklearn-color-border-box: var(--sg-text-color, var(--theme-code-foreground, var(--jp-content-font-color1, white)));\n",
       "    --sklearn-color-icon: #878787;\n",
       "  }\n",
       "}\n",
       "\n",
       "#sk-container-id-10 {\n",
       "  color: var(--sklearn-color-text);\n",
       "}\n",
       "\n",
       "#sk-container-id-10 pre {\n",
       "  padding: 0;\n",
       "}\n",
       "\n",
       "#sk-container-id-10 input.sk-hidden--visually {\n",
       "  border: 0;\n",
       "  clip: rect(1px 1px 1px 1px);\n",
       "  clip: rect(1px, 1px, 1px, 1px);\n",
       "  height: 1px;\n",
       "  margin: -1px;\n",
       "  overflow: hidden;\n",
       "  padding: 0;\n",
       "  position: absolute;\n",
       "  width: 1px;\n",
       "}\n",
       "\n",
       "#sk-container-id-10 div.sk-dashed-wrapped {\n",
       "  border: 1px dashed var(--sklearn-color-line);\n",
       "  margin: 0 0.4em 0.5em 0.4em;\n",
       "  box-sizing: border-box;\n",
       "  padding-bottom: 0.4em;\n",
       "  background-color: var(--sklearn-color-background);\n",
       "}\n",
       "\n",
       "#sk-container-id-10 div.sk-container {\n",
       "  /* jupyter's `normalize.less` sets `[hidden] { display: none; }`\n",
       "     but bootstrap.min.css set `[hidden] { display: none !important; }`\n",
       "     so we also need the `!important` here to be able to override the\n",
       "     default hidden behavior on the sphinx rendered scikit-learn.org.\n",
       "     See: https://github.com/scikit-learn/scikit-learn/issues/21755 */\n",
       "  display: inline-block !important;\n",
       "  position: relative;\n",
       "}\n",
       "\n",
       "#sk-container-id-10 div.sk-text-repr-fallback {\n",
       "  display: none;\n",
       "}\n",
       "\n",
       "div.sk-parallel-item,\n",
       "div.sk-serial,\n",
       "div.sk-item {\n",
       "  /* draw centered vertical line to link estimators */\n",
       "  background-image: linear-gradient(var(--sklearn-color-text-on-default-background), var(--sklearn-color-text-on-default-background));\n",
       "  background-size: 2px 100%;\n",
       "  background-repeat: no-repeat;\n",
       "  background-position: center center;\n",
       "}\n",
       "\n",
       "/* Parallel-specific style estimator block */\n",
       "\n",
       "#sk-container-id-10 div.sk-parallel-item::after {\n",
       "  content: \"\";\n",
       "  width: 100%;\n",
       "  border-bottom: 2px solid var(--sklearn-color-text-on-default-background);\n",
       "  flex-grow: 1;\n",
       "}\n",
       "\n",
       "#sk-container-id-10 div.sk-parallel {\n",
       "  display: flex;\n",
       "  align-items: stretch;\n",
       "  justify-content: center;\n",
       "  background-color: var(--sklearn-color-background);\n",
       "  position: relative;\n",
       "}\n",
       "\n",
       "#sk-container-id-10 div.sk-parallel-item {\n",
       "  display: flex;\n",
       "  flex-direction: column;\n",
       "}\n",
       "\n",
       "#sk-container-id-10 div.sk-parallel-item:first-child::after {\n",
       "  align-self: flex-end;\n",
       "  width: 50%;\n",
       "}\n",
       "\n",
       "#sk-container-id-10 div.sk-parallel-item:last-child::after {\n",
       "  align-self: flex-start;\n",
       "  width: 50%;\n",
       "}\n",
       "\n",
       "#sk-container-id-10 div.sk-parallel-item:only-child::after {\n",
       "  width: 0;\n",
       "}\n",
       "\n",
       "/* Serial-specific style estimator block */\n",
       "\n",
       "#sk-container-id-10 div.sk-serial {\n",
       "  display: flex;\n",
       "  flex-direction: column;\n",
       "  align-items: center;\n",
       "  background-color: var(--sklearn-color-background);\n",
       "  padding-right: 1em;\n",
       "  padding-left: 1em;\n",
       "}\n",
       "\n",
       "\n",
       "/* Toggleable style: style used for estimator/Pipeline/ColumnTransformer box that is\n",
       "clickable and can be expanded/collapsed.\n",
       "- Pipeline and ColumnTransformer use this feature and define the default style\n",
       "- Estimators will overwrite some part of the style using the `sk-estimator` class\n",
       "*/\n",
       "\n",
       "/* Pipeline and ColumnTransformer style (default) */\n",
       "\n",
       "#sk-container-id-10 div.sk-toggleable {\n",
       "  /* Default theme specific background. It is overwritten whether we have a\n",
       "  specific estimator or a Pipeline/ColumnTransformer */\n",
       "  background-color: var(--sklearn-color-background);\n",
       "}\n",
       "\n",
       "/* Toggleable label */\n",
       "#sk-container-id-10 label.sk-toggleable__label {\n",
       "  cursor: pointer;\n",
       "  display: block;\n",
       "  width: 100%;\n",
       "  margin-bottom: 0;\n",
       "  padding: 0.5em;\n",
       "  box-sizing: border-box;\n",
       "  text-align: center;\n",
       "}\n",
       "\n",
       "#sk-container-id-10 label.sk-toggleable__label-arrow:before {\n",
       "  /* Arrow on the left of the label */\n",
       "  content: \"▸\";\n",
       "  float: left;\n",
       "  margin-right: 0.25em;\n",
       "  color: var(--sklearn-color-icon);\n",
       "}\n",
       "\n",
       "#sk-container-id-10 label.sk-toggleable__label-arrow:hover:before {\n",
       "  color: var(--sklearn-color-text);\n",
       "}\n",
       "\n",
       "/* Toggleable content - dropdown */\n",
       "\n",
       "#sk-container-id-10 div.sk-toggleable__content {\n",
       "  max-height: 0;\n",
       "  max-width: 0;\n",
       "  overflow: hidden;\n",
       "  text-align: left;\n",
       "  /* unfitted */\n",
       "  background-color: var(--sklearn-color-unfitted-level-0);\n",
       "}\n",
       "\n",
       "#sk-container-id-10 div.sk-toggleable__content.fitted {\n",
       "  /* fitted */\n",
       "  background-color: var(--sklearn-color-fitted-level-0);\n",
       "}\n",
       "\n",
       "#sk-container-id-10 div.sk-toggleable__content pre {\n",
       "  margin: 0.2em;\n",
       "  border-radius: 0.25em;\n",
       "  color: var(--sklearn-color-text);\n",
       "  /* unfitted */\n",
       "  background-color: var(--sklearn-color-unfitted-level-0);\n",
       "}\n",
       "\n",
       "#sk-container-id-10 div.sk-toggleable__content.fitted pre {\n",
       "  /* unfitted */\n",
       "  background-color: var(--sklearn-color-fitted-level-0);\n",
       "}\n",
       "\n",
       "#sk-container-id-10 input.sk-toggleable__control:checked~div.sk-toggleable__content {\n",
       "  /* Expand drop-down */\n",
       "  max-height: 200px;\n",
       "  max-width: 100%;\n",
       "  overflow: auto;\n",
       "}\n",
       "\n",
       "#sk-container-id-10 input.sk-toggleable__control:checked~label.sk-toggleable__label-arrow:before {\n",
       "  content: \"▾\";\n",
       "}\n",
       "\n",
       "/* Pipeline/ColumnTransformer-specific style */\n",
       "\n",
       "#sk-container-id-10 div.sk-label input.sk-toggleable__control:checked~label.sk-toggleable__label {\n",
       "  color: var(--sklearn-color-text);\n",
       "  background-color: var(--sklearn-color-unfitted-level-2);\n",
       "}\n",
       "\n",
       "#sk-container-id-10 div.sk-label.fitted input.sk-toggleable__control:checked~label.sk-toggleable__label {\n",
       "  background-color: var(--sklearn-color-fitted-level-2);\n",
       "}\n",
       "\n",
       "/* Estimator-specific style */\n",
       "\n",
       "/* Colorize estimator box */\n",
       "#sk-container-id-10 div.sk-estimator input.sk-toggleable__control:checked~label.sk-toggleable__label {\n",
       "  /* unfitted */\n",
       "  background-color: var(--sklearn-color-unfitted-level-2);\n",
       "}\n",
       "\n",
       "#sk-container-id-10 div.sk-estimator.fitted input.sk-toggleable__control:checked~label.sk-toggleable__label {\n",
       "  /* fitted */\n",
       "  background-color: var(--sklearn-color-fitted-level-2);\n",
       "}\n",
       "\n",
       "#sk-container-id-10 div.sk-label label.sk-toggleable__label,\n",
       "#sk-container-id-10 div.sk-label label {\n",
       "  /* The background is the default theme color */\n",
       "  color: var(--sklearn-color-text-on-default-background);\n",
       "}\n",
       "\n",
       "/* On hover, darken the color of the background */\n",
       "#sk-container-id-10 div.sk-label:hover label.sk-toggleable__label {\n",
       "  color: var(--sklearn-color-text);\n",
       "  background-color: var(--sklearn-color-unfitted-level-2);\n",
       "}\n",
       "\n",
       "/* Label box, darken color on hover, fitted */\n",
       "#sk-container-id-10 div.sk-label.fitted:hover label.sk-toggleable__label.fitted {\n",
       "  color: var(--sklearn-color-text);\n",
       "  background-color: var(--sklearn-color-fitted-level-2);\n",
       "}\n",
       "\n",
       "/* Estimator label */\n",
       "\n",
       "#sk-container-id-10 div.sk-label label {\n",
       "  font-family: monospace;\n",
       "  font-weight: bold;\n",
       "  display: inline-block;\n",
       "  line-height: 1.2em;\n",
       "}\n",
       "\n",
       "#sk-container-id-10 div.sk-label-container {\n",
       "  text-align: center;\n",
       "}\n",
       "\n",
       "/* Estimator-specific */\n",
       "#sk-container-id-10 div.sk-estimator {\n",
       "  font-family: monospace;\n",
       "  border: 1px dotted var(--sklearn-color-border-box);\n",
       "  border-radius: 0.25em;\n",
       "  box-sizing: border-box;\n",
       "  margin-bottom: 0.5em;\n",
       "  /* unfitted */\n",
       "  background-color: var(--sklearn-color-unfitted-level-0);\n",
       "}\n",
       "\n",
       "#sk-container-id-10 div.sk-estimator.fitted {\n",
       "  /* fitted */\n",
       "  background-color: var(--sklearn-color-fitted-level-0);\n",
       "}\n",
       "\n",
       "/* on hover */\n",
       "#sk-container-id-10 div.sk-estimator:hover {\n",
       "  /* unfitted */\n",
       "  background-color: var(--sklearn-color-unfitted-level-2);\n",
       "}\n",
       "\n",
       "#sk-container-id-10 div.sk-estimator.fitted:hover {\n",
       "  /* fitted */\n",
       "  background-color: var(--sklearn-color-fitted-level-2);\n",
       "}\n",
       "\n",
       "/* Specification for estimator info (e.g. \"i\" and \"?\") */\n",
       "\n",
       "/* Common style for \"i\" and \"?\" */\n",
       "\n",
       ".sk-estimator-doc-link,\n",
       "a:link.sk-estimator-doc-link,\n",
       "a:visited.sk-estimator-doc-link {\n",
       "  float: right;\n",
       "  font-size: smaller;\n",
       "  line-height: 1em;\n",
       "  font-family: monospace;\n",
       "  background-color: var(--sklearn-color-background);\n",
       "  border-radius: 1em;\n",
       "  height: 1em;\n",
       "  width: 1em;\n",
       "  text-decoration: none !important;\n",
       "  margin-left: 1ex;\n",
       "  /* unfitted */\n",
       "  border: var(--sklearn-color-unfitted-level-1) 1pt solid;\n",
       "  color: var(--sklearn-color-unfitted-level-1);\n",
       "}\n",
       "\n",
       ".sk-estimator-doc-link.fitted,\n",
       "a:link.sk-estimator-doc-link.fitted,\n",
       "a:visited.sk-estimator-doc-link.fitted {\n",
       "  /* fitted */\n",
       "  border: var(--sklearn-color-fitted-level-1) 1pt solid;\n",
       "  color: var(--sklearn-color-fitted-level-1);\n",
       "}\n",
       "\n",
       "/* On hover */\n",
       "div.sk-estimator:hover .sk-estimator-doc-link:hover,\n",
       ".sk-estimator-doc-link:hover,\n",
       "div.sk-label-container:hover .sk-estimator-doc-link:hover,\n",
       ".sk-estimator-doc-link:hover {\n",
       "  /* unfitted */\n",
       "  background-color: var(--sklearn-color-unfitted-level-3);\n",
       "  color: var(--sklearn-color-background);\n",
       "  text-decoration: none;\n",
       "}\n",
       "\n",
       "div.sk-estimator.fitted:hover .sk-estimator-doc-link.fitted:hover,\n",
       ".sk-estimator-doc-link.fitted:hover,\n",
       "div.sk-label-container:hover .sk-estimator-doc-link.fitted:hover,\n",
       ".sk-estimator-doc-link.fitted:hover {\n",
       "  /* fitted */\n",
       "  background-color: var(--sklearn-color-fitted-level-3);\n",
       "  color: var(--sklearn-color-background);\n",
       "  text-decoration: none;\n",
       "}\n",
       "\n",
       "/* Span, style for the box shown on hovering the info icon */\n",
       ".sk-estimator-doc-link span {\n",
       "  display: none;\n",
       "  z-index: 9999;\n",
       "  position: relative;\n",
       "  font-weight: normal;\n",
       "  right: .2ex;\n",
       "  padding: .5ex;\n",
       "  margin: .5ex;\n",
       "  width: min-content;\n",
       "  min-width: 20ex;\n",
       "  max-width: 50ex;\n",
       "  color: var(--sklearn-color-text);\n",
       "  box-shadow: 2pt 2pt 4pt #999;\n",
       "  /* unfitted */\n",
       "  background: var(--sklearn-color-unfitted-level-0);\n",
       "  border: .5pt solid var(--sklearn-color-unfitted-level-3);\n",
       "}\n",
       "\n",
       ".sk-estimator-doc-link.fitted span {\n",
       "  /* fitted */\n",
       "  background: var(--sklearn-color-fitted-level-0);\n",
       "  border: var(--sklearn-color-fitted-level-3);\n",
       "}\n",
       "\n",
       ".sk-estimator-doc-link:hover span {\n",
       "  display: block;\n",
       "}\n",
       "\n",
       "/* \"?\"-specific style due to the `<a>` HTML tag */\n",
       "\n",
       "#sk-container-id-10 a.estimator_doc_link {\n",
       "  float: right;\n",
       "  font-size: 1rem;\n",
       "  line-height: 1em;\n",
       "  font-family: monospace;\n",
       "  background-color: var(--sklearn-color-background);\n",
       "  border-radius: 1rem;\n",
       "  height: 1rem;\n",
       "  width: 1rem;\n",
       "  text-decoration: none;\n",
       "  /* unfitted */\n",
       "  color: var(--sklearn-color-unfitted-level-1);\n",
       "  border: var(--sklearn-color-unfitted-level-1) 1pt solid;\n",
       "}\n",
       "\n",
       "#sk-container-id-10 a.estimator_doc_link.fitted {\n",
       "  /* fitted */\n",
       "  border: var(--sklearn-color-fitted-level-1) 1pt solid;\n",
       "  color: var(--sklearn-color-fitted-level-1);\n",
       "}\n",
       "\n",
       "/* On hover */\n",
       "#sk-container-id-10 a.estimator_doc_link:hover {\n",
       "  /* unfitted */\n",
       "  background-color: var(--sklearn-color-unfitted-level-3);\n",
       "  color: var(--sklearn-color-background);\n",
       "  text-decoration: none;\n",
       "}\n",
       "\n",
       "#sk-container-id-10 a.estimator_doc_link.fitted:hover {\n",
       "  /* fitted */\n",
       "  background-color: var(--sklearn-color-fitted-level-3);\n",
       "}\n",
       "</style><div id=\"sk-container-id-10\" class=\"sk-top-container\"><div class=\"sk-text-repr-fallback\"><pre>ITML(gamma=0.25, random_state=42)</pre><b>In a Jupyter environment, please rerun this cell to show the HTML representation or trust the notebook. <br />On GitHub, the HTML representation is unable to render, please try loading this page with nbviewer.org.</b></div><div class=\"sk-container\" hidden><div class=\"sk-item\"><div class=\"sk-estimator fitted sk-toggleable\"><input class=\"sk-toggleable__control sk-hidden--visually\" id=\"sk-estimator-id-14\" type=\"checkbox\" checked><label for=\"sk-estimator-id-14\" class=\"sk-toggleable__label fitted sk-toggleable__label-arrow fitted\">&nbsp;ITML<span class=\"sk-estimator-doc-link fitted\">i<span>Fitted</span></span></label><div class=\"sk-toggleable__content fitted\"><pre>ITML(gamma=0.25, random_state=42)</pre></div> </div></div></div></div>"
      ],
      "text/plain": [
       "ITML(gamma=0.25, random_state=42)"
      ]
     },
     "execution_count": 330,
     "metadata": {},
     "output_type": "execute_result"
    }
   ],
   "source": [
    "best_model.fit(pairs_train, y_train)"
   ]
  },
  {
   "cell_type": "code",
   "execution_count": 331,
   "id": "27dd6748-2bb2-4108-8fcb-0a8f46f92460",
   "metadata": {},
   "outputs": [],
   "source": [
    "y_pred = best_model.predict(pairs_test)"
   ]
  },
  {
   "cell_type": "code",
   "execution_count": 332,
   "id": "960f63f6-e5ca-4b94-9680-c28471b82049",
   "metadata": {},
   "outputs": [
    {
     "data": {
      "text/plain": [
       "0.8503048780487804"
      ]
     },
     "execution_count": 332,
     "metadata": {},
     "output_type": "execute_result"
    }
   ],
   "source": [
    "roc_auc_score(y_test, y_pred)"
   ]
  },
  {
   "cell_type": "code",
   "execution_count": 333,
   "id": "59e27895-8027-4814-bfcb-947e220c2461",
   "metadata": {},
   "outputs": [
    {
     "data": {
      "text/plain": [
       "0.8503048780487805"
      ]
     },
     "execution_count": 333,
     "metadata": {},
     "output_type": "execute_result"
    }
   ],
   "source": [
    "balanced_accuracy_score(y_test, y_pred)"
   ]
  },
  {
   "cell_type": "code",
   "execution_count": 334,
   "id": "a43c598d-411d-4766-9ada-1342855be6e5",
   "metadata": {},
   "outputs": [],
   "source": [
    "from sklearn.metrics import confusion_matrix, classification_report"
   ]
  },
  {
   "cell_type": "code",
   "execution_count": 336,
   "id": "540d5349-5dfa-46af-9270-50037c956424",
   "metadata": {},
   "outputs": [
    {
     "name": "stdout",
     "output_type": "stream",
     "text": [
      "              precision    recall  f1-score   support\n",
      "\n",
      "          -1       0.78      0.98      0.87        41\n",
      "           1       0.97      0.72      0.83        40\n",
      "\n",
      "    accuracy                           0.85        81\n",
      "   macro avg       0.88      0.85      0.85        81\n",
      "weighted avg       0.87      0.85      0.85        81\n",
      "\n"
     ]
    }
   ],
   "source": [
    "print(classification_report(y_test, y_pred))"
   ]
  },
  {
   "cell_type": "code",
   "execution_count": 338,
   "id": "41b1c94d-1901-4751-9edd-99e3c0fd8d6d",
   "metadata": {},
   "outputs": [
    {
     "data": {
      "text/plain": [
       "array([[40,  1],\n",
       "       [11, 29]])"
      ]
     },
     "execution_count": 338,
     "metadata": {},
     "output_type": "execute_result"
    }
   ],
   "source": [
    "confusion_matrix(y_test, y_pred)"
   ]
  },
  {
   "cell_type": "code",
   "execution_count": 339,
   "id": "df68c6a0-2158-48d2-aa13-935ec710728b",
   "metadata": {},
   "outputs": [],
   "source": [
    "from sklearn.utils import shuffle"
   ]
  },
  {
   "cell_type": "code",
   "execution_count": 353,
   "id": "34d6b783-5b9c-41d1-a54c-748cfb8fcbe8",
   "metadata": {},
   "outputs": [],
   "source": [
    "#pairs_test"
   ]
  },
  {
   "cell_type": "code",
   "execution_count": 340,
   "id": "41fecc40-eb6b-4ce3-b542-51cfb925da70",
   "metadata": {},
   "outputs": [],
   "source": [
    "perm_samples = []\n",
    "for i in range(0,100):\n",
    "    perm_samples.append([pairs_train, shuffle(y_train)] )\n"
   ]
  },
  {
   "cell_type": "code",
   "execution_count": 343,
   "id": "84733cd0-ef95-4b36-ab80-1a477e3e1548",
   "metadata": {},
   "outputs": [],
   "source": [
    "from time import time"
   ]
  },
  {
   "cell_type": "code",
   "execution_count": 354,
   "id": "a9897955-671a-4192-81a7-7b504e6a963a",
   "metadata": {},
   "outputs": [
    {
     "name": "stdout",
     "output_type": "stream",
     "text": [
      "573.826 seconds\n"
     ]
    }
   ],
   "source": [
    "start = time()\n",
    "\n",
    "test_set = []\n",
    "predictions_lst = []\n",
    "for i in range(0,len(perm_samples)):\n",
    "    z = perm_samples[i]\n",
    "    a,b = z\n",
    "    try:\n",
    "        model =ITML(random_state = 42, gamma = 0.25)\n",
    "        model.fit(a,b)\n",
    "    except Exception as error:\n",
    "        print(error)\n",
    "    else:\n",
    "        predictions_null= model.predict(a)\n",
    "        ba = balanced_accuracy_score(b, predictions_null)\n",
    "        predictions_lst.append([i, ba])\n",
    "        testset_preds = model.predict(pairs_test)\n",
    "        ba_test = balanced_accuracy_score(y_test, testset_preds)\n",
    "        test_set.append([ba_test])\n",
    "end = time()\n",
    "\n",
    "report = end - start\n",
    "print('%.3f seconds' % report)\n"
   ]
  },
  {
   "cell_type": "code",
   "execution_count": 355,
   "id": "5c2a17a3-88c7-4e88-a22c-5d11729efbac",
   "metadata": {},
   "outputs": [
    {
     "data": {
      "text/plain": [
       "array([[<Axes: title={'center': '0'}>]], dtype=object)"
      ]
     },
     "execution_count": 355,
     "metadata": {},
     "output_type": "execute_result"
    },
    {
     "data": {
      "image/png": "[encoded data removed]",
      "text/plain": [
       "<Figure size 640x480 with 1 Axes>"
      ]
     },
     "metadata": {},
     "output_type": "display_data"
    }
   ],
   "source": [
    "pd.DataFrame(test_set).hist()"
   ]
  },
  {
   "cell_type": "code",
   "execution_count": 365,
   "id": "fc7b8fb0-9412-4ac6-b860-73051462a884",
   "metadata": {},
   "outputs": [
    {
     "data": {
      "text/plain": [
       "0.7352286585365853"
      ]
     },
     "execution_count": 365,
     "metadata": {},
     "output_type": "execute_result"
    }
   ],
   "source": [
    "pd.DataFrame(test_set).mean().values[0]"
   ]
  },
  {
   "cell_type": "code",
   "execution_count": 358,
   "id": "77e39b36-59fa-48b6-b34f-20008c67cc84",
   "metadata": {},
   "outputs": [],
   "source": [
    "#pd.DataFrame(predictions_lst)[1].hist()"
   ]
  },
  {
   "cell_type": "code",
   "execution_count": 350,
   "id": "4452b0a7-3a92-45f2-baa0-d5f7c3248f26",
   "metadata": {},
   "outputs": [
    {
     "data": {
      "text/plain": [
       "0.746547865013774"
      ]
     },
     "execution_count": 350,
     "metadata": {},
     "output_type": "execute_result"
    }
   ],
   "source": [
    "pd.DataFrame(predictions_lst)[1].mean()"
   ]
  },
  {
   "cell_type": "code",
   "execution_count": 366,
   "id": "92d8eb07-dc9c-425b-aac0-d3d8fd7b639e",
   "metadata": {},
   "outputs": [
    {
     "name": "stdout",
     "output_type": "stream",
     "text": [
      "Reject the null hypothesis. There is a significant difference.\n"
     ]
    }
   ],
   "source": [
    "from scipy import stats\n",
    "\n",
    "# Given data\n",
    "observed_mean = pd.DataFrame(test_set).mean().values[0]\n",
    "true_mean = 0.8503048780487805\n",
    "observed_std =  pd.DataFrame(test_set).std().values[0]\n",
    "sample_size =  100\n",
    "\n",
    "# Calculate t-statistic\n",
    "t_statistic = (observed_mean - true_mean) / (observed_std / np.sqrt(sample_size))\n",
    "\n",
    "# Degrees of freedom\n",
    "degrees_of_freedom = sample_size - 1\n",
    "\n",
    "# Two-tailed t-test\n",
    "p_value = 2 * (1 - stats.t.cdf(np.abs(t_statistic), df=degrees_of_freedom))\n",
    "\n",
    "# Chosen significance level (alpha)\n",
    "alpha = 0.05\n",
    "\n",
    "# Make a decision\n",
    "if p_value < alpha:\n",
    "    print(f\"Reject the null hypothesis. There is a significant difference.\")\n",
    "else:\n",
    "    print(\"Fail to reject the null hypothesis. There is no significant difference.\")\n"
   ]
  },
  {
   "cell_type": "code",
   "execution_count": null,
   "id": "a738ad75-c371-423c-a4ea-2bc2d2b7fa5d",
   "metadata": {},
   "outputs": [],
   "source": []
  },
  {
   "cell_type": "code",
   "execution_count": null,
   "id": "61573399-017d-4fe6-b480-f46955bad760",
   "metadata": {},
   "outputs": [],
   "source": []
  }
 ],
 "metadata": {
  "kernelspec": {
   "display_name": "graph",
   "language": "python",
   "name": "graph"
  },
  "language_info": {
   "codemirror_mode": {
    "name": "ipython",
    "version": 3
   },
   "file_extension": ".py",
   "mimetype": "text/x-python",
   "name": "python",
   "nbconvert_exporter": "python",
   "pygments_lexer": "ipython3",
   "version": "3.9.13"
  },
  "widgets": {
   "application/vnd.jupyter.widget-state+json": {
    "state": {},
    "version_major": 2,
    "version_minor": 0
   }
  }
 },
 "nbformat": 4,
 "nbformat_minor": 5
}
