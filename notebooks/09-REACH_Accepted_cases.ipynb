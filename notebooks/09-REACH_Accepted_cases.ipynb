{
 "cells": [
  {
   "cell_type": "code",
   "execution_count": 1,
   "id": "99155844-ca5b-4f1d-adfe-0e3c43a6335c",
   "metadata": {},
   "outputs": [],
   "source": [
    "import pandas as pd\n",
    "import numpy as np\n",
    "import openpyxl\n",
    "from pathlib import Path\n",
    "import matplotlib.pyplot as plt\n",
    "import seaborn as sns\n",
    "%matplotlib inline"
   ]
  },
  {
   "cell_type": "code",
   "execution_count": 2,
   "id": "f5035b6e-cdcf-4a30-ac1f-42c2ddc41bc9",
   "metadata": {},
   "outputs": [],
   "source": [
    "TOP = Path.cwd().as_posix().replace('notebooks','')\n",
    "raw_dir = Path(TOP) / 'data' /'raw'\n",
    "processed_dir =  Path(TOP) / 'data' /'processed'\n",
    "external_dir = Path(TOP)/'data'/'external'\n",
    "interim_dir = Path(TOP)/'data'/'interim'"
   ]
  },
  {
   "cell_type": "code",
   "execution_count": 216,
   "id": "70db2c9c-415e-49ed-9bf9-9fde6329b32d",
   "metadata": {},
   "outputs": [],
   "source": [
    "SI1 = pd.read_excel(external_dir/'Roe_sup4.xlsx', sheet_name = 'Evaluation of the RA hypotheses')"
   ]
  },
  {
   "cell_type": "code",
   "execution_count": 217,
   "id": "26433986-8572-4b8b-8448-8ce4f245d846",
   "metadata": {},
   "outputs": [
    {
     "data": {
      "text/plain": [
       "array(['Testing Proposal', nan], dtype=object)"
      ]
     },
     "execution_count": 217,
     "metadata": {},
     "output_type": "execute_result"
    }
   ],
   "source": [
    "SI1.Scope.unique()"
   ]
  },
  {
   "cell_type": "code",
   "execution_count": 218,
   "id": "0988e531-f6bb-45f1-a3e0-4c9735655672",
   "metadata": {},
   "outputs": [
    {
     "data": {
      "text/plain": [
       "['*AE1',\n",
       " '*AE2',\n",
       " '*AE3',\n",
       " '*AE4',\n",
       " '*AE5',\n",
       " '*AE6',\n",
       " '*AE7',\n",
       " '*AE8',\n",
       " '*AE9',\n",
       " '*AE10',\n",
       " '*AE11',\n",
       " '*AE12',\n",
       " '*AE13',\n",
       " '*AE14',\n",
       " '*AE15',\n",
       " '*AE16',\n",
       " '*AE17']"
      ]
     },
     "execution_count": 218,
     "metadata": {},
     "output_type": "execute_result"
    }
   ],
   "source": [
    "[col for col in SI1.columns if 'AE' in col]"
   ]
  },
  {
   "cell_type": "code",
   "execution_count": 219,
   "id": "0c06825b-6ab9-42ad-a90e-78fe38676272",
   "metadata": {},
   "outputs": [
    {
     "data": {
      "text/plain": [
       "0       \n",
       "1       \n",
       "2       \n",
       "3       \n",
       "4       \n",
       "      ..\n",
       "309    1\n",
       "310    1\n",
       "311    1\n",
       "312     \n",
       "313     \n",
       "Name: *AE8, Length: 314, dtype: object"
      ]
     },
     "execution_count": 219,
     "metadata": {},
     "output_type": "execute_result"
    }
   ],
   "source": [
    "SI1['*AE8'].replace(r'\\n', '', regex = True)"
   ]
  },
  {
   "cell_type": "code",
   "execution_count": 221,
   "id": "f6cb62e7-6599-43a4-ab62-034616061540",
   "metadata": {},
   "outputs": [],
   "source": [
    "df1 = (\n",
    "    SI1.assign(\n",
    "        **{\n",
    "            col: SI1[col].map(lambda x: str(x).replace('\\n', ' ')).replace(' ', np.nan).astype(float) for col in SI1.loc[:, '*AE8':].columns\n",
    "        }\n",
    "    )\n",
    "\n",
    "    .rename(\n",
    "        columns={col: col.strip('*') for col in SI1.columns if 'AE' in col}\n",
    "    )\n",
    ")"
   ]
  },
  {
   "cell_type": "code",
   "execution_count": 222,
   "id": "bb8bfd90-4f7b-4feb-9c32-3c0d2798dfc0",
   "metadata": {},
   "outputs": [
    {
     "data": {
      "text/plain": [
       "(314, 61)"
      ]
     },
     "execution_count": 222,
     "metadata": {},
     "output_type": "execute_result"
    }
   ],
   "source": [
    "df1.shape"
   ]
  },
  {
   "cell_type": "code",
   "execution_count": 232,
   "id": "72d8e51f-272b-4668-b566-7b7a4381e962",
   "metadata": {},
   "outputs": [
    {
     "data": {
      "text/plain": [
       "314"
      ]
     },
     "execution_count": 232,
     "metadata": {},
     "output_type": "execute_result"
    }
   ],
   "source": [
    "65+103+84+52+10"
   ]
  },
  {
   "cell_type": "code",
   "execution_count": 244,
   "id": "8e559451-d456-4f16-b52d-d66ba8b0a49a",
   "metadata": {},
   "outputs": [],
   "source": [
    "df1 = (df1\n",
    " .assign(RA_Present = lambda df: df['RA_Present'].replace('y', 'Y'))\n",
    "  .assign(RA_Accepted = lambda df: df['RA_Accepted'].replace({'y':'Y', 'Y ': 'Y', 'N ': 'N'}))\n",
    ")\n"
   ]
  },
  {
   "cell_type": "code",
   "execution_count": 256,
   "id": "5f9af94e-0f28-4816-a236-e48b493e3a67",
   "metadata": {},
   "outputs": [
    {
     "data": {
      "text/html": [
       "<div>\n",
       "<style scoped>\n",
       "    .dataframe tbody tr th:only-of-type {\n",
       "        vertical-align: middle;\n",
       "    }\n",
       "\n",
       "    .dataframe tbody tr th {\n",
       "        vertical-align: top;\n",
       "    }\n",
       "\n",
       "    .dataframe thead th {\n",
       "        text-align: right;\n",
       "    }\n",
       "</style>\n",
       "<table border=\"1\" class=\"dataframe\">\n",
       "  <thead>\n",
       "    <tr style=\"text-align: right;\">\n",
       "      <th></th>\n",
       "      <th></th>\n",
       "      <th>Target_Substance</th>\n",
       "    </tr>\n",
       "    <tr>\n",
       "      <th>RA_Accepted</th>\n",
       "      <th>*RA_Type</th>\n",
       "      <th></th>\n",
       "    </tr>\n",
       "  </thead>\n",
       "  <tbody>\n",
       "    <tr>\n",
       "      <th rowspan=\"3\" valign=\"top\">N</th>\n",
       "      <th>Analogue</th>\n",
       "      <td>103</td>\n",
       "    </tr>\n",
       "    <tr>\n",
       "      <th>Group</th>\n",
       "      <td>52</td>\n",
       "    </tr>\n",
       "    <tr>\n",
       "      <th>NR</th>\n",
       "      <td>10</td>\n",
       "    </tr>\n",
       "    <tr>\n",
       "      <th rowspan=\"2\" valign=\"top\">Y</th>\n",
       "      <th>Analogue</th>\n",
       "      <td>65</td>\n",
       "    </tr>\n",
       "    <tr>\n",
       "      <th>Group</th>\n",
       "      <td>84</td>\n",
       "    </tr>\n",
       "  </tbody>\n",
       "</table>\n",
       "</div>"
      ],
      "text/plain": [
       "                      Target_Substance\n",
       "RA_Accepted *RA_Type                  \n",
       "N           Analogue               103\n",
       "            Group                   52\n",
       "            NR                      10\n",
       "Y           Analogue                65\n",
       "            Group                   84"
      ]
     },
     "execution_count": 256,
     "metadata": {},
     "output_type": "execute_result"
    }
   ],
   "source": [
    "df1.groupby(['RA_Accepted', '*RA_Type']).agg({'Target_Substance':'count'})"
   ]
  },
  {
   "cell_type": "code",
   "execution_count": 262,
   "id": "1487b324-aad9-46f9-8fe7-563f1a601c8d",
   "metadata": {},
   "outputs": [],
   "source": [
    "df1 = (df1\n",
    " .rename(columns = {'*RA_Type': 'RA_Type'})\n",
    ")"
   ]
  },
  {
   "cell_type": "code",
   "execution_count": 327,
   "id": "fa3c113c-31e3-438a-a1e2-5829072781a6",
   "metadata": {},
   "outputs": [],
   "source": [
    "df1 = (df1\n",
    " .assign(index_key=lambda x: 'RA_' + (x.index + 1).astype(str))\n",
    "\n",
    ")"
   ]
  },
  {
   "cell_type": "code",
   "execution_count": 328,
   "id": "a1fd33f3-f886-4f16-8fb2-c4f110429116",
   "metadata": {},
   "outputs": [],
   "source": [
    "df2 = (df1\n",
    " .query(\"RA_Type != 'NR'\")\n",
    ")"
   ]
  },
  {
   "cell_type": "code",
   "execution_count": 329,
   "id": "d2e7e2b8-e75f-46c1-b59e-c9cad37d8fb9",
   "metadata": {},
   "outputs": [],
   "source": [
    "accepted = (df2\n",
    " .query(\"RA_Accepted == 'Y'\")\n",
    ")"
   ]
  },
  {
   "cell_type": "code",
   "execution_count": 331,
   "id": "c5979687-7f81-40a1-875e-7a59dadec629",
   "metadata": {},
   "outputs": [],
   "source": [
    "test = (accepted\n",
    " .filter(['index_key','Target_Substance', 'EC_List_Number', 'CASRN', 'Target_Substance_Type', '*Source_Substance_EC_1',\n",
    "       '*Source_Substance_Type_1', '*Source_Substance_EC_2',\n",
    "       '*Source_Substance_Type_2', '*Source_Substance_EC_3',\n",
    "       '*Source_Substance_Type_3', '*Source_Substance_EC_4',\n",
    "       '*Source_Substance_Type_4', '*Source_Substance_EC_5',\n",
    "       '*Source_Substance_Type_5', '*Source_Substance_EC_6',\n",
    "       '*Source_Substance_Type_6', 'RA_Type'])\n",
    ")"
   ]
  },
  {
   "cell_type": "code",
   "execution_count": 332,
   "id": "05b47581-2b60-4dec-b4e5-4017fb93cbd2",
   "metadata": {},
   "outputs": [
    {
     "data": {
      "text/html": [
       "<div>\n",
       "<style scoped>\n",
       "    .dataframe tbody tr th:only-of-type {\n",
       "        vertical-align: middle;\n",
       "    }\n",
       "\n",
       "    .dataframe tbody tr th {\n",
       "        vertical-align: top;\n",
       "    }\n",
       "\n",
       "    .dataframe thead th {\n",
       "        text-align: right;\n",
       "    }\n",
       "</style>\n",
       "<table border=\"1\" class=\"dataframe\">\n",
       "  <thead>\n",
       "    <tr style=\"text-align: right;\">\n",
       "      <th></th>\n",
       "      <th>Target_Substance</th>\n",
       "    </tr>\n",
       "    <tr>\n",
       "      <th>RA_Type</th>\n",
       "      <th></th>\n",
       "    </tr>\n",
       "  </thead>\n",
       "  <tbody>\n",
       "    <tr>\n",
       "      <th>Analogue</th>\n",
       "      <td>65</td>\n",
       "    </tr>\n",
       "    <tr>\n",
       "      <th>Group</th>\n",
       "      <td>84</td>\n",
       "    </tr>\n",
       "  </tbody>\n",
       "</table>\n",
       "</div>"
      ],
      "text/plain": [
       "          Target_Substance\n",
       "RA_Type                   \n",
       "Analogue                65\n",
       "Group                   84"
      ]
     },
     "execution_count": 332,
     "metadata": {},
     "output_type": "execute_result"
    }
   ],
   "source": [
    "test.groupby('RA_Type').agg({'Target_Substance': 'count'})"
   ]
  },
  {
   "cell_type": "code",
   "execution_count": 333,
   "id": "938fcc43-aeb3-474e-a613-9dfd1141a90b",
   "metadata": {},
   "outputs": [
    {
     "data": {
      "text/html": [
       "<div>\n",
       "<style scoped>\n",
       "    .dataframe tbody tr th:only-of-type {\n",
       "        vertical-align: middle;\n",
       "    }\n",
       "\n",
       "    .dataframe tbody tr th {\n",
       "        vertical-align: top;\n",
       "    }\n",
       "\n",
       "    .dataframe thead th {\n",
       "        text-align: right;\n",
       "    }\n",
       "</style>\n",
       "<table border=\"1\" class=\"dataframe\">\n",
       "  <thead>\n",
       "    <tr style=\"text-align: right;\">\n",
       "      <th></th>\n",
       "      <th>index_key</th>\n",
       "      <th>Target_Substance</th>\n",
       "      <th>EC_List_Number</th>\n",
       "      <th>CASRN</th>\n",
       "      <th>Target_Substance_Type</th>\n",
       "      <th>*Source_Substance_EC_1</th>\n",
       "      <th>*Source_Substance_Type_1</th>\n",
       "      <th>*Source_Substance_EC_2</th>\n",
       "      <th>*Source_Substance_Type_2</th>\n",
       "      <th>*Source_Substance_EC_3</th>\n",
       "      <th>*Source_Substance_Type_3</th>\n",
       "      <th>*Source_Substance_EC_4</th>\n",
       "      <th>*Source_Substance_Type_4</th>\n",
       "      <th>*Source_Substance_EC_5</th>\n",
       "      <th>*Source_Substance_Type_5</th>\n",
       "      <th>*Source_Substance_EC_6</th>\n",
       "      <th>*Source_Substance_Type_6</th>\n",
       "      <th>RA_Type</th>\n",
       "    </tr>\n",
       "  </thead>\n",
       "  <tbody>\n",
       "    <tr>\n",
       "      <th>1</th>\n",
       "      <td>RA_2</td>\n",
       "      <td>Cobalt</td>\n",
       "      <td>231-158-0</td>\n",
       "      <td>7440-48-4</td>\n",
       "      <td>Mono-</td>\n",
       "      <td>231-589-4</td>\n",
       "      <td>Mono-</td>\n",
       "      <td>215-157-2</td>\n",
       "      <td>Mono-</td>\n",
       "      <td>NaN</td>\n",
       "      <td>NaN</td>\n",
       "      <td>NaN</td>\n",
       "      <td>NaN</td>\n",
       "      <td>NaN</td>\n",
       "      <td>NaN</td>\n",
       "      <td>NaN</td>\n",
       "      <td>NaN</td>\n",
       "      <td>Group</td>\n",
       "    </tr>\n",
       "    <tr>\n",
       "      <th>2</th>\n",
       "      <td>RA_3</td>\n",
       "      <td>Cobalt oxide</td>\n",
       "      <td>215-154-6</td>\n",
       "      <td>1307-96-6</td>\n",
       "      <td>Mono-</td>\n",
       "      <td>231-589-4</td>\n",
       "      <td>Mono-</td>\n",
       "      <td>215-157-2</td>\n",
       "      <td>Mono-</td>\n",
       "      <td>NaN</td>\n",
       "      <td>NaN</td>\n",
       "      <td>NaN</td>\n",
       "      <td>NaN</td>\n",
       "      <td>NaN</td>\n",
       "      <td>NaN</td>\n",
       "      <td>NaN</td>\n",
       "      <td>NaN</td>\n",
       "      <td>Group</td>\n",
       "    </tr>\n",
       "    <tr>\n",
       "      <th>3</th>\n",
       "      <td>RA_4</td>\n",
       "      <td>Cobalt sulphate</td>\n",
       "      <td>233-334-2</td>\n",
       "      <td>10124-43-3</td>\n",
       "      <td>Mono-</td>\n",
       "      <td>231-589-4</td>\n",
       "      <td>Mono-</td>\n",
       "      <td>215-157-2</td>\n",
       "      <td>Mono-</td>\n",
       "      <td>NaN</td>\n",
       "      <td>NaN</td>\n",
       "      <td>NaN</td>\n",
       "      <td>NaN</td>\n",
       "      <td>NaN</td>\n",
       "      <td>NaN</td>\n",
       "      <td>NaN</td>\n",
       "      <td>NaN</td>\n",
       "      <td>Group</td>\n",
       "    </tr>\n",
       "    <tr>\n",
       "      <th>9</th>\n",
       "      <td>RA_10</td>\n",
       "      <td>1,1,1,3,5,5,5-heptamethyltrisiloxane</td>\n",
       "      <td>217-496-1</td>\n",
       "      <td>1873-88-7</td>\n",
       "      <td>Mono-</td>\n",
       "      <td>203-497-4</td>\n",
       "      <td>Mono-</td>\n",
       "      <td>NaN</td>\n",
       "      <td>NaN</td>\n",
       "      <td>NaN</td>\n",
       "      <td>NaN</td>\n",
       "      <td>NaN</td>\n",
       "      <td>NaN</td>\n",
       "      <td>NaN</td>\n",
       "      <td>NaN</td>\n",
       "      <td>NaN</td>\n",
       "      <td>NaN</td>\n",
       "      <td>Group</td>\n",
       "    </tr>\n",
       "    <tr>\n",
       "      <th>17</th>\n",
       "      <td>RA_18</td>\n",
       "      <td>Alkenes, C10-14</td>\n",
       "      <td>288-213-7</td>\n",
       "      <td>85681-75-0</td>\n",
       "      <td>UVCB</td>\n",
       "      <td>203-893-7</td>\n",
       "      <td>Mono-</td>\n",
       "      <td>306-492-6</td>\n",
       "      <td>UVCB</td>\n",
       "      <td>248-205-6</td>\n",
       "      <td>UVCB</td>\n",
       "      <td>272-762-4</td>\n",
       "      <td>UVCB</td>\n",
       "      <td>204-012-9</td>\n",
       "      <td>UVCB</td>\n",
       "      <td>209-753-1</td>\n",
       "      <td>Mono-</td>\n",
       "      <td>Group</td>\n",
       "    </tr>\n",
       "    <tr>\n",
       "      <th>...</th>\n",
       "      <td>...</td>\n",
       "      <td>...</td>\n",
       "      <td>...</td>\n",
       "      <td>...</td>\n",
       "      <td>...</td>\n",
       "      <td>...</td>\n",
       "      <td>...</td>\n",
       "      <td>...</td>\n",
       "      <td>...</td>\n",
       "      <td>...</td>\n",
       "      <td>...</td>\n",
       "      <td>...</td>\n",
       "      <td>...</td>\n",
       "      <td>...</td>\n",
       "      <td>...</td>\n",
       "      <td>...</td>\n",
       "      <td>...</td>\n",
       "      <td>...</td>\n",
       "    </tr>\n",
       "    <tr>\n",
       "      <th>141</th>\n",
       "      <td>RA_142</td>\n",
       "      <td>Tetraammonium ethylenediaminetetraacetate</td>\n",
       "      <td>245-022-3</td>\n",
       "      <td>22473-78-5</td>\n",
       "      <td>Mono-</td>\n",
       "      <td>205-358-3</td>\n",
       "      <td>Mono-</td>\n",
       "      <td>NaN</td>\n",
       "      <td>NaN</td>\n",
       "      <td>NaN</td>\n",
       "      <td>NaN</td>\n",
       "      <td>NaN</td>\n",
       "      <td>NaN</td>\n",
       "      <td>NaN</td>\n",
       "      <td>NaN</td>\n",
       "      <td>NaN</td>\n",
       "      <td>NaN</td>\n",
       "      <td>Group</td>\n",
       "    </tr>\n",
       "    <tr>\n",
       "      <th>142</th>\n",
       "      <td>RA_143</td>\n",
       "      <td>Tetradec-1-ene</td>\n",
       "      <td>214-306-9</td>\n",
       "      <td>1120-36-1</td>\n",
       "      <td>UVCB</td>\n",
       "      <td>203-893-7</td>\n",
       "      <td>Mono-</td>\n",
       "      <td>306-492-6</td>\n",
       "      <td>UVCB</td>\n",
       "      <td>248-205-6</td>\n",
       "      <td>UVCB</td>\n",
       "      <td>272-762-4</td>\n",
       "      <td>UVCB</td>\n",
       "      <td>204-012-9</td>\n",
       "      <td>UVCB</td>\n",
       "      <td>209-753-1</td>\n",
       "      <td>Mono-</td>\n",
       "      <td>Group</td>\n",
       "    </tr>\n",
       "    <tr>\n",
       "      <th>144</th>\n",
       "      <td>RA_145</td>\n",
       "      <td>Tetrasodium ethylenediaminetetraacetate</td>\n",
       "      <td>200-573-9</td>\n",
       "      <td>64-02-8</td>\n",
       "      <td>Mono-</td>\n",
       "      <td>205-358-3</td>\n",
       "      <td>Mono-</td>\n",
       "      <td>NaN</td>\n",
       "      <td>NaN</td>\n",
       "      <td>NaN</td>\n",
       "      <td>NaN</td>\n",
       "      <td>NaN</td>\n",
       "      <td>NaN</td>\n",
       "      <td>NaN</td>\n",
       "      <td>NaN</td>\n",
       "      <td>NaN</td>\n",
       "      <td>NaN</td>\n",
       "      <td>Group</td>\n",
       "    </tr>\n",
       "    <tr>\n",
       "      <th>145</th>\n",
       "      <td>RA_146</td>\n",
       "      <td>Triammonium hydrogen ethylenediaminetetraacetate</td>\n",
       "      <td>240-073-8</td>\n",
       "      <td>15934-01-7</td>\n",
       "      <td>Mono-</td>\n",
       "      <td>205-358-3</td>\n",
       "      <td>Mono-</td>\n",
       "      <td>NaN</td>\n",
       "      <td>NaN</td>\n",
       "      <td>NaN</td>\n",
       "      <td>NaN</td>\n",
       "      <td>NaN</td>\n",
       "      <td>NaN</td>\n",
       "      <td>NaN</td>\n",
       "      <td>NaN</td>\n",
       "      <td>NaN</td>\n",
       "      <td>NaN</td>\n",
       "      <td>Group</td>\n",
       "    </tr>\n",
       "    <tr>\n",
       "      <th>148</th>\n",
       "      <td>RA_149</td>\n",
       "      <td>Sodium salts of [[(phosphonomethyl)imino]bis[e...</td>\n",
       "      <td>701-215-9</td>\n",
       "      <td>-</td>\n",
       "      <td>UVCB</td>\n",
       "      <td>701-216-4</td>\n",
       "      <td>UVCB</td>\n",
       "      <td>NaN</td>\n",
       "      <td>NaN</td>\n",
       "      <td>NaN</td>\n",
       "      <td>NaN</td>\n",
       "      <td>NaN</td>\n",
       "      <td>NaN</td>\n",
       "      <td>NaN</td>\n",
       "      <td>NaN</td>\n",
       "      <td>NaN</td>\n",
       "      <td>NaN</td>\n",
       "      <td>Group</td>\n",
       "    </tr>\n",
       "  </tbody>\n",
       "</table>\n",
       "<p>84 rows × 18 columns</p>\n",
       "</div>"
      ],
      "text/plain": [
       "    index_key                                   Target_Substance  \\\n",
       "1        RA_2                                             Cobalt   \n",
       "2        RA_3                                       Cobalt oxide   \n",
       "3        RA_4                                    Cobalt sulphate   \n",
       "9       RA_10               1,1,1,3,5,5,5-heptamethyltrisiloxane   \n",
       "17      RA_18                                    Alkenes, C10-14   \n",
       "..        ...                                                ...   \n",
       "141    RA_142          Tetraammonium ethylenediaminetetraacetate   \n",
       "142    RA_143                                     Tetradec-1-ene   \n",
       "144    RA_145            Tetrasodium ethylenediaminetetraacetate   \n",
       "145    RA_146   Triammonium hydrogen ethylenediaminetetraacetate   \n",
       "148    RA_149  Sodium salts of [[(phosphonomethyl)imino]bis[e...   \n",
       "\n",
       "    EC_List_Number       CASRN Target_Substance_Type *Source_Substance_EC_1  \\\n",
       "1        231-158-0   7440-48-4                 Mono-              231-589-4   \n",
       "2        215-154-6   1307-96-6                 Mono-              231-589-4   \n",
       "3        233-334-2  10124-43-3                 Mono-              231-589-4   \n",
       "9        217-496-1   1873-88-7                 Mono-              203-497-4   \n",
       "17       288-213-7  85681-75-0                  UVCB              203-893-7   \n",
       "..             ...         ...                   ...                    ...   \n",
       "141      245-022-3  22473-78-5                 Mono-              205-358-3   \n",
       "142      214-306-9   1120-36-1                  UVCB              203-893-7   \n",
       "144      200-573-9     64-02-8                 Mono-              205-358-3   \n",
       "145      240-073-8  15934-01-7                 Mono-              205-358-3   \n",
       "148      701-215-9           -                  UVCB              701-216-4   \n",
       "\n",
       "    *Source_Substance_Type_1 *Source_Substance_EC_2 *Source_Substance_Type_2  \\\n",
       "1                      Mono-              215-157-2                    Mono-   \n",
       "2                      Mono-              215-157-2                    Mono-   \n",
       "3                      Mono-              215-157-2                    Mono-   \n",
       "9                      Mono-                    NaN                      NaN   \n",
       "17                     Mono-              306-492-6                     UVCB   \n",
       "..                       ...                    ...                      ...   \n",
       "141                    Mono-                    NaN                      NaN   \n",
       "142                    Mono-              306-492-6                     UVCB   \n",
       "144                    Mono-                    NaN                      NaN   \n",
       "145                    Mono-                    NaN                      NaN   \n",
       "148                     UVCB                    NaN                      NaN   \n",
       "\n",
       "    *Source_Substance_EC_3 *Source_Substance_Type_3 *Source_Substance_EC_4  \\\n",
       "1                      NaN                      NaN                    NaN   \n",
       "2                      NaN                      NaN                    NaN   \n",
       "3                      NaN                      NaN                    NaN   \n",
       "9                      NaN                      NaN                    NaN   \n",
       "17               248-205-6                     UVCB              272-762-4   \n",
       "..                     ...                      ...                    ...   \n",
       "141                    NaN                      NaN                    NaN   \n",
       "142              248-205-6                     UVCB              272-762-4   \n",
       "144                    NaN                      NaN                    NaN   \n",
       "145                    NaN                      NaN                    NaN   \n",
       "148                    NaN                      NaN                    NaN   \n",
       "\n",
       "    *Source_Substance_Type_4 *Source_Substance_EC_5 *Source_Substance_Type_5  \\\n",
       "1                        NaN                    NaN                      NaN   \n",
       "2                        NaN                    NaN                      NaN   \n",
       "3                        NaN                    NaN                      NaN   \n",
       "9                        NaN                    NaN                      NaN   \n",
       "17                      UVCB              204-012-9                     UVCB   \n",
       "..                       ...                    ...                      ...   \n",
       "141                      NaN                    NaN                      NaN   \n",
       "142                     UVCB              204-012-9                     UVCB   \n",
       "144                      NaN                    NaN                      NaN   \n",
       "145                      NaN                    NaN                      NaN   \n",
       "148                      NaN                    NaN                      NaN   \n",
       "\n",
       "    *Source_Substance_EC_6 *Source_Substance_Type_6 RA_Type  \n",
       "1                      NaN                      NaN   Group  \n",
       "2                      NaN                      NaN   Group  \n",
       "3                      NaN                      NaN   Group  \n",
       "9                      NaN                      NaN   Group  \n",
       "17               209-753-1                    Mono-   Group  \n",
       "..                     ...                      ...     ...  \n",
       "141                    NaN                      NaN   Group  \n",
       "142              209-753-1                    Mono-   Group  \n",
       "144                    NaN                      NaN   Group  \n",
       "145                    NaN                      NaN   Group  \n",
       "148                    NaN                      NaN   Group  \n",
       "\n",
       "[84 rows x 18 columns]"
      ]
     },
     "execution_count": 333,
     "metadata": {},
     "output_type": "execute_result"
    }
   ],
   "source": [
    "test[test['RA_Type'] =='Group']"
   ]
  },
  {
   "cell_type": "code",
   "execution_count": 334,
   "id": "02cfd2b0-c50b-40d3-96e6-81e4f50a1929",
   "metadata": {},
   "outputs": [],
   "source": [
    "test2 = (pd.melt(test, id_vars = ['index_key','Target_Substance', 'EC_List_Number', 'CASRN', 'Target_Substance_Type'], value_vars =['*Source_Substance_EC_1',\n",
    "      '*Source_Substance_EC_2',\n",
    "        '*Source_Substance_EC_3',\n",
    "        '*Source_Substance_EC_4',\n",
    "      '*Source_Substance_EC_5',\n",
    "        '*Source_Substance_EC_6',\n",
    "       ])\n",
    "         .dropna(subset = 'value')\n",
    "        )"
   ]
  },
  {
   "cell_type": "code",
   "execution_count": 335,
   "id": "a252b7bf-388a-47ae-ad1b-f3b426190be2",
   "metadata": {},
   "outputs": [
    {
     "data": {
      "text/html": [
       "<div>\n",
       "<style scoped>\n",
       "    .dataframe tbody tr th:only-of-type {\n",
       "        vertical-align: middle;\n",
       "    }\n",
       "\n",
       "    .dataframe tbody tr th {\n",
       "        vertical-align: top;\n",
       "    }\n",
       "\n",
       "    .dataframe thead th {\n",
       "        text-align: right;\n",
       "    }\n",
       "</style>\n",
       "<table border=\"1\" class=\"dataframe\">\n",
       "  <thead>\n",
       "    <tr style=\"text-align: right;\">\n",
       "      <th></th>\n",
       "      <th>index_key</th>\n",
       "      <th>Target_Substance</th>\n",
       "      <th>EC_List_Number</th>\n",
       "      <th>CASRN</th>\n",
       "      <th>Target_Substance_Type</th>\n",
       "      <th>variable</th>\n",
       "      <th>value</th>\n",
       "    </tr>\n",
       "  </thead>\n",
       "  <tbody>\n",
       "    <tr>\n",
       "      <th>1</th>\n",
       "      <td>RA_2</td>\n",
       "      <td>Cobalt</td>\n",
       "      <td>231-158-0</td>\n",
       "      <td>7440-48-4</td>\n",
       "      <td>Mono-</td>\n",
       "      <td>*Source_Substance_EC_1</td>\n",
       "      <td>231-589-4</td>\n",
       "    </tr>\n",
       "    <tr>\n",
       "      <th>150</th>\n",
       "      <td>RA_2</td>\n",
       "      <td>Cobalt</td>\n",
       "      <td>231-158-0</td>\n",
       "      <td>7440-48-4</td>\n",
       "      <td>Mono-</td>\n",
       "      <td>*Source_Substance_EC_2</td>\n",
       "      <td>215-157-2</td>\n",
       "    </tr>\n",
       "  </tbody>\n",
       "</table>\n",
       "</div>"
      ],
      "text/plain": [
       "    index_key Target_Substance EC_List_Number      CASRN  \\\n",
       "1        RA_2           Cobalt      231-158-0  7440-48-4   \n",
       "150      RA_2           Cobalt      231-158-0  7440-48-4   \n",
       "\n",
       "    Target_Substance_Type                variable      value  \n",
       "1                   Mono-  *Source_Substance_EC_1  231-589-4  \n",
       "150                 Mono-  *Source_Substance_EC_2  215-157-2  "
      ]
     },
     "execution_count": 335,
     "metadata": {},
     "output_type": "execute_result"
    }
   ],
   "source": [
    "test2[test2['Target_Substance'] == 'Cobalt']"
   ]
  },
  {
   "cell_type": "code",
   "execution_count": 336,
   "id": "de8694c7-bcdb-4351-9964-873e890ed7c9",
   "metadata": {},
   "outputs": [],
   "source": [
    "test2.to_csv(external_dir/'ECHA_accepted_examples.csv')"
   ]
  },
  {
   "cell_type": "code",
   "execution_count": 348,
   "id": "91ec19ed-c475-431a-bb4c-b5e98fbaaed6",
   "metadata": {},
   "outputs": [],
   "source": [
    "test2.sort_values(by='index_key', kind='mergesort').to_csv(external_dir/'ECHA_accepted_examples.csv')"
   ]
  },
  {
   "cell_type": "markdown",
   "id": "624e2bb0-2b20-4863-ae49-95e1346a35fa",
   "metadata": {},
   "source": [
    "## Re-read in the cleaned up file that has been augmented with DSSTox and ECHA content"
   ]
  },
  {
   "cell_type": "code",
   "execution_count": 349,
   "id": "c26c6dd6-9d8f-4236-8e12-ba388bfb8204",
   "metadata": {},
   "outputs": [],
   "source": [
    "accepted_echa = pd.read_excel(external_dir/'ECHA_accepted_examples.xlsx')"
   ]
  },
  {
   "cell_type": "code",
   "execution_count": 360,
   "id": "33b2936d-69c7-46bf-90d8-cd0e8a35efe7",
   "metadata": {},
   "outputs": [],
   "source": [
    "accepted_echa_mono = (accepted_echa\n",
    " .query(\"Target_Substance_Type == 'Mono-' & target_dsstox_smiles.notnull() & source_dsstox_smiles.notnull()\")\n",
    " .filter(['index_key', 'Target_Substance', 'Target_Substance_Type', 'target_dtxsid', 'target_dsstox_name',\n",
    "       'target_dsstox_cas', 'target_dsstox_smiles','source_dtxsid', 'source_dsstox_name',\n",
    "       'source_dsstox_cas', 'source_dsstox_smiles'])\n",
    ")"
   ]
  },
  {
   "cell_type": "code",
   "execution_count": 361,
   "id": "78005951-9aa8-46bb-badf-b5b9b0518d8d",
   "metadata": {},
   "outputs": [],
   "source": [
    "accepted_echa_mono.to_csv(external_dir/'accepted_echa_discrete.csv')"
   ]
  },
  {
   "cell_type": "code",
   "execution_count": null,
   "id": "690406f7-5023-48fa-8917-5b8f85aa03cd",
   "metadata": {},
   "outputs": [],
   "source": []
  }
 ],
 "metadata": {
  "kernelspec": {
   "display_name": "py310",
   "language": "python",
   "name": "py310"
  },
  "language_info": {
   "codemirror_mode": {
    "name": "ipython",
    "version": 3
   },
   "file_extension": ".py",
   "mimetype": "text/x-python",
   "name": "python",
   "nbconvert_exporter": "python",
   "pygments_lexer": "ipython3",
   "version": "3.10.14"
  },
  "widgets": {
   "application/vnd.jupyter.widget-state+json": {
    "state": {},
    "version_major": 2,
    "version_minor": 0
   }
  }
 },
 "nbformat": 4,
 "nbformat_minor": 5
}
