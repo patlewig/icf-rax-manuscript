{
 "cells": [
  {
   "cell_type": "code",
   "execution_count": 1,
   "id": "11f50688-c0ec-461e-bbf5-51b5246076a7",
   "metadata": {},
   "outputs": [],
   "source": [
    "import matplotlib.pyplot as plt"
   ]
  },
  {
   "cell_type": "code",
   "execution_count": 2,
   "id": "795ef6b4-b697-45ca-97a0-fd5827697f39",
   "metadata": {},
   "outputs": [],
   "source": [
    "import torch"
   ]
  },
  {
   "cell_type": "code",
   "execution_count": 3,
   "id": "f06a975b-43af-43dc-b065-b56a89756eba",
   "metadata": {},
   "outputs": [],
   "source": [
    "import numpy as np\n",
    "import pandas as pd\n",
    "from rdkit import Chem\n",
    "\n",
    "import openpyxl\n",
    "import os\n",
    "from pathlib import Path"
   ]
  },
  {
   "cell_type": "code",
   "execution_count": 4,
   "id": "20a8f979-50f6-4d5b-8306-f00dea6a09f6",
   "metadata": {},
   "outputs": [],
   "source": [
    "%matplotlib inline"
   ]
  },
  {
   "cell_type": "code",
   "execution_count": 5,
   "id": "feb15c2f-ee55-40dd-806e-7b24f94180bc",
   "metadata": {},
   "outputs": [],
   "source": [
    "TOP = Path.cwd().as_posix().replace('notebooks','')\n",
    "raw_dir = Path(TOP) / 'data'/'raw'\n",
    "interim_dir = Path(TOP) / 'data'/'interim'\n",
    "external_dir = Path(TOP) / 'data'/'external'\n",
    "figures_dir = Path(TOP) / 'reports'/'figures/'\n",
    "processed_dir = Path(TOP) / 'data'/'processed'\n"
   ]
  },
  {
   "cell_type": "code",
   "execution_count": 6,
   "id": "e19ab639-b0bd-4381-8756-f1efbbe7845e",
   "metadata": {},
   "outputs": [
    {
     "data": {
      "text/html": [
       "<div>\n",
       "<style scoped>\n",
       "    .dataframe tbody tr th:only-of-type {\n",
       "        vertical-align: middle;\n",
       "    }\n",
       "\n",
       "    .dataframe tbody tr th {\n",
       "        vertical-align: top;\n",
       "    }\n",
       "\n",
       "    .dataframe thead th {\n",
       "        text-align: right;\n",
       "    }\n",
       "</style>\n",
       "<table border=\"1\" class=\"dataframe\">\n",
       "  <thead>\n",
       "    <tr style=\"text-align: right;\">\n",
       "      <th></th>\n",
       "      <th>Target</th>\n",
       "      <th>Analogue</th>\n",
       "      <th>Label</th>\n",
       "      <th>analogue_smi</th>\n",
       "      <th>target_smi</th>\n",
       "      <th>analogue_mol</th>\n",
       "      <th>target_mol</th>\n",
       "      <th>fps_target</th>\n",
       "      <th>fps_analogue</th>\n",
       "      <th>Tanimoto</th>\n",
       "    </tr>\n",
       "  </thead>\n",
       "  <tbody>\n",
       "    <tr>\n",
       "      <th>1</th>\n",
       "      <td>DTXSID5023378</td>\n",
       "      <td>DTXSID0044496</td>\n",
       "      <td>1</td>\n",
       "      <td>CCCCCC1CCCC(=O)O1</td>\n",
       "      <td>NCC(O)C1=CC=C(O)C(O)=C1</td>\n",
       "      <td>&lt;rdkit.Chem.rdchem.Mol object at 0x7b9df2c882e0&gt;</td>\n",
       "      <td>&lt;rdkit.Chem.rdchem.Mol object at 0x7b9de85e1310&gt;</td>\n",
       "      <td>&lt;rdkit.DataStructs.cDataStructs.ExplicitBitVec...</td>\n",
       "      <td>&lt;rdkit.DataStructs.cDataStructs.ExplicitBitVec...</td>\n",
       "      <td>0.031746</td>\n",
       "    </tr>\n",
       "    <tr>\n",
       "      <th>2</th>\n",
       "      <td>DTXSID5023378</td>\n",
       "      <td>DTXSID4029301</td>\n",
       "      <td>1</td>\n",
       "      <td>Cl[SiH](Cl)Cl</td>\n",
       "      <td>NCC(O)C1=CC=C(O)C(O)=C1</td>\n",
       "      <td>&lt;rdkit.Chem.rdchem.Mol object at 0x7b9df2c884a0&gt;</td>\n",
       "      <td>&lt;rdkit.Chem.rdchem.Mol object at 0x7b9de85e1380&gt;</td>\n",
       "      <td>&lt;rdkit.DataStructs.cDataStructs.ExplicitBitVec...</td>\n",
       "      <td>&lt;rdkit.DataStructs.cDataStructs.ExplicitBitVec...</td>\n",
       "      <td>0.000000</td>\n",
       "    </tr>\n",
       "    <tr>\n",
       "      <th>3</th>\n",
       "      <td>DTXSID5023378</td>\n",
       "      <td>DTXSID8026488</td>\n",
       "      <td>1</td>\n",
       "      <td>CC1(C)C2CCC(C2)C1=C</td>\n",
       "      <td>NCC(O)C1=CC=C(O)C(O)=C1</td>\n",
       "      <td>&lt;rdkit.Chem.rdchem.Mol object at 0x7b9df2c88200&gt;</td>\n",
       "      <td>&lt;rdkit.Chem.rdchem.Mol object at 0x7b9de85e13f0&gt;</td>\n",
       "      <td>&lt;rdkit.DataStructs.cDataStructs.ExplicitBitVec...</td>\n",
       "      <td>&lt;rdkit.DataStructs.cDataStructs.ExplicitBitVec...</td>\n",
       "      <td>0.019231</td>\n",
       "    </tr>\n",
       "    <tr>\n",
       "      <th>4</th>\n",
       "      <td>DTXSID5023378</td>\n",
       "      <td>DTXSID0029719</td>\n",
       "      <td>1</td>\n",
       "      <td>CCCCC(CC)COC(=O)CS[Sn](CCCC)(CCCC)SCC(=O)OCC(C...</td>\n",
       "      <td>NCC(O)C1=CC=C(O)C(O)=C1</td>\n",
       "      <td>&lt;rdkit.Chem.rdchem.Mol object at 0x7b9df2c88120&gt;</td>\n",
       "      <td>&lt;rdkit.Chem.rdchem.Mol object at 0x7b9de85e1460&gt;</td>\n",
       "      <td>&lt;rdkit.DataStructs.cDataStructs.ExplicitBitVec...</td>\n",
       "      <td>&lt;rdkit.DataStructs.cDataStructs.ExplicitBitVec...</td>\n",
       "      <td>0.057971</td>\n",
       "    </tr>\n",
       "    <tr>\n",
       "      <th>5</th>\n",
       "      <td>DTXSID5023378</td>\n",
       "      <td>DTXSID6047105</td>\n",
       "      <td>1</td>\n",
       "      <td>COC1=CC(C)=CC=C1O</td>\n",
       "      <td>NCC(O)C1=CC=C(O)C(O)=C1</td>\n",
       "      <td>&lt;rdkit.Chem.rdchem.Mol object at 0x7b9df2c88580&gt;</td>\n",
       "      <td>&lt;rdkit.Chem.rdchem.Mol object at 0x7b9de85e14d0&gt;</td>\n",
       "      <td>&lt;rdkit.DataStructs.cDataStructs.ExplicitBitVec...</td>\n",
       "      <td>&lt;rdkit.DataStructs.cDataStructs.ExplicitBitVec...</td>\n",
       "      <td>0.170213</td>\n",
       "    </tr>\n",
       "    <tr>\n",
       "      <th>...</th>\n",
       "      <td>...</td>\n",
       "      <td>...</td>\n",
       "      <td>...</td>\n",
       "      <td>...</td>\n",
       "      <td>...</td>\n",
       "      <td>...</td>\n",
       "      <td>...</td>\n",
       "      <td>...</td>\n",
       "      <td>...</td>\n",
       "      <td>...</td>\n",
       "    </tr>\n",
       "    <tr>\n",
       "      <th>480938</th>\n",
       "      <td>DTXSID00391682</td>\n",
       "      <td>DTXSID6025804</td>\n",
       "      <td>1</td>\n",
       "      <td>CCCCCCC=C</td>\n",
       "      <td>CCC(C)(C)C1=CC(C)=C(O)C(C)=C1</td>\n",
       "      <td>&lt;rdkit.Chem.rdchem.Mol object at 0x7b9de85e10e0&gt;</td>\n",
       "      <td>&lt;rdkit.Chem.rdchem.Mol object at 0x7b9de6ee3c30&gt;</td>\n",
       "      <td>&lt;rdkit.DataStructs.cDataStructs.ExplicitBitVec...</td>\n",
       "      <td>&lt;rdkit.DataStructs.cDataStructs.ExplicitBitVec...</td>\n",
       "      <td>0.095238</td>\n",
       "    </tr>\n",
       "    <tr>\n",
       "      <th>480939</th>\n",
       "      <td>DTXSID00391682</td>\n",
       "      <td>DTXSID7025631</td>\n",
       "      <td>1</td>\n",
       "      <td>CC1=CC=CC(=C1N)[N+]([O-])=O</td>\n",
       "      <td>CCC(C)(C)C1=CC(C)=C(O)C(C)=C1</td>\n",
       "      <td>&lt;rdkit.Chem.rdchem.Mol object at 0x7b9de85e1150&gt;</td>\n",
       "      <td>&lt;rdkit.Chem.rdchem.Mol object at 0x7b9de6ee3ca0&gt;</td>\n",
       "      <td>&lt;rdkit.DataStructs.cDataStructs.ExplicitBitVec...</td>\n",
       "      <td>&lt;rdkit.DataStructs.cDataStructs.ExplicitBitVec...</td>\n",
       "      <td>0.102041</td>\n",
       "    </tr>\n",
       "    <tr>\n",
       "      <th>481633</th>\n",
       "      <td>DTXSID3020205</td>\n",
       "      <td>DTXSID6025804</td>\n",
       "      <td>1</td>\n",
       "      <td>CCCCCCC=C</td>\n",
       "      <td>CCCCOC(=O)C1=C(C=CC=C1)C(=O)OCC1=CC=CC=C1</td>\n",
       "      <td>&lt;rdkit.Chem.rdchem.Mol object at 0x7b9de85e11c0&gt;</td>\n",
       "      <td>&lt;rdkit.Chem.rdchem.Mol object at 0x7b9de6ee3d10&gt;</td>\n",
       "      <td>&lt;rdkit.DataStructs.cDataStructs.ExplicitBitVec...</td>\n",
       "      <td>&lt;rdkit.DataStructs.cDataStructs.ExplicitBitVec...</td>\n",
       "      <td>0.101695</td>\n",
       "    </tr>\n",
       "    <tr>\n",
       "      <th>481634</th>\n",
       "      <td>DTXSID3020205</td>\n",
       "      <td>DTXSID7025631</td>\n",
       "      <td>1</td>\n",
       "      <td>CC1=CC=CC(=C1N)[N+]([O-])=O</td>\n",
       "      <td>CCCCOC(=O)C1=C(C=CC=C1)C(=O)OCC1=CC=CC=C1</td>\n",
       "      <td>&lt;rdkit.Chem.rdchem.Mol object at 0x7b9de85e1230&gt;</td>\n",
       "      <td>&lt;rdkit.Chem.rdchem.Mol object at 0x7b9de6ee3d80&gt;</td>\n",
       "      <td>&lt;rdkit.DataStructs.cDataStructs.ExplicitBitVec...</td>\n",
       "      <td>&lt;rdkit.DataStructs.cDataStructs.ExplicitBitVec...</td>\n",
       "      <td>0.106061</td>\n",
       "    </tr>\n",
       "    <tr>\n",
       "      <th>482329</th>\n",
       "      <td>DTXSID6025804</td>\n",
       "      <td>DTXSID7025631</td>\n",
       "      <td>1</td>\n",
       "      <td>CC1=CC=CC(=C1N)[N+]([O-])=O</td>\n",
       "      <td>CCCCCCC=C</td>\n",
       "      <td>&lt;rdkit.Chem.rdchem.Mol object at 0x7b9de85e12a0&gt;</td>\n",
       "      <td>&lt;rdkit.Chem.rdchem.Mol object at 0x7b9de6ee3df0&gt;</td>\n",
       "      <td>&lt;rdkit.DataStructs.cDataStructs.ExplicitBitVec...</td>\n",
       "      <td>&lt;rdkit.DataStructs.cDataStructs.ExplicitBitVec...</td>\n",
       "      <td>0.021277</td>\n",
       "    </tr>\n",
       "  </tbody>\n",
       "</table>\n",
       "<p>213531 rows × 10 columns</p>\n",
       "</div>"
      ],
      "text/plain": [
       "                Target        Analogue  Label  \\\n",
       "1        DTXSID5023378   DTXSID0044496      1   \n",
       "2        DTXSID5023378   DTXSID4029301      1   \n",
       "3        DTXSID5023378   DTXSID8026488      1   \n",
       "4        DTXSID5023378   DTXSID0029719      1   \n",
       "5        DTXSID5023378  DTXSID6047105       1   \n",
       "...                ...             ...    ...   \n",
       "480938  DTXSID00391682   DTXSID6025804      1   \n",
       "480939  DTXSID00391682   DTXSID7025631      1   \n",
       "481633   DTXSID3020205   DTXSID6025804      1   \n",
       "481634   DTXSID3020205   DTXSID7025631      1   \n",
       "482329   DTXSID6025804   DTXSID7025631      1   \n",
       "\n",
       "                                             analogue_smi  \\\n",
       "1                                       CCCCCC1CCCC(=O)O1   \n",
       "2                                           Cl[SiH](Cl)Cl   \n",
       "3                                     CC1(C)C2CCC(C2)C1=C   \n",
       "4       CCCCC(CC)COC(=O)CS[Sn](CCCC)(CCCC)SCC(=O)OCC(C...   \n",
       "5                                       COC1=CC(C)=CC=C1O   \n",
       "...                                                   ...   \n",
       "480938                                          CCCCCCC=C   \n",
       "480939                        CC1=CC=CC(=C1N)[N+]([O-])=O   \n",
       "481633                                          CCCCCCC=C   \n",
       "481634                        CC1=CC=CC(=C1N)[N+]([O-])=O   \n",
       "482329                        CC1=CC=CC(=C1N)[N+]([O-])=O   \n",
       "\n",
       "                                       target_smi  \\\n",
       "1                         NCC(O)C1=CC=C(O)C(O)=C1   \n",
       "2                         NCC(O)C1=CC=C(O)C(O)=C1   \n",
       "3                         NCC(O)C1=CC=C(O)C(O)=C1   \n",
       "4                         NCC(O)C1=CC=C(O)C(O)=C1   \n",
       "5                         NCC(O)C1=CC=C(O)C(O)=C1   \n",
       "...                                           ...   \n",
       "480938              CCC(C)(C)C1=CC(C)=C(O)C(C)=C1   \n",
       "480939              CCC(C)(C)C1=CC(C)=C(O)C(C)=C1   \n",
       "481633  CCCCOC(=O)C1=C(C=CC=C1)C(=O)OCC1=CC=CC=C1   \n",
       "481634  CCCCOC(=O)C1=C(C=CC=C1)C(=O)OCC1=CC=CC=C1   \n",
       "482329                                  CCCCCCC=C   \n",
       "\n",
       "                                            analogue_mol  \\\n",
       "1       <rdkit.Chem.rdchem.Mol object at 0x7b9df2c882e0>   \n",
       "2       <rdkit.Chem.rdchem.Mol object at 0x7b9df2c884a0>   \n",
       "3       <rdkit.Chem.rdchem.Mol object at 0x7b9df2c88200>   \n",
       "4       <rdkit.Chem.rdchem.Mol object at 0x7b9df2c88120>   \n",
       "5       <rdkit.Chem.rdchem.Mol object at 0x7b9df2c88580>   \n",
       "...                                                  ...   \n",
       "480938  <rdkit.Chem.rdchem.Mol object at 0x7b9de85e10e0>   \n",
       "480939  <rdkit.Chem.rdchem.Mol object at 0x7b9de85e1150>   \n",
       "481633  <rdkit.Chem.rdchem.Mol object at 0x7b9de85e11c0>   \n",
       "481634  <rdkit.Chem.rdchem.Mol object at 0x7b9de85e1230>   \n",
       "482329  <rdkit.Chem.rdchem.Mol object at 0x7b9de85e12a0>   \n",
       "\n",
       "                                              target_mol  \\\n",
       "1       <rdkit.Chem.rdchem.Mol object at 0x7b9de85e1310>   \n",
       "2       <rdkit.Chem.rdchem.Mol object at 0x7b9de85e1380>   \n",
       "3       <rdkit.Chem.rdchem.Mol object at 0x7b9de85e13f0>   \n",
       "4       <rdkit.Chem.rdchem.Mol object at 0x7b9de85e1460>   \n",
       "5       <rdkit.Chem.rdchem.Mol object at 0x7b9de85e14d0>   \n",
       "...                                                  ...   \n",
       "480938  <rdkit.Chem.rdchem.Mol object at 0x7b9de6ee3c30>   \n",
       "480939  <rdkit.Chem.rdchem.Mol object at 0x7b9de6ee3ca0>   \n",
       "481633  <rdkit.Chem.rdchem.Mol object at 0x7b9de6ee3d10>   \n",
       "481634  <rdkit.Chem.rdchem.Mol object at 0x7b9de6ee3d80>   \n",
       "482329  <rdkit.Chem.rdchem.Mol object at 0x7b9de6ee3df0>   \n",
       "\n",
       "                                               fps_target  \\\n",
       "1       <rdkit.DataStructs.cDataStructs.ExplicitBitVec...   \n",
       "2       <rdkit.DataStructs.cDataStructs.ExplicitBitVec...   \n",
       "3       <rdkit.DataStructs.cDataStructs.ExplicitBitVec...   \n",
       "4       <rdkit.DataStructs.cDataStructs.ExplicitBitVec...   \n",
       "5       <rdkit.DataStructs.cDataStructs.ExplicitBitVec...   \n",
       "...                                                   ...   \n",
       "480938  <rdkit.DataStructs.cDataStructs.ExplicitBitVec...   \n",
       "480939  <rdkit.DataStructs.cDataStructs.ExplicitBitVec...   \n",
       "481633  <rdkit.DataStructs.cDataStructs.ExplicitBitVec...   \n",
       "481634  <rdkit.DataStructs.cDataStructs.ExplicitBitVec...   \n",
       "482329  <rdkit.DataStructs.cDataStructs.ExplicitBitVec...   \n",
       "\n",
       "                                             fps_analogue  Tanimoto  \n",
       "1       <rdkit.DataStructs.cDataStructs.ExplicitBitVec...  0.031746  \n",
       "2       <rdkit.DataStructs.cDataStructs.ExplicitBitVec...  0.000000  \n",
       "3       <rdkit.DataStructs.cDataStructs.ExplicitBitVec...  0.019231  \n",
       "4       <rdkit.DataStructs.cDataStructs.ExplicitBitVec...  0.057971  \n",
       "5       <rdkit.DataStructs.cDataStructs.ExplicitBitVec...  0.170213  \n",
       "...                                                   ...       ...  \n",
       "480938  <rdkit.DataStructs.cDataStructs.ExplicitBitVec...  0.095238  \n",
       "480939  <rdkit.DataStructs.cDataStructs.ExplicitBitVec...  0.102041  \n",
       "481633  <rdkit.DataStructs.cDataStructs.ExplicitBitVec...  0.101695  \n",
       "481634  <rdkit.DataStructs.cDataStructs.ExplicitBitVec...  0.106061  \n",
       "482329  <rdkit.DataStructs.cDataStructs.ExplicitBitVec...  0.021277  \n",
       "\n",
       "[213531 rows x 10 columns]"
      ]
     },
     "execution_count": 6,
     "metadata": {},
     "output_type": "execute_result"
    }
   ],
   "source": [
    "df = pd.read_csv(interim_dir/'rax_pairs_200125.csv', index_col = [0])\n",
    "df"
   ]
  },
  {
   "cell_type": "code",
   "execution_count": 7,
   "id": "6c6e8944-2276-4930-8605-501328febf3f",
   "metadata": {},
   "outputs": [],
   "source": [
    "final_df = (df.reset_index()\n",
    " .assign(pair = lambda df: df.apply(lambda row: tuple(sorted([row[\"Target\"], row[\"Analogue\"]])), axis=1)\n",
    "        )\n",
    ".drop_duplicates(subset=[\"pair\"]).drop(columns=[\"pair\"])\n",
    ")"
   ]
  },
  {
   "cell_type": "code",
   "execution_count": 8,
   "id": "6bdab180-1d3a-4db3-a625-984fb12d564e",
   "metadata": {},
   "outputs": [
    {
     "data": {
      "text/plain": [
       "(213531, 11)"
      ]
     },
     "execution_count": 8,
     "metadata": {},
     "output_type": "execute_result"
    }
   ],
   "source": [
    "final_df.shape"
   ]
  },
  {
   "cell_type": "code",
   "execution_count": 9,
   "id": "8279ebac-5450-4dd8-b9ef-b7666b342279",
   "metadata": {},
   "outputs": [
    {
     "data": {
      "text/plain": [
       "Label\n",
       "1    210372\n",
       "0      3159\n",
       "Name: count, dtype: int64"
      ]
     },
     "execution_count": 9,
     "metadata": {},
     "output_type": "execute_result"
    }
   ],
   "source": [
    "final_df['Label'].value_counts()"
   ]
  },
  {
   "cell_type": "code",
   "execution_count": 10,
   "id": "bc0be045-d579-4388-b1b8-183f6550fcfa",
   "metadata": {},
   "outputs": [
    {
     "data": {
      "text/plain": [
       "<Axes: >"
      ]
     },
     "execution_count": 10,
     "metadata": {},
     "output_type": "execute_result"
    },
    {
     "data": {
      "image/png": "[encoded data removed]",
      "text/plain": [
       "<Figure size 640x480 with 1 Axes>"
      ]
     },
     "metadata": {},
     "output_type": "display_data"
    }
   ],
   "source": [
    "final_df[final_df['Label']==1]['Tanimoto'].hist(color = 'r', alpha = 0.5)\n",
    "final_df[final_df['Label']==0]['Tanimoto'].hist(color = 'b', alpha = 0.5)"
   ]
  },
  {
   "cell_type": "code",
   "execution_count": 11,
   "id": "405d7d18-c0e2-4f3c-9fed-448c2aa99bb9",
   "metadata": {},
   "outputs": [
    {
     "data": {
      "text/plain": [
       "<Axes: >"
      ]
     },
     "execution_count": 11,
     "metadata": {},
     "output_type": "execute_result"
    },
    {
     "data": {
      "image/png": "[encoded data removed]",
      "text/plain": [
       "<Figure size 640x480 with 1 Axes>"
      ]
     },
     "metadata": {},
     "output_type": "display_data"
    }
   ],
   "source": [
    "final_df[final_df['Label']==0]['Tanimoto'].hist()"
   ]
  },
  {
   "cell_type": "code",
   "execution_count": 63,
   "id": "6ee92624-db8e-4177-b00e-451969249511",
   "metadata": {},
   "outputs": [],
   "source": [
    "rax_embeddings = pd.read_csv(interim_dir/'rax_txcst_embeddings.csv', index_col = [0])"
   ]
  },
  {
   "cell_type": "code",
   "execution_count": 64,
   "id": "2976fb43-866a-4a47-8075-2acfef352619",
   "metadata": {},
   "outputs": [
    {
     "data": {
      "text/plain": [
       "Index(['DTXSID4020298', 'DTXSID1020431', 'DTXSID6020430', 'DTXSID6022056',\n",
       "       'DTXSID0021965', 'DTXSID8026193', 'DTXSID8026195', 'DTXSID1026089',\n",
       "       'DTXSID6026088', 'DTXSID7024320',\n",
       "       ...\n",
       "       'DTXSID8032548', 'DTXSID4034653', 'DTXSID8024315', 'DTXSID2024242',\n",
       "       'DTXSID8042260', 'DTXSID8024280', 'DTXSID4034869', 'DTXSID9032113',\n",
       "       'DTXSID0032493', 'DTXSID3023897'],\n",
       "      dtype='object', name='dtxsid', length=755)"
      ]
     },
     "execution_count": 64,
     "metadata": {},
     "output_type": "execute_result"
    }
   ],
   "source": [
    "rax_embeddings.index"
   ]
  },
  {
   "cell_type": "code",
   "execution_count": 65,
   "id": "8f02bbed-64a4-4c84-a7f2-83a86f902ad3",
   "metadata": {},
   "outputs": [],
   "source": [
    "rax_embeddings.index.name = None"
   ]
  },
  {
   "cell_type": "code",
   "execution_count": 66,
   "id": "61afb731-8b29-4b35-b0b4-47ea68ed0843",
   "metadata": {},
   "outputs": [
    {
     "data": {
      "text/plain": [
       "654"
      ]
     },
     "execution_count": 66,
     "metadata": {},
     "output_type": "execute_result"
    }
   ],
   "source": [
    "rax_embeddings.index.nunique()"
   ]
  },
  {
   "cell_type": "code",
   "execution_count": 67,
   "id": "e9cdd53b-fa1b-4bdd-94f1-2546e500cecf",
   "metadata": {},
   "outputs": [],
   "source": [
    "rax_embeddings = (rax_embeddings.reset_index()\n",
    " .drop_duplicates(subset = 'index', keep = 'first')\n",
    "                  .set_index('index')\n",
    ")"
   ]
  },
  {
   "cell_type": "code",
   "execution_count": 68,
   "id": "b2de4892-13ae-4d50-ae57-2080c311584e",
   "metadata": {},
   "outputs": [],
   "source": [
    "from sklearn.metrics.pairwise import cosine_similarity"
   ]
  },
  {
   "cell_type": "code",
   "execution_count": 70,
   "id": "88e66f99-a7c9-4650-9e27-48757ddeb668",
   "metadata": {},
   "outputs": [],
   "source": [
    "#rax_embeddings.to_dict(orient = 'index')"
   ]
  },
  {
   "cell_type": "code",
   "execution_count": 71,
   "id": "fb7f2fc0-7ec2-410c-be6a-2e06750fe1b6",
   "metadata": {},
   "outputs": [],
   "source": [
    "embeddings_dict = rax_embeddings.to_dict(orient='index')"
   ]
  },
  {
   "cell_type": "code",
   "execution_count": 81,
   "id": "56a4e2b3-14ab-4da8-bb0c-c92665f42aa2",
   "metadata": {},
   "outputs": [],
   "source": [
    "def get_similarity(row):\n",
    "    h1 = embeddings_dict.get(row['Target'])\n",
    "    h2 = embeddings_dict.get(row['Analogue'])\n",
    "    if h1 is not None and h2 is not None:\n",
    "        h1 = np.array(list(h1.values()))  # Convert dict to NumPy array\n",
    "        h2 = np.array(list(h2.values()))\n",
    "        return cosine_similarity([h1], [h2])[0, 0]  # Efficient single similarity computation\n",
    "    return np.nan "
   ]
  },
  {
   "cell_type": "code",
   "execution_count": 83,
   "id": "b5b68499-a77b-42a4-b8c5-8e388fc364c4",
   "metadata": {},
   "outputs": [],
   "source": [
    "final_df=(final_df\n",
    " .assign(gcn_sim = lambda df:df.apply(get_similarity, axis=1))\n",
    ")"
   ]
  },
  {
   "cell_type": "code",
   "execution_count": 85,
   "id": "b4059c4c-4d72-4ca6-801d-b1e5491a235d",
   "metadata": {},
   "outputs": [
    {
     "data": {
      "text/plain": [
       "Label\n",
       "1    210372\n",
       "0      3159\n",
       "Name: count, dtype: int64"
      ]
     },
     "execution_count": 85,
     "metadata": {},
     "output_type": "execute_result"
    }
   ],
   "source": [
    "final_df.Label.value_counts()"
   ]
  },
  {
   "cell_type": "code",
   "execution_count": 100,
   "id": "6be64667-4740-48e0-914f-74cbd201641c",
   "metadata": {},
   "outputs": [],
   "source": [
    "import seaborn as sns\n"
   ]
  },
  {
   "cell_type": "code",
   "execution_count": 107,
   "id": "064eb19d-6c8b-499d-930a-1a11050663ad",
   "metadata": {},
   "outputs": [
    {
     "data": {
      "text/plain": [
       "<Axes: xlabel='variable', ylabel='value'>"
      ]
     },
     "execution_count": 107,
     "metadata": {},
     "output_type": "execute_result"
    },
    {
     "data": {
      "image/png": "[encoded data removed]",
      "text/plain": [
       "<Figure size 640x480 with 1 Axes>"
      ]
     },
     "metadata": {},
     "output_type": "display_data"
    }
   ],
   "source": [
    "sns.boxplot(x = 'variable', y = 'value', hue='Label', data = final_df.melt(id_vars = ['Label'], value_vars = ['gcn_sim', 'Tanimoto']))"
   ]
  },
  {
   "cell_type": "code",
   "execution_count": 108,
   "id": "3c7ca1c9-1335-4018-aaa2-408b6bb5ad89",
   "metadata": {},
   "outputs": [],
   "source": [
    "from scipy.stats import mannwhitneyu"
   ]
  },
  {
   "cell_type": "code",
   "execution_count": 121,
   "id": "37a7015a-5768-448e-8d49-d034370111e6",
   "metadata": {},
   "outputs": [
    {
     "data": {
      "text/html": [
       "<div>\n",
       "<style scoped>\n",
       "    .dataframe tbody tr th:only-of-type {\n",
       "        vertical-align: middle;\n",
       "    }\n",
       "\n",
       "    .dataframe tbody tr th {\n",
       "        vertical-align: top;\n",
       "    }\n",
       "\n",
       "    .dataframe thead th {\n",
       "        text-align: right;\n",
       "    }\n",
       "</style>\n",
       "<table border=\"1\" class=\"dataframe\">\n",
       "  <thead>\n",
       "    <tr style=\"text-align: right;\">\n",
       "      <th></th>\n",
       "      <th>Label</th>\n",
       "      <th>variable</th>\n",
       "      <th>value</th>\n",
       "    </tr>\n",
       "  </thead>\n",
       "  <tbody>\n",
       "    <tr>\n",
       "      <th>0</th>\n",
       "      <td>1</td>\n",
       "      <td>gcn_sim</td>\n",
       "      <td>-0.073725</td>\n",
       "    </tr>\n",
       "    <tr>\n",
       "      <th>1</th>\n",
       "      <td>1</td>\n",
       "      <td>gcn_sim</td>\n",
       "      <td>-0.183832</td>\n",
       "    </tr>\n",
       "    <tr>\n",
       "      <th>2</th>\n",
       "      <td>1</td>\n",
       "      <td>gcn_sim</td>\n",
       "      <td>-0.079850</td>\n",
       "    </tr>\n",
       "    <tr>\n",
       "      <th>3</th>\n",
       "      <td>1</td>\n",
       "      <td>gcn_sim</td>\n",
       "      <td>-0.067804</td>\n",
       "    </tr>\n",
       "    <tr>\n",
       "      <th>4</th>\n",
       "      <td>1</td>\n",
       "      <td>gcn_sim</td>\n",
       "      <td>0.756596</td>\n",
       "    </tr>\n",
       "    <tr>\n",
       "      <th>...</th>\n",
       "      <td>...</td>\n",
       "      <td>...</td>\n",
       "      <td>...</td>\n",
       "    </tr>\n",
       "    <tr>\n",
       "      <th>427057</th>\n",
       "      <td>1</td>\n",
       "      <td>Tanimoto</td>\n",
       "      <td>0.095238</td>\n",
       "    </tr>\n",
       "    <tr>\n",
       "      <th>427058</th>\n",
       "      <td>1</td>\n",
       "      <td>Tanimoto</td>\n",
       "      <td>0.102041</td>\n",
       "    </tr>\n",
       "    <tr>\n",
       "      <th>427059</th>\n",
       "      <td>1</td>\n",
       "      <td>Tanimoto</td>\n",
       "      <td>0.101695</td>\n",
       "    </tr>\n",
       "    <tr>\n",
       "      <th>427060</th>\n",
       "      <td>1</td>\n",
       "      <td>Tanimoto</td>\n",
       "      <td>0.106061</td>\n",
       "    </tr>\n",
       "    <tr>\n",
       "      <th>427061</th>\n",
       "      <td>1</td>\n",
       "      <td>Tanimoto</td>\n",
       "      <td>0.021277</td>\n",
       "    </tr>\n",
       "  </tbody>\n",
       "</table>\n",
       "<p>427062 rows × 3 columns</p>\n",
       "</div>"
      ],
      "text/plain": [
       "        Label  variable     value\n",
       "0           1   gcn_sim -0.073725\n",
       "1           1   gcn_sim -0.183832\n",
       "2           1   gcn_sim -0.079850\n",
       "3           1   gcn_sim -0.067804\n",
       "4           1   gcn_sim  0.756596\n",
       "...       ...       ...       ...\n",
       "427057      1  Tanimoto  0.095238\n",
       "427058      1  Tanimoto  0.102041\n",
       "427059      1  Tanimoto  0.101695\n",
       "427060      1  Tanimoto  0.106061\n",
       "427061      1  Tanimoto  0.021277\n",
       "\n",
       "[427062 rows x 3 columns]"
      ]
     },
     "execution_count": 121,
     "metadata": {},
     "output_type": "execute_result"
    }
   ],
   "source": [
    "(final_df.melt(id_vars = ['Label'], value_vars = ['gcn_sim', 'Tanimoto'])\n",
    " .dropna()\n",
    ")"
   ]
  },
  {
   "cell_type": "code",
   "execution_count": 125,
   "id": "e54b68ce-4b2f-4bb6-8b73-be44efbb8e9c",
   "metadata": {},
   "outputs": [],
   "source": [
    "final_df_T = (final_df.melt(id_vars = ['Label'], value_vars = ['gcn_sim', 'Tanimoto']).dropna())"
   ]
  },
  {
   "cell_type": "code",
   "execution_count": 129,
   "id": "3da7dfa1-c7f0-4fbd-be0a-7673bc8c8218",
   "metadata": {},
   "outputs": [
    {
     "data": {
      "text/html": [
       "<div>\n",
       "<style scoped>\n",
       "    .dataframe tbody tr th:only-of-type {\n",
       "        vertical-align: middle;\n",
       "    }\n",
       "\n",
       "    .dataframe tbody tr th {\n",
       "        vertical-align: top;\n",
       "    }\n",
       "\n",
       "    .dataframe thead th {\n",
       "        text-align: right;\n",
       "    }\n",
       "</style>\n",
       "<table border=\"1\" class=\"dataframe\">\n",
       "  <thead>\n",
       "    <tr style=\"text-align: right;\">\n",
       "      <th></th>\n",
       "      <th>Label</th>\n",
       "      <th>variable</th>\n",
       "      <th>value</th>\n",
       "    </tr>\n",
       "  </thead>\n",
       "  <tbody>\n",
       "    <tr>\n",
       "      <th>562</th>\n",
       "      <td>0</td>\n",
       "      <td>gcn_sim</td>\n",
       "      <td>0.675256</td>\n",
       "    </tr>\n",
       "    <tr>\n",
       "      <th>1231</th>\n",
       "      <td>0</td>\n",
       "      <td>gcn_sim</td>\n",
       "      <td>0.948876</td>\n",
       "    </tr>\n",
       "    <tr>\n",
       "      <th>1323</th>\n",
       "      <td>0</td>\n",
       "      <td>gcn_sim</td>\n",
       "      <td>0.966553</td>\n",
       "    </tr>\n",
       "    <tr>\n",
       "      <th>1363</th>\n",
       "      <td>0</td>\n",
       "      <td>gcn_sim</td>\n",
       "      <td>0.237706</td>\n",
       "    </tr>\n",
       "    <tr>\n",
       "      <th>1427</th>\n",
       "      <td>0</td>\n",
       "      <td>gcn_sim</td>\n",
       "      <td>0.042580</td>\n",
       "    </tr>\n",
       "    <tr>\n",
       "      <th>...</th>\n",
       "      <td>...</td>\n",
       "      <td>...</td>\n",
       "      <td>...</td>\n",
       "    </tr>\n",
       "    <tr>\n",
       "      <th>213068</th>\n",
       "      <td>0</td>\n",
       "      <td>gcn_sim</td>\n",
       "      <td>0.501198</td>\n",
       "    </tr>\n",
       "    <tr>\n",
       "      <th>213074</th>\n",
       "      <td>0</td>\n",
       "      <td>gcn_sim</td>\n",
       "      <td>0.339247</td>\n",
       "    </tr>\n",
       "    <tr>\n",
       "      <th>213158</th>\n",
       "      <td>0</td>\n",
       "      <td>gcn_sim</td>\n",
       "      <td>0.161642</td>\n",
       "    </tr>\n",
       "    <tr>\n",
       "      <th>213362</th>\n",
       "      <td>0</td>\n",
       "      <td>gcn_sim</td>\n",
       "      <td>0.862688</td>\n",
       "    </tr>\n",
       "    <tr>\n",
       "      <th>213515</th>\n",
       "      <td>0</td>\n",
       "      <td>gcn_sim</td>\n",
       "      <td>0.781140</td>\n",
       "    </tr>\n",
       "  </tbody>\n",
       "</table>\n",
       "<p>3159 rows × 3 columns</p>\n",
       "</div>"
      ],
      "text/plain": [
       "        Label variable     value\n",
       "562         0  gcn_sim  0.675256\n",
       "1231        0  gcn_sim  0.948876\n",
       "1323        0  gcn_sim  0.966553\n",
       "1363        0  gcn_sim  0.237706\n",
       "1427        0  gcn_sim  0.042580\n",
       "...       ...      ...       ...\n",
       "213068      0  gcn_sim  0.501198\n",
       "213074      0  gcn_sim  0.339247\n",
       "213158      0  gcn_sim  0.161642\n",
       "213362      0  gcn_sim  0.862688\n",
       "213515      0  gcn_sim  0.781140\n",
       "\n",
       "[3159 rows x 3 columns]"
      ]
     },
     "execution_count": 129,
     "metadata": {},
     "output_type": "execute_result"
    }
   ],
   "source": [
    "final_df_T[(final_df_T['Label'] ==0) & (final_df_T['variable'] =='gcn_sim')]"
   ]
  },
  {
   "cell_type": "code",
   "execution_count": 133,
   "id": "66c5e6a1-f2ae-42bb-979d-cb3ff26710fe",
   "metadata": {},
   "outputs": [
    {
     "name": "stdout",
     "output_type": "stream",
     "text": [
      "<class 'pandas.core.frame.DataFrame'>\n",
      "Index: 210372 entries, 0 to 213530\n",
      "Data columns (total 3 columns):\n",
      " #   Column    Non-Null Count   Dtype  \n",
      "---  ------    --------------   -----  \n",
      " 0   Label     210372 non-null  int64  \n",
      " 1   variable  210372 non-null  object \n",
      " 2   value     210372 non-null  float64\n",
      "dtypes: float64(1), int64(1), object(1)\n",
      "memory usage: 6.4+ MB\n"
     ]
    }
   ],
   "source": [
    "final_df_T.query(\"Label == 1 and variable == 'gcn_sim'\").info()"
   ]
  },
  {
   "cell_type": "code",
   "execution_count": 134,
   "id": "c5ecb5d5-6edc-4e04-897e-113220b8aa09",
   "metadata": {},
   "outputs": [
    {
     "name": "stdout",
     "output_type": "stream",
     "text": [
      "605368674.0 0.0\n"
     ]
    }
   ],
   "source": [
    "group_0 = pd.to_numeric(final_df_T.query(\"Label == 0 and variable == 'gcn_sim'\")['value'], errors='coerce')\n",
    "group_1 = pd.to_numeric(final_df_T.query(\"Label == 1 and variable == 'gcn_sim'\")['value'], errors='coerce')\n",
    "\n",
    "# Drop any NaNs that might exist after conversion\n",
    "group_0 = group_0.dropna()\n",
    "group_1 = group_1.dropna()\n",
    "\n",
    "# Run the test\n",
    "from scipy.stats import mannwhitneyu\n",
    "u_stat, p_val = mannwhitneyu(group_0, group_1, alternative='two-sided')\n",
    "\n",
    "print(u_stat, p_val)\n"
   ]
  },
  {
   "cell_type": "code",
   "execution_count": 135,
   "id": "37da1676-17c1-455c-a09e-77c0aadf703b",
   "metadata": {},
   "outputs": [
    {
     "name": "stderr",
     "output_type": "stream",
     "text": [
      "/tmp/ipykernel_108103/4115511051.py:6: MatplotlibDeprecationWarning: The 'labels' parameter of boxplot() has been renamed 'tick_labels' since Matplotlib 3.9; support for the old name will be dropped in 3.11.\n",
      "  plt.boxplot(data_sim, patch_artist=True, labels=[\"Not Similar (0)\", \"Similar (1)\"],\n"
     ]
    },
    {
     "data": {
      "text/plain": [
       "Text(0.5, 1.0, 'GCN Similarity by Label')"
      ]
     },
     "execution_count": 135,
     "metadata": {},
     "output_type": "execute_result"
    },
    {
     "data": {
      "image/png": "[encoded data removed]",
      "text/plain": [
       "<Figure size 800x500 with 1 Axes>"
      ]
     },
     "metadata": {},
     "output_type": "display_data"
    }
   ],
   "source": [
    "data_sim = [final_df[final_df['Label'] == 0]['gcn_sim'], \n",
    "        final_df[final_df['Label'] == 1]['gcn_sim']]\n",
    "\n",
    "# Plot side-by-side boxplots\n",
    "plt.figure(figsize=(8, 5))\n",
    "plt.boxplot(data_sim, patch_artist=True, labels=[\"Not Similar (0)\", \"Similar (1)\"], \n",
    "            boxprops=dict(facecolor=\"blue\", alpha=0.5), \n",
    "            medianprops=dict(color=\"black\"))\n",
    "\n",
    "# Add labels and title\n",
    "plt.xlabel(\"Label\")\n",
    "plt.ylabel(\"GCN Similarity\")\n",
    "plt.title(\"GCN Similarity by Label\")\n",
    "\n",
    "#final_df[final_df['Label']==0]['Tanimoto'].hist(color = 'r', alpha = 0.2)"
   ]
  },
  {
   "cell_type": "code",
   "execution_count": 139,
   "id": "0f93461e-e034-4f7f-99d0-ed174b90812a",
   "metadata": {},
   "outputs": [],
   "source": [
    "from sklearn.model_selection import train_test_split\n",
    "from sklearn.model_selection import cross_validate\n",
    "from sklearn.linear_model import LogisticRegression\n",
    "from sklearn.model_selection import StratifiedKFold\n",
    "from sklearn.metrics import make_scorer, recall_score, f1_score, accuracy_score, precision_score"
   ]
  },
  {
   "cell_type": "code",
   "execution_count": 168,
   "id": "cbf2ba86-3fb4-4679-b56e-29055eb8a559",
   "metadata": {},
   "outputs": [],
   "source": [
    "final_df = (final_df\n",
    " .assign(label =lambda df:df['Label'].apply(lambda x: 1 if x==0 else 0)\n",
    "        )\n",
    "\n",
    ")"
   ]
  },
  {
   "cell_type": "code",
   "execution_count": 169,
   "id": "72f56f0b-8eda-4ac8-9653-3ca9c9b283e5",
   "metadata": {},
   "outputs": [],
   "source": [
    "X = final_df.set_index(['Target', 'Analogue'])[['gcn_sim']]\n",
    "y = final_df.set_index(['Target', 'Analogue'])[['label']]"
   ]
  },
  {
   "cell_type": "code",
   "execution_count": 170,
   "id": "07054fb5-4e8b-4bde-9453-279d7bbb1f1c",
   "metadata": {},
   "outputs": [],
   "source": [
    "X_train, X_test, y_train, y_test = train_test_split(X, y, stratify = y, test_size = 0.2)"
   ]
  },
  {
   "cell_type": "code",
   "execution_count": 171,
   "id": "811070ee-b445-41b5-8b18-3102176e6c5a",
   "metadata": {},
   "outputs": [],
   "source": [
    "cv = StratifiedKFold(n_splits = 5)"
   ]
  },
  {
   "cell_type": "code",
   "execution_count": 172,
   "id": "774e7b33-d088-42e6-9f83-ffc8f904c1b5",
   "metadata": {},
   "outputs": [],
   "source": [
    "clf = LogisticRegression()"
   ]
  },
  {
   "cell_type": "code",
   "execution_count": 173,
   "id": "d42e1444-c418-416e-9245-921914f4d7e1",
   "metadata": {},
   "outputs": [],
   "source": [
    "results = cross_validate(clf, X_train, y_train.values.ravel(), cv = cv, scoring = {'f1':make_scorer(f1_score)}, return_train_score=True, n_jobs = -1)"
   ]
  },
  {
   "cell_type": "code",
   "execution_count": 174,
   "id": "d75db70b-f96e-4b80-a5c9-837b7de124f4",
   "metadata": {},
   "outputs": [
    {
     "data": {
      "text/plain": [
       "{'fit_time': array([0.08615327, 0.08725834, 0.08884907, 0.09916377, 0.09122872]),\n",
       " 'score_time': array([0.01002979, 0.01096177, 0.00862026, 0.00850558, 0.00842142]),\n",
       " 'test_f1': array([0., 0., 0., 0., 0.]),\n",
       " 'train_f1': array([0., 0., 0., 0., 0.])}"
      ]
     },
     "execution_count": 174,
     "metadata": {},
     "output_type": "execute_result"
    }
   ],
   "source": [
    "results"
   ]
  },
  {
   "cell_type": "code",
   "execution_count": 178,
   "id": "b78330c7-bc40-419c-92a3-3a1af4b84c9a",
   "metadata": {},
   "outputs": [],
   "source": [
    "similar_pairs = final_df[final_df['label'] == 1]\n",
    "dissimilar_pairs = final_df[final_df['label'] == 0]\n",
    "\n",
    "# Step 2: Downsample dissimilar pairs\n",
    "downsampled_dissimilar_pairs = dissimilar_pairs.sample(n=len(similar_pairs), replace=False)\n",
    "\n",
    "# Step 3: Combine balanced pairs\n",
    "balanced_df = pd.concat([similar_pairs, downsampled_dissimilar_pairs])\n",
    "\n",
    "# Step 4: Shuffle the dataset\n",
    "balanced_df = balanced_df.sample(frac=1, random_state=42)"
   ]
  },
  {
   "cell_type": "code",
   "execution_count": 180,
   "id": "50e10ad5-fb0f-4a02-b46b-2170e94f1ccf",
   "metadata": {},
   "outputs": [
    {
     "data": {
      "text/plain": [
       "label\n",
       "0    3159\n",
       "1    3159\n",
       "Name: count, dtype: int64"
      ]
     },
     "execution_count": 180,
     "metadata": {},
     "output_type": "execute_result"
    }
   ],
   "source": [
    "balanced_df['label'].value_counts()"
   ]
  },
  {
   "cell_type": "code",
   "execution_count": 181,
   "id": "45981405-e642-4981-980a-e610d54105c4",
   "metadata": {},
   "outputs": [
    {
     "data": {
      "text/plain": [
       "Index(['index', 'Target', 'Analogue', 'Label', 'analogue_smi', 'target_smi',\n",
       "       'analogue_mol', 'target_mol', 'fps_target', 'fps_analogue', 'Tanimoto',\n",
       "       'gcn_sim', 'label'],\n",
       "      dtype='object')"
      ]
     },
     "execution_count": 181,
     "metadata": {},
     "output_type": "execute_result"
    }
   ],
   "source": [
    "balanced_df.columns"
   ]
  },
  {
   "cell_type": "code",
   "execution_count": 213,
   "id": "0db02181-43bf-4309-bf82-cea8d875ee61",
   "metadata": {},
   "outputs": [
    {
     "data": {
      "text/plain": [
       "<Axes: >"
      ]
     },
     "execution_count": 213,
     "metadata": {},
     "output_type": "execute_result"
    },
    {
     "data": {
      "image/png": "[encoded data removed]",
      "text/plain": [
       "<Figure size 640x480 with 1 Axes>"
      ]
     },
     "metadata": {},
     "output_type": "display_data"
    }
   ],
   "source": [
    "balanced_df[balanced_df['label']==0].gcn_sim.hist(color = 'r', alpha = 0.2)\n",
    "balanced_df[balanced_df['label']==1].gcn_sim.hist(alpha = 0.5)"
   ]
  },
  {
   "cell_type": "code",
   "execution_count": 214,
   "id": "fe6df02e-c0ce-48c7-a78f-f93124d1c27f",
   "metadata": {},
   "outputs": [
    {
     "data": {
      "text/plain": [
       "<Axes: >"
      ]
     },
     "execution_count": 214,
     "metadata": {},
     "output_type": "execute_result"
    },
    {
     "data": {
      "image/png": "[encoded data removed]",
      "text/plain": [
       "<Figure size 640x480 with 1 Axes>"
      ]
     },
     "metadata": {},
     "output_type": "display_data"
    }
   ],
   "source": [
    "balanced_df[balanced_df['label']==0].Tanimoto.hist(color = 'r', alpha = 0.2)\n",
    "balanced_df[balanced_df['label']==1].Tanimoto.hist(alpha = 0.5)"
   ]
  },
  {
   "cell_type": "code",
   "execution_count": 183,
   "id": "7e3cd75e-ec97-481a-9cc0-4b9a88f53beb",
   "metadata": {},
   "outputs": [
    {
     "data": {
      "text/plain": [
       "Index(['index', 'Target', 'Analogue', 'Label', 'analogue_smi', 'target_smi',\n",
       "       'analogue_mol', 'target_mol', 'fps_target', 'fps_analogue', 'Tanimoto',\n",
       "       'gcn_sim', 'label'],\n",
       "      dtype='object')"
      ]
     },
     "execution_count": 183,
     "metadata": {},
     "output_type": "execute_result"
    }
   ],
   "source": [
    "balanced_df.columns"
   ]
  },
  {
   "cell_type": "code",
   "execution_count": 184,
   "id": "2f784e10-8b64-4fe9-af93-fdea2919f142",
   "metadata": {},
   "outputs": [],
   "source": [
    "balanced_df.to_csv(interim_dir/'balanced_df_icf_300125.csv')"
   ]
  },
  {
   "cell_type": "code",
   "execution_count": 215,
   "id": "7ca05d3c-18b2-4be9-be66-77d862846419",
   "metadata": {},
   "outputs": [],
   "source": [
    "X = balanced_df.set_index(['Target', 'Analogue'])[['gcn_sim']]\n",
    "y = balanced_df.set_index(['Target', 'Analogue'])[['label']]"
   ]
  },
  {
   "cell_type": "code",
   "execution_count": 216,
   "id": "1b5a2252-b096-466f-821a-6804373da48e",
   "metadata": {},
   "outputs": [],
   "source": [
    "X_train, X_test, y_train, y_test = train_test_split(X, y, stratify = y, test_size = 0.2)"
   ]
  },
  {
   "cell_type": "code",
   "execution_count": 217,
   "id": "69570889-4bc1-42bd-8aec-4d1daa09b00f",
   "metadata": {},
   "outputs": [],
   "source": [
    "results = cross_validate(clf, X_train, y_train.values.ravel(), cv = cv, scoring = {'f1':make_scorer(f1_score)}, return_train_score=True, n_jobs = -1)"
   ]
  },
  {
   "cell_type": "code",
   "execution_count": 218,
   "id": "86523cff-c98b-40f0-8295-25e74b314668",
   "metadata": {},
   "outputs": [
    {
     "data": {
      "text/plain": [
       "{'fit_time': array([0.00475764, 0.0047636 , 0.00464272, 0.0089314 , 0.00883937]),\n",
       " 'score_time': array([0.00269556, 0.0026722 , 0.00272965, 0.00559998, 0.00515938]),\n",
       " 'test_f1': array([0.81012658, 0.84      , 0.85160039, 0.83316881, 0.86289549]),\n",
       " 'train_f1': array([0.8473264 , 0.84008736, 0.83705141, 0.8416224 , 0.83381643])}"
      ]
     },
     "execution_count": 218,
     "metadata": {},
     "output_type": "execute_result"
    }
   ],
   "source": [
    "results"
   ]
  },
  {
   "cell_type": "code",
   "execution_count": 219,
   "id": "1c3b998d-3f53-4d19-96e8-2e31f5b5f6b8",
   "metadata": {},
   "outputs": [
    {
     "data": {
      "text/html": [
       "<style>#sk-container-id-3 {\n",
       "  /* Definition of color scheme common for light and dark mode */\n",
       "  --sklearn-color-text: black;\n",
       "  --sklearn-color-line: gray;\n",
       "  /* Definition of color scheme for unfitted estimators */\n",
       "  --sklearn-color-unfitted-level-0: #fff5e6;\n",
       "  --sklearn-color-unfitted-level-1: #f6e4d2;\n",
       "  --sklearn-color-unfitted-level-2: #ffe0b3;\n",
       "  --sklearn-color-unfitted-level-3: chocolate;\n",
       "  /* Definition of color scheme for fitted estimators */\n",
       "  --sklearn-color-fitted-level-0: #f0f8ff;\n",
       "  --sklearn-color-fitted-level-1: #d4ebff;\n",
       "  --sklearn-color-fitted-level-2: #b3dbfd;\n",
       "  --sklearn-color-fitted-level-3: cornflowerblue;\n",
       "\n",
       "  /* Specific color for light theme */\n",
       "  --sklearn-color-text-on-default-background: var(--sg-text-color, var(--theme-code-foreground, var(--jp-content-font-color1, black)));\n",
       "  --sklearn-color-background: var(--sg-background-color, var(--theme-background, var(--jp-layout-color0, white)));\n",
       "  --sklearn-color-border-box: var(--sg-text-color, var(--theme-code-foreground, var(--jp-content-font-color1, black)));\n",
       "  --sklearn-color-icon: #696969;\n",
       "\n",
       "  @media (prefers-color-scheme: dark) {\n",
       "    /* Redefinition of color scheme for dark theme */\n",
       "    --sklearn-color-text-on-default-background: var(--sg-text-color, var(--theme-code-foreground, var(--jp-content-font-color1, white)));\n",
       "    --sklearn-color-background: var(--sg-background-color, var(--theme-background, var(--jp-layout-color0, #111)));\n",
       "    --sklearn-color-border-box: var(--sg-text-color, var(--theme-code-foreground, var(--jp-content-font-color1, white)));\n",
       "    --sklearn-color-icon: #878787;\n",
       "  }\n",
       "}\n",
       "\n",
       "#sk-container-id-3 {\n",
       "  color: var(--sklearn-color-text);\n",
       "}\n",
       "\n",
       "#sk-container-id-3 pre {\n",
       "  padding: 0;\n",
       "}\n",
       "\n",
       "#sk-container-id-3 input.sk-hidden--visually {\n",
       "  border: 0;\n",
       "  clip: rect(1px 1px 1px 1px);\n",
       "  clip: rect(1px, 1px, 1px, 1px);\n",
       "  height: 1px;\n",
       "  margin: -1px;\n",
       "  overflow: hidden;\n",
       "  padding: 0;\n",
       "  position: absolute;\n",
       "  width: 1px;\n",
       "}\n",
       "\n",
       "#sk-container-id-3 div.sk-dashed-wrapped {\n",
       "  border: 1px dashed var(--sklearn-color-line);\n",
       "  margin: 0 0.4em 0.5em 0.4em;\n",
       "  box-sizing: border-box;\n",
       "  padding-bottom: 0.4em;\n",
       "  background-color: var(--sklearn-color-background);\n",
       "}\n",
       "\n",
       "#sk-container-id-3 div.sk-container {\n",
       "  /* jupyter's `normalize.less` sets `[hidden] { display: none; }`\n",
       "     but bootstrap.min.css set `[hidden] { display: none !important; }`\n",
       "     so we also need the `!important` here to be able to override the\n",
       "     default hidden behavior on the sphinx rendered scikit-learn.org.\n",
       "     See: https://github.com/scikit-learn/scikit-learn/issues/21755 */\n",
       "  display: inline-block !important;\n",
       "  position: relative;\n",
       "}\n",
       "\n",
       "#sk-container-id-3 div.sk-text-repr-fallback {\n",
       "  display: none;\n",
       "}\n",
       "\n",
       "div.sk-parallel-item,\n",
       "div.sk-serial,\n",
       "div.sk-item {\n",
       "  /* draw centered vertical line to link estimators */\n",
       "  background-image: linear-gradient(var(--sklearn-color-text-on-default-background), var(--sklearn-color-text-on-default-background));\n",
       "  background-size: 2px 100%;\n",
       "  background-repeat: no-repeat;\n",
       "  background-position: center center;\n",
       "}\n",
       "\n",
       "/* Parallel-specific style estimator block */\n",
       "\n",
       "#sk-container-id-3 div.sk-parallel-item::after {\n",
       "  content: \"\";\n",
       "  width: 100%;\n",
       "  border-bottom: 2px solid var(--sklearn-color-text-on-default-background);\n",
       "  flex-grow: 1;\n",
       "}\n",
       "\n",
       "#sk-container-id-3 div.sk-parallel {\n",
       "  display: flex;\n",
       "  align-items: stretch;\n",
       "  justify-content: center;\n",
       "  background-color: var(--sklearn-color-background);\n",
       "  position: relative;\n",
       "}\n",
       "\n",
       "#sk-container-id-3 div.sk-parallel-item {\n",
       "  display: flex;\n",
       "  flex-direction: column;\n",
       "}\n",
       "\n",
       "#sk-container-id-3 div.sk-parallel-item:first-child::after {\n",
       "  align-self: flex-end;\n",
       "  width: 50%;\n",
       "}\n",
       "\n",
       "#sk-container-id-3 div.sk-parallel-item:last-child::after {\n",
       "  align-self: flex-start;\n",
       "  width: 50%;\n",
       "}\n",
       "\n",
       "#sk-container-id-3 div.sk-parallel-item:only-child::after {\n",
       "  width: 0;\n",
       "}\n",
       "\n",
       "/* Serial-specific style estimator block */\n",
       "\n",
       "#sk-container-id-3 div.sk-serial {\n",
       "  display: flex;\n",
       "  flex-direction: column;\n",
       "  align-items: center;\n",
       "  background-color: var(--sklearn-color-background);\n",
       "  padding-right: 1em;\n",
       "  padding-left: 1em;\n",
       "}\n",
       "\n",
       "\n",
       "/* Toggleable style: style used for estimator/Pipeline/ColumnTransformer box that is\n",
       "clickable and can be expanded/collapsed.\n",
       "- Pipeline and ColumnTransformer use this feature and define the default style\n",
       "- Estimators will overwrite some part of the style using the `sk-estimator` class\n",
       "*/\n",
       "\n",
       "/* Pipeline and ColumnTransformer style (default) */\n",
       "\n",
       "#sk-container-id-3 div.sk-toggleable {\n",
       "  /* Default theme specific background. It is overwritten whether we have a\n",
       "  specific estimator or a Pipeline/ColumnTransformer */\n",
       "  background-color: var(--sklearn-color-background);\n",
       "}\n",
       "\n",
       "/* Toggleable label */\n",
       "#sk-container-id-3 label.sk-toggleable__label {\n",
       "  cursor: pointer;\n",
       "  display: block;\n",
       "  width: 100%;\n",
       "  margin-bottom: 0;\n",
       "  padding: 0.5em;\n",
       "  box-sizing: border-box;\n",
       "  text-align: center;\n",
       "}\n",
       "\n",
       "#sk-container-id-3 label.sk-toggleable__label-arrow:before {\n",
       "  /* Arrow on the left of the label */\n",
       "  content: \"▸\";\n",
       "  float: left;\n",
       "  margin-right: 0.25em;\n",
       "  color: var(--sklearn-color-icon);\n",
       "}\n",
       "\n",
       "#sk-container-id-3 label.sk-toggleable__label-arrow:hover:before {\n",
       "  color: var(--sklearn-color-text);\n",
       "}\n",
       "\n",
       "/* Toggleable content - dropdown */\n",
       "\n",
       "#sk-container-id-3 div.sk-toggleable__content {\n",
       "  max-height: 0;\n",
       "  max-width: 0;\n",
       "  overflow: hidden;\n",
       "  text-align: left;\n",
       "  /* unfitted */\n",
       "  background-color: var(--sklearn-color-unfitted-level-0);\n",
       "}\n",
       "\n",
       "#sk-container-id-3 div.sk-toggleable__content.fitted {\n",
       "  /* fitted */\n",
       "  background-color: var(--sklearn-color-fitted-level-0);\n",
       "}\n",
       "\n",
       "#sk-container-id-3 div.sk-toggleable__content pre {\n",
       "  margin: 0.2em;\n",
       "  border-radius: 0.25em;\n",
       "  color: var(--sklearn-color-text);\n",
       "  /* unfitted */\n",
       "  background-color: var(--sklearn-color-unfitted-level-0);\n",
       "}\n",
       "\n",
       "#sk-container-id-3 div.sk-toggleable__content.fitted pre {\n",
       "  /* unfitted */\n",
       "  background-color: var(--sklearn-color-fitted-level-0);\n",
       "}\n",
       "\n",
       "#sk-container-id-3 input.sk-toggleable__control:checked~div.sk-toggleable__content {\n",
       "  /* Expand drop-down */\n",
       "  max-height: 200px;\n",
       "  max-width: 100%;\n",
       "  overflow: auto;\n",
       "}\n",
       "\n",
       "#sk-container-id-3 input.sk-toggleable__control:checked~label.sk-toggleable__label-arrow:before {\n",
       "  content: \"▾\";\n",
       "}\n",
       "\n",
       "/* Pipeline/ColumnTransformer-specific style */\n",
       "\n",
       "#sk-container-id-3 div.sk-label input.sk-toggleable__control:checked~label.sk-toggleable__label {\n",
       "  color: var(--sklearn-color-text);\n",
       "  background-color: var(--sklearn-color-unfitted-level-2);\n",
       "}\n",
       "\n",
       "#sk-container-id-3 div.sk-label.fitted input.sk-toggleable__control:checked~label.sk-toggleable__label {\n",
       "  background-color: var(--sklearn-color-fitted-level-2);\n",
       "}\n",
       "\n",
       "/* Estimator-specific style */\n",
       "\n",
       "/* Colorize estimator box */\n",
       "#sk-container-id-3 div.sk-estimator input.sk-toggleable__control:checked~label.sk-toggleable__label {\n",
       "  /* unfitted */\n",
       "  background-color: var(--sklearn-color-unfitted-level-2);\n",
       "}\n",
       "\n",
       "#sk-container-id-3 div.sk-estimator.fitted input.sk-toggleable__control:checked~label.sk-toggleable__label {\n",
       "  /* fitted */\n",
       "  background-color: var(--sklearn-color-fitted-level-2);\n",
       "}\n",
       "\n",
       "#sk-container-id-3 div.sk-label label.sk-toggleable__label,\n",
       "#sk-container-id-3 div.sk-label label {\n",
       "  /* The background is the default theme color */\n",
       "  color: var(--sklearn-color-text-on-default-background);\n",
       "}\n",
       "\n",
       "/* On hover, darken the color of the background */\n",
       "#sk-container-id-3 div.sk-label:hover label.sk-toggleable__label {\n",
       "  color: var(--sklearn-color-text);\n",
       "  background-color: var(--sklearn-color-unfitted-level-2);\n",
       "}\n",
       "\n",
       "/* Label box, darken color on hover, fitted */\n",
       "#sk-container-id-3 div.sk-label.fitted:hover label.sk-toggleable__label.fitted {\n",
       "  color: var(--sklearn-color-text);\n",
       "  background-color: var(--sklearn-color-fitted-level-2);\n",
       "}\n",
       "\n",
       "/* Estimator label */\n",
       "\n",
       "#sk-container-id-3 div.sk-label label {\n",
       "  font-family: monospace;\n",
       "  font-weight: bold;\n",
       "  display: inline-block;\n",
       "  line-height: 1.2em;\n",
       "}\n",
       "\n",
       "#sk-container-id-3 div.sk-label-container {\n",
       "  text-align: center;\n",
       "}\n",
       "\n",
       "/* Estimator-specific */\n",
       "#sk-container-id-3 div.sk-estimator {\n",
       "  font-family: monospace;\n",
       "  border: 1px dotted var(--sklearn-color-border-box);\n",
       "  border-radius: 0.25em;\n",
       "  box-sizing: border-box;\n",
       "  margin-bottom: 0.5em;\n",
       "  /* unfitted */\n",
       "  background-color: var(--sklearn-color-unfitted-level-0);\n",
       "}\n",
       "\n",
       "#sk-container-id-3 div.sk-estimator.fitted {\n",
       "  /* fitted */\n",
       "  background-color: var(--sklearn-color-fitted-level-0);\n",
       "}\n",
       "\n",
       "/* on hover */\n",
       "#sk-container-id-3 div.sk-estimator:hover {\n",
       "  /* unfitted */\n",
       "  background-color: var(--sklearn-color-unfitted-level-2);\n",
       "}\n",
       "\n",
       "#sk-container-id-3 div.sk-estimator.fitted:hover {\n",
       "  /* fitted */\n",
       "  background-color: var(--sklearn-color-fitted-level-2);\n",
       "}\n",
       "\n",
       "/* Specification for estimator info (e.g. \"i\" and \"?\") */\n",
       "\n",
       "/* Common style for \"i\" and \"?\" */\n",
       "\n",
       ".sk-estimator-doc-link,\n",
       "a:link.sk-estimator-doc-link,\n",
       "a:visited.sk-estimator-doc-link {\n",
       "  float: right;\n",
       "  font-size: smaller;\n",
       "  line-height: 1em;\n",
       "  font-family: monospace;\n",
       "  background-color: var(--sklearn-color-background);\n",
       "  border-radius: 1em;\n",
       "  height: 1em;\n",
       "  width: 1em;\n",
       "  text-decoration: none !important;\n",
       "  margin-left: 1ex;\n",
       "  /* unfitted */\n",
       "  border: var(--sklearn-color-unfitted-level-1) 1pt solid;\n",
       "  color: var(--sklearn-color-unfitted-level-1);\n",
       "}\n",
       "\n",
       ".sk-estimator-doc-link.fitted,\n",
       "a:link.sk-estimator-doc-link.fitted,\n",
       "a:visited.sk-estimator-doc-link.fitted {\n",
       "  /* fitted */\n",
       "  border: var(--sklearn-color-fitted-level-1) 1pt solid;\n",
       "  color: var(--sklearn-color-fitted-level-1);\n",
       "}\n",
       "\n",
       "/* On hover */\n",
       "div.sk-estimator:hover .sk-estimator-doc-link:hover,\n",
       ".sk-estimator-doc-link:hover,\n",
       "div.sk-label-container:hover .sk-estimator-doc-link:hover,\n",
       ".sk-estimator-doc-link:hover {\n",
       "  /* unfitted */\n",
       "  background-color: var(--sklearn-color-unfitted-level-3);\n",
       "  color: var(--sklearn-color-background);\n",
       "  text-decoration: none;\n",
       "}\n",
       "\n",
       "div.sk-estimator.fitted:hover .sk-estimator-doc-link.fitted:hover,\n",
       ".sk-estimator-doc-link.fitted:hover,\n",
       "div.sk-label-container:hover .sk-estimator-doc-link.fitted:hover,\n",
       ".sk-estimator-doc-link.fitted:hover {\n",
       "  /* fitted */\n",
       "  background-color: var(--sklearn-color-fitted-level-3);\n",
       "  color: var(--sklearn-color-background);\n",
       "  text-decoration: none;\n",
       "}\n",
       "\n",
       "/* Span, style for the box shown on hovering the info icon */\n",
       ".sk-estimator-doc-link span {\n",
       "  display: none;\n",
       "  z-index: 9999;\n",
       "  position: relative;\n",
       "  font-weight: normal;\n",
       "  right: .2ex;\n",
       "  padding: .5ex;\n",
       "  margin: .5ex;\n",
       "  width: min-content;\n",
       "  min-width: 20ex;\n",
       "  max-width: 50ex;\n",
       "  color: var(--sklearn-color-text);\n",
       "  box-shadow: 2pt 2pt 4pt #999;\n",
       "  /* unfitted */\n",
       "  background: var(--sklearn-color-unfitted-level-0);\n",
       "  border: .5pt solid var(--sklearn-color-unfitted-level-3);\n",
       "}\n",
       "\n",
       ".sk-estimator-doc-link.fitted span {\n",
       "  /* fitted */\n",
       "  background: var(--sklearn-color-fitted-level-0);\n",
       "  border: var(--sklearn-color-fitted-level-3);\n",
       "}\n",
       "\n",
       ".sk-estimator-doc-link:hover span {\n",
       "  display: block;\n",
       "}\n",
       "\n",
       "/* \"?\"-specific style due to the `<a>` HTML tag */\n",
       "\n",
       "#sk-container-id-3 a.estimator_doc_link {\n",
       "  float: right;\n",
       "  font-size: 1rem;\n",
       "  line-height: 1em;\n",
       "  font-family: monospace;\n",
       "  background-color: var(--sklearn-color-background);\n",
       "  border-radius: 1rem;\n",
       "  height: 1rem;\n",
       "  width: 1rem;\n",
       "  text-decoration: none;\n",
       "  /* unfitted */\n",
       "  color: var(--sklearn-color-unfitted-level-1);\n",
       "  border: var(--sklearn-color-unfitted-level-1) 1pt solid;\n",
       "}\n",
       "\n",
       "#sk-container-id-3 a.estimator_doc_link.fitted {\n",
       "  /* fitted */\n",
       "  border: var(--sklearn-color-fitted-level-1) 1pt solid;\n",
       "  color: var(--sklearn-color-fitted-level-1);\n",
       "}\n",
       "\n",
       "/* On hover */\n",
       "#sk-container-id-3 a.estimator_doc_link:hover {\n",
       "  /* unfitted */\n",
       "  background-color: var(--sklearn-color-unfitted-level-3);\n",
       "  color: var(--sklearn-color-background);\n",
       "  text-decoration: none;\n",
       "}\n",
       "\n",
       "#sk-container-id-3 a.estimator_doc_link.fitted:hover {\n",
       "  /* fitted */\n",
       "  background-color: var(--sklearn-color-fitted-level-3);\n",
       "}\n",
       "</style><div id=\"sk-container-id-3\" class=\"sk-top-container\"><div class=\"sk-text-repr-fallback\"><pre>LogisticRegression()</pre><b>In a Jupyter environment, please rerun this cell to show the HTML representation or trust the notebook. <br />On GitHub, the HTML representation is unable to render, please try loading this page with nbviewer.org.</b></div><div class=\"sk-container\" hidden><div class=\"sk-item\"><div class=\"sk-estimator fitted sk-toggleable\"><input class=\"sk-toggleable__control sk-hidden--visually\" id=\"sk-estimator-id-3\" type=\"checkbox\" checked><label for=\"sk-estimator-id-3\" class=\"sk-toggleable__label fitted sk-toggleable__label-arrow fitted\">&nbsp;&nbsp;LogisticRegression<a class=\"sk-estimator-doc-link fitted\" rel=\"noreferrer\" target=\"_blank\" href=\"https://scikit-learn.org/1.5/modules/generated/sklearn.linear_model.LogisticRegression.html\">?<span>Documentation for LogisticRegression</span></a><span class=\"sk-estimator-doc-link fitted\">i<span>Fitted</span></span></label><div class=\"sk-toggleable__content fitted\"><pre>LogisticRegression()</pre></div> </div></div></div></div>"
      ],
      "text/plain": [
       "LogisticRegression()"
      ]
     },
     "execution_count": 219,
     "metadata": {},
     "output_type": "execute_result"
    }
   ],
   "source": [
    "clf.fit(X_train, y_train.values.ravel())"
   ]
  },
  {
   "cell_type": "code",
   "execution_count": 220,
   "id": "4ca4c176-af14-479f-b9b0-723dc5a5dbf3",
   "metadata": {},
   "outputs": [
    {
     "name": "stdout",
     "output_type": "stream",
     "text": [
      "ROC-AUC: 0.8980\n"
     ]
    }
   ],
   "source": [
    "from sklearn.metrics import roc_auc_score\n",
    "\n",
    "y_prob = clf.predict_proba(X_test)[:, 1]  # Probability for class 1\n",
    "roc_auc = roc_auc_score(y_test, y_prob)\n",
    "print(f\"ROC-AUC: {roc_auc:.4f}\")"
   ]
  },
  {
   "cell_type": "code",
   "execution_count": 221,
   "id": "71478cf5-dd72-4e06-b37f-4f646b06e6c2",
   "metadata": {},
   "outputs": [],
   "source": [
    "y_pred = clf.predict(X_test)"
   ]
  },
  {
   "cell_type": "code",
   "execution_count": 223,
   "id": "222a983e-0f2f-40e8-a008-e3ebaa705cd4",
   "metadata": {},
   "outputs": [],
   "source": [
    "X1 = balanced_df.set_index(['Target', 'Analogue'])[['Tanimoto']]\n",
    "y1 = balanced_df.set_index(['Target', 'Analogue'])[['label']]"
   ]
  },
  {
   "cell_type": "code",
   "execution_count": 226,
   "id": "f92dc0c3-d751-4f50-b23e-00330d4af704",
   "metadata": {},
   "outputs": [],
   "source": [
    "X_train1, X_test1, y_train1, y_test1 = train_test_split(X1, y1, stratify = y1, test_size = 0.2)"
   ]
  },
  {
   "cell_type": "code",
   "execution_count": 227,
   "id": "e9150196-8676-491a-a87b-d119b3fce448",
   "metadata": {},
   "outputs": [],
   "source": [
    "clf1 = LogisticRegression()"
   ]
  },
  {
   "cell_type": "code",
   "execution_count": 228,
   "id": "109f0dc9-a54e-4a62-8c66-939a2e722191",
   "metadata": {},
   "outputs": [],
   "source": [
    "results1 = cross_validate(clf1, X_train1, y_train1.values.ravel(), cv = cv, scoring = {'f1':make_scorer(f1_score)}, return_train_score=True, n_jobs = -1)"
   ]
  },
  {
   "cell_type": "code",
   "execution_count": 229,
   "id": "de70f052-b816-4204-bbe0-2ec85478d613",
   "metadata": {},
   "outputs": [
    {
     "data": {
      "text/plain": [
       "{'fit_time': array([0.0120194 , 0.01135039, 0.01117992, 0.00987434, 0.00904393]),\n",
       " 'score_time': array([0.00403214, 0.00382495, 0.00514627, 0.00480723, 0.00476313]),\n",
       " 'test_f1': array([0.8973306 , 0.89795918, 0.90132248, 0.88706366, 0.89322382]),\n",
       " 'train_f1': array([0.89491179, 0.89475032, 0.89390056, 0.89775051, 0.89593454])}"
      ]
     },
     "execution_count": 229,
     "metadata": {},
     "output_type": "execute_result"
    }
   ],
   "source": [
    "results1"
   ]
  },
  {
   "cell_type": "code",
   "execution_count": 230,
   "id": "cd3ac854-57d8-45b0-bec5-7e301c38bb83",
   "metadata": {},
   "outputs": [
    {
     "data": {
      "text/html": [
       "<style>#sk-container-id-4 {\n",
       "  /* Definition of color scheme common for light and dark mode */\n",
       "  --sklearn-color-text: black;\n",
       "  --sklearn-color-line: gray;\n",
       "  /* Definition of color scheme for unfitted estimators */\n",
       "  --sklearn-color-unfitted-level-0: #fff5e6;\n",
       "  --sklearn-color-unfitted-level-1: #f6e4d2;\n",
       "  --sklearn-color-unfitted-level-2: #ffe0b3;\n",
       "  --sklearn-color-unfitted-level-3: chocolate;\n",
       "  /* Definition of color scheme for fitted estimators */\n",
       "  --sklearn-color-fitted-level-0: #f0f8ff;\n",
       "  --sklearn-color-fitted-level-1: #d4ebff;\n",
       "  --sklearn-color-fitted-level-2: #b3dbfd;\n",
       "  --sklearn-color-fitted-level-3: cornflowerblue;\n",
       "\n",
       "  /* Specific color for light theme */\n",
       "  --sklearn-color-text-on-default-background: var(--sg-text-color, var(--theme-code-foreground, var(--jp-content-font-color1, black)));\n",
       "  --sklearn-color-background: var(--sg-background-color, var(--theme-background, var(--jp-layout-color0, white)));\n",
       "  --sklearn-color-border-box: var(--sg-text-color, var(--theme-code-foreground, var(--jp-content-font-color1, black)));\n",
       "  --sklearn-color-icon: #696969;\n",
       "\n",
       "  @media (prefers-color-scheme: dark) {\n",
       "    /* Redefinition of color scheme for dark theme */\n",
       "    --sklearn-color-text-on-default-background: var(--sg-text-color, var(--theme-code-foreground, var(--jp-content-font-color1, white)));\n",
       "    --sklearn-color-background: var(--sg-background-color, var(--theme-background, var(--jp-layout-color0, #111)));\n",
       "    --sklearn-color-border-box: var(--sg-text-color, var(--theme-code-foreground, var(--jp-content-font-color1, white)));\n",
       "    --sklearn-color-icon: #878787;\n",
       "  }\n",
       "}\n",
       "\n",
       "#sk-container-id-4 {\n",
       "  color: var(--sklearn-color-text);\n",
       "}\n",
       "\n",
       "#sk-container-id-4 pre {\n",
       "  padding: 0;\n",
       "}\n",
       "\n",
       "#sk-container-id-4 input.sk-hidden--visually {\n",
       "  border: 0;\n",
       "  clip: rect(1px 1px 1px 1px);\n",
       "  clip: rect(1px, 1px, 1px, 1px);\n",
       "  height: 1px;\n",
       "  margin: -1px;\n",
       "  overflow: hidden;\n",
       "  padding: 0;\n",
       "  position: absolute;\n",
       "  width: 1px;\n",
       "}\n",
       "\n",
       "#sk-container-id-4 div.sk-dashed-wrapped {\n",
       "  border: 1px dashed var(--sklearn-color-line);\n",
       "  margin: 0 0.4em 0.5em 0.4em;\n",
       "  box-sizing: border-box;\n",
       "  padding-bottom: 0.4em;\n",
       "  background-color: var(--sklearn-color-background);\n",
       "}\n",
       "\n",
       "#sk-container-id-4 div.sk-container {\n",
       "  /* jupyter's `normalize.less` sets `[hidden] { display: none; }`\n",
       "     but bootstrap.min.css set `[hidden] { display: none !important; }`\n",
       "     so we also need the `!important` here to be able to override the\n",
       "     default hidden behavior on the sphinx rendered scikit-learn.org.\n",
       "     See: https://github.com/scikit-learn/scikit-learn/issues/21755 */\n",
       "  display: inline-block !important;\n",
       "  position: relative;\n",
       "}\n",
       "\n",
       "#sk-container-id-4 div.sk-text-repr-fallback {\n",
       "  display: none;\n",
       "}\n",
       "\n",
       "div.sk-parallel-item,\n",
       "div.sk-serial,\n",
       "div.sk-item {\n",
       "  /* draw centered vertical line to link estimators */\n",
       "  background-image: linear-gradient(var(--sklearn-color-text-on-default-background), var(--sklearn-color-text-on-default-background));\n",
       "  background-size: 2px 100%;\n",
       "  background-repeat: no-repeat;\n",
       "  background-position: center center;\n",
       "}\n",
       "\n",
       "/* Parallel-specific style estimator block */\n",
       "\n",
       "#sk-container-id-4 div.sk-parallel-item::after {\n",
       "  content: \"\";\n",
       "  width: 100%;\n",
       "  border-bottom: 2px solid var(--sklearn-color-text-on-default-background);\n",
       "  flex-grow: 1;\n",
       "}\n",
       "\n",
       "#sk-container-id-4 div.sk-parallel {\n",
       "  display: flex;\n",
       "  align-items: stretch;\n",
       "  justify-content: center;\n",
       "  background-color: var(--sklearn-color-background);\n",
       "  position: relative;\n",
       "}\n",
       "\n",
       "#sk-container-id-4 div.sk-parallel-item {\n",
       "  display: flex;\n",
       "  flex-direction: column;\n",
       "}\n",
       "\n",
       "#sk-container-id-4 div.sk-parallel-item:first-child::after {\n",
       "  align-self: flex-end;\n",
       "  width: 50%;\n",
       "}\n",
       "\n",
       "#sk-container-id-4 div.sk-parallel-item:last-child::after {\n",
       "  align-self: flex-start;\n",
       "  width: 50%;\n",
       "}\n",
       "\n",
       "#sk-container-id-4 div.sk-parallel-item:only-child::after {\n",
       "  width: 0;\n",
       "}\n",
       "\n",
       "/* Serial-specific style estimator block */\n",
       "\n",
       "#sk-container-id-4 div.sk-serial {\n",
       "  display: flex;\n",
       "  flex-direction: column;\n",
       "  align-items: center;\n",
       "  background-color: var(--sklearn-color-background);\n",
       "  padding-right: 1em;\n",
       "  padding-left: 1em;\n",
       "}\n",
       "\n",
       "\n",
       "/* Toggleable style: style used for estimator/Pipeline/ColumnTransformer box that is\n",
       "clickable and can be expanded/collapsed.\n",
       "- Pipeline and ColumnTransformer use this feature and define the default style\n",
       "- Estimators will overwrite some part of the style using the `sk-estimator` class\n",
       "*/\n",
       "\n",
       "/* Pipeline and ColumnTransformer style (default) */\n",
       "\n",
       "#sk-container-id-4 div.sk-toggleable {\n",
       "  /* Default theme specific background. It is overwritten whether we have a\n",
       "  specific estimator or a Pipeline/ColumnTransformer */\n",
       "  background-color: var(--sklearn-color-background);\n",
       "}\n",
       "\n",
       "/* Toggleable label */\n",
       "#sk-container-id-4 label.sk-toggleable__label {\n",
       "  cursor: pointer;\n",
       "  display: block;\n",
       "  width: 100%;\n",
       "  margin-bottom: 0;\n",
       "  padding: 0.5em;\n",
       "  box-sizing: border-box;\n",
       "  text-align: center;\n",
       "}\n",
       "\n",
       "#sk-container-id-4 label.sk-toggleable__label-arrow:before {\n",
       "  /* Arrow on the left of the label */\n",
       "  content: \"▸\";\n",
       "  float: left;\n",
       "  margin-right: 0.25em;\n",
       "  color: var(--sklearn-color-icon);\n",
       "}\n",
       "\n",
       "#sk-container-id-4 label.sk-toggleable__label-arrow:hover:before {\n",
       "  color: var(--sklearn-color-text);\n",
       "}\n",
       "\n",
       "/* Toggleable content - dropdown */\n",
       "\n",
       "#sk-container-id-4 div.sk-toggleable__content {\n",
       "  max-height: 0;\n",
       "  max-width: 0;\n",
       "  overflow: hidden;\n",
       "  text-align: left;\n",
       "  /* unfitted */\n",
       "  background-color: var(--sklearn-color-unfitted-level-0);\n",
       "}\n",
       "\n",
       "#sk-container-id-4 div.sk-toggleable__content.fitted {\n",
       "  /* fitted */\n",
       "  background-color: var(--sklearn-color-fitted-level-0);\n",
       "}\n",
       "\n",
       "#sk-container-id-4 div.sk-toggleable__content pre {\n",
       "  margin: 0.2em;\n",
       "  border-radius: 0.25em;\n",
       "  color: var(--sklearn-color-text);\n",
       "  /* unfitted */\n",
       "  background-color: var(--sklearn-color-unfitted-level-0);\n",
       "}\n",
       "\n",
       "#sk-container-id-4 div.sk-toggleable__content.fitted pre {\n",
       "  /* unfitted */\n",
       "  background-color: var(--sklearn-color-fitted-level-0);\n",
       "}\n",
       "\n",
       "#sk-container-id-4 input.sk-toggleable__control:checked~div.sk-toggleable__content {\n",
       "  /* Expand drop-down */\n",
       "  max-height: 200px;\n",
       "  max-width: 100%;\n",
       "  overflow: auto;\n",
       "}\n",
       "\n",
       "#sk-container-id-4 input.sk-toggleable__control:checked~label.sk-toggleable__label-arrow:before {\n",
       "  content: \"▾\";\n",
       "}\n",
       "\n",
       "/* Pipeline/ColumnTransformer-specific style */\n",
       "\n",
       "#sk-container-id-4 div.sk-label input.sk-toggleable__control:checked~label.sk-toggleable__label {\n",
       "  color: var(--sklearn-color-text);\n",
       "  background-color: var(--sklearn-color-unfitted-level-2);\n",
       "}\n",
       "\n",
       "#sk-container-id-4 div.sk-label.fitted input.sk-toggleable__control:checked~label.sk-toggleable__label {\n",
       "  background-color: var(--sklearn-color-fitted-level-2);\n",
       "}\n",
       "\n",
       "/* Estimator-specific style */\n",
       "\n",
       "/* Colorize estimator box */\n",
       "#sk-container-id-4 div.sk-estimator input.sk-toggleable__control:checked~label.sk-toggleable__label {\n",
       "  /* unfitted */\n",
       "  background-color: var(--sklearn-color-unfitted-level-2);\n",
       "}\n",
       "\n",
       "#sk-container-id-4 div.sk-estimator.fitted input.sk-toggleable__control:checked~label.sk-toggleable__label {\n",
       "  /* fitted */\n",
       "  background-color: var(--sklearn-color-fitted-level-2);\n",
       "}\n",
       "\n",
       "#sk-container-id-4 div.sk-label label.sk-toggleable__label,\n",
       "#sk-container-id-4 div.sk-label label {\n",
       "  /* The background is the default theme color */\n",
       "  color: var(--sklearn-color-text-on-default-background);\n",
       "}\n",
       "\n",
       "/* On hover, darken the color of the background */\n",
       "#sk-container-id-4 div.sk-label:hover label.sk-toggleable__label {\n",
       "  color: var(--sklearn-color-text);\n",
       "  background-color: var(--sklearn-color-unfitted-level-2);\n",
       "}\n",
       "\n",
       "/* Label box, darken color on hover, fitted */\n",
       "#sk-container-id-4 div.sk-label.fitted:hover label.sk-toggleable__label.fitted {\n",
       "  color: var(--sklearn-color-text);\n",
       "  background-color: var(--sklearn-color-fitted-level-2);\n",
       "}\n",
       "\n",
       "/* Estimator label */\n",
       "\n",
       "#sk-container-id-4 div.sk-label label {\n",
       "  font-family: monospace;\n",
       "  font-weight: bold;\n",
       "  display: inline-block;\n",
       "  line-height: 1.2em;\n",
       "}\n",
       "\n",
       "#sk-container-id-4 div.sk-label-container {\n",
       "  text-align: center;\n",
       "}\n",
       "\n",
       "/* Estimator-specific */\n",
       "#sk-container-id-4 div.sk-estimator {\n",
       "  font-family: monospace;\n",
       "  border: 1px dotted var(--sklearn-color-border-box);\n",
       "  border-radius: 0.25em;\n",
       "  box-sizing: border-box;\n",
       "  margin-bottom: 0.5em;\n",
       "  /* unfitted */\n",
       "  background-color: var(--sklearn-color-unfitted-level-0);\n",
       "}\n",
       "\n",
       "#sk-container-id-4 div.sk-estimator.fitted {\n",
       "  /* fitted */\n",
       "  background-color: var(--sklearn-color-fitted-level-0);\n",
       "}\n",
       "\n",
       "/* on hover */\n",
       "#sk-container-id-4 div.sk-estimator:hover {\n",
       "  /* unfitted */\n",
       "  background-color: var(--sklearn-color-unfitted-level-2);\n",
       "}\n",
       "\n",
       "#sk-container-id-4 div.sk-estimator.fitted:hover {\n",
       "  /* fitted */\n",
       "  background-color: var(--sklearn-color-fitted-level-2);\n",
       "}\n",
       "\n",
       "/* Specification for estimator info (e.g. \"i\" and \"?\") */\n",
       "\n",
       "/* Common style for \"i\" and \"?\" */\n",
       "\n",
       ".sk-estimator-doc-link,\n",
       "a:link.sk-estimator-doc-link,\n",
       "a:visited.sk-estimator-doc-link {\n",
       "  float: right;\n",
       "  font-size: smaller;\n",
       "  line-height: 1em;\n",
       "  font-family: monospace;\n",
       "  background-color: var(--sklearn-color-background);\n",
       "  border-radius: 1em;\n",
       "  height: 1em;\n",
       "  width: 1em;\n",
       "  text-decoration: none !important;\n",
       "  margin-left: 1ex;\n",
       "  /* unfitted */\n",
       "  border: var(--sklearn-color-unfitted-level-1) 1pt solid;\n",
       "  color: var(--sklearn-color-unfitted-level-1);\n",
       "}\n",
       "\n",
       ".sk-estimator-doc-link.fitted,\n",
       "a:link.sk-estimator-doc-link.fitted,\n",
       "a:visited.sk-estimator-doc-link.fitted {\n",
       "  /* fitted */\n",
       "  border: var(--sklearn-color-fitted-level-1) 1pt solid;\n",
       "  color: var(--sklearn-color-fitted-level-1);\n",
       "}\n",
       "\n",
       "/* On hover */\n",
       "div.sk-estimator:hover .sk-estimator-doc-link:hover,\n",
       ".sk-estimator-doc-link:hover,\n",
       "div.sk-label-container:hover .sk-estimator-doc-link:hover,\n",
       ".sk-estimator-doc-link:hover {\n",
       "  /* unfitted */\n",
       "  background-color: var(--sklearn-color-unfitted-level-3);\n",
       "  color: var(--sklearn-color-background);\n",
       "  text-decoration: none;\n",
       "}\n",
       "\n",
       "div.sk-estimator.fitted:hover .sk-estimator-doc-link.fitted:hover,\n",
       ".sk-estimator-doc-link.fitted:hover,\n",
       "div.sk-label-container:hover .sk-estimator-doc-link.fitted:hover,\n",
       ".sk-estimator-doc-link.fitted:hover {\n",
       "  /* fitted */\n",
       "  background-color: var(--sklearn-color-fitted-level-3);\n",
       "  color: var(--sklearn-color-background);\n",
       "  text-decoration: none;\n",
       "}\n",
       "\n",
       "/* Span, style for the box shown on hovering the info icon */\n",
       ".sk-estimator-doc-link span {\n",
       "  display: none;\n",
       "  z-index: 9999;\n",
       "  position: relative;\n",
       "  font-weight: normal;\n",
       "  right: .2ex;\n",
       "  padding: .5ex;\n",
       "  margin: .5ex;\n",
       "  width: min-content;\n",
       "  min-width: 20ex;\n",
       "  max-width: 50ex;\n",
       "  color: var(--sklearn-color-text);\n",
       "  box-shadow: 2pt 2pt 4pt #999;\n",
       "  /* unfitted */\n",
       "  background: var(--sklearn-color-unfitted-level-0);\n",
       "  border: .5pt solid var(--sklearn-color-unfitted-level-3);\n",
       "}\n",
       "\n",
       ".sk-estimator-doc-link.fitted span {\n",
       "  /* fitted */\n",
       "  background: var(--sklearn-color-fitted-level-0);\n",
       "  border: var(--sklearn-color-fitted-level-3);\n",
       "}\n",
       "\n",
       ".sk-estimator-doc-link:hover span {\n",
       "  display: block;\n",
       "}\n",
       "\n",
       "/* \"?\"-specific style due to the `<a>` HTML tag */\n",
       "\n",
       "#sk-container-id-4 a.estimator_doc_link {\n",
       "  float: right;\n",
       "  font-size: 1rem;\n",
       "  line-height: 1em;\n",
       "  font-family: monospace;\n",
       "  background-color: var(--sklearn-color-background);\n",
       "  border-radius: 1rem;\n",
       "  height: 1rem;\n",
       "  width: 1rem;\n",
       "  text-decoration: none;\n",
       "  /* unfitted */\n",
       "  color: var(--sklearn-color-unfitted-level-1);\n",
       "  border: var(--sklearn-color-unfitted-level-1) 1pt solid;\n",
       "}\n",
       "\n",
       "#sk-container-id-4 a.estimator_doc_link.fitted {\n",
       "  /* fitted */\n",
       "  border: var(--sklearn-color-fitted-level-1) 1pt solid;\n",
       "  color: var(--sklearn-color-fitted-level-1);\n",
       "}\n",
       "\n",
       "/* On hover */\n",
       "#sk-container-id-4 a.estimator_doc_link:hover {\n",
       "  /* unfitted */\n",
       "  background-color: var(--sklearn-color-unfitted-level-3);\n",
       "  color: var(--sklearn-color-background);\n",
       "  text-decoration: none;\n",
       "}\n",
       "\n",
       "#sk-container-id-4 a.estimator_doc_link.fitted:hover {\n",
       "  /* fitted */\n",
       "  background-color: var(--sklearn-color-fitted-level-3);\n",
       "}\n",
       "</style><div id=\"sk-container-id-4\" class=\"sk-top-container\"><div class=\"sk-text-repr-fallback\"><pre>LogisticRegression()</pre><b>In a Jupyter environment, please rerun this cell to show the HTML representation or trust the notebook. <br />On GitHub, the HTML representation is unable to render, please try loading this page with nbviewer.org.</b></div><div class=\"sk-container\" hidden><div class=\"sk-item\"><div class=\"sk-estimator fitted sk-toggleable\"><input class=\"sk-toggleable__control sk-hidden--visually\" id=\"sk-estimator-id-4\" type=\"checkbox\" checked><label for=\"sk-estimator-id-4\" class=\"sk-toggleable__label fitted sk-toggleable__label-arrow fitted\">&nbsp;&nbsp;LogisticRegression<a class=\"sk-estimator-doc-link fitted\" rel=\"noreferrer\" target=\"_blank\" href=\"https://scikit-learn.org/1.5/modules/generated/sklearn.linear_model.LogisticRegression.html\">?<span>Documentation for LogisticRegression</span></a><span class=\"sk-estimator-doc-link fitted\">i<span>Fitted</span></span></label><div class=\"sk-toggleable__content fitted\"><pre>LogisticRegression()</pre></div> </div></div></div></div>"
      ],
      "text/plain": [
       "LogisticRegression()"
      ]
     },
     "execution_count": 230,
     "metadata": {},
     "output_type": "execute_result"
    }
   ],
   "source": [
    "clf1.fit(X_train1, y_train1.values.ravel())"
   ]
  },
  {
   "cell_type": "code",
   "execution_count": 231,
   "id": "5817e1e6-1b2c-4812-84d1-aa060bd2112f",
   "metadata": {},
   "outputs": [
    {
     "name": "stdout",
     "output_type": "stream",
     "text": [
      "ROC-AUC: 0.9647\n"
     ]
    }
   ],
   "source": [
    "y_prob1 = clf1.predict_proba(X_test1)[:, 1]  # Probability for class 1\n",
    "roc_auc = roc_auc_score(y_test1, y_prob1)\n",
    "print(f\"ROC-AUC: {roc_auc:.4f}\")"
   ]
  },
  {
   "cell_type": "code",
   "execution_count": 232,
   "id": "13972957-2132-45bc-90ae-3f388812f1e8",
   "metadata": {},
   "outputs": [],
   "source": [
    "y_pred1 = clf1.predict(X_test1)"
   ]
  },
  {
   "cell_type": "code",
   "execution_count": 233,
   "id": "4ee578c4-d38c-44f2-bc30-745057b34828",
   "metadata": {},
   "outputs": [],
   "source": [
    "from sklearn.metrics import confusion_matrix, classification_report"
   ]
  },
  {
   "cell_type": "code",
   "execution_count": 234,
   "id": "f42d81b0-f3c2-4025-aa53-063f563295b6",
   "metadata": {},
   "outputs": [
    {
     "data": {
      "text/plain": [
       "array([[595,  37],\n",
       "       [ 86, 546]])"
      ]
     },
     "execution_count": 234,
     "metadata": {},
     "output_type": "execute_result"
    }
   ],
   "source": [
    "confusion_matrix(y_test1,y_pred1)"
   ]
  },
  {
   "cell_type": "code",
   "execution_count": 235,
   "id": "c326243b-0cce-4318-b8cb-4c8bc584baa5",
   "metadata": {},
   "outputs": [
    {
     "name": "stdout",
     "output_type": "stream",
     "text": [
      "              precision    recall  f1-score   support\n",
      "\n",
      "           0       0.87      0.94      0.91       632\n",
      "           1       0.94      0.86      0.90       632\n",
      "\n",
      "    accuracy                           0.90      1264\n",
      "   macro avg       0.91      0.90      0.90      1264\n",
      "weighted avg       0.91      0.90      0.90      1264\n",
      "\n"
     ]
    }
   ],
   "source": [
    "print(classification_report(y_test1,y_pred1))"
   ]
  },
  {
   "cell_type": "code",
   "execution_count": 236,
   "id": "0413fd70-fb8e-49cf-91a2-24bff126c0ea",
   "metadata": {},
   "outputs": [
    {
     "name": "stdout",
     "output_type": "stream",
     "text": [
      "              precision    recall  f1-score   support\n",
      "\n",
      "           0       0.84      0.80      0.82       632\n",
      "           1       0.81      0.85      0.83       632\n",
      "\n",
      "    accuracy                           0.82      1264\n",
      "   macro avg       0.83      0.82      0.82      1264\n",
      "weighted avg       0.83      0.82      0.82      1264\n",
      "\n"
     ]
    }
   ],
   "source": [
    "print(classification_report(y_test,y_pred))"
   ]
  },
  {
   "cell_type": "code",
   "execution_count": 237,
   "id": "cd66ba0a-8190-4cc7-ae30-6ef87ed902ad",
   "metadata": {},
   "outputs": [
    {
     "data": {
      "text/plain": [
       "array([[506, 126],\n",
       "       [ 96, 536]])"
      ]
     },
     "execution_count": 237,
     "metadata": {},
     "output_type": "execute_result"
    }
   ],
   "source": [
    "confusion_matrix(y_test,y_pred)"
   ]
  },
  {
   "cell_type": "code",
   "execution_count": null,
   "id": "17a204e7-a2c1-4d5b-99f5-ef2a73b7c838",
   "metadata": {},
   "outputs": [],
   "source": []
  },
  {
   "cell_type": "code",
   "execution_count": null,
   "id": "56af8736-8594-4c3f-914f-1893aaa52958",
   "metadata": {},
   "outputs": [],
   "source": []
  },
  {
   "cell_type": "code",
   "execution_count": null,
   "id": "a9193166-7459-4dfb-b11f-ecf5599b5715",
   "metadata": {},
   "outputs": [],
   "source": []
  }
 ],
 "metadata": {
  "kernelspec": {
   "display_name": "pytorch_cuda",
   "language": "python",
   "name": "pytorch_cuda"
  },
  "language_info": {
   "codemirror_mode": {
    "name": "ipython",
    "version": 3
   },
   "file_extension": ".py",
   "mimetype": "text/x-python",
   "name": "python",
   "nbconvert_exporter": "python",
   "pygments_lexer": "ipython3",
   "version": "3.11.10"
  },
  "widgets": {
   "application/vnd.jupyter.widget-state+json": {
    "state": {},
    "version_major": 2,
    "version_minor": 0
   }
  }
 },
 "nbformat": 4,
 "nbformat_minor": 5
}
