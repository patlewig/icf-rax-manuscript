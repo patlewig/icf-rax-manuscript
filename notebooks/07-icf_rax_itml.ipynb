{
 "cells": [
  {
   "cell_type": "code",
   "execution_count": 1,
   "id": "11f50688-c0ec-461e-bbf5-51b5246076a7",
   "metadata": {},
   "outputs": [],
   "source": [
    "import matplotlib.pyplot as plt"
   ]
  },
  {
   "cell_type": "code",
   "execution_count": 2,
   "id": "f06a975b-43af-43dc-b065-b56a89756eba",
   "metadata": {},
   "outputs": [],
   "source": [
    "import pandas as pd\n",
    "import numpy as np\n",
    "%matplotlib inline\n",
    "from rdkit import Chem\n",
    "from rdkit.Chem import AllChem\n",
    "import openpyxl"
   ]
  },
  {
   "cell_type": "code",
   "execution_count": 3,
   "id": "ea723bdd-1f00-4794-a235-20a28d30b817",
   "metadata": {},
   "outputs": [],
   "source": [
    "import os"
   ]
  },
  {
   "cell_type": "code",
   "execution_count": 4,
   "id": "b508a920-0b0a-4f13-bfbc-80f488198048",
   "metadata": {},
   "outputs": [],
   "source": [
    "TOP = os.getcwd().replace('notebooks', '')\n",
    "raw_dir = TOP + 'data/raw/'\n",
    "processed_dir = TOP + 'data/processed/'\n",
    "interim_dir = TOP +'data/interim/'"
   ]
  },
  {
   "cell_type": "code",
   "execution_count": 5,
   "id": "e19ab639-b0bd-4381-8756-f1efbbe7845e",
   "metadata": {},
   "outputs": [
    {
     "data": {
      "text/html": [
       "<div>\n",
       "<style scoped>\n",
       "    .dataframe tbody tr th:only-of-type {\n",
       "        vertical-align: middle;\n",
       "    }\n",
       "\n",
       "    .dataframe tbody tr th {\n",
       "        vertical-align: top;\n",
       "    }\n",
       "\n",
       "    .dataframe thead th {\n",
       "        text-align: right;\n",
       "    }\n",
       "</style>\n",
       "<table border=\"1\" class=\"dataframe\">\n",
       "  <thead>\n",
       "    <tr style=\"text-align: right;\">\n",
       "      <th></th>\n",
       "      <th>Target</th>\n",
       "      <th>Analogue</th>\n",
       "      <th>Label</th>\n",
       "      <th>analogue_smi</th>\n",
       "      <th>target_smi</th>\n",
       "      <th>analogue_mol</th>\n",
       "      <th>target_mol</th>\n",
       "      <th>fps_target</th>\n",
       "      <th>fps_analogue</th>\n",
       "      <th>tanimoto</th>\n",
       "      <th>Euclidean</th>\n",
       "    </tr>\n",
       "  </thead>\n",
       "  <tbody>\n",
       "    <tr>\n",
       "      <th>94147</th>\n",
       "      <td>DTXSID60626563</td>\n",
       "      <td>DTXSID6044068</td>\n",
       "      <td>1</td>\n",
       "      <td>CC1=C(C=C(C=C1N)[N+]([O-])=O)[N+]([O-])=O</td>\n",
       "      <td>CCCCCCC1=CC(=C(O)C(=C1)C(C)(C)C)C(C)(C)C</td>\n",
       "      <td>&lt;rdkit.Chem.rdchem.Mol object at 0x7905c53ee3c0&gt;</td>\n",
       "      <td>&lt;rdkit.Chem.rdchem.Mol object at 0x7905c5311040&gt;</td>\n",
       "      <td>&lt;rdkit.DataStructs.cDataStructs.ExplicitBitVec...</td>\n",
       "      <td>&lt;rdkit.DataStructs.cDataStructs.ExplicitBitVec...</td>\n",
       "      <td>0.064516</td>\n",
       "      <td>7.615773</td>\n",
       "    </tr>\n",
       "    <tr>\n",
       "      <th>20729</th>\n",
       "      <td>DTXSID7027255</td>\n",
       "      <td>DTXSID1024621</td>\n",
       "      <td>1</td>\n",
       "      <td>COCCOCCOC</td>\n",
       "      <td>C\\C=C\\C</td>\n",
       "      <td>&lt;rdkit.Chem.rdchem.Mol object at 0x7905c53ee430&gt;</td>\n",
       "      <td>&lt;rdkit.Chem.rdchem.Mol object at 0x7905c5311120&gt;</td>\n",
       "      <td>&lt;rdkit.DataStructs.cDataStructs.ExplicitBitVec...</td>\n",
       "      <td>&lt;rdkit.DataStructs.cDataStructs.ExplicitBitVec...</td>\n",
       "      <td>0.058824</td>\n",
       "      <td>4.000000</td>\n",
       "    </tr>\n",
       "    <tr>\n",
       "      <th>136459</th>\n",
       "      <td>DTXSID0074716</td>\n",
       "      <td>DTXSID9026714</td>\n",
       "      <td>0</td>\n",
       "      <td>CCCC(C)CO</td>\n",
       "      <td>CCCC(CO)CCC</td>\n",
       "      <td>&lt;rdkit.Chem.rdchem.Mol object at 0x7905c53ee2e0&gt;</td>\n",
       "      <td>&lt;rdkit.Chem.rdchem.Mol object at 0x7905c53110b0&gt;</td>\n",
       "      <td>&lt;rdkit.DataStructs.cDataStructs.ExplicitBitVec...</td>\n",
       "      <td>&lt;rdkit.DataStructs.cDataStructs.ExplicitBitVec...</td>\n",
       "      <td>0.454545</td>\n",
       "      <td>3.464102</td>\n",
       "    </tr>\n",
       "    <tr>\n",
       "      <th>26548</th>\n",
       "      <td>DTXSID10497003</td>\n",
       "      <td>DTXSID0044571</td>\n",
       "      <td>0</td>\n",
       "      <td>CC(C)C1=CC=CC(O)=C1</td>\n",
       "      <td>CC(C)CC1=CC(O)=CC=C1</td>\n",
       "      <td>&lt;rdkit.Chem.rdchem.Mol object at 0x7905c53ee510&gt;</td>\n",
       "      <td>&lt;rdkit.Chem.rdchem.Mol object at 0x7905c5311190&gt;</td>\n",
       "      <td>&lt;rdkit.DataStructs.cDataStructs.ExplicitBitVec...</td>\n",
       "      <td>&lt;rdkit.DataStructs.cDataStructs.ExplicitBitVec...</td>\n",
       "      <td>0.394737</td>\n",
       "      <td>4.795832</td>\n",
       "    </tr>\n",
       "    <tr>\n",
       "      <th>12767</th>\n",
       "      <td>DTXSID6022000</td>\n",
       "      <td>DTXSID8020044</td>\n",
       "      <td>1</td>\n",
       "      <td>OCC=C</td>\n",
       "      <td>NCCO</td>\n",
       "      <td>&lt;rdkit.Chem.rdchem.Mol object at 0x7905c53ee580&gt;</td>\n",
       "      <td>&lt;rdkit.Chem.rdchem.Mol object at 0x7905c5311200&gt;</td>\n",
       "      <td>&lt;rdkit.DataStructs.cDataStructs.ExplicitBitVec...</td>\n",
       "      <td>&lt;rdkit.DataStructs.cDataStructs.ExplicitBitVec...</td>\n",
       "      <td>0.214286</td>\n",
       "      <td>3.316625</td>\n",
       "    </tr>\n",
       "  </tbody>\n",
       "</table>\n",
       "</div>"
      ],
      "text/plain": [
       "                Target       Analogue  Label  \\\n",
       "94147   DTXSID60626563  DTXSID6044068      1   \n",
       "20729    DTXSID7027255  DTXSID1024621      1   \n",
       "136459   DTXSID0074716  DTXSID9026714      0   \n",
       "26548   DTXSID10497003  DTXSID0044571      0   \n",
       "12767    DTXSID6022000  DTXSID8020044      1   \n",
       "\n",
       "                                     analogue_smi  \\\n",
       "94147   CC1=C(C=C(C=C1N)[N+]([O-])=O)[N+]([O-])=O   \n",
       "20729                                   COCCOCCOC   \n",
       "136459                                  CCCC(C)CO   \n",
       "26548                         CC(C)C1=CC=CC(O)=C1   \n",
       "12767                                       OCC=C   \n",
       "\n",
       "                                      target_smi  \\\n",
       "94147   CCCCCCC1=CC(=C(O)C(=C1)C(C)(C)C)C(C)(C)C   \n",
       "20729                                    C\\C=C\\C   \n",
       "136459                               CCCC(CO)CCC   \n",
       "26548                       CC(C)CC1=CC(O)=CC=C1   \n",
       "12767                                       NCCO   \n",
       "\n",
       "                                            analogue_mol  \\\n",
       "94147   <rdkit.Chem.rdchem.Mol object at 0x7905c53ee3c0>   \n",
       "20729   <rdkit.Chem.rdchem.Mol object at 0x7905c53ee430>   \n",
       "136459  <rdkit.Chem.rdchem.Mol object at 0x7905c53ee2e0>   \n",
       "26548   <rdkit.Chem.rdchem.Mol object at 0x7905c53ee510>   \n",
       "12767   <rdkit.Chem.rdchem.Mol object at 0x7905c53ee580>   \n",
       "\n",
       "                                              target_mol  \\\n",
       "94147   <rdkit.Chem.rdchem.Mol object at 0x7905c5311040>   \n",
       "20729   <rdkit.Chem.rdchem.Mol object at 0x7905c5311120>   \n",
       "136459  <rdkit.Chem.rdchem.Mol object at 0x7905c53110b0>   \n",
       "26548   <rdkit.Chem.rdchem.Mol object at 0x7905c5311190>   \n",
       "12767   <rdkit.Chem.rdchem.Mol object at 0x7905c5311200>   \n",
       "\n",
       "                                               fps_target  \\\n",
       "94147   <rdkit.DataStructs.cDataStructs.ExplicitBitVec...   \n",
       "20729   <rdkit.DataStructs.cDataStructs.ExplicitBitVec...   \n",
       "136459  <rdkit.DataStructs.cDataStructs.ExplicitBitVec...   \n",
       "26548   <rdkit.DataStructs.cDataStructs.ExplicitBitVec...   \n",
       "12767   <rdkit.DataStructs.cDataStructs.ExplicitBitVec...   \n",
       "\n",
       "                                             fps_analogue  tanimoto  Euclidean  \n",
       "94147   <rdkit.DataStructs.cDataStructs.ExplicitBitVec...  0.064516   7.615773  \n",
       "20729   <rdkit.DataStructs.cDataStructs.ExplicitBitVec...  0.058824   4.000000  \n",
       "136459  <rdkit.DataStructs.cDataStructs.ExplicitBitVec...  0.454545   3.464102  \n",
       "26548   <rdkit.DataStructs.cDataStructs.ExplicitBitVec...  0.394737   4.795832  \n",
       "12767   <rdkit.DataStructs.cDataStructs.ExplicitBitVec...  0.214286   3.316625  "
      ]
     },
     "execution_count": 5,
     "metadata": {},
     "output_type": "execute_result"
    }
   ],
   "source": [
    "df = pd.read_csv(interim_dir+'balanced_df_icf_140424.csv', index_col=[0])\n",
    "df.head()"
   ]
  },
  {
   "cell_type": "code",
   "execution_count": 6,
   "id": "edaecba6-7f74-4528-98b5-a32152b9bae8",
   "metadata": {},
   "outputs": [],
   "source": [
    "from rdkit import DataStructs\n",
    "from rdkit.Chem import rdFingerprintGenerator\n",
    "from rdkit.Chem import AllChem"
   ]
  },
  {
   "cell_type": "code",
   "execution_count": 7,
   "id": "31d2c30b-c0b9-4d1d-a635-395bed8f289b",
   "metadata": {},
   "outputs": [],
   "source": [
    "df['analogue_mol'] = [Chem.MolFromSmiles(e) for e in df['analogue_smi']]\n",
    "\n",
    "df['target_mol'] = [Chem.MolFromSmiles(e) for e in df['target_smi']]\n"
   ]
  },
  {
   "cell_type": "code",
   "execution_count": 8,
   "id": "20833bbd-b148-47dd-95fb-0cf329a3ef92",
   "metadata": {},
   "outputs": [],
   "source": [
    "df['fp_target'] = [np.array(AllChem.GetMorganFingerprintAsBitVect(i,3,1024)) for i in df['target_mol']]"
   ]
  },
  {
   "cell_type": "code",
   "execution_count": 9,
   "id": "d4d42dd7-89ce-44d0-901f-09e259f194fd",
   "metadata": {},
   "outputs": [],
   "source": [
    "df['fp_analogue'] = [np.array(AllChem.GetMorganFingerprintAsBitVect(i,3,1024)) for i in df['analogue_mol']] "
   ]
  },
  {
   "cell_type": "code",
   "execution_count": 13,
   "id": "8e8a76e5-ab64-48ac-8a56-8f914a659d99",
   "metadata": {},
   "outputs": [],
   "source": [
    "df['fps_target'] = df['target_mol'].apply(lambda x: fpgen.GetFingerprint(x))"
   ]
  },
  {
   "cell_type": "code",
   "execution_count": 12,
   "id": "6d5aceec-385e-48f3-afd9-d171ab8fda55",
   "metadata": {},
   "outputs": [],
   "source": [
    "df['fps_analogue'] = df['analogue_mol'].apply(lambda x: fpgen.GetFingerprint(x))"
   ]
  },
  {
   "cell_type": "code",
   "execution_count": 11,
   "id": "7d7b109a-36cb-452c-9217-03e8b1e5ace0",
   "metadata": {},
   "outputs": [],
   "source": [
    "fpgen = rdFingerprintGenerator.GetMorganGenerator(radius=3, fpSize=1024)"
   ]
  },
  {
   "cell_type": "code",
   "execution_count": 14,
   "id": "d72b2bd2-596d-4ea8-96f2-9626894607af",
   "metadata": {},
   "outputs": [],
   "source": [
    "def tanimoto(df):\n",
    "    mylst = []\n",
    "    for i, row in df.iterrows():\n",
    "        sim= DataStructs.TanimotoSimilarity(row['fps_target'], row['fps_analogue'])\n",
    "        mylst.append(sim)\n",
    "    df['tanimoto'] = mylst\n",
    "    return df"
   ]
  },
  {
   "cell_type": "code",
   "execution_count": 15,
   "id": "8741e269-2d16-4451-8405-76468610ef21",
   "metadata": {},
   "outputs": [],
   "source": [
    "df = tanimoto(df)"
   ]
  },
  {
   "cell_type": "code",
   "execution_count": 16,
   "id": "bbd39eab-cfe8-466c-9f78-a4dba5592c2d",
   "metadata": {},
   "outputs": [
    {
     "data": {
      "text/plain": [
       "<matplotlib.legend.Legend at 0x7e9db9a70220>"
      ]
     },
     "execution_count": 16,
     "metadata": {},
     "output_type": "execute_result"
    },
    {
     "data": {
      "image/png": "[encoded data removed]",
      "text/plain": [
       "<Figure size 640x480 with 1 Axes>"
      ]
     },
     "metadata": {},
     "output_type": "display_data"
    }
   ],
   "source": [
    "df[df['Label'] ==0]['tanimoto'].plot.kde(color = 'r', label = 'similar')\n",
    "df[df['Label'] ==1]['tanimoto'].plot.kde(color = 'b', label = 'dissimilar')\n",
    "plt.legend()"
   ]
  },
  {
   "cell_type": "code",
   "execution_count": 17,
   "id": "da2d2d84-c44c-4da3-bebb-c0eb534f7f3f",
   "metadata": {},
   "outputs": [
    {
     "data": {
      "text/plain": [
       "0.36363636363636365"
      ]
     },
     "execution_count": 17,
     "metadata": {},
     "output_type": "execute_result"
    }
   ],
   "source": [
    "df[df['Label'] ==0]['tanimoto'].median()"
   ]
  },
  {
   "cell_type": "code",
   "execution_count": 18,
   "id": "aeede543-6a5b-426a-9ad2-40a9d8a284e7",
   "metadata": {},
   "outputs": [
    {
     "data": {
      "text/plain": [
       "0.07547169811320754"
      ]
     },
     "execution_count": 18,
     "metadata": {},
     "output_type": "execute_result"
    }
   ],
   "source": [
    "df[df['Label'] ==1]['tanimoto'].median()"
   ]
  },
  {
   "cell_type": "code",
   "execution_count": 19,
   "id": "50e10ad5-fb0f-4a02-b46b-2170e94f1ccf",
   "metadata": {},
   "outputs": [
    {
     "data": {
      "text/plain": [
       "Label\n",
       "1    2715\n",
       "0    2715\n",
       "Name: count, dtype: int64"
      ]
     },
     "execution_count": 19,
     "metadata": {},
     "output_type": "execute_result"
    }
   ],
   "source": [
    "df['Label'].value_counts()"
   ]
  },
  {
   "cell_type": "code",
   "execution_count": 20,
   "id": "1574c91d-9f25-4647-ac6d-3ff12aafea13",
   "metadata": {},
   "outputs": [],
   "source": [
    "df['Label'] = df['Label'].apply(lambda x: -1 if x==1 else 1)"
   ]
  },
  {
   "cell_type": "code",
   "execution_count": 21,
   "id": "bfa98b8c-d684-424f-8f7b-ae23db598b80",
   "metadata": {},
   "outputs": [
    {
     "data": {
      "text/plain": [
       "<rdkit.DataStructs.cDataStructs.ExplicitBitVect at 0x7e9da7934660>"
      ]
     },
     "execution_count": 21,
     "metadata": {},
     "output_type": "execute_result"
    }
   ],
   "source": [
    "df['fps_target'].values[0]"
   ]
  },
  {
   "cell_type": "code",
   "execution_count": 22,
   "id": "bbf00318-d444-4ef1-b8ba-f24e549648e3",
   "metadata": {},
   "outputs": [],
   "source": [
    "from sklearn.model_selection import train_test_split\n"
   ]
  },
  {
   "cell_type": "code",
   "execution_count": 23,
   "id": "f3594837-062c-4377-a583-2f3f73fe27ec",
   "metadata": {},
   "outputs": [],
   "source": [
    "from sklearn.model_selection import train_test_split\n",
    "from sklearn.model_selection import cross_val_score\n",
    "from sklearn.metrics import balanced_accuracy_score, make_scorer"
   ]
  },
  {
   "cell_type": "code",
   "execution_count": 24,
   "id": "1b3b36cc-ef2d-4889-a870-7cac86139ac4",
   "metadata": {},
   "outputs": [],
   "source": [
    "X_target = df['fp_target'].values\n",
    "X_analogue = df['fp_analogue'].values\n",
    "y = df['Label'].values"
   ]
  },
  {
   "cell_type": "code",
   "execution_count": 25,
   "id": "609504ad-e603-42b8-9ff8-afacc6aade13",
   "metadata": {},
   "outputs": [
    {
     "data": {
      "text/plain": [
       "array([array([0, 0, 0, ..., 0, 0, 0]), array([0, 0, 0, ..., 0, 0, 0]),\n",
       "       array([0, 1, 0, ..., 0, 0, 0]), ...,\n",
       "       array([0, 0, 0, ..., 0, 0, 0]), array([0, 0, 0, ..., 0, 0, 0]),\n",
       "       array([0, 1, 0, ..., 0, 0, 0])], dtype=object)"
      ]
     },
     "execution_count": 25,
     "metadata": {},
     "output_type": "execute_result"
    }
   ],
   "source": [
    "X_target"
   ]
  },
  {
   "cell_type": "code",
   "execution_count": 26,
   "id": "a739233a-5bc0-461c-a32c-9d2550be7e3d",
   "metadata": {},
   "outputs": [],
   "source": [
    "mylst = []\n",
    "for a,b in zip(X_target, X_analogue):\n",
    "    mylst.append([a,b])\n"
   ]
  },
  {
   "cell_type": "code",
   "execution_count": 27,
   "id": "e7bc5c74-c3b0-4a16-a1e2-38843fe1eb6b",
   "metadata": {},
   "outputs": [
    {
     "data": {
      "text/plain": [
       "5430"
      ]
     },
     "execution_count": 27,
     "metadata": {},
     "output_type": "execute_result"
    }
   ],
   "source": [
    "len(mylst)"
   ]
  },
  {
   "cell_type": "code",
   "execution_count": 28,
   "id": "f79e17db-7bea-4416-b030-df619c8d6c3c",
   "metadata": {},
   "outputs": [],
   "source": [
    "analogue_pairs = np.asarray(mylst).reshape(5430,-1,1024)"
   ]
  },
  {
   "cell_type": "code",
   "execution_count": 29,
   "id": "0e01c7e8-a0ea-4ec3-8be3-cb46f639fe3e",
   "metadata": {},
   "outputs": [
    {
     "data": {
      "text/plain": [
       "(5430, 2, 1024)"
      ]
     },
     "execution_count": 29,
     "metadata": {},
     "output_type": "execute_result"
    }
   ],
   "source": [
    "analogue_pairs.shape"
   ]
  },
  {
   "cell_type": "code",
   "execution_count": 30,
   "id": "5f41d28c-903c-4610-8750-ba9116c69945",
   "metadata": {},
   "outputs": [],
   "source": [
    "from metric_learn import ITML\n",
    "\n",
    "from sklearn.model_selection import cross_validate, train_test_split\n",
    "from sklearn.pipeline import make_pipeline\n",
    "from sklearn.metrics import balanced_accuracy_score, f1_score, make_scorer, roc_auc_score\n",
    "from sklearn.model_selection import StratifiedKFold\n"
   ]
  },
  {
   "cell_type": "code",
   "execution_count": 31,
   "id": "00e737a1-de19-45e1-a609-523e1bb7b790",
   "metadata": {},
   "outputs": [
    {
     "data": {
      "text/plain": [
       "(5430,)"
      ]
     },
     "execution_count": 31,
     "metadata": {},
     "output_type": "execute_result"
    }
   ],
   "source": [
    "y.shape"
   ]
  },
  {
   "cell_type": "code",
   "execution_count": 33,
   "id": "d842a74b-4a0f-47c2-b872-b478f2c47fb0",
   "metadata": {},
   "outputs": [],
   "source": [
    "indices = np.arange(1,df.shape[0]+1)\n",
    "#indices"
   ]
  },
  {
   "cell_type": "code",
   "execution_count": 34,
   "id": "ef73b691-0457-40d1-a5ad-aac793f2d16b",
   "metadata": {},
   "outputs": [],
   "source": [
    "itml = ITML(random_state = 42)\n"
   ]
  },
  {
   "cell_type": "code",
   "execution_count": 35,
   "id": "03fff7a0-2ee2-4a2d-bef8-179f10af97fb",
   "metadata": {},
   "outputs": [],
   "source": [
    "pairs_train, pairs_test, y_train, y_test, idx1, idx2 = train_test_split(analogue_pairs, y, indices, test_size = 0.25, stratify=y, random_state = 42)"
   ]
  },
  {
   "cell_type": "code",
   "execution_count": 36,
   "id": "577f8ccb-7a54-48af-8e8c-4877abd36cac",
   "metadata": {},
   "outputs": [
    {
     "data": {
      "text/plain": [
       "((4072, 2, 1024), (1358, 2, 1024), (4072,), (1358,))"
      ]
     },
     "execution_count": 36,
     "metadata": {},
     "output_type": "execute_result"
    }
   ],
   "source": [
    "pairs_train.shape, pairs_test.shape, y_train.shape, y_test.shape"
   ]
  },
  {
   "cell_type": "code",
   "execution_count": 37,
   "id": "a41ae0dc-9a7a-4ea6-8c32-6307eb8fb3b2",
   "metadata": {},
   "outputs": [],
   "source": [
    "baa = make_scorer(balanced_accuracy_score)"
   ]
  },
  {
   "cell_type": "code",
   "execution_count": 38,
   "id": "fa8a5b32-c055-4562-8454-22a04daa495a",
   "metadata": {},
   "outputs": [],
   "source": [
    "from sklearn.metrics import roc_auc_score"
   ]
  },
  {
   "cell_type": "code",
   "execution_count": 39,
   "id": "1e253314-c28e-43bb-abe8-12151229a102",
   "metadata": {},
   "outputs": [],
   "source": [
    "cv = StratifiedKFold(n_splits = 5)"
   ]
  },
  {
   "cell_type": "code",
   "execution_count": 40,
   "id": "03680895-a0ff-42b1-a7c4-117fe7f7f2f8",
   "metadata": {},
   "outputs": [
    {
     "name": "stderr",
     "output_type": "stream",
     "text": [
      "/home/grace/Documents/python/misc/graph/lib/python3.9/site-packages/metric_learn/itml.py:75: RuntimeWarning: divide by zero encountered in scalar divide\n",
      "  alpha = min(_lambda[i], gamma_proj * (1. / wtw - 1. / pos_bhat[i]))\n",
      "/home/grace/Documents/python/misc/graph/lib/python3.9/site-packages/metric_learn/itml.py:75: RuntimeWarning: divide by zero encountered in scalar divide\n",
      "  alpha = min(_lambda[i], gamma_proj * (1. / wtw - 1. / pos_bhat[i]))\n",
      "/home/grace/Documents/python/misc/graph/lib/python3.9/site-packages/metric_learn/itml.py:75: RuntimeWarning: divide by zero encountered in scalar divide\n",
      "  alpha = min(_lambda[i], gamma_proj * (1. / wtw - 1. / pos_bhat[i]))\n",
      "/home/grace/Documents/python/misc/graph/lib/python3.9/site-packages/metric_learn/itml.py:75: RuntimeWarning: divide by zero encountered in scalar divide\n",
      "  alpha = min(_lambda[i], gamma_proj * (1. / wtw - 1. / pos_bhat[i]))\n",
      "/home/grace/Documents/python/misc/graph/lib/python3.9/site-packages/metric_learn/itml.py:75: RuntimeWarning: divide by zero encountered in scalar divide\n",
      "  alpha = min(_lambda[i], gamma_proj * (1. / wtw - 1. / pos_bhat[i]))\n"
     ]
    }
   ],
   "source": [
    "result_itml = cross_validate(itml, pairs_train,  y_train, cv=cv, scoring = baa,return_train_score = True )"
   ]
  },
  {
   "cell_type": "code",
   "execution_count": 41,
   "id": "4d947876-e14f-45f7-8345-17264c3ec298",
   "metadata": {},
   "outputs": [],
   "source": [
    "cv_results = pd.DataFrame(result_itml)"
   ]
  },
  {
   "cell_type": "code",
   "execution_count": 42,
   "id": "ac8ce913-b586-4c93-a78f-b54c319a4373",
   "metadata": {},
   "outputs": [
    {
     "data": {
      "text/html": [
       "<div>\n",
       "<style scoped>\n",
       "    .dataframe tbody tr th:only-of-type {\n",
       "        vertical-align: middle;\n",
       "    }\n",
       "\n",
       "    .dataframe tbody tr th {\n",
       "        vertical-align: top;\n",
       "    }\n",
       "\n",
       "    .dataframe thead th {\n",
       "        text-align: right;\n",
       "    }\n",
       "</style>\n",
       "<table border=\"1\" class=\"dataframe\">\n",
       "  <thead>\n",
       "    <tr style=\"text-align: right;\">\n",
       "      <th></th>\n",
       "      <th>fit_time</th>\n",
       "      <th>score_time</th>\n",
       "      <th>test_score</th>\n",
       "      <th>train_score</th>\n",
       "    </tr>\n",
       "  </thead>\n",
       "  <tbody>\n",
       "    <tr>\n",
       "      <th>0</th>\n",
       "      <td>767.646083</td>\n",
       "      <td>0.039243</td>\n",
       "      <td>0.952197</td>\n",
       "      <td>0.995701</td>\n",
       "    </tr>\n",
       "    <tr>\n",
       "      <th>1</th>\n",
       "      <td>739.794926</td>\n",
       "      <td>0.020607</td>\n",
       "      <td>0.952113</td>\n",
       "      <td>0.996623</td>\n",
       "    </tr>\n",
       "    <tr>\n",
       "      <th>2</th>\n",
       "      <td>709.616858</td>\n",
       "      <td>0.020607</td>\n",
       "      <td>0.958231</td>\n",
       "      <td>0.995089</td>\n",
       "    </tr>\n",
       "    <tr>\n",
       "      <th>3</th>\n",
       "      <td>642.182565</td>\n",
       "      <td>0.020232</td>\n",
       "      <td>0.942260</td>\n",
       "      <td>0.995703</td>\n",
       "    </tr>\n",
       "    <tr>\n",
       "      <th>4</th>\n",
       "      <td>591.865060</td>\n",
       "      <td>0.020187</td>\n",
       "      <td>0.953317</td>\n",
       "      <td>0.994782</td>\n",
       "    </tr>\n",
       "  </tbody>\n",
       "</table>\n",
       "</div>"
      ],
      "text/plain": [
       "     fit_time  score_time  test_score  train_score\n",
       "0  767.646083    0.039243    0.952197     0.995701\n",
       "1  739.794926    0.020607    0.952113     0.996623\n",
       "2  709.616858    0.020607    0.958231     0.995089\n",
       "3  642.182565    0.020232    0.942260     0.995703\n",
       "4  591.865060    0.020187    0.953317     0.994782"
      ]
     },
     "execution_count": 42,
     "metadata": {},
     "output_type": "execute_result"
    }
   ],
   "source": [
    "cv_results"
   ]
  },
  {
   "cell_type": "code",
   "execution_count": 44,
   "id": "9a31a42c-313e-4b67-ad61-5867e86e2d86",
   "metadata": {},
   "outputs": [
    {
     "data": {
      "text/plain": [
       "(0.9516235486823721, 0.005804330893044246)"
      ]
     },
     "execution_count": 44,
     "metadata": {},
     "output_type": "execute_result"
    }
   ],
   "source": [
    "cv_results['test_score'].mean(), cv_results['test_score'].std()"
   ]
  },
  {
   "cell_type": "code",
   "execution_count": 45,
   "id": "6588bca5-2c9a-418c-9515-ad80e9e46c0b",
   "metadata": {},
   "outputs": [
    {
     "data": {
      "image/png": "[encoded data removed]",
      "text/plain": [
       "<Figure size 600x400 with 1 Axes>"
      ]
     },
     "metadata": {},
     "output_type": "display_data"
    }
   ],
   "source": [
    "cv_results[['test_score', 'train_score']].plot.hist(edgecolor = 'black', figsize = (6,4))\n",
    "plt.xlabel('CV Balanced Accuracy')\n",
    "plt.legend(loc = 'center left', bbox_to_anchor = (1,0.5))\n",
    "plt.tight_layout()"
   ]
  },
  {
   "cell_type": "code",
   "execution_count": 46,
   "id": "83364ba2-74fa-4d58-a71b-893d317364fd",
   "metadata": {},
   "outputs": [],
   "source": [
    "def cv_run(gamma):\n",
    "    a =cross_validate(ITML(random_state=42, gamma = gamma), pairs_train, y_train, cv=cv, scoring = make_scorer(balanced_accuracy_score), n_jobs=-1, return_estimator=True) \n",
    "    return a['test_score'].mean()"
   ]
  },
  {
   "cell_type": "code",
   "execution_count": 47,
   "id": "6914715b-1932-4cf0-8d36-009b60e75f41",
   "metadata": {},
   "outputs": [
    {
     "name": "stderr",
     "output_type": "stream",
     "text": [
      "/home/grace/Documents/python/misc/graph/lib/python3.9/site-packages/metric_learn/itml.py:75: RuntimeWarning: divide by zero encountered in scalar divide\n",
      "  alpha = min(_lambda[i], gamma_proj * (1. / wtw - 1. / pos_bhat[i]))\n",
      "/home/grace/Documents/python/misc/graph/lib/python3.9/site-packages/metric_learn/itml.py:75: RuntimeWarning: divide by zero encountered in scalar divide\n",
      "  alpha = min(_lambda[i], gamma_proj * (1. / wtw - 1. / pos_bhat[i]))\n",
      "/home/grace/Documents/python/misc/graph/lib/python3.9/site-packages/metric_learn/itml.py:75: RuntimeWarning: divide by zero encountered in scalar divide\n",
      "  alpha = min(_lambda[i], gamma_proj * (1. / wtw - 1. / pos_bhat[i]))\n",
      "/home/grace/Documents/python/misc/graph/lib/python3.9/site-packages/metric_learn/itml.py:75: RuntimeWarning: divide by zero encountered in scalar divide\n",
      "  alpha = min(_lambda[i], gamma_proj * (1. / wtw - 1. / pos_bhat[i]))\n",
      "/home/grace/Documents/python/misc/graph/lib/python3.9/site-packages/metric_learn/itml.py:75: RuntimeWarning: divide by zero encountered in scalar divide\n",
      "  alpha = min(_lambda[i], gamma_proj * (1. / wtw - 1. / pos_bhat[i]))\n",
      "/home/grace/Documents/python/misc/graph/lib/python3.9/site-packages/metric_learn/itml.py:75: RuntimeWarning: divide by zero encountered in scalar divide\n",
      "  alpha = min(_lambda[i], gamma_proj * (1. / wtw - 1. / pos_bhat[i]))\n",
      "/home/grace/Documents/python/misc/graph/lib/python3.9/site-packages/metric_learn/itml.py:75: RuntimeWarning: divide by zero encountered in scalar divide\n",
      "  alpha = min(_lambda[i], gamma_proj * (1. / wtw - 1. / pos_bhat[i]))\n",
      "/home/grace/Documents/python/misc/graph/lib/python3.9/site-packages/metric_learn/itml.py:75: RuntimeWarning: divide by zero encountered in scalar divide\n",
      "  alpha = min(_lambda[i], gamma_proj * (1. / wtw - 1. / pos_bhat[i]))\n",
      "/home/grace/Documents/python/misc/graph/lib/python3.9/site-packages/metric_learn/itml.py:75: RuntimeWarning: divide by zero encountered in scalar divide\n",
      "  alpha = min(_lambda[i], gamma_proj * (1. / wtw - 1. / pos_bhat[i]))\n",
      "/home/grace/Documents/python/misc/graph/lib/python3.9/site-packages/metric_learn/itml.py:75: RuntimeWarning: divide by zero encountered in scalar divide\n",
      "  alpha = min(_lambda[i], gamma_proj * (1. / wtw - 1. / pos_bhat[i]))\n",
      "/home/grace/Documents/python/misc/graph/lib/python3.9/site-packages/metric_learn/itml.py:75: RuntimeWarning: divide by zero encountered in scalar divide\n",
      "  alpha = min(_lambda[i], gamma_proj * (1. / wtw - 1. / pos_bhat[i]))\n",
      "/home/grace/Documents/python/misc/graph/lib/python3.9/site-packages/metric_learn/itml.py:75: RuntimeWarning: divide by zero encountered in scalar divide\n",
      "  alpha = min(_lambda[i], gamma_proj * (1. / wtw - 1. / pos_bhat[i]))\n",
      "/home/grace/Documents/python/misc/graph/lib/python3.9/site-packages/metric_learn/itml.py:75: RuntimeWarning: divide by zero encountered in scalar divide\n",
      "  alpha = min(_lambda[i], gamma_proj * (1. / wtw - 1. / pos_bhat[i]))\n",
      "/home/grace/Documents/python/misc/graph/lib/python3.9/site-packages/metric_learn/itml.py:75: RuntimeWarning: divide by zero encountered in scalar divide\n",
      "  alpha = min(_lambda[i], gamma_proj * (1. / wtw - 1. / pos_bhat[i]))\n",
      "/home/grace/Documents/python/misc/graph/lib/python3.9/site-packages/metric_learn/itml.py:75: RuntimeWarning: divide by zero encountered in scalar divide\n",
      "  alpha = min(_lambda[i], gamma_proj * (1. / wtw - 1. / pos_bhat[i]))\n",
      "/home/grace/Documents/python/misc/graph/lib/python3.9/site-packages/metric_learn/itml.py:75: RuntimeWarning: divide by zero encountered in scalar divide\n",
      "  alpha = min(_lambda[i], gamma_proj * (1. / wtw - 1. / pos_bhat[i]))\n",
      "/home/grace/Documents/python/misc/graph/lib/python3.9/site-packages/metric_learn/itml.py:75: RuntimeWarning: divide by zero encountered in scalar divide\n",
      "  alpha = min(_lambda[i], gamma_proj * (1. / wtw - 1. / pos_bhat[i]))\n",
      "/home/grace/Documents/python/misc/graph/lib/python3.9/site-packages/metric_learn/itml.py:75: RuntimeWarning: divide by zero encountered in scalar divide\n",
      "  alpha = min(_lambda[i], gamma_proj * (1. / wtw - 1. / pos_bhat[i]))\n",
      "/home/grace/Documents/python/misc/graph/lib/python3.9/site-packages/metric_learn/itml.py:75: RuntimeWarning: divide by zero encountered in scalar divide\n",
      "  alpha = min(_lambda[i], gamma_proj * (1. / wtw - 1. / pos_bhat[i]))\n",
      "/home/grace/Documents/python/misc/graph/lib/python3.9/site-packages/metric_learn/itml.py:75: RuntimeWarning: divide by zero encountered in scalar divide\n",
      "  alpha = min(_lambda[i], gamma_proj * (1. / wtw - 1. / pos_bhat[i]))\n",
      "/home/grace/Documents/python/misc/graph/lib/python3.9/site-packages/metric_learn/itml.py:75: RuntimeWarning: divide by zero encountered in scalar divide\n",
      "  alpha = min(_lambda[i], gamma_proj * (1. / wtw - 1. / pos_bhat[i]))\n",
      "/home/grace/Documents/python/misc/graph/lib/python3.9/site-packages/metric_learn/itml.py:75: RuntimeWarning: divide by zero encountered in scalar divide\n",
      "  alpha = min(_lambda[i], gamma_proj * (1. / wtw - 1. / pos_bhat[i]))\n",
      "/home/grace/Documents/python/misc/graph/lib/python3.9/site-packages/metric_learn/itml.py:75: RuntimeWarning: divide by zero encountered in scalar divide\n",
      "  alpha = min(_lambda[i], gamma_proj * (1. / wtw - 1. / pos_bhat[i]))\n",
      "/home/grace/Documents/python/misc/graph/lib/python3.9/site-packages/metric_learn/itml.py:75: RuntimeWarning: divide by zero encountered in scalar divide\n",
      "  alpha = min(_lambda[i], gamma_proj * (1. / wtw - 1. / pos_bhat[i]))\n",
      "/home/grace/Documents/python/misc/graph/lib/python3.9/site-packages/metric_learn/itml.py:75: RuntimeWarning: divide by zero encountered in scalar divide\n",
      "  alpha = min(_lambda[i], gamma_proj * (1. / wtw - 1. / pos_bhat[i]))\n",
      "/home/grace/Documents/python/misc/graph/lib/python3.9/site-packages/metric_learn/itml.py:75: RuntimeWarning: divide by zero encountered in scalar divide\n",
      "  alpha = min(_lambda[i], gamma_proj * (1. / wtw - 1. / pos_bhat[i]))\n",
      "/home/grace/Documents/python/misc/graph/lib/python3.9/site-packages/metric_learn/itml.py:75: RuntimeWarning: divide by zero encountered in scalar divide\n",
      "  alpha = min(_lambda[i], gamma_proj * (1. / wtw - 1. / pos_bhat[i]))\n",
      "/home/grace/Documents/python/misc/graph/lib/python3.9/site-packages/metric_learn/itml.py:75: RuntimeWarning: divide by zero encountered in scalar divide\n",
      "  alpha = min(_lambda[i], gamma_proj * (1. / wtw - 1. / pos_bhat[i]))\n",
      "/home/grace/Documents/python/misc/graph/lib/python3.9/site-packages/metric_learn/itml.py:75: RuntimeWarning: divide by zero encountered in scalar divide\n",
      "  alpha = min(_lambda[i], gamma_proj * (1. / wtw - 1. / pos_bhat[i]))\n",
      "/home/grace/Documents/python/misc/graph/lib/python3.9/site-packages/metric_learn/itml.py:75: RuntimeWarning: divide by zero encountered in scalar divide\n",
      "  alpha = min(_lambda[i], gamma_proj * (1. / wtw - 1. / pos_bhat[i]))\n"
     ]
    }
   ],
   "source": [
    "gammas = [0.25,0.5,0.75,1,5,10]\n",
    "grid_search = []\n",
    "for gamma in gammas:\n",
    "    grid_search.append([gamma, cv_run(gamma)])"
   ]
  },
  {
   "cell_type": "code",
   "execution_count": 48,
   "id": "b3499b32-35c8-4094-801f-4bab66c35e3e",
   "metadata": {},
   "outputs": [
    {
     "data": {
      "text/plain": [
       "[[0.25, 0.9383605530664354],\n",
       " [0.5, 0.9474460422989834],\n",
       " [0.75, 0.9528514477043888],\n",
       " [1, 0.9516235486823721],\n",
       " [5, 0.9169912559618443],\n",
       " [10, 0.8803909524497758]]"
      ]
     },
     "execution_count": 48,
     "metadata": {},
     "output_type": "execute_result"
    }
   ],
   "source": [
    "grid_search"
   ]
  },
  {
   "cell_type": "code",
   "execution_count": 49,
   "id": "82b74b3d-a3e4-4236-93bf-8a21bb524fec",
   "metadata": {},
   "outputs": [],
   "source": [
    "best_model = ITML(random_state=42, gamma = 0.75)"
   ]
  },
  {
   "cell_type": "code",
   "execution_count": 50,
   "id": "ee2826ce-61a6-42ef-80ab-e7ea80ccf67f",
   "metadata": {},
   "outputs": [
    {
     "name": "stderr",
     "output_type": "stream",
     "text": [
      "/home/grace/Documents/python/misc/graph/lib/python3.9/site-packages/metric_learn/itml.py:75: RuntimeWarning: divide by zero encountered in scalar divide\n",
      "  alpha = min(_lambda[i], gamma_proj * (1. / wtw - 1. / pos_bhat[i]))\n"
     ]
    },
    {
     "data": {
      "text/html": [
       "<style>#sk-container-id-1 {\n",
       "  /* Definition of color scheme common for light and dark mode */\n",
       "  --sklearn-color-text: black;\n",
       "  --sklearn-color-line: gray;\n",
       "  /* Definition of color scheme for unfitted estimators */\n",
       "  --sklearn-color-unfitted-level-0: #fff5e6;\n",
       "  --sklearn-color-unfitted-level-1: #f6e4d2;\n",
       "  --sklearn-color-unfitted-level-2: #ffe0b3;\n",
       "  --sklearn-color-unfitted-level-3: chocolate;\n",
       "  /* Definition of color scheme for fitted estimators */\n",
       "  --sklearn-color-fitted-level-0: #f0f8ff;\n",
       "  --sklearn-color-fitted-level-1: #d4ebff;\n",
       "  --sklearn-color-fitted-level-2: #b3dbfd;\n",
       "  --sklearn-color-fitted-level-3: cornflowerblue;\n",
       "\n",
       "  /* Specific color for light theme */\n",
       "  --sklearn-color-text-on-default-background: var(--sg-text-color, var(--theme-code-foreground, var(--jp-content-font-color1, black)));\n",
       "  --sklearn-color-background: var(--sg-background-color, var(--theme-background, var(--jp-layout-color0, white)));\n",
       "  --sklearn-color-border-box: var(--sg-text-color, var(--theme-code-foreground, var(--jp-content-font-color1, black)));\n",
       "  --sklearn-color-icon: #696969;\n",
       "\n",
       "  @media (prefers-color-scheme: dark) {\n",
       "    /* Redefinition of color scheme for dark theme */\n",
       "    --sklearn-color-text-on-default-background: var(--sg-text-color, var(--theme-code-foreground, var(--jp-content-font-color1, white)));\n",
       "    --sklearn-color-background: var(--sg-background-color, var(--theme-background, var(--jp-layout-color0, #111)));\n",
       "    --sklearn-color-border-box: var(--sg-text-color, var(--theme-code-foreground, var(--jp-content-font-color1, white)));\n",
       "    --sklearn-color-icon: #878787;\n",
       "  }\n",
       "}\n",
       "\n",
       "#sk-container-id-1 {\n",
       "  color: var(--sklearn-color-text);\n",
       "}\n",
       "\n",
       "#sk-container-id-1 pre {\n",
       "  padding: 0;\n",
       "}\n",
       "\n",
       "#sk-container-id-1 input.sk-hidden--visually {\n",
       "  border: 0;\n",
       "  clip: rect(1px 1px 1px 1px);\n",
       "  clip: rect(1px, 1px, 1px, 1px);\n",
       "  height: 1px;\n",
       "  margin: -1px;\n",
       "  overflow: hidden;\n",
       "  padding: 0;\n",
       "  position: absolute;\n",
       "  width: 1px;\n",
       "}\n",
       "\n",
       "#sk-container-id-1 div.sk-dashed-wrapped {\n",
       "  border: 1px dashed var(--sklearn-color-line);\n",
       "  margin: 0 0.4em 0.5em 0.4em;\n",
       "  box-sizing: border-box;\n",
       "  padding-bottom: 0.4em;\n",
       "  background-color: var(--sklearn-color-background);\n",
       "}\n",
       "\n",
       "#sk-container-id-1 div.sk-container {\n",
       "  /* jupyter's `normalize.less` sets `[hidden] { display: none; }`\n",
       "     but bootstrap.min.css set `[hidden] { display: none !important; }`\n",
       "     so we also need the `!important` here to be able to override the\n",
       "     default hidden behavior on the sphinx rendered scikit-learn.org.\n",
       "     See: https://github.com/scikit-learn/scikit-learn/issues/21755 */\n",
       "  display: inline-block !important;\n",
       "  position: relative;\n",
       "}\n",
       "\n",
       "#sk-container-id-1 div.sk-text-repr-fallback {\n",
       "  display: none;\n",
       "}\n",
       "\n",
       "div.sk-parallel-item,\n",
       "div.sk-serial,\n",
       "div.sk-item {\n",
       "  /* draw centered vertical line to link estimators */\n",
       "  background-image: linear-gradient(var(--sklearn-color-text-on-default-background), var(--sklearn-color-text-on-default-background));\n",
       "  background-size: 2px 100%;\n",
       "  background-repeat: no-repeat;\n",
       "  background-position: center center;\n",
       "}\n",
       "\n",
       "/* Parallel-specific style estimator block */\n",
       "\n",
       "#sk-container-id-1 div.sk-parallel-item::after {\n",
       "  content: \"\";\n",
       "  width: 100%;\n",
       "  border-bottom: 2px solid var(--sklearn-color-text-on-default-background);\n",
       "  flex-grow: 1;\n",
       "}\n",
       "\n",
       "#sk-container-id-1 div.sk-parallel {\n",
       "  display: flex;\n",
       "  align-items: stretch;\n",
       "  justify-content: center;\n",
       "  background-color: var(--sklearn-color-background);\n",
       "  position: relative;\n",
       "}\n",
       "\n",
       "#sk-container-id-1 div.sk-parallel-item {\n",
       "  display: flex;\n",
       "  flex-direction: column;\n",
       "}\n",
       "\n",
       "#sk-container-id-1 div.sk-parallel-item:first-child::after {\n",
       "  align-self: flex-end;\n",
       "  width: 50%;\n",
       "}\n",
       "\n",
       "#sk-container-id-1 div.sk-parallel-item:last-child::after {\n",
       "  align-self: flex-start;\n",
       "  width: 50%;\n",
       "}\n",
       "\n",
       "#sk-container-id-1 div.sk-parallel-item:only-child::after {\n",
       "  width: 0;\n",
       "}\n",
       "\n",
       "/* Serial-specific style estimator block */\n",
       "\n",
       "#sk-container-id-1 div.sk-serial {\n",
       "  display: flex;\n",
       "  flex-direction: column;\n",
       "  align-items: center;\n",
       "  background-color: var(--sklearn-color-background);\n",
       "  padding-right: 1em;\n",
       "  padding-left: 1em;\n",
       "}\n",
       "\n",
       "\n",
       "/* Toggleable style: style used for estimator/Pipeline/ColumnTransformer box that is\n",
       "clickable and can be expanded/collapsed.\n",
       "- Pipeline and ColumnTransformer use this feature and define the default style\n",
       "- Estimators will overwrite some part of the style using the `sk-estimator` class\n",
       "*/\n",
       "\n",
       "/* Pipeline and ColumnTransformer style (default) */\n",
       "\n",
       "#sk-container-id-1 div.sk-toggleable {\n",
       "  /* Default theme specific background. It is overwritten whether we have a\n",
       "  specific estimator or a Pipeline/ColumnTransformer */\n",
       "  background-color: var(--sklearn-color-background);\n",
       "}\n",
       "\n",
       "/* Toggleable label */\n",
       "#sk-container-id-1 label.sk-toggleable__label {\n",
       "  cursor: pointer;\n",
       "  display: block;\n",
       "  width: 100%;\n",
       "  margin-bottom: 0;\n",
       "  padding: 0.5em;\n",
       "  box-sizing: border-box;\n",
       "  text-align: center;\n",
       "}\n",
       "\n",
       "#sk-container-id-1 label.sk-toggleable__label-arrow:before {\n",
       "  /* Arrow on the left of the label */\n",
       "  content: \"▸\";\n",
       "  float: left;\n",
       "  margin-right: 0.25em;\n",
       "  color: var(--sklearn-color-icon);\n",
       "}\n",
       "\n",
       "#sk-container-id-1 label.sk-toggleable__label-arrow:hover:before {\n",
       "  color: var(--sklearn-color-text);\n",
       "}\n",
       "\n",
       "/* Toggleable content - dropdown */\n",
       "\n",
       "#sk-container-id-1 div.sk-toggleable__content {\n",
       "  max-height: 0;\n",
       "  max-width: 0;\n",
       "  overflow: hidden;\n",
       "  text-align: left;\n",
       "  /* unfitted */\n",
       "  background-color: var(--sklearn-color-unfitted-level-0);\n",
       "}\n",
       "\n",
       "#sk-container-id-1 div.sk-toggleable__content.fitted {\n",
       "  /* fitted */\n",
       "  background-color: var(--sklearn-color-fitted-level-0);\n",
       "}\n",
       "\n",
       "#sk-container-id-1 div.sk-toggleable__content pre {\n",
       "  margin: 0.2em;\n",
       "  border-radius: 0.25em;\n",
       "  color: var(--sklearn-color-text);\n",
       "  /* unfitted */\n",
       "  background-color: var(--sklearn-color-unfitted-level-0);\n",
       "}\n",
       "\n",
       "#sk-container-id-1 div.sk-toggleable__content.fitted pre {\n",
       "  /* unfitted */\n",
       "  background-color: var(--sklearn-color-fitted-level-0);\n",
       "}\n",
       "\n",
       "#sk-container-id-1 input.sk-toggleable__control:checked~div.sk-toggleable__content {\n",
       "  /* Expand drop-down */\n",
       "  max-height: 200px;\n",
       "  max-width: 100%;\n",
       "  overflow: auto;\n",
       "}\n",
       "\n",
       "#sk-container-id-1 input.sk-toggleable__control:checked~label.sk-toggleable__label-arrow:before {\n",
       "  content: \"▾\";\n",
       "}\n",
       "\n",
       "/* Pipeline/ColumnTransformer-specific style */\n",
       "\n",
       "#sk-container-id-1 div.sk-label input.sk-toggleable__control:checked~label.sk-toggleable__label {\n",
       "  color: var(--sklearn-color-text);\n",
       "  background-color: var(--sklearn-color-unfitted-level-2);\n",
       "}\n",
       "\n",
       "#sk-container-id-1 div.sk-label.fitted input.sk-toggleable__control:checked~label.sk-toggleable__label {\n",
       "  background-color: var(--sklearn-color-fitted-level-2);\n",
       "}\n",
       "\n",
       "/* Estimator-specific style */\n",
       "\n",
       "/* Colorize estimator box */\n",
       "#sk-container-id-1 div.sk-estimator input.sk-toggleable__control:checked~label.sk-toggleable__label {\n",
       "  /* unfitted */\n",
       "  background-color: var(--sklearn-color-unfitted-level-2);\n",
       "}\n",
       "\n",
       "#sk-container-id-1 div.sk-estimator.fitted input.sk-toggleable__control:checked~label.sk-toggleable__label {\n",
       "  /* fitted */\n",
       "  background-color: var(--sklearn-color-fitted-level-2);\n",
       "}\n",
       "\n",
       "#sk-container-id-1 div.sk-label label.sk-toggleable__label,\n",
       "#sk-container-id-1 div.sk-label label {\n",
       "  /* The background is the default theme color */\n",
       "  color: var(--sklearn-color-text-on-default-background);\n",
       "}\n",
       "\n",
       "/* On hover, darken the color of the background */\n",
       "#sk-container-id-1 div.sk-label:hover label.sk-toggleable__label {\n",
       "  color: var(--sklearn-color-text);\n",
       "  background-color: var(--sklearn-color-unfitted-level-2);\n",
       "}\n",
       "\n",
       "/* Label box, darken color on hover, fitted */\n",
       "#sk-container-id-1 div.sk-label.fitted:hover label.sk-toggleable__label.fitted {\n",
       "  color: var(--sklearn-color-text);\n",
       "  background-color: var(--sklearn-color-fitted-level-2);\n",
       "}\n",
       "\n",
       "/* Estimator label */\n",
       "\n",
       "#sk-container-id-1 div.sk-label label {\n",
       "  font-family: monospace;\n",
       "  font-weight: bold;\n",
       "  display: inline-block;\n",
       "  line-height: 1.2em;\n",
       "}\n",
       "\n",
       "#sk-container-id-1 div.sk-label-container {\n",
       "  text-align: center;\n",
       "}\n",
       "\n",
       "/* Estimator-specific */\n",
       "#sk-container-id-1 div.sk-estimator {\n",
       "  font-family: monospace;\n",
       "  border: 1px dotted var(--sklearn-color-border-box);\n",
       "  border-radius: 0.25em;\n",
       "  box-sizing: border-box;\n",
       "  margin-bottom: 0.5em;\n",
       "  /* unfitted */\n",
       "  background-color: var(--sklearn-color-unfitted-level-0);\n",
       "}\n",
       "\n",
       "#sk-container-id-1 div.sk-estimator.fitted {\n",
       "  /* fitted */\n",
       "  background-color: var(--sklearn-color-fitted-level-0);\n",
       "}\n",
       "\n",
       "/* on hover */\n",
       "#sk-container-id-1 div.sk-estimator:hover {\n",
       "  /* unfitted */\n",
       "  background-color: var(--sklearn-color-unfitted-level-2);\n",
       "}\n",
       "\n",
       "#sk-container-id-1 div.sk-estimator.fitted:hover {\n",
       "  /* fitted */\n",
       "  background-color: var(--sklearn-color-fitted-level-2);\n",
       "}\n",
       "\n",
       "/* Specification for estimator info (e.g. \"i\" and \"?\") */\n",
       "\n",
       "/* Common style for \"i\" and \"?\" */\n",
       "\n",
       ".sk-estimator-doc-link,\n",
       "a:link.sk-estimator-doc-link,\n",
       "a:visited.sk-estimator-doc-link {\n",
       "  float: right;\n",
       "  font-size: smaller;\n",
       "  line-height: 1em;\n",
       "  font-family: monospace;\n",
       "  background-color: var(--sklearn-color-background);\n",
       "  border-radius: 1em;\n",
       "  height: 1em;\n",
       "  width: 1em;\n",
       "  text-decoration: none !important;\n",
       "  margin-left: 1ex;\n",
       "  /* unfitted */\n",
       "  border: var(--sklearn-color-unfitted-level-1) 1pt solid;\n",
       "  color: var(--sklearn-color-unfitted-level-1);\n",
       "}\n",
       "\n",
       ".sk-estimator-doc-link.fitted,\n",
       "a:link.sk-estimator-doc-link.fitted,\n",
       "a:visited.sk-estimator-doc-link.fitted {\n",
       "  /* fitted */\n",
       "  border: var(--sklearn-color-fitted-level-1) 1pt solid;\n",
       "  color: var(--sklearn-color-fitted-level-1);\n",
       "}\n",
       "\n",
       "/* On hover */\n",
       "div.sk-estimator:hover .sk-estimator-doc-link:hover,\n",
       ".sk-estimator-doc-link:hover,\n",
       "div.sk-label-container:hover .sk-estimator-doc-link:hover,\n",
       ".sk-estimator-doc-link:hover {\n",
       "  /* unfitted */\n",
       "  background-color: var(--sklearn-color-unfitted-level-3);\n",
       "  color: var(--sklearn-color-background);\n",
       "  text-decoration: none;\n",
       "}\n",
       "\n",
       "div.sk-estimator.fitted:hover .sk-estimator-doc-link.fitted:hover,\n",
       ".sk-estimator-doc-link.fitted:hover,\n",
       "div.sk-label-container:hover .sk-estimator-doc-link.fitted:hover,\n",
       ".sk-estimator-doc-link.fitted:hover {\n",
       "  /* fitted */\n",
       "  background-color: var(--sklearn-color-fitted-level-3);\n",
       "  color: var(--sklearn-color-background);\n",
       "  text-decoration: none;\n",
       "}\n",
       "\n",
       "/* Span, style for the box shown on hovering the info icon */\n",
       ".sk-estimator-doc-link span {\n",
       "  display: none;\n",
       "  z-index: 9999;\n",
       "  position: relative;\n",
       "  font-weight: normal;\n",
       "  right: .2ex;\n",
       "  padding: .5ex;\n",
       "  margin: .5ex;\n",
       "  width: min-content;\n",
       "  min-width: 20ex;\n",
       "  max-width: 50ex;\n",
       "  color: var(--sklearn-color-text);\n",
       "  box-shadow: 2pt 2pt 4pt #999;\n",
       "  /* unfitted */\n",
       "  background: var(--sklearn-color-unfitted-level-0);\n",
       "  border: .5pt solid var(--sklearn-color-unfitted-level-3);\n",
       "}\n",
       "\n",
       ".sk-estimator-doc-link.fitted span {\n",
       "  /* fitted */\n",
       "  background: var(--sklearn-color-fitted-level-0);\n",
       "  border: var(--sklearn-color-fitted-level-3);\n",
       "}\n",
       "\n",
       ".sk-estimator-doc-link:hover span {\n",
       "  display: block;\n",
       "}\n",
       "\n",
       "/* \"?\"-specific style due to the `<a>` HTML tag */\n",
       "\n",
       "#sk-container-id-1 a.estimator_doc_link {\n",
       "  float: right;\n",
       "  font-size: 1rem;\n",
       "  line-height: 1em;\n",
       "  font-family: monospace;\n",
       "  background-color: var(--sklearn-color-background);\n",
       "  border-radius: 1rem;\n",
       "  height: 1rem;\n",
       "  width: 1rem;\n",
       "  text-decoration: none;\n",
       "  /* unfitted */\n",
       "  color: var(--sklearn-color-unfitted-level-1);\n",
       "  border: var(--sklearn-color-unfitted-level-1) 1pt solid;\n",
       "}\n",
       "\n",
       "#sk-container-id-1 a.estimator_doc_link.fitted {\n",
       "  /* fitted */\n",
       "  border: var(--sklearn-color-fitted-level-1) 1pt solid;\n",
       "  color: var(--sklearn-color-fitted-level-1);\n",
       "}\n",
       "\n",
       "/* On hover */\n",
       "#sk-container-id-1 a.estimator_doc_link:hover {\n",
       "  /* unfitted */\n",
       "  background-color: var(--sklearn-color-unfitted-level-3);\n",
       "  color: var(--sklearn-color-background);\n",
       "  text-decoration: none;\n",
       "}\n",
       "\n",
       "#sk-container-id-1 a.estimator_doc_link.fitted:hover {\n",
       "  /* fitted */\n",
       "  background-color: var(--sklearn-color-fitted-level-3);\n",
       "}\n",
       "</style><div id=\"sk-container-id-1\" class=\"sk-top-container\"><div class=\"sk-text-repr-fallback\"><pre>ITML(gamma=0.75, random_state=42)</pre><b>In a Jupyter environment, please rerun this cell to show the HTML representation or trust the notebook. <br />On GitHub, the HTML representation is unable to render, please try loading this page with nbviewer.org.</b></div><div class=\"sk-container\" hidden><div class=\"sk-item\"><div class=\"sk-estimator fitted sk-toggleable\"><input class=\"sk-toggleable__control sk-hidden--visually\" id=\"sk-estimator-id-1\" type=\"checkbox\" checked><label for=\"sk-estimator-id-1\" class=\"sk-toggleable__label fitted sk-toggleable__label-arrow fitted\">&nbsp;ITML<span class=\"sk-estimator-doc-link fitted\">i<span>Fitted</span></span></label><div class=\"sk-toggleable__content fitted\"><pre>ITML(gamma=0.75, random_state=42)</pre></div> </div></div></div></div>"
      ],
      "text/plain": [
       "ITML(gamma=0.75, random_state=42)"
      ]
     },
     "execution_count": 50,
     "metadata": {},
     "output_type": "execute_result"
    }
   ],
   "source": [
    "best_model.fit(pairs_train, y_train)"
   ]
  },
  {
   "cell_type": "code",
   "execution_count": 51,
   "id": "27dd6748-2bb2-4108-8fcb-0a8f46f92460",
   "metadata": {},
   "outputs": [],
   "source": [
    "y_pred = best_model.predict(pairs_test)"
   ]
  },
  {
   "cell_type": "code",
   "execution_count": 52,
   "id": "960f63f6-e5ca-4b94-9680-c28471b82049",
   "metadata": {},
   "outputs": [
    {
     "data": {
      "text/plain": [
       "0.9521354933726067"
      ]
     },
     "execution_count": 52,
     "metadata": {},
     "output_type": "execute_result"
    }
   ],
   "source": [
    "roc_auc_score(y_test, y_pred)"
   ]
  },
  {
   "cell_type": "code",
   "execution_count": 53,
   "id": "59e27895-8027-4814-bfcb-947e220c2461",
   "metadata": {},
   "outputs": [
    {
     "data": {
      "text/plain": [
       "0.9521354933726067"
      ]
     },
     "execution_count": 53,
     "metadata": {},
     "output_type": "execute_result"
    }
   ],
   "source": [
    "balanced_accuracy_score(y_test, y_pred)"
   ]
  },
  {
   "cell_type": "code",
   "execution_count": 54,
   "id": "a43c598d-411d-4766-9ada-1342855be6e5",
   "metadata": {},
   "outputs": [],
   "source": [
    "from sklearn.metrics import confusion_matrix, classification_report"
   ]
  },
  {
   "cell_type": "code",
   "execution_count": 55,
   "id": "540d5349-5dfa-46af-9270-50037c956424",
   "metadata": {},
   "outputs": [
    {
     "name": "stdout",
     "output_type": "stream",
     "text": [
      "              precision    recall  f1-score   support\n",
      "\n",
      "          -1       0.93      0.98      0.95       679\n",
      "           1       0.98      0.92      0.95       679\n",
      "\n",
      "    accuracy                           0.95      1358\n",
      "   macro avg       0.95      0.95      0.95      1358\n",
      "weighted avg       0.95      0.95      0.95      1358\n",
      "\n"
     ]
    }
   ],
   "source": [
    "print(classification_report(y_test, y_pred))"
   ]
  },
  {
   "cell_type": "code",
   "execution_count": 56,
   "id": "41b1c94d-1901-4751-9edd-99e3c0fd8d6d",
   "metadata": {},
   "outputs": [
    {
     "data": {
      "text/plain": [
       "array([[667,  12],\n",
       "       [ 53, 626]])"
      ]
     },
     "execution_count": 56,
     "metadata": {},
     "output_type": "execute_result"
    }
   ],
   "source": [
    "confusion_matrix(y_test, y_pred)"
   ]
  },
  {
   "cell_type": "code",
   "execution_count": null,
   "id": "61573399-017d-4fe6-b480-f46955bad760",
   "metadata": {},
   "outputs": [],
   "source": []
  }
 ],
 "metadata": {
  "kernelspec": {
   "display_name": "graph",
   "language": "python",
   "name": "graph"
  },
  "language_info": {
   "codemirror_mode": {
    "name": "ipython",
    "version": 3
   },
   "file_extension": ".py",
   "mimetype": "text/x-python",
   "name": "python",
   "nbconvert_exporter": "python",
   "pygments_lexer": "ipython3",
   "version": "3.9.13"
  },
  "widgets": {
   "application/vnd.jupyter.widget-state+json": {
    "state": {},
    "version_major": 2,
    "version_minor": 0
   }
  }
 },
 "nbformat": 4,
 "nbformat_minor": 5
}
