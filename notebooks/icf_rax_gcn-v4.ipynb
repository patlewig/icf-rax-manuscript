{
 "cells": [
  {
   "cell_type": "code",
   "execution_count": 1,
   "id": "11f50688-c0ec-461e-bbf5-51b5246076a7",
   "metadata": {},
   "outputs": [],
   "source": [
    "\n",
    "\n",
    "import matplotlib.pyplot as plt"
   ]
  },
  {
   "cell_type": "code",
   "execution_count": 2,
   "id": "795ef6b4-b697-45ca-97a0-fd5827697f39",
   "metadata": {},
   "outputs": [],
   "source": [
    "import torch"
   ]
  },
  {
   "cell_type": "code",
   "execution_count": 3,
   "id": "f06a975b-43af-43dc-b065-b56a89756eba",
   "metadata": {},
   "outputs": [],
   "source": [
    "import numpy as np\n",
    "import pandas as pd\n",
    "from rdkit import Chem\n",
    "from rdkit.Chem import AllChem,rdReducedGraphs\n",
    "import openpyxl\n",
    "%matplotlib inline"
   ]
  },
  {
   "cell_type": "code",
   "execution_count": 4,
   "id": "e19ab639-b0bd-4381-8756-f1efbbe7845e",
   "metadata": {},
   "outputs": [
    {
     "name": "stderr",
     "output_type": "stream",
     "text": [
      "/home/grace/Documents/python/misc/cuda/lib/python3.9/site-packages/openpyxl/styles/stylesheet.py:226: UserWarning: Workbook contains no default style, apply openpyxl's default\n",
      "  warn(\"Workbook contains no default style, apply openpyxl's default\")\n"
     ]
    },
    {
     "data": {
      "text/html": [
       "<div>\n",
       "<style scoped>\n",
       "    .dataframe tbody tr th:only-of-type {\n",
       "        vertical-align: middle;\n",
       "    }\n",
       "\n",
       "    .dataframe tbody tr th {\n",
       "        vertical-align: top;\n",
       "    }\n",
       "\n",
       "    .dataframe thead th {\n",
       "        text-align: right;\n",
       "    }\n",
       "</style>\n",
       "<table border=\"1\" class=\"dataframe\">\n",
       "  <thead>\n",
       "    <tr style=\"text-align: right;\">\n",
       "      <th></th>\n",
       "      <th>Found_By</th>\n",
       "      <th>DSSTox_Substance_Id</th>\n",
       "      <th>DSSTox_Structure_Id</th>\n",
       "      <th>DSSTox_QC-Level</th>\n",
       "      <th>Substance_Name</th>\n",
       "      <th>Substance_CASRN</th>\n",
       "      <th>Substance_Type</th>\n",
       "      <th>Substance_Note</th>\n",
       "      <th>Structure_SMILES</th>\n",
       "      <th>Structure_InChI</th>\n",
       "      <th>Structure_InChIKey</th>\n",
       "      <th>Structure_Formula</th>\n",
       "      <th>Structure_MolWt</th>\n",
       "      <th>Structure_SMILES_2D-QSAR</th>\n",
       "      <th>DateModified</th>\n",
       "    </tr>\n",
       "    <tr>\n",
       "      <th>Query</th>\n",
       "      <th></th>\n",
       "      <th></th>\n",
       "      <th></th>\n",
       "      <th></th>\n",
       "      <th></th>\n",
       "      <th></th>\n",
       "      <th></th>\n",
       "      <th></th>\n",
       "      <th></th>\n",
       "      <th></th>\n",
       "      <th></th>\n",
       "      <th></th>\n",
       "      <th></th>\n",
       "      <th></th>\n",
       "      <th></th>\n",
       "    </tr>\n",
       "  </thead>\n",
       "  <tbody>\n",
       "    <tr>\n",
       "      <th>50-45-3</th>\n",
       "      <td>CAS-RN matched &lt;b&gt;null&lt;/b&gt;</td>\n",
       "      <td>DTXSID5024976</td>\n",
       "      <td>DTXCID704976</td>\n",
       "      <td>DSSTox_High</td>\n",
       "      <td>2,3-Dichlorobenzoic acid</td>\n",
       "      <td>50-45-3</td>\n",
       "      <td>Single Compound</td>\n",
       "      <td>Benzoic acid, 2,3-dichloro-\\n</td>\n",
       "      <td>OC(=O)C1=CC=CC(Cl)=C1Cl</td>\n",
       "      <td>InChI=1S/C7H4Cl2O2/c8-5-3-1-2-4(6(5)9)7(10)11/...</td>\n",
       "      <td>QAOJBHRZQQDFHA-UHFFFAOYSA-N</td>\n",
       "      <td>C7H4Cl2O2</td>\n",
       "      <td>191.010</td>\n",
       "      <td>OC(=O)C1=CC=CC(Cl)=C1Cl</td>\n",
       "      <td>20210719.0</td>\n",
       "    </tr>\n",
       "    <tr>\n",
       "      <th>50-48-6</th>\n",
       "      <td>CAS-RN matched &lt;b&gt;null&lt;/b&gt;</td>\n",
       "      <td>DTXSID7022594</td>\n",
       "      <td>DTXCID502594</td>\n",
       "      <td>DSSTox_High</td>\n",
       "      <td>Amitriptyline</td>\n",
       "      <td>50-48-6</td>\n",
       "      <td>Single Compound</td>\n",
       "      <td>NaN</td>\n",
       "      <td>CN(C)CCC=C1C2=CC=CC=C2CCC2=C1C=CC=C2</td>\n",
       "      <td>InChI=1S/C20H23N/c1-21(2)15-7-12-20-18-10-5-3-...</td>\n",
       "      <td>KRMDCWKBEZIMAB-UHFFFAOYSA-N</td>\n",
       "      <td>C20H23N</td>\n",
       "      <td>277.411</td>\n",
       "      <td>CN(C)CCC=C1C2=CC=CC=C2CCC2=C1C=CC=C2</td>\n",
       "      <td>20230406.0</td>\n",
       "    </tr>\n",
       "    <tr>\n",
       "      <th>50-85-1</th>\n",
       "      <td>CAS-RN matched &lt;b&gt;null&lt;/b&gt;</td>\n",
       "      <td>DTXSID30198166</td>\n",
       "      <td>DTXCID60120657</td>\n",
       "      <td>Public_High_CAS</td>\n",
       "      <td>m-Cresotic acid</td>\n",
       "      <td>50-85-1</td>\n",
       "      <td>Single Compound</td>\n",
       "      <td>Loaded based on no conflicts with this data in...</td>\n",
       "      <td>CC1=CC(O)=C(C=C1)C(O)=O</td>\n",
       "      <td>InChI=1S/C8H8O3/c1-5-2-3-6(8(10)11)7(9)4-5/h2-...</td>\n",
       "      <td>NJESAXZANHETJV-UHFFFAOYSA-N</td>\n",
       "      <td>C8H8O3</td>\n",
       "      <td>152.149</td>\n",
       "      <td>CC1=CC(O)=C(C=C1)C(O)=O</td>\n",
       "      <td>20210723.0</td>\n",
       "    </tr>\n",
       "    <tr>\n",
       "      <th>51-03-6</th>\n",
       "      <td>CAS-RN matched &lt;b&gt;null&lt;/b&gt;</td>\n",
       "      <td>DTXSID1021166</td>\n",
       "      <td>DTXCID501166</td>\n",
       "      <td>DSSTox_High</td>\n",
       "      <td>Piperonyl butoxide</td>\n",
       "      <td>51-03-6</td>\n",
       "      <td>Single Compound</td>\n",
       "      <td>NaN</td>\n",
       "      <td>CCCCOCCOCCOCC1=CC2=C(OCO2)C=C1CCC</td>\n",
       "      <td>InChI=1S/C19H30O5/c1-3-5-7-20-8-9-21-10-11-22-...</td>\n",
       "      <td>FIPWRIJSWJWJAI-UHFFFAOYSA-N</td>\n",
       "      <td>C19H30O5</td>\n",
       "      <td>338.444</td>\n",
       "      <td>CCCCOCCOCCOCC1=CC2=C(OCO2)C=C1CCC</td>\n",
       "      <td>20231110.0</td>\n",
       "    </tr>\n",
       "    <tr>\n",
       "      <th>51-17-2</th>\n",
       "      <td>CAS-RN matched &lt;b&gt;null&lt;/b&gt;</td>\n",
       "      <td>DTXSID8024573</td>\n",
       "      <td>DTXCID704573</td>\n",
       "      <td>DSSTox_High</td>\n",
       "      <td>Benzimidazole</td>\n",
       "      <td>51-17-2</td>\n",
       "      <td>Single Compound</td>\n",
       "      <td>NaN</td>\n",
       "      <td>N1C=NC2=C1C=CC=C2</td>\n",
       "      <td>InChI=1S/C7H6N2/c1-2-4-7-6(3-1)8-5-9-7/h1-5H,(...</td>\n",
       "      <td>HYZJCKYKOHLVJF-UHFFFAOYSA-N</td>\n",
       "      <td>C7H6N2</td>\n",
       "      <td>118.139</td>\n",
       "      <td>N1C=NC2=C1C=CC=C2</td>\n",
       "      <td>20210519.0</td>\n",
       "    </tr>\n",
       "  </tbody>\n",
       "</table>\n",
       "</div>"
      ],
      "text/plain": [
       "                           Found_By DSSTox_Substance_Id DSSTox_Structure_Id  \\\n",
       "Query                                                                         \n",
       "50-45-3  CAS-RN matched <b>null</b>       DTXSID5024976        DTXCID704976   \n",
       "50-48-6  CAS-RN matched <b>null</b>       DTXSID7022594        DTXCID502594   \n",
       "50-85-1  CAS-RN matched <b>null</b>      DTXSID30198166      DTXCID60120657   \n",
       "51-03-6  CAS-RN matched <b>null</b>       DTXSID1021166        DTXCID501166   \n",
       "51-17-2  CAS-RN matched <b>null</b>       DTXSID8024573        DTXCID704573   \n",
       "\n",
       "         DSSTox_QC-Level            Substance_Name Substance_CASRN  \\\n",
       "Query                                                                \n",
       "50-45-3      DSSTox_High  2,3-Dichlorobenzoic acid         50-45-3   \n",
       "50-48-6      DSSTox_High             Amitriptyline         50-48-6   \n",
       "50-85-1  Public_High_CAS           m-Cresotic acid         50-85-1   \n",
       "51-03-6      DSSTox_High        Piperonyl butoxide         51-03-6   \n",
       "51-17-2      DSSTox_High             Benzimidazole         51-17-2   \n",
       "\n",
       "          Substance_Type                                     Substance_Note  \\\n",
       "Query                                                                         \n",
       "50-45-3  Single Compound                      Benzoic acid, 2,3-dichloro-\\n   \n",
       "50-48-6  Single Compound                                                NaN   \n",
       "50-85-1  Single Compound  Loaded based on no conflicts with this data in...   \n",
       "51-03-6  Single Compound                                                NaN   \n",
       "51-17-2  Single Compound                                                NaN   \n",
       "\n",
       "                             Structure_SMILES  \\\n",
       "Query                                           \n",
       "50-45-3               OC(=O)C1=CC=CC(Cl)=C1Cl   \n",
       "50-48-6  CN(C)CCC=C1C2=CC=CC=C2CCC2=C1C=CC=C2   \n",
       "50-85-1               CC1=CC(O)=C(C=C1)C(O)=O   \n",
       "51-03-6     CCCCOCCOCCOCC1=CC2=C(OCO2)C=C1CCC   \n",
       "51-17-2                     N1C=NC2=C1C=CC=C2   \n",
       "\n",
       "                                           Structure_InChI  \\\n",
       "Query                                                        \n",
       "50-45-3  InChI=1S/C7H4Cl2O2/c8-5-3-1-2-4(6(5)9)7(10)11/...   \n",
       "50-48-6  InChI=1S/C20H23N/c1-21(2)15-7-12-20-18-10-5-3-...   \n",
       "50-85-1  InChI=1S/C8H8O3/c1-5-2-3-6(8(10)11)7(9)4-5/h2-...   \n",
       "51-03-6  InChI=1S/C19H30O5/c1-3-5-7-20-8-9-21-10-11-22-...   \n",
       "51-17-2  InChI=1S/C7H6N2/c1-2-4-7-6(3-1)8-5-9-7/h1-5H,(...   \n",
       "\n",
       "                  Structure_InChIKey Structure_Formula  Structure_MolWt  \\\n",
       "Query                                                                     \n",
       "50-45-3  QAOJBHRZQQDFHA-UHFFFAOYSA-N         C7H4Cl2O2          191.010   \n",
       "50-48-6  KRMDCWKBEZIMAB-UHFFFAOYSA-N           C20H23N          277.411   \n",
       "50-85-1  NJESAXZANHETJV-UHFFFAOYSA-N            C8H8O3          152.149   \n",
       "51-03-6  FIPWRIJSWJWJAI-UHFFFAOYSA-N          C19H30O5          338.444   \n",
       "51-17-2  HYZJCKYKOHLVJF-UHFFFAOYSA-N            C7H6N2          118.139   \n",
       "\n",
       "                     Structure_SMILES_2D-QSAR  DateModified  \n",
       "Query                                                        \n",
       "50-45-3               OC(=O)C1=CC=CC(Cl)=C1Cl    20210719.0  \n",
       "50-48-6  CN(C)CCC=C1C2=CC=CC=C2CCC2=C1C=CC=C2    20230406.0  \n",
       "50-85-1               CC1=CC(O)=C(C=C1)C(O)=O    20210723.0  \n",
       "51-03-6     CCCCOCCOCCOCC1=CC2=C(OCO2)C=C1CCC    20231110.0  \n",
       "51-17-2                     N1C=NC2=C1C=CC=C2    20210519.0  "
      ]
     },
     "execution_count": 4,
     "metadata": {},
     "output_type": "execute_result"
    }
   ],
   "source": [
    "df = pd.read_excel('DSSToxQuery_20231117_REACH.xlsx', index_col=[0])\n",
    "df.head()"
   ]
  },
  {
   "cell_type": "code",
   "execution_count": 5,
   "id": "b0fcbe61-5b95-4825-ac62-394f86a2d3bf",
   "metadata": {},
   "outputs": [
    {
     "data": {
      "text/plain": [
       "Index(['Found_By', 'DSSTox_Substance_Id', 'DSSTox_Structure_Id',\n",
       "       'DSSTox_QC-Level', 'Substance_Name', 'Substance_CASRN',\n",
       "       'Substance_Type', 'Substance_Note', 'Structure_SMILES',\n",
       "       'Structure_InChI', 'Structure_InChIKey', 'Structure_Formula',\n",
       "       'Structure_MolWt', 'Structure_SMILES_2D-QSAR', 'DateModified'],\n",
       "      dtype='object')"
      ]
     },
     "execution_count": 5,
     "metadata": {},
     "output_type": "execute_result"
    }
   ],
   "source": [
    "df.columns"
   ]
  },
  {
   "cell_type": "code",
   "execution_count": 6,
   "id": "768ae2a5-7dc6-495d-8c1f-c93796be1d69",
   "metadata": {},
   "outputs": [],
   "source": [
    "df.rename(columns = {'DSSTox_Substance_Id': 'dtxsid', 'Structure_SMILES': 'smiles'}, inplace = True)"
   ]
  },
  {
   "cell_type": "code",
   "execution_count": 7,
   "id": "98699283-9b2f-4d58-a7b7-0e474ce17f66",
   "metadata": {},
   "outputs": [
    {
     "data": {
      "text/html": [
       "<div>\n",
       "<style scoped>\n",
       "    .dataframe tbody tr th:only-of-type {\n",
       "        vertical-align: middle;\n",
       "    }\n",
       "\n",
       "    .dataframe tbody tr th {\n",
       "        vertical-align: top;\n",
       "    }\n",
       "\n",
       "    .dataframe thead th {\n",
       "        text-align: right;\n",
       "    }\n",
       "</style>\n",
       "<table border=\"1\" class=\"dataframe\">\n",
       "  <thead>\n",
       "    <tr style=\"text-align: right;\">\n",
       "      <th></th>\n",
       "      <th>Found_By</th>\n",
       "      <th>dtxsid</th>\n",
       "      <th>DSSTox_Structure_Id</th>\n",
       "      <th>DSSTox_QC-Level</th>\n",
       "      <th>Substance_Name</th>\n",
       "      <th>Substance_CASRN</th>\n",
       "      <th>Substance_Type</th>\n",
       "      <th>Substance_Note</th>\n",
       "      <th>smiles</th>\n",
       "      <th>Structure_InChI</th>\n",
       "      <th>Structure_InChIKey</th>\n",
       "      <th>Structure_Formula</th>\n",
       "      <th>Structure_MolWt</th>\n",
       "      <th>Structure_SMILES_2D-QSAR</th>\n",
       "      <th>DateModified</th>\n",
       "    </tr>\n",
       "    <tr>\n",
       "      <th>Query</th>\n",
       "      <th></th>\n",
       "      <th></th>\n",
       "      <th></th>\n",
       "      <th></th>\n",
       "      <th></th>\n",
       "      <th></th>\n",
       "      <th></th>\n",
       "      <th></th>\n",
       "      <th></th>\n",
       "      <th></th>\n",
       "      <th></th>\n",
       "      <th></th>\n",
       "      <th></th>\n",
       "      <th></th>\n",
       "      <th></th>\n",
       "    </tr>\n",
       "  </thead>\n",
       "  <tbody>\n",
       "    <tr>\n",
       "      <th>50-45-3</th>\n",
       "      <td>CAS-RN matched &lt;b&gt;null&lt;/b&gt;</td>\n",
       "      <td>DTXSID5024976</td>\n",
       "      <td>DTXCID704976</td>\n",
       "      <td>DSSTox_High</td>\n",
       "      <td>2,3-Dichlorobenzoic acid</td>\n",
       "      <td>50-45-3</td>\n",
       "      <td>Single Compound</td>\n",
       "      <td>Benzoic acid, 2,3-dichloro-\\n</td>\n",
       "      <td>OC(=O)C1=CC=CC(Cl)=C1Cl</td>\n",
       "      <td>InChI=1S/C7H4Cl2O2/c8-5-3-1-2-4(6(5)9)7(10)11/...</td>\n",
       "      <td>QAOJBHRZQQDFHA-UHFFFAOYSA-N</td>\n",
       "      <td>C7H4Cl2O2</td>\n",
       "      <td>191.010</td>\n",
       "      <td>OC(=O)C1=CC=CC(Cl)=C1Cl</td>\n",
       "      <td>20210719.0</td>\n",
       "    </tr>\n",
       "    <tr>\n",
       "      <th>50-48-6</th>\n",
       "      <td>CAS-RN matched &lt;b&gt;null&lt;/b&gt;</td>\n",
       "      <td>DTXSID7022594</td>\n",
       "      <td>DTXCID502594</td>\n",
       "      <td>DSSTox_High</td>\n",
       "      <td>Amitriptyline</td>\n",
       "      <td>50-48-6</td>\n",
       "      <td>Single Compound</td>\n",
       "      <td>NaN</td>\n",
       "      <td>CN(C)CCC=C1C2=CC=CC=C2CCC2=C1C=CC=C2</td>\n",
       "      <td>InChI=1S/C20H23N/c1-21(2)15-7-12-20-18-10-5-3-...</td>\n",
       "      <td>KRMDCWKBEZIMAB-UHFFFAOYSA-N</td>\n",
       "      <td>C20H23N</td>\n",
       "      <td>277.411</td>\n",
       "      <td>CN(C)CCC=C1C2=CC=CC=C2CCC2=C1C=CC=C2</td>\n",
       "      <td>20230406.0</td>\n",
       "    </tr>\n",
       "    <tr>\n",
       "      <th>50-85-1</th>\n",
       "      <td>CAS-RN matched &lt;b&gt;null&lt;/b&gt;</td>\n",
       "      <td>DTXSID30198166</td>\n",
       "      <td>DTXCID60120657</td>\n",
       "      <td>Public_High_CAS</td>\n",
       "      <td>m-Cresotic acid</td>\n",
       "      <td>50-85-1</td>\n",
       "      <td>Single Compound</td>\n",
       "      <td>Loaded based on no conflicts with this data in...</td>\n",
       "      <td>CC1=CC(O)=C(C=C1)C(O)=O</td>\n",
       "      <td>InChI=1S/C8H8O3/c1-5-2-3-6(8(10)11)7(9)4-5/h2-...</td>\n",
       "      <td>NJESAXZANHETJV-UHFFFAOYSA-N</td>\n",
       "      <td>C8H8O3</td>\n",
       "      <td>152.149</td>\n",
       "      <td>CC1=CC(O)=C(C=C1)C(O)=O</td>\n",
       "      <td>20210723.0</td>\n",
       "    </tr>\n",
       "    <tr>\n",
       "      <th>51-03-6</th>\n",
       "      <td>CAS-RN matched &lt;b&gt;null&lt;/b&gt;</td>\n",
       "      <td>DTXSID1021166</td>\n",
       "      <td>DTXCID501166</td>\n",
       "      <td>DSSTox_High</td>\n",
       "      <td>Piperonyl butoxide</td>\n",
       "      <td>51-03-6</td>\n",
       "      <td>Single Compound</td>\n",
       "      <td>NaN</td>\n",
       "      <td>CCCCOCCOCCOCC1=CC2=C(OCO2)C=C1CCC</td>\n",
       "      <td>InChI=1S/C19H30O5/c1-3-5-7-20-8-9-21-10-11-22-...</td>\n",
       "      <td>FIPWRIJSWJWJAI-UHFFFAOYSA-N</td>\n",
       "      <td>C19H30O5</td>\n",
       "      <td>338.444</td>\n",
       "      <td>CCCCOCCOCCOCC1=CC2=C(OCO2)C=C1CCC</td>\n",
       "      <td>20231110.0</td>\n",
       "    </tr>\n",
       "    <tr>\n",
       "      <th>51-17-2</th>\n",
       "      <td>CAS-RN matched &lt;b&gt;null&lt;/b&gt;</td>\n",
       "      <td>DTXSID8024573</td>\n",
       "      <td>DTXCID704573</td>\n",
       "      <td>DSSTox_High</td>\n",
       "      <td>Benzimidazole</td>\n",
       "      <td>51-17-2</td>\n",
       "      <td>Single Compound</td>\n",
       "      <td>NaN</td>\n",
       "      <td>N1C=NC2=C1C=CC=C2</td>\n",
       "      <td>InChI=1S/C7H6N2/c1-2-4-7-6(3-1)8-5-9-7/h1-5H,(...</td>\n",
       "      <td>HYZJCKYKOHLVJF-UHFFFAOYSA-N</td>\n",
       "      <td>C7H6N2</td>\n",
       "      <td>118.139</td>\n",
       "      <td>N1C=NC2=C1C=CC=C2</td>\n",
       "      <td>20210519.0</td>\n",
       "    </tr>\n",
       "    <tr>\n",
       "      <th>...</th>\n",
       "      <td>...</td>\n",
       "      <td>...</td>\n",
       "      <td>...</td>\n",
       "      <td>...</td>\n",
       "      <td>...</td>\n",
       "      <td>...</td>\n",
       "      <td>...</td>\n",
       "      <td>...</td>\n",
       "      <td>...</td>\n",
       "      <td>...</td>\n",
       "      <td>...</td>\n",
       "      <td>...</td>\n",
       "      <td>...</td>\n",
       "      <td>...</td>\n",
       "      <td>...</td>\n",
       "    </tr>\n",
       "    <tr>\n",
       "      <th>253768-88-6</th>\n",
       "      <td>CAS-RN matched &lt;b&gt;null&lt;/b&gt;</td>\n",
       "      <td>DTXSID201119074</td>\n",
       "      <td>DTXCID201550634</td>\n",
       "      <td>Public_High_CAS</td>\n",
       "      <td>Phenyl (3S,4R)-3-[(1,3-benzodioxol-5-yloxy)met...</td>\n",
       "      <td>253768-88-6</td>\n",
       "      <td>Single Compound</td>\n",
       "      <td>NaN</td>\n",
       "      <td>FC1=CC=C(C=C1)[C@@H]1CCN(C[C@H]1COC1=CC=C2OCOC...</td>\n",
       "      <td>InChI=1S/C26H24FNO5/c27-20-8-6-18(7-9-20)23-12...</td>\n",
       "      <td>XHNUMAXRQGMHKZ-CVDCTZTESA-N</td>\n",
       "      <td>C26H24FNO5</td>\n",
       "      <td>449.478</td>\n",
       "      <td>NaN</td>\n",
       "      <td>20210723.0</td>\n",
       "    </tr>\n",
       "    <tr>\n",
       "      <th>37143-54-7</th>\n",
       "      <td>CAS-RN matched &lt;b&gt;null&lt;/b&gt;</td>\n",
       "      <td>DTXSID4029359</td>\n",
       "      <td>DTXCID609359</td>\n",
       "      <td>DSSTox_High</td>\n",
       "      <td>1-Methoxy-2-propylamine</td>\n",
       "      <td>37143-54-7</td>\n",
       "      <td>Mixture of Stereoisomers</td>\n",
       "      <td>NaN</td>\n",
       "      <td>COCC(C)N</td>\n",
       "      <td>InChI=1/C4H11NO/c1-4(5)3-6-2/h4H,3,5H2,1-2H3\\n...</td>\n",
       "      <td>NXMXETCTWNXSFG-UHFFFAOYNA-N</td>\n",
       "      <td>C4H11NO</td>\n",
       "      <td>89.138</td>\n",
       "      <td>COCC(C)N</td>\n",
       "      <td>20230322.0</td>\n",
       "    </tr>\n",
       "    <tr>\n",
       "      <th>25618-55-7</th>\n",
       "      <td>CAS-RN matched &lt;b&gt;null&lt;/b&gt;</td>\n",
       "      <td>DTXSID1051226</td>\n",
       "      <td>NaN</td>\n",
       "      <td>DSSTox_High</td>\n",
       "      <td>Polyglycerol</td>\n",
       "      <td>25618-55-7</td>\n",
       "      <td>Polymer</td>\n",
       "      <td>Polymer class: Polyether;\\n(C3 H8 O3)x\\n\\nReco...</td>\n",
       "      <td>NaN</td>\n",
       "      <td>NaN</td>\n",
       "      <td>NaN</td>\n",
       "      <td>NaN</td>\n",
       "      <td>NaN</td>\n",
       "      <td>NaN</td>\n",
       "      <td>20230321.0</td>\n",
       "    </tr>\n",
       "    <tr>\n",
       "      <th>1338-23-4</th>\n",
       "      <td>CAS-RN matched &lt;b&gt;null&lt;/b&gt;</td>\n",
       "      <td>DTXSID1024671</td>\n",
       "      <td>DTXCID104671</td>\n",
       "      <td>DSSTox_Low</td>\n",
       "      <td>2-Butanone peroxide</td>\n",
       "      <td>1338-23-4</td>\n",
       "      <td>Single Compound</td>\n",
       "      <td>NaN</td>\n",
       "      <td>CCC(C)(OO)OOC(C)(CC)OO</td>\n",
       "      <td>InChI=1/C8H18O6/c1-5-7(3,11-9)13-14-8(4,6-2)12...</td>\n",
       "      <td>WFUGQJXVXHBTEM-UHFFFAOYNA-N</td>\n",
       "      <td>C8H18O6</td>\n",
       "      <td>210.226</td>\n",
       "      <td>CCC(C)(OO)OOC(C)(CC)OO</td>\n",
       "      <td>20170228.0</td>\n",
       "    </tr>\n",
       "    <tr>\n",
       "      <th>144317-44-2</th>\n",
       "      <td>CAS-RN matched &lt;b&gt;null&lt;/b&gt;</td>\n",
       "      <td>DTXSID40881875</td>\n",
       "      <td>DTXCID001478480</td>\n",
       "      <td>DSSTox_High</td>\n",
       "      <td>Triphenylsulfonium nonafluorobutanesulfonate</td>\n",
       "      <td>144317-44-2</td>\n",
       "      <td>Single Compound</td>\n",
       "      <td>NaN</td>\n",
       "      <td>[O-]S(=O)(=O)C(F)(F)C(F)(F)C(F)(F)C(F)(F)F.C1=...</td>\n",
       "      <td>InChI=1S/C18H15S.C4HF9O3S/c1-4-10-16(11-5-1)19...</td>\n",
       "      <td>VLLPVDKADBYKLM-UHFFFAOYSA-M</td>\n",
       "      <td>C22H15F9O3S2</td>\n",
       "      <td>562.460</td>\n",
       "      <td>NaN</td>\n",
       "      <td>20210714.0</td>\n",
       "    </tr>\n",
       "  </tbody>\n",
       "</table>\n",
       "<p>10034 rows × 15 columns</p>\n",
       "</div>"
      ],
      "text/plain": [
       "                               Found_By           dtxsid DSSTox_Structure_Id  \\\n",
       "Query                                                                          \n",
       "50-45-3      CAS-RN matched <b>null</b>    DTXSID5024976        DTXCID704976   \n",
       "50-48-6      CAS-RN matched <b>null</b>    DTXSID7022594        DTXCID502594   \n",
       "50-85-1      CAS-RN matched <b>null</b>   DTXSID30198166      DTXCID60120657   \n",
       "51-03-6      CAS-RN matched <b>null</b>    DTXSID1021166        DTXCID501166   \n",
       "51-17-2      CAS-RN matched <b>null</b>    DTXSID8024573        DTXCID704573   \n",
       "...                                 ...              ...                 ...   \n",
       "253768-88-6  CAS-RN matched <b>null</b>  DTXSID201119074     DTXCID201550634   \n",
       "37143-54-7   CAS-RN matched <b>null</b>    DTXSID4029359        DTXCID609359   \n",
       "25618-55-7   CAS-RN matched <b>null</b>    DTXSID1051226                 NaN   \n",
       "1338-23-4    CAS-RN matched <b>null</b>    DTXSID1024671        DTXCID104671   \n",
       "144317-44-2  CAS-RN matched <b>null</b>   DTXSID40881875     DTXCID001478480   \n",
       "\n",
       "             DSSTox_QC-Level  \\\n",
       "Query                          \n",
       "50-45-3          DSSTox_High   \n",
       "50-48-6          DSSTox_High   \n",
       "50-85-1      Public_High_CAS   \n",
       "51-03-6          DSSTox_High   \n",
       "51-17-2          DSSTox_High   \n",
       "...                      ...   \n",
       "253768-88-6  Public_High_CAS   \n",
       "37143-54-7       DSSTox_High   \n",
       "25618-55-7       DSSTox_High   \n",
       "1338-23-4         DSSTox_Low   \n",
       "144317-44-2      DSSTox_High   \n",
       "\n",
       "                                                Substance_Name  \\\n",
       "Query                                                            \n",
       "50-45-3                               2,3-Dichlorobenzoic acid   \n",
       "50-48-6                                          Amitriptyline   \n",
       "50-85-1                                        m-Cresotic acid   \n",
       "51-03-6                                     Piperonyl butoxide   \n",
       "51-17-2                                          Benzimidazole   \n",
       "...                                                        ...   \n",
       "253768-88-6  Phenyl (3S,4R)-3-[(1,3-benzodioxol-5-yloxy)met...   \n",
       "37143-54-7                             1-Methoxy-2-propylamine   \n",
       "25618-55-7                                        Polyglycerol   \n",
       "1338-23-4                                  2-Butanone peroxide   \n",
       "144317-44-2       Triphenylsulfonium nonafluorobutanesulfonate   \n",
       "\n",
       "            Substance_CASRN            Substance_Type  \\\n",
       "Query                                                   \n",
       "50-45-3             50-45-3           Single Compound   \n",
       "50-48-6             50-48-6           Single Compound   \n",
       "50-85-1             50-85-1           Single Compound   \n",
       "51-03-6             51-03-6           Single Compound   \n",
       "51-17-2             51-17-2           Single Compound   \n",
       "...                     ...                       ...   \n",
       "253768-88-6     253768-88-6           Single Compound   \n",
       "37143-54-7       37143-54-7  Mixture of Stereoisomers   \n",
       "25618-55-7       25618-55-7                   Polymer   \n",
       "1338-23-4         1338-23-4           Single Compound   \n",
       "144317-44-2     144317-44-2           Single Compound   \n",
       "\n",
       "                                                Substance_Note  \\\n",
       "Query                                                            \n",
       "50-45-3                          Benzoic acid, 2,3-dichloro-\\n   \n",
       "50-48-6                                                    NaN   \n",
       "50-85-1      Loaded based on no conflicts with this data in...   \n",
       "51-03-6                                                    NaN   \n",
       "51-17-2                                                    NaN   \n",
       "...                                                        ...   \n",
       "253768-88-6                                                NaN   \n",
       "37143-54-7                                                 NaN   \n",
       "25618-55-7   Polymer class: Polyether;\\n(C3 H8 O3)x\\n\\nReco...   \n",
       "1338-23-4                                                  NaN   \n",
       "144317-44-2                                                NaN   \n",
       "\n",
       "                                                        smiles  \\\n",
       "Query                                                            \n",
       "50-45-3                                OC(=O)C1=CC=CC(Cl)=C1Cl   \n",
       "50-48-6                   CN(C)CCC=C1C2=CC=CC=C2CCC2=C1C=CC=C2   \n",
       "50-85-1                                CC1=CC(O)=C(C=C1)C(O)=O   \n",
       "51-03-6                      CCCCOCCOCCOCC1=CC2=C(OCO2)C=C1CCC   \n",
       "51-17-2                                      N1C=NC2=C1C=CC=C2   \n",
       "...                                                        ...   \n",
       "253768-88-6  FC1=CC=C(C=C1)[C@@H]1CCN(C[C@H]1COC1=CC=C2OCOC...   \n",
       "37143-54-7                                            COCC(C)N   \n",
       "25618-55-7                                                 NaN   \n",
       "1338-23-4                               CCC(C)(OO)OOC(C)(CC)OO   \n",
       "144317-44-2  [O-]S(=O)(=O)C(F)(F)C(F)(F)C(F)(F)C(F)(F)F.C1=...   \n",
       "\n",
       "                                               Structure_InChI  \\\n",
       "Query                                                            \n",
       "50-45-3      InChI=1S/C7H4Cl2O2/c8-5-3-1-2-4(6(5)9)7(10)11/...   \n",
       "50-48-6      InChI=1S/C20H23N/c1-21(2)15-7-12-20-18-10-5-3-...   \n",
       "50-85-1      InChI=1S/C8H8O3/c1-5-2-3-6(8(10)11)7(9)4-5/h2-...   \n",
       "51-03-6      InChI=1S/C19H30O5/c1-3-5-7-20-8-9-21-10-11-22-...   \n",
       "51-17-2      InChI=1S/C7H6N2/c1-2-4-7-6(3-1)8-5-9-7/h1-5H,(...   \n",
       "...                                                        ...   \n",
       "253768-88-6  InChI=1S/C26H24FNO5/c27-20-8-6-18(7-9-20)23-12...   \n",
       "37143-54-7   InChI=1/C4H11NO/c1-4(5)3-6-2/h4H,3,5H2,1-2H3\\n...   \n",
       "25618-55-7                                                 NaN   \n",
       "1338-23-4    InChI=1/C8H18O6/c1-5-7(3,11-9)13-14-8(4,6-2)12...   \n",
       "144317-44-2  InChI=1S/C18H15S.C4HF9O3S/c1-4-10-16(11-5-1)19...   \n",
       "\n",
       "                      Structure_InChIKey Structure_Formula  Structure_MolWt  \\\n",
       "Query                                                                         \n",
       "50-45-3      QAOJBHRZQQDFHA-UHFFFAOYSA-N         C7H4Cl2O2          191.010   \n",
       "50-48-6      KRMDCWKBEZIMAB-UHFFFAOYSA-N           C20H23N          277.411   \n",
       "50-85-1      NJESAXZANHETJV-UHFFFAOYSA-N            C8H8O3          152.149   \n",
       "51-03-6      FIPWRIJSWJWJAI-UHFFFAOYSA-N          C19H30O5          338.444   \n",
       "51-17-2      HYZJCKYKOHLVJF-UHFFFAOYSA-N            C7H6N2          118.139   \n",
       "...                                  ...               ...              ...   \n",
       "253768-88-6  XHNUMAXRQGMHKZ-CVDCTZTESA-N        C26H24FNO5          449.478   \n",
       "37143-54-7   NXMXETCTWNXSFG-UHFFFAOYNA-N           C4H11NO           89.138   \n",
       "25618-55-7                           NaN               NaN              NaN   \n",
       "1338-23-4    WFUGQJXVXHBTEM-UHFFFAOYNA-N           C8H18O6          210.226   \n",
       "144317-44-2  VLLPVDKADBYKLM-UHFFFAOYSA-M      C22H15F9O3S2          562.460   \n",
       "\n",
       "                         Structure_SMILES_2D-QSAR  DateModified  \n",
       "Query                                                            \n",
       "50-45-3                   OC(=O)C1=CC=CC(Cl)=C1Cl    20210719.0  \n",
       "50-48-6      CN(C)CCC=C1C2=CC=CC=C2CCC2=C1C=CC=C2    20230406.0  \n",
       "50-85-1                   CC1=CC(O)=C(C=C1)C(O)=O    20210723.0  \n",
       "51-03-6         CCCCOCCOCCOCC1=CC2=C(OCO2)C=C1CCC    20231110.0  \n",
       "51-17-2                         N1C=NC2=C1C=CC=C2    20210519.0  \n",
       "...                                           ...           ...  \n",
       "253768-88-6                                   NaN    20210723.0  \n",
       "37143-54-7                               COCC(C)N    20230322.0  \n",
       "25618-55-7                                    NaN    20230321.0  \n",
       "1338-23-4                  CCC(C)(OO)OOC(C)(CC)OO    20170228.0  \n",
       "144317-44-2                                   NaN    20210714.0  \n",
       "\n",
       "[10034 rows x 15 columns]"
      ]
     },
     "execution_count": 7,
     "metadata": {},
     "output_type": "execute_result"
    }
   ],
   "source": [
    "df"
   ]
  },
  {
   "cell_type": "code",
   "execution_count": 8,
   "id": "067908b7-aa89-45f1-abb9-c1af43aff0d9",
   "metadata": {},
   "outputs": [],
   "source": [
    "df = df[df['smiles'].notnull()]"
   ]
  },
  {
   "cell_type": "code",
   "execution_count": 9,
   "id": "31a2e51a-c9e6-45e6-8e3b-c664023ba46e",
   "metadata": {},
   "outputs": [],
   "source": [
    "df = df[['dtxsid', \n",
    "       'Substance_Name', 'Substance_CASRN', 'Substance_Type', 'Substance_Note',\n",
    "       'smiles', 'Structure_InChI', 'Structure_InChIKey', 'Structure_Formula',\n",
    "       'Structure_MolWt', 'Structure_SMILES_2D-QSAR', ]]"
   ]
  },
  {
   "cell_type": "code",
   "execution_count": 10,
   "id": "973136f4-3661-4b95-b6be-d790872f2bb2",
   "metadata": {},
   "outputs": [],
   "source": [
    "from rdkit.Chem.Scaffolds import MurckoScaffold"
   ]
  },
  {
   "cell_type": "code",
   "execution_count": 11,
   "id": "9177c226-44f0-4ba7-8499-db8e5858b935",
   "metadata": {},
   "outputs": [],
   "source": [
    "def mk_fp(df):\n",
    "    try:\n",
    "        a = {k:Chem.MolFromSmiles(v) for k,v in zip(df['dtxsid'], df['smiles'])}\n",
    "    except Exception as error:\n",
    "        print(error)\n",
    "    finally:\n",
    "        b = {k:v for k,v in a.items() if v is not None}\n",
    "    return b"
   ]
  },
  {
   "cell_type": "code",
   "execution_count": 12,
   "id": "8d4a7d26-8b65-4337-9b3d-228b31316f2c",
   "metadata": {},
   "outputs": [
    {
     "name": "stderr",
     "output_type": "stream",
     "text": [
      "[13:57:09] Can't kekulize mol.  Unkekulized atoms: 1 2 3 4 5\n",
      "[13:57:09] Explicit valence for atom # 3 Si, 8, is greater than permitted\n",
      "[13:57:09] WARNING: not removing hydrogen atom without neighbors\n",
      "[13:57:09] Explicit valence for atom # 31 N, 4, is greater than permitted\n",
      "[13:57:09] Can't kekulize mol.  Unkekulized atoms: 1 2 3 4 5\n",
      "[13:57:09] WARNING: not removing hydrogen atom without neighbors\n",
      "[13:57:09] Explicit valence for atom # 9 Al, 8, is greater than permitted\n",
      "[13:57:09] WARNING: not removing hydrogen atom without neighbors\n",
      "[13:57:09] WARNING: not removing hydrogen atom without neighbors\n",
      "[13:57:09] Can't kekulize mol.  Unkekulized atoms: 1 2 3 4 5\n",
      "[13:57:09] Can't kekulize mol.  Unkekulized atoms: 7 8 10 12 13\n",
      "[13:57:09] Can't kekulize mol.  Unkekulized atoms: 7 8 9 10 12\n",
      "[13:57:09] Explicit valence for atom # 3 O, 3, is greater than permitted\n",
      "[13:57:09] Can't kekulize mol.  Unkekulized atoms: 7 8 9 10 11\n",
      "[13:57:09] Can't kekulize mol.  Unkekulized atoms: 0 1 2 3 4\n",
      "[13:57:09] WARNING: not removing hydrogen atom without neighbors\n",
      "[13:57:09] WARNING: not removing hydrogen atom without neighbors\n",
      "[13:57:09] WARNING: not removing hydrogen atom without neighbors\n",
      "[13:57:09] WARNING: not removing hydrogen atom without neighbors\n",
      "[13:57:09] WARNING: not removing hydrogen atom without neighbors\n",
      "[13:57:10] Explicit valence for atom # 2 Cl, 2, is greater than permitted\n",
      "[13:57:10] Explicit valence for atom # 4 N, 5, is greater than permitted\n",
      "[13:57:10] Explicit valence for atom # 2 Cl, 2, is greater than permitted\n",
      "[13:57:10] Explicit valence for atom # 5 N, 5, is greater than permitted\n",
      "[13:57:10] Explicit valence for atom # 4 Sn, 6, is greater than permitted\n",
      "[13:57:10] Explicit valence for atom # 0 Cl, 2, is greater than permitted\n",
      "[13:57:10] Can't kekulize mol.  Unkekulized atoms: 3 4 5 6 7\n",
      "[13:57:10] Explicit valence for atom # 2 O, 3, is greater than permitted\n",
      "[13:57:10] Explicit valence for atom # 1 C, 5, is greater than permitted\n",
      "[13:57:10] WARNING: not removing hydrogen atom without neighbors\n",
      "[13:57:10] WARNING: not removing hydrogen atom without neighbors\n",
      "[13:57:10] WARNING: not removing hydrogen atom without neighbors\n",
      "[13:57:10] WARNING: not removing hydrogen atom without neighbors\n",
      "[13:57:10] WARNING: not removing hydrogen atom without neighbors\n",
      "[13:57:10] WARNING: not removing hydrogen atom without neighbors\n",
      "[13:57:10] WARNING: not removing hydrogen atom without neighbors\n",
      "[13:57:10] WARNING: not removing hydrogen atom without neighbors\n",
      "[13:57:10] WARNING: not removing hydrogen atom without neighbors\n",
      "[13:57:10] WARNING: not removing hydrogen atom without neighbors\n",
      "[13:57:10] WARNING: not removing hydrogen atom without neighbors\n",
      "[13:57:10] WARNING: not removing hydrogen atom without neighbors\n",
      "[13:57:10] WARNING: not removing hydrogen atom without neighbors\n",
      "[13:57:10] WARNING: not removing hydrogen atom without neighbors\n",
      "[13:57:10] WARNING: not removing hydrogen atom without neighbors\n",
      "[13:57:10] WARNING: not removing hydrogen atom without neighbors\n",
      "[13:57:10] Explicit valence for atom # 3 Si, 8, is greater than permitted\n"
     ]
    }
   ],
   "source": [
    "echa_dict = mk_fp(df)"
   ]
  },
  {
   "cell_type": "code",
   "execution_count": 13,
   "id": "12d7fb1b-c273-40be-a1c2-1e944a0bd0ac",
   "metadata": {},
   "outputs": [],
   "source": [
    "echa_rg = {k: rdReducedGraphs.GenerateMolExtendedReducedGraph( v ) for k,v in echa_dict.items()}"
   ]
  },
  {
   "cell_type": "code",
   "execution_count": 14,
   "id": "f4c5cbfb-a478-433e-bb93-083c4c6cbf27",
   "metadata": {},
   "outputs": [],
   "source": [
    "echa_bm = {k: MurckoScaffold.GetScaffoldForMol(v) for k,v in echa_dict.items()}"
   ]
  },
  {
   "cell_type": "code",
   "execution_count": 15,
   "id": "24218c1f-97ce-4b4d-8d5e-62c72f74c8b3",
   "metadata": {},
   "outputs": [],
   "source": [
    "from rdkit.Chem import AllChem,Draw"
   ]
  },
  {
   "cell_type": "code",
   "execution_count": 16,
   "id": "646a0c68-66a9-43a3-94cd-33ed56585973",
   "metadata": {},
   "outputs": [],
   "source": [
    "PATT=Chem.MolFromSmarts(\"[$([D1]=[*])]\")\n",
    "REPL=Chem.MolFromSmarts(\"[*]\")\n",
    "def get_scaffold(mol,real_bm=True,use_csk=False,use_bajorath=False):\n",
    "    Chem.RemoveStereochemistry(mol) #important for canonization of CSK!\n",
    "    scaff=MurckoScaffold.GetScaffoldForMol(mol)\n",
    "    if use_bajorath:\n",
    "        scaff=AllChem.DeleteSubstructs(scaff, PATT)\n",
    "    if real_bm:\n",
    "        scaff=AllChem.ReplaceSubstructs(scaff,PATT,REPL,replaceAll=True)[0]                                          \n",
    "    if use_csk:\n",
    "        scaff=MurckoScaffold.MakeScaffoldGeneric(scaff)\n",
    "        if real_bm:\n",
    "            scaff=MurckoScaffold.GetScaffoldForMol(scaff)\n",
    "    return scaff"
   ]
  },
  {
   "cell_type": "code",
   "execution_count": 17,
   "id": "f6927921-4966-4bf5-badf-e44747977482",
   "metadata": {},
   "outputs": [],
   "source": [
    "echa_BM = {k: get_scaffold(v, use_bajorath=True) for k,v in echa_dict.items()}"
   ]
  },
  {
   "cell_type": "code",
   "execution_count": 18,
   "id": "78e9b75d-535a-4b1d-865b-90ccd442e774",
   "metadata": {},
   "outputs": [],
   "source": [
    "m = echa_dict['DTXSID5024976']"
   ]
  },
  {
   "cell_type": "code",
   "execution_count": 19,
   "id": "0ebf42dd-6f8d-4fed-bbc1-503d2e6c1a4f",
   "metadata": {},
   "outputs": [],
   "source": [
    "m1 = echa_dict['DTXSID7022594']"
   ]
  },
  {
   "cell_type": "code",
   "execution_count": 20,
   "id": "79f18964-9bf5-4e74-b4c3-78fc3afc9af5",
   "metadata": {},
   "outputs": [
    {
     "data": {
      "image/png": "[encoded data removed]",
      "text/plain": [
       "<IPython.core.display.Image object>"
      ]
     },
     "metadata": {},
     "output_type": "display_data"
    }
   ],
   "source": [
    "scaff_legends=[\"parent molecule\",\"RDKit BM\",\"True BM\",\"Bajorath BM\",\"RDKit generic\",\"True CSK\"]\n",
    "rdkit_bm=get_scaffold(m1,real_bm=False)\n",
    "true_bm=get_scaffold(m1,real_bm=True)\n",
    "bajorath_bm=get_scaffold(m1,use_bajorath=True)\n",
    "rdkit_csk=get_scaffold(m1,real_bm=False,use_csk=True)\n",
    "true_csk=get_scaffold(m1,real_bm=True,use_csk=True)\n",
    "\n",
    "d = Draw.MolsToGridImage([m1,rdkit_bm,true_bm,bajorath_bm,rdkit_csk,true_csk],legends=scaff_legends,molsPerRow=6)\n",
    "display(d)"
   ]
  },
  {
   "cell_type": "code",
   "execution_count": 21,
   "id": "5e366282-6681-4ad2-b22c-e849dc63acad",
   "metadata": {},
   "outputs": [
    {
     "data": {
      "text/plain": [
       "8432"
      ]
     },
     "execution_count": 21,
     "metadata": {},
     "output_type": "execute_result"
    }
   ],
   "source": [
    "len(set(list(echa_BM.values())))"
   ]
  },
  {
   "cell_type": "code",
   "execution_count": 22,
   "id": "44738993-897c-4589-957f-5fceeb30e6b3",
   "metadata": {},
   "outputs": [
    {
     "data": {
      "text/plain": [
       "8432"
      ]
     },
     "execution_count": 22,
     "metadata": {},
     "output_type": "execute_result"
    }
   ],
   "source": [
    "len(set(list(echa_bm.values())))"
   ]
  },
  {
   "cell_type": "code",
   "execution_count": 23,
   "id": "977373f4-1721-4301-bf42-5fd1988128c3",
   "metadata": {},
   "outputs": [],
   "source": [
    "from rdkit.Chem.Scaffolds.MurckoScaffold import MurckoScaffoldSmiles, GetScaffoldForMol"
   ]
  },
  {
   "cell_type": "code",
   "execution_count": 24,
   "id": "8afbb0aa-1002-4545-8f24-116e686484f2",
   "metadata": {},
   "outputs": [],
   "source": [
    "echa_bm_smi = {}\n",
    "errors = []\n",
    "for k,v in echa_BM.items():\n",
    "    try:\n",
    "        v = Chem.MolToSmiles(v)\n",
    "    except Exception as error:\n",
    "        errors.append(k)\n",
    "    finally:\n",
    "        echa_bm_smi[k] = v"
   ]
  },
  {
   "cell_type": "code",
   "execution_count": 25,
   "id": "3c8c0ca1-9786-4d67-8fc3-e5d5d380d8de",
   "metadata": {},
   "outputs": [
    {
     "data": {
      "text/plain": [
       "'c1ccccc1'"
      ]
     },
     "execution_count": 25,
     "metadata": {},
     "output_type": "execute_result"
    }
   ],
   "source": [
    "echa_bm_smi['DTXSID5024976']"
   ]
  },
  {
   "cell_type": "code",
   "execution_count": 26,
   "id": "97502f3a-5ffb-4c92-9479-d4a1b57fd630",
   "metadata": {},
   "outputs": [],
   "source": [
    "echa_bm_smi = {k: v for k,v in echa_bm_smi.items() if v != ''}"
   ]
  },
  {
   "cell_type": "code",
   "execution_count": 27,
   "id": "ec2f40c1-8ebb-4630-977d-de84f2a3b039",
   "metadata": {},
   "outputs": [],
   "source": [
    "scaffolds_df = pd.DataFrame(list(echa_bm_smi.items()), columns = ['dtxsid', 'BM_scaffold'])"
   ]
  },
  {
   "cell_type": "code",
   "execution_count": 28,
   "id": "22eddcff-3121-41e4-9d88-610a8b0da566",
   "metadata": {},
   "outputs": [],
   "source": [
    "scaffolds_df1 = scaffolds_df.value_counts('BM_scaffold').reset_index().copy()"
   ]
  },
  {
   "cell_type": "code",
   "execution_count": 29,
   "id": "37f0867c-a2f3-428e-846f-28c99a705ff2",
   "metadata": {},
   "outputs": [],
   "source": [
    "bm_scaff = scaffolds_df1[scaffolds_df1['count'] >4]['BM_scaffold'].tolist()"
   ]
  },
  {
   "cell_type": "code",
   "execution_count": 30,
   "id": "75f78702-b476-40a7-8193-0cb9433b6b81",
   "metadata": {},
   "outputs": [],
   "source": [
    "scaff = {}\n",
    "for i, group in scaffolds_df.groupby('BM_scaffold'):\n",
    "    scaff[i] = list(group['dtxsid'])\n",
    "    "
   ]
  },
  {
   "cell_type": "code",
   "execution_count": 31,
   "id": "8f7c0e74-4aba-40a0-9bd9-3c817759d3ac",
   "metadata": {},
   "outputs": [],
   "source": [
    "scaff = {k: v for k,v in scaff.items() if len(v) >= 5}"
   ]
  },
  {
   "cell_type": "code",
   "execution_count": 32,
   "id": "13d7a163-65f5-4eb0-af8f-ee9472edc7d4",
   "metadata": {},
   "outputs": [
    {
     "data": {
      "text/plain": [
       "161"
      ]
     },
     "execution_count": 32,
     "metadata": {},
     "output_type": "execute_result"
    }
   ],
   "source": [
    "len(scaff)"
   ]
  },
  {
   "cell_type": "code",
   "execution_count": 33,
   "id": "1cb25c8a-aea9-4cd5-975c-d0241a57fea4",
   "metadata": {},
   "outputs": [],
   "source": [
    "#scaff"
   ]
  },
  {
   "cell_type": "code",
   "execution_count": 34,
   "id": "6c59fcf0-4436-4510-a00f-f2d85059ea4b",
   "metadata": {},
   "outputs": [],
   "source": [
    "import numpy as np"
   ]
  },
  {
   "cell_type": "code",
   "execution_count": 35,
   "id": "8caf499d-3803-4000-947d-94b7cd266b30",
   "metadata": {},
   "outputs": [],
   "source": [
    "def mkfp(df, name, smi):\n",
    "    MOLS = dict(zip(df[name], df[smi]))\n",
    "    MOLS = {k:Chem.MolFromSmiles(v) for k,v in MOLS.items()}\n",
    "    MOLS = {i:j for i,j in MOLS.items() if j}\n",
    "    FP = pd.DataFrame([np.array(AllChem.GetMorganFingerprintAsBitVect(i,3,1024)) for i in MOLS.values()])\n",
    "    FP.index=MOLS.keys()\n",
    "    FP.columns = ['mrgn_%d'%i for i in FP.columns]\n",
    "    return FP"
   ]
  },
  {
   "cell_type": "code",
   "execution_count": 36,
   "id": "d1b7c3f9-65d7-4742-985b-baaa6ad501b1",
   "metadata": {},
   "outputs": [
    {
     "name": "stderr",
     "output_type": "stream",
     "text": [
      "[13:57:29] Can't kekulize mol.  Unkekulized atoms: 1 2 3 4 5\n",
      "[13:57:29] Explicit valence for atom # 3 Si, 8, is greater than permitted\n",
      "[13:57:29] WARNING: not removing hydrogen atom without neighbors\n",
      "[13:57:29] Explicit valence for atom # 31 N, 4, is greater than permitted\n",
      "[13:57:29] Can't kekulize mol.  Unkekulized atoms: 1 2 3 4 5\n",
      "[13:57:29] WARNING: not removing hydrogen atom without neighbors\n",
      "[13:57:29] Explicit valence for atom # 9 Al, 8, is greater than permitted\n",
      "[13:57:29] WARNING: not removing hydrogen atom without neighbors\n",
      "[13:57:29] WARNING: not removing hydrogen atom without neighbors\n",
      "[13:57:29] Can't kekulize mol.  Unkekulized atoms: 1 2 3 4 5\n",
      "[13:57:29] Can't kekulize mol.  Unkekulized atoms: 7 8 10 12 13\n",
      "[13:57:29] Can't kekulize mol.  Unkekulized atoms: 7 8 9 10 12\n",
      "[13:57:29] Explicit valence for atom # 3 O, 3, is greater than permitted\n",
      "[13:57:29] Can't kekulize mol.  Unkekulized atoms: 7 8 9 10 11\n",
      "[13:57:29] Can't kekulize mol.  Unkekulized atoms: 0 1 2 3 4\n",
      "[13:57:29] WARNING: not removing hydrogen atom without neighbors\n",
      "[13:57:29] WARNING: not removing hydrogen atom without neighbors\n",
      "[13:57:29] WARNING: not removing hydrogen atom without neighbors\n",
      "[13:57:29] WARNING: not removing hydrogen atom without neighbors\n",
      "[13:57:29] WARNING: not removing hydrogen atom without neighbors\n",
      "[13:57:29] Explicit valence for atom # 2 Cl, 2, is greater than permitted\n",
      "[13:57:29] Explicit valence for atom # 4 N, 5, is greater than permitted\n",
      "[13:57:29] Explicit valence for atom # 2 Cl, 2, is greater than permitted\n",
      "[13:57:29] Explicit valence for atom # 5 N, 5, is greater than permitted\n",
      "[13:57:29] Explicit valence for atom # 4 Sn, 6, is greater than permitted\n",
      "[13:57:29] Explicit valence for atom # 0 Cl, 2, is greater than permitted\n",
      "[13:57:29] Can't kekulize mol.  Unkekulized atoms: 3 4 5 6 7\n",
      "[13:57:29] Explicit valence for atom # 2 O, 3, is greater than permitted\n",
      "[13:57:29] Explicit valence for atom # 1 C, 5, is greater than permitted\n",
      "[13:57:29] WARNING: not removing hydrogen atom without neighbors\n",
      "[13:57:29] WARNING: not removing hydrogen atom without neighbors\n",
      "[13:57:29] WARNING: not removing hydrogen atom without neighbors\n",
      "[13:57:29] WARNING: not removing hydrogen atom without neighbors\n",
      "[13:57:29] WARNING: not removing hydrogen atom without neighbors\n",
      "[13:57:29] WARNING: not removing hydrogen atom without neighbors\n",
      "[13:57:29] WARNING: not removing hydrogen atom without neighbors\n",
      "[13:57:29] WARNING: not removing hydrogen atom without neighbors\n",
      "[13:57:29] WARNING: not removing hydrogen atom without neighbors\n",
      "[13:57:29] WARNING: not removing hydrogen atom without neighbors\n",
      "[13:57:29] WARNING: not removing hydrogen atom without neighbors\n",
      "[13:57:29] WARNING: not removing hydrogen atom without neighbors\n",
      "[13:57:29] WARNING: not removing hydrogen atom without neighbors\n",
      "[13:57:29] WARNING: not removing hydrogen atom without neighbors\n",
      "[13:57:29] WARNING: not removing hydrogen atom without neighbors\n",
      "[13:57:29] WARNING: not removing hydrogen atom without neighbors\n",
      "[13:57:29] Explicit valence for atom # 3 Si, 8, is greater than permitted\n"
     ]
    }
   ],
   "source": [
    "echa = mkfp(df[df['smiles'].notnull()], 'dtxsid', 'smiles')"
   ]
  },
  {
   "cell_type": "code",
   "execution_count": 37,
   "id": "fe0c15cc-99d1-40f9-a92f-d4da67ff2926",
   "metadata": {},
   "outputs": [],
   "source": [
    "smi_dict = {k:v for k,v in zip(df['dtxsid'], df['smiles'])}"
   ]
  },
  {
   "cell_type": "code",
   "execution_count": 38,
   "id": "4c54cc54-4ae2-4367-a2ab-df539c4ab457",
   "metadata": {},
   "outputs": [
    {
     "data": {
      "text/html": [
       "<div>\n",
       "<style scoped>\n",
       "    .dataframe tbody tr th:only-of-type {\n",
       "        vertical-align: middle;\n",
       "    }\n",
       "\n",
       "    .dataframe tbody tr th {\n",
       "        vertical-align: top;\n",
       "    }\n",
       "\n",
       "    .dataframe thead th {\n",
       "        text-align: right;\n",
       "    }\n",
       "</style>\n",
       "<table border=\"1\" class=\"dataframe\">\n",
       "  <thead>\n",
       "    <tr style=\"text-align: right;\">\n",
       "      <th></th>\n",
       "      <th>DTXSID5024976</th>\n",
       "      <th>DTXSID7022594</th>\n",
       "      <th>DTXSID30198166</th>\n",
       "      <th>DTXSID1021166</th>\n",
       "      <th>DTXSID8024573</th>\n",
       "      <th>DTXSID0020523</th>\n",
       "      <th>DTXSID4024981</th>\n",
       "      <th>DTXSID2043874</th>\n",
       "      <th>DTXSID4049038</th>\n",
       "      <th>DTXSID6035106</th>\n",
       "      <th>...</th>\n",
       "      <th>DTXSID601350426</th>\n",
       "      <th>DTXSID20889359</th>\n",
       "      <th>DTXSID901023874</th>\n",
       "      <th>DTXSID1064952</th>\n",
       "      <th>DTXSID00889559</th>\n",
       "      <th>DTXSID50991338</th>\n",
       "      <th>DTXSID00889695</th>\n",
       "      <th>DTXSID2021234</th>\n",
       "      <th>DTXSID3070759</th>\n",
       "      <th>DTXSID80889431</th>\n",
       "    </tr>\n",
       "  </thead>\n",
       "  <tbody>\n",
       "    <tr>\n",
       "      <th>DTXSID5024976</th>\n",
       "      <td>1.000000</td>\n",
       "      <td>0.065574</td>\n",
       "      <td>0.232558</td>\n",
       "      <td>0.042254</td>\n",
       "      <td>0.081633</td>\n",
       "      <td>0.100000</td>\n",
       "      <td>0.236842</td>\n",
       "      <td>0.088889</td>\n",
       "      <td>0.063830</td>\n",
       "      <td>0.105263</td>\n",
       "      <td>...</td>\n",
       "      <td>0.073171</td>\n",
       "      <td>0.101266</td>\n",
       "      <td>0.075269</td>\n",
       "      <td>0.108108</td>\n",
       "      <td>0.077778</td>\n",
       "      <td>0.082353</td>\n",
       "      <td>0.021277</td>\n",
       "      <td>0.081081</td>\n",
       "      <td>0.083333</td>\n",
       "      <td>0.089286</td>\n",
       "    </tr>\n",
       "    <tr>\n",
       "      <th>DTXSID7022594</th>\n",
       "      <td>0.065574</td>\n",
       "      <td>1.000000</td>\n",
       "      <td>0.064516</td>\n",
       "      <td>0.074074</td>\n",
       "      <td>0.100000</td>\n",
       "      <td>0.062500</td>\n",
       "      <td>0.034483</td>\n",
       "      <td>0.087719</td>\n",
       "      <td>0.032787</td>\n",
       "      <td>0.018519</td>\n",
       "      <td>...</td>\n",
       "      <td>0.017857</td>\n",
       "      <td>0.063830</td>\n",
       "      <td>0.086538</td>\n",
       "      <td>0.079545</td>\n",
       "      <td>0.078431</td>\n",
       "      <td>0.082474</td>\n",
       "      <td>0.016667</td>\n",
       "      <td>0.094118</td>\n",
       "      <td>0.061224</td>\n",
       "      <td>0.062992</td>\n",
       "    </tr>\n",
       "    <tr>\n",
       "      <th>DTXSID30198166</th>\n",
       "      <td>0.232558</td>\n",
       "      <td>0.064516</td>\n",
       "      <td>1.000000</td>\n",
       "      <td>0.056338</td>\n",
       "      <td>0.058824</td>\n",
       "      <td>0.191489</td>\n",
       "      <td>0.200000</td>\n",
       "      <td>0.111111</td>\n",
       "      <td>0.085106</td>\n",
       "      <td>0.102564</td>\n",
       "      <td>...</td>\n",
       "      <td>0.071429</td>\n",
       "      <td>0.128205</td>\n",
       "      <td>0.074468</td>\n",
       "      <td>0.106667</td>\n",
       "      <td>0.126437</td>\n",
       "      <td>0.081395</td>\n",
       "      <td>0.042553</td>\n",
       "      <td>0.125000</td>\n",
       "      <td>0.095238</td>\n",
       "      <td>0.128440</td>\n",
       "    </tr>\n",
       "    <tr>\n",
       "      <th>DTXSID1021166</th>\n",
       "      <td>0.042254</td>\n",
       "      <td>0.074074</td>\n",
       "      <td>0.056338</td>\n",
       "      <td>1.000000</td>\n",
       "      <td>0.056338</td>\n",
       "      <td>0.054795</td>\n",
       "      <td>0.045455</td>\n",
       "      <td>0.075758</td>\n",
       "      <td>0.043478</td>\n",
       "      <td>0.049180</td>\n",
       "      <td>...</td>\n",
       "      <td>0.015385</td>\n",
       "      <td>0.048077</td>\n",
       "      <td>0.070175</td>\n",
       "      <td>0.061224</td>\n",
       "      <td>0.053097</td>\n",
       "      <td>0.065421</td>\n",
       "      <td>0.029412</td>\n",
       "      <td>0.062500</td>\n",
       "      <td>0.056075</td>\n",
       "      <td>0.058824</td>\n",
       "    </tr>\n",
       "    <tr>\n",
       "      <th>DTXSID8024573</th>\n",
       "      <td>0.081633</td>\n",
       "      <td>0.100000</td>\n",
       "      <td>0.058824</td>\n",
       "      <td>0.056338</td>\n",
       "      <td>1.000000</td>\n",
       "      <td>0.076923</td>\n",
       "      <td>0.066667</td>\n",
       "      <td>0.086957</td>\n",
       "      <td>0.085106</td>\n",
       "      <td>0.023810</td>\n",
       "      <td>...</td>\n",
       "      <td>0.022727</td>\n",
       "      <td>0.047619</td>\n",
       "      <td>0.086022</td>\n",
       "      <td>0.077922</td>\n",
       "      <td>0.053763</td>\n",
       "      <td>0.107143</td>\n",
       "      <td>0.020833</td>\n",
       "      <td>0.094595</td>\n",
       "      <td>0.057471</td>\n",
       "      <td>0.051282</td>\n",
       "    </tr>\n",
       "  </tbody>\n",
       "</table>\n",
       "<p>5 rows × 8432 columns</p>\n",
       "</div>"
      ],
      "text/plain": [
       "                DTXSID5024976  DTXSID7022594  DTXSID30198166  DTXSID1021166  \\\n",
       "DTXSID5024976        1.000000       0.065574        0.232558       0.042254   \n",
       "DTXSID7022594        0.065574       1.000000        0.064516       0.074074   \n",
       "DTXSID30198166       0.232558       0.064516        1.000000       0.056338   \n",
       "DTXSID1021166        0.042254       0.074074        0.056338       1.000000   \n",
       "DTXSID8024573        0.081633       0.100000        0.058824       0.056338   \n",
       "\n",
       "                DTXSID8024573  DTXSID0020523  DTXSID4024981  DTXSID2043874  \\\n",
       "DTXSID5024976        0.081633       0.100000       0.236842       0.088889   \n",
       "DTXSID7022594        0.100000       0.062500       0.034483       0.087719   \n",
       "DTXSID30198166       0.058824       0.191489       0.200000       0.111111   \n",
       "DTXSID1021166        0.056338       0.054795       0.045455       0.075758   \n",
       "DTXSID8024573        1.000000       0.076923       0.066667       0.086957   \n",
       "\n",
       "                DTXSID4049038  DTXSID6035106  ...  DTXSID601350426  \\\n",
       "DTXSID5024976        0.063830       0.105263  ...         0.073171   \n",
       "DTXSID7022594        0.032787       0.018519  ...         0.017857   \n",
       "DTXSID30198166       0.085106       0.102564  ...         0.071429   \n",
       "DTXSID1021166        0.043478       0.049180  ...         0.015385   \n",
       "DTXSID8024573        0.085106       0.023810  ...         0.022727   \n",
       "\n",
       "                DTXSID20889359  DTXSID901023874  DTXSID1064952  \\\n",
       "DTXSID5024976         0.101266         0.075269       0.108108   \n",
       "DTXSID7022594         0.063830         0.086538       0.079545   \n",
       "DTXSID30198166        0.128205         0.074468       0.106667   \n",
       "DTXSID1021166         0.048077         0.070175       0.061224   \n",
       "DTXSID8024573         0.047619         0.086022       0.077922   \n",
       "\n",
       "                DTXSID00889559  DTXSID50991338  DTXSID00889695  DTXSID2021234  \\\n",
       "DTXSID5024976         0.077778        0.082353        0.021277       0.081081   \n",
       "DTXSID7022594         0.078431        0.082474        0.016667       0.094118   \n",
       "DTXSID30198166        0.126437        0.081395        0.042553       0.125000   \n",
       "DTXSID1021166         0.053097        0.065421        0.029412       0.062500   \n",
       "DTXSID8024573         0.053763        0.107143        0.020833       0.094595   \n",
       "\n",
       "                DTXSID3070759  DTXSID80889431  \n",
       "DTXSID5024976        0.083333        0.089286  \n",
       "DTXSID7022594        0.061224        0.062992  \n",
       "DTXSID30198166       0.095238        0.128440  \n",
       "DTXSID1021166        0.056075        0.058824  \n",
       "DTXSID8024573        0.057471        0.051282  \n",
       "\n",
       "[5 rows x 8432 columns]"
      ]
     },
     "execution_count": 38,
     "metadata": {},
     "output_type": "execute_result"
    }
   ],
   "source": [
    "from scipy.spatial.distance import pdist, squareform\n",
    "\n",
    "D_mgrn = pd.DataFrame(squareform(pdist(echa, 'jaccard')), columns = echa.index, index = echa.index)\n",
    "S_mgrn = 1-D_mgrn\n",
    "S_mgrn.head()"
   ]
  },
  {
   "cell_type": "code",
   "execution_count": 39,
   "id": "0b873d8f-70f8-4d9d-8f30-c2b6f5df415c",
   "metadata": {},
   "outputs": [],
   "source": [
    "from scipy.cluster.hierarchy import dendrogram, linkage\n",
    "from scipy.spatial.distance import pdist, squareform\n",
    "from scipy.cluster.hierarchy import fcluster\n",
    "from scipy.cluster.hierarchy import cophenet\n",
    "from scipy.cluster.hierarchy import inconsistent"
   ]
  },
  {
   "cell_type": "code",
   "execution_count": 40,
   "id": "b06e40af-fdc3-4836-980b-7b9367f01afe",
   "metadata": {},
   "outputs": [],
   "source": [
    "Zm = linkage(squareform(D_mgrn), 'ward')"
   ]
  },
  {
   "cell_type": "code",
   "execution_count": 41,
   "id": "b641601a-b81b-42d9-bbd8-dd8c0e86632e",
   "metadata": {},
   "outputs": [
    {
     "data": {
      "image/png": "[encoded data removed]",
      "text/plain": [
       "<Figure size 2500x1000 with 1 Axes>"
      ]
     },
     "metadata": {},
     "output_type": "display_data"
    }
   ],
   "source": [
    "plt.figure(figsize=(25, 10))\n",
    "dendrogram(\n",
    "    Zm,\n",
    "    leaf_rotation=90.,  # rotates the x axis labels\n",
    "    leaf_font_size=8., \n",
    "    labels = D_mgrn.index# font size for the x axis labels\n",
    ")\n",
    "plt.show()"
   ]
  },
  {
   "cell_type": "code",
   "execution_count": 42,
   "id": "6495d4aa-27c3-4318-b210-d83dc2b0f0ce",
   "metadata": {},
   "outputs": [],
   "source": [
    "max_d = 9\n",
    "clust = fcluster(Zm, max_d, criterion='maxclust')\n",
    "clust = pd.DataFrame(list(zip(D_mgrn.index, clust)), columns = ['dtxsid', 'cluster'])"
   ]
  },
  {
   "cell_type": "code",
   "execution_count": 43,
   "id": "5248c951-dd15-402c-bdfc-32e4d106e118",
   "metadata": {},
   "outputs": [
    {
     "data": {
      "text/plain": [
       "cluster\n",
       "4    2073\n",
       "3    1426\n",
       "5    1376\n",
       "7    1363\n",
       "1     789\n",
       "6     503\n",
       "8     371\n",
       "9     327\n",
       "2     204\n",
       "Name: count, dtype: int64"
      ]
     },
     "execution_count": 43,
     "metadata": {},
     "output_type": "execute_result"
    }
   ],
   "source": [
    "clust['cluster'].value_counts()"
   ]
  },
  {
   "cell_type": "code",
   "execution_count": 44,
   "id": "34359839-53cb-4304-9116-76131662f420",
   "metadata": {},
   "outputs": [],
   "source": [
    "cluster_dict = {k:list(v['dtxsid']) for k,v in clust.groupby('cluster')}"
   ]
  },
  {
   "cell_type": "code",
   "execution_count": 45,
   "id": "c4d5061e-f65c-4c08-a47f-83b5f742dec9",
   "metadata": {},
   "outputs": [],
   "source": [
    "#cluster_dict"
   ]
  },
  {
   "cell_type": "code",
   "execution_count": 46,
   "id": "2077ed42-e318-4786-b779-fb98292964bc",
   "metadata": {},
   "outputs": [],
   "source": [
    "def isSymmetric(mat, N):\n",
    "    transmat = np.array(mat).transpose()\n",
    "    if np.array_equal(mat, transmat):\n",
    "        return True\n",
    "    return False"
   ]
  },
  {
   "cell_type": "code",
   "execution_count": 47,
   "id": "74c078be-7e28-4e4b-96b7-66fd14877419",
   "metadata": {},
   "outputs": [
    {
     "data": {
      "text/plain": [
       "True"
      ]
     },
     "execution_count": 47,
     "metadata": {},
     "output_type": "execute_result"
    }
   ],
   "source": [
    "isSymmetric(D_mgrn.values, D_mgrn.shape[0])"
   ]
  },
  {
   "cell_type": "code",
   "execution_count": 48,
   "id": "b9e21a1c-ed46-411d-bf36-ac09173275d2",
   "metadata": {},
   "outputs": [],
   "source": [
    "def remove_upper_triangle(df):\n",
    "    # Get the upper triangle mask\n",
    "    mask = pd.DataFrame(np.triu(np.ones(df.shape), k=0), columns=df.columns, index=df.index)\n",
    "\n",
    "    # Set upper triangle values to NaN\n",
    "    df = df.where(mask == 0)\n",
    "\n",
    "    return df"
   ]
  },
  {
   "cell_type": "code",
   "execution_count": 49,
   "id": "cde2fea0-34af-4a90-ba91-5c575da1bd6a",
   "metadata": {},
   "outputs": [],
   "source": [
    "new_df3 = remove_upper_triangle(D_mgrn)"
   ]
  },
  {
   "cell_type": "code",
   "execution_count": 50,
   "id": "e70b1325-6086-4246-acce-03e7cb263149",
   "metadata": {},
   "outputs": [],
   "source": [
    "new_df3 =new_df3.unstack().reset_index().dropna()"
   ]
  },
  {
   "cell_type": "code",
   "execution_count": 51,
   "id": "56774cac-9926-4687-a797-84f3e03f581a",
   "metadata": {},
   "outputs": [
    {
     "data": {
      "text/html": [
       "<div>\n",
       "<style scoped>\n",
       "    .dataframe tbody tr th:only-of-type {\n",
       "        vertical-align: middle;\n",
       "    }\n",
       "\n",
       "    .dataframe tbody tr th {\n",
       "        vertical-align: top;\n",
       "    }\n",
       "\n",
       "    .dataframe thead th {\n",
       "        text-align: right;\n",
       "    }\n",
       "</style>\n",
       "<table border=\"1\" class=\"dataframe\">\n",
       "  <thead>\n",
       "    <tr style=\"text-align: right;\">\n",
       "      <th></th>\n",
       "      <th>level_0</th>\n",
       "      <th>level_1</th>\n",
       "      <th>0</th>\n",
       "    </tr>\n",
       "  </thead>\n",
       "  <tbody>\n",
       "    <tr>\n",
       "      <th>1</th>\n",
       "      <td>DTXSID5024976</td>\n",
       "      <td>DTXSID7022594</td>\n",
       "      <td>0.934426</td>\n",
       "    </tr>\n",
       "    <tr>\n",
       "      <th>2</th>\n",
       "      <td>DTXSID5024976</td>\n",
       "      <td>DTXSID30198166</td>\n",
       "      <td>0.767442</td>\n",
       "    </tr>\n",
       "    <tr>\n",
       "      <th>3</th>\n",
       "      <td>DTXSID5024976</td>\n",
       "      <td>DTXSID1021166</td>\n",
       "      <td>0.957746</td>\n",
       "    </tr>\n",
       "    <tr>\n",
       "      <th>4</th>\n",
       "      <td>DTXSID5024976</td>\n",
       "      <td>DTXSID8024573</td>\n",
       "      <td>0.918367</td>\n",
       "    </tr>\n",
       "    <tr>\n",
       "      <th>5</th>\n",
       "      <td>DTXSID5024976</td>\n",
       "      <td>DTXSID0020523</td>\n",
       "      <td>0.900000</td>\n",
       "    </tr>\n",
       "    <tr>\n",
       "      <th>...</th>\n",
       "      <td>...</td>\n",
       "      <td>...</td>\n",
       "      <td>...</td>\n",
       "    </tr>\n",
       "    <tr>\n",
       "      <th>71073326</th>\n",
       "      <td>DTXSID00889695</td>\n",
       "      <td>DTXSID3070759</td>\n",
       "      <td>0.898734</td>\n",
       "    </tr>\n",
       "    <tr>\n",
       "      <th>71073327</th>\n",
       "      <td>DTXSID00889695</td>\n",
       "      <td>DTXSID80889431</td>\n",
       "      <td>0.936937</td>\n",
       "    </tr>\n",
       "    <tr>\n",
       "      <th>71081758</th>\n",
       "      <td>DTXSID2021234</td>\n",
       "      <td>DTXSID3070759</td>\n",
       "      <td>0.677778</td>\n",
       "    </tr>\n",
       "    <tr>\n",
       "      <th>71081759</th>\n",
       "      <td>DTXSID2021234</td>\n",
       "      <td>DTXSID80889431</td>\n",
       "      <td>0.800000</td>\n",
       "    </tr>\n",
       "    <tr>\n",
       "      <th>71090191</th>\n",
       "      <td>DTXSID3070759</td>\n",
       "      <td>DTXSID80889431</td>\n",
       "      <td>0.841727</td>\n",
       "    </tr>\n",
       "  </tbody>\n",
       "</table>\n",
       "<p>35545096 rows × 3 columns</p>\n",
       "</div>"
      ],
      "text/plain": [
       "                 level_0         level_1         0\n",
       "1          DTXSID5024976   DTXSID7022594  0.934426\n",
       "2          DTXSID5024976  DTXSID30198166  0.767442\n",
       "3          DTXSID5024976   DTXSID1021166  0.957746\n",
       "4          DTXSID5024976   DTXSID8024573  0.918367\n",
       "5          DTXSID5024976   DTXSID0020523  0.900000\n",
       "...                  ...             ...       ...\n",
       "71073326  DTXSID00889695   DTXSID3070759  0.898734\n",
       "71073327  DTXSID00889695  DTXSID80889431  0.936937\n",
       "71081758   DTXSID2021234   DTXSID3070759  0.677778\n",
       "71081759   DTXSID2021234  DTXSID80889431  0.800000\n",
       "71090191   DTXSID3070759  DTXSID80889431  0.841727\n",
       "\n",
       "[35545096 rows x 3 columns]"
      ]
     },
     "execution_count": 51,
     "metadata": {},
     "output_type": "execute_result"
    }
   ],
   "source": [
    "new_df3"
   ]
  },
  {
   "cell_type": "code",
   "execution_count": 52,
   "id": "a2f96b65-4e33-490a-acc1-46935161aa95",
   "metadata": {},
   "outputs": [],
   "source": [
    "new_df3.columns = ['Target', 'Analogue', 'Jaccard']"
   ]
  },
  {
   "cell_type": "code",
   "execution_count": 53,
   "id": "ce6fd21f-fa07-4f68-b06a-4b94fd421544",
   "metadata": {},
   "outputs": [],
   "source": [
    "new_df3= new_df3[new_df3['Target'] != new_df3['Analogue']]"
   ]
  },
  {
   "cell_type": "code",
   "execution_count": 54,
   "id": "e98ef7a2-e93c-497f-9dc0-c354ae833963",
   "metadata": {},
   "outputs": [],
   "source": [
    "def in_same_cluster(target, analogue, cluster_dict):\n",
    "    for cluster, members in cluster_dict.items():\n",
    "        if target in members and analogue in members:\n",
    "            return True\n",
    "    return False\n"
   ]
  },
  {
   "cell_type": "code",
   "execution_count": 55,
   "id": "27ba3b7e-8028-4f11-ac74-ce0ba6e3b028",
   "metadata": {},
   "outputs": [],
   "source": [
    "members_to_cluster = {member: cluster for cluster, members in cluster_dict.items() for member in members}"
   ]
  },
  {
   "cell_type": "code",
   "execution_count": 56,
   "id": "327a06ef-9eab-4a68-8255-099d8e9a19bb",
   "metadata": {},
   "outputs": [],
   "source": [
    "# Create new columns for the cluster of \"target\" and \"analogue\"\n",
    "new_df3['target_cluster'] = new_df3['Target'].map(members_to_cluster)\n",
    "new_df3['analogue_cluster'] = new_df3['Analogue'].map(members_to_cluster)\n",
    "\n"
   ]
  },
  {
   "cell_type": "code",
   "execution_count": 57,
   "id": "6c1a4eef-1a60-4764-9630-ffa8fd67c661",
   "metadata": {},
   "outputs": [],
   "source": [
    "new_df3['cluster'] = new_df3['target_cluster'] == new_df3['analogue_cluster']"
   ]
  },
  {
   "cell_type": "code",
   "execution_count": 58,
   "id": "1472adf9-bf18-4925-8595-05ecd94cd90f",
   "metadata": {},
   "outputs": [],
   "source": [
    "members_to_scaff = {member: cluster for cluster, members in scaff.items() for member in members}"
   ]
  },
  {
   "cell_type": "code",
   "execution_count": 59,
   "id": "c262c6b6-0659-419a-9f4d-5439db448609",
   "metadata": {},
   "outputs": [],
   "source": [
    "#members_to_scaff"
   ]
  },
  {
   "cell_type": "code",
   "execution_count": 60,
   "id": "c1777197-2c74-43db-baf1-9092c75f8fc5",
   "metadata": {},
   "outputs": [],
   "source": [
    "#new_df3['same_cluster'] = new_df3.apply(lambda row: in_same_cluster(row['Target'], row['Analogue'], cluster_dict), axis=1)"
   ]
  },
  {
   "cell_type": "code",
   "execution_count": 61,
   "id": "d19f418c-b0ae-45fd-aa5a-ef1c00a4549c",
   "metadata": {},
   "outputs": [],
   "source": [
    "# Create new columns for the cluster of \"target\" and \"analogue\"\n",
    "new_df3['target_scaff'] = new_df3['Target'].map(members_to_scaff)\n",
    "new_df3['analogue_scaff'] = new_df3['Analogue'].map(members_to_scaff)\n",
    "\n",
    "# Create a new column indicating whether both target and analogue are in the same cluster\n",
    "new_df3['same_scaff'] = new_df3['target_cluster'] == new_df3['analogue_cluster']\n"
   ]
  },
  {
   "cell_type": "code",
   "execution_count": 62,
   "id": "229b4720-ddcb-4ddd-9f57-a7c30ef66e75",
   "metadata": {},
   "outputs": [
    {
     "data": {
      "text/html": [
       "<div>\n",
       "<style scoped>\n",
       "    .dataframe tbody tr th:only-of-type {\n",
       "        vertical-align: middle;\n",
       "    }\n",
       "\n",
       "    .dataframe tbody tr th {\n",
       "        vertical-align: top;\n",
       "    }\n",
       "\n",
       "    .dataframe thead th {\n",
       "        text-align: right;\n",
       "    }\n",
       "</style>\n",
       "<table border=\"1\" class=\"dataframe\">\n",
       "  <thead>\n",
       "    <tr style=\"text-align: right;\">\n",
       "      <th></th>\n",
       "      <th>Target</th>\n",
       "      <th>Analogue</th>\n",
       "      <th>Jaccard</th>\n",
       "      <th>target_cluster</th>\n",
       "      <th>analogue_cluster</th>\n",
       "      <th>cluster</th>\n",
       "      <th>target_scaff</th>\n",
       "      <th>analogue_scaff</th>\n",
       "      <th>same_scaff</th>\n",
       "    </tr>\n",
       "  </thead>\n",
       "  <tbody>\n",
       "    <tr>\n",
       "      <th>148</th>\n",
       "      <td>DTXSID5024976</td>\n",
       "      <td>DTXSID5024970</td>\n",
       "      <td>0.685714</td>\n",
       "      <td>3</td>\n",
       "      <td>3</td>\n",
       "      <td>True</td>\n",
       "      <td>c1ccccc1</td>\n",
       "      <td>c1ccccc1</td>\n",
       "      <td>True</td>\n",
       "    </tr>\n",
       "    <tr>\n",
       "      <th>185</th>\n",
       "      <td>DTXSID5024976</td>\n",
       "      <td>DTXSID8026193</td>\n",
       "      <td>0.586207</td>\n",
       "      <td>3</td>\n",
       "      <td>3</td>\n",
       "      <td>True</td>\n",
       "      <td>c1ccccc1</td>\n",
       "      <td>c1ccccc1</td>\n",
       "      <td>True</td>\n",
       "    </tr>\n",
       "    <tr>\n",
       "      <th>218</th>\n",
       "      <td>DTXSID5024976</td>\n",
       "      <td>DTXSID8044466</td>\n",
       "      <td>0.666667</td>\n",
       "      <td>3</td>\n",
       "      <td>3</td>\n",
       "      <td>True</td>\n",
       "      <td>c1ccccc1</td>\n",
       "      <td>c1ccccc1</td>\n",
       "      <td>True</td>\n",
       "    </tr>\n",
       "    <tr>\n",
       "      <th>751</th>\n",
       "      <td>DTXSID5024976</td>\n",
       "      <td>DTXSID4024771</td>\n",
       "      <td>0.500000</td>\n",
       "      <td>3</td>\n",
       "      <td>3</td>\n",
       "      <td>True</td>\n",
       "      <td>c1ccccc1</td>\n",
       "      <td>c1ccccc1</td>\n",
       "      <td>True</td>\n",
       "    </tr>\n",
       "    <tr>\n",
       "      <th>752</th>\n",
       "      <td>DTXSID5024976</td>\n",
       "      <td>DTXSID8020094</td>\n",
       "      <td>0.675676</td>\n",
       "      <td>3</td>\n",
       "      <td>3</td>\n",
       "      <td>True</td>\n",
       "      <td>c1ccccc1</td>\n",
       "      <td>c1ccccc1</td>\n",
       "      <td>True</td>\n",
       "    </tr>\n",
       "    <tr>\n",
       "      <th>...</th>\n",
       "      <td>...</td>\n",
       "      <td>...</td>\n",
       "      <td>...</td>\n",
       "      <td>...</td>\n",
       "      <td>...</td>\n",
       "      <td>...</td>\n",
       "      <td>...</td>\n",
       "      <td>...</td>\n",
       "      <td>...</td>\n",
       "    </tr>\n",
       "    <tr>\n",
       "      <th>70980562</th>\n",
       "      <td>DTXSID501335821</td>\n",
       "      <td>DTXSID20889455</td>\n",
       "      <td>0.634328</td>\n",
       "      <td>4</td>\n",
       "      <td>4</td>\n",
       "      <td>True</td>\n",
       "      <td>NaN</td>\n",
       "      <td>NaN</td>\n",
       "      <td>True</td>\n",
       "    </tr>\n",
       "    <tr>\n",
       "      <th>70997436</th>\n",
       "      <td>DTXSID30890456</td>\n",
       "      <td>DTXSID00889695</td>\n",
       "      <td>0.696970</td>\n",
       "      <td>9</td>\n",
       "      <td>9</td>\n",
       "      <td>True</td>\n",
       "      <td>NaN</td>\n",
       "      <td>NaN</td>\n",
       "      <td>True</td>\n",
       "    </tr>\n",
       "    <tr>\n",
       "      <th>71031167</th>\n",
       "      <td>DTXSID20889359</td>\n",
       "      <td>DTXSID80889431</td>\n",
       "      <td>0.585586</td>\n",
       "      <td>4</td>\n",
       "      <td>4</td>\n",
       "      <td>True</td>\n",
       "      <td>c1ccc(N=Nc2ccc3ccccc3c2)cc1</td>\n",
       "      <td>NaN</td>\n",
       "      <td>True</td>\n",
       "    </tr>\n",
       "    <tr>\n",
       "      <th>71039593</th>\n",
       "      <td>DTXSID901023874</td>\n",
       "      <td>DTXSID1064952</td>\n",
       "      <td>0.452381</td>\n",
       "      <td>4</td>\n",
       "      <td>4</td>\n",
       "      <td>True</td>\n",
       "      <td>NaN</td>\n",
       "      <td>NaN</td>\n",
       "      <td>True</td>\n",
       "    </tr>\n",
       "    <tr>\n",
       "      <th>71081758</th>\n",
       "      <td>DTXSID2021234</td>\n",
       "      <td>DTXSID3070759</td>\n",
       "      <td>0.677778</td>\n",
       "      <td>4</td>\n",
       "      <td>4</td>\n",
       "      <td>True</td>\n",
       "      <td>c1ccc(N=Nc2ccc3ccccc3c2)cc1</td>\n",
       "      <td>c1ccc(N=Nc2ccc3ccccc3c2)cc1</td>\n",
       "      <td>True</td>\n",
       "    </tr>\n",
       "  </tbody>\n",
       "</table>\n",
       "<p>53086 rows × 9 columns</p>\n",
       "</div>"
      ],
      "text/plain": [
       "                   Target        Analogue   Jaccard  target_cluster  \\\n",
       "148         DTXSID5024976   DTXSID5024970  0.685714               3   \n",
       "185         DTXSID5024976   DTXSID8026193  0.586207               3   \n",
       "218         DTXSID5024976   DTXSID8044466  0.666667               3   \n",
       "751         DTXSID5024976   DTXSID4024771  0.500000               3   \n",
       "752         DTXSID5024976   DTXSID8020094  0.675676               3   \n",
       "...                   ...             ...       ...             ...   \n",
       "70980562  DTXSID501335821  DTXSID20889455  0.634328               4   \n",
       "70997436   DTXSID30890456  DTXSID00889695  0.696970               9   \n",
       "71031167   DTXSID20889359  DTXSID80889431  0.585586               4   \n",
       "71039593  DTXSID901023874   DTXSID1064952  0.452381               4   \n",
       "71081758    DTXSID2021234   DTXSID3070759  0.677778               4   \n",
       "\n",
       "          analogue_cluster  cluster                 target_scaff  \\\n",
       "148                      3     True                     c1ccccc1   \n",
       "185                      3     True                     c1ccccc1   \n",
       "218                      3     True                     c1ccccc1   \n",
       "751                      3     True                     c1ccccc1   \n",
       "752                      3     True                     c1ccccc1   \n",
       "...                    ...      ...                          ...   \n",
       "70980562                 4     True                          NaN   \n",
       "70997436                 9     True                          NaN   \n",
       "71031167                 4     True  c1ccc(N=Nc2ccc3ccccc3c2)cc1   \n",
       "71039593                 4     True                          NaN   \n",
       "71081758                 4     True  c1ccc(N=Nc2ccc3ccccc3c2)cc1   \n",
       "\n",
       "                       analogue_scaff  same_scaff  \n",
       "148                          c1ccccc1        True  \n",
       "185                          c1ccccc1        True  \n",
       "218                          c1ccccc1        True  \n",
       "751                          c1ccccc1        True  \n",
       "752                          c1ccccc1        True  \n",
       "...                               ...         ...  \n",
       "70980562                          NaN        True  \n",
       "70997436                          NaN        True  \n",
       "71031167                          NaN        True  \n",
       "71039593                          NaN        True  \n",
       "71081758  c1ccc(N=Nc2ccc3ccccc3c2)cc1        True  \n",
       "\n",
       "[53086 rows x 9 columns]"
      ]
     },
     "execution_count": 62,
     "metadata": {},
     "output_type": "execute_result"
    }
   ],
   "source": [
    "new_df3[(new_df3['cluster'] ==1) & (new_df3['Jaccard'] <0.7)]"
   ]
  },
  {
   "cell_type": "code",
   "execution_count": 63,
   "id": "1d2dcaad-d91e-4d9f-8687-4ba15340b193",
   "metadata": {},
   "outputs": [
    {
     "data": {
      "text/plain": [
       "cluster\n",
       "False    0.841958\n",
       "True     0.158042\n",
       "Name: proportion, dtype: float64"
      ]
     },
     "execution_count": 63,
     "metadata": {},
     "output_type": "execute_result"
    }
   ],
   "source": [
    "new_df3['cluster'].value_counts(normalize = True)"
   ]
  },
  {
   "cell_type": "code",
   "execution_count": 64,
   "id": "a70b0f4d-9e0a-4469-a434-6c4930e0650c",
   "metadata": {},
   "outputs": [],
   "source": [
    "condition1 = (new_df3['cluster'] == 1) & (new_df3['Jaccard'] < 0.7)"
   ]
  },
  {
   "cell_type": "code",
   "execution_count": 65,
   "id": "b4a9c3c2-df14-4260-adf3-0017f95857f3",
   "metadata": {},
   "outputs": [],
   "source": [
    "#new_df3"
   ]
  },
  {
   "cell_type": "code",
   "execution_count": 66,
   "id": "60dbdb6d-d5cb-42bf-abfe-f1c5542642f9",
   "metadata": {},
   "outputs": [],
   "source": [
    "new_df3['Label'] = 1 # Set a default value"
   ]
  },
  {
   "cell_type": "code",
   "execution_count": 67,
   "id": "e7e54826-a7a1-4da5-bca5-39772cda57bf",
   "metadata": {},
   "outputs": [],
   "source": [
    "new_df3.loc[condition1, 'Label'] = 0"
   ]
  },
  {
   "cell_type": "code",
   "execution_count": 68,
   "id": "c4b862a9-006b-4a5f-9ef9-8e716b5d6bf2",
   "metadata": {},
   "outputs": [],
   "source": [
    "new_df3['label'] = new_df3['cluster'].apply(lambda x: 0 if x ==1 else 1)"
   ]
  },
  {
   "cell_type": "code",
   "execution_count": 127,
   "id": "92f232c2-b0af-42bd-b370-83a089bfea4c",
   "metadata": {},
   "outputs": [],
   "source": [
    "#new_df3['label'].value_counts()"
   ]
  },
  {
   "cell_type": "code",
   "execution_count": 69,
   "id": "e52e8bce-64a8-4f74-840b-61ade12a3552",
   "metadata": {},
   "outputs": [
    {
     "data": {
      "text/html": [
       "<div>\n",
       "<style scoped>\n",
       "    .dataframe tbody tr th:only-of-type {\n",
       "        vertical-align: middle;\n",
       "    }\n",
       "\n",
       "    .dataframe tbody tr th {\n",
       "        vertical-align: top;\n",
       "    }\n",
       "\n",
       "    .dataframe thead th {\n",
       "        text-align: right;\n",
       "    }\n",
       "</style>\n",
       "<table border=\"1\" class=\"dataframe\">\n",
       "  <thead>\n",
       "    <tr style=\"text-align: right;\">\n",
       "      <th></th>\n",
       "      <th>Target</th>\n",
       "      <th>Analogue</th>\n",
       "      <th>Jaccard</th>\n",
       "      <th>target_cluster</th>\n",
       "      <th>analogue_cluster</th>\n",
       "      <th>cluster</th>\n",
       "      <th>target_scaff</th>\n",
       "      <th>analogue_scaff</th>\n",
       "      <th>same_scaff</th>\n",
       "      <th>Label</th>\n",
       "      <th>label</th>\n",
       "    </tr>\n",
       "  </thead>\n",
       "  <tbody>\n",
       "    <tr>\n",
       "      <th>1803745</th>\n",
       "      <td>DTXSID2044391</td>\n",
       "      <td>DTXSID50889100</td>\n",
       "      <td>0.909091</td>\n",
       "      <td>3</td>\n",
       "      <td>5</td>\n",
       "      <td>False</td>\n",
       "      <td>c1ccccc1</td>\n",
       "      <td>C1CCCCC1</td>\n",
       "      <td>False</td>\n",
       "      <td>1</td>\n",
       "      <td>1</td>\n",
       "    </tr>\n",
       "    <tr>\n",
       "      <th>18968256</th>\n",
       "      <td>DTXSID90202874</td>\n",
       "      <td>DTXSID20886101</td>\n",
       "      <td>0.636364</td>\n",
       "      <td>4</td>\n",
       "      <td>4</td>\n",
       "      <td>True</td>\n",
       "      <td>c1ccc2c(c1)Cc1ccccc1C2</td>\n",
       "      <td>c1ccc2c(c1)CCC2</td>\n",
       "      <td>True</td>\n",
       "      <td>0</td>\n",
       "      <td>0</td>\n",
       "    </tr>\n",
       "    <tr>\n",
       "      <th>33853974</th>\n",
       "      <td>DTXSID80227612</td>\n",
       "      <td>DTXSID6044355</td>\n",
       "      <td>0.685714</td>\n",
       "      <td>1</td>\n",
       "      <td>1</td>\n",
       "      <td>True</td>\n",
       "      <td>c1ccccc1</td>\n",
       "      <td>NaN</td>\n",
       "      <td>True</td>\n",
       "      <td>0</td>\n",
       "      <td>0</td>\n",
       "    </tr>\n",
       "    <tr>\n",
       "      <th>1215180</th>\n",
       "      <td>DTXSID2058887</td>\n",
       "      <td>DTXSID3074781</td>\n",
       "      <td>0.979167</td>\n",
       "      <td>1</td>\n",
       "      <td>5</td>\n",
       "      <td>False</td>\n",
       "      <td>NaN</td>\n",
       "      <td>NaN</td>\n",
       "      <td>False</td>\n",
       "      <td>1</td>\n",
       "      <td>1</td>\n",
       "    </tr>\n",
       "    <tr>\n",
       "      <th>1880723</th>\n",
       "      <td>DTXSID0058988</td>\n",
       "      <td>DTXSID0038700</td>\n",
       "      <td>0.666667</td>\n",
       "      <td>2</td>\n",
       "      <td>2</td>\n",
       "      <td>True</td>\n",
       "      <td>c1ccccc1</td>\n",
       "      <td>c1ccccc1</td>\n",
       "      <td>True</td>\n",
       "      <td>0</td>\n",
       "      <td>0</td>\n",
       "    </tr>\n",
       "    <tr>\n",
       "      <th>...</th>\n",
       "      <td>...</td>\n",
       "      <td>...</td>\n",
       "      <td>...</td>\n",
       "      <td>...</td>\n",
       "      <td>...</td>\n",
       "      <td>...</td>\n",
       "      <td>...</td>\n",
       "      <td>...</td>\n",
       "      <td>...</td>\n",
       "      <td>...</td>\n",
       "      <td>...</td>\n",
       "    </tr>\n",
       "    <tr>\n",
       "      <th>18606455</th>\n",
       "      <td>DTXSID10200276</td>\n",
       "      <td>DTXSID801036345</td>\n",
       "      <td>0.922078</td>\n",
       "      <td>3</td>\n",
       "      <td>3</td>\n",
       "      <td>True</td>\n",
       "      <td>c1ccncc1</td>\n",
       "      <td>C(CC1CCCC1)=C1CCCc2ccccc21</td>\n",
       "      <td>True</td>\n",
       "      <td>1</td>\n",
       "      <td>0</td>\n",
       "    </tr>\n",
       "    <tr>\n",
       "      <th>1266641</th>\n",
       "      <td>DTXSID1041263</td>\n",
       "      <td>DTXSID0038889</td>\n",
       "      <td>0.898876</td>\n",
       "      <td>2</td>\n",
       "      <td>4</td>\n",
       "      <td>False</td>\n",
       "      <td>c1ccccc1</td>\n",
       "      <td>NaN</td>\n",
       "      <td>False</td>\n",
       "      <td>1</td>\n",
       "      <td>1</td>\n",
       "    </tr>\n",
       "    <tr>\n",
       "      <th>31962417</th>\n",
       "      <td>DTXSID40868641</td>\n",
       "      <td>DTXSID40862881</td>\n",
       "      <td>0.964912</td>\n",
       "      <td>4</td>\n",
       "      <td>5</td>\n",
       "      <td>False</td>\n",
       "      <td>c1ccc2c(c1)COC2</td>\n",
       "      <td>C1=CCCCC1</td>\n",
       "      <td>False</td>\n",
       "      <td>1</td>\n",
       "      <td>1</td>\n",
       "    </tr>\n",
       "    <tr>\n",
       "      <th>361249</th>\n",
       "      <td>DTXSID8021482</td>\n",
       "      <td>DTXSID501014817</td>\n",
       "      <td>0.583333</td>\n",
       "      <td>7</td>\n",
       "      <td>7</td>\n",
       "      <td>True</td>\n",
       "      <td>NaN</td>\n",
       "      <td>NaN</td>\n",
       "      <td>True</td>\n",
       "      <td>0</td>\n",
       "      <td>0</td>\n",
       "    </tr>\n",
       "    <tr>\n",
       "      <th>7853617</th>\n",
       "      <td>DTXSID7029168</td>\n",
       "      <td>DTXSID001033373</td>\n",
       "      <td>0.692308</td>\n",
       "      <td>7</td>\n",
       "      <td>7</td>\n",
       "      <td>True</td>\n",
       "      <td>NaN</td>\n",
       "      <td>NaN</td>\n",
       "      <td>True</td>\n",
       "      <td>0</td>\n",
       "      <td>0</td>\n",
       "    </tr>\n",
       "  </tbody>\n",
       "</table>\n",
       "<p>106172 rows × 11 columns</p>\n",
       "</div>"
      ],
      "text/plain": [
       "                  Target         Analogue   Jaccard  target_cluster  \\\n",
       "1803745    DTXSID2044391   DTXSID50889100  0.909091               3   \n",
       "18968256  DTXSID90202874   DTXSID20886101  0.636364               4   \n",
       "33853974  DTXSID80227612    DTXSID6044355  0.685714               1   \n",
       "1215180    DTXSID2058887    DTXSID3074781  0.979167               1   \n",
       "1880723    DTXSID0058988    DTXSID0038700  0.666667               2   \n",
       "...                  ...              ...       ...             ...   \n",
       "18606455  DTXSID10200276  DTXSID801036345  0.922078               3   \n",
       "1266641    DTXSID1041263    DTXSID0038889  0.898876               2   \n",
       "31962417  DTXSID40868641   DTXSID40862881  0.964912               4   \n",
       "361249     DTXSID8021482  DTXSID501014817  0.583333               7   \n",
       "7853617    DTXSID7029168  DTXSID001033373  0.692308               7   \n",
       "\n",
       "          analogue_cluster  cluster            target_scaff  \\\n",
       "1803745                  5    False                c1ccccc1   \n",
       "18968256                 4     True  c1ccc2c(c1)Cc1ccccc1C2   \n",
       "33853974                 1     True                c1ccccc1   \n",
       "1215180                  5    False                     NaN   \n",
       "1880723                  2     True                c1ccccc1   \n",
       "...                    ...      ...                     ...   \n",
       "18606455                 3     True                c1ccncc1   \n",
       "1266641                  4    False                c1ccccc1   \n",
       "31962417                 5    False         c1ccc2c(c1)COC2   \n",
       "361249                   7     True                     NaN   \n",
       "7853617                  7     True                     NaN   \n",
       "\n",
       "                      analogue_scaff  same_scaff  Label  label  \n",
       "1803745                     C1CCCCC1       False      1      1  \n",
       "18968256             c1ccc2c(c1)CCC2        True      0      0  \n",
       "33853974                         NaN        True      0      0  \n",
       "1215180                          NaN       False      1      1  \n",
       "1880723                     c1ccccc1        True      0      0  \n",
       "...                              ...         ...    ...    ...  \n",
       "18606455  C(CC1CCCC1)=C1CCCc2ccccc21        True      1      0  \n",
       "1266641                          NaN       False      1      1  \n",
       "31962417                   C1=CCCCC1       False      1      1  \n",
       "361249                           NaN        True      0      0  \n",
       "7853617                          NaN        True      0      0  \n",
       "\n",
       "[106172 rows x 11 columns]"
      ]
     },
     "execution_count": 69,
     "metadata": {},
     "output_type": "execute_result"
    }
   ],
   "source": [
    "similar_pairs = new_df3[new_df3['Label'] == 0]\n",
    "dissimilar_pairs = new_df3[new_df3['Label'] == 1]\n",
    "\n",
    "# Step 2: Downsample dissimilar pairs\n",
    "downsampled_dissimilar_pairs = dissimilar_pairs.sample(n=len(similar_pairs), replace=False)\n",
    "\n",
    "# Step 3: Combine balanced pairs\n",
    "balanced_df = pd.concat([similar_pairs, downsampled_dissimilar_pairs])\n",
    "\n",
    "# Step 4: Shuffle the dataset\n",
    "balanced_df = balanced_df.sample(frac=1, random_state=42)\n",
    "balanced_df"
   ]
  },
  {
   "cell_type": "code",
   "execution_count": 70,
   "id": "0e61c9e2-c86c-4771-b74b-dd1826bcf5a9",
   "metadata": {},
   "outputs": [],
   "source": [
    "#smi_dict"
   ]
  },
  {
   "cell_type": "code",
   "execution_count": 71,
   "id": "79a38be9-8e1f-4a6b-be46-de7028d02f06",
   "metadata": {},
   "outputs": [],
   "source": [
    "balanced_df['analogue_smi'] = balanced_df['Analogue'].apply(lambda x: smi_dict[x])\n",
    "balanced_df['target_smi'] = balanced_df['Target'].apply(lambda x: smi_dict[x])\n"
   ]
  },
  {
   "cell_type": "code",
   "execution_count": 72,
   "id": "edaecba6-7f74-4528-98b5-a32152b9bae8",
   "metadata": {},
   "outputs": [],
   "source": [
    "from rdkit import DataStructs\n",
    "from rdkit.Chem import AllChem"
   ]
  },
  {
   "cell_type": "code",
   "execution_count": 73,
   "id": "31d2c30b-c0b9-4d1d-a635-395bed8f289b",
   "metadata": {},
   "outputs": [],
   "source": [
    "#balanced_df['analogue_mol'] = [Chem.MolFromSmiles(e) for e in balanced_df['analogue_smi']]\n",
    "\n",
    "#balanced_df['target_mol'] = [Chem.MolFromSmiles(e) for e in balanced_df['target_smi']]\n"
   ]
  },
  {
   "cell_type": "code",
   "execution_count": 74,
   "id": "20969b66-41b1-44a8-b263-614d4e50f5bc",
   "metadata": {},
   "outputs": [],
   "source": [
    "#fpgen = AllChem.GetMorganGenerator(radius=3, fpSize=1024)"
   ]
  },
  {
   "cell_type": "code",
   "execution_count": 75,
   "id": "37eb5428-982a-47d2-9f26-86f4aaa7ebd2",
   "metadata": {},
   "outputs": [],
   "source": [
    "#balanced_df['fps_target'] = balanced_df['target_mol'].apply(lambda x: fpgen.GetFingerprint(x))"
   ]
  },
  {
   "cell_type": "code",
   "execution_count": 76,
   "id": "03de3be8-4d56-4f42-8aa9-f55d83f30be8",
   "metadata": {},
   "outputs": [],
   "source": [
    "#balanced_df['fps_analogue'] = balanced_df['analogue_mol'].apply(lambda x: fpgen.GetFingerprint(x))"
   ]
  },
  {
   "cell_type": "code",
   "execution_count": 77,
   "id": "20833bbd-b148-47dd-95fb-0cf329a3ef92",
   "metadata": {},
   "outputs": [],
   "source": [
    "#new_df3"
   ]
  },
  {
   "cell_type": "code",
   "execution_count": 78,
   "id": "2f2b01c1-73a6-4de4-8e86-5e5e4d04a681",
   "metadata": {},
   "outputs": [],
   "source": [
    "def euclidean_distance(v1, v2):\n",
    "    return np.linalg.norm(np.array(v1) - np.array(v2))\n"
   ]
  },
  {
   "cell_type": "code",
   "execution_count": 67,
   "id": "ab0962a2-f886-45c7-8b18-d6dd0bbd76ea",
   "metadata": {},
   "outputs": [],
   "source": [
    "mylst2 = []\n",
    "for i, row in balanced_df.iterrows():\n",
    "    mylst2.append(euclidean_distance(row['fps_target'], row['fps_analogue']))"
   ]
  },
  {
   "cell_type": "code",
   "execution_count": 68,
   "id": "3781bce0-83b4-4230-97bf-d086a18f8185",
   "metadata": {},
   "outputs": [
    {
     "data": {
      "text/plain": [
       "6682"
      ]
     },
     "execution_count": 68,
     "metadata": {},
     "output_type": "execute_result"
    }
   ],
   "source": [
    "len(mylst2)"
   ]
  },
  {
   "cell_type": "code",
   "execution_count": 69,
   "id": "3f7c3fa6-634c-45b1-ab4d-defb810bb226",
   "metadata": {},
   "outputs": [],
   "source": [
    "balanced_df['Euclidean'] = mylst2"
   ]
  },
  {
   "cell_type": "code",
   "execution_count": 70,
   "id": "d0b81744-8d7c-412e-9149-34cb9b607038",
   "metadata": {},
   "outputs": [],
   "source": [
    "#new_df3.to_csv('new_df3.csv')"
   ]
  },
  {
   "cell_type": "code",
   "execution_count": 79,
   "id": "be3bf5a0-2b05-480e-92d4-d62a5600b9ed",
   "metadata": {},
   "outputs": [
    {
     "data": {
      "text/plain": [
       "<Axes: >"
      ]
     },
     "execution_count": 79,
     "metadata": {},
     "output_type": "execute_result"
    },
    {
     "data": {
      "image/png": "[encoded data removed]",
      "text/plain": [
       "<Figure size 640x480 with 1 Axes>"
      ]
     },
     "metadata": {},
     "output_type": "display_data"
    }
   ],
   "source": [
    "balanced_df[balanced_df['Label'] ==0]['Jaccard'].hist(color = 'r')\n",
    "balanced_df[balanced_df['Label'] ==1]['Jaccard'].hist(color = 'b', alpha = 0.5)"
   ]
  },
  {
   "cell_type": "code",
   "execution_count": 80,
   "id": "50e10ad5-fb0f-4a02-b46b-2170e94f1ccf",
   "metadata": {},
   "outputs": [
    {
     "data": {
      "text/plain": [
       "Label\n",
       "1    53086\n",
       "0    53086\n",
       "Name: count, dtype: int64"
      ]
     },
     "execution_count": 80,
     "metadata": {},
     "output_type": "execute_result"
    }
   ],
   "source": [
    "balanced_df['Label'].value_counts()"
   ]
  },
  {
   "cell_type": "code",
   "execution_count": 133,
   "id": "53881aee-0bbb-446d-a1e6-a64929616043",
   "metadata": {},
   "outputs": [],
   "source": [
    "#balanced_df.to_csv('balanced_echa.csv')"
   ]
  },
  {
   "cell_type": "code",
   "execution_count": 134,
   "id": "1e078970-39be-47ca-b90e-744a4581f08d",
   "metadata": {},
   "outputs": [],
   "source": [
    "#balanced_df = pd.read_csv('balanced_echa.csv', index_col = [0])\n",
    "#balanced_df"
   ]
  },
  {
   "cell_type": "code",
   "execution_count": 81,
   "id": "bbf00318-d444-4ef1-b8ba-f24e549648e3",
   "metadata": {},
   "outputs": [],
   "source": [
    "from sklearn.model_selection import train_test_split\n",
    "#from kennard_stone import train_test_split\n",
    "\n",
    "from torch.utils.data import Dataset, DataLoader"
   ]
  },
  {
   "cell_type": "code",
   "execution_count": 82,
   "id": "0fdf131e-50b6-4bec-bcf3-727f01a76bf2",
   "metadata": {},
   "outputs": [],
   "source": [
    "X_train, X_test, y_train, y_test  = train_test_split(balanced_df[['Target', \t'Analogue','target_smi', 'analogue_smi', 'Label', ]], balanced_df['Label'], stratify = balanced_df['Label'], random_state = 42,test_size=0.2)"
   ]
  },
  {
   "cell_type": "code",
   "execution_count": 83,
   "id": "0fc1268f-a329-4447-9f8d-0c14aaae9c17",
   "metadata": {},
   "outputs": [
    {
     "data": {
      "text/plain": [
       "Label\n",
       "1    42469\n",
       "0    42468\n",
       "Name: count, dtype: int64"
      ]
     },
     "execution_count": 83,
     "metadata": {},
     "output_type": "execute_result"
    }
   ],
   "source": [
    "y_train.value_counts(normalize = False)"
   ]
  },
  {
   "cell_type": "code",
   "execution_count": 84,
   "id": "7c32dcb3-16c0-4c08-be4e-def502f717d4",
   "metadata": {},
   "outputs": [
    {
     "data": {
      "text/plain": [
       "Label\n",
       "0    0.500024\n",
       "1    0.499976\n",
       "Name: proportion, dtype: float64"
      ]
     },
     "execution_count": 84,
     "metadata": {},
     "output_type": "execute_result"
    }
   ],
   "source": [
    "y_test.value_counts(normalize = True)"
   ]
  },
  {
   "cell_type": "code",
   "execution_count": 85,
   "id": "0418318a-5a2e-4ba4-8834-f071829ceabc",
   "metadata": {},
   "outputs": [],
   "source": [
    "from torch_geometric.utils import smiles as pygsmi\n",
    "import torch\n",
    "import torch_geometric\n",
    "import torch.nn.functional as F\n",
    "from torch.nn import Linear\n",
    "from torch.nn import BatchNorm1d\n",
    "from torch.utils.data import Dataset\n",
    "from torch_geometric.nn import GCNConv\n",
    "from torch_geometric.nn import ChebConv\n",
    "from torch_geometric.nn import global_add_pool, global_mean_pool\n",
    "from torch_geometric.loader import DataLoader"
   ]
  },
  {
   "cell_type": "code",
   "execution_count": 141,
   "id": "ea8ea75a-bf4d-462d-8f5d-45ed288bc77a",
   "metadata": {},
   "outputs": [],
   "source": [
    "\n",
    "\n",
    "#target_X = [pygsmi.from_smiles(m) for m in X_train['target_smi']]"
   ]
  },
  {
   "cell_type": "code",
   "execution_count": 142,
   "id": "517947b6-28b9-4dcd-8aee-3749630d7468",
   "metadata": {},
   "outputs": [],
   "source": [
    "#analogue_X = [pygsmi.from_smiles(m) for m in X_train['analogue_smi']]"
   ]
  },
  {
   "cell_type": "code",
   "execution_count": 86,
   "id": "68945116-b941-4dd3-8ad1-ae6977fd6474",
   "metadata": {},
   "outputs": [],
   "source": [
    "class GraphData(Dataset):\n",
    "    def __init__(self, df):\n",
    "        \"\"\"\n",
    "        GraphData class inheriting from the Dataset class in PyTorch.\n",
    "\n",
    "        Parameters\n",
    "        ----------\n",
    "    \n",
    "        node_vec_len : int\n",
    "            Node vector length of molecular graphs\n",
    "        max_atoms : int\n",
    "            Maximum number of atoms in molecular graphs\n",
    "        \"\"\"\n",
    "        self.df = df\n",
    "\n",
    "        # Create lists\n",
    "        #self.indices = df.index.to_list()\n",
    "        #self.smiles = df[\"smiles\"].to_list()\n",
    "        #self.outputs = df[\"measured log solubility in mols per litre\"].to_list()\n",
    "\n",
    "    def __len__(self):\n",
    "        return len(self.df)\n",
    "\n",
    "    def __getitem__(self, idx):\n",
    "        \n",
    "        \"\"\"\n",
    "        Returns node matrix, adjacency matrix, output, and SMILES string of\n",
    "        molecule.\n",
    "\n",
    "        Parameters\n",
    "        ----------\n",
    "        i : int\n",
    "            Dataset index\n",
    "\n",
    "        Returns\n",
    "        -------\n",
    "        node_mat : torch.Tensor with dimension (max_atoms,node_vec_len)\n",
    "            Node matrix\n",
    "        adj_mat: torch.Tensor with dimension (max_atoms,max_atoms)\n",
    "            Adjacency matrix\n",
    "        output : torch.Tensor with dimension n_outputs\n",
    "            Output vector\n",
    "        smile : str\n",
    "            SMILES string of molecule\n",
    "        \"\"\"\n",
    "        \n",
    "        row = self.df.iloc[idx]\n",
    "        target = pygsmi.from_smiles(row['target_smi'])\n",
    "        analogue =pygsmi.from_smiles(row['analogue_smi'])\n",
    "        target.x = target.x.float()\n",
    "        analogue.x = analogue.x.float()\n",
    "\n",
    "\n",
    "        # Get output\n",
    "        label = torch.tensor(row['Label'], dtype=torch.long)\n",
    "\n",
    "        return target, analogue, label\n",
    "\n",
    "   "
   ]
  },
  {
   "cell_type": "code",
   "execution_count": 217,
   "id": "d6477a40-09cd-4ba9-a4f1-bef871845c4a",
   "metadata": {},
   "outputs": [
    {
     "name": "stdout",
     "output_type": "stream",
     "text": [
      "[S--].[S--].[S--].[S--].[S--].[S--].[S--].[Re+7].[Re+7] 7 is not in list\n",
      "[S--].[S--].[S--].[S--].[S--].[S--].[S--].[Re+7].[Re+7] 7 is not in list\n",
      "[S--].[S--].[S--].[S--].[S--].[S--].[S--].[Re+7].[Re+7] 7 is not in list\n",
      "[S--].[S--].[S--].[S--].[S--].[S--].[S--].[Re+7].[Re+7] 7 is not in list\n",
      "[S--].[S--].[S--].[S--].[S--].[S--].[S--].[Re+7].[Re+7] 7 is not in list\n",
      "[S--].[S--].[S--].[S--].[S--].[S--].[S--].[Re+7].[Re+7] 7 is not in list\n",
      "[S--].[S--].[S--].[S--].[S--].[S--].[S--].[Re+7].[Re+7] 7 is not in list\n",
      "[S--].[S--].[S--].[S--].[S--].[S--].[S--].[Re+7].[Re+7] 7 is not in list\n",
      "[S--].[S--].[S--].[S--].[S--].[S--].[S--].[Re+7].[Re+7] 7 is not in list\n",
      "[S--].[S--].[S--].[S--].[S--].[S--].[S--].[Re+7].[Re+7] 7 is not in list\n",
      "[S--].[S--].[S--].[S--].[S--].[S--].[S--].[Re+7].[Re+7] 7 is not in list\n",
      "[S--].[S--].[S--].[S--].[S--].[S--].[S--].[Re+7].[Re+7] 7 is not in list\n",
      "[S--].[S--].[S--].[S--].[S--].[S--].[S--].[Re+7].[Re+7] 7 is not in list\n",
      "[S--].[S--].[S--].[S--].[S--].[S--].[S--].[Re+7].[Re+7] 7 is not in list\n",
      "[S--].[S--].[S--].[S--].[S--].[S--].[S--].[Re+7].[Re+7] 7 is not in list\n",
      "[S--].[S--].[S--].[S--].[S--].[S--].[S--].[Re+7].[Re+7] 7 is not in list\n",
      "[S--].[S--].[S--].[S--].[S--].[S--].[S--].[Re+7].[Re+7] 7 is not in list\n"
     ]
    }
   ],
   "source": [
    "test = []\n",
    "for x  in X_train['analogue_smi']:\n",
    "    try:\n",
    "        pygsmi.from_smiles(x) \n",
    "    except Exception as error:\n",
    "        print(x, error)"
   ]
  },
  {
   "cell_type": "code",
   "execution_count": 243,
   "id": "d3bf1af0-bc91-444e-9b59-720df53be2fb",
   "metadata": {},
   "outputs": [
    {
     "name": "stdout",
     "output_type": "stream",
     "text": [
      "[S--].[S--].[S--].[S--].[S--].[S--].[S--].[Re+7].[Re+7] 7 is not in list\n",
      "[S--].[S--].[S--].[S--].[S--].[S--].[S--].[Re+7].[Re+7] 7 is not in list\n",
      "[S--].[S--].[S--].[S--].[S--].[S--].[S--].[Re+7].[Re+7] 7 is not in list\n"
     ]
    }
   ],
   "source": [
    "test1 = []\n",
    "for x  in X_test['analogue_smi']:\n",
    "    try:\n",
    "        pygsmi.from_smiles(x) \n",
    "    except Exception as error:\n",
    "        print(x, error)"
   ]
  },
  {
   "cell_type": "code",
   "execution_count": 87,
   "id": "5bbaac4a-7d42-4b57-af2d-07355b7b91b8",
   "metadata": {},
   "outputs": [],
   "source": [
    "X_train = X_train[X_train['analogue_smi'] != '[S--].[S--].[S--].[S--].[S--].[S--].[S--].[Re+7].[Re+7]']"
   ]
  },
  {
   "cell_type": "code",
   "execution_count": 88,
   "id": "52a8cf04-d05d-4974-ad09-0a9f0efced84",
   "metadata": {},
   "outputs": [],
   "source": [
    "X_train = X_train[X_train['target_smi'] != '[S--].[S--].[S--].[S--].[S--].[S--].[S--].[Re+7].[Re+7]']"
   ]
  },
  {
   "cell_type": "code",
   "execution_count": 89,
   "id": "52d4f55a-62d2-4ddf-8671-fabfb498973d",
   "metadata": {},
   "outputs": [],
   "source": [
    "X_test = X_test[X_test['target_smi'] != '[S--].[S--].[S--].[S--].[S--].[S--].[S--].[Re+7].[Re+7]']"
   ]
  },
  {
   "cell_type": "code",
   "execution_count": 90,
   "id": "90753929-faae-40ec-be3a-ab55d5f3f116",
   "metadata": {},
   "outputs": [],
   "source": [
    "X_test = X_test[X_test['analogue_smi'] != '[S--].[S--].[S--].[S--].[S--].[S--].[S--].[Re+7].[Re+7]']"
   ]
  },
  {
   "cell_type": "code",
   "execution_count": 91,
   "id": "078bf319-d8db-4fff-aebf-a40255d54767",
   "metadata": {},
   "outputs": [],
   "source": [
    "train_data = GraphData(X_train)"
   ]
  },
  {
   "cell_type": "code",
   "execution_count": 92,
   "id": "809b5b02-366e-4248-aead-57453b7bc929",
   "metadata": {},
   "outputs": [],
   "source": [
    "test_data = GraphData(X_test)"
   ]
  },
  {
   "cell_type": "code",
   "execution_count": 93,
   "id": "244254ce-112a-4473-bce6-e6ca3787219e",
   "metadata": {},
   "outputs": [
    {
     "data": {
      "text/plain": [
       "9"
      ]
     },
     "execution_count": 93,
     "metadata": {},
     "output_type": "execute_result"
    }
   ],
   "source": [
    "train_data[0][0].num_features"
   ]
  },
  {
   "cell_type": "code",
   "execution_count": 94,
   "id": "638fddaa-2129-4911-8c6e-da4c3307290c",
   "metadata": {},
   "outputs": [],
   "source": [
    "\n",
    "from torch.nn import Linear, Sequential, BatchNorm1d, ReLU, Dropout\n",
    "import torch.nn.functional as F\n",
    "from torch_geometric.nn import GCNConv, GINConv,GATv2Conv\n",
    "from torch_geometric.nn import global_mean_pool, global_add_pool"
   ]
  },
  {
   "cell_type": "code",
   "execution_count": 82,
   "id": "c1959b73-1a8e-47e5-a65c-fb8d44fbac06",
   "metadata": {},
   "outputs": [],
   "source": [
    "class GCN(torch.nn.Module):\n",
    "\n",
    "    def __init__(self):\n",
    "\n",
    "        super(GCN,self).__init__()\n",
    "        torch.manual_seed(42)\n",
    "\n",
    "        # define convolutional layers\n",
    "        self.conv1 = GATv2Conv(9,512)\n",
    "        self.conv2 = GATv2Conv(512,256)\n",
    "        # self.conv3 = GATv2Conv(256,128)\n",
    "        # self.conv1 = SAGEConv(1024,512)\n",
    "        # self.conv2 = SAGEConv(512,256)\n",
    "        # self.conv3 = SAGEConv(256,128)\n",
    "\n",
    "        # define linear layers\n",
    "        self.lin1 = Linear(256,128)\n",
    "        self.lin2 = Linear(128,1)\n",
    "        # self.lin3 = Linear(64,2)\n",
    "\n",
    "    # define forward pass\n",
    "    def forward_once(self,x,edge_index,batch):\n",
    "\n",
    "        x = self.conv1(x,edge_index)\n",
    "        x = x.relu()\n",
    "        x = self.conv2(x,edge_index)\n",
    "        x = x.relu()\n",
    "        x = global_mean_pool(x,batch)\n",
    "        \n",
    "        x = self.lin1(x)\n",
    "        x = x.relu()\n",
    "        x = self.lin2(x)\n",
    "        \n",
    "        return x\n",
    "       \n",
    "        \n",
    "    def forward(self, input1, input2):\n",
    "       \n",
    "        output1 = self.forward_once(input1.x, input1.edge_index, input1.batch)\n",
    "        output2 = self.forward_once(input2.x, input2.edge_index, input2.batch)\n",
    "\n",
    "\n",
    "        return output1, output2\n",
    "    "
   ]
  },
  {
   "cell_type": "code",
   "execution_count": 95,
   "id": "e8914403-aa91-4e24-9d9c-dae3e11c7f0e",
   "metadata": {},
   "outputs": [],
   "source": [
    "class GIN(torch.nn.Module):\n",
    "    \"\"\"GIN\"\"\"\n",
    "    def __init__(self, dim_h):\n",
    "        super(GIN, self).__init__()\n",
    "        self.conv1 = GINConv(\n",
    "            Sequential(Linear(9, dim_h),\n",
    "                       BatchNorm1d(dim_h), ReLU(),\n",
    "                       Linear(dim_h, dim_h), ReLU()))\n",
    "      #  self.conv2 = GINConv(\n",
    "        #    Sequential(Linear(dim_h, dim_h), BatchNorm1d(dim_h), ReLU(),\n",
    "       #                Linear(dim_h, dim_h), ReLU()))\n",
    "        #self.conv3 = GINConv(\n",
    "      #      Sequential(Linear(dim_h, dim_h), BatchNorm1d(dim_h), ReLU(),\n",
    "      #                 Linear(dim_h, dim_h), ReLU()))\n",
    "        self.lin1 = Linear(dim_h, dim_h*2)\n",
    "        self.lin2 = Linear(dim_h*2, 1)\n",
    "\n",
    "    def forward_once(self, x, edge_index, batch):\n",
    "        #x, edge_index = data.x, data.edge_index\n",
    "        # Node embeddings \n",
    "        h1 = self.conv1(x, edge_index)\n",
    "        #h2 = self.conv2(h1, edge_index)\n",
    "        #h3 = self.conv3(h2, edge_index)\n",
    "\n",
    "        # Graph-level readout\n",
    "        #h1 = global_add_pool(h1, batch)\n",
    "        #h2 = global_add_pool(h2, batch)\n",
    "        #h3 = global_add_pool(h3, batch)\n",
    "\n",
    "        # Concatenate graph embeddings\n",
    "        #h = torch.cat((h1, h2, h3), dim=1)\n",
    "        \n",
    "        h = global_add_pool(h1, batch)\n",
    "        # Classifier\n",
    "        h = self.lin1(h)\n",
    "        h = h.relu()\n",
    "        #h = F.dropout(h, p=0.5, training=self.training)\n",
    "        h = self.lin2(h)\n",
    "        \n",
    "        return h\n",
    "       \n",
    "        \n",
    "    def forward(self, input1, input2):\n",
    "       \n",
    "        output1 = self.forward_once(input1.x, input1.edge_index, input1.batch)\n",
    "        output2 = self.forward_once(input2.x, input2.edge_index, input2.batch)\n",
    "\n",
    "\n",
    "        return output1, output2\n",
    "    \n",
    "    "
   ]
  },
  {
   "cell_type": "code",
   "execution_count": 96,
   "id": "80ccd186-ab3e-4977-a79f-17b4558efc1c",
   "metadata": {},
   "outputs": [],
   "source": [
    "gin = GIN(dim_h=32)\n"
   ]
  },
  {
   "cell_type": "code",
   "execution_count": 83,
   "id": "6a4b784f-ed83-4203-b3b2-84fb1f21d514",
   "metadata": {},
   "outputs": [],
   "source": [
    "gca = GCN()"
   ]
  },
  {
   "cell_type": "code",
   "execution_count": 97,
   "id": "5d700838-f9bf-423d-869f-59be611e15b1",
   "metadata": {},
   "outputs": [],
   "source": [
    "from torch_geometric.nn.models import GAT, GIN\n",
    "from torch_geometric.nn import global_mean_pool, global_add_pool, global_max_pool\n"
   ]
  },
  {
   "cell_type": "code",
   "execution_count": 98,
   "id": "a790ab51-d781-4925-bc1a-2cf4de6f31a7",
   "metadata": {},
   "outputs": [],
   "source": [
    "class ContrastiveLoss(torch.nn.Module):\n",
    "    def __init__(self, margin=2.0):\n",
    "        super(ContrastiveLoss, self).__init__()\n",
    "        self.margin = margin\n",
    "\n",
    "    def forward(self, output1, output2, label):\n",
    "        # Euclidean distance between the embeddings\n",
    "        euclidean_distance = F.pairwise_distance(output1, output2, keepdim = True)\n",
    "\n",
    "        # Contrastive loss formula\n",
    "        contrastive_loss = torch.mean((1 - label) * torch.pow(euclidean_distance, 2) +\n",
    "                                      (label) * torch.pow(torch.clamp(self.margin - euclidean_distance, min=0.0), 2))\n",
    "\n",
    "        return contrastive_loss"
   ]
  },
  {
   "cell_type": "code",
   "execution_count": 99,
   "id": "a5980e0f-1e50-4027-9152-d0acccdbbbb0",
   "metadata": {},
   "outputs": [],
   "source": [
    "criterion = ContrastiveLoss()\n",
    "#optimizer = torch.optim.SGD(params=gin.parameters(), lr=0.005)\n",
    "\n",
    "optimizer = torch.optim.Adam(gin.parameters(), lr=0.005)"
   ]
  },
  {
   "cell_type": "code",
   "execution_count": 100,
   "id": "4355b1d5-8aab-498e-8ea3-336c17d93134",
   "metadata": {},
   "outputs": [],
   "source": [
    "train_loader = DataLoader(train_data, batch_size=64, shuffle=True, drop_last=True)"
   ]
  },
  {
   "cell_type": "code",
   "execution_count": 101,
   "id": "eccc3426-679a-4216-9b51-f981a3de4303",
   "metadata": {},
   "outputs": [],
   "source": [
    "#for i in train_loader:\n",
    " #   print(i)"
   ]
  },
  {
   "cell_type": "code",
   "execution_count": 102,
   "id": "dd4d64ca-515a-4c77-91d5-e9d56baa908f",
   "metadata": {},
   "outputs": [],
   "source": [
    "test_loader = DataLoader(test_data, batch_size=64, shuffle=False, drop_last=True)"
   ]
  },
  {
   "cell_type": "code",
   "execution_count": 103,
   "id": "8a2589ca-5870-4b5e-9011-4ae016f9d973",
   "metadata": {},
   "outputs": [],
   "source": [
    "def show_plot(iteration,loss):\n",
    "    plt.plot(iteration,loss)\n",
    "    plt.show()\n",
    "     "
   ]
  },
  {
   "cell_type": "code",
   "execution_count": 104,
   "id": "97de3c5f-e525-4cb9-961b-d53af1e1a999",
   "metadata": {},
   "outputs": [],
   "source": [
    "from sklearn.metrics import accuracy_score, precision_score, recall_score, f1_score"
   ]
  },
  {
   "cell_type": "code",
   "execution_count": 105,
   "id": "e8080c4a-0abb-4746-83e9-589c537c253f",
   "metadata": {},
   "outputs": [],
   "source": [
    "def train_siamese_network(model, train_loader, optimizer, criterion, num_epochs=10):\n",
    "    model.train()\n",
    "    iteration_number= 0\n",
    "    counter = []\n",
    "    loss_history = [] \n",
    "    for epoch in range(num_epochs):\n",
    "        total_loss = 0.0\n",
    "        for i, data in enumerate(train_loader,0):\n",
    "            input1, input2, label = data\n",
    "            optimizer.zero_grad()\n",
    "            try:\n",
    "                output1, output2 = model(input1, input2)\n",
    "                loss = criterion(output1, output2, label)\n",
    "                #print(loss)\n",
    "                total_loss += loss /len(train_loader)\n",
    "                loss.backward()\n",
    "                optimizer.step()\n",
    "                iteration_number += 1\n",
    "                counter.append(iteration_number)\n",
    "                loss_history.append(loss.item())\n",
    "            except Exception as error:\n",
    "                print(error)\n",
    "\n",
    "        print(f\"Epoch [{epoch + 1}/{num_epochs}] Loss: {total_loss / len(train_loader)}\")\n",
    "    show_plot(counter, loss_history)"
   ]
  },
  {
   "cell_type": "code",
   "execution_count": 106,
   "id": "fa1ec362-22dd-4e1e-b90d-0e4fffff8fa5",
   "metadata": {},
   "outputs": [],
   "source": [
    "import numpy as np"
   ]
  },
  {
   "cell_type": "code",
   "execution_count": 107,
   "id": "516bb8cb-5bea-4a7e-954b-5ceda848bda4",
   "metadata": {},
   "outputs": [],
   "source": [
    "def test_network(model, test_loader, threshold=5):\n",
    "    model.eval()\n",
    "    true_labels = []\n",
    "    predicted_labels = []\n",
    "    euclidean = []\n",
    "    pair_indices = [] \n",
    "    with torch.no_grad():\n",
    "         for i, data in enumerate(test_loader):\n",
    "            # Unpack data\n",
    "            input1, input2, label = data\n",
    "            #print(input1)\n",
    "        \n",
    "            output1, output2 = model(input1, input2)\n",
    "            #print(label)\n",
    "            euclidean_distance = F.pairwise_distance(output1, output2)\n",
    "            predictions = (euclidean_distance < threshold).float()\n",
    "            \n",
    "    \n",
    "            true_labels_batch = label.view(-1).cpu().numpy()\n",
    "            predicted_scores_batch = predictions.view(-1).cpu().numpy()     \n",
    "            assert len(true_labels_batch) == len(predicted_scores_batch), \"Length mismatch between true labels and predicted scores in a batch.\"\n",
    "            indices_batch = zip(input1.smiles, input2.smiles)\n",
    "            true_labels.extend(true_labels_batch)\n",
    "            predicted_labels.extend(predicted_scores_batch)\n",
    "            euclidean.extend(euclidean_distance)\n",
    "            pair_indices.extend(indices_batch)\n",
    "    \n",
    "    # Convert lists to numpy arrays\n",
    "    \n",
    "    #true_labels = np.array(true_labels)\n",
    "    #predicted_labels = np.array(predicted_labels)\n",
    "            \n",
    "    true_labels = np.array(true_labels)\n",
    "    predicted_labels = np.array(predicted_labels)\n",
    "    euclidean = np.array(euclidean)\n",
    "   \n",
    "    \n",
    "    accuracy = accuracy_score(true_labels, predicted_labels)\n",
    "    precision = precision_score(true_labels, predicted_labels)\n",
    "    recall = recall_score(true_labels, predicted_labels)\n",
    "    f1 = f1_score(true_labels, predicted_labels)\n",
    "\n",
    "    print(f\"Accuracy: {accuracy:.4f}\")\n",
    "    print(f\"Precision: {precision:.4f}\")\n",
    "    print(f\"Recall: {recall:.4f}\")\n",
    "    print(f\"F1 Score: {f1:.4f}\")\n",
    "\n",
    "    return true_labels, predicted_labels, euclidean,pair_indices"
   ]
  },
  {
   "cell_type": "code",
   "execution_count": 108,
   "id": "8a24b3cf-f8a2-478d-a5da-748d6b4e549a",
   "metadata": {},
   "outputs": [
    {
     "name": "stdout",
     "output_type": "stream",
     "text": [
      "Epoch [1/10] Loss: 0.0010597618529573083\n",
      "Epoch [2/10] Loss: 0.0010344682959839702\n",
      "Epoch [3/10] Loss: 0.001029287581332028\n",
      "Epoch [4/10] Loss: 0.0010261810384690762\n",
      "Epoch [5/10] Loss: 0.001027658930979669\n",
      "Epoch [6/10] Loss: 0.0010270120110362768\n",
      "Epoch [7/10] Loss: 0.0010239025577902794\n",
      "Epoch [8/10] Loss: 0.0010224373545497656\n",
      "Epoch [9/10] Loss: 0.0010227191960439086\n",
      "Epoch [10/10] Loss: 0.001023189746774733\n"
     ]
    },
    {
     "data": {
      "image/png": "[encoded data removed]",
      "text/plain": [
       "<Figure size 640x480 with 1 Axes>"
      ]
     },
     "metadata": {},
     "output_type": "display_data"
    }
   ],
   "source": [
    "train_siamese_network(gin, train_loader, optimizer, criterion, num_epochs=10)"
   ]
  },
  {
   "cell_type": "code",
   "execution_count": 109,
   "id": "dc011a40-0cae-41b2-90ba-11ff02cb86e2",
   "metadata": {},
   "outputs": [
    {
     "name": "stdout",
     "output_type": "stream",
     "text": [
      "Accuracy: 0.3883\n",
      "Precision: 0.3736\n",
      "Recall: 0.3301\n",
      "F1 Score: 0.3505\n"
     ]
    }
   ],
   "source": [
    "a,b,c,d = test_network(gin, test_loader, threshold = 0.25)"
   ]
  },
  {
   "cell_type": "code",
   "execution_count": 110,
   "id": "67c1a194-fad9-4443-be46-5b8a4f6f4c42",
   "metadata": {},
   "outputs": [
    {
     "name": "stdout",
     "output_type": "stream",
     "text": [
      "Accuracy: 0.3916\n",
      "Precision: 0.3759\n",
      "Recall: 0.3288\n",
      "F1 Score: 0.3508\n"
     ]
    }
   ],
   "source": [
    "x,y,z,w = test_network(gin, train_loader, threshold = 0.25)"
   ]
  },
  {
   "cell_type": "code",
   "execution_count": 111,
   "id": "0ad38e83-9f23-44b0-89be-03605c20c4ce",
   "metadata": {},
   "outputs": [
    {
     "data": {
      "text/plain": [
       "(array([1.0763e+04, 6.0500e+03, 2.7550e+03, 1.1350e+03, 3.9000e+02,\n",
       "        7.8000e+01, 8.0000e+00, 2.0000e+00, 1.0000e+00, 2.0000e+00]),\n",
       " array([6.42372129e-07, 3.00390154e-01, 6.00779653e-01, 9.01169181e-01,\n",
       "        1.20155871e+00, 1.50194824e+00, 1.80233777e+00, 2.10272717e+00,\n",
       "        2.40311670e+00, 2.70350623e+00, 3.00389576e+00]),\n",
       " <BarContainer object of 10 artists>)"
      ]
     },
     "execution_count": 111,
     "metadata": {},
     "output_type": "execute_result"
    },
    {
     "data": {
      "image/png": "[encoded data removed]",
      "text/plain": [
       "<Figure size 640x480 with 1 Axes>"
      ]
     },
     "metadata": {},
     "output_type": "display_data"
    }
   ],
   "source": [
    "plt.hist(c)"
   ]
  },
  {
   "cell_type": "code",
   "execution_count": 112,
   "id": "ead1251b-db30-46eb-a420-c2936e2085a0",
   "metadata": {},
   "outputs": [],
   "source": [
    "out = pd.DataFrame(list(zip(d,c)), columns = ['target_out', 'euclidean'])"
   ]
  },
  {
   "cell_type": "code",
   "execution_count": 113,
   "id": "1fa2b0be-59a8-4763-b8fd-4c9ecc911dbe",
   "metadata": {},
   "outputs": [],
   "source": [
    "out = pd.concat([pd.DataFrame(out['target_out'].tolist(), index=out.index), out], axis = 1)"
   ]
  },
  {
   "cell_type": "code",
   "execution_count": 114,
   "id": "ebc9868b-6405-4544-a409-c360d0122b0a",
   "metadata": {},
   "outputs": [],
   "source": [
    "out.columns = ['target_smi', 'analogue_smi', 'target_out', 'euclidean']"
   ]
  },
  {
   "cell_type": "code",
   "execution_count": 116,
   "id": "d56f43dd-cc1d-4a6f-a449-0bfef9c069e8",
   "metadata": {},
   "outputs": [],
   "source": [
    "test_df = pd.merge(X_test, out, on = ['target_smi', 'analogue_smi'], how = 'left')"
   ]
  },
  {
   "cell_type": "code",
   "execution_count": 117,
   "id": "6fca8e9f-baa5-4622-a690-dd6e180a9543",
   "metadata": {},
   "outputs": [
    {
     "data": {
      "text/plain": [
       "(21243, 7)"
      ]
     },
     "execution_count": 117,
     "metadata": {},
     "output_type": "execute_result"
    }
   ],
   "source": [
    "test_df.shape"
   ]
  },
  {
   "cell_type": "code",
   "execution_count": 118,
   "id": "c1ee81df-60ee-4a82-87fc-4be90f4a4d33",
   "metadata": {},
   "outputs": [
    {
     "data": {
      "text/html": [
       "<div>\n",
       "<style scoped>\n",
       "    .dataframe tbody tr th:only-of-type {\n",
       "        vertical-align: middle;\n",
       "    }\n",
       "\n",
       "    .dataframe tbody tr th {\n",
       "        vertical-align: top;\n",
       "    }\n",
       "\n",
       "    .dataframe thead th {\n",
       "        text-align: right;\n",
       "    }\n",
       "</style>\n",
       "<table border=\"1\" class=\"dataframe\">\n",
       "  <thead>\n",
       "    <tr style=\"text-align: right;\">\n",
       "      <th></th>\n",
       "      <th>Target</th>\n",
       "      <th>Analogue</th>\n",
       "      <th>target_smi</th>\n",
       "      <th>analogue_smi</th>\n",
       "      <th>Label</th>\n",
       "      <th>target_out</th>\n",
       "      <th>euclidean</th>\n",
       "    </tr>\n",
       "  </thead>\n",
       "  <tbody>\n",
       "    <tr>\n",
       "      <th>0</th>\n",
       "      <td>DTXSID1059288</td>\n",
       "      <td>DTXSID80177466</td>\n",
       "      <td>COC1=CC=C(CC(O)=O)C=C1</td>\n",
       "      <td>COC1=CC(C(O)=O)=C(Br)C=C1</td>\n",
       "      <td>0</td>\n",
       "      <td>(COC1=CC=C(CC(O)=O)C=C1, COC1=CC(C(O)=O)=C(Br)...</td>\n",
       "      <td>0.070977</td>\n",
       "    </tr>\n",
       "    <tr>\n",
       "      <th>1</th>\n",
       "      <td>DTXSID6021793</td>\n",
       "      <td>DTXSID80444180</td>\n",
       "      <td>OC1=CC=CC2=CC=CC=C12</td>\n",
       "      <td>C[C@]12CC=C3[C@@H](CC[C@@]45CC6(CC[C@@]34O5)OC...</td>\n",
       "      <td>1</td>\n",
       "      <td>(OC1=CC=CC2=CC=CC=C12, C[C@]12CC=C3[C@@H](CC[C...</td>\n",
       "      <td>0.825108</td>\n",
       "    </tr>\n",
       "    <tr>\n",
       "      <th>2</th>\n",
       "      <td>DTXSID3038852</td>\n",
       "      <td>DTXSID401044986</td>\n",
       "      <td>OS(=O)(=O)C1=CC2=C(NC(=N2)C2=CC=CC=C2)C=C1</td>\n",
       "      <td>CC(O)CN.CC(O)CNC(O)=O</td>\n",
       "      <td>1</td>\n",
       "      <td>(OS(=O)(=O)C1=CC2=C(NC(=N2)C2=CC=CC=C2)C=C1, C...</td>\n",
       "      <td>0.107066</td>\n",
       "    </tr>\n",
       "    <tr>\n",
       "      <th>3</th>\n",
       "      <td>DTXSID3026647</td>\n",
       "      <td>DTXSID1060687</td>\n",
       "      <td>OC(=O)C1=CC=C(O)C=C1</td>\n",
       "      <td>OC(=O)C1=CC(=CC(O)=C1)C(O)=O</td>\n",
       "      <td>0</td>\n",
       "      <td>(OC(=O)C1=CC=C(O)C=C1, OC(=O)C1=CC(=CC(O)=C1)C...</td>\n",
       "      <td>0.373069</td>\n",
       "    </tr>\n",
       "    <tr>\n",
       "      <th>4</th>\n",
       "      <td>DTXSID20233358</td>\n",
       "      <td>DTXSID50153590</td>\n",
       "      <td>OC[C@H]1O[C@H](OC2=CC=C(O)C=C2)[C@H](O)[C@@H](...</td>\n",
       "      <td>CCOC1=C(O[C@@H]2O[C@H](CO)[C@@H](O)[C@H](O)[C@...</td>\n",
       "      <td>0</td>\n",
       "      <td>(OC[C@H]1O[C@H](OC2=CC=C(O)C=C2)[C@H](O)[C@@H]...</td>\n",
       "      <td>0.376070</td>\n",
       "    </tr>\n",
       "    <tr>\n",
       "      <th>...</th>\n",
       "      <td>...</td>\n",
       "      <td>...</td>\n",
       "      <td>...</td>\n",
       "      <td>...</td>\n",
       "      <td>...</td>\n",
       "      <td>...</td>\n",
       "      <td>...</td>\n",
       "    </tr>\n",
       "    <tr>\n",
       "      <th>21238</th>\n",
       "      <td>DTXSID0021543</td>\n",
       "      <td>DTXSID4061098</td>\n",
       "      <td>CCCCCCCCCl</td>\n",
       "      <td>CCCCCCCCCCCCOC=C</td>\n",
       "      <td>0</td>\n",
       "      <td>NaN</td>\n",
       "      <td>NaN</td>\n",
       "    </tr>\n",
       "    <tr>\n",
       "      <th>21239</th>\n",
       "      <td>DTXSID2027333</td>\n",
       "      <td>DTXSID101335231</td>\n",
       "      <td>CCO[Si](CCCN)(OCC)OCC</td>\n",
       "      <td>OC1=C(O)C=C(C=C1)C(=O)CN(CC1=CC=CC=C1)CC1=CC=C...</td>\n",
       "      <td>1</td>\n",
       "      <td>NaN</td>\n",
       "      <td>NaN</td>\n",
       "    </tr>\n",
       "    <tr>\n",
       "      <th>21240</th>\n",
       "      <td>DTXSID6020981</td>\n",
       "      <td>DTXSID7040318</td>\n",
       "      <td>CC(C)[N+]([O-])=O</td>\n",
       "      <td>[Al+3].[O-][N+]([O-])=O.[O-][N+]([O-])=O.[O-][...</td>\n",
       "      <td>0</td>\n",
       "      <td>NaN</td>\n",
       "      <td>NaN</td>\n",
       "    </tr>\n",
       "    <tr>\n",
       "      <th>21241</th>\n",
       "      <td>DTXSID3059139</td>\n",
       "      <td>DTXSID6020062</td>\n",
       "      <td>NC1=C(C=C(C=C1)[N+]([O-])=O)S(O)(=O)=O</td>\n",
       "      <td>NC1=C(O)C=CC(=C1)[N+]([O-])=O</td>\n",
       "      <td>0</td>\n",
       "      <td>NaN</td>\n",
       "      <td>NaN</td>\n",
       "    </tr>\n",
       "    <tr>\n",
       "      <th>21242</th>\n",
       "      <td>DTXSID4044660</td>\n",
       "      <td>DTXSID701019687</td>\n",
       "      <td>SCCSCCS</td>\n",
       "      <td>CCCCCCCCCCCC(=O)OCC(C)(C)C=NC1=CC=C(C=C1)N=CC(...</td>\n",
       "      <td>1</td>\n",
       "      <td>NaN</td>\n",
       "      <td>NaN</td>\n",
       "    </tr>\n",
       "  </tbody>\n",
       "</table>\n",
       "<p>21243 rows × 7 columns</p>\n",
       "</div>"
      ],
      "text/plain": [
       "               Target         Analogue  \\\n",
       "0       DTXSID1059288   DTXSID80177466   \n",
       "1       DTXSID6021793   DTXSID80444180   \n",
       "2       DTXSID3038852  DTXSID401044986   \n",
       "3       DTXSID3026647    DTXSID1060687   \n",
       "4      DTXSID20233358   DTXSID50153590   \n",
       "...               ...              ...   \n",
       "21238   DTXSID0021543    DTXSID4061098   \n",
       "21239   DTXSID2027333  DTXSID101335231   \n",
       "21240   DTXSID6020981    DTXSID7040318   \n",
       "21241   DTXSID3059139    DTXSID6020062   \n",
       "21242   DTXSID4044660  DTXSID701019687   \n",
       "\n",
       "                                              target_smi  \\\n",
       "0                                 COC1=CC=C(CC(O)=O)C=C1   \n",
       "1                                   OC1=CC=CC2=CC=CC=C12   \n",
       "2             OS(=O)(=O)C1=CC2=C(NC(=N2)C2=CC=CC=C2)C=C1   \n",
       "3                                   OC(=O)C1=CC=C(O)C=C1   \n",
       "4      OC[C@H]1O[C@H](OC2=CC=C(O)C=C2)[C@H](O)[C@@H](...   \n",
       "...                                                  ...   \n",
       "21238                                         CCCCCCCCCl   \n",
       "21239                              CCO[Si](CCCN)(OCC)OCC   \n",
       "21240                                  CC(C)[N+]([O-])=O   \n",
       "21241             NC1=C(C=C(C=C1)[N+]([O-])=O)S(O)(=O)=O   \n",
       "21242                                            SCCSCCS   \n",
       "\n",
       "                                            analogue_smi  Label  \\\n",
       "0                              COC1=CC(C(O)=O)=C(Br)C=C1      0   \n",
       "1      C[C@]12CC=C3[C@@H](CC[C@@]45CC6(CC[C@@]34O5)OC...      1   \n",
       "2                                  CC(O)CN.CC(O)CNC(O)=O      1   \n",
       "3                           OC(=O)C1=CC(=CC(O)=C1)C(O)=O      0   \n",
       "4      CCOC1=C(O[C@@H]2O[C@H](CO)[C@@H](O)[C@H](O)[C@...      0   \n",
       "...                                                  ...    ...   \n",
       "21238                                   CCCCCCCCCCCCOC=C      0   \n",
       "21239  OC1=C(O)C=C(C=C1)C(=O)CN(CC1=CC=CC=C1)CC1=CC=C...      1   \n",
       "21240  [Al+3].[O-][N+]([O-])=O.[O-][N+]([O-])=O.[O-][...      0   \n",
       "21241                      NC1=C(O)C=CC(=C1)[N+]([O-])=O      0   \n",
       "21242  CCCCCCCCCCCC(=O)OCC(C)(C)C=NC1=CC=C(C=C1)N=CC(...      1   \n",
       "\n",
       "                                              target_out  euclidean  \n",
       "0      (COC1=CC=C(CC(O)=O)C=C1, COC1=CC(C(O)=O)=C(Br)...   0.070977  \n",
       "1      (OC1=CC=CC2=CC=CC=C12, C[C@]12CC=C3[C@@H](CC[C...   0.825108  \n",
       "2      (OS(=O)(=O)C1=CC2=C(NC(=N2)C2=CC=CC=C2)C=C1, C...   0.107066  \n",
       "3      (OC(=O)C1=CC=C(O)C=C1, OC(=O)C1=CC(=CC(O)=C1)C...   0.373069  \n",
       "4      (OC[C@H]1O[C@H](OC2=CC=C(O)C=C2)[C@H](O)[C@@H]...   0.376070  \n",
       "...                                                  ...        ...  \n",
       "21238                                                NaN        NaN  \n",
       "21239                                                NaN        NaN  \n",
       "21240                                                NaN        NaN  \n",
       "21241                                                NaN        NaN  \n",
       "21242                                                NaN        NaN  \n",
       "\n",
       "[21243 rows x 7 columns]"
      ]
     },
     "execution_count": 118,
     "metadata": {},
     "output_type": "execute_result"
    }
   ],
   "source": [
    "test_df"
   ]
  },
  {
   "cell_type": "code",
   "execution_count": 119,
   "id": "e512d42a-ce1d-4778-9f82-f2333d76833b",
   "metadata": {},
   "outputs": [
    {
     "data": {
      "text/plain": [
       "Text(0, 0.5, 'Number of test set chemical pairs')"
      ]
     },
     "execution_count": 119,
     "metadata": {},
     "output_type": "execute_result"
    },
    {
     "data": {
      "image/png": "[encoded data removed]",
      "text/plain": [
       "<Figure size 1200x400 with 1 Axes>"
      ]
     },
     "metadata": {},
     "output_type": "display_data"
    }
   ],
   "source": [
    "f, axes = plt.subplots(figsize = (12,4))\n",
    "test_df[test_df['Label']==1]['euclidean'].hist(color = 'r', ax=axes, label = 'dissimilar')\n",
    "test_df[test_df['Label']==0]['euclidean'].hist(color = 'b', alpha = 0.5, ax = axes, label = 'similar')\n",
    "\n",
    "axes.legend()\n",
    "\n",
    "\n",
    "axes.set_xlabel('Euclidean distance')\n",
    "axes.set_ylabel('Number of test set chemical pairs')\n",
    "#axes[1].legend()"
   ]
  },
  {
   "cell_type": "code",
   "execution_count": null,
   "id": "61573399-017d-4fe6-b480-f46955bad760",
   "metadata": {},
   "outputs": [],
   "source": []
  }
 ],
 "metadata": {
  "kernelspec": {
   "display_name": "cuda-gpt",
   "language": "python",
   "name": "cuda"
  },
  "language_info": {
   "codemirror_mode": {
    "name": "ipython",
    "version": 3
   },
   "file_extension": ".py",
   "mimetype": "text/x-python",
   "name": "python",
   "nbconvert_exporter": "python",
   "pygments_lexer": "ipython3",
   "version": "3.9.13"
  },
  "widgets": {
   "application/vnd.jupyter.widget-state+json": {
    "state": {},
    "version_major": 2,
    "version_minor": 0
   }
  }
 },
 "nbformat": 4,
 "nbformat_minor": 5
}
