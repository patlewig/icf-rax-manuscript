{
 "cells": [
  {
   "cell_type": "code",
   "execution_count": 1,
   "id": "0494cf06-53f8-4271-92f8-9b52f6041d0b",
   "metadata": {},
   "outputs": [],
   "source": [
    "import torch\n",
    "import matplotlib.pyplot as plt\n",
    "\n",
    "import torch\n",
    "import torch.nn.functional as F\n",
    "from torch.nn import Linear, Sequential, BatchNorm1d, ReLU, Dropout\n",
    "\n",
    "from torch_geometric.datasets import TUDataset\n",
    "from torch_geometric.loader import DataLoader\n",
    "from torch_geometric.nn import GINConv, global_add_pool\n",
    "\n",
    "dataset = TUDataset(root='data/TUDataset', name='MUTAG').shuffle()"
   ]
  },
  {
   "cell_type": "code",
   "execution_count": 2,
   "id": "f32de37f-1a0a-4789-8961-a2b3cdab16cc",
   "metadata": {},
   "outputs": [],
   "source": [
    "# Create training, validation, and test sets\n",
    "train_dataset = dataset[:int(len(dataset)*0.8)]\n",
    "val_dataset   = dataset[int(len(dataset)*0.8):int(len(dataset)*0.9)]\n",
    "test_dataset  = dataset[int(len(dataset)*0.9):]\n",
    "\n",
    "# Create mini-batches\n",
    "train_loader = DataLoader(train_dataset, batch_size=64, shuffle=True)\n",
    "val_loader   = DataLoader(val_dataset, batch_size=64, shuffle=True)\n",
    "test_loader  = DataLoader(test_dataset, batch_size=64, shuffle=True)"
   ]
  },
  {
   "cell_type": "code",
   "execution_count": 3,
   "id": "415872f5-b056-4fe3-b7a0-396d5274e922",
   "metadata": {},
   "outputs": [
    {
     "data": {
      "text/plain": [
       "Data(edge_index=[2, 46], x=[20, 7], edge_attr=[46, 4], y=[1])"
      ]
     },
     "execution_count": 3,
     "metadata": {},
     "output_type": "execute_result"
    }
   ],
   "source": [
    "train_dataset[0]"
   ]
  },
  {
   "cell_type": "code",
   "execution_count": 4,
   "id": "5f669540-4111-45b7-bac6-b854c236132e",
   "metadata": {},
   "outputs": [],
   "source": [
    "class GIN(torch.nn.Module):\n",
    "    \"\"\"GIN\"\"\"\n",
    "    def __init__(self, dim_h):\n",
    "        super(GIN, self).__init__()\n",
    "        self.conv1 = GINConv(\n",
    "            Sequential(Linear(dataset.num_node_features, dim_h),\n",
    "                       BatchNorm1d(dim_h), ReLU(),\n",
    "                       Linear(dim_h, dim_h), ReLU()))\n",
    "        self.conv2 = GINConv(\n",
    "            Sequential(Linear(dim_h, dim_h), BatchNorm1d(dim_h), ReLU(),\n",
    "                       Linear(dim_h, dim_h), ReLU()))\n",
    "        self.conv3 = GINConv(\n",
    "            Sequential(Linear(dim_h, dim_h), BatchNorm1d(dim_h), ReLU(),\n",
    "                       Linear(dim_h, dim_h), ReLU()))\n",
    "        self.lin1 = Linear(dim_h*3, dim_h*3)\n",
    "        self.lin2 = Linear(dim_h*3, dataset.num_classes)\n",
    "\n",
    "    def forward(self, x, edge_index, batch):\n",
    "        h1 = self.conv1(x, edge_index)\n",
    "        h2 = self.conv2(h1, edge_index)\n",
    "        h3 = self.conv3(h2, edge_index)\n",
    "\n",
    "        h1 = global_add_pool(h1, batch)\n",
    "        h2 = global_add_pool(h2, batch)\n",
    "        h3 = global_add_pool(h3, batch)\n",
    "\n",
    "        h = torch.cat((h1, h2, h3), dim=1)\n",
    "\n",
    "        h = self.lin1(h)\n",
    "        h = h.relu()\n",
    "        h = F.dropout(h, p=0.5, training=self.training)\n",
    "        h = self.lin2(h)\n",
    "        \n",
    "        return F.log_softmax(h, dim=1)\n"
   ]
  },
  {
   "cell_type": "code",
   "execution_count": 5,
   "id": "a9df89c3-b885-45af-9c82-470eddbc9b58",
   "metadata": {},
   "outputs": [
    {
     "name": "stdout",
     "output_type": "stream",
     "text": [
      "Epoch   0 | Train Loss: 1.14 | Train Acc: 42.52% | Val Loss: 0.66 | Val Acc: 52.63%\n",
      "Epoch  20 | Train Loss: 0.44 | Train Acc: 78.31% | Val Loss: 0.44 | Val Acc: 73.68%\n",
      "Epoch  40 | Train Loss: 0.33 | Train Acc: 83.43% | Val Loss: 0.21 | Val Acc: 94.74%\n",
      "Epoch  60 | Train Loss: 0.35 | Train Acc: 80.40% | Val Loss: 0.31 | Val Acc: 89.47%\n",
      "Epoch  80 | Train Loss: 0.30 | Train Acc: 82.58% | Val Loss: 0.19 | Val Acc: 94.74%\n",
      "Epoch 100 | Train Loss: 0.21 | Train Acc: 92.19% | Val Loss: 0.22 | Val Acc: 94.74%\n",
      "Epoch 120 | Train Loss: 0.20 | Train Acc: 88.21% | Val Loss: 0.27 | Val Acc: 84.21%\n",
      "Epoch 140 | Train Loss: 0.18 | Train Acc: 90.62% | Val Loss: 0.23 | Val Acc: 94.74%\n",
      "Epoch 160 | Train Loss: 0.24 | Train Acc: 87.64% | Val Loss: 0.38 | Val Acc: 73.68%\n",
      "Epoch 180 | Train Loss: 0.16 | Train Acc: 93.75% | Val Loss: 0.25 | Val Acc: 94.74%\n",
      "Epoch 200 | Train Loss: 0.16 | Train Acc: 93.28% | Val Loss: 0.33 | Val Acc: 89.47%\n",
      "Test Loss: 0.56 | Test Acc: 73.68%\n"
     ]
    }
   ],
   "source": [
    "model = GIN(dim_h=32)\n",
    "\n",
    "@torch.no_grad()\n",
    "def test(model, loader):\n",
    "    criterion = torch.nn.CrossEntropyLoss()\n",
    "    model.eval()\n",
    "    loss = 0\n",
    "    acc = 0\n",
    "\n",
    "    for data in loader:\n",
    "        out = model(data.x, data.edge_index, data.batch)\n",
    "        loss += criterion(out, data.y) / len(loader)\n",
    "        acc += accuracy(out.argmax(dim=1), data.y) / len(loader)\n",
    "\n",
    "    return loss, acc\n",
    "\n",
    "def accuracy(pred_y, y):\n",
    "    return ((pred_y == y).sum() / len(y)).item()\n",
    "\n",
    "criterion = torch.nn.CrossEntropyLoss()\n",
    "optimizer = torch.optim.Adam(model.parameters(), lr=0.01)\n",
    "epochs = 200\n",
    "\n",
    "model.train()\n",
    "for epoch in range(epochs+1):\n",
    "    total_loss = 0\n",
    "    acc = 0\n",
    "    val_loss = 0\n",
    "    val_acc = 0\n",
    "\n",
    "    # Train on batches\n",
    "    for data in train_loader:\n",
    "        optimizer.zero_grad()\n",
    "        out = model(data.x, data.edge_index, data.batch)\n",
    "        loss = criterion(out, data.y)\n",
    "        total_loss += loss / len(train_loader)\n",
    "        acc += accuracy(out.argmax(dim=1), data.y) / len(train_loader)\n",
    "        loss.backward()\n",
    "        optimizer.step()\n",
    "\n",
    "        # Validation\n",
    "        val_loss, val_acc = test(model, val_loader)\n",
    "\n",
    "    # Print metrics every 20 epochs\n",
    "    if(epoch % 20 == 0):\n",
    "        print(f'Epoch {epoch:>3} | Train Loss: {total_loss:.2f} | Train Acc: {acc*100:>5.2f}% | Val Loss: {val_loss:.2f} | Val Acc: {val_acc*100:.2f}%')\n",
    "\n",
    "test_loss, test_acc = test(model, test_loader)\n",
    "print(f'Test Loss: {test_loss:.2f} | Test Acc: {test_acc*100:.2f}%')"
   ]
  },
  {
   "cell_type": "code",
   "execution_count": 13,
   "id": "dd75d97d-727d-4d04-b2f7-b7394c43aa5b",
   "metadata": {},
   "outputs": [],
   "source": [
    "from torch_geometric.explain import GNNExplainer, Explainer"
   ]
  },
  {
   "cell_type": "code",
   "execution_count": null,
   "id": "843745d0-a6a6-4cca-87ca-39805d62057c",
   "metadata": {},
   "outputs": [],
   "source": []
  }
 ],
 "metadata": {
  "kernelspec": {
   "display_name": "cuda-gpt",
   "language": "python",
   "name": "cuda"
  },
  "language_info": {
   "codemirror_mode": {
    "name": "ipython",
    "version": 3
   },
   "file_extension": ".py",
   "mimetype": "text/x-python",
   "name": "python",
   "nbconvert_exporter": "python",
   "pygments_lexer": "ipython3",
   "version": "3.9.13"
  },
  "widgets": {
   "application/vnd.jupyter.widget-state+json": {
    "state": {},
    "version_major": 2,
    "version_minor": 0
   }
  }
 },
 "nbformat": 4,
 "nbformat_minor": 5
}
