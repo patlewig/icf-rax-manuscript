{
 "cells": [
  {
   "cell_type": "code",
   "execution_count": 1,
   "id": "11f50688-c0ec-461e-bbf5-51b5246076a7",
   "metadata": {},
   "outputs": [],
   "source": [
    "import matplotlib.pyplot as plt"
   ]
  },
  {
   "cell_type": "code",
   "execution_count": 2,
   "id": "795ef6b4-b697-45ca-97a0-fd5827697f39",
   "metadata": {},
   "outputs": [],
   "source": [
    "import torch"
   ]
  },
  {
   "cell_type": "code",
   "execution_count": 3,
   "id": "f06a975b-43af-43dc-b065-b56a89756eba",
   "metadata": {},
   "outputs": [],
   "source": [
    "import numpy as np\n",
    "import pandas as pd\n",
    "from rdkit import Chem\n",
    "\n",
    "import openpyxl\n",
    "import os\n",
    "from pathlib import Path"
   ]
  },
  {
   "cell_type": "code",
   "execution_count": 4,
   "id": "20a8f979-50f6-4d5b-8306-f00dea6a09f6",
   "metadata": {},
   "outputs": [],
   "source": [
    "%matplotlib inline"
   ]
  },
  {
   "cell_type": "code",
   "execution_count": 5,
   "id": "feb15c2f-ee55-40dd-806e-7b24f94180bc",
   "metadata": {},
   "outputs": [],
   "source": [
    "TOP = Path.cwd().as_posix().replace('notebooks','')\n",
    "raw_dir = Path(TOP) / 'data'/'raw'\n",
    "interim_dir = Path(TOP) / 'data'/'interim'\n",
    "external_dir = Path(TOP) / 'data'/'external'\n",
    "figures_dir = Path(TOP) / 'reports'/'figures/'\n",
    "processed_dir = Path(TOP) / 'data'/'processed'\n"
   ]
  },
  {
   "cell_type": "code",
   "execution_count": 6,
   "id": "1f02ada0-6a62-4a35-8584-a71c688c109e",
   "metadata": {},
   "outputs": [],
   "source": [
    "balanced_df = pd.read_csv(interim_dir/'balanced_df_icf_070225.csv', index_col = [0])"
   ]
  },
  {
   "cell_type": "code",
   "execution_count": 7,
   "id": "bbf00318-d444-4ef1-b8ba-f24e549648e3",
   "metadata": {},
   "outputs": [],
   "source": [
    "from sklearn.model_selection import train_test_split\n",
    "#from kennard_stone import train_test_split\n",
    "#from torch_geometric.loader import DataLoader\n",
    "#from torch.utils.data import Dataset\n"
   ]
  },
  {
   "cell_type": "code",
   "execution_count": 8,
   "id": "7cb5a0b3-3da7-433d-9c46-9c7603133b10",
   "metadata": {},
   "outputs": [
    {
     "data": {
      "text/html": [
       "<div>\n",
       "<style scoped>\n",
       "    .dataframe tbody tr th:only-of-type {\n",
       "        vertical-align: middle;\n",
       "    }\n",
       "\n",
       "    .dataframe tbody tr th {\n",
       "        vertical-align: top;\n",
       "    }\n",
       "\n",
       "    .dataframe thead th {\n",
       "        text-align: right;\n",
       "    }\n",
       "</style>\n",
       "<table border=\"1\" class=\"dataframe\">\n",
       "  <thead>\n",
       "    <tr style=\"text-align: right;\">\n",
       "      <th></th>\n",
       "      <th>index</th>\n",
       "      <th>Target</th>\n",
       "      <th>Analogue</th>\n",
       "      <th>Label</th>\n",
       "      <th>analogue_smi</th>\n",
       "      <th>target_smi</th>\n",
       "      <th>analogue_mol</th>\n",
       "      <th>target_mol</th>\n",
       "      <th>fps_target</th>\n",
       "      <th>fps_analogue</th>\n",
       "      <th>Tanimoto</th>\n",
       "    </tr>\n",
       "  </thead>\n",
       "  <tbody>\n",
       "    <tr>\n",
       "      <th>183926</th>\n",
       "      <td>302106</td>\n",
       "      <td>DTXSID6022977</td>\n",
       "      <td>DTXSID8026775</td>\n",
       "      <td>1</td>\n",
       "      <td>OC(=O)CCS</td>\n",
       "      <td>OC(=O)CN(CCN(CC(O)=O)CC(O)=O)CC(O)=O</td>\n",
       "      <td>&lt;rdkit.Chem.rdchem.Mol object at 0x7fe963298350&gt;</td>\n",
       "      <td>&lt;rdkit.Chem.rdchem.Mol object at 0x7fe96166a1f0&gt;</td>\n",
       "      <td>[0 0 0 ... 0 0 0]</td>\n",
       "      <td>[0 0 0 ... 0 0 0]</td>\n",
       "      <td>0.250000</td>\n",
       "    </tr>\n",
       "    <tr>\n",
       "      <th>28334</th>\n",
       "      <td>33987</td>\n",
       "      <td>DTXSID4039233</td>\n",
       "      <td>DTXSID9026132</td>\n",
       "      <td>1</td>\n",
       "      <td>CN1C=NC2=C1C(=O)NC(=O)N2C</td>\n",
       "      <td>CC(C)CC(=O)OCC=C</td>\n",
       "      <td>&lt;rdkit.Chem.rdchem.Mol object at 0x7fe9629ad690&gt;</td>\n",
       "      <td>&lt;rdkit.Chem.rdchem.Mol object at 0x7fe96166a260&gt;</td>\n",
       "      <td>[0 1 0 ... 0 0 0]</td>\n",
       "      <td>[0 0 0 ... 0 0 0]</td>\n",
       "      <td>0.052632</td>\n",
       "    </tr>\n",
       "    <tr>\n",
       "      <th>47880</th>\n",
       "      <td>57627</td>\n",
       "      <td>DTXSID50202931</td>\n",
       "      <td>DTXSID1064663</td>\n",
       "      <td>0</td>\n",
       "      <td>CCCC(=O)OCCCC1=CC=CC=C1</td>\n",
       "      <td>CC(C)CC(=O)OCCCC1=CC=CC=C1</td>\n",
       "      <td>&lt;rdkit.Chem.rdchem.Mol object at 0x7fe9629ac580&gt;</td>\n",
       "      <td>&lt;rdkit.Chem.rdchem.Mol object at 0x7fe96166a2d0&gt;</td>\n",
       "      <td>[0 1 0 ... 0 0 0]</td>\n",
       "      <td>[0 0 0 ... 0 0 0]</td>\n",
       "      <td>0.632653</td>\n",
       "    </tr>\n",
       "    <tr>\n",
       "      <th>150974</th>\n",
       "      <td>220926</td>\n",
       "      <td>DTXSID0020529</td>\n",
       "      <td>DTXSID4024012</td>\n",
       "      <td>1</td>\n",
       "      <td>BrC1=CC=C(Br)C=C1</td>\n",
       "      <td>CC1=C(C=C(C=C1)[N+]([O-])=O)[N+]([O-])=O</td>\n",
       "      <td>&lt;rdkit.Chem.rdchem.Mol object at 0x7fe9619b0740&gt;</td>\n",
       "      <td>&lt;rdkit.Chem.rdchem.Mol object at 0x7fe96166a340&gt;</td>\n",
       "      <td>[0 0 0 ... 0 0 0]</td>\n",
       "      <td>[0 0 0 ... 0 0 0]</td>\n",
       "      <td>0.085714</td>\n",
       "    </tr>\n",
       "    <tr>\n",
       "      <th>183544</th>\n",
       "      <td>300826</td>\n",
       "      <td>DTXSID7024320</td>\n",
       "      <td>DTXSID1026089</td>\n",
       "      <td>0</td>\n",
       "      <td>ClC1=CC(Cl)=C(Cl)C(Cl)=C1</td>\n",
       "      <td>ClC1=CC(Cl)=C(Cl)C=C1Cl</td>\n",
       "      <td>&lt;rdkit.Chem.rdchem.Mol object at 0x7fe9629ac120&gt;</td>\n",
       "      <td>&lt;rdkit.Chem.rdchem.Mol object at 0x7fe96166a3b0&gt;</td>\n",
       "      <td>[0 0 0 ... 0 0 0]</td>\n",
       "      <td>[0 0 0 ... 0 0 0]</td>\n",
       "      <td>0.300000</td>\n",
       "    </tr>\n",
       "  </tbody>\n",
       "</table>\n",
       "</div>"
      ],
      "text/plain": [
       "         index          Target       Analogue  Label  \\\n",
       "183926  302106   DTXSID6022977  DTXSID8026775      1   \n",
       "28334    33987   DTXSID4039233  DTXSID9026132      1   \n",
       "47880    57627  DTXSID50202931  DTXSID1064663      0   \n",
       "150974  220926   DTXSID0020529  DTXSID4024012      1   \n",
       "183544  300826   DTXSID7024320  DTXSID1026089      0   \n",
       "\n",
       "                     analogue_smi                                target_smi  \\\n",
       "183926                  OC(=O)CCS      OC(=O)CN(CCN(CC(O)=O)CC(O)=O)CC(O)=O   \n",
       "28334   CN1C=NC2=C1C(=O)NC(=O)N2C                          CC(C)CC(=O)OCC=C   \n",
       "47880     CCCC(=O)OCCCC1=CC=CC=C1                CC(C)CC(=O)OCCCC1=CC=CC=C1   \n",
       "150974          BrC1=CC=C(Br)C=C1  CC1=C(C=C(C=C1)[N+]([O-])=O)[N+]([O-])=O   \n",
       "183544  ClC1=CC(Cl)=C(Cl)C(Cl)=C1                   ClC1=CC(Cl)=C(Cl)C=C1Cl   \n",
       "\n",
       "                                            analogue_mol  \\\n",
       "183926  <rdkit.Chem.rdchem.Mol object at 0x7fe963298350>   \n",
       "28334   <rdkit.Chem.rdchem.Mol object at 0x7fe9629ad690>   \n",
       "47880   <rdkit.Chem.rdchem.Mol object at 0x7fe9629ac580>   \n",
       "150974  <rdkit.Chem.rdchem.Mol object at 0x7fe9619b0740>   \n",
       "183544  <rdkit.Chem.rdchem.Mol object at 0x7fe9629ac120>   \n",
       "\n",
       "                                              target_mol         fps_target  \\\n",
       "183926  <rdkit.Chem.rdchem.Mol object at 0x7fe96166a1f0>  [0 0 0 ... 0 0 0]   \n",
       "28334   <rdkit.Chem.rdchem.Mol object at 0x7fe96166a260>  [0 1 0 ... 0 0 0]   \n",
       "47880   <rdkit.Chem.rdchem.Mol object at 0x7fe96166a2d0>  [0 1 0 ... 0 0 0]   \n",
       "150974  <rdkit.Chem.rdchem.Mol object at 0x7fe96166a340>  [0 0 0 ... 0 0 0]   \n",
       "183544  <rdkit.Chem.rdchem.Mol object at 0x7fe96166a3b0>  [0 0 0 ... 0 0 0]   \n",
       "\n",
       "             fps_analogue  Tanimoto  \n",
       "183926  [0 0 0 ... 0 0 0]  0.250000  \n",
       "28334   [0 0 0 ... 0 0 0]  0.052632  \n",
       "47880   [0 0 0 ... 0 0 0]  0.632653  \n",
       "150974  [0 0 0 ... 0 0 0]  0.085714  \n",
       "183544  [0 0 0 ... 0 0 0]  0.300000  "
      ]
     },
     "execution_count": 8,
     "metadata": {},
     "output_type": "execute_result"
    }
   ],
   "source": [
    "balanced_df.head()"
   ]
  },
  {
   "cell_type": "code",
   "execution_count": 9,
   "id": "0fdf131e-50b6-4bec-bcf3-727f01a76bf2",
   "metadata": {},
   "outputs": [],
   "source": [
    "X_train, X_test, y_train, y_test  = train_test_split(balanced_df[['Target', 'Analogue','target_smi', 'analogue_smi', 'fps_target', 'fps_analogue', 'Label','Tanimoto', ]], balanced_df['Label'], stratify = balanced_df['Label'], random_state = 42,test_size=0.2)"
   ]
  },
  {
   "cell_type": "code",
   "execution_count": 10,
   "id": "170844be-be86-418f-bda2-4844159a18fd",
   "metadata": {},
   "outputs": [
    {
     "data": {
      "text/html": [
       "<div>\n",
       "<style scoped>\n",
       "    .dataframe tbody tr th:only-of-type {\n",
       "        vertical-align: middle;\n",
       "    }\n",
       "\n",
       "    .dataframe tbody tr th {\n",
       "        vertical-align: top;\n",
       "    }\n",
       "\n",
       "    .dataframe thead th {\n",
       "        text-align: right;\n",
       "    }\n",
       "</style>\n",
       "<table border=\"1\" class=\"dataframe\">\n",
       "  <thead>\n",
       "    <tr style=\"text-align: right;\">\n",
       "      <th></th>\n",
       "      <th>Target</th>\n",
       "      <th>Analogue</th>\n",
       "      <th>target_smi</th>\n",
       "      <th>analogue_smi</th>\n",
       "      <th>fps_target</th>\n",
       "      <th>fps_analogue</th>\n",
       "      <th>Label</th>\n",
       "      <th>Tanimoto</th>\n",
       "    </tr>\n",
       "  </thead>\n",
       "  <tbody>\n",
       "    <tr>\n",
       "      <th>62635</th>\n",
       "      <td>DTXSID6047604</td>\n",
       "      <td>DTXSID20202963</td>\n",
       "      <td>CCCC(=O)OCCC1=CC=CC=C1</td>\n",
       "      <td>CCCCCCC(=O)OCC1=CC=CC=C1</td>\n",
       "      <td>[0 0 0 ... 0 0 0]</td>\n",
       "      <td>[0 0 0 ... 0 0 0]</td>\n",
       "      <td>0</td>\n",
       "      <td>0.392857</td>\n",
       "    </tr>\n",
       "    <tr>\n",
       "      <th>189408</th>\n",
       "      <td>DTXSID20194995</td>\n",
       "      <td>DTXSID20215058</td>\n",
       "      <td>CCCCCCCCCC(=O)OCC1=CC=CC=C1</td>\n",
       "      <td>CCCCCCCCC(=O)OCC1=CC=CC=C1</td>\n",
       "      <td>[0 0 0 ... 0 0 0]</td>\n",
       "      <td>[0 0 0 ... 0 0 0]</td>\n",
       "      <td>0</td>\n",
       "      <td>1.000000</td>\n",
       "    </tr>\n",
       "    <tr>\n",
       "      <th>103061</th>\n",
       "      <td>DTXSID00859570</td>\n",
       "      <td>DTXSID5059329</td>\n",
       "      <td>OC1=CC2=C(CC(OC(=O)C3=CC(O)=C(O)C(O)=C3)C(O2)C...</td>\n",
       "      <td>COCCOC(=O)CCCCC(=O)OCCOC</td>\n",
       "      <td>[0 0 0 ... 0 0 0]</td>\n",
       "      <td>[0 0 0 ... 0 0 0]</td>\n",
       "      <td>1</td>\n",
       "      <td>0.050633</td>\n",
       "    </tr>\n",
       "    <tr>\n",
       "      <th>206340</th>\n",
       "      <td>Pubchem_102283665</td>\n",
       "      <td>DTXSID1064663</td>\n",
       "      <td>CCCCCCCCCC(=O)OCCCC1=CC=CC=C1</td>\n",
       "      <td>CCCC(=O)OCCCC1=CC=CC=C1</td>\n",
       "      <td>[0 0 0 ... 0 0 0]</td>\n",
       "      <td>[0 0 0 ... 0 0 0]</td>\n",
       "      <td>0</td>\n",
       "      <td>0.692308</td>\n",
       "    </tr>\n",
       "    <tr>\n",
       "      <th>8509</th>\n",
       "      <td>DTXSID2022333</td>\n",
       "      <td>DTXSID5042299</td>\n",
       "      <td>CCC(C)C1=CC=CC=C1</td>\n",
       "      <td>CC(C)C1=CC=C(O)C=C1</td>\n",
       "      <td>[0 1 0 ... 0 0 0]</td>\n",
       "      <td>[0 1 0 ... 0 0 0]</td>\n",
       "      <td>1</td>\n",
       "      <td>0.194444</td>\n",
       "    </tr>\n",
       "    <tr>\n",
       "      <th>...</th>\n",
       "      <td>...</td>\n",
       "      <td>...</td>\n",
       "      <td>...</td>\n",
       "      <td>...</td>\n",
       "      <td>...</td>\n",
       "      <td>...</td>\n",
       "      <td>...</td>\n",
       "      <td>...</td>\n",
       "    </tr>\n",
       "    <tr>\n",
       "      <th>13805</th>\n",
       "      <td>DTXSID0029711</td>\n",
       "      <td>DTXSID5026413</td>\n",
       "      <td>Cl[Si](Cl)(Cl)Cl</td>\n",
       "      <td>C[SiH](Cl)Cl</td>\n",
       "      <td>[0 0 0 ... 0 0 0]</td>\n",
       "      <td>[0 0 0 ... 0 0 0]</td>\n",
       "      <td>0</td>\n",
       "      <td>0.111111</td>\n",
       "    </tr>\n",
       "    <tr>\n",
       "      <th>45523</th>\n",
       "      <td>DTXSID60206647</td>\n",
       "      <td>Pubchem_102283661</td>\n",
       "      <td>CCCCCCCCC(=O)OCCC1=CC=CC=C1</td>\n",
       "      <td>CCCCCCCCC(=O)OCCCC1=CC=CC=C1</td>\n",
       "      <td>[0 0 0 ... 0 0 0]</td>\n",
       "      <td>[0 0 0 ... 0 0 0]</td>\n",
       "      <td>0</td>\n",
       "      <td>0.740741</td>\n",
       "    </tr>\n",
       "    <tr>\n",
       "      <th>202249</th>\n",
       "      <td>DTXSID7021520</td>\n",
       "      <td>DTXSID00885379</td>\n",
       "      <td>CCCCOCCOCCOCCO</td>\n",
       "      <td>CCC(C)CNCC(C)CC</td>\n",
       "      <td>[0 0 0 ... 0 0 0]</td>\n",
       "      <td>[0 1 0 ... 0 0 0]</td>\n",
       "      <td>1</td>\n",
       "      <td>0.078947</td>\n",
       "    </tr>\n",
       "    <tr>\n",
       "      <th>151385</th>\n",
       "      <td>DTXSID7027596</td>\n",
       "      <td>DTXSID90884871</td>\n",
       "      <td>COCCCN</td>\n",
       "      <td>CC1=CC=C(C=C1)S(O)(=O)=O</td>\n",
       "      <td>[0 0 0 ... 0 0 0]</td>\n",
       "      <td>[0 0 0 ... 0 0 0]</td>\n",
       "      <td>1</td>\n",
       "      <td>0.027778</td>\n",
       "    </tr>\n",
       "    <tr>\n",
       "      <th>210653</th>\n",
       "      <td>DTXSID4063909</td>\n",
       "      <td>DTXSID80210807</td>\n",
       "      <td>CCCCCCCC(=O)OCCC1=CC=CC=C1</td>\n",
       "      <td>CCCCCCCCCC(=O)OCCC1=CC=CC=C1</td>\n",
       "      <td>[0 0 0 ... 0 0 0]</td>\n",
       "      <td>[0 0 0 ... 0 0 0]</td>\n",
       "      <td>0</td>\n",
       "      <td>0.978261</td>\n",
       "    </tr>\n",
       "  </tbody>\n",
       "</table>\n",
       "<p>5054 rows × 8 columns</p>\n",
       "</div>"
      ],
      "text/plain": [
       "                   Target           Analogue  \\\n",
       "62635       DTXSID6047604     DTXSID20202963   \n",
       "189408     DTXSID20194995     DTXSID20215058   \n",
       "103061     DTXSID00859570      DTXSID5059329   \n",
       "206340  Pubchem_102283665      DTXSID1064663   \n",
       "8509        DTXSID2022333      DTXSID5042299   \n",
       "...                   ...                ...   \n",
       "13805       DTXSID0029711      DTXSID5026413   \n",
       "45523      DTXSID60206647  Pubchem_102283661   \n",
       "202249      DTXSID7021520     DTXSID00885379   \n",
       "151385      DTXSID7027596     DTXSID90884871   \n",
       "210653      DTXSID4063909     DTXSID80210807   \n",
       "\n",
       "                                               target_smi  \\\n",
       "62635                              CCCC(=O)OCCC1=CC=CC=C1   \n",
       "189408                        CCCCCCCCCC(=O)OCC1=CC=CC=C1   \n",
       "103061  OC1=CC2=C(CC(OC(=O)C3=CC(O)=C(O)C(O)=C3)C(O2)C...   \n",
       "206340                      CCCCCCCCCC(=O)OCCCC1=CC=CC=C1   \n",
       "8509                                    CCC(C)C1=CC=CC=C1   \n",
       "...                                                   ...   \n",
       "13805                                    Cl[Si](Cl)(Cl)Cl   \n",
       "45523                         CCCCCCCCC(=O)OCCC1=CC=CC=C1   \n",
       "202249                                     CCCCOCCOCCOCCO   \n",
       "151385                                             COCCCN   \n",
       "210653                         CCCCCCCC(=O)OCCC1=CC=CC=C1   \n",
       "\n",
       "                        analogue_smi         fps_target       fps_analogue  \\\n",
       "62635       CCCCCCC(=O)OCC1=CC=CC=C1  [0 0 0 ... 0 0 0]  [0 0 0 ... 0 0 0]   \n",
       "189408    CCCCCCCCC(=O)OCC1=CC=CC=C1  [0 0 0 ... 0 0 0]  [0 0 0 ... 0 0 0]   \n",
       "103061      COCCOC(=O)CCCCC(=O)OCCOC  [0 0 0 ... 0 0 0]  [0 0 0 ... 0 0 0]   \n",
       "206340       CCCC(=O)OCCCC1=CC=CC=C1  [0 0 0 ... 0 0 0]  [0 0 0 ... 0 0 0]   \n",
       "8509             CC(C)C1=CC=C(O)C=C1  [0 1 0 ... 0 0 0]  [0 1 0 ... 0 0 0]   \n",
       "...                              ...                ...                ...   \n",
       "13805                   C[SiH](Cl)Cl  [0 0 0 ... 0 0 0]  [0 0 0 ... 0 0 0]   \n",
       "45523   CCCCCCCCC(=O)OCCCC1=CC=CC=C1  [0 0 0 ... 0 0 0]  [0 0 0 ... 0 0 0]   \n",
       "202249               CCC(C)CNCC(C)CC  [0 0 0 ... 0 0 0]  [0 1 0 ... 0 0 0]   \n",
       "151385      CC1=CC=C(C=C1)S(O)(=O)=O  [0 0 0 ... 0 0 0]  [0 0 0 ... 0 0 0]   \n",
       "210653  CCCCCCCCCC(=O)OCCC1=CC=CC=C1  [0 0 0 ... 0 0 0]  [0 0 0 ... 0 0 0]   \n",
       "\n",
       "        Label  Tanimoto  \n",
       "62635       0  0.392857  \n",
       "189408      0  1.000000  \n",
       "103061      1  0.050633  \n",
       "206340      0  0.692308  \n",
       "8509        1  0.194444  \n",
       "...       ...       ...  \n",
       "13805       0  0.111111  \n",
       "45523       0  0.740741  \n",
       "202249      1  0.078947  \n",
       "151385      1  0.027778  \n",
       "210653      0  0.978261  \n",
       "\n",
       "[5054 rows x 8 columns]"
      ]
     },
     "execution_count": 10,
     "metadata": {},
     "output_type": "execute_result"
    }
   ],
   "source": [
    "X_train"
   ]
  },
  {
   "cell_type": "code",
   "execution_count": 11,
   "id": "7c586a03-9809-4a52-9725-7f81edb6220d",
   "metadata": {},
   "outputs": [],
   "source": [
    "# Now, split the remaining 20% into 10% validation and 10% test\n",
    "val_data, test_data = train_test_split(X_test, stratify =X_test['Label'], test_size=0.5, random_state=42)"
   ]
  },
  {
   "cell_type": "code",
   "execution_count": 12,
   "id": "0fc1268f-a329-4447-9f8d-0c14aaae9c17",
   "metadata": {},
   "outputs": [
    {
     "data": {
      "text/plain": [
       "Label\n",
       "0    2527\n",
       "1    2527\n",
       "Name: count, dtype: int64"
      ]
     },
     "execution_count": 12,
     "metadata": {},
     "output_type": "execute_result"
    }
   ],
   "source": [
    "y_train.value_counts(normalize = False)"
   ]
  },
  {
   "cell_type": "code",
   "execution_count": 13,
   "id": "7c32dcb3-16c0-4c08-be4e-def502f717d4",
   "metadata": {},
   "outputs": [
    {
     "data": {
      "text/plain": [
       "Label\n",
       "0    632\n",
       "1    632\n",
       "Name: count, dtype: int64"
      ]
     },
     "execution_count": 13,
     "metadata": {},
     "output_type": "execute_result"
    }
   ],
   "source": [
    "y_test.value_counts(normalize = False)"
   ]
  },
  {
   "cell_type": "code",
   "execution_count": 14,
   "id": "9adb08ed-df9d-430e-8a48-f0789eb81e96",
   "metadata": {},
   "outputs": [],
   "source": [
    "import torch.nn as nn\n",
    "from torch.utils.data import DataLoader, Dataset\n",
    "#import torch\n",
    "import torch.optim as optim"
   ]
  },
  {
   "cell_type": "code",
   "execution_count": 15,
   "id": "3e1ac0e1-c487-4626-ac36-aa22392a03f0",
   "metadata": {},
   "outputs": [
    {
     "name": "stdout",
     "output_type": "stream",
     "text": [
      "True\n",
      "1\n",
      "NVIDIA GeForce RTX 4070 SUPER\n",
      "0\n"
     ]
    }
   ],
   "source": [
    "import torch\n",
    "print(torch.cuda.is_available())  # Should return True\n",
    "print(torch.cuda.device_count())  # Should be > 0\n",
    "print(torch.cuda.get_device_name(0))  # Should print your GPU model\n",
    "print(torch.cuda.current_device())  # Should print 0 (or another valid device ID)\n",
    "\n"
   ]
  },
  {
   "cell_type": "code",
   "execution_count": 16,
   "id": "b4206874-e7f5-4a60-ad55-ed89be8c1631",
   "metadata": {},
   "outputs": [],
   "source": [
    "device = torch.device(\"cuda:0\" if torch.cuda.is_available() else \"cpu\")"
   ]
  },
  {
   "cell_type": "code",
   "execution_count": 17,
   "id": "5740f42e-b2a1-4568-96d3-5e2f8bf45b16",
   "metadata": {},
   "outputs": [
    {
     "data": {
      "text/plain": [
       "device(type='cuda', index=0)"
      ]
     },
     "execution_count": 17,
     "metadata": {},
     "output_type": "execute_result"
    }
   ],
   "source": [
    "device"
   ]
  },
  {
   "cell_type": "code",
   "execution_count": 18,
   "id": "398bab8c-e034-452d-ada1-7b0fc42d24cc",
   "metadata": {},
   "outputs": [
    {
     "name": "stdout",
     "output_type": "stream",
     "text": [
      "cuda\n"
     ]
    }
   ],
   "source": [
    "device = torch.device(\"cuda\" if torch.cuda.is_available() else \"cpu\")\n",
    "print(device)"
   ]
  },
  {
   "cell_type": "markdown",
   "id": "bda912b6-5f00-4aa9-9b41-53b48f926209",
   "metadata": {},
   "source": [
    "## GraphBased Networks"
   ]
  },
  {
   "cell_type": "code",
   "execution_count": 19,
   "id": "638fddaa-2129-4911-8c6e-da4c3307290c",
   "metadata": {},
   "outputs": [],
   "source": [
    "from torch.nn import Linear, Sequential, BatchNorm1d, ReLU, Dropout\n",
    "import torch.nn.functional as F\n",
    "from torch_geometric.nn import GCNConv, GINConv\n",
    "from torch_geometric.nn import global_mean_pool, global_add_pool\n",
    "from torch_geometric.data import Data, Dataset, DataLoader"
   ]
  },
  {
   "cell_type": "code",
   "execution_count": 20,
   "id": "86db2008-ca2e-4c84-8e8b-68b5a69bdd70",
   "metadata": {},
   "outputs": [],
   "source": [
    "def mol_to_graph(mol):\n",
    "        \"\"\"\n",
    "        Converts an RDKit mol object into a graph representation with atom and bond features.\n",
    "        \n",
    "        :param mol: RDKit mol object representing a molecule.\n",
    "        :return: PyTorch Geometric Data object containing graph representation of the molecule.\n",
    "        \"\"\"\n",
    "        atom_features = []\n",
    "        bond_features = []\n",
    "        edge_index = []\n",
    "        \n",
    "        # Atom feature extraction\n",
    "        for atom in mol.GetAtoms():\n",
    "            atom_feature = [\n",
    "                atom.GetAtomicNum(),                         # Atomic number\n",
    "                atom.GetFormalCharge(),                      # Formal charge\n",
    "                atom.GetHybridization().real,                # Hybridization\n",
    "                atom.GetIsAromatic(),                        # Aromaticity\n",
    "                atom.GetImplicitValence(),                   # Implicit valence\n",
    "                atom.GetDegree(),                            # Number of bonds to other atoms\n",
    "                atom.IsInRing(),                             # Is in ring\n",
    "                atom.GetChiralTag(),                         # Chirality\n",
    "                atom.GetExplicitValence(),                   # Explicit valence\n",
    "                atom.GetNumRadicalElectrons(),               # Number of radical electrons\n",
    "                atom.GetTotalNumHs(),                        # Total number of hydrogens\n",
    "                atom.GetIsotope(),                           # Isotope (if any)\n",
    "                atom.GetMass()                               # Atomic mass\n",
    "            ]\n",
    "            atom_features.append(atom_feature)\n",
    "        \n",
    "        # Bond feature extraction\n",
    "        for bond in mol.GetBonds():\n",
    "            i = bond.GetBeginAtomIdx()\n",
    "            j = bond.GetEndAtomIdx()\n",
    "            edge_index.extend([[i, j], [j, i]])  # Add bidirectional edges\n",
    "            \n",
    "            bond_feature = [\n",
    "                bond.GetBondTypeAsDouble(),                  # Bond type (single, double, triple, aromatic)\n",
    "                bond.GetIsConjugated(),                      # Is conjugated\n",
    "                bond.IsInRing(),                             # Is in ring\n",
    "                bond.GetStereo(),                            # Bond stereochemistry (cis/trans)\n",
    "                bond.GetBondDir()                            # Bond direction (up/down in 3D)\n",
    "            ]\n",
    "            bond_features.extend([bond_feature, bond_feature])  # Add twice for bidirectional edges\n",
    "        \n",
    "        # Convert to tensors\n",
    "        x = torch.tensor(atom_features, dtype=torch.float)\n",
    "        edge_index = torch.tensor(edge_index, dtype=torch.long).t().contiguous()\n",
    "        edge_attr = torch.tensor(bond_features, dtype=torch.float)\n",
    "        \n",
    "        return Data(x=x, edge_index=edge_index, edge_attr=edge_attr)\n",
    "  "
   ]
  },
  {
   "cell_type": "code",
   "execution_count": 21,
   "id": "bbee2110-ff3c-411e-949c-813444db5cf3",
   "metadata": {},
   "outputs": [
    {
     "data": {
      "text/html": [
       "<div>\n",
       "<style scoped>\n",
       "    .dataframe tbody tr th:only-of-type {\n",
       "        vertical-align: middle;\n",
       "    }\n",
       "\n",
       "    .dataframe tbody tr th {\n",
       "        vertical-align: top;\n",
       "    }\n",
       "\n",
       "    .dataframe thead th {\n",
       "        text-align: right;\n",
       "    }\n",
       "</style>\n",
       "<table border=\"1\" class=\"dataframe\">\n",
       "  <thead>\n",
       "    <tr style=\"text-align: right;\">\n",
       "      <th></th>\n",
       "      <th>Target</th>\n",
       "      <th>Analogue</th>\n",
       "      <th>target_smi</th>\n",
       "      <th>analogue_smi</th>\n",
       "      <th>fps_target</th>\n",
       "      <th>fps_analogue</th>\n",
       "      <th>Label</th>\n",
       "      <th>Tanimoto</th>\n",
       "    </tr>\n",
       "  </thead>\n",
       "  <tbody>\n",
       "    <tr>\n",
       "      <th>62635</th>\n",
       "      <td>DTXSID6047604</td>\n",
       "      <td>DTXSID20202963</td>\n",
       "      <td>CCCC(=O)OCCC1=CC=CC=C1</td>\n",
       "      <td>CCCCCCC(=O)OCC1=CC=CC=C1</td>\n",
       "      <td>[0 0 0 ... 0 0 0]</td>\n",
       "      <td>[0 0 0 ... 0 0 0]</td>\n",
       "      <td>0</td>\n",
       "      <td>0.392857</td>\n",
       "    </tr>\n",
       "  </tbody>\n",
       "</table>\n",
       "</div>"
      ],
      "text/plain": [
       "              Target        Analogue              target_smi  \\\n",
       "62635  DTXSID6047604  DTXSID20202963  CCCC(=O)OCCC1=CC=CC=C1   \n",
       "\n",
       "                   analogue_smi         fps_target       fps_analogue  Label  \\\n",
       "62635  CCCCCCC(=O)OCC1=CC=CC=C1  [0 0 0 ... 0 0 0]  [0 0 0 ... 0 0 0]      0   \n",
       "\n",
       "       Tanimoto  \n",
       "62635  0.392857  "
      ]
     },
     "execution_count": 21,
     "metadata": {},
     "output_type": "execute_result"
    }
   ],
   "source": [
    "X_train.head(1)"
   ]
  },
  {
   "cell_type": "code",
   "execution_count": 22,
   "id": "b1a04114-20c8-425d-a1bc-40d49e428310",
   "metadata": {},
   "outputs": [],
   "source": [
    "class GraphData(Dataset):\n",
    "    def __init__(self, df):\n",
    "        \"\"\"\n",
    "        GraphData class inheriting from the Dataset class in PyTorch.\n",
    "\n",
    "        Parameters\n",
    "        ----------\n",
    "    \n",
    "        node_vec_len : int\n",
    "            Node vector length of molecular graphs\n",
    "        max_atoms : int\n",
    "            Maximum number of atoms in molecular graphs\n",
    "        \"\"\"\n",
    "        self.df = df\n",
    "\n",
    "        # Create lists\n",
    "        #self.indices = df.index.to_list()\n",
    "        #self.smiles = df[\"smiles\"].to_list()\n",
    "        #self.outputs = df[\"measured log solubility in mols per litre\"].to_list()\n",
    "\n",
    "    def __len__(self):\n",
    "        return len(self.df)\n",
    "\n",
    "    def __getitem__(self, idx):\n",
    "        \n",
    "        \"\"\"\n",
    "        Returns node matrix, adjacency matrix, output, and SMILES string of\n",
    "        molecule.\n",
    "\n",
    "        Parameters\n",
    "        ----------\n",
    "        i : int\n",
    "            Dataset index\n",
    "\n",
    "        Returns\n",
    "        -------\n",
    "        node_mat : torch.Tensor with dimension (max_atoms,node_vec_len)\n",
    "            Node matrix\n",
    "        adj_mat: torch.Tensor with dimension (max_atoms,max_atoms)\n",
    "            Adjacency matrix\n",
    "        output : torch.Tensor with dimension n_outputs\n",
    "            Output vector\n",
    "        smile : str\n",
    "            SMILES string of molecule\n",
    "        \"\"\"\n",
    "        \n",
    "        row = self.df.iloc[idx]\n",
    "        target_mol = Chem.MolFromSmiles(row['target_smi'])\n",
    "        analogue_mol =Chem.MolFromSmiles(row['analogue_smi'])\n",
    "        target = mol_to_graph(target_mol)\n",
    "        analogue = mol_to_graph(analogue_mol)\n",
    "\n",
    "\n",
    "        # Get output\n",
    "        label = torch.tensor(row['Label'], dtype=torch.long)\n",
    "\n",
    "        return target, analogue, label\n",
    "\n",
    "   "
   ]
  },
  {
   "cell_type": "code",
   "execution_count": 23,
   "id": "9f1106c4-04da-4eef-9b42-a7855b2cfbb3",
   "metadata": {},
   "outputs": [],
   "source": [
    "train_data = GraphData(X_train)"
   ]
  },
  {
   "cell_type": "code",
   "execution_count": 24,
   "id": "c07ac034-85c0-4d12-85b4-b2ac9842151c",
   "metadata": {},
   "outputs": [],
   "source": [
    "val_data = GraphData(val_data)"
   ]
  },
  {
   "cell_type": "code",
   "execution_count": 25,
   "id": "64d6150a-1f1b-433b-bf66-9fc7d6c07e8f",
   "metadata": {},
   "outputs": [],
   "source": [
    "test_data = GraphData(test_data)"
   ]
  },
  {
   "cell_type": "code",
   "execution_count": 26,
   "id": "9d432c51-dd7b-4645-aba9-e33fb4edb5cf",
   "metadata": {},
   "outputs": [
    {
     "data": {
      "text/plain": [
       "13"
      ]
     },
     "execution_count": 26,
     "metadata": {},
     "output_type": "execute_result"
    }
   ],
   "source": [
    "test_data[0][0].num_features"
   ]
  },
  {
   "cell_type": "code",
   "execution_count": 27,
   "id": "e8914403-aa91-4e24-9d9c-dae3e11c7f0e",
   "metadata": {},
   "outputs": [],
   "source": [
    "class GIN(torch.nn.Module):\n",
    "    \"\"\"GIN\"\"\"\n",
    "    def __init__(self, dim_h):\n",
    "        super(GIN, self).__init__()\n",
    "        self.conv1 = GINConv(\n",
    "            Sequential(Linear(13, dim_h),\n",
    "                       BatchNorm1d(dim_h), ReLU(),\n",
    "                       Linear(dim_h, dim_h), ReLU()))\n",
    "        self.conv2 = GINConv(\n",
    "            Sequential(Linear(dim_h, dim_h), BatchNorm1d(dim_h), ReLU(),\n",
    "                       Linear(dim_h, dim_h), ReLU()))\n",
    "        self.conv3 = GINConv(\n",
    "            Sequential(Linear(dim_h, dim_h), BatchNorm1d(dim_h), ReLU(),\n",
    "                       Linear(dim_h, dim_h), ReLU()))\n",
    "        self.lin1 = Linear(dim_h*3, dim_h*3)\n",
    "        #self.lin2 = Linear(dim_h*3, 1)\n",
    "\n",
    "    def forward_once(self, data, batch=torch.tensor([0])):\n",
    "        x, edge_index = data.x, data.edge_index\n",
    "        # Node embeddings \n",
    "        batch = batch.to(x.device)\n",
    "        h1 = self.conv1(x, edge_index)\n",
    "        h2 = self.conv2(h1, edge_index)\n",
    "        h3 = self.conv3(h2, edge_index)\n",
    "\n",
    "        # Graph-level readout\n",
    "        h1 = global_mean_pool(h1, batch)\n",
    "        h2 = global_mean_pool(h2, batch)\n",
    "        h3 = global_mean_pool(h3, batch)\n",
    "\n",
    "        # Concatenate graph embeddings\n",
    "        h = torch.cat((h1, h2, h3), dim=1)\n",
    "\n",
    "        # Classifier\n",
    "        #h = self.lin1(h)\n",
    "        #h = h.relu()\n",
    "        #h = F.dropout(h, p=0.5, training=self.training)\n",
    "        #h = self.lin2(h)\n",
    "        \n",
    "        return h\n",
    "       \n",
    "        \n",
    "    def forward(self, input1, input2):\n",
    "       \n",
    "        output1 = self.forward_once(input1)\n",
    "        output2 = self.forward_once(input2)\n",
    "\n",
    "        return output1, output2\n",
    "    \n",
    "    "
   ]
  },
  {
   "cell_type": "code",
   "execution_count": 28,
   "id": "80ccd186-ab3e-4977-a79f-17b4558efc1c",
   "metadata": {},
   "outputs": [],
   "source": [
    "gin = GIN(dim_h=32).to(device)\n"
   ]
  },
  {
   "cell_type": "code",
   "execution_count": 29,
   "id": "36efdf70-d193-45bc-a8ca-c3aa5aacb95f",
   "metadata": {},
   "outputs": [],
   "source": [
    "def normalize_embeddings(embeddings):\n",
    "    return embeddings / embeddings.norm(p=2, dim=1, keepdim=True)"
   ]
  },
  {
   "cell_type": "code",
   "execution_count": 30,
   "id": "e0cffdcb-c8f0-4d7a-a19d-efa7d3590376",
   "metadata": {},
   "outputs": [],
   "source": [
    "from torch_geometric.data import DataLoader"
   ]
  },
  {
   "cell_type": "code",
   "execution_count": 31,
   "id": "7dc6b6af-0404-4f82-a1d7-690881067552",
   "metadata": {},
   "outputs": [],
   "source": [
    "def compute_ginaccuracy(model, dataloader, margin=1.0):\n",
    "    model.eval()\n",
    "    correct = 0\n",
    "    total = 0\n",
    "    all_predictions = []\n",
    "    all_labels = []\n",
    "    \n",
    "\n",
    "    with torch.no_grad():\n",
    "        for data in dataloader:\n",
    "            input1, input2, label = data\n",
    "            input1, input2, label= input1.to(device), input2.to(device), label.to(device)\n",
    "            output1, output2 = model(input1, input2)\n",
    "            # Normalize embeddings\n",
    "            output1 = normalize_embeddings(output1)\n",
    "            output2 = normalize_embeddings(output2)\n",
    "\n",
    "            \n",
    "            distances = torch.nn.functional.pairwise_distance(output1, output2)\n",
    "            \n",
    "\n",
    "            # Use the margin as the decision boundary\n",
    "            predictions = (distances > margin).long()  # Dissimilar if distance > margin\n",
    "            correct += (predictions == label).sum().item()\n",
    "            total += label.size(0)\n",
    "            all_predictions.extend(predictions.cpu().numpy())\n",
    "            all_labels.extend(label.cpu().numpy())\n",
    "            \n",
    "            \n",
    "\n",
    "    accuracy = correct / total\n",
    "    print(f\"Accuracy: {accuracy:.4f}\")\n",
    "    return accuracy, all_predictions, all_labels"
   ]
  },
  {
   "cell_type": "code",
   "execution_count": 32,
   "id": "5d700838-f9bf-423d-869f-59be611e15b1",
   "metadata": {},
   "outputs": [],
   "source": [
    "from torch_geometric.nn.models import GAT, GIN\n",
    "from torch_geometric.nn import global_mean_pool, global_add_pool, global_max_pool\n"
   ]
  },
  {
   "cell_type": "code",
   "execution_count": 33,
   "id": "a790ab51-d781-4925-bc1a-2cf4de6f31a7",
   "metadata": {},
   "outputs": [],
   "source": [
    "class ContrastiveLoss(torch.nn.Module):\n",
    "    def __init__(self, margin=2.0):\n",
    "        super(ContrastiveLoss, self).__init__()\n",
    "        self.margin = margin\n",
    "\n",
    "    def forward(self, output1, output2, label):\n",
    "        # Euclidean distance between the embeddings\n",
    "        euclidean_distance = F.pairwise_distance(output1, output2, keepdim = True)\n",
    "\n",
    "        # Contrastive loss formula\n",
    "        contrastive_loss = torch.mean((1 - label) * torch.pow(euclidean_distance, 2) +\n",
    "                                      (label) * torch.pow(torch.clamp(self.margin - euclidean_distance, min=0.0), 2))\n",
    "\n",
    "        return contrastive_loss"
   ]
  },
  {
   "cell_type": "code",
   "execution_count": 34,
   "id": "a5980e0f-1e50-4027-9152-d0acccdbbbb0",
   "metadata": {},
   "outputs": [],
   "source": [
    "criterion = ContrastiveLoss()\n",
    "#optimizer = torch.optim.SGD(params=gin.parameters(), lr=0.005)\n",
    "\n",
    "optimizer = torch.optim.Adam(gin.parameters(), lr=0.0005)"
   ]
  },
  {
   "cell_type": "code",
   "execution_count": 35,
   "id": "4355b1d5-8aab-498e-8ea3-336c17d93134",
   "metadata": {},
   "outputs": [
    {
     "name": "stderr",
     "output_type": "stream",
     "text": [
      "/home/grace/miniforge3/envs/pytorch_cuda126/lib/python3.11/site-packages/torch_geometric/deprecation.py:26: UserWarning: 'data.DataLoader' is deprecated, use 'loader.DataLoader' instead\n",
      "  warnings.warn(out)\n"
     ]
    }
   ],
   "source": [
    "train_loader = DataLoader(train_data, batch_size=100, shuffle=True, drop_last=True)"
   ]
  },
  {
   "cell_type": "code",
   "execution_count": 36,
   "id": "a7ab23d6-19f9-4883-9d9a-8be47f54a912",
   "metadata": {},
   "outputs": [
    {
     "data": {
      "text/plain": [
       "(Data(x=[14, 13], edge_index=[2, 28], edge_attr=[28, 5]),\n",
       " Data(x=[16, 13], edge_index=[2, 32], edge_attr=[32, 5]),\n",
       " tensor(0))"
      ]
     },
     "execution_count": 36,
     "metadata": {},
     "output_type": "execute_result"
    }
   ],
   "source": [
    "train_data[0]"
   ]
  },
  {
   "cell_type": "code",
   "execution_count": 37,
   "id": "dd4d64ca-515a-4c77-91d5-e9d56baa908f",
   "metadata": {},
   "outputs": [],
   "source": [
    "test_loader = DataLoader(test_data, batch_size=100, shuffle=False, drop_last=True)"
   ]
  },
  {
   "cell_type": "code",
   "execution_count": 38,
   "id": "fe85bc43-f911-4a4c-9802-47f6b26619d6",
   "metadata": {},
   "outputs": [],
   "source": [
    "val_loader = DataLoader(val_data, batch_size=100, shuffle=False, drop_last=True)"
   ]
  },
  {
   "cell_type": "code",
   "execution_count": 39,
   "id": "0a2dc68f-6a36-4aa1-98cb-2e8ab2c398de",
   "metadata": {},
   "outputs": [
    {
     "name": "stdout",
     "output_type": "stream",
     "text": [
      "[DataBatch(x=[1386, 13], edge_index=[2, 2724], edge_attr=[2724, 5], batch=[1386], ptr=[101]), DataBatch(x=[1354, 13], edge_index=[2, 2670], edge_attr=[2670, 5], batch=[1354], ptr=[101]), tensor([1, 0, 1, 1, 0, 1, 0, 0, 1, 0, 0, 1, 0, 0, 1, 1, 1, 0, 0, 0, 0, 1, 1, 1,\n",
      "        0, 1, 0, 0, 1, 0, 1, 1, 1, 1, 1, 0, 0, 0, 0, 0, 1, 0, 1, 1, 0, 0, 0, 0,\n",
      "        1, 0, 1, 1, 0, 1, 1, 1, 1, 1, 0, 0, 1, 0, 0, 0, 1, 0, 0, 1, 0, 1, 1, 0,\n",
      "        1, 1, 1, 1, 1, 0, 1, 0, 0, 0, 1, 1, 1, 1, 0, 1, 1, 1, 1, 1, 1, 1, 0, 1,\n",
      "        1, 0, 0, 1])]\n"
     ]
    }
   ],
   "source": [
    "for data in train_loader:\n",
    "    print(data)\n",
    "    break"
   ]
  },
  {
   "cell_type": "code",
   "execution_count": 40,
   "id": "435daa2a-ab2d-420b-85ee-cfcc81a045d4",
   "metadata": {},
   "outputs": [
    {
     "data": {
      "text/plain": [
       "device(type='cuda')"
      ]
     },
     "execution_count": 40,
     "metadata": {},
     "output_type": "execute_result"
    }
   ],
   "source": [
    "device"
   ]
  },
  {
   "cell_type": "code",
   "execution_count": 41,
   "id": "6ae7f87c-7b84-4d63-8ea5-35f1d169f5c9",
   "metadata": {},
   "outputs": [],
   "source": [
    "import copy"
   ]
  },
  {
   "cell_type": "code",
   "execution_count": 42,
   "id": "f934863f-b30d-4008-8c06-fd763ad8c753",
   "metadata": {},
   "outputs": [
    {
     "name": "stdout",
     "output_type": "stream",
     "text": [
      "Accuracy: 0.5008\n",
      "Accuracy: 0.4950\n",
      "Epoch 1, Loss: 1.8195, Train Accuracy: 0.5008, Test Accuracy: 0.4950\n",
      "Accuracy: 0.5020\n",
      "Accuracy: 0.4950\n",
      "Epoch 2, Loss: 1.5525, Train Accuracy: 0.5020, Test Accuracy: 0.4950\n",
      "Accuracy: 0.4996\n",
      "Accuracy: 0.4950\n",
      "Epoch 3, Loss: 1.4585, Train Accuracy: 0.4996, Test Accuracy: 0.4950\n",
      "Accuracy: 0.4998\n",
      "Accuracy: 0.4950\n",
      "Epoch 4, Loss: 1.3856, Train Accuracy: 0.4998, Test Accuracy: 0.4950\n",
      "Accuracy: 0.4996\n",
      "Accuracy: 0.4950\n",
      "Epoch 5, Loss: 1.4098, Train Accuracy: 0.4996, Test Accuracy: 0.4950\n",
      "Accuracy: 0.4998\n",
      "Accuracy: 0.4950\n",
      "Epoch 6, Loss: 1.2765, Train Accuracy: 0.4998, Test Accuracy: 0.4950\n",
      "Accuracy: 0.5000\n",
      "Accuracy: 0.4950\n",
      "Epoch 7, Loss: 1.3549, Train Accuracy: 0.5000, Test Accuracy: 0.4950\n",
      "Accuracy: 0.5000\n",
      "Accuracy: 0.4950\n",
      "Epoch 8, Loss: 1.2395, Train Accuracy: 0.5000, Test Accuracy: 0.4950\n",
      "Accuracy: 0.4998\n",
      "Accuracy: 0.4950\n",
      "Epoch 9, Loss: 1.2834, Train Accuracy: 0.4998, Test Accuracy: 0.4950\n",
      "Accuracy: 0.4990\n",
      "Accuracy: 0.4950\n",
      "Epoch 10, Loss: 1.2264, Train Accuracy: 0.4990, Test Accuracy: 0.4950\n",
      "Accuracy: 0.5006\n",
      "Accuracy: 0.4950\n",
      "Epoch 11, Loss: 1.1616, Train Accuracy: 0.5006, Test Accuracy: 0.4950\n",
      "Accuracy: 0.5004\n",
      "Accuracy: 0.4950\n",
      "Epoch 12, Loss: 1.2147, Train Accuracy: 0.5004, Test Accuracy: 0.4950\n",
      "Accuracy: 0.5004\n",
      "Accuracy: 0.4950\n",
      "Epoch 13, Loss: 1.1067, Train Accuracy: 0.5004, Test Accuracy: 0.4950\n",
      "Accuracy: 0.4990\n",
      "Accuracy: 0.4950\n",
      "Epoch 14, Loss: 1.1708, Train Accuracy: 0.4990, Test Accuracy: 0.4950\n",
      "Accuracy: 0.5016\n",
      "Accuracy: 0.4950\n",
      "Epoch 15, Loss: 1.1426, Train Accuracy: 0.5016, Test Accuracy: 0.4950\n",
      "Accuracy: 0.4990\n",
      "Accuracy: 0.4950\n",
      "Epoch 16, Loss: 1.1546, Train Accuracy: 0.4990, Test Accuracy: 0.4950\n",
      "Accuracy: 0.4990\n",
      "Accuracy: 0.4950\n",
      "Epoch 17, Loss: 1.1425, Train Accuracy: 0.4990, Test Accuracy: 0.4950\n",
      "Accuracy: 0.4994\n",
      "Accuracy: 0.4950\n",
      "Epoch 18, Loss: 1.1229, Train Accuracy: 0.4994, Test Accuracy: 0.4950\n",
      "Accuracy: 0.5000\n",
      "Accuracy: 0.4950\n",
      "Epoch 19, Loss: 1.1384, Train Accuracy: 0.5000, Test Accuracy: 0.4950\n",
      "Accuracy: 0.4994\n",
      "Accuracy: 0.4950\n",
      "Epoch 20, Loss: 1.1096, Train Accuracy: 0.4994, Test Accuracy: 0.4950\n",
      "Accuracy: 0.5010\n",
      "Accuracy: 0.4950\n",
      "Epoch 21, Loss: 1.1004, Train Accuracy: 0.5010, Test Accuracy: 0.4950\n",
      "Accuracy: 0.4998\n",
      "Accuracy: 0.4950\n",
      "Epoch 22, Loss: 1.0930, Train Accuracy: 0.4998, Test Accuracy: 0.4950\n",
      "Accuracy: 0.5004\n",
      "Accuracy: 0.4950\n",
      "Epoch 23, Loss: 1.1201, Train Accuracy: 0.5004, Test Accuracy: 0.4950\n",
      "Accuracy: 0.5006\n",
      "Accuracy: 0.4950\n",
      "Epoch 24, Loss: 1.0925, Train Accuracy: 0.5006, Test Accuracy: 0.4950\n",
      "Early stopping triggered at epoch 24\n",
      "Training complete. Best model restored.\n"
     ]
    }
   ],
   "source": [
    "patience = 5  # Number of epochs to wait for improvement\n",
    "best_loss = float('inf')\n",
    "counter = 0  # Counts epochs without improvement\n",
    "best_model_state = None  # Ensure it is initialized\n",
    "gin.to(device) \n",
    "#print(next(gin.parameters()).device)\n",
    "for epoch in range(50):\n",
    "    gin.train()  # Set model to training mode\n",
    "    total_loss = 0.0\n",
    "\n",
    "    for data in train_loader:\n",
    "        input1, input2, label = data\n",
    "        input1, input2, label= input1.to(device), input2.to(device), label.to(device)\n",
    "        #print(input1.x.device, input2.x.device, label.device)\n",
    "        optimizer.zero_grad()\n",
    "        output1, output2 = gin(input1, input2)\n",
    "        \n",
    "        \n",
    "        output1 = normalize_embeddings(output1)\n",
    "        output2 = normalize_embeddings(output2)\n",
    "        \n",
    "        loss = criterion(output1, output2, label.float())\n",
    "        loss.backward()\n",
    "        optimizer.step()\n",
    "        total_loss += loss.item()\n",
    "\n",
    "    # Compute validation loss\n",
    "    val_loss = 0.0\n",
    "    gin.eval()\n",
    "    with torch.no_grad():\n",
    "        for data  in test_loader:\n",
    "            input1, input2, label = data\n",
    "            input1, input2, label= input1.to(device), input2.to(device), label.to(device)\n",
    "            output1, output2 = gin(input1, input2)\n",
    "\n",
    "            output1 = normalize_embeddings(output1)\n",
    "            output2 = normalize_embeddings(output2)\n",
    "\n",
    "            \n",
    "            loss = criterion(output1, output2, label.float())\n",
    "            val_loss += loss.item()\n",
    "    \n",
    "    val_loss /= len(test_loader)\n",
    "    avg_loss = total_loss / len(train_loader)\n",
    "\n",
    "        \n",
    "\n",
    "    # Compute loss and accuracy for training and test sets\n",
    "    train_accuracy = compute_ginaccuracy(gin, train_loader)[0]\n",
    "    test_accuracy = compute_ginaccuracy(gin, test_loader)[0]\n",
    "    avg_loss = total_loss / len(train_loader)\n",
    "    print(f\"Epoch {epoch+1}, Loss: {total_loss / len(train_loader):.4f}, \"\n",
    "          f\"Train Accuracy: {train_accuracy:.4f}, Test Accuracy: {test_accuracy:.4f}\")\n",
    "\n",
    "    # Early stopping check\n",
    "    if val_loss < best_loss:\n",
    "        best_loss = val_loss\n",
    "        counter = 0  # Reset patience counter\n",
    "        best_model_state = copy.deepcopy(gin.state_dict())\n",
    "    else:\n",
    "        counter += 1\n",
    "        if counter >= patience:\n",
    "            print(f\"Early stopping triggered at epoch {epoch+1}\")\n",
    "            break  # Stop training\n",
    "\n",
    "# Load best model state\n",
    "if best_model_state:\n",
    "    gin.load_state_dict(best_model_state)\n",
    "print(\"Training complete. Best model restored.\")"
   ]
  },
  {
   "cell_type": "code",
   "execution_count": 43,
   "id": "cb12fcc3-161c-4fd8-8c77-c088068ac1a1",
   "metadata": {},
   "outputs": [],
   "source": [
    "from torch_geometric.loader import DataLoader"
   ]
  },
  {
   "cell_type": "code",
   "execution_count": 44,
   "id": "3322f40b-1470-43bb-ad9c-6eeb527ea027",
   "metadata": {},
   "outputs": [],
   "source": [
    "import optuna"
   ]
  },
  {
   "cell_type": "code",
   "execution_count": 45,
   "id": "3a4b8e3d-f44f-42a1-b8ca-9ab307a4573d",
   "metadata": {},
   "outputs": [],
   "source": [
    "device = torch.device(\"cuda\" if torch.cuda.is_available() else \"cpu\")"
   ]
  },
  {
   "cell_type": "code",
   "execution_count": 46,
   "id": "22e90f18-f413-4c12-ba8c-e42995752064",
   "metadata": {},
   "outputs": [
    {
     "name": "stdout",
     "output_type": "stream",
     "text": [
      "cuda\n"
     ]
    }
   ],
   "source": [
    "print(device)"
   ]
  },
  {
   "cell_type": "code",
   "execution_count": 47,
   "id": "0369987a-ff8d-4901-9d73-9fb2ab503e60",
   "metadata": {},
   "outputs": [],
   "source": [
    "def objective(trial):\n",
    "    # 1. Sample hyperparameters\n",
    "    dim_h = trial.suggest_categorical(\"dim_h\", [32, 64, 128, 256])\n",
    "    num_layers = trial.suggest_int(\"num_layers\", 2, 5)\n",
    "    dropout_rate = trial.suggest_float(\"dropout_rate\", 0.1, 0.5)\n",
    "    learning_rate = trial.suggest_loguniform(\"learning_rate\", 1e-4, 1e-2)\n",
    "    margin = trial.suggest_float(\"margin\", 0.5, 5.0)\n",
    "    patience = 10  # Number of epochs to wait for improvement\n",
    "    \n",
    "    # 2. Define Model (GIN with sampled hyperparameters)\n",
    "    class GIN(torch.nn.Module):\n",
    "        def __init__(self, dim_h, num_layers):\n",
    "            super(GIN, self).__init__()\n",
    "            self.convs = torch.nn.ModuleList()\n",
    "            \n",
    "            # Input Layer\n",
    "            self.convs.append(GINConv(\n",
    "                Sequential(Linear(13, dim_h), BatchNorm1d(dim_h), ReLU(),\n",
    "                           Linear(dim_h, dim_h), ReLU())))\n",
    "\n",
    "            # Hidden Layers\n",
    "            for _ in range(num_layers - 1):\n",
    "                self.convs.append(GINConv(\n",
    "                    Sequential(Linear(dim_h, dim_h), BatchNorm1d(dim_h), ReLU(),\n",
    "                               Linear(dim_h, dim_h), ReLU())))\n",
    "            \n",
    "            self.lin1 = Linear(dim_h * num_layers, dim_h * num_layers)\n",
    "\n",
    "        def forward_once(self, data, batch=None):\n",
    "            x, edge_index = data.x.to(device), data.edge_index.to(device)\n",
    "            batch = batch.to(x.device) if batch is not None else torch.tensor([0], device=device)\n",
    "            #batch = batch.to(x.device)\n",
    "            h_list = []\n",
    "            \n",
    "            for conv in self.convs:\n",
    "                x = conv(x, edge_index)\n",
    "                h_list.append(global_mean_pool(x, batch))\n",
    "\n",
    "            h = torch.cat(h_list, dim=1)\n",
    "            return h\n",
    "        \n",
    "        def forward(self, input1, input2):\n",
    "            return self.forward_once(input1), self.forward_once(input2)\n",
    "\n",
    "    # 3. Create model and optimizer\n",
    "    model = GIN(dim_h, num_layers).to(device)\n",
    "    optimizer = torch.optim.Adam(model.parameters(), lr=learning_rate)\n",
    "\n",
    "    # 4. Training Loop\n",
    "    def train(model, dataloader, optimizer):\n",
    "        model.train()\n",
    "        for data in dataloader:\n",
    "            input1, input2, label = data\n",
    "            # Move inputs and labels to the same device as model\n",
    "            input1, input2, label = input1.to(device), input2.to(device), label.to(device,dtype=torch.float)\n",
    "            optimizer.zero_grad()\n",
    "            output1, output2 = model(input1, input2)\n",
    "            loss = F.margin_ranking_loss(\n",
    "                torch.nn.functional.pairwise_distance(output1, output2),\n",
    "                torch.zeros_like(label).to(device),\n",
    "                label,\n",
    "                margin=margin\n",
    "            )\n",
    "            loss.backward()\n",
    "            optimizer.step()\n",
    "\n",
    "    # 5. Validation Accuracy Function\n",
    "    def compute_accuracy(model, dataloader, margin):\n",
    "        model.eval()\n",
    "        correct, total = 0, 0\n",
    "        with torch.no_grad():\n",
    "            for data in dataloader:\n",
    "                input1, input2, label = data\n",
    "                input1, input2, label = input1.to(device), input2.to(device), label.to(device)\n",
    "                output1, output2 = model(input1, input2)\n",
    "                distances = F.pairwise_distance(output1, output2)\n",
    "                predictions = (distances > margin).long()\n",
    "                correct += (predictions == label).sum().item()\n",
    "                total += label.size(0)\n",
    "        return correct / total if total > 0 else 0\n",
    "\n",
    "    # 6. Load Data (Assuming train_loader and valid_loader exist)\n",
    " \n",
    "    best_accuracy = 0\n",
    "    epochs_without_improvement = 0\n",
    "\n",
    "    \n",
    "    for epoch in range(30):  # Adjust number of epochs\n",
    "            train(model, train_loader, optimizer)\n",
    "    \n",
    "            # Validation accuracy after each epoch\n",
    "            accuracy = compute_accuracy(model, test_loader, margin)\n",
    "    \n",
    "            # Report the accuracy to Optuna and trigger pruning if necessary\n",
    "            trial.report(accuracy, epoch)\n",
    "    \n",
    "            # Check if the current model is better than the best so far\n",
    "            if accuracy > best_accuracy:\n",
    "                best_accuracy = accuracy\n",
    "                epochs_without_improvement = 0  # Reset counter if there is improvement\n",
    "            else:\n",
    "                epochs_without_improvement += 1\n",
    "    \n",
    "            # Early stopping: stop training if no improvement for 'patience' epochs\n",
    "            if epochs_without_improvement >= patience:\n",
    "                print(f\"Early stopping at epoch {epoch}\")\n",
    "                break\n",
    "\n",
    "    # 7. Final evaluation on test set\n",
    "    final_accuracy = compute_accuracy(model, test_loader, margin)\n",
    "    return final_accuracy\n",
    "\n"
   ]
  },
  {
   "cell_type": "code",
   "execution_count": 48,
   "id": "2eeba45e-6c07-4b70-b5ee-5adff9114b14",
   "metadata": {},
   "outputs": [
    {
     "name": "stderr",
     "output_type": "stream",
     "text": [
      "[I 2025-03-14 18:47:40,588] A new study created in RDB with name: no-name-785d37ad-327c-4921-ac4b-b180c2be23b2\n",
      "/tmp/ipykernel_100238/2805673571.py:6: FutureWarning: suggest_loguniform has been deprecated in v3.0.0. This feature will be removed in v6.0.0. See https://github.com/optuna/optuna/releases/tag/v3.0.0. Use suggest_float(..., log=True) instead.\n",
      "  learning_rate = trial.suggest_loguniform(\"learning_rate\", 1e-4, 1e-2)\n",
      "[I 2025-03-14 18:47:57,540] Trial 0 finished with value: 0.505 and parameters: {'dim_h': 128, 'num_layers': 4, 'dropout_rate': 0.48165413860153716, 'learning_rate': 0.0013640446494665665, 'margin': 0.9518552674265071}. Best is trial 0 with value: 0.505.\n"
     ]
    },
    {
     "name": "stdout",
     "output_type": "stream",
     "text": [
      "Early stopping at epoch 10\n"
     ]
    },
    {
     "name": "stderr",
     "output_type": "stream",
     "text": [
      "[I 2025-03-14 18:48:14,943] Trial 1 finished with value: 0.505 and parameters: {'dim_h': 64, 'num_layers': 5, 'dropout_rate': 0.3856290851922811, 'learning_rate': 0.0028917042817186507, 'margin': 3.6321729960004676}. Best is trial 0 with value: 0.505.\n"
     ]
    },
    {
     "name": "stdout",
     "output_type": "stream",
     "text": [
      "Early stopping at epoch 10\n"
     ]
    },
    {
     "name": "stderr",
     "output_type": "stream",
     "text": [
      "[I 2025-03-14 18:48:32,485] Trial 2 finished with value: 0.505 and parameters: {'dim_h': 128, 'num_layers': 5, 'dropout_rate': 0.18150625413117624, 'learning_rate': 0.00016101996384092776, 'margin': 1.8027497520390232}. Best is trial 0 with value: 0.505.\n"
     ]
    },
    {
     "name": "stdout",
     "output_type": "stream",
     "text": [
      "Early stopping at epoch 10\n"
     ]
    },
    {
     "name": "stderr",
     "output_type": "stream",
     "text": [
      "[I 2025-03-14 18:48:49,545] Trial 3 finished with value: 0.505 and parameters: {'dim_h': 64, 'num_layers': 4, 'dropout_rate': 0.47827736746656413, 'learning_rate': 0.0008926079123126596, 'margin': 2.762668456158282}. Best is trial 0 with value: 0.505.\n"
     ]
    },
    {
     "name": "stdout",
     "output_type": "stream",
     "text": [
      "Early stopping at epoch 10\n"
     ]
    },
    {
     "name": "stderr",
     "output_type": "stream",
     "text": [
      "[I 2025-03-14 18:49:06,042] Trial 4 finished with value: 0.505 and parameters: {'dim_h': 32, 'num_layers': 4, 'dropout_rate': 0.484019694792706, 'learning_rate': 0.0004003002120134043, 'margin': 4.071243693198814}. Best is trial 0 with value: 0.505.\n"
     ]
    },
    {
     "name": "stdout",
     "output_type": "stream",
     "text": [
      "Early stopping at epoch 10\n"
     ]
    },
    {
     "name": "stderr",
     "output_type": "stream",
     "text": [
      "[I 2025-03-14 18:49:22,324] Trial 5 finished with value: 0.505 and parameters: {'dim_h': 32, 'num_layers': 2, 'dropout_rate': 0.47948598083254845, 'learning_rate': 0.00022086898536240852, 'margin': 1.5071273297984134}. Best is trial 0 with value: 0.505.\n"
     ]
    },
    {
     "name": "stdout",
     "output_type": "stream",
     "text": [
      "Early stopping at epoch 10\n"
     ]
    },
    {
     "name": "stderr",
     "output_type": "stream",
     "text": [
      "[I 2025-03-14 18:49:39,854] Trial 6 finished with value: 0.505 and parameters: {'dim_h': 256, 'num_layers': 5, 'dropout_rate': 0.2388527598055116, 'learning_rate': 0.0023650277693988944, 'margin': 1.37420791507942}. Best is trial 0 with value: 0.505.\n"
     ]
    },
    {
     "name": "stdout",
     "output_type": "stream",
     "text": [
      "Early stopping at epoch 10\n"
     ]
    },
    {
     "name": "stderr",
     "output_type": "stream",
     "text": [
      "[I 2025-03-14 18:49:57,594] Trial 7 finished with value: 0.505 and parameters: {'dim_h': 256, 'num_layers': 5, 'dropout_rate': 0.39147077301702626, 'learning_rate': 0.00013294582264689452, 'margin': 1.40095499314855}. Best is trial 0 with value: 0.505.\n"
     ]
    },
    {
     "name": "stdout",
     "output_type": "stream",
     "text": [
      "Early stopping at epoch 10\n"
     ]
    },
    {
     "name": "stderr",
     "output_type": "stream",
     "text": [
      "[I 2025-03-14 18:50:13,468] Trial 8 finished with value: 0.505 and parameters: {'dim_h': 256, 'num_layers': 2, 'dropout_rate': 0.18628086785068906, 'learning_rate': 0.0008253097228534047, 'margin': 4.623420907535476}. Best is trial 0 with value: 0.505.\n"
     ]
    },
    {
     "name": "stdout",
     "output_type": "stream",
     "text": [
      "Early stopping at epoch 10\n"
     ]
    },
    {
     "name": "stderr",
     "output_type": "stream",
     "text": [
      "[I 2025-03-14 18:50:30,109] Trial 9 finished with value: 0.505 and parameters: {'dim_h': 128, 'num_layers': 3, 'dropout_rate': 0.2496012327913678, 'learning_rate': 0.0014057008590758482, 'margin': 4.648449489766932}. Best is trial 0 with value: 0.505.\n"
     ]
    },
    {
     "name": "stdout",
     "output_type": "stream",
     "text": [
      "Early stopping at epoch 10\n"
     ]
    },
    {
     "name": "stderr",
     "output_type": "stream",
     "text": [
      "[I 2025-03-14 18:50:47,056] Trial 10 finished with value: 0.505 and parameters: {'dim_h': 128, 'num_layers': 3, 'dropout_rate': 0.108319566781681, 'learning_rate': 0.007209763669412198, 'margin': 0.7288553319902182}. Best is trial 0 with value: 0.505.\n"
     ]
    },
    {
     "name": "stdout",
     "output_type": "stream",
     "text": [
      "Early stopping at epoch 10\n"
     ]
    },
    {
     "name": "stderr",
     "output_type": "stream",
     "text": [
      "[I 2025-03-14 18:51:04,432] Trial 11 finished with value: 0.505 and parameters: {'dim_h': 64, 'num_layers': 4, 'dropout_rate': 0.37584450931490526, 'learning_rate': 0.004117574736590788, 'margin': 3.059337059983261}. Best is trial 0 with value: 0.505.\n"
     ]
    },
    {
     "name": "stdout",
     "output_type": "stream",
     "text": [
      "Early stopping at epoch 10\n"
     ]
    },
    {
     "name": "stderr",
     "output_type": "stream",
     "text": [
      "[I 2025-03-14 18:51:22,209] Trial 12 finished with value: 0.505 and parameters: {'dim_h': 64, 'num_layers': 5, 'dropout_rate': 0.38595245010856144, 'learning_rate': 0.0025535653822303865, 'margin': 3.405601384204515}. Best is trial 0 with value: 0.505.\n"
     ]
    },
    {
     "name": "stdout",
     "output_type": "stream",
     "text": [
      "Early stopping at epoch 10\n"
     ]
    },
    {
     "name": "stderr",
     "output_type": "stream",
     "text": [
      "[I 2025-03-14 18:51:39,226] Trial 13 finished with value: 0.505 and parameters: {'dim_h': 64, 'num_layers': 4, 'dropout_rate': 0.3433681780139468, 'learning_rate': 0.006569215323430733, 'margin': 2.2519155259916643}. Best is trial 0 with value: 0.505.\n"
     ]
    },
    {
     "name": "stdout",
     "output_type": "stream",
     "text": [
      "Early stopping at epoch 10\n"
     ]
    },
    {
     "name": "stderr",
     "output_type": "stream",
     "text": [
      "[I 2025-03-14 18:51:55,891] Trial 14 finished with value: 0.505 and parameters: {'dim_h': 128, 'num_layers': 3, 'dropout_rate': 0.43526657037642114, 'learning_rate': 0.001684827097038442, 'margin': 3.7646447987907314}. Best is trial 0 with value: 0.505.\n"
     ]
    },
    {
     "name": "stdout",
     "output_type": "stream",
     "text": [
      "Early stopping at epoch 10\n"
     ]
    },
    {
     "name": "stderr",
     "output_type": "stream",
     "text": [
      "[I 2025-03-14 18:52:12,853] Trial 15 finished with value: 0.505 and parameters: {'dim_h': 64, 'num_layers': 5, 'dropout_rate': 0.327226548364435, 'learning_rate': 0.0005352076806879205, 'margin': 0.5407635377760336}. Best is trial 0 with value: 0.505.\n"
     ]
    },
    {
     "name": "stdout",
     "output_type": "stream",
     "text": [
      "Early stopping at epoch 10\n"
     ]
    },
    {
     "name": "stderr",
     "output_type": "stream",
     "text": [
      "[I 2025-03-14 18:52:29,748] Trial 16 finished with value: 0.505 and parameters: {'dim_h': 128, 'num_layers': 4, 'dropout_rate': 0.4119834984814482, 'learning_rate': 0.0038772379924866943, 'margin': 2.2493519788851595}. Best is trial 0 with value: 0.505.\n"
     ]
    },
    {
     "name": "stdout",
     "output_type": "stream",
     "text": [
      "Early stopping at epoch 10\n"
     ]
    },
    {
     "name": "stderr",
     "output_type": "stream",
     "text": [
      "[I 2025-03-14 18:52:47,056] Trial 17 finished with value: 0.505 and parameters: {'dim_h': 32, 'num_layers': 5, 'dropout_rate': 0.4347316587771152, 'learning_rate': 0.009802586410320197, 'margin': 4.096516417821119}. Best is trial 0 with value: 0.505.\n"
     ]
    },
    {
     "name": "stdout",
     "output_type": "stream",
     "text": [
      "Early stopping at epoch 10\n"
     ]
    },
    {
     "name": "stderr",
     "output_type": "stream",
     "text": [
      "[I 2025-03-14 18:53:03,785] Trial 18 finished with value: 0.505 and parameters: {'dim_h': 64, 'num_layers': 4, 'dropout_rate': 0.2843730529728174, 'learning_rate': 0.0004906516485425161, 'margin': 3.402127163227794}. Best is trial 0 with value: 0.505.\n"
     ]
    },
    {
     "name": "stdout",
     "output_type": "stream",
     "text": [
      "Early stopping at epoch 10\n"
     ]
    },
    {
     "name": "stderr",
     "output_type": "stream",
     "text": [
      "[I 2025-03-14 18:53:20,748] Trial 19 finished with value: 0.505 and parameters: {'dim_h': 128, 'num_layers': 3, 'dropout_rate': 0.3437059771440363, 'learning_rate': 0.0013195880377239511, 'margin': 2.3805843390401322}. Best is trial 0 with value: 0.505.\n"
     ]
    },
    {
     "name": "stdout",
     "output_type": "stream",
     "text": [
      "Early stopping at epoch 10\n"
     ]
    },
    {
     "name": "stderr",
     "output_type": "stream",
     "text": [
      "[I 2025-03-14 18:53:38,583] Trial 20 finished with value: 0.505 and parameters: {'dim_h': 128, 'num_layers': 5, 'dropout_rate': 0.49958157844732115, 'learning_rate': 0.0033617262218690732, 'margin': 0.8212203374357238}. Best is trial 0 with value: 0.505.\n"
     ]
    },
    {
     "name": "stdout",
     "output_type": "stream",
     "text": [
      "Early stopping at epoch 10\n"
     ]
    },
    {
     "name": "stderr",
     "output_type": "stream",
     "text": [
      "[I 2025-03-14 18:53:56,301] Trial 21 finished with value: 0.505 and parameters: {'dim_h': 128, 'num_layers': 5, 'dropout_rate': 0.14149083162618817, 'learning_rate': 0.00020394885507055198, 'margin': 1.8362366590505366}. Best is trial 0 with value: 0.505.\n"
     ]
    },
    {
     "name": "stdout",
     "output_type": "stream",
     "text": [
      "Early stopping at epoch 10\n"
     ]
    },
    {
     "name": "stderr",
     "output_type": "stream",
     "text": [
      "[I 2025-03-14 18:54:13,476] Trial 22 finished with value: 0.505 and parameters: {'dim_h': 128, 'num_layers': 5, 'dropout_rate': 0.22233830723357145, 'learning_rate': 0.002108387154340699, 'margin': 0.977075460023725}. Best is trial 0 with value: 0.505.\n"
     ]
    },
    {
     "name": "stdout",
     "output_type": "stream",
     "text": [
      "Early stopping at epoch 10\n"
     ]
    },
    {
     "name": "stderr",
     "output_type": "stream",
     "text": [
      "[I 2025-03-14 18:54:30,971] Trial 23 finished with value: 0.505 and parameters: {'dim_h': 128, 'num_layers': 4, 'dropout_rate': 0.28927826808735013, 'learning_rate': 0.0001225601591869174, 'margin': 1.9616876609505718}. Best is trial 0 with value: 0.505.\n"
     ]
    },
    {
     "name": "stdout",
     "output_type": "stream",
     "text": [
      "Early stopping at epoch 10\n"
     ]
    },
    {
     "name": "stderr",
     "output_type": "stream",
     "text": [
      "[I 2025-03-14 18:54:48,560] Trial 24 finished with value: 0.505 and parameters: {'dim_h': 128, 'num_layers': 5, 'dropout_rate': 0.4431433982462075, 'learning_rate': 0.0006346017484834851, 'margin': 1.1510302841048605}. Best is trial 0 with value: 0.505.\n"
     ]
    },
    {
     "name": "stdout",
     "output_type": "stream",
     "text": [
      "Early stopping at epoch 10\n"
     ]
    },
    {
     "name": "stderr",
     "output_type": "stream",
     "text": [
      "[I 2025-03-14 18:55:05,998] Trial 25 finished with value: 0.505 and parameters: {'dim_h': 64, 'num_layers': 4, 'dropout_rate': 0.1764087927521602, 'learning_rate': 0.0002470419675519943, 'margin': 1.7157175481977462}. Best is trial 0 with value: 0.505.\n"
     ]
    },
    {
     "name": "stdout",
     "output_type": "stream",
     "text": [
      "Early stopping at epoch 10\n"
     ]
    },
    {
     "name": "stderr",
     "output_type": "stream",
     "text": [
      "[I 2025-03-14 18:55:23,287] Trial 26 finished with value: 0.505 and parameters: {'dim_h': 256, 'num_layers': 5, 'dropout_rate': 0.32313571494090026, 'learning_rate': 0.00035934384617257204, 'margin': 2.7355973022372813}. Best is trial 0 with value: 0.505.\n"
     ]
    },
    {
     "name": "stdout",
     "output_type": "stream",
     "text": [
      "Early stopping at epoch 10\n"
     ]
    },
    {
     "name": "stderr",
     "output_type": "stream",
     "text": [
      "[I 2025-03-14 18:55:40,310] Trial 27 finished with value: 0.505 and parameters: {'dim_h': 32, 'num_layers': 5, 'dropout_rate': 0.4529491485992877, 'learning_rate': 0.0011258002004668165, 'margin': 1.2513787484535368}. Best is trial 0 with value: 0.505.\n"
     ]
    },
    {
     "name": "stdout",
     "output_type": "stream",
     "text": [
      "Early stopping at epoch 10\n"
     ]
    },
    {
     "name": "stderr",
     "output_type": "stream",
     "text": [
      "[I 2025-03-14 18:55:56,858] Trial 28 finished with value: 0.505 and parameters: {'dim_h': 128, 'num_layers': 4, 'dropout_rate': 0.3684048209456577, 'learning_rate': 0.0007464043062805832, 'margin': 2.6415884840318524}. Best is trial 0 with value: 0.505.\n"
     ]
    },
    {
     "name": "stdout",
     "output_type": "stream",
     "text": [
      "Early stopping at epoch 10\n"
     ]
    },
    {
     "name": "stderr",
     "output_type": "stream",
     "text": [
      "[I 2025-03-14 18:56:13,528] Trial 29 finished with value: 0.505 and parameters: {'dim_h': 64, 'num_layers': 3, 'dropout_rate': 0.26619547398721805, 'learning_rate': 0.0009984050861928863, 'margin': 4.958131411776666}. Best is trial 0 with value: 0.505.\n"
     ]
    },
    {
     "name": "stdout",
     "output_type": "stream",
     "text": [
      "Early stopping at epoch 10\n"
     ]
    },
    {
     "name": "stderr",
     "output_type": "stream",
     "text": [
      "[I 2025-03-14 18:56:30,426] Trial 30 finished with value: 0.505 and parameters: {'dim_h': 64, 'num_layers': 4, 'dropout_rate': 0.19071643794413073, 'learning_rate': 0.005115542406222562, 'margin': 3.138304201794454}. Best is trial 0 with value: 0.505.\n"
     ]
    },
    {
     "name": "stdout",
     "output_type": "stream",
     "text": [
      "Early stopping at epoch 10\n"
     ]
    },
    {
     "name": "stderr",
     "output_type": "stream",
     "text": [
      "[I 2025-03-14 18:56:47,526] Trial 31 finished with value: 0.505 and parameters: {'dim_h': 64, 'num_layers': 4, 'dropout_rate': 0.47272420217833183, 'learning_rate': 0.0017757887876256675, 'margin': 3.670280712920107}. Best is trial 0 with value: 0.505.\n"
     ]
    },
    {
     "name": "stdout",
     "output_type": "stream",
     "text": [
      "Early stopping at epoch 10\n"
     ]
    },
    {
     "name": "stderr",
     "output_type": "stream",
     "text": [
      "[I 2025-03-14 18:57:04,846] Trial 32 finished with value: 0.505 and parameters: {'dim_h': 32, 'num_layers': 4, 'dropout_rate': 0.4767969181202885, 'learning_rate': 0.003255194305948829, 'margin': 3.0808325574787543}. Best is trial 0 with value: 0.505.\n"
     ]
    },
    {
     "name": "stdout",
     "output_type": "stream",
     "text": [
      "Early stopping at epoch 10\n"
     ]
    },
    {
     "name": "stderr",
     "output_type": "stream",
     "text": [
      "[I 2025-03-14 18:57:22,386] Trial 33 finished with value: 0.505 and parameters: {'dim_h': 64, 'num_layers': 4, 'dropout_rate': 0.416528385093253, 'learning_rate': 0.00032907629873667193, 'margin': 1.6259838473622914}. Best is trial 0 with value: 0.505.\n"
     ]
    },
    {
     "name": "stdout",
     "output_type": "stream",
     "text": [
      "Early stopping at epoch 10\n"
     ]
    },
    {
     "name": "stderr",
     "output_type": "stream",
     "text": [
      "[I 2025-03-14 18:57:38,787] Trial 34 finished with value: 0.505 and parameters: {'dim_h': 64, 'num_layers': 2, 'dropout_rate': 0.455424523988846, 'learning_rate': 0.002528144998529456, 'margin': 2.0348469818534443}. Best is trial 0 with value: 0.505.\n"
     ]
    },
    {
     "name": "stdout",
     "output_type": "stream",
     "text": [
      "Early stopping at epoch 10\n"
     ]
    },
    {
     "name": "stderr",
     "output_type": "stream",
     "text": [
      "[I 2025-03-14 18:57:55,909] Trial 35 finished with value: 0.505 and parameters: {'dim_h': 256, 'num_layers': 5, 'dropout_rate': 0.4925767508293628, 'learning_rate': 0.00010137996086694835, 'margin': 2.5687752420172707}. Best is trial 0 with value: 0.505.\n"
     ]
    },
    {
     "name": "stdout",
     "output_type": "stream",
     "text": [
      "Early stopping at epoch 10\n"
     ]
    },
    {
     "name": "stderr",
     "output_type": "stream",
     "text": [
      "[I 2025-03-14 18:58:13,076] Trial 36 finished with value: 0.505 and parameters: {'dim_h': 32, 'num_layers': 5, 'dropout_rate': 0.40953528222512686, 'learning_rate': 0.00017993918344956576, 'margin': 4.205532826831005}. Best is trial 0 with value: 0.505.\n"
     ]
    },
    {
     "name": "stdout",
     "output_type": "stream",
     "text": [
      "Early stopping at epoch 10\n"
     ]
    },
    {
     "name": "stderr",
     "output_type": "stream",
     "text": [
      "[I 2025-03-14 18:58:30,076] Trial 37 finished with value: 0.505 and parameters: {'dim_h': 256, 'num_layers': 3, 'dropout_rate': 0.4656161911832999, 'learning_rate': 0.0009323760279423524, 'margin': 1.3996219856991634}. Best is trial 0 with value: 0.505.\n"
     ]
    },
    {
     "name": "stdout",
     "output_type": "stream",
     "text": [
      "Early stopping at epoch 10\n"
     ]
    },
    {
     "name": "stderr",
     "output_type": "stream",
     "text": [
      "[I 2025-03-14 18:58:46,534] Trial 38 finished with value: 0.505 and parameters: {'dim_h': 128, 'num_layers': 2, 'dropout_rate': 0.11765095972153528, 'learning_rate': 0.001439340681717165, 'margin': 4.372756327696068}. Best is trial 0 with value: 0.505.\n"
     ]
    },
    {
     "name": "stdout",
     "output_type": "stream",
     "text": [
      "Early stopping at epoch 10\n"
     ]
    },
    {
     "name": "stderr",
     "output_type": "stream",
     "text": [
      "[I 2025-03-14 18:59:03,730] Trial 39 finished with value: 0.505 and parameters: {'dim_h': 64, 'num_layers': 4, 'dropout_rate': 0.2252656893046609, 'learning_rate': 0.00027410421457278153, 'margin': 3.773810012240059}. Best is trial 0 with value: 0.505.\n"
     ]
    },
    {
     "name": "stdout",
     "output_type": "stream",
     "text": [
      "Early stopping at epoch 10\n"
     ]
    },
    {
     "name": "stderr",
     "output_type": "stream",
     "text": [
      "[I 2025-03-14 18:59:21,197] Trial 40 finished with value: 0.505 and parameters: {'dim_h': 128, 'num_layers': 5, 'dropout_rate': 0.35803771096470194, 'learning_rate': 0.00015225870633055747, 'margin': 2.8785338835169396}. Best is trial 0 with value: 0.505.\n"
     ]
    },
    {
     "name": "stdout",
     "output_type": "stream",
     "text": [
      "Early stopping at epoch 10\n"
     ]
    },
    {
     "name": "stderr",
     "output_type": "stream",
     "text": [
      "[I 2025-03-14 18:59:38,675] Trial 41 finished with value: 0.505 and parameters: {'dim_h': 32, 'num_layers': 4, 'dropout_rate': 0.4854499458233669, 'learning_rate': 0.000420760840207378, 'margin': 3.9665513836471726}. Best is trial 0 with value: 0.505.\n"
     ]
    },
    {
     "name": "stdout",
     "output_type": "stream",
     "text": [
      "Early stopping at epoch 10\n"
     ]
    },
    {
     "name": "stderr",
     "output_type": "stream",
     "text": [
      "[I 2025-03-14 18:59:55,746] Trial 42 finished with value: 0.505 and parameters: {'dim_h': 32, 'num_layers': 4, 'dropout_rate': 0.3909817385956157, 'learning_rate': 0.000678613997762776, 'margin': 3.405199889593276}. Best is trial 0 with value: 0.505.\n"
     ]
    },
    {
     "name": "stdout",
     "output_type": "stream",
     "text": [
      "Early stopping at epoch 10\n"
     ]
    },
    {
     "name": "stderr",
     "output_type": "stream",
     "text": [
      "[I 2025-03-14 19:00:12,789] Trial 43 finished with value: 0.505 and parameters: {'dim_h': 32, 'num_layers': 3, 'dropout_rate': 0.4167738782003816, 'learning_rate': 0.0005319096424171477, 'margin': 4.8013684158473815}. Best is trial 0 with value: 0.505.\n"
     ]
    },
    {
     "name": "stdout",
     "output_type": "stream",
     "text": [
      "Early stopping at epoch 10\n"
     ]
    },
    {
     "name": "stderr",
     "output_type": "stream",
     "text": [
      "[I 2025-03-14 19:00:29,506] Trial 44 finished with value: 0.505 and parameters: {'dim_h': 64, 'num_layers': 4, 'dropout_rate': 0.43319472192841896, 'learning_rate': 0.0011753638984387028, 'margin': 0.504815794616122}. Best is trial 0 with value: 0.505.\n"
     ]
    },
    {
     "name": "stdout",
     "output_type": "stream",
     "text": [
      "Early stopping at epoch 10\n"
     ]
    },
    {
     "name": "stderr",
     "output_type": "stream",
     "text": [
      "[I 2025-03-14 19:00:46,693] Trial 45 finished with value: 0.505 and parameters: {'dim_h': 32, 'num_layers': 5, 'dropout_rate': 0.4626837928043698, 'learning_rate': 0.002145712547131965, 'margin': 4.4359233111609715}. Best is trial 0 with value: 0.505.\n"
     ]
    },
    {
     "name": "stdout",
     "output_type": "stream",
     "text": [
      "Early stopping at epoch 10\n"
     ]
    },
    {
     "name": "stderr",
     "output_type": "stream",
     "text": [
      "[I 2025-03-14 19:01:04,232] Trial 46 finished with value: 0.505 and parameters: {'dim_h': 256, 'num_layers': 4, 'dropout_rate': 0.3144582232353159, 'learning_rate': 0.0008578581342677152, 'margin': 3.6015632403762012}. Best is trial 0 with value: 0.505.\n"
     ]
    },
    {
     "name": "stdout",
     "output_type": "stream",
     "text": [
      "Early stopping at epoch 10\n"
     ]
    },
    {
     "name": "stderr",
     "output_type": "stream",
     "text": [
      "[I 2025-03-14 19:01:20,587] Trial 47 finished with value: 0.505 and parameters: {'dim_h': 128, 'num_layers': 3, 'dropout_rate': 0.4831602239752436, 'learning_rate': 0.0003162691189786233, 'margin': 2.4134753881770847}. Best is trial 0 with value: 0.505.\n"
     ]
    },
    {
     "name": "stdout",
     "output_type": "stream",
     "text": [
      "Early stopping at epoch 10\n"
     ]
    },
    {
     "name": "stderr",
     "output_type": "stream",
     "text": [
      "[I 2025-03-14 19:01:38,239] Trial 48 finished with value: 0.505 and parameters: {'dim_h': 64, 'num_layers': 5, 'dropout_rate': 0.4988524335127973, 'learning_rate': 0.0016714775653758108, 'margin': 3.9562349551574205}. Best is trial 0 with value: 0.505.\n"
     ]
    },
    {
     "name": "stdout",
     "output_type": "stream",
     "text": [
      "Early stopping at epoch 10\n"
     ]
    },
    {
     "name": "stderr",
     "output_type": "stream",
     "text": [
      "[I 2025-03-14 19:01:55,425] Trial 49 finished with value: 0.505 and parameters: {'dim_h': 128, 'num_layers': 4, 'dropout_rate': 0.4282348796608374, 'learning_rate': 0.003113163934552497, 'margin': 3.1861343207872412}. Best is trial 0 with value: 0.505.\n"
     ]
    },
    {
     "name": "stdout",
     "output_type": "stream",
     "text": [
      "Early stopping at epoch 10\n",
      "Best Hyperparameters: {'dim_h': 128, 'num_layers': 4, 'dropout_rate': 0.48165413860153716, 'learning_rate': 0.0013640446494665665, 'margin': 0.9518552674265071}\n"
     ]
    }
   ],
   "source": [
    "study = optuna.create_study(storage=\"sqlite:///optuna_gin3.db\", direction=\"maximize\")  # Maximize accuracy\n",
    "study.optimize(objective, n_trials=50)  # Run 50 trials\n",
    "\n",
    "# Print best parameters\n",
    "print(\"Best Hyperparameters:\", study.best_trial.params)"
   ]
  },
  {
   "cell_type": "code",
   "execution_count": null,
   "id": "a6b47b2d-d7cf-4deb-8d88-c7036b1f3fae",
   "metadata": {},
   "outputs": [],
   "source": []
  },
  {
   "cell_type": "code",
   "execution_count": null,
   "id": "36c4c831-c951-4131-b56c-1e086cfdb1d4",
   "metadata": {},
   "outputs": [],
   "source": []
  },
  {
   "cell_type": "code",
   "execution_count": null,
   "id": "ee791249-227b-4fd3-aa33-c9b5b61f3c58",
   "metadata": {},
   "outputs": [],
   "source": []
  }
 ],
 "metadata": {
  "kernelspec": {
   "display_name": "pytorch_cuda126",
   "language": "python",
   "name": "pytorch_cuda126"
  },
  "language_info": {
   "codemirror_mode": {
    "name": "ipython",
    "version": 3
   },
   "file_extension": ".py",
   "mimetype": "text/x-python",
   "name": "python",
   "nbconvert_exporter": "python",
   "pygments_lexer": "ipython3",
   "version": "3.11.10"
  },
  "widgets": {
   "application/vnd.jupyter.widget-state+json": {
    "state": {},
    "version_major": 2,
    "version_minor": 0
   }
  }
 },
 "nbformat": 4,
 "nbformat_minor": 5
}
