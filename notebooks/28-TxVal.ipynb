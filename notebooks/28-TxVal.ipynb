{
 "cells": [
  {
   "cell_type": "code",
   "execution_count": 1,
   "id": "8199eeaa-c55f-4996-b8e9-9ff35188d871",
   "metadata": {},
   "outputs": [],
   "source": [
    "import pandas as pd\n",
    "import numpy as np\n",
    "import openpyxl \n",
    "import matplotlib.pyplot as plt\n",
    "import seaborn as sns\n",
    "from pathlib import Path\n"
   ]
  },
  {
   "cell_type": "code",
   "execution_count": 2,
   "id": "62901ea4-f648-4fcf-9935-16ae6ce271da",
   "metadata": {},
   "outputs": [],
   "source": [
    "TOP = Path.cwd().as_posix().replace('notebooks','')\n",
    "raw_dir = Path(TOP) / 'data' /'raw'\n",
    "interim_dir = Path(TOP) / 'data' /'interim'\n",
    "processed_dir = Path(TOP) / 'data' /'processed'\n",
    "external_dir = Path(TOP) / 'data' /'external'\n",
    "figures_dir = Path(TOP) / 'reports' /'figures'"
   ]
  },
  {
   "cell_type": "code",
   "execution_count": 3,
   "id": "d2a4a600-b7e3-4e27-8d66-103fc7f7c272",
   "metadata": {},
   "outputs": [],
   "source": [
    "embed_analogues = pd.read_csv(external_dir/'embed_analogues_txval.csv', index_col = [0])"
   ]
  },
  {
   "cell_type": "code",
   "execution_count": 5,
   "id": "14fce0be-ad0a-44db-a610-aaaac6280c0b",
   "metadata": {},
   "outputs": [],
   "source": [
    "mrgn_analogues = pd.read_csv(external_dir/'mrgn_analogues_txval.csv', index_col = [0])"
   ]
  },
  {
   "cell_type": "code",
   "execution_count": 8,
   "id": "f4c75d32-302b-44dc-affe-d1a24c89eb71",
   "metadata": {},
   "outputs": [
    {
     "data": {
      "text/plain": [
       "array(['DTXSID6025565', 'DTXSID401020013', 'DTXSID80873178', ...,\n",
       "       'DTXSID20198296', 'DTXSID8063628', 'DTXSID801019842'], dtype=object)"
      ]
     },
     "execution_count": 8,
     "metadata": {},
     "output_type": "execute_result"
    }
   ],
   "source": [
    "mrgn_analogues.target.unique()"
   ]
  },
  {
   "cell_type": "code",
   "execution_count": 11,
   "id": "ad1dd28c-addd-441a-bf73-b216944c1a15",
   "metadata": {},
   "outputs": [
    {
     "data": {
      "text/plain": [
       "0    DTXSID801019842\n",
       "1      DTXSID7022413\n",
       "2     DTXSID10216599\n",
       "3      DTXSID5075072\n",
       "4     DTXSID30216470\n",
       "5      DTXSID6075067\n",
       "6      DTXSID2052607\n",
       "7      DTXSID2075344\n",
       "8      DTXSID9020087\n",
       "9      DTXSID0021969\n",
       "Name: analogue, dtype: object"
      ]
     },
     "execution_count": 11,
     "metadata": {},
     "output_type": "execute_result"
    }
   ],
   "source": [
    "mrgn_analogues[mrgn_analogues['target'] == 'DTXSID801019842']['analogue']"
   ]
  },
  {
   "cell_type": "code",
   "execution_count": 15,
   "id": "68d91613-48d7-4a94-b0d2-19653b7d9559",
   "metadata": {},
   "outputs": [
    {
     "data": {
      "text/plain": [
       "{'DTXSID801019842'}"
      ]
     },
     "execution_count": 15,
     "metadata": {},
     "output_type": "execute_result"
    }
   ],
   "source": [
    "set(embed_analogues[embed_analogues['target'] == 'DTXSID801019842']['analogue'].tolist()).intersection(set(mrgn_analogues[mrgn_analogues['target'] == 'DTXSID801019842']['analogue'].tolist()))"
   ]
  },
  {
   "cell_type": "code",
   "execution_count": 17,
   "id": "2b2be1a0-be91-47fd-8c9a-9affcea2c8b9",
   "metadata": {},
   "outputs": [
    {
     "data": {
      "text/plain": [
       "0    DTXSID801019842\n",
       "1     DTXSID30207025\n",
       "2      DTXSID4041529\n",
       "3      DTXSID1021792\n",
       "4      DTXSID9023207\n",
       "5      DTXSID2027543\n",
       "6     DTXSID20939388\n",
       "7     DTXSID10346880\n",
       "8     DTXSID50893727\n",
       "9      DTXSID3021431\n",
       "Name: analogue, dtype: object"
      ]
     },
     "execution_count": 17,
     "metadata": {},
     "output_type": "execute_result"
    }
   ],
   "source": [
    "embed_analogues[embed_analogues['target'] == 'DTXSID801019842']['analogue']"
   ]
  },
  {
   "cell_type": "code",
   "execution_count": 21,
   "id": "fa64eede-7218-4227-a101-18710b2546d0",
   "metadata": {},
   "outputs": [],
   "source": [
    "embed_pred = pd.read_csv(external_dir/'embed_genra_txval.csv', index_col=[0])"
   ]
  },
  {
   "cell_type": "code",
   "execution_count": 24,
   "id": "2b54a662-6e75-476b-a93b-7191ba833d71",
   "metadata": {},
   "outputs": [
    {
     "data": {
      "text/html": [
       "<div>\n",
       "<style scoped>\n",
       "    .dataframe tbody tr th:only-of-type {\n",
       "        vertical-align: middle;\n",
       "    }\n",
       "\n",
       "    .dataframe tbody tr th {\n",
       "        vertical-align: top;\n",
       "    }\n",
       "\n",
       "    .dataframe thead th {\n",
       "        text-align: right;\n",
       "    }\n",
       "</style>\n",
       "<table border=\"1\" class=\"dataframe\">\n",
       "  <thead>\n",
       "    <tr style=\"text-align: right;\">\n",
       "      <th></th>\n",
       "      <th>pPOD</th>\n",
       "      <th>target_dtxsid</th>\n",
       "      <th>pred_pPOD</th>\n",
       "      <th>residual</th>\n",
       "    </tr>\n",
       "  </thead>\n",
       "  <tbody>\n",
       "    <tr>\n",
       "      <th>3165</th>\n",
       "      <td>1.205924</td>\n",
       "      <td>DTXSID801019842</td>\n",
       "      <td>1.067049</td>\n",
       "      <td>0.138875</td>\n",
       "    </tr>\n",
       "  </tbody>\n",
       "</table>\n",
       "</div>"
      ],
      "text/plain": [
       "          pPOD    target_dtxsid  pred_pPOD  residual\n",
       "3165  1.205924  DTXSID801019842   1.067049  0.138875"
      ]
     },
     "execution_count": 24,
     "metadata": {},
     "output_type": "execute_result"
    }
   ],
   "source": [
    "embed_pred.query(\"target_dtxsid == 'DTXSID801019842'\")"
   ]
  },
  {
   "cell_type": "code",
   "execution_count": 25,
   "id": "144b9677-9a17-401a-85f5-5e93fd130116",
   "metadata": {},
   "outputs": [],
   "source": [
    "mrgn_pred = pd.read_csv(external_dir/'mrgn_toxval_predictions.csv', index_col=[0])"
   ]
  },
  {
   "cell_type": "code",
   "execution_count": 27,
   "id": "a48987c0-d661-4d45-9c91-e470b9476fc9",
   "metadata": {},
   "outputs": [
    {
     "data": {
      "text/html": [
       "<div>\n",
       "<style scoped>\n",
       "    .dataframe tbody tr th:only-of-type {\n",
       "        vertical-align: middle;\n",
       "    }\n",
       "\n",
       "    .dataframe tbody tr th {\n",
       "        vertical-align: top;\n",
       "    }\n",
       "\n",
       "    .dataframe thead th {\n",
       "        text-align: right;\n",
       "    }\n",
       "</style>\n",
       "<table border=\"1\" class=\"dataframe\">\n",
       "  <thead>\n",
       "    <tr style=\"text-align: right;\">\n",
       "      <th></th>\n",
       "      <th>pPOD</th>\n",
       "      <th>target_dtxsid</th>\n",
       "      <th>pred_pPOD</th>\n",
       "      <th>residual</th>\n",
       "    </tr>\n",
       "  </thead>\n",
       "  <tbody>\n",
       "    <tr>\n",
       "      <th>3165</th>\n",
       "      <td>1.205924</td>\n",
       "      <td>DTXSID801019842</td>\n",
       "      <td>1.397353</td>\n",
       "      <td>-0.191429</td>\n",
       "    </tr>\n",
       "  </tbody>\n",
       "</table>\n",
       "</div>"
      ],
      "text/plain": [
       "          pPOD    target_dtxsid  pred_pPOD  residual\n",
       "3165  1.205924  DTXSID801019842   1.397353 -0.191429"
      ]
     },
     "execution_count": 27,
     "metadata": {},
     "output_type": "execute_result"
    }
   ],
   "source": [
    "mrgn_pred.query(\"target_dtxsid == 'DTXSID801019842'\")"
   ]
  },
  {
   "cell_type": "code",
   "execution_count": 33,
   "id": "f4a56899-0b5b-4dc1-8911-aa9966573ae6",
   "metadata": {},
   "outputs": [],
   "source": [
    "mrgn_ids = mrgn_pred.query('residual > 2 or residual < -2')['target_dtxsid'].tolist()"
   ]
  },
  {
   "cell_type": "code",
   "execution_count": 34,
   "id": "09e59e4c-7527-418a-ad5e-d110f3807b72",
   "metadata": {},
   "outputs": [],
   "source": [
    "em_ids = embed_pred.query('residual > 2 or residual < -2')['target_dtxsid'].tolist()"
   ]
  },
  {
   "cell_type": "code",
   "execution_count": 37,
   "id": "8cd22bf4-06fe-40fd-bbc9-a74b1cd5abbd",
   "metadata": {},
   "outputs": [
    {
     "data": {
      "text/plain": [
       "49"
      ]
     },
     "execution_count": 37,
     "metadata": {},
     "output_type": "execute_result"
    }
   ],
   "source": [
    "len(set(em_ids).intersection(set(mrgn_ids)))"
   ]
  },
  {
   "cell_type": "code",
   "execution_count": 44,
   "id": "aa2a4bc5-c500-4458-b1cb-e965268763a5",
   "metadata": {},
   "outputs": [],
   "source": [
    "common = list(set(em_ids).intersection(set(mrgn_ids)))"
   ]
  },
  {
   "cell_type": "code",
   "execution_count": 50,
   "id": "bff47456-648c-4136-8546-5e62a117c03f",
   "metadata": {},
   "outputs": [],
   "source": [
    "pd.Series([e for e in em_ids if e not in common]).to_csv(external_dir/'embed_bad.csv')"
   ]
  },
  {
   "cell_type": "code",
   "execution_count": 42,
   "id": "18452b7d-41e9-49ea-b09a-356e4a5ed6a1",
   "metadata": {},
   "outputs": [],
   "source": [
    "pd.Series(list(set(em_ids).intersection(set(mrgn_ids)))).to_csv(external_dir/'poorly_predicted.csv')"
   ]
  },
  {
   "cell_type": "code",
   "execution_count": null,
   "id": "6ce2d0ec-aa67-4516-9d42-9c8e4d23465c",
   "metadata": {},
   "outputs": [],
   "source": []
  }
 ],
 "metadata": {
  "kernelspec": {
   "display_name": "py310",
   "language": "python",
   "name": "py310"
  },
  "language_info": {
   "codemirror_mode": {
    "name": "ipython",
    "version": 3
   },
   "file_extension": ".py",
   "mimetype": "text/x-python",
   "name": "python",
   "nbconvert_exporter": "python",
   "pygments_lexer": "ipython3",
   "version": "3.10.14"
  },
  "widgets": {
   "application/vnd.jupyter.widget-state+json": {
    "state": {},
    "version_major": 2,
    "version_minor": 0
   }
  }
 },
 "nbformat": 4,
 "nbformat_minor": 5
}
