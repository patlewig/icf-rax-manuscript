{
 "cells": [
  {
   "cell_type": "code",
   "execution_count": 1,
   "id": "3955de47-86d9-461b-ae52-8afae6302029",
   "metadata": {},
   "outputs": [],
   "source": [
    "import torch\n",
    "import torch.nn as nn\n",
    "import torch.optim as optim"
   ]
  },
  {
   "cell_type": "code",
   "execution_count": 4,
   "id": "57b7717b-4597-4892-b79a-fce152f23c59",
   "metadata": {},
   "outputs": [],
   "source": [
    "class SimpleNN(nn.Module):\n",
    "    def __init__(self, input_size, hidden_size, output_size):\n",
    "        super(SimpleNN, self).__init__()\n",
    "        self.fc1 = nn.Linear(input_size, hidden_size)\n",
    "        self.relu = nn.ReLU()\n",
    "        self.fc2 = nn.Linear(hidden_size, output_size)\n",
    "    \n",
    "    def forward(self, x):\n",
    "        x = self.fc1(x)\n",
    "        x = self.relu(x)\n",
    "        x = self.fc2(x)\n",
    "        return x"
   ]
  },
  {
   "cell_type": "code",
   "execution_count": 3,
   "id": "c95dff42-b860-4ca3-937f-a66c3b30ac5e",
   "metadata": {},
   "outputs": [],
   "source": [
    "input_size = 4\n",
    "hidden_size = 10\n",
    "output_size = 3  # For example, 3 classes\n",
    "model = SimpleNN(input_size, hidden_size, output_size)\n",
    "criterion = nn.CrossEntropyLoss()\n",
    "optimizer = optim.Adam(model.parameters(), lr=0.001)\n"
   ]
  },
  {
   "cell_type": "code",
   "execution_count": 4,
   "id": "079f6f8f-e196-41d9-b078-96ec9a0aa17e",
   "metadata": {},
   "outputs": [
    {
     "name": "stdout",
     "output_type": "stream",
     "text": [
      "Model saved.\n"
     ]
    }
   ],
   "source": [
    "for epoch in range(100):\n",
    "    # Example input (batch_size=2, input_size=4)\n",
    "    inputs = torch.rand(2, input_size)\n",
    "    labels = torch.tensor([0, 1])  # Example labels (2 samples)\n",
    "    \n",
    "    # Forward pass\n",
    "    outputs = model(inputs)\n",
    "    loss = criterion(outputs, labels)\n",
    "    \n",
    "    # Backward pass and optimization\n",
    "    optimizer.zero_grad()\n",
    "    loss.backward()\n",
    "    optimizer.step()\n",
    "\n",
    "# Save the trained model\n",
    "torch.save(model.state_dict(), \"simple_nn.pth\")\n",
    "print(\"Model saved.\")"
   ]
  },
  {
   "cell_type": "code",
   "execution_count": 5,
   "id": "837bd11f-1c1b-4400-ae8f-5c4966fd3e5c",
   "metadata": {},
   "outputs": [
    {
     "name": "stdout",
     "output_type": "stream",
     "text": [
      "SimpleNN(\n",
      "  (fc1): Linear(in_features=4, out_features=10, bias=True)\n",
      "  (relu): ReLU()\n",
      "  (fc2): Linear(in_features=10, out_features=3, bias=True)\n",
      ")\n"
     ]
    }
   ],
   "source": [
    "print(model)"
   ]
  },
  {
   "cell_type": "code",
   "execution_count": 9,
   "id": "da72f70e-4b11-4f31-9a0a-309f236265f2",
   "metadata": {},
   "outputs": [
    {
     "name": "stdout",
     "output_type": "stream",
     "text": [
      "Predictions: tensor([[ 1.3093,  1.3642, -1.6542],\n",
      "        [ 1.3450,  1.9441, -3.4558]])\n",
      "Predicted classes: tensor([1, 1])\n"
     ]
    }
   ],
   "source": [
    "new_data = torch.tensor([\n",
    "    [5.1, 3.5, 1.4, 0.2],\n",
    "    [6.2, 3.4, 5.4, 2.3]\n",
    "])  # Example new dataset (batch_size=2, input_size=4)\n",
    "\n",
    "# Make predictions\n",
    "with torch.no_grad():  # Disable gradient computation\n",
    "    predictions = model(new_data)\n",
    "    predicted_classes = torch.argmax(predictions, dim=1)\n",
    "\n",
    "print(\"Predictions:\", predictions)\n",
    "print(\"Predicted classes:\", predicted_classes)"
   ]
  },
  {
   "cell_type": "code",
   "execution_count": 2,
   "id": "30cdf4bf-88e9-41d9-837a-becb0ed6cc12",
   "metadata": {},
   "outputs": [],
   "source": [
    "input_size = 4\n",
    "hidden_size = 10\n",
    "output_size = 3  # For example, 3 classes"
   ]
  },
  {
   "cell_type": "code",
   "execution_count": 5,
   "id": "05f4e688-f610-4411-b69e-1a544899481e",
   "metadata": {},
   "outputs": [
    {
     "data": {
      "text/plain": [
       "<All keys matched successfully>"
      ]
     },
     "execution_count": 5,
     "metadata": {},
     "output_type": "execute_result"
    }
   ],
   "source": [
    "model2 = SimpleNN(input_size, hidden_size, output_size)\n",
    "model2.load_state_dict(torch.load(\"simple_nn.pth\",weights_only=True))\n",
    " "
   ]
  },
  {
   "cell_type": "code",
   "execution_count": 6,
   "id": "678c8a90-827a-4792-a431-461b59710462",
   "metadata": {},
   "outputs": [
    {
     "name": "stdout",
     "output_type": "stream",
     "text": [
      "SimpleNN(\n",
      "  (fc1): Linear(in_features=4, out_features=10, bias=True)\n",
      "  (relu): ReLU()\n",
      "  (fc2): Linear(in_features=10, out_features=3, bias=True)\n",
      ")\n"
     ]
    }
   ],
   "source": [
    "print(model2)"
   ]
  },
  {
   "cell_type": "code",
   "execution_count": 8,
   "id": "85e57ee0-1204-4e79-9e67-44d54a672b61",
   "metadata": {},
   "outputs": [],
   "source": [
    "new_data = torch.tensor([\n",
    "    [5.1, 3.5, 1.4, 0.2],\n",
    "    [6.2, 3.4, 5.4, 2.3]\n",
    "])  # Example new dataset (batch_size=2, input_size=4)\n"
   ]
  },
  {
   "cell_type": "code",
   "execution_count": 9,
   "id": "690811bd-f406-47c1-a09d-ed1cf6fdbf70",
   "metadata": {},
   "outputs": [
    {
     "name": "stdout",
     "output_type": "stream",
     "text": [
      "Predictions: tensor([[ 1.3093,  1.3642, -1.6542],\n",
      "        [ 1.3450,  1.9441, -3.4558]])\n",
      "Predicted classes: tensor([1, 1])\n"
     ]
    }
   ],
   "source": [
    "with torch.no_grad():  # Disable gradient computation\n",
    "    predictions = model2(new_data)\n",
    "    predicted_classes = torch.argmax(predictions, dim=1)\n",
    "\n",
    "print(\"Predictions:\", predictions)\n",
    "print(\"Predicted classes:\", predicted_classes)"
   ]
  },
  {
   "cell_type": "code",
   "execution_count": null,
   "id": "c1a3cf15-f937-4f76-99d1-ce00aa7a824a",
   "metadata": {},
   "outputs": [],
   "source": []
  }
 ],
 "metadata": {
  "kernelspec": {
   "display_name": "pytorch_cuda",
   "language": "python",
   "name": "pytorch_cuda"
  },
  "language_info": {
   "codemirror_mode": {
    "name": "ipython",
    "version": 3
   },
   "file_extension": ".py",
   "mimetype": "text/x-python",
   "name": "python",
   "nbconvert_exporter": "python",
   "pygments_lexer": "ipython3",
   "version": "3.11.10"
  },
  "widgets": {
   "application/vnd.jupyter.widget-state+json": {
    "state": {},
    "version_major": 2,
    "version_minor": 0
   }
  }
 },
 "nbformat": 4,
 "nbformat_minor": 5
}
