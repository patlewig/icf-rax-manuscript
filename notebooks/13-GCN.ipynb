{
 "cells": [
  {
   "cell_type": "code",
   "execution_count": 1,
   "id": "88bd2589-9c42-4f78-b4d1-f8f1c9f9488f",
   "metadata": {},
   "outputs": [],
   "source": [
    "import matplotlib.pyplot as plt"
   ]
  },
  {
   "cell_type": "code",
   "execution_count": 2,
   "id": "1b86cc3b-c006-4f7e-85b6-2cd7b0c89685",
   "metadata": {},
   "outputs": [],
   "source": [
    "import torch"
   ]
  },
  {
   "cell_type": "code",
   "execution_count": 3,
   "id": "6d176955-6181-4f46-a2f9-af94d62f79a7",
   "metadata": {},
   "outputs": [],
   "source": [
    "import numpy as np\n",
    "import pandas as pd\n",
    "from rdkit import Chem\n",
    "\n",
    "import openpyxl\n",
    "import os\n",
    "from pathlib import Path"
   ]
  },
  {
   "cell_type": "code",
   "execution_count": 4,
   "id": "3a4446eb-7f01-4ab4-97e2-5939e4774aee",
   "metadata": {},
   "outputs": [],
   "source": [
    "TOP = Path.cwd().as_posix().replace('notebooks','')\n",
    "raw_dir = Path(TOP) / 'data'/'raw'\n",
    "interim_dir = Path(TOP) / 'data'/'interim'\n",
    "external_dir = Path(TOP) / 'data'/'external'\n",
    "figures_dir = Path(TOP) / 'reports'/'figures/'\n",
    "processed_dir = Path(TOP) / 'data'/'processed'"
   ]
  },
  {
   "cell_type": "code",
   "execution_count": 5,
   "id": "76cfc4fc-4cee-406f-86d5-b2b0c2b0e192",
   "metadata": {},
   "outputs": [],
   "source": [
    "from torch.nn import Linear, Sequential, BatchNorm1d, ReLU, Dropout\n",
    "import torch.nn.functional as F\n",
    "from torch_geometric.nn import GCNConv, GINConv\n",
    "from torch_geometric.nn import global_mean_pool, global_add_pool\n",
    "from torch_geometric.data import Data, Dataset, DataLoader\n",
    "from torch_geometric.transforms import Compose"
   ]
  },
  {
   "cell_type": "code",
   "execution_count": 8,
   "id": "2b51d4cd-f426-46e4-bfd2-44b8e3d7f70f",
   "metadata": {},
   "outputs": [],
   "source": [
    "from torch_geometric.utils import subgraph\n",
    "\n",
    "class RandomNodeDrop:\n",
    "    def __init__(self, p=0.2):\n",
    "        self.p = p\n",
    "\n",
    "    def __call__(self, data):\n",
    "        # Randomly mask nodes\n",
    "        num_nodes = data.num_nodes\n",
    "        mask = torch.rand(num_nodes) > self.p  # Keep nodes with probability (1-p)\n",
    "        edge_index, _ = subgraph(mask, data.edge_index, relabel_nodes=True)\n",
    "        \n",
    "        # Update data object\n",
    "        data.edge_index = edge_index\n",
    "        if data.x is not None:  # Update node features if present\n",
    "            data.x = data.x[mask]\n",
    "        return data"
   ]
  },
  {
   "cell_type": "code",
   "execution_count": 9,
   "id": "dd943b61-a3ab-423e-a22e-5c3a1eabddeb",
   "metadata": {},
   "outputs": [],
   "source": [
    "class RandomEdgeDelete:\n",
    "    def __init__(self, p=0.2):\n",
    "        self.p = p\n",
    "\n",
    "    def __call__(self, data):\n",
    "        num_edges = data.edge_index.size(1)\n",
    "        mask = torch.rand(num_edges) > self.p\n",
    "\n",
    "        #print(f\"Original edge_index shape: {data.edge_index.shape}\")\n",
    "        #print(f\"Original edge_attr shape: {data.edge_attr.shape if data.edge_attr is not None else 'None'}\")\n",
    "        #print(f\"Mask shape: {mask.shape}\")\n",
    "\n",
    "        # Apply mask to edge_index\n",
    "        data.edge_index = data.edge_index[:, mask]\n",
    "\n",
    "        # Apply mask to edge_attr (if present)\n",
    "        if data.edge_attr is not None:\n",
    "            data.edge_attr = data.edge_attr[mask]\n",
    "\n",
    "        #print(f\"New edge_index shape: {data.edge_index.shape}\")\n",
    "        #print(f\"New edge_attr shape: {data.edge_attr.shape if data.edge_attr is not None else 'None'}\")\n",
    "\n",
    "        return data\n"
   ]
  },
  {
   "cell_type": "code",
   "execution_count": 6,
   "id": "00925ad4-607f-44f3-b5bc-674cf8c54306",
   "metadata": {},
   "outputs": [],
   "source": [
    "# Define a simple GCN model\n",
    "class GCN(torch.nn.Module):\n",
    "    def __init__(self, input_dim, hidden_dim, output_dim):\n",
    "        super(GCN, self).__init__()\n",
    "        self.conv1 = GCNConv(input_dim, hidden_dim)\n",
    "        self.conv2 = GCNConv(hidden_dim, output_dim)\n",
    "\n",
    "    def forward(self, x, edge_index):\n",
    "        x = self.conv1(x, edge_index)\n",
    "        x = F.relu(x)\n",
    "        x = self.conv2(x, edge_index)\n",
    "        return x\n"
   ]
  },
  {
   "cell_type": "code",
   "execution_count": 7,
   "id": "d43139d4-aa86-4801-a26c-525cdbc86c02",
   "metadata": {},
   "outputs": [],
   "source": [
    "def mol_to_graph(mol):\n",
    "        \"\"\"\n",
    "        Converts an RDKit mol object into a graph representation with atom and bond features.\n",
    "        \n",
    "        :param mol: RDKit mol object representing a molecule.\n",
    "        :return: PyTorch Geometric Data object containing graph representation of the molecule.\n",
    "        \"\"\"\n",
    "        atom_features = []\n",
    "        bond_features = []\n",
    "        edge_index = []\n",
    "        \n",
    "        # Atom feature extraction\n",
    "        for atom in mol.GetAtoms():\n",
    "            atom_feature = [\n",
    "                atom.GetAtomicNum(),                         # Atomic number\n",
    "                atom.GetFormalCharge(),                      # Formal charge\n",
    "                atom.GetHybridization().real,                # Hybridization\n",
    "                atom.GetIsAromatic(),                        # Aromaticity\n",
    "                atom.GetImplicitValence(),                   # Implicit valence\n",
    "                atom.GetDegree(),                            # Number of bonds to other atoms\n",
    "                atom.IsInRing(),                             # Is in ring\n",
    "                atom.GetChiralTag(),                         # Chirality\n",
    "                atom.GetExplicitValence(),                   # Explicit valence\n",
    "                atom.GetNumRadicalElectrons(),               # Number of radical electrons\n",
    "                atom.GetTotalNumHs(),                        # Total number of hydrogens\n",
    "                atom.GetIsotope(),                           # Isotope (if any)\n",
    "                atom.GetMass()                               # Atomic mass\n",
    "            ]\n",
    "            atom_features.append(atom_feature)\n",
    "        \n",
    "        # Bond feature extraction\n",
    "        for bond in mol.GetBonds():\n",
    "            i = bond.GetBeginAtomIdx()\n",
    "            j = bond.GetEndAtomIdx()\n",
    "            edge_index.extend([[i, j], [j, i]])  # Add bidirectional edges\n",
    "            \n",
    "            bond_feature = [\n",
    "                bond.GetBondTypeAsDouble(),                  # Bond type (single, double, triple, aromatic)\n",
    "                bond.GetIsConjugated(),                      # Is conjugated\n",
    "                bond.IsInRing(),                             # Is in ring\n",
    "                bond.GetStereo(),                            # Bond stereochemistry (cis/trans)\n",
    "                bond.GetBondDir()                            # Bond direction (up/down in 3D)\n",
    "            ]\n",
    "            bond_features.extend([bond_feature, bond_feature])  # Add twice for bidirectional edges\n",
    "        \n",
    "        # Convert to tensors\n",
    "        x = torch.tensor(atom_features, dtype=torch.float)\n",
    "        edge_index = torch.tensor(edge_index, dtype=torch.long).t().contiguous()\n",
    "        edge_attr = torch.tensor(bond_features, dtype=torch.float)\n",
    "        \n",
    "        return Data(x=x, edge_index=edge_index, edge_attr=edge_attr)"
   ]
  },
  {
   "cell_type": "code",
   "execution_count": 8,
   "id": "09484a7c-8dc0-4608-98ed-c1dac61c4efe",
   "metadata": {},
   "outputs": [],
   "source": [
    "# Graph contrastive learning loss\n",
    "def contrastive_loss(z1, z2, temperature=0.5):\n",
    "    # Normalize embeddings\n",
    "    z1 = F.normalize(z1, dim=-1)\n",
    "    z2 = F.normalize(z2, dim=-1)\n",
    "\n",
    "    # Compute cosine similarity\n",
    "    similarity_matrix = torch.mm(z1, z2.t())\n",
    "\n",
    "    # Exponential scaling\n",
    "    sim_exp = torch.exp(similarity_matrix / temperature)\n",
    "\n",
    "    # Contrastive loss\n",
    "    positive_samples = torch.diag(sim_exp)\n",
    "    all_samples = sim_exp.sum(dim=1)\n",
    "    loss = -torch.log(positive_samples / all_samples).mean()\n",
    "    return loss\n",
    "\n",
    "\n",
    "\n"
   ]
  },
  {
   "cell_type": "code",
   "execution_count": 9,
   "id": "da91191d-79de-45c2-95d8-c9c8c6cfe8ae",
   "metadata": {},
   "outputs": [],
   "source": [
    "class GraphData(Dataset):\n",
    "    def __init__(self, df):\n",
    "        \"\"\"\n",
    "        GraphData class inheriting from the Dataset class in PyTorch.\n",
    "\n",
    "        Parameters\n",
    "        ----------\n",
    "        df : pandas.DataFrame\n",
    "            The dataframe containing the SMILES strings.\n",
    "        \"\"\"\n",
    "        self.df = df\n",
    "        self.valid_indices = self._get_valid_indices()\n",
    "\n",
    "    def _get_valid_indices(self):\n",
    "        valid_indices = []\n",
    "        for idx in range(len(self.df)):\n",
    "            row = self.df.iloc[idx]\n",
    "            smiles = row['smiles']\n",
    "            try:\n",
    "                mol = Chem.MolFromSmiles(smiles)\n",
    "                if mol is None:\n",
    "                    raise ValueError(f\"Invalid SMILES: {smiles}\")\n",
    "                valid_indices.append(idx)\n",
    "            except Exception as e:\n",
    "                print(f\"Error processing SMILES {smiles}: {e}\")\n",
    "                continue  # Skip invalid SMILES\n",
    "        return valid_indices\n",
    "\n",
    "    def __len__(self):\n",
    "        return len(self.valid_indices)\n",
    "\n",
    "    def __getitem__(self, idx):\n",
    "        \"\"\"\n",
    "        Returns the graph representation of the molecule.\n",
    "\n",
    "        Parameters\n",
    "        ----------\n",
    "        idx : int\n",
    "            Index of the valid sample.\n",
    "\n",
    "        Returns\n",
    "        -------\n",
    "        graph : torch_geometric.data.Data\n",
    "            The graph representation of the molecule.\n",
    "        \"\"\"\n",
    "        # Use valid index to get the actual row from the dataframe\n",
    "        valid_idx = self.valid_indices[idx]\n",
    "        row = self.df.iloc[valid_idx]\n",
    "        smiles = row['smiles']\n",
    "        \n",
    "        # Process the valid SMILES string\n",
    "        mol = Chem.MolFromSmiles(smiles)\n",
    "        graph = mol_to_graph(mol)\n",
    "        \n",
    "        return graph"
   ]
  },
  {
   "cell_type": "code",
   "execution_count": 10,
   "id": "f91d3009-173e-4fce-8c98-68e7890fe296",
   "metadata": {},
   "outputs": [],
   "source": [
    "df = pd.read_csv(external_dir/'dsstox_smiles_dec24.csv', index_col = [0])"
   ]
  },
  {
   "cell_type": "code",
   "execution_count": 11,
   "id": "2f86003b-4ef7-415f-8541-36c079b6e76e",
   "metadata": {},
   "outputs": [
    {
     "data": {
      "text/html": [
       "<div>\n",
       "<style scoped>\n",
       "    .dataframe tbody tr th:only-of-type {\n",
       "        vertical-align: middle;\n",
       "    }\n",
       "\n",
       "    .dataframe tbody tr th {\n",
       "        vertical-align: top;\n",
       "    }\n",
       "\n",
       "    .dataframe thead th {\n",
       "        text-align: right;\n",
       "    }\n",
       "</style>\n",
       "<table border=\"1\" class=\"dataframe\">\n",
       "  <thead>\n",
       "    <tr style=\"text-align: right;\">\n",
       "      <th></th>\n",
       "      <th>dtxsid</th>\n",
       "      <th>smiles</th>\n",
       "    </tr>\n",
       "  </thead>\n",
       "  <tbody>\n",
       "    <tr>\n",
       "      <th>1</th>\n",
       "      <td>DTXSID70419842</td>\n",
       "      <td>CC1=NC2=C(C(C)=C1)C(=O)N=C(N2)SCC(=O)NC1=CC=CC=C1</td>\n",
       "    </tr>\n",
       "    <tr>\n",
       "      <th>2</th>\n",
       "      <td>DTXSID30419843</td>\n",
       "      <td>COC(=O)CC1=CC(=O)OC2=C1C=CC(O)=C2</td>\n",
       "    </tr>\n",
       "    <tr>\n",
       "      <th>3</th>\n",
       "      <td>DTXSID90419844</td>\n",
       "      <td>CC1=C(C(=O)C2=C(O)C=C(O)C=C2O1)C1=CC=CC=C1</td>\n",
       "    </tr>\n",
       "    <tr>\n",
       "      <th>4</th>\n",
       "      <td>DTXSID50419845</td>\n",
       "      <td>CCC1=CC(=O)OC2=C1C=CC(O)=C2</td>\n",
       "    </tr>\n",
       "    <tr>\n",
       "      <th>5</th>\n",
       "      <td>DTXSID10419846</td>\n",
       "      <td>COC1=CC=C(C=C1)C1=CC(=O)OC2=C1C=CC(O)=C2C</td>\n",
       "    </tr>\n",
       "  </tbody>\n",
       "</table>\n",
       "</div>"
      ],
      "text/plain": [
       "           dtxsid                                             smiles\n",
       "1  DTXSID70419842  CC1=NC2=C(C(C)=C1)C(=O)N=C(N2)SCC(=O)NC1=CC=CC=C1\n",
       "2  DTXSID30419843                  COC(=O)CC1=CC(=O)OC2=C1C=CC(O)=C2\n",
       "3  DTXSID90419844         CC1=C(C(=O)C2=C(O)C=C(O)C=C2O1)C1=CC=CC=C1\n",
       "4  DTXSID50419845                        CCC1=CC(=O)OC2=C1C=CC(O)=C2\n",
       "5  DTXSID10419846          COC1=CC=C(C=C1)C1=CC(=O)OC2=C1C=CC(O)=C2C"
      ]
     },
     "execution_count": 11,
     "metadata": {},
     "output_type": "execute_result"
    }
   ],
   "source": [
    "df.head()"
   ]
  },
  {
   "cell_type": "code",
   "execution_count": 12,
   "id": "ef2b8e26-6f91-4e0c-8307-1711fb2eb8f0",
   "metadata": {},
   "outputs": [],
   "source": [
    "from sklearn.model_selection import train_test_split"
   ]
  },
  {
   "cell_type": "code",
   "execution_count": 13,
   "id": "34ed20e8-83f8-4d82-80bc-376f0e31da92",
   "metadata": {},
   "outputs": [],
   "source": [
    "train, test = train_test_split(df, test_size = 0.2)"
   ]
  },
  {
   "cell_type": "code",
   "execution_count": 14,
   "id": "7a50e70b-4adf-429f-b4d7-a24c1345aaf4",
   "metadata": {},
   "outputs": [
    {
     "name": "stdout",
     "output_type": "stream",
     "text": [
      "<class 'pandas.core.frame.DataFrame'>\n",
      "Index: 434397 entries, 34870 to 66164\n",
      "Data columns (total 2 columns):\n",
      " #   Column  Non-Null Count   Dtype \n",
      "---  ------  --------------   ----- \n",
      " 0   dtxsid  434397 non-null  object\n",
      " 1   smiles  434397 non-null  object\n",
      "dtypes: object(2)\n",
      "memory usage: 9.9+ MB\n"
     ]
    }
   ],
   "source": [
    "train.info()"
   ]
  },
  {
   "cell_type": "code",
   "execution_count": 15,
   "id": "a673637c-296e-47a0-b250-0ab595025d04",
   "metadata": {},
   "outputs": [
    {
     "name": "stderr",
     "output_type": "stream",
     "text": [
      "[17:17:56] Explicit valence for atom # 17 N, 5, is greater than permitted\n"
     ]
    },
    {
     "name": "stdout",
     "output_type": "stream",
     "text": [
      "Error processing SMILES CC1(C)CC(CC(C)(C)N1O)O[P-]([O-])(N1CC1)#[N]1CC1: Invalid SMILES: CC1(C)CC(CC(C)(C)N1O)O[P-]([O-])(N1CC1)#[N]1CC1\n"
     ]
    },
    {
     "name": "stderr",
     "output_type": "stream",
     "text": [
      "[17:17:56] Explicit valence for atom # 5 C, 6, is greater than permitted\n",
      "[17:17:56] Explicit valence for atom # 11 N, 5, is greater than permitted\n"
     ]
    },
    {
     "name": "stdout",
     "output_type": "stream",
     "text": [
      "Error processing SMILES CC(=O)OC[C]1234[BH]567[BH]89%10[BH]%11%12%13[BH]585[BH]%118%11[BH]%12%12%14[BH]9%139[BH]16%10[BH]2%129[C]38%14(COC(C)=O)[BH]475%11: Invalid SMILES: CC(=O)OC[C]1234[BH]567[BH]89%10[BH]%11%12%13[BH]585[BH]%118%11[BH]%12%12%14[BH]9%139[BH]16%10[BH]2%129[C]38%14(COC(C)=O)[BH]475%11\n",
      "Error processing SMILES O=C(C(C(=O)C1=CC=CC=C1)=[N]1=CC=CC=C1)C1=CC=CC=C1: Invalid SMILES: O=C(C(C(=O)C1=CC=CC=C1)=[N]1=CC=CC=C1)C1=CC=CC=C1\n"
     ]
    },
    {
     "name": "stderr",
     "output_type": "stream",
     "text": [
      "[17:18:00] Explicit valence for atom # 1 N, 5, is greater than permitted\n"
     ]
    },
    {
     "name": "stdout",
     "output_type": "stream",
     "text": [
      "Error processing SMILES C[N](C)(C)=NC(O)=NC1=CC=CC=C1: Invalid SMILES: C[N](C)(C)=NC(O)=NC1=CC=CC=C1\n"
     ]
    },
    {
     "name": "stderr",
     "output_type": "stream",
     "text": [
      "[17:18:01] Explicit valence for atom # 4 Cl, 3, is greater than permitted\n"
     ]
    },
    {
     "name": "stdout",
     "output_type": "stream",
     "text": [
      "Error processing SMILES C[Se](C)(C)#[Cl]: Invalid SMILES: C[Se](C)(C)#[Cl]\n"
     ]
    },
    {
     "name": "stderr",
     "output_type": "stream",
     "text": [
      "[17:18:02] Explicit valence for atom # 6 N, 5, is greater than permitted\n"
     ]
    },
    {
     "name": "stdout",
     "output_type": "stream",
     "text": [
      "Error processing SMILES CN(C)C1=CC=[N](C=C1)=C1C(=O)N(C2=CC=CC=C2)C2=CC=CC=C2C1=O: Invalid SMILES: CN(C)C1=CC=[N](C=C1)=C1C(=O)N(C2=CC=CC=C2)C2=CC=CC=C2C1=O\n"
     ]
    },
    {
     "name": "stderr",
     "output_type": "stream",
     "text": [
      "[17:18:05] Explicit valence for atom # 4 Cl, 5, is greater than permitted\n"
     ]
    },
    {
     "name": "stdout",
     "output_type": "stream",
     "text": [
      "Error processing SMILES CC(CO[Cl-](COCC(F)([N+]([O-])=O)[N+]([O-])=O)(OCC(C)([N+]([O-])=O)[N+]([O-])=O)C(Cl)(Cl)SSC(Cl)(Cl)[Cl-](COCC(F)([N+]([O-])=O)[N+]([O-])=O)(OCC(C)([N+]([O-])=O)[N+]([O-])=O)OCC(C)([N+]([O-])=O)[N+]([O-])=O)([N+]([O-])=O)[N+]([O-])=O: Invalid SMILES: CC(CO[Cl-](COCC(F)([N+]([O-])=O)[N+]([O-])=O)(OCC(C)([N+]([O-])=O)[N+]([O-])=O)C(Cl)(Cl)SSC(Cl)(Cl)[Cl-](COCC(F)([N+]([O-])=O)[N+]([O-])=O)(OCC(C)([N+]([O-])=O)[N+]([O-])=O)OCC(C)([N+]([O-])=O)[N+]([O-])=O)([N+]([O-])=O)[N+]([O-])=O\n"
     ]
    },
    {
     "name": "stderr",
     "output_type": "stream",
     "text": [
      "[17:18:05] Explicit valence for atom # 1 N, 5, is greater than permitted\n"
     ]
    },
    {
     "name": "stdout",
     "output_type": "stream",
     "text": [
      "Error processing SMILES C[N](C)(C)=NC(=O)C1=CC=CC=C1C(=O)N=[N](C)(C)C: Invalid SMILES: C[N](C)(C)=NC(=O)C1=CC=CC=C1C(=O)N=[N](C)(C)C\n"
     ]
    },
    {
     "name": "stderr",
     "output_type": "stream",
     "text": [
      "[17:18:06] Explicit valence for atom # 17 N, 5, is greater than permitted\n"
     ]
    },
    {
     "name": "stdout",
     "output_type": "stream",
     "text": [
      "Error processing SMILES [S-][P-](OC1=C(Cl)C=C(Cl)C(Cl)=C1)(N1CCCC1)#[N]1CCCC1: Invalid SMILES: [S-][P-](OC1=C(Cl)C=C(Cl)C(Cl)=C1)(N1CCCC1)#[N]1CCCC1\n"
     ]
    },
    {
     "name": "stderr",
     "output_type": "stream",
     "text": [
      "[17:18:08] Explicit valence for atom # 1 B, 4, is greater than permitted\n",
      "[17:18:08] Explicit valence for atom # 4 C, 6, is greater than permitted\n"
     ]
    },
    {
     "name": "stdout",
     "output_type": "stream",
     "text": [
      "Error processing SMILES F[B]1(F)N2C=CC=C2C=C2C=CC=[N+]12: Invalid SMILES: F[B]1(F)N2C=CC=C2C=C2C=CC=[N+]12\n",
      "Error processing SMILES OC(=O)C[C]1234[BH]567[BH]89%10[BH]%11%12%13[BH]585[BH]%118%11[BH]%12%12%14[BH]9%139[BH]16%10[BH]2%129[C]38%14(C1=CC=CC=C1)[BH]475%11: Invalid SMILES: OC(=O)C[C]1234[BH]567[BH]89%10[BH]%11%12%13[BH]585[BH]%118%11[BH]%12%12%14[BH]9%139[BH]16%10[BH]2%129[C]38%14(C1=CC=CC=C1)[BH]475%11\n"
     ]
    },
    {
     "name": "stderr",
     "output_type": "stream",
     "text": [
      "[17:18:09] Explicit valence for atom # 16 N, 5, is greater than permitted\n",
      "[17:18:09] Explicit valence for atom # 0 O, 3, is greater than permitted\n"
     ]
    },
    {
     "name": "stdout",
     "output_type": "stream",
     "text": [
      "Error processing SMILES [O-][P-](OC1=CC2=CC=CC=C2C=C1)(N1CC1)#[N]1CC1: Invalid SMILES: [O-][P-](OC1=CC2=CC=CC=C2C=C1)(N1CC1)#[N]1CC1\n",
      "Error processing SMILES [O-]([Si](C1=CC=CC=C1)(C1=CC=CC=C1)C1=CC=CC=C1)[Si+4]123([O-][Si](C4=CC=CC=C4)(C4=CC=CC=C4)C4=CC=CC=C4)[N-]4C5=NC6=[N]1C(=NC1=C7C=CC=CC7=C(N=C7C8=C(C=CC=C8)C(N=C4C4=C5C=CC=C4)=[N]27)[N-]31)C1=C6C=CC=C1: Invalid SMILES: [O-]([Si](C1=CC=CC=C1)(C1=CC=CC=C1)C1=CC=CC=C1)[Si+4]123([O-][Si](C4=CC=CC=C4)(C4=CC=CC=C4)C4=CC=CC=C4)[N-]4C5=NC6=[N]1C(=NC1=C7C=CC=CC7=C(N=C7C8=C(C=CC=C8)C(N=C4C4=C5C=CC=C4)=[N]27)[N-]31)C1=C6C=CC=C1\n"
     ]
    },
    {
     "name": "stderr",
     "output_type": "stream",
     "text": [
      "[17:18:11] Explicit valence for atom # 7 N, 5, is greater than permitted\n"
     ]
    },
    {
     "name": "stdout",
     "output_type": "stream",
     "text": [
      "Error processing SMILES CC(C)(C)C(=O)N=[N](C)(C)C: Invalid SMILES: CC(C)(C)C(=O)N=[N](C)(C)C\n"
     ]
    },
    {
     "name": "stderr",
     "output_type": "stream",
     "text": [
      "[17:18:14] Explicit valence for atom # 1 Cl, 7, is greater than permitted\n"
     ]
    },
    {
     "name": "stdout",
     "output_type": "stream",
     "text": [
      "Error processing SMILES O=[Cl](=O)(=O)C1=CC=CC=C1: Invalid SMILES: O=[Cl](=O)(=O)C1=CC=CC=C1\n"
     ]
    },
    {
     "name": "stderr",
     "output_type": "stream",
     "text": [
      "[17:18:15] Explicit valence for atom # 9 Cl, 3, is greater than permitted\n"
     ]
    },
    {
     "name": "stdout",
     "output_type": "stream",
     "text": [
      "Error processing SMILES ClC1CCCCC1[Se](Cl)(#[Cl])C1CCCCC1Cl: Invalid SMILES: ClC1CCCCC1[Se](Cl)(#[Cl])C1CCCCC1Cl\n"
     ]
    },
    {
     "name": "stderr",
     "output_type": "stream",
     "text": [
      "[17:18:15] Explicit valence for atom # 3 B, 5, is greater than permitted\n"
     ]
    },
    {
     "name": "stdout",
     "output_type": "stream",
     "text": [
      "Error processing SMILES CN1C(=[BH3])N(C)C2=CC=CC=C12: Invalid SMILES: CN1C(=[BH3])N(C)C2=CC=CC=C12\n"
     ]
    },
    {
     "name": "stderr",
     "output_type": "stream",
     "text": [
      "[17:18:17] WARNING: not removing hydrogen atom without neighbors\n",
      "[17:18:19] Explicit valence for atom # 0 Cl, 3, is greater than permitted\n",
      "[17:18:19] Explicit valence for atom # 6 Cl, 7, is greater than permitted\n"
     ]
    },
    {
     "name": "stdout",
     "output_type": "stream",
     "text": [
      "Error processing SMILES [Cl-]1C23[Cl-]C12[Cl-]3: Invalid SMILES: [Cl-]1C23[Cl-]C12[Cl-]3\n",
      "Error processing SMILES CCC[Si](Cl)(Cl)[Cl](F)(F)(F)(F)(F)C1=CC=CC=C1: Invalid SMILES: CCC[Si](Cl)(Cl)[Cl](F)(F)(F)(F)(F)C1=CC=CC=C1\n"
     ]
    },
    {
     "name": "stderr",
     "output_type": "stream",
     "text": [
      "[17:18:19] Explicit valence for atom # 10 B, 6, is greater than permitted\n"
     ]
    },
    {
     "name": "stdout",
     "output_type": "stream",
     "text": [
      "Error processing SMILES O=NN(CC1=CC=CC=C1)[B]1234[BH]567[BH]89%10[BH]%11%12%13[BH]585[BH]%118%11[BH]%12%12%14[BH]9%139[BH]16%10[CH]2%129[CH]38%14[BH]475%11: Invalid SMILES: O=NN(CC1=CC=CC=C1)[B]1234[BH]567[BH]89%10[BH]%11%12%13[BH]585[BH]%118%11[BH]%12%12%14[BH]9%139[BH]16%10[CH]2%129[CH]38%14[BH]475%11\n"
     ]
    },
    {
     "name": "stderr",
     "output_type": "stream",
     "text": [
      "[17:18:21] WARNING: not removing hydrogen atom without neighbors\n",
      "[17:18:22] Explicit valence for atom # 4 Br, 3, is greater than permitted\n"
     ]
    },
    {
     "name": "stdout",
     "output_type": "stream",
     "text": [
      "Error processing SMILES FC(F)(F)[Br]=O: Invalid SMILES: FC(F)(F)[Br]=O\n"
     ]
    },
    {
     "name": "stderr",
     "output_type": "stream",
     "text": [
      "[17:18:23] Explicit valence for atom # 1 N, 5, is greater than permitted\n",
      "[17:18:23] Explicit valence for atom # 7 C, 6, is greater than permitted\n"
     ]
    },
    {
     "name": "stdout",
     "output_type": "stream",
     "text": [
      "Error processing SMILES C[N](C)(C)=NC(=O)C1=CC(=CC=C1)C(=O)N=[N](C)(C)C: Invalid SMILES: C[N](C)(C)=NC(=O)C1=CC(=CC=C1)C(=O)N=[N](C)(C)C\n",
      "Error processing SMILES C(C1=CC=CC=C1)[C]1234[BH]567[BH]89%10[BH]%11%12%13[BH]585[BH]%118%11[BH]%12%12%14[BH]9%139[BH]16%10[BH]2%129[C]38%14(CC1=CC=CC=C1)[BH]475%11: Invalid SMILES: C(C1=CC=CC=C1)[C]1234[BH]567[BH]89%10[BH]%11%12%13[BH]585[BH]%118%11[BH]%12%12%14[BH]9%139[BH]16%10[BH]2%129[C]38%14(CC1=CC=CC=C1)[BH]475%11\n"
     ]
    },
    {
     "name": "stderr",
     "output_type": "stream",
     "text": [
      "[17:18:29] Explicit valence for atom # 2 N, 5, is greater than permitted\n"
     ]
    },
    {
     "name": "stdout",
     "output_type": "stream",
     "text": [
      "Error processing SMILES CC[N](CC)(CC)(CC(F)(F)C(F)F)OS(=O)(=O)C(F)(F)F: Invalid SMILES: CC[N](CC)(CC)(CC(F)(F)C(F)F)OS(=O)(=O)C(F)(F)F\n"
     ]
    },
    {
     "name": "stderr",
     "output_type": "stream",
     "text": [
      "[17:18:30] Explicit valence for atom # 15 N, 5, is greater than permitted\n"
     ]
    },
    {
     "name": "stdout",
     "output_type": "stream",
     "text": [
      "Error processing SMILES FC(F)(F)C1=NC(=O)C(C(=N1)C(F)(F)F)=[N]1=CC=CC=C1: Invalid SMILES: FC(F)(F)C1=NC(=O)C(C(=N1)C(F)(F)F)=[N]1=CC=CC=C1\n"
     ]
    },
    {
     "name": "stderr",
     "output_type": "stream",
     "text": [
      "[17:18:31] Explicit valence for atom # 0 B, 5, is greater than permitted\n"
     ]
    },
    {
     "name": "stdout",
     "output_type": "stream",
     "text": [
      "Error processing SMILES [H][B]([H])([H])=C=O: Invalid SMILES: [H][B]([H])([H])=C=O\n"
     ]
    },
    {
     "name": "stderr",
     "output_type": "stream",
     "text": [
      "[17:18:31] Explicit valence for atom # 9 Cl, 3, is greater than permitted\n"
     ]
    },
    {
     "name": "stdout",
     "output_type": "stream",
     "text": [
      "Error processing SMILES CCOC(CC[Si](Cl)(Cl)[Cl-]OC)(OCC)OCC: Invalid SMILES: CCOC(CC[Si](Cl)(Cl)[Cl-]OC)(OCC)OCC\n"
     ]
    },
    {
     "name": "stderr",
     "output_type": "stream",
     "text": [
      "[17:18:33] Explicit valence for atom # 2 O, 3, is greater than permitted\n"
     ]
    },
    {
     "name": "stdout",
     "output_type": "stream",
     "text": [
      "Error processing SMILES CC[O]1CCO[B]1(F)F: Invalid SMILES: CC[O]1CCO[B]1(F)F\n"
     ]
    },
    {
     "name": "stderr",
     "output_type": "stream",
     "text": [
      "[17:18:35] Explicit valence for atom # 8 Br, 3, is greater than permitted\n",
      "[17:18:35] Explicit valence for atom # 6 Cl, 3, is greater than permitted\n"
     ]
    },
    {
     "name": "stdout",
     "output_type": "stream",
     "text": [
      "Error processing SMILES [H]C(=C([H])C1=CC=C(C=C1)[Br]=O)C(=O)C1=CC=CC=C1: Invalid SMILES: [H]C(=C([H])C1=CC=C(C=C1)[Br]=O)C(=O)C1=CC=CC=C1\n",
      "Error processing SMILES OC(=O)COO[Cl](Cl)Cl: Invalid SMILES: OC(=O)COO[Cl](Cl)Cl\n"
     ]
    },
    {
     "name": "stderr",
     "output_type": "stream",
     "text": [
      "[17:18:37] Explicit valence for atom # 11 Cl, 3, is greater than permitted\n"
     ]
    },
    {
     "name": "stdout",
     "output_type": "stream",
     "text": [
      "Error processing SMILES CCOC1CCCCC1[Se](Cl)(#[Cl])C1CCCCC1OCC: Invalid SMILES: CCOC1CCCCC1[Se](Cl)(#[Cl])C1CCCCC1OCC\n"
     ]
    },
    {
     "name": "stderr",
     "output_type": "stream",
     "text": [
      "[17:18:37] Explicit valence for atom # 0 C, 6, is greater than permitted\n"
     ]
    },
    {
     "name": "stdout",
     "output_type": "stream",
     "text": [
      "Error processing SMILES [H][C-]1(I)(CC(F)(F)C(F)(F)C(F)(F)C(F)(F)C(F)(F)C(F)F)OCCN2CCO[Si+]1OCC2: Invalid SMILES: [H][C-]1(I)(CC(F)(F)C(F)(F)C(F)(F)C(F)(F)C(F)(F)C(F)F)OCCN2CCO[Si+]1OCC2\n"
     ]
    },
    {
     "name": "stderr",
     "output_type": "stream",
     "text": [
      "[17:18:38] Explicit valence for atom # 6 C, 6, is greater than permitted\n"
     ]
    },
    {
     "name": "stdout",
     "output_type": "stream",
     "text": [
      "Error processing SMILES C1=CC=C(C=C1)[C]1234[BH]567[BH]89%10[BH]%11%12%13[BH]585[BH]%118%11[BH]%12%12%14[BH]9%139[BH]16%10[BH]2%129[C]38%14(C1=CC=CC=C1)[BH]475%11: Invalid SMILES: C1=CC=C(C=C1)[C]1234[BH]567[BH]89%10[BH]%11%12%13[BH]585[BH]%118%11[BH]%12%12%14[BH]9%139[BH]16%10[BH]2%129[C]38%14(C1=CC=CC=C1)[BH]475%11\n"
     ]
    },
    {
     "name": "stderr",
     "output_type": "stream",
     "text": [
      "[17:18:39] Explicit valence for atom # 2 B, 6, is greater than permitted\n"
     ]
    },
    {
     "name": "stdout",
     "output_type": "stream",
     "text": [
      "Error processing SMILES C(=N[B]1234[BH]567[BH]89%10[BH]55%11[BH]88%12[BH]%13%14%15[BH]11([BH]269[CH]%108%131)[BH]3%141[BH]475[CH]%11%12%151)C1=CC=CC=C1: Invalid SMILES: C(=N[B]1234[BH]567[BH]89%10[BH]55%11[BH]88%12[BH]%13%14%15[BH]11([BH]269[CH]%108%131)[BH]3%141[BH]475[CH]%11%12%151)C1=CC=CC=C1\n"
     ]
    },
    {
     "name": "stderr",
     "output_type": "stream",
     "text": [
      "[17:18:40] Explicit valence for atom # 3 Br, 3, is greater than permitted\n"
     ]
    },
    {
     "name": "stdout",
     "output_type": "stream",
     "text": [
      "Error processing SMILES C1CC[Br-]OC1: Invalid SMILES: C1CC[Br-]OC1\n"
     ]
    },
    {
     "name": "stderr",
     "output_type": "stream",
     "text": [
      "[17:18:40] Explicit valence for atom # 1 N, 5, is greater than permitted\n"
     ]
    },
    {
     "name": "stdout",
     "output_type": "stream",
     "text": [
      "Error processing SMILES C[N](C)(C)=NC(=O)C1=CC=C(C=C1)C(=O)N=[N](C)(C)C: Invalid SMILES: C[N](C)(C)=NC(=O)C1=CC=C(C=C1)C(=O)N=[N](C)(C)C\n"
     ]
    },
    {
     "name": "stderr",
     "output_type": "stream",
     "text": [
      "[17:18:42] Explicit valence for atom # 8 C, 6, is greater than permitted\n",
      "[17:18:42] Explicit valence for atom # 8 C, 6, is greater than permitted\n"
     ]
    },
    {
     "name": "stdout",
     "output_type": "stream",
     "text": [
      "Error processing SMILES C[Si](C)(O)O[Si](C)(C)[C]1234[BH]567[BH]89%10[BH]55%11[BH]88%12[BH]99%13[BH]16%10[BH]291[BH]323[BH]475[BH]%1182[C]%12%1313[Si](C)(C)O[Si](C)(C)O[Si](C)(O)C1=CC=CC=C1: Invalid SMILES: C[Si](C)(O)O[Si](C)(C)[C]1234[BH]567[BH]89%10[BH]55%11[BH]88%12[BH]99%13[BH]16%10[BH]291[BH]323[BH]475[BH]%1182[C]%12%1313[Si](C)(C)O[Si](C)(C)O[Si](C)(O)C1=CC=CC=C1\n",
      "Error processing SMILES O=C(C1=CC=CC=C1)[C]1234[BH]567[BH]89%10[BH]55%11[BH]88%12[BH]99%13[BH]16%10[BH]291[BH]323[BH]58([BH]47%112)P%12%1313: Invalid SMILES: O=C(C1=CC=CC=C1)[C]1234[BH]567[BH]89%10[BH]55%11[BH]88%12[BH]99%13[BH]16%10[BH]291[BH]323[BH]58([BH]47%112)P%12%1313\n"
     ]
    },
    {
     "name": "stderr",
     "output_type": "stream",
     "text": [
      "[17:18:42] Explicit valence for atom # 7 Cl, 7, is greater than permitted\n"
     ]
    },
    {
     "name": "stdout",
     "output_type": "stream",
     "text": [
      "Error processing SMILES ClC1=CC=C(C=C1)[Cl](=O)(=O)=O: Invalid SMILES: ClC1=CC=C(C=C1)[Cl](=O)(=O)=O\n"
     ]
    },
    {
     "name": "stderr",
     "output_type": "stream",
     "text": [
      "[17:18:43] Explicit valence for atom # 4 N, 5, is greater than permitted\n"
     ]
    },
    {
     "name": "stdout",
     "output_type": "stream",
     "text": [
      "Error processing SMILES CC(O)C[N](C)(C)=NC(=O)CCCCC(=O)N=[N](C)(C)CC(C)O: Invalid SMILES: CC(O)C[N](C)(C)=NC(=O)CCCCC(=O)N=[N](C)(C)CC(C)O\n"
     ]
    },
    {
     "name": "stderr",
     "output_type": "stream",
     "text": [
      "[17:18:44] Explicit valence for atom # 2 N, 4, is greater than permitted\n"
     ]
    },
    {
     "name": "stdout",
     "output_type": "stream",
     "text": [
      "Error processing SMILES [N-]=[N+]=[N-][B+3]([N-]=[N+]=[N-])([C-]1=CC=CC=C1)[N]1=CC=CC=C1: Invalid SMILES: [N-]=[N+]=[N-][B+3]([N-]=[N+]=[N-])([C-]1=CC=CC=C1)[N]1=CC=CC=C1\n"
     ]
    },
    {
     "name": "stderr",
     "output_type": "stream",
     "text": [
      "[17:18:46] Explicit valence for atom # 7 Cl, 5, is greater than permitted\n"
     ]
    },
    {
     "name": "stdout",
     "output_type": "stream",
     "text": [
      "Error processing SMILES [O-][N+](=O)C(F)(CO[Cl-](COCC(F)(F)F)(OCC(F)([N+]([O-])=O)[N+]([O-])=O)C(Cl)(Cl)SSC(Cl)(Cl)[Cl-](COCC(F)(F)F)(OCC(F)([N+]([O-])=O)[N+]([O-])=O)OCC(F)([N+]([O-])=O)[N+]([O-])=O)[N+]([O-])=O: Invalid SMILES: [O-][N+](=O)C(F)(CO[Cl-](COCC(F)(F)F)(OCC(F)([N+]([O-])=O)[N+]([O-])=O)C(Cl)(Cl)SSC(Cl)(Cl)[Cl-](COCC(F)(F)F)(OCC(F)([N+]([O-])=O)[N+]([O-])=O)OCC(F)([N+]([O-])=O)[N+]([O-])=O)[N+]([O-])=O\n"
     ]
    },
    {
     "name": "stderr",
     "output_type": "stream",
     "text": [
      "[17:18:51] Explicit valence for atom # 3 B, 4, is greater than permitted\n"
     ]
    },
    {
     "name": "stdout",
     "output_type": "stream",
     "text": [
      "Error processing SMILES CN(C)[B](F)(F)F: Invalid SMILES: CN(C)[B](F)(F)F\n"
     ]
    },
    {
     "name": "stderr",
     "output_type": "stream",
     "text": [
      "[17:18:52] Explicit valence for atom # 4 B, 4, is greater than permitted\n"
     ]
    },
    {
     "name": "stdout",
     "output_type": "stream",
     "text": [
      "Error processing SMILES CC(C)C[B]1([H][B]([H]1)(CC(C)C)CC(C)C)CC(C)C: Invalid SMILES: CC(C)C[B]1([H][B]([H]1)(CC(C)C)CC(C)C)CC(C)C\n"
     ]
    },
    {
     "name": "stderr",
     "output_type": "stream",
     "text": [
      "[17:18:52] Explicit valence for atom # 20 N, 5, is greater than permitted\n"
     ]
    },
    {
     "name": "stdout",
     "output_type": "stream",
     "text": [
      "Error processing SMILES [O-][P-](OC1=CC=C(OCC2=CC=CC=C2)C=C1)(N1CC1)#[N]1CC1: Invalid SMILES: [O-][P-](OC1=CC=C(OCC2=CC=CC=C2)C=C1)(N1CC1)#[N]1CC1\n"
     ]
    },
    {
     "name": "stderr",
     "output_type": "stream",
     "text": [
      "[17:18:53] Explicit valence for atom # 12 C, 6, is greater than permitted\n"
     ]
    },
    {
     "name": "stdout",
     "output_type": "stream",
     "text": [
      "Error processing SMILES C[Si](C)(O)O[Si](C)(C)O[Si](C)(C)[C]1234[BH]567[BH]89%10[BH]55%11[BH]88%12[BH]99%13[BH]16%10[BH]291[BH]323[BH]58([BH]47%112)[C]%12%1313[Si](C)(C)O: Invalid SMILES: C[Si](C)(O)O[Si](C)(C)O[Si](C)(C)[C]1234[BH]567[BH]89%10[BH]55%11[BH]88%12[BH]99%13[BH]16%10[BH]291[BH]323[BH]58([BH]47%112)[C]%12%1313[Si](C)(C)O\n"
     ]
    }
   ],
   "source": [
    "train_data = GraphData(train)"
   ]
  },
  {
   "cell_type": "code",
   "execution_count": 16,
   "id": "d7b2656d-185b-4928-b493-3e88fefc8d46",
   "metadata": {},
   "outputs": [
    {
     "data": {
      "text/plain": [
       "GraphData(434351)"
      ]
     },
     "execution_count": 16,
     "metadata": {},
     "output_type": "execute_result"
    }
   ],
   "source": [
    "train_data"
   ]
  },
  {
   "cell_type": "code",
   "execution_count": 17,
   "id": "02108559-9b86-44d4-b73d-bcb5f2ae90a9",
   "metadata": {},
   "outputs": [
    {
     "data": {
      "text/plain": [
       "(108600, 2)"
      ]
     },
     "execution_count": 17,
     "metadata": {},
     "output_type": "execute_result"
    }
   ],
   "source": [
    "test.shape"
   ]
  },
  {
   "cell_type": "code",
   "execution_count": 18,
   "id": "0b0d7914-bc43-4652-a599-a4e648d304d5",
   "metadata": {},
   "outputs": [
    {
     "name": "stderr",
     "output_type": "stream",
     "text": [
      "[17:18:59] Explicit valence for atom # 22 N, 5, is greater than permitted\n"
     ]
    },
    {
     "name": "stdout",
     "output_type": "stream",
     "text": [
      "Error processing SMILES COC(=O)C1=CC=C(OC(=O)NC2=CC=C(O[P-]([O-])(N3CC3)#[N]3CC3)C=C2)C=C1: Invalid SMILES: COC(=O)C1=CC=C(OC(=O)NC2=CC=C(O[P-]([O-])(N3CC3)#[N]3CC3)C=C2)C=C1\n"
     ]
    },
    {
     "name": "stderr",
     "output_type": "stream",
     "text": [
      "[17:19:00] Explicit valence for atom # 1 C, 6, is greater than permitted\n"
     ]
    },
    {
     "name": "stdout",
     "output_type": "stream",
     "text": [
      "Error processing SMILES C[C]1234[BH]567[BH]89%10[BH]55%11[BH]88%12[BH]99%13[BH]16%10[BH]291[BH]323[BH]475[BH]%1182[C]%12%1313C1=CC=CC(F)=C1: Invalid SMILES: C[C]1234[BH]567[BH]89%10[BH]55%11[BH]88%12[BH]99%13[BH]16%10[BH]291[BH]323[BH]475[BH]%1182[C]%12%1313C1=CC=CC(F)=C1\n"
     ]
    },
    {
     "name": "stderr",
     "output_type": "stream",
     "text": [
      "[17:19:03] Explicit valence for atom # 1 Cl, 3, is greater than permitted\n"
     ]
    },
    {
     "name": "stdout",
     "output_type": "stream",
     "text": [
      "Error processing SMILES C[Cl-]OOC(=O)CCC1=CC=CC=C1: Invalid SMILES: C[Cl-]OOC(=O)CCC1=CC=CC=C1\n"
     ]
    },
    {
     "name": "stderr",
     "output_type": "stream",
     "text": [
      "[17:19:03] Explicit valence for atom # 11 N, 5, is greater than permitted\n"
     ]
    },
    {
     "name": "stdout",
     "output_type": "stream",
     "text": [
      "Error processing SMILES CCOC(=O)C(C(=O)OCC)=[N]1=CC=CC=C1: Invalid SMILES: CCOC(=O)C(C(=O)OCC)=[N]1=CC=CC=C1\n"
     ]
    },
    {
     "name": "stderr",
     "output_type": "stream",
     "text": [
      "[17:19:04] Explicit valence for atom # 7 C, 6, is greater than permitted\n"
     ]
    },
    {
     "name": "stdout",
     "output_type": "stream",
     "text": [
      "Error processing SMILES O=C1N(CCCC[C]2345[BH]678[BH]9%10%11[BH]%12%13%14[BH]696[BH]%129%12[BH]%13%13%15[BH]%10%14%10[BH]27%11[BH]3%13%10[CH]49%15[BH]586%12)C(=O)C2=CC=CC=C12: Invalid SMILES: O=C1N(CCCC[C]2345[BH]678[BH]9%10%11[BH]%12%13%14[BH]696[BH]%129%12[BH]%13%13%15[BH]%10%14%10[BH]27%11[BH]3%13%10[CH]49%15[BH]586%12)C(=O)C2=CC=CC=C12\n"
     ]
    },
    {
     "name": "stderr",
     "output_type": "stream",
     "text": [
      "[17:19:07] Explicit valence for atom # 7 C, 6, is greater than permitted\n"
     ]
    },
    {
     "name": "stdout",
     "output_type": "stream",
     "text": [
      "Error processing SMILES CC(C)P(C(C)C)[C]1234[BH]567[BH]89%10[BH]%11%12%13[BH]585[BH]%118%11[BH]%12%12%14[BH]9%139[BH]16%10[BH]2%129[C]38%14(C1=CC=CC=C1)[BH]475%11: Invalid SMILES: CC(C)P(C(C)C)[C]1234[BH]567[BH]89%10[BH]%11%12%13[BH]585[BH]%118%11[BH]%12%12%14[BH]9%139[BH]16%10[BH]2%129[C]38%14(C1=CC=CC=C1)[BH]475%11\n"
     ]
    },
    {
     "name": "stderr",
     "output_type": "stream",
     "text": [
      "[17:19:08] Explicit valence for atom # 3 C, 6, is greater than permitted\n"
     ]
    },
    {
     "name": "stdout",
     "output_type": "stream",
     "text": [
      "Error processing SMILES [N-]=[N+]=N[C]1234[BH]567[BH]89%10[BH]%11%12%13[BH]585[BH]%118%11[BH]%12%12%14[BH]9%139[BH]16%10[BH]2%129[C]38%14(C1=CC=CC=C1)[BH]475%11: Invalid SMILES: [N-]=[N+]=N[C]1234[BH]567[BH]89%10[BH]%11%12%13[BH]585[BH]%118%11[BH]%12%12%14[BH]9%139[BH]16%10[BH]2%129[C]38%14(C1=CC=CC=C1)[BH]475%11\n"
     ]
    },
    {
     "name": "stderr",
     "output_type": "stream",
     "text": [
      "[17:19:09] Explicit valence for atom # 1 N, 4, is greater than permitted\n"
     ]
    },
    {
     "name": "stdout",
     "output_type": "stream",
     "text": [
      "Error processing SMILES C[N](C)(CCCN1C2=CC=CC=C2SC2=C1C=C(Cl)C=C2)[B]1234[BH]567[BH]89%10[BH]%11%12%13[BH]585[BH]%118%11[BH]%12%12%14[BH]9%139[BH]16%10[BH]2%129[BH]38%14[BH]475%11: Invalid SMILES: C[N](C)(CCCN1C2=CC=CC=C2SC2=C1C=C(Cl)C=C2)[B]1234[BH]567[BH]89%10[BH]%11%12%13[BH]585[BH]%118%11[BH]%12%12%14[BH]9%139[BH]16%10[BH]2%129[BH]38%14[BH]475%11\n"
     ]
    },
    {
     "name": "stderr",
     "output_type": "stream",
     "text": [
      "[17:19:10] Explicit valence for atom # 7 Cl, 7, is greater than permitted\n",
      "[17:19:10] Explicit valence for atom # 7 Cl, 3, is greater than permitted\n"
     ]
    },
    {
     "name": "stdout",
     "output_type": "stream",
     "text": [
      "Error processing SMILES FC1=CC=C(C=C1)[Cl](=O)(=O)=O: Invalid SMILES: FC1=CC=C(C=C1)[Cl](=O)(=O)=O\n",
      "Error processing SMILES [O-][N+](=O)C(F)(CO[Cl](C(OCC(F)(F)F)OCC(F)(F)F)C(Cl)(Cl)SSC(Cl)(Cl)[Cl](OCC(F)([N+]([O-])=O)[N+]([O-])=O)C(OCC(F)(F)F)OCC(F)(F)F)[N+]([O-])=O: Invalid SMILES: [O-][N+](=O)C(F)(CO[Cl](C(OCC(F)(F)F)OCC(F)(F)F)C(Cl)(Cl)SSC(Cl)(Cl)[Cl](OCC(F)([N+]([O-])=O)[N+]([O-])=O)C(OCC(F)(F)F)OCC(F)(F)F)[N+]([O-])=O\n"
     ]
    }
   ],
   "source": [
    "test_data = GraphData(test)"
   ]
  },
  {
   "cell_type": "code",
   "execution_count": 19,
   "id": "2a7019ad-1aca-4aaf-80be-97648116ee15",
   "metadata": {},
   "outputs": [
    {
     "data": {
      "text/plain": [
       "GraphData(108590)"
      ]
     },
     "execution_count": 19,
     "metadata": {},
     "output_type": "execute_result"
    }
   ],
   "source": [
    "test_data"
   ]
  },
  {
   "cell_type": "code",
   "execution_count": 20,
   "id": "31c02178-7c85-438a-b4c4-62062c5abc5e",
   "metadata": {},
   "outputs": [
    {
     "data": {
      "text/plain": [
       "Data(x=[10, 13], edge_index=[2, 20], edge_attr=[20, 5])"
      ]
     },
     "execution_count": 20,
     "metadata": {},
     "output_type": "execute_result"
    }
   ],
   "source": [
    "train_data[0]"
   ]
  },
  {
   "cell_type": "code",
   "execution_count": 45,
   "id": "2f7725fc-50b8-4416-9c85-b9f2e1c31206",
   "metadata": {},
   "outputs": [],
   "source": [
    "class RandomSubgraph:\n",
    "    def __init__(self, num_nodes: int):\n",
    "        self.num_nodes = num_nodes\n",
    "\n",
    "    def __call__(self, data):\n",
    "        import random\n",
    "        from torch_geometric.utils import subgraph\n",
    "\n",
    "        # Select random nodes from the graph\n",
    "        num_nodes = data.num_nodes\n",
    "        if self.num_nodes >= num_nodes:\n",
    "            return data  # Return the original graph if too few nodes to sample\n",
    "\n",
    "        random_nodes = random.sample(range(num_nodes), self.num_nodes)\n",
    "\n",
    "        # Generate subgraph\n",
    "        edge_index, edge_mask = subgraph(\n",
    "            random_nodes, edge_index=data.edge_index, relabel_nodes=True, num_nodes=num_nodes\n",
    "        )\n",
    "        # Create a new `Data` object to avoid modifying the input `data` in place\n",
    "        subgraph_data = Data()\n",
    "\n",
    "        # Update node features\n",
    "        if data.x is not None:\n",
    "            subgraph_data.x = data.x[random_nodes]\n",
    "\n",
    "        # Update edge index\n",
    "        subgraph_data.edge_index = edge_index\n",
    "\n",
    "        # Update edge attributes if present\n",
    "        if data.edge_attr is not None:\n",
    "            subgraph_data.edge_attr = data.edge_attr[edge_mask]\n",
    "\n",
    "        # Copy additional attributes (e.g., labels, targets)\n",
    "        for key in data.keys():  # Corrected here\n",
    "            if key not in ['x', 'edge_index', 'edge_attr']:\n",
    "                subgraph_data[key] = data[key]\n",
    "\n",
    "        return subgraph_data"
   ]
  },
  {
   "cell_type": "code",
   "execution_count": 21,
   "id": "dd9efe27-a63a-405e-9a9f-b74c54cc15e1",
   "metadata": {},
   "outputs": [],
   "source": [
    "from torch_geometric.transforms import RandomLinkSplit, RandomNodeSplit"
   ]
  },
  {
   "cell_type": "code",
   "execution_count": 25,
   "id": "8b87eead-27fd-45eb-936b-69019a3ecb6a",
   "metadata": {},
   "outputs": [],
   "source": [
    "transform = Compose([RandomNodeSplit(split=\"train_rest\", num_train_per_class=5),RandomLinkSplit(is_undirected=True, add_negative_train_samples=False)])"
   ]
  },
  {
   "cell_type": "code",
   "execution_count": 62,
   "id": "40892bc5-29a7-485f-8b99-d5a5e14e3cc0",
   "metadata": {},
   "outputs": [
    {
     "ename": "SyntaxError",
     "evalue": "incomplete input (3158717337.py, line 1)",
     "output_type": "error",
     "traceback": [
      "\u001b[0;36m  Cell \u001b[0;32mIn[62], line 1\u001b[0;36m\u001b[0m\n\u001b[0;31m    '''for i, graph in enumerate(train_data):\u001b[0m\n\u001b[0m    ^\u001b[0m\n\u001b[0;31mSyntaxError\u001b[0m\u001b[0;31m:\u001b[0m incomplete input\n"
     ]
    }
   ],
   "source": [
    "'''for i, graph in enumerate(train_data):\n",
    "    print(f\"Graph {i} before transforms:\", graph)\n",
    "    try:\n",
    "        transformed_graph = transform(graph)\n",
    "        print(f\"Graph {i} after transforms:\", transformed_graph)\n",
    "    except Exception as e:\n",
    "        print(f\"Error with Graph {i}:\", e)\n",
    "        break"
   ]
  },
  {
   "cell_type": "code",
   "execution_count": 69,
   "id": "93e5071d-d28e-4b4c-b9f4-5a4356c3f2e3",
   "metadata": {},
   "outputs": [
    {
     "name": "stdout",
     "output_type": "stream",
     "text": [
      "g1 type: <class 'torch_geometric.data.data.Data'>\n",
      "g2 type: <class 'tuple'>\n"
     ]
    }
   ],
   "source": [
    "for graph in train_data:\n",
    "    g1 = RandomNodeSplit(split=\"train_rest\", num_train_per_class=5)(graph)\n",
    "    g2 = RandomLinkSplit(is_undirected=True, add_negative_train_samples=False)(graph)\n",
    "    print(\"g1 type:\", type(g1))\n",
    "    print(\"g2 type:\", type(g2))\n",
    "    break"
   ]
  },
  {
   "cell_type": "code",
   "execution_count": 73,
   "id": "e3d7d938-c7e2-4f81-8b79-3e2bdf09c5a8",
   "metadata": {},
   "outputs": [
    {
     "name": "stdout",
     "output_type": "stream",
     "text": [
      "g2_pos type: <class 'torch_geometric.data.data.Data'>\n",
      "g2_neg type: <class 'torch_geometric.data.data.Data'>\n"
     ]
    }
   ],
   "source": [
    "for graph in train_data:\n",
    "    # Apply RandomNodeSplit to get one graph\n",
    "   # g1 = RandomNodeSplit(split=\"train_rest\", num_train_per_class=5)(graph)\n",
    "\n",
    "    # Apply RandomLinkSplit to get a tuple of graphs\n",
    "    split_graphs = RandomLinkSplit(is_undirected=True, add_negative_train_samples=False)(graph)\n",
    "    \n",
    "    # Access the positive and negative graphs from the tuple\n",
    "    g2_pos = split_graphs[0]\n",
    "    g2_neg = split_graphs[1]\n",
    "\n",
    "    print(\"g2_pos type:\", type(g2_pos))  # Positive links graph\n",
    "    print(\"g2_neg type:\", type(g2_neg))  # Negative links graph\n",
    "    \n",
    "    break"
   ]
  },
  {
   "cell_type": "code",
   "execution_count": 33,
   "id": "89055abb-7ba6-48a1-b3ca-7562509db787",
   "metadata": {},
   "outputs": [],
   "source": [
    "def collate_fn(batch):\n",
    "    # Filter out None values from the batch\n",
    "    batch = [item for item in batch if item is not None]\n",
    "    \n",
    "    if len(batch) == 0:\n",
    "        return None  # If no valid data left, return None (or you could return an empty batch)\n",
    "    \n",
    "    # Otherwise, proceed with the batch processing (you might need to adapt for your graph data)\n",
    "    return batch\n"
   ]
  },
  {
   "cell_type": "code",
   "execution_count": 22,
   "id": "9de59d5b-0a11-4a57-a87e-05c9c3dce284",
   "metadata": {},
   "outputs": [
    {
     "name": "stderr",
     "output_type": "stream",
     "text": [
      "/home/grace/anaconda3/envs/pytorch_cuda/lib/python3.11/site-packages/torch_geometric/deprecation.py:26: UserWarning: 'data.DataLoader' is deprecated, use 'loader.DataLoader' instead\n",
      "  warnings.warn(out)\n"
     ]
    }
   ],
   "source": [
    "train_loader = DataLoader(train_data, batch_size=100, shuffle=True, drop_last=True)\n",
    "test_loader = DataLoader(test_data, batch_size=100, shuffle=False, drop_last=True)\n"
   ]
  },
  {
   "cell_type": "code",
   "execution_count": null,
   "id": "af9588cc-e8e9-4a32-964c-1021701d9223",
   "metadata": {},
   "outputs": [],
   "source": [
    "for data in train_loader:\n",
    "    print(data)\n",
    "    break"
   ]
  },
  {
   "cell_type": "code",
   "execution_count": null,
   "id": "d935c091-db1b-499e-b8d0-bd425577341e",
   "metadata": {},
   "outputs": [
    {
     "name": "stderr",
     "output_type": "stream",
     "text": [
      "[17:22:33] WARNING: not removing hydrogen atom without neighbors\n",
      "[17:23:20] WARNING: not removing hydrogen atom without neighbors\n"
     ]
    },
    {
     "name": "stdout",
     "output_type": "stream",
     "text": [
      "Epoch 1, Loss: 6.0885\n"
     ]
    },
    {
     "name": "stderr",
     "output_type": "stream",
     "text": [
      "[17:25:25] WARNING: not removing hydrogen atom without neighbors\n",
      "[17:28:38] WARNING: not removing hydrogen atom without neighbors\n"
     ]
    },
    {
     "name": "stdout",
     "output_type": "stream",
     "text": [
      "Epoch 2, Loss: 6.0454\n"
     ]
    },
    {
     "name": "stderr",
     "output_type": "stream",
     "text": [
      "[17:32:03] WARNING: not removing hydrogen atom without neighbors\n",
      "[17:32:57] WARNING: not removing hydrogen atom without neighbors\n"
     ]
    },
    {
     "name": "stdout",
     "output_type": "stream",
     "text": [
      "Epoch 3, Loss: 6.0359\n"
     ]
    },
    {
     "name": "stderr",
     "output_type": "stream",
     "text": [
      "[17:36:36] WARNING: not removing hydrogen atom without neighbors\n",
      "[17:38:31] WARNING: not removing hydrogen atom without neighbors\n"
     ]
    },
    {
     "name": "stdout",
     "output_type": "stream",
     "text": [
      "Epoch 4, Loss: 6.0294\n"
     ]
    },
    {
     "name": "stderr",
     "output_type": "stream",
     "text": [
      "[17:41:42] WARNING: not removing hydrogen atom without neighbors\n"
     ]
    }
   ],
   "source": [
    "# Define transforms\n",
    "node_split_transform = RandomNodeSplit(split=\"train_rest\", num_train_per_class=5)\n",
    "link_split_transform = RandomLinkSplit(is_undirected=True, add_negative_train_samples=False)\n",
    "\n",
    "# Model and optimizer\n",
    "model = GCN(input_dim=train_data[0].num_features, hidden_dim=32, output_dim=16)\n",
    "optimizer = torch.optim.Adam(model.parameters(), lr=0.01)\n",
    "\n",
    "# Contrastive learning loop\n",
    "epochs = 5\n",
    "\n",
    "for epoch in range(epochs):\n",
    "    total_loss = 0\n",
    "\n",
    "    for batch in train_loader:\n",
    "        # Apply RandomNodeSplit for the first augmented graph\n",
    "        \n",
    "        g1 = node_split_transform(batch)\n",
    "\n",
    "        # Apply RandomLinkSplit to get positive and negative graphs\n",
    "        g2_pos, g2_neg, _ = link_split_transform(batch)\n",
    "\n",
    "        # Forward pass with positive graph\n",
    "        z1 = model(g1.x, g1.edge_index)  # Forward pass on the first graph (g1)\n",
    "        z2 = model(g2_pos.x, g2_pos.edge_index)  # Forward pass on the second graph (g2_pos)\n",
    "\n",
    "        # Compute contrastive loss with the positive graphs\n",
    "        loss = contrastive_loss(z1, z2)\n",
    "\n",
    "        total_loss += loss.item()\n",
    "\n",
    "        # Backpropagation\n",
    "        optimizer.zero_grad()\n",
    "        loss.backward()\n",
    "        optimizer.step()\n",
    "\n",
    "    print(f\"Epoch {epoch+1}, Loss: {total_loss / len(train_loader):.4f}\")"
   ]
  },
  {
   "cell_type": "code",
   "execution_count": null,
   "id": "6032a25e-175d-4edd-b8cf-8500385a8778",
   "metadata": {},
   "outputs": [],
   "source": []
  },
  {
   "cell_type": "code",
   "execution_count": null,
   "id": "939d3f45-d7ff-4aa3-a02e-e48edfaea4c6",
   "metadata": {},
   "outputs": [],
   "source": [
    "import torch\n",
    "import torch.nn as nn\n",
    "import torch.optim as optim\n",
    "from torch.utils.data import DataLoader, random_split, TensorDataset\n",
    "import optuna\n",
    "\n",
    "# Define the model\n",
    "class SimpleNet(nn.Module):\n",
    "    def __init__(self, input_size, hidden_size, output_size):\n",
    "        super(SimpleNet, self).__init__()\n",
    "        self.fc1 = nn.Linear(input_size, hidden_size)\n",
    "        self.relu = nn.ReLU()\n",
    "        self.fc2 = nn.Linear(hidden_size, output_size)\n",
    "\n",
    "    def forward(self, x):\n",
    "        x = self.fc1(x)\n",
    "        x = self.relu(x)\n",
    "        x = self.fc2(x)\n",
    "        return x\n",
    "\n",
    "# Training function\n",
    "def train_model(model, criterion, optimizer, train_loader, device):\n",
    "    model.train()\n",
    "    total_loss = 0\n",
    "    for inputs, targets in train_loader:\n",
    "        inputs, targets = inputs.to(device), targets.to(device)\n",
    "        optimizer.zero_grad()\n",
    "        outputs = model(inputs)\n",
    "        loss = criterion(outputs, targets)\n",
    "        loss.backward()\n",
    "        optimizer.step()\n",
    "        total_loss += loss.item()\n",
    "    return total_loss / len(train_loader)\n",
    "\n",
    "# Validation function\n",
    "def validate_model(model, criterion, val_loader, device):\n",
    "    model.eval()\n",
    "    total_loss = 0\n",
    "    with torch.no_grad():\n",
    "        for inputs, targets in val_loader:\n",
    "            inputs, targets = inputs.to(device), targets.to(device)\n",
    "            outputs = model(inputs)\n",
    "            loss = criterion(outputs, targets)\n",
    "            total_loss += loss.item()\n",
    "    return total_loss / len(val_loader)\n",
    "\n",
    "# Define the Optuna objective function\n",
    "def objective(trial):\n",
    "    # Hyperparameters to optimize\n",
    "    hidden_size = trial.suggest_int(\"hidden_size\", 16, 128)\n",
    "    learning_rate = trial.suggest_float(\"learning_rate\", 1e-4, 1e-2, log=True)\n",
    "    batch_size = trial.suggest_int(\"batch_size\", 16, 64)\n",
    "\n",
    "    # Data preparation\n",
    "    input_size = 10  # Example input features\n",
    "    output_size = 1  # Example output size (e.g., regression task)\n",
    "    dataset_size = 1000\n",
    "    x = torch.randn(dataset_size, input_size)\n",
    "    y = torch.randn(dataset_size, output_size)\n",
    "    dataset = TensorDataset(x, y)\n",
    "    train_size = int(0.8 * dataset_size)\n",
    "    val_size = dataset_size - train_size\n",
    "    train_dataset, val_dataset = random_split(dataset, [train_size, val_size])\n",
    "    train_loader = DataLoader(train_dataset, batch_size=batch_size, shuffle=True)\n",
    "    val_loader = DataLoader(val_dataset, batch_size=batch_size)\n",
    "\n",
    "    # Model, loss, optimizer\n",
    "    device = torch.device(\"cuda\" if torch.cuda.is_available() else \"cpu\")\n",
    "    model = SimpleNet(input_size, hidden_size, output_size).to(device)\n",
    "    criterion = nn.MSELoss()\n",
    "    optimizer = optim.Adam(model.parameters(), lr=learning_rate)\n",
    "\n",
    "    # Training and validation\n",
    "    for epoch in range(10):  # Small number of epochs for testing\n",
    "        train_model(model, criterion, optimizer, train_loader, device)\n",
    "    val_loss = validate_model(model, criterion, val_loader, device)\n",
    "\n",
    "    return val_loss\n",
    "\n",
    "# Create an Optuna study and optimize\n",
    "if __name__ == \"__main__\":\n",
    "    study = optuna.create_study(direction=\"minimize\")\n",
    "    study.optimize(objective, n_trials=50)\n",
    "\n",
    "    # Print the best parameters\n",
    "    print(\"Best hyperparameters:\", study.best_params)"
   ]
  },
  {
   "cell_type": "code",
   "execution_count": null,
   "id": "cd22b85d-8a3b-4542-9e31-37608207d329",
   "metadata": {},
   "outputs": [],
   "source": []
  },
  {
   "cell_type": "code",
   "execution_count": null,
   "id": "d8ef2384-324a-4da3-8be4-43954a2f203e",
   "metadata": {},
   "outputs": [],
   "source": []
  },
  {
   "cell_type": "code",
   "execution_count": null,
   "id": "483cded8-fdcb-49a2-88ba-274068e0ff2d",
   "metadata": {},
   "outputs": [],
   "source": []
  },
  {
   "cell_type": "code",
   "execution_count": null,
   "id": "09dca979-7b82-40e6-8ad8-86762d4bb776",
   "metadata": {},
   "outputs": [],
   "source": []
  },
  {
   "cell_type": "code",
   "execution_count": null,
   "id": "8f0af081-9021-4c8e-ad33-fe6aa58991aa",
   "metadata": {},
   "outputs": [],
   "source": []
  },
  {
   "cell_type": "code",
   "execution_count": null,
   "id": "071290e1-f304-4ba9-9973-5c890f44ffcc",
   "metadata": {},
   "outputs": [],
   "source": []
  }
 ],
 "metadata": {
  "kernelspec": {
   "display_name": "pytorch_cuda",
   "language": "python",
   "name": "pytorch_cuda"
  },
  "language_info": {
   "codemirror_mode": {
    "name": "ipython",
    "version": 3
   },
   "file_extension": ".py",
   "mimetype": "text/x-python",
   "name": "python",
   "nbconvert_exporter": "python",
   "pygments_lexer": "ipython3",
   "version": "3.11.10"
  },
  "widgets": {
   "application/vnd.jupyter.widget-state+json": {
    "state": {},
    "version_major": 2,
    "version_minor": 0
   }
  }
 },
 "nbformat": 4,
 "nbformat_minor": 5
}
