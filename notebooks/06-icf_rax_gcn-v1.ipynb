{
 "cells": [
  {
   "cell_type": "code",
   "execution_count": 1,
   "id": "11f50688-c0ec-461e-bbf5-51b5246076a7",
   "metadata": {},
   "outputs": [],
   "source": [
    "import matplotlib.pyplot as plt"
   ]
  },
  {
   "cell_type": "code",
   "execution_count": 2,
   "id": "795ef6b4-b697-45ca-97a0-fd5827697f39",
   "metadata": {},
   "outputs": [],
   "source": [
    "import torch"
   ]
  },
  {
   "cell_type": "code",
   "execution_count": 3,
   "id": "f06a975b-43af-43dc-b065-b56a89756eba",
   "metadata": {},
   "outputs": [],
   "source": [
    "import numpy as np\n",
    "import pandas as pd\n",
    "from rdkit import Chem\n",
    "from rdkit.Chem import AllChem\n",
    "import openpyxl\n",
    "import os"
   ]
  },
  {
   "cell_type": "code",
   "execution_count": 4,
   "id": "20a8f979-50f6-4d5b-8306-f00dea6a09f6",
   "metadata": {},
   "outputs": [],
   "source": [
    "%matplotlib inline"
   ]
  },
  {
   "cell_type": "code",
   "execution_count": 5,
   "id": "feb15c2f-ee55-40dd-806e-7b24f94180bc",
   "metadata": {},
   "outputs": [],
   "source": [
    "TOP = os.getcwd().replace('notebooks', '')\n",
    "raw_dir = TOP + 'data/raw/'\n",
    "interim_dir = TOP + 'data/interim/'\n",
    "processed_dir = TOP + 'data/processed/'\n",
    "external_dir = TOP + 'data/external/'\n",
    "figures_dir = TOP + 'reports/figures/'"
   ]
  },
  {
   "cell_type": "code",
   "execution_count": 6,
   "id": "e19ab639-b0bd-4381-8756-f1efbbe7845e",
   "metadata": {},
   "outputs": [
    {
     "data": {
      "text/html": [
       "<div>\n",
       "<style scoped>\n",
       "    .dataframe tbody tr th:only-of-type {\n",
       "        vertical-align: middle;\n",
       "    }\n",
       "\n",
       "    .dataframe tbody tr th {\n",
       "        vertical-align: top;\n",
       "    }\n",
       "\n",
       "    .dataframe thead th {\n",
       "        text-align: right;\n",
       "    }\n",
       "</style>\n",
       "<table border=\"1\" class=\"dataframe\">\n",
       "  <thead>\n",
       "    <tr style=\"text-align: right;\">\n",
       "      <th></th>\n",
       "      <th>Target</th>\n",
       "      <th>Analogue</th>\n",
       "      <th>Label</th>\n",
       "      <th>analogue_smi</th>\n",
       "      <th>target_smi</th>\n",
       "      <th>analogue_mol</th>\n",
       "      <th>target_mol</th>\n",
       "      <th>fps_target</th>\n",
       "      <th>fps_analogue</th>\n",
       "      <th>tanimoto</th>\n",
       "    </tr>\n",
       "  </thead>\n",
       "  <tbody>\n",
       "    <tr>\n",
       "      <th>1</th>\n",
       "      <td>DTXSID4052059</td>\n",
       "      <td>DTXSID8021931</td>\n",
       "      <td>1</td>\n",
       "      <td>CCCCCCO</td>\n",
       "      <td>CC(C)(C)C1=CC(N2N=C3C=CC=CC3=N2)=C(O)C(=C1)C(C...</td>\n",
       "      <td>&lt;rdkit.Chem.rdchem.Mol object at 0x7effa2989dd0&gt;</td>\n",
       "      <td>&lt;rdkit.Chem.rdchem.Mol object at 0x7effa0ccf5f0&gt;</td>\n",
       "      <td>&lt;rdkit.DataStructs.cDataStructs.ExplicitBitVec...</td>\n",
       "      <td>&lt;rdkit.DataStructs.cDataStructs.ExplicitBitVec...</td>\n",
       "      <td>0.054545</td>\n",
       "    </tr>\n",
       "    <tr>\n",
       "      <th>2</th>\n",
       "      <td>DTXSID4052059</td>\n",
       "      <td>DTXSID8021519</td>\n",
       "      <td>1</td>\n",
       "      <td>CCCCOCCOCCO</td>\n",
       "      <td>CC(C)(C)C1=CC(N2N=C3C=CC=CC3=N2)=C(O)C(=C1)C(C...</td>\n",
       "      <td>&lt;rdkit.Chem.rdchem.Mol object at 0x7effa2989660&gt;</td>\n",
       "      <td>&lt;rdkit.Chem.rdchem.Mol object at 0x7effa0ccf6d0&gt;</td>\n",
       "      <td>&lt;rdkit.DataStructs.cDataStructs.ExplicitBitVec...</td>\n",
       "      <td>&lt;rdkit.DataStructs.cDataStructs.ExplicitBitVec...</td>\n",
       "      <td>0.031250</td>\n",
       "    </tr>\n",
       "    <tr>\n",
       "      <th>3</th>\n",
       "      <td>DTXSID4052059</td>\n",
       "      <td>DTXSID50890812</td>\n",
       "      <td>1</td>\n",
       "      <td>[Ca++].CC1=CC=CC(=C1C)S([O-])(=O)=O.CC1=CC=CC(...</td>\n",
       "      <td>CC(C)(C)C1=CC(N2N=C3C=CC=CC3=N2)=C(O)C(=C1)C(C...</td>\n",
       "      <td>&lt;rdkit.Chem.rdchem.Mol object at 0x7effa2989900&gt;</td>\n",
       "      <td>&lt;rdkit.Chem.rdchem.Mol object at 0x7effa0ccf660&gt;</td>\n",
       "      <td>&lt;rdkit.DataStructs.cDataStructs.ExplicitBitVec...</td>\n",
       "      <td>&lt;rdkit.DataStructs.cDataStructs.ExplicitBitVec...</td>\n",
       "      <td>0.095238</td>\n",
       "    </tr>\n",
       "    <tr>\n",
       "      <th>4</th>\n",
       "      <td>DTXSID4052059</td>\n",
       "      <td>DTXSID40337923</td>\n",
       "      <td>1</td>\n",
       "      <td>CCCCCCCCC(CC)CO</td>\n",
       "      <td>CC(C)(C)C1=CC(N2N=C3C=CC=CC3=N2)=C(O)C(=C1)C(C...</td>\n",
       "      <td>&lt;rdkit.Chem.rdchem.Mol object at 0x7effa2989a50&gt;</td>\n",
       "      <td>&lt;rdkit.Chem.rdchem.Mol object at 0x7effa0ccf740&gt;</td>\n",
       "      <td>&lt;rdkit.DataStructs.cDataStructs.ExplicitBitVec...</td>\n",
       "      <td>&lt;rdkit.DataStructs.cDataStructs.ExplicitBitVec...</td>\n",
       "      <td>0.045455</td>\n",
       "    </tr>\n",
       "    <tr>\n",
       "      <th>5</th>\n",
       "      <td>DTXSID4052059</td>\n",
       "      <td>DTXSID3027370</td>\n",
       "      <td>1</td>\n",
       "      <td>CO[Si](C)(OC)OC</td>\n",
       "      <td>CC(C)(C)C1=CC(N2N=C3C=CC=CC3=N2)=C(O)C(=C1)C(C...</td>\n",
       "      <td>&lt;rdkit.Chem.rdchem.Mol object at 0x7effa29a44a0&gt;</td>\n",
       "      <td>&lt;rdkit.Chem.rdchem.Mol object at 0x7effa0ccf7b0&gt;</td>\n",
       "      <td>&lt;rdkit.DataStructs.cDataStructs.ExplicitBitVec...</td>\n",
       "      <td>&lt;rdkit.DataStructs.cDataStructs.ExplicitBitVec...</td>\n",
       "      <td>0.040816</td>\n",
       "    </tr>\n",
       "    <tr>\n",
       "      <th>...</th>\n",
       "      <td>...</td>\n",
       "      <td>...</td>\n",
       "      <td>...</td>\n",
       "      <td>...</td>\n",
       "      <td>...</td>\n",
       "      <td>...</td>\n",
       "      <td>...</td>\n",
       "      <td>...</td>\n",
       "      <td>...</td>\n",
       "      <td>...</td>\n",
       "    </tr>\n",
       "    <tr>\n",
       "      <th>245516</th>\n",
       "      <td>DTXSID601030860</td>\n",
       "      <td>DTXSID00862266</td>\n",
       "      <td>0</td>\n",
       "      <td>CC(O)C=C</td>\n",
       "      <td>CC\\C=C(/C)CO</td>\n",
       "      <td>&lt;rdkit.Chem.rdchem.Mol object at 0x7effa0ccf3c0&gt;</td>\n",
       "      <td>&lt;rdkit.Chem.rdchem.Mol object at 0x7effa0169a50&gt;</td>\n",
       "      <td>&lt;rdkit.DataStructs.cDataStructs.ExplicitBitVec...</td>\n",
       "      <td>&lt;rdkit.DataStructs.cDataStructs.ExplicitBitVec...</td>\n",
       "      <td>0.125000</td>\n",
       "    </tr>\n",
       "    <tr>\n",
       "      <th>245517</th>\n",
       "      <td>DTXSID601030860</td>\n",
       "      <td>DTXSID50560285</td>\n",
       "      <td>1</td>\n",
       "      <td>CCCCCCCCC(CO)CCC</td>\n",
       "      <td>CC\\C=C(/C)CO</td>\n",
       "      <td>&lt;rdkit.Chem.rdchem.Mol object at 0x7effa0ccf430&gt;</td>\n",
       "      <td>&lt;rdkit.Chem.rdchem.Mol object at 0x7effa0169ac0&gt;</td>\n",
       "      <td>&lt;rdkit.DataStructs.cDataStructs.ExplicitBitVec...</td>\n",
       "      <td>&lt;rdkit.DataStructs.cDataStructs.ExplicitBitVec...</td>\n",
       "      <td>0.128205</td>\n",
       "    </tr>\n",
       "    <tr>\n",
       "      <th>246013</th>\n",
       "      <td>DTXSID6022008</td>\n",
       "      <td>DTXSID00862266</td>\n",
       "      <td>1</td>\n",
       "      <td>CC(O)C=C</td>\n",
       "      <td>CCCCCCCCCO</td>\n",
       "      <td>&lt;rdkit.Chem.rdchem.Mol object at 0x7effa0ccf4a0&gt;</td>\n",
       "      <td>&lt;rdkit.Chem.rdchem.Mol object at 0x7effa0169b30&gt;</td>\n",
       "      <td>&lt;rdkit.DataStructs.cDataStructs.ExplicitBitVec...</td>\n",
       "      <td>&lt;rdkit.DataStructs.cDataStructs.ExplicitBitVec...</td>\n",
       "      <td>0.074074</td>\n",
       "    </tr>\n",
       "    <tr>\n",
       "      <th>246014</th>\n",
       "      <td>DTXSID6022008</td>\n",
       "      <td>DTXSID50560285</td>\n",
       "      <td>1</td>\n",
       "      <td>CCCCCCCCC(CO)CCC</td>\n",
       "      <td>CCCCCCCCCO</td>\n",
       "      <td>&lt;rdkit.Chem.rdchem.Mol object at 0x7effa0ccf510&gt;</td>\n",
       "      <td>&lt;rdkit.Chem.rdchem.Mol object at 0x7effa0169ba0&gt;</td>\n",
       "      <td>&lt;rdkit.DataStructs.cDataStructs.ExplicitBitVec...</td>\n",
       "      <td>&lt;rdkit.DataStructs.cDataStructs.ExplicitBitVec...</td>\n",
       "      <td>0.393939</td>\n",
       "    </tr>\n",
       "    <tr>\n",
       "      <th>246511</th>\n",
       "      <td>DTXSID00862266</td>\n",
       "      <td>DTXSID50560285</td>\n",
       "      <td>1</td>\n",
       "      <td>CCCCCCCCC(CO)CCC</td>\n",
       "      <td>CC(O)C=C</td>\n",
       "      <td>&lt;rdkit.Chem.rdchem.Mol object at 0x7effa0ccf580&gt;</td>\n",
       "      <td>&lt;rdkit.Chem.rdchem.Mol object at 0x7effa0169c10&gt;</td>\n",
       "      <td>&lt;rdkit.DataStructs.cDataStructs.ExplicitBitVec...</td>\n",
       "      <td>&lt;rdkit.DataStructs.cDataStructs.ExplicitBitVec...</td>\n",
       "      <td>0.083333</td>\n",
       "    </tr>\n",
       "  </tbody>\n",
       "</table>\n",
       "<p>109278 rows × 10 columns</p>\n",
       "</div>"
      ],
      "text/plain": [
       "                 Target        Analogue  Label  \\\n",
       "1         DTXSID4052059   DTXSID8021931      1   \n",
       "2         DTXSID4052059   DTXSID8021519      1   \n",
       "3         DTXSID4052059  DTXSID50890812      1   \n",
       "4         DTXSID4052059  DTXSID40337923      1   \n",
       "5         DTXSID4052059   DTXSID3027370      1   \n",
       "...                 ...             ...    ...   \n",
       "245516  DTXSID601030860  DTXSID00862266      0   \n",
       "245517  DTXSID601030860  DTXSID50560285      1   \n",
       "246013    DTXSID6022008  DTXSID00862266      1   \n",
       "246014    DTXSID6022008  DTXSID50560285      1   \n",
       "246511   DTXSID00862266  DTXSID50560285      1   \n",
       "\n",
       "                                             analogue_smi  \\\n",
       "1                                                 CCCCCCO   \n",
       "2                                             CCCCOCCOCCO   \n",
       "3       [Ca++].CC1=CC=CC(=C1C)S([O-])(=O)=O.CC1=CC=CC(...   \n",
       "4                                         CCCCCCCCC(CC)CO   \n",
       "5                                         CO[Si](C)(OC)OC   \n",
       "...                                                   ...   \n",
       "245516                                           CC(O)C=C   \n",
       "245517                                   CCCCCCCCC(CO)CCC   \n",
       "246013                                           CC(O)C=C   \n",
       "246014                                   CCCCCCCCC(CO)CCC   \n",
       "246511                                   CCCCCCCCC(CO)CCC   \n",
       "\n",
       "                                               target_smi  \\\n",
       "1       CC(C)(C)C1=CC(N2N=C3C=CC=CC3=N2)=C(O)C(=C1)C(C...   \n",
       "2       CC(C)(C)C1=CC(N2N=C3C=CC=CC3=N2)=C(O)C(=C1)C(C...   \n",
       "3       CC(C)(C)C1=CC(N2N=C3C=CC=CC3=N2)=C(O)C(=C1)C(C...   \n",
       "4       CC(C)(C)C1=CC(N2N=C3C=CC=CC3=N2)=C(O)C(=C1)C(C...   \n",
       "5       CC(C)(C)C1=CC(N2N=C3C=CC=CC3=N2)=C(O)C(=C1)C(C...   \n",
       "...                                                   ...   \n",
       "245516                                       CC\\C=C(/C)CO   \n",
       "245517                                       CC\\C=C(/C)CO   \n",
       "246013                                         CCCCCCCCCO   \n",
       "246014                                         CCCCCCCCCO   \n",
       "246511                                           CC(O)C=C   \n",
       "\n",
       "                                            analogue_mol  \\\n",
       "1       <rdkit.Chem.rdchem.Mol object at 0x7effa2989dd0>   \n",
       "2       <rdkit.Chem.rdchem.Mol object at 0x7effa2989660>   \n",
       "3       <rdkit.Chem.rdchem.Mol object at 0x7effa2989900>   \n",
       "4       <rdkit.Chem.rdchem.Mol object at 0x7effa2989a50>   \n",
       "5       <rdkit.Chem.rdchem.Mol object at 0x7effa29a44a0>   \n",
       "...                                                  ...   \n",
       "245516  <rdkit.Chem.rdchem.Mol object at 0x7effa0ccf3c0>   \n",
       "245517  <rdkit.Chem.rdchem.Mol object at 0x7effa0ccf430>   \n",
       "246013  <rdkit.Chem.rdchem.Mol object at 0x7effa0ccf4a0>   \n",
       "246014  <rdkit.Chem.rdchem.Mol object at 0x7effa0ccf510>   \n",
       "246511  <rdkit.Chem.rdchem.Mol object at 0x7effa0ccf580>   \n",
       "\n",
       "                                              target_mol  \\\n",
       "1       <rdkit.Chem.rdchem.Mol object at 0x7effa0ccf5f0>   \n",
       "2       <rdkit.Chem.rdchem.Mol object at 0x7effa0ccf6d0>   \n",
       "3       <rdkit.Chem.rdchem.Mol object at 0x7effa0ccf660>   \n",
       "4       <rdkit.Chem.rdchem.Mol object at 0x7effa0ccf740>   \n",
       "5       <rdkit.Chem.rdchem.Mol object at 0x7effa0ccf7b0>   \n",
       "...                                                  ...   \n",
       "245516  <rdkit.Chem.rdchem.Mol object at 0x7effa0169a50>   \n",
       "245517  <rdkit.Chem.rdchem.Mol object at 0x7effa0169ac0>   \n",
       "246013  <rdkit.Chem.rdchem.Mol object at 0x7effa0169b30>   \n",
       "246014  <rdkit.Chem.rdchem.Mol object at 0x7effa0169ba0>   \n",
       "246511  <rdkit.Chem.rdchem.Mol object at 0x7effa0169c10>   \n",
       "\n",
       "                                               fps_target  \\\n",
       "1       <rdkit.DataStructs.cDataStructs.ExplicitBitVec...   \n",
       "2       <rdkit.DataStructs.cDataStructs.ExplicitBitVec...   \n",
       "3       <rdkit.DataStructs.cDataStructs.ExplicitBitVec...   \n",
       "4       <rdkit.DataStructs.cDataStructs.ExplicitBitVec...   \n",
       "5       <rdkit.DataStructs.cDataStructs.ExplicitBitVec...   \n",
       "...                                                   ...   \n",
       "245516  <rdkit.DataStructs.cDataStructs.ExplicitBitVec...   \n",
       "245517  <rdkit.DataStructs.cDataStructs.ExplicitBitVec...   \n",
       "246013  <rdkit.DataStructs.cDataStructs.ExplicitBitVec...   \n",
       "246014  <rdkit.DataStructs.cDataStructs.ExplicitBitVec...   \n",
       "246511  <rdkit.DataStructs.cDataStructs.ExplicitBitVec...   \n",
       "\n",
       "                                             fps_analogue  tanimoto  \n",
       "1       <rdkit.DataStructs.cDataStructs.ExplicitBitVec...  0.054545  \n",
       "2       <rdkit.DataStructs.cDataStructs.ExplicitBitVec...  0.031250  \n",
       "3       <rdkit.DataStructs.cDataStructs.ExplicitBitVec...  0.095238  \n",
       "4       <rdkit.DataStructs.cDataStructs.ExplicitBitVec...  0.045455  \n",
       "5       <rdkit.DataStructs.cDataStructs.ExplicitBitVec...  0.040816  \n",
       "...                                                   ...       ...  \n",
       "245516  <rdkit.DataStructs.cDataStructs.ExplicitBitVec...  0.125000  \n",
       "245517  <rdkit.DataStructs.cDataStructs.ExplicitBitVec...  0.128205  \n",
       "246013  <rdkit.DataStructs.cDataStructs.ExplicitBitVec...  0.074074  \n",
       "246014  <rdkit.DataStructs.cDataStructs.ExplicitBitVec...  0.393939  \n",
       "246511  <rdkit.DataStructs.cDataStructs.ExplicitBitVec...  0.083333  \n",
       "\n",
       "[109278 rows x 10 columns]"
      ]
     },
     "execution_count": 6,
     "metadata": {},
     "output_type": "execute_result"
    }
   ],
   "source": [
    "new_df4 = pd.read_csv(processed_dir+'icf_rax_pairs.csv', index_col = [0])\n",
    "new_df4"
   ]
  },
  {
   "cell_type": "code",
   "execution_count": 7,
   "id": "6b7409e1-441f-4461-89b6-d66f97465e73",
   "metadata": {},
   "outputs": [],
   "source": [
    "new_df4['analogue_mol'] = [Chem.MolFromSmiles(e) for e in new_df4['analogue_smi']]\n",
    "\n",
    "new_df4['target_mol'] = [Chem.MolFromSmiles(e) for e in new_df4['target_smi']]"
   ]
  },
  {
   "cell_type": "code",
   "execution_count": 8,
   "id": "185aa3f1-5d71-4434-b9c6-0da6820cf994",
   "metadata": {},
   "outputs": [],
   "source": [
    "fpgen = AllChem.GetMorganGenerator(radius=3, fpSize=1024)"
   ]
  },
  {
   "cell_type": "code",
   "execution_count": 9,
   "id": "d10be9dd-99fc-4e33-86b2-d5b03987cdd3",
   "metadata": {},
   "outputs": [],
   "source": [
    "new_df4['fps_target'] = new_df4['target_mol'].apply(lambda x: fpgen.GetFingerprint(x))\n",
    "new_df4['fps_analogue'] = new_df4['analogue_mol'].apply(lambda x: fpgen.GetFingerprint(x))"
   ]
  },
  {
   "cell_type": "code",
   "execution_count": 10,
   "id": "fcc32200-01c7-4c42-9235-51519fab6a02",
   "metadata": {},
   "outputs": [],
   "source": [
    "def euclidean_distance(v1, v2):\n",
    "    return np.linalg.norm(np.array(v1) - np.array(v2))"
   ]
  },
  {
   "cell_type": "code",
   "execution_count": 11,
   "id": "f3e2f622-b7b4-4fa5-8569-e60d037f9358",
   "metadata": {},
   "outputs": [],
   "source": [
    "mylst2 = []\n",
    "for i, row in new_df4.iterrows():\n",
    "    mylst2.append(euclidean_distance(row['fps_target'], row['fps_analogue']))"
   ]
  },
  {
   "cell_type": "code",
   "execution_count": 12,
   "id": "cbb0568d-ec62-41f3-a6a1-26aa0991345e",
   "metadata": {},
   "outputs": [],
   "source": [
    "new_df4['Euclidean'] = mylst2"
   ]
  },
  {
   "cell_type": "code",
   "execution_count": 13,
   "id": "3d0f5cc4-5d25-435c-8048-34df49493dd5",
   "metadata": {},
   "outputs": [
    {
     "data": {
      "text/plain": [
       "<Axes: >"
      ]
     },
     "execution_count": 13,
     "metadata": {},
     "output_type": "execute_result"
    },
    {
     "data": {
      "image/png": "[encoded data removed]",
      "text/plain": [
       "<Figure size 640x480 with 1 Axes>"
      ]
     },
     "metadata": {},
     "output_type": "display_data"
    }
   ],
   "source": [
    "new_df4[new_df4['Label'] ==1]['Euclidean'].hist()\n",
    "new_df4[new_df4['Label'] ==0]['Euclidean'].hist(color = 'r', alpha = 0.5)"
   ]
  },
  {
   "cell_type": "code",
   "execution_count": 14,
   "id": "66aa7f45-aca1-43f2-9f6e-143b29193d09",
   "metadata": {},
   "outputs": [],
   "source": [
    "#new_df5 = new_df4.set_index(['Target', 'Analogue'])"
   ]
  },
  {
   "cell_type": "code",
   "execution_count": 15,
   "id": "5c2c4eb7-15e3-4a39-a3d2-826d108b248a",
   "metadata": {},
   "outputs": [],
   "source": [
    "#dissimilar_pairs = new_df4[new_df4['Label'] == 1]"
   ]
  },
  {
   "cell_type": "code",
   "execution_count": 16,
   "id": "b61f5b79-b31d-4844-92d3-cfe151782ac5",
   "metadata": {},
   "outputs": [],
   "source": [
    "#dissimilar_pairs"
   ]
  },
  {
   "cell_type": "code",
   "execution_count": 17,
   "id": "6162eb07-1eec-48e3-bfd1-70a7954fc0e3",
   "metadata": {},
   "outputs": [],
   "source": [
    "#similar_pairs = new_df4[new_df4['Label'] == 0]"
   ]
  },
  {
   "cell_type": "code",
   "execution_count": 17,
   "id": "53a6798d-12fe-4ef7-828a-e97a68de0389",
   "metadata": {},
   "outputs": [],
   "source": [
    "def farthest_first_traversal(df, k):\n",
    "  \"\"\"\n",
    "  Performs farthest-first traversal on a dataframe to select k diverse target-analogue pairs.\n",
    "\n",
    "  Args:\n",
    "      df: A pandas dataframe containing fingerprint columns and target/analogue labels.\n",
    "      k: The number of target-analogue pairs to select.\n",
    "\n",
    "  Returns:\n",
    "      A list of k tuples containing (target_id, analogue_id) for selected pairs.\n",
    "  \"\"\"\n",
    "\n",
    "  # Extract fingerprints and target/analogue IDs\n",
    "  fps_target = df[\"fps_target\"].tolist()\n",
    "  fps_analogue = df[\"fps_analogue\"].tolist()\n",
    "  target_ids = df[\"Target\"].tolist()\n",
    "  analogue_ids = df[\"Analogue\"].tolist()\n",
    "\n",
    "  # Function to calculate distance between fingerprints (replace with your metric)\n",
    "  \n",
    "\n",
    "  # Select a random initial pair\n",
    "  centers = [(random.randint(0, len(fps_target)-1), random.randint(0, len(fps_analogue)-1))]\n",
    "\n",
    "  # Iteratively select farthest pairs\n",
    "  for _ in range(1, k):\n",
    "    max_dist = -float('inf')\n",
    "    farthest_pair = None\n",
    "    for i in range(len(fps_target)):\n",
    "      if (i, _) in centers:\n",
    "        continue  # Skip pairs already chosen\n",
    "\n",
    "      min_dist = min(euclidean_distance(fps_target[i], center[0]) for center in centers)\n",
    "      if min_dist > max_dist:\n",
    "        max_dist = min_dist\n",
    "        farthest_pair = (i, target_ids.index(df[\"Target\"].iloc[i]))  # Find index by target ID\n",
    "\n",
    "    # Add farthest pair to selected centers\n",
    "    centers.append(farthest_pair)\n",
    "\n",
    "  # Return selected pairs as target-analogue ID tuples\n",
    "  return [(target_ids[pair[0]], analogue_ids[pair[1]]) for pair in centers]\n"
   ]
  },
  {
   "cell_type": "code",
   "execution_count": 23,
   "id": "62ee4318-d15e-4af9-9e1b-5bcb64a4a309",
   "metadata": {},
   "outputs": [],
   "source": [
    "import random"
   ]
  },
  {
   "cell_type": "code",
   "execution_count": 52,
   "id": "c0bb6259-ea0c-438b-a2dd-35eb1d6dc185",
   "metadata": {},
   "outputs": [],
   "source": [
    "from sklearn.neighbors import KDTree\n",
    "\n",
    "def farthest_first_traversal_optimized(df, k):\n",
    "  \"\"\"\n",
    "  Performs farthest-first traversal on a dataframe with KD-Tree optimization.\n",
    "\n",
    "  Args:\n",
    "      df: A pandas dataframe containing fingerprint columns and target/analogue labels.\n",
    "      k: The number of target-analogue pairs to select.\n",
    "\n",
    "  Returns:\n",
    "      A list of k tuples containing (target_id, analogue_id) for selected pairs.\n",
    "  \"\"\"\n",
    "\n",
    "  # Extract fingerprints and target/analogue IDs\n",
    "  fps_target = df[\"fps_target\"].tolist()\n",
    "  fps_analogue = df[\"fps_analogue\"].tolist()\n",
    "  target_ids = df[\"Target\"].tolist()\n",
    "  analogue_ids = df[\"Analogue\"].tolist()\n",
    "\n",
    "  # Build KD-Tree for target fingerprints\n",
    "  target_tree = KDTree(fps_target)\n",
    "\n",
    "  # Function to calculate distance between fingerprints (replace with your metric)\n",
    "  \n",
    "  # Select a random initial pair\n",
    "  centers = [(random.randint(0, len(fps_target)-1), random.randint(0, len(fps_analogue)-1))]\n",
    "\n",
    "  # Iteratively select farthest pairs\n",
    "  for _ in range(1, k):\n",
    "    max_dist = -float('inf')\n",
    "    farthest_pair = None\n",
    "    for i in range(len(fps_target)):\n",
    "      if (i, _) in centers:\n",
    "        continue  # Skip pairs already chosen\n",
    "\n",
    "      # Early stopping: estimate lower bound\n",
    "      lower_bound = euclidean_distance(fps_target[i], fps_target[centers[0][0]])  # Replace with your estimate\n",
    "\n",
    "      # Check if lower bound is greater than current max distance\n",
    "      if lower_bound > max_dist:\n",
    "        continue\n",
    "\n",
    "      # Efficient nearest neighbor search with KD-Tree\n",
    "      _, nearest_neighbor_idx = target_tree.query(fps_target[i].reshape(1, -1), k=1, return_distance=True)\n",
    "\n",
    "      # Skip point if no neighbor found\n",
    "      if nearest_neighbor_idx is None:\n",
    "        continue\n",
    "\n",
    "      # Update max_dist and farthest_pair\n",
    "      min_dist = nearest_neighbor_idx[0][0]\n",
    "      if min_dist > max_dist:\n",
    "        max_dist = min_dist\n",
    "        farthest_pair = (i, target_ids.index(df[\"Target\"].iloc[i]))\n",
    "\n",
    "    # Only append valid pairs to centers\n",
    "    if farthest_pair is not None:\n",
    "      centers.append(farthest_pair)\n",
    "\n",
    "  # Return selected pairs as target-analogue ID tuples\n",
    "  return [(target_ids[pair[0]], analogue_ids[pair[1]]) for pair in centers if pair is not None]\n"
   ]
  },
  {
   "cell_type": "code",
   "execution_count": 57,
   "id": "890f05dd-59ad-4828-923d-d616fb7eb456",
   "metadata": {},
   "outputs": [],
   "source": [
    "#test = dissimilar_pairs.iloc[:300,:]"
   ]
  },
  {
   "cell_type": "code",
   "execution_count": 65,
   "id": "256e0d7f-2691-4db3-a1ea-df8c3a99e05d",
   "metadata": {},
   "outputs": [],
   "source": [
    "#k = len(similar_pairs) # Number of points to select\n",
    "#diverse_points = farthest_first_traversal_optimized(dissimilar_pairs, k)\n",
    "\n"
   ]
  },
  {
   "cell_type": "code",
   "execution_count": 18,
   "id": "8279ebac-5450-4dd8-b9ef-b7666b342279",
   "metadata": {},
   "outputs": [
    {
     "data": {
      "text/plain": [
       "Label\n",
       "1    106563\n",
       "0      2715\n",
       "Name: count, dtype: int64"
      ]
     },
     "execution_count": 18,
     "metadata": {},
     "output_type": "execute_result"
    }
   ],
   "source": [
    "new_df4['Label'].value_counts()"
   ]
  },
  {
   "cell_type": "code",
   "execution_count": 19,
   "id": "b78330c7-bc40-419c-92a3-3a1af4b84c9a",
   "metadata": {},
   "outputs": [],
   "source": [
    "similar_pairs = new_df4[new_df4['Label'] == 0]\n",
    "dissimilar_pairs = new_df4[new_df4['Label'] == 1]\n",
    "\n",
    "# Step 2: Downsample dissimilar pairs\n",
    "downsampled_dissimilar_pairs = dissimilar_pairs.sample(n=len(similar_pairs), replace=False)\n",
    "\n",
    "# Step 3: Combine balanced pairs\n",
    "balanced_df = pd.concat([similar_pairs, downsampled_dissimilar_pairs])\n",
    "\n",
    "# Step 4: Shuffle the dataset\n",
    "balanced_df = balanced_df.sample(frac=1, random_state=42)"
   ]
  },
  {
   "cell_type": "code",
   "execution_count": 20,
   "id": "cfed22e0-4de4-4c8f-90f8-5ef55662ff95",
   "metadata": {},
   "outputs": [],
   "source": [
    "balanced_df['analogue_mol'] = [Chem.MolFromSmiles(e) for e in balanced_df['analogue_smi']]\n",
    "\n",
    "balanced_df['target_mol'] = [Chem.MolFromSmiles(e) for e in balanced_df['target_smi']]"
   ]
  },
  {
   "cell_type": "code",
   "execution_count": 21,
   "id": "50e10ad5-fb0f-4a02-b46b-2170e94f1ccf",
   "metadata": {},
   "outputs": [
    {
     "data": {
      "text/plain": [
       "Label\n",
       "1    2715\n",
       "0    2715\n",
       "Name: count, dtype: int64"
      ]
     },
     "execution_count": 21,
     "metadata": {},
     "output_type": "execute_result"
    }
   ],
   "source": [
    "balanced_df['Label'].value_counts()"
   ]
  },
  {
   "cell_type": "code",
   "execution_count": 23,
   "id": "51d49f0f-5fa6-451c-817d-80d8abcadd92",
   "metadata": {},
   "outputs": [
    {
     "data": {
      "text/plain": [
       "<matplotlib.legend.Legend at 0x7905c5233df0>"
      ]
     },
     "execution_count": 23,
     "metadata": {},
     "output_type": "execute_result"
    },
    {
     "data": {
      "image/png": "[encoded data removed]",
      "text/plain": [
       "<Figure size 640x480 with 1 Axes>"
      ]
     },
     "metadata": {},
     "output_type": "display_data"
    }
   ],
   "source": [
    "balanced_df[balanced_df['Label'] == 0]['tanimoto'].hist(label = 'similar')\n",
    "balanced_df[balanced_df['Label'] == 1]['tanimoto'].hist(label = 'dissimilar', alpha = 0.3)\n",
    "plt.title('Jaccard pairwise structural similarity distribution for analogue read-across pairs')\n",
    "plt.legend()"
   ]
  },
  {
   "cell_type": "code",
   "execution_count": 66,
   "id": "e948e91f-4b88-4887-93ab-60d9161c3bed",
   "metadata": {},
   "outputs": [
    {
     "data": {
      "text/plain": [
       "<Axes: >"
      ]
     },
     "execution_count": 66,
     "metadata": {},
     "output_type": "execute_result"
    },
    {
     "data": {
      "image/png": "[encoded data removed]",
      "text/plain": [
       "<Figure size 640x480 with 1 Axes>"
      ]
     },
     "metadata": {},
     "output_type": "display_data"
    }
   ],
   "source": [
    "balanced_df[balanced_df['Label'] ==1]['Euclidean'].hist()\n",
    "balanced_df[balanced_df['Label'] ==0]['Euclidean'].hist(color = 'r', alpha = 0.5)"
   ]
  },
  {
   "cell_type": "code",
   "execution_count": 26,
   "id": "bbf00318-d444-4ef1-b8ba-f24e549648e3",
   "metadata": {},
   "outputs": [],
   "source": [
    "from sklearn.model_selection import train_test_split\n",
    "#from kennard_stone import train_test_split\n",
    "from torch_geometric.loader import DataLoader\n",
    "from torch.utils.data import Dataset\n"
   ]
  },
  {
   "cell_type": "code",
   "execution_count": 27,
   "id": "45981405-e642-4981-980a-e610d54105c4",
   "metadata": {},
   "outputs": [
    {
     "data": {
      "text/plain": [
       "Index(['Target', 'Analogue', 'Label', 'analogue_smi', 'target_smi',\n",
       "       'analogue_mol', 'target_mol', 'fps_target', 'fps_analogue', 'tanimoto',\n",
       "       'Euclidean'],\n",
       "      dtype='object')"
      ]
     },
     "execution_count": 27,
     "metadata": {},
     "output_type": "execute_result"
    }
   ],
   "source": [
    "balanced_df.columns"
   ]
  },
  {
   "cell_type": "code",
   "execution_count": 125,
   "id": "2f784e10-8b64-4fe9-af93-fdea2919f142",
   "metadata": {},
   "outputs": [],
   "source": [
    "balanced_df.to_csv(interim_dir+'balanced_df_icf_140424.csv')"
   ]
  },
  {
   "cell_type": "code",
   "execution_count": 28,
   "id": "0fdf131e-50b6-4bec-bcf3-727f01a76bf2",
   "metadata": {},
   "outputs": [],
   "source": [
    "X_train, X_test, y_train, y_test  = train_test_split(balanced_df[['Target', \t'Analogue','target_smi', 'analogue_smi', 'Label','tanimoto', ]], balanced_df['Label'], stratify = balanced_df['Label'], random_state = 42,test_size=0.2)"
   ]
  },
  {
   "cell_type": "code",
   "execution_count": 29,
   "id": "0fc1268f-a329-4447-9f8d-0c14aaae9c17",
   "metadata": {},
   "outputs": [
    {
     "data": {
      "text/plain": [
       "Label\n",
       "0    2172\n",
       "1    2172\n",
       "Name: count, dtype: int64"
      ]
     },
     "execution_count": 29,
     "metadata": {},
     "output_type": "execute_result"
    }
   ],
   "source": [
    "y_train.value_counts(normalize = False)"
   ]
  },
  {
   "cell_type": "code",
   "execution_count": 30,
   "id": "7c32dcb3-16c0-4c08-be4e-def502f717d4",
   "metadata": {},
   "outputs": [
    {
     "data": {
      "text/plain": [
       "Label\n",
       "1    0.5\n",
       "0    0.5\n",
       "Name: proportion, dtype: float64"
      ]
     },
     "execution_count": 30,
     "metadata": {},
     "output_type": "execute_result"
    }
   ],
   "source": [
    "y_test.value_counts(normalize = True)"
   ]
  },
  {
   "cell_type": "code",
   "execution_count": 31,
   "id": "0418318a-5a2e-4ba4-8834-f071829ceabc",
   "metadata": {},
   "outputs": [],
   "source": [
    "from torch_geometric.utils import smiles as pygsmi\n",
    "import torch\n",
    "import torch_geometric\n",
    "import torch.nn.functional as F\n",
    "from torch.nn import Linear\n",
    "from torch.nn import BatchNorm1d\n",
    "from torch.utils.data import Dataset\n",
    "from torch_geometric.nn import GCNConv\n",
    "from torch_geometric.nn import ChebConv\n",
    "from torch_geometric.nn import global_add_pool, global_mean_pool\n",
    "from torch_geometric.loader import DataLoader\n",
    "import numpy as np"
   ]
  },
  {
   "cell_type": "code",
   "execution_count": 32,
   "id": "ea8ea75a-bf4d-462d-8f5d-45ed288bc77a",
   "metadata": {},
   "outputs": [],
   "source": [
    "\n",
    "\n",
    "target_X = [pygsmi.from_smiles(m) for m in X_train['target_smi']]"
   ]
  },
  {
   "cell_type": "code",
   "execution_count": 33,
   "id": "517947b6-28b9-4dcd-8aee-3749630d7468",
   "metadata": {},
   "outputs": [],
   "source": [
    "analogue_X = [pygsmi.from_smiles(m) for m in X_train['analogue_smi']]"
   ]
  },
  {
   "cell_type": "code",
   "execution_count": 34,
   "id": "bba2705a-047b-4922-b15e-3a224bb7087f",
   "metadata": {},
   "outputs": [],
   "source": [
    "#X_train"
   ]
  },
  {
   "cell_type": "code",
   "execution_count": 35,
   "id": "68945116-b941-4dd3-8ad1-ae6977fd6474",
   "metadata": {},
   "outputs": [],
   "source": [
    "class GraphData(Dataset):\n",
    "    def __init__(self, df):\n",
    "        \"\"\"\n",
    "        GraphData class inheriting from the Dataset class in PyTorch.\n",
    "\n",
    "        Parameters\n",
    "        ----------\n",
    "    \n",
    "        node_vec_len : int\n",
    "            Node vector length of molecular graphs\n",
    "        max_atoms : int\n",
    "            Maximum number of atoms in molecular graphs\n",
    "        \"\"\"\n",
    "        self.df = df\n",
    "\n",
    "        # Create lists\n",
    "        #self.indices = df.index.to_list()\n",
    "        #self.smiles = df[\"smiles\"].to_list()\n",
    "        #self.outputs = df[\"measured log solubility in mols per litre\"].to_list()\n",
    "\n",
    "    def __len__(self):\n",
    "        return len(self.df)\n",
    "\n",
    "    def __getitem__(self, idx):\n",
    "        \n",
    "        \"\"\"\n",
    "        Returns node matrix, adjacency matrix, output, and SMILES string of\n",
    "        molecule.\n",
    "\n",
    "        Parameters\n",
    "        ----------\n",
    "        i : int\n",
    "            Dataset index\n",
    "\n",
    "        Returns\n",
    "        -------\n",
    "        node_mat : torch.Tensor with dimension (max_atoms,node_vec_len)\n",
    "            Node matrix\n",
    "        adj_mat: torch.Tensor with dimension (max_atoms,max_atoms)\n",
    "            Adjacency matrix\n",
    "        output : torch.Tensor with dimension n_outputs\n",
    "            Output vector\n",
    "        smile : str\n",
    "            SMILES string of molecule\n",
    "        \"\"\"\n",
    "        \n",
    "        row = self.df.iloc[idx]\n",
    "        target = pygsmi.from_smiles(row['target_smi'])\n",
    "        analogue =pygsmi.from_smiles(row['analogue_smi'])\n",
    "        target.x = target.x.float()\n",
    "        analogue.x = analogue.x.float()\n",
    "\n",
    "\n",
    "        # Get output\n",
    "        label = torch.tensor(row['Label'], dtype=torch.long)\n",
    "\n",
    "        return target, analogue, label\n",
    "\n",
    "   "
   ]
  },
  {
   "cell_type": "code",
   "execution_count": 36,
   "id": "58048416-4edd-4ae5-8ffe-b950f533a1aa",
   "metadata": {},
   "outputs": [],
   "source": [
    "train_data = GraphData(X_train)"
   ]
  },
  {
   "cell_type": "code",
   "execution_count": 37,
   "id": "e3a9441f-f717-44fd-9467-891726d42c7d",
   "metadata": {},
   "outputs": [
    {
     "data": {
      "text/plain": [
       "9"
      ]
     },
     "execution_count": 37,
     "metadata": {},
     "output_type": "execute_result"
    }
   ],
   "source": [
    "train_data[0][0].num_features"
   ]
  },
  {
   "cell_type": "code",
   "execution_count": 38,
   "id": "65c5c6ab-2a17-4a15-aad9-dbddd99cbb2f",
   "metadata": {},
   "outputs": [],
   "source": [
    "#X_test"
   ]
  },
  {
   "cell_type": "code",
   "execution_count": 39,
   "id": "809b5b02-366e-4248-aead-57453b7bc929",
   "metadata": {},
   "outputs": [],
   "source": [
    "test_data = GraphData(X_test)"
   ]
  },
  {
   "cell_type": "code",
   "execution_count": 40,
   "id": "def11539-2b4b-4266-b290-044567666da4",
   "metadata": {},
   "outputs": [
    {
     "data": {
      "text/plain": [
       "(Data(x=[8, 9], edge_index=[2, 16], edge_attr=[16, 3], smiles='ClC1=CC=C(Cl)C=C1'),\n",
       " Data(x=[10, 9], edge_index=[2, 20], edge_attr=[20, 3], smiles='ClC1=C(Cl)C(Cl)=C(Cl)C=C1'),\n",
       " tensor(0))"
      ]
     },
     "execution_count": 40,
     "metadata": {},
     "output_type": "execute_result"
    }
   ],
   "source": [
    "test_data[3]"
   ]
  },
  {
   "cell_type": "code",
   "execution_count": 41,
   "id": "8c58164d-4724-49c7-958d-ceb8523e987e",
   "metadata": {},
   "outputs": [
    {
     "data": {
      "image/png": "[encoded data removed]",
      "text/plain": [
       "<rdkit.Chem.rdchem.Mol at 0x7905ad356ba0>"
      ]
     },
     "execution_count": 41,
     "metadata": {},
     "output_type": "execute_result"
    }
   ],
   "source": [
    "Chem.MolFromSmiles(test_data[3][0]['smiles'])"
   ]
  },
  {
   "cell_type": "code",
   "execution_count": 42,
   "id": "9fba57c5-0643-4ad8-8c72-8a9fa13f52c7",
   "metadata": {},
   "outputs": [
    {
     "data": {
      "image/png": "[encoded data removed]",
      "text/plain": [
       "<rdkit.Chem.rdchem.Mol at 0x7905ad3560b0>"
      ]
     },
     "execution_count": 42,
     "metadata": {},
     "output_type": "execute_result"
    }
   ],
   "source": [
    "Chem.MolFromSmiles(test_data[3][1]['smiles'])"
   ]
  },
  {
   "cell_type": "code",
   "execution_count": 44,
   "id": "638fddaa-2129-4911-8c6e-da4c3307290c",
   "metadata": {},
   "outputs": [],
   "source": [
    "from torch.nn import Linear, Sequential, BatchNorm1d, ReLU, Dropout\n",
    "import torch.nn.functional as F\n",
    "from torch_geometric.nn import GCNConv, GINConv\n",
    "from torch_geometric.nn import global_mean_pool, global_add_pool"
   ]
  },
  {
   "cell_type": "code",
   "execution_count": 45,
   "id": "e8914403-aa91-4e24-9d9c-dae3e11c7f0e",
   "metadata": {},
   "outputs": [],
   "source": [
    "class GIN(torch.nn.Module):\n",
    "    \"\"\"GIN\"\"\"\n",
    "    def __init__(self, dim_h):\n",
    "        super(GIN, self).__init__()\n",
    "        self.conv1 = GINConv(\n",
    "            Sequential(Linear(9, dim_h),\n",
    "                       BatchNorm1d(dim_h), ReLU(),\n",
    "                       Linear(dim_h, dim_h), ReLU()))\n",
    "        self.conv2 = GINConv(\n",
    "            Sequential(Linear(dim_h, dim_h), BatchNorm1d(dim_h), ReLU(),\n",
    "                       Linear(dim_h, dim_h), ReLU()))\n",
    "        self.conv3 = GINConv(\n",
    "            Sequential(Linear(dim_h, dim_h), BatchNorm1d(dim_h), ReLU(),\n",
    "                       Linear(dim_h, dim_h), ReLU()))\n",
    "        self.lin1 = Linear(dim_h*3, dim_h*3)\n",
    "        #self.lin2 = Linear(dim_h*3, 1)\n",
    "\n",
    "    def forward_once(self, data, batch=torch.tensor([0])):\n",
    "        x, edge_index = data.x, data.edge_index\n",
    "        # Node embeddings \n",
    "        h1 = self.conv1(x, edge_index)\n",
    "        h2 = self.conv2(h1, edge_index)\n",
    "        h3 = self.conv3(h2, edge_index)\n",
    "\n",
    "        # Graph-level readout\n",
    "        h1 = global_add_pool(h1, batch)\n",
    "        h2 = global_add_pool(h2, batch)\n",
    "        h3 = global_add_pool(h3, batch)\n",
    "\n",
    "        # Concatenate graph embeddings\n",
    "        h = torch.cat((h1, h2, h3), dim=1)\n",
    "\n",
    "        # Classifier\n",
    "        #h = self.lin1(h)\n",
    "        #h = h.relu()\n",
    "        #h = F.dropout(h, p=0.5, training=self.training)\n",
    "        #h = self.lin2(h)\n",
    "        \n",
    "        return h\n",
    "       \n",
    "        \n",
    "    def forward(self, input1, input2):\n",
    "       \n",
    "        output1 = self.forward_once(input1)\n",
    "        output2 = self.forward_once(input2)\n",
    "\n",
    "        return output1, output2\n",
    "    \n",
    "    "
   ]
  },
  {
   "cell_type": "code",
   "execution_count": 46,
   "id": "80ccd186-ab3e-4977-a79f-17b4558efc1c",
   "metadata": {},
   "outputs": [],
   "source": [
    "gin = GIN(dim_h=32)\n"
   ]
  },
  {
   "cell_type": "code",
   "execution_count": 47,
   "id": "5d700838-f9bf-423d-869f-59be611e15b1",
   "metadata": {},
   "outputs": [],
   "source": [
    "from torch_geometric.nn.models import GAT, GIN\n",
    "from torch_geometric.nn import global_mean_pool, global_add_pool, global_max_pool\n"
   ]
  },
  {
   "cell_type": "code",
   "execution_count": 48,
   "id": "a790ab51-d781-4925-bc1a-2cf4de6f31a7",
   "metadata": {},
   "outputs": [],
   "source": [
    "class ContrastiveLoss(torch.nn.Module):\n",
    "    def __init__(self, margin=2.0):\n",
    "        super(ContrastiveLoss, self).__init__()\n",
    "        self.margin = margin\n",
    "\n",
    "    def forward(self, output1, output2, label):\n",
    "        # Euclidean distance between the embeddings\n",
    "        euclidean_distance = F.pairwise_distance(output1, output2, keepdim = True)\n",
    "\n",
    "        # Contrastive loss formula\n",
    "        contrastive_loss = torch.mean((1 - label) * torch.pow(euclidean_distance, 2) +\n",
    "                                      (label) * torch.pow(torch.clamp(self.margin - euclidean_distance, min=0.0), 2))\n",
    "\n",
    "        return contrastive_loss"
   ]
  },
  {
   "cell_type": "code",
   "execution_count": 49,
   "id": "a5980e0f-1e50-4027-9152-d0acccdbbbb0",
   "metadata": {},
   "outputs": [],
   "source": [
    "criterion = ContrastiveLoss()\n",
    "#optimizer = torch.optim.SGD(params=gin.parameters(), lr=0.005)\n",
    "\n",
    "optimizer = torch.optim.Adam(gin.parameters(), lr=0.0005)"
   ]
  },
  {
   "cell_type": "code",
   "execution_count": 50,
   "id": "4355b1d5-8aab-498e-8ea3-336c17d93134",
   "metadata": {},
   "outputs": [],
   "source": [
    "train_loader = DataLoader(train_data, batch_size=100, shuffle=True, drop_last=True)"
   ]
  },
  {
   "cell_type": "code",
   "execution_count": 51,
   "id": "dd4d64ca-515a-4c77-91d5-e9d56baa908f",
   "metadata": {},
   "outputs": [],
   "source": [
    "test_loader = DataLoader(test_data, batch_size=1, shuffle=False, drop_last=True)"
   ]
  },
  {
   "cell_type": "code",
   "execution_count": 52,
   "id": "8a2589ca-5870-4b5e-9011-4ae016f9d973",
   "metadata": {},
   "outputs": [],
   "source": [
    "def show_plot(counter,loss):\n",
    "    plt.plot(counter,loss)\n",
    "    plt.show()\n",
    "     "
   ]
  },
  {
   "cell_type": "code",
   "execution_count": 53,
   "id": "3f27dec5-6115-48dd-ba80-958c15003bd9",
   "metadata": {},
   "outputs": [],
   "source": [
    "def train_siamese_network(model, train_loader, optimizer, criterion, num_epochs=10):\n",
    "    \n",
    "    loss_lst=[]\n",
    "    counter=[]\n",
    "    iteration_number = 0\n",
    "    for epoch in range(1, num_epochs):\n",
    "        total_loss = 0.0\n",
    "        model.train()\n",
    "        for  i, data in enumerate(train_loader,0):\n",
    "            input1, input2, label = data\n",
    "            optimizer.zero_grad()\n",
    "            output1, output2 = model(input1, input2)\n",
    "            loss = criterion(output1, output2, label)\n",
    "            #print(loss)\n",
    "            #total_loss += loss /len(train_loader)\n",
    "            loss.backward()\n",
    "            optimizer.step()\n",
    "        print(\"Epoch {}\\ Current loss {}\".format(epoch,loss.item()))\n",
    "        iteration_number += 10\n",
    "        counter.append(iteration_number)\n",
    "        loss_lst.append(loss.item())\n",
    "        \n",
    "    show_plot(counter, loss_lst)\n",
    "        \n",
    "    return model\n",
    "   \n"
   ]
  },
  {
   "cell_type": "code",
   "execution_count": 54,
   "id": "fd0589ce-53aa-48ec-949f-1b878c15374f",
   "metadata": {},
   "outputs": [
    {
     "name": "stdout",
     "output_type": "stream",
     "text": [
      "Epoch 1\\ Current loss 7297.5263671875\n",
      "Epoch 2\\ Current loss 7215.0419921875\n",
      "Epoch 3\\ Current loss 2810.721923828125\n",
      "Epoch 4\\ Current loss 9377.7314453125\n",
      "Epoch 5\\ Current loss 1741.3575439453125\n",
      "Epoch 6\\ Current loss 1866.4144287109375\n",
      "Epoch 7\\ Current loss 784.2157592773438\n",
      "Epoch 8\\ Current loss 3166.744384765625\n",
      "Epoch 9\\ Current loss 805.4759521484375\n",
      "Epoch 10\\ Current loss 1027.4219970703125\n",
      "Epoch 11\\ Current loss 630.3260498046875\n",
      "Epoch 12\\ Current loss 1568.172607421875\n",
      "Epoch 13\\ Current loss 701.6467895507812\n",
      "Epoch 14\\ Current loss 893.2691650390625\n",
      "Epoch 15\\ Current loss 198.62646484375\n",
      "Epoch 16\\ Current loss 191.1639862060547\n",
      "Epoch 17\\ Current loss 218.41424560546875\n",
      "Epoch 18\\ Current loss 339.40972900390625\n",
      "Epoch 19\\ Current loss 133.74261474609375\n",
      "Epoch 20\\ Current loss 181.95477294921875\n",
      "Epoch 21\\ Current loss 205.3780517578125\n",
      "Epoch 22\\ Current loss 311.4730529785156\n",
      "Epoch 23\\ Current loss 191.8009796142578\n",
      "Epoch 24\\ Current loss 166.05572509765625\n",
      "Epoch 25\\ Current loss 204.4058837890625\n",
      "Epoch 26\\ Current loss 132.927490234375\n",
      "Epoch 27\\ Current loss 177.21109008789062\n",
      "Epoch 28\\ Current loss 218.6509552001953\n",
      "Epoch 29\\ Current loss 131.06593322753906\n",
      "Epoch 30\\ Current loss 133.78286743164062\n",
      "Epoch 31\\ Current loss 243.29331970214844\n",
      "Epoch 32\\ Current loss 244.3170166015625\n",
      "Epoch 33\\ Current loss 59.394405364990234\n",
      "Epoch 34\\ Current loss 182.46372985839844\n",
      "Epoch 35\\ Current loss 89.44601440429688\n",
      "Epoch 36\\ Current loss 82.08891296386719\n",
      "Epoch 37\\ Current loss 68.79325866699219\n",
      "Epoch 38\\ Current loss 52.907562255859375\n",
      "Epoch 39\\ Current loss 64.58615112304688\n",
      "Epoch 40\\ Current loss 58.84333038330078\n",
      "Epoch 41\\ Current loss 79.15126037597656\n",
      "Epoch 42\\ Current loss 57.54145050048828\n",
      "Epoch 43\\ Current loss 56.25518035888672\n",
      "Epoch 44\\ Current loss 66.79564666748047\n",
      "Epoch 45\\ Current loss 48.81804275512695\n",
      "Epoch 46\\ Current loss 15.524245262145996\n",
      "Epoch 47\\ Current loss 42.42185592651367\n",
      "Epoch 48\\ Current loss 18.035842895507812\n",
      "Epoch 49\\ Current loss 44.39323806762695\n"
     ]
    },
    {
     "data": {
      "image/png": "[encoded data removed]",
      "text/plain": [
       "<Figure size 640x480 with 1 Axes>"
      ]
     },
     "metadata": {},
     "output_type": "display_data"
    },
    {
     "data": {
      "text/plain": [
       "GIN(\n",
       "  (conv1): GINConv(nn=Sequential(\n",
       "    (0): Linear(in_features=9, out_features=32, bias=True)\n",
       "    (1): BatchNorm1d(32, eps=1e-05, momentum=0.1, affine=True, track_running_stats=True)\n",
       "    (2): ReLU()\n",
       "    (3): Linear(in_features=32, out_features=32, bias=True)\n",
       "    (4): ReLU()\n",
       "  ))\n",
       "  (conv2): GINConv(nn=Sequential(\n",
       "    (0): Linear(in_features=32, out_features=32, bias=True)\n",
       "    (1): BatchNorm1d(32, eps=1e-05, momentum=0.1, affine=True, track_running_stats=True)\n",
       "    (2): ReLU()\n",
       "    (3): Linear(in_features=32, out_features=32, bias=True)\n",
       "    (4): ReLU()\n",
       "  ))\n",
       "  (conv3): GINConv(nn=Sequential(\n",
       "    (0): Linear(in_features=32, out_features=32, bias=True)\n",
       "    (1): BatchNorm1d(32, eps=1e-05, momentum=0.1, affine=True, track_running_stats=True)\n",
       "    (2): ReLU()\n",
       "    (3): Linear(in_features=32, out_features=32, bias=True)\n",
       "    (4): ReLU()\n",
       "  ))\n",
       "  (lin1): Linear(in_features=96, out_features=96, bias=True)\n",
       ")"
      ]
     },
     "execution_count": 54,
     "metadata": {},
     "output_type": "execute_result"
    }
   ],
   "source": [
    "train_siamese_network(gin, train_loader, optimizer, criterion, num_epochs=50)"
   ]
  },
  {
   "cell_type": "code",
   "execution_count": 55,
   "id": "97de3c5f-e525-4cb9-961b-d53af1e1a999",
   "metadata": {},
   "outputs": [],
   "source": [
    "from sklearn.metrics import accuracy_score, precision_score, recall_score, f1_score"
   ]
  },
  {
   "cell_type": "code",
   "execution_count": 83,
   "id": "516bb8cb-5bea-4a7e-954b-5ceda848bda4",
   "metadata": {},
   "outputs": [],
   "source": [
    "def test_network(model, test_loader, threshold=5):\n",
    "    true_labels = np.empty((0,))\n",
    "    predicted_labels = np.empty((0,))\n",
    "    euclidean = np.empty((0,))\n",
    "    \n",
    "    model.eval()\n",
    "    \n",
    "    with torch.no_grad():\n",
    "        for i, data in enumerate(test_loader,0):\n",
    "            # Unpack data\n",
    "            input1, input2, label = data\n",
    "            #print(label)\n",
    "            \n",
    "            output1, output2 = model(input1, input2)\n",
    "            #print(output1, output2)\n",
    "            euclidean_distance = F.pairwise_distance(output1, output2)\n",
    "            predictions = (euclidean_distance > threshold).float()\n",
    "            \n",
    "\n",
    "            true_labels = np.append(true_labels, label.view(-1).cpu().numpy())\n",
    "            predicted_labels = np.append(predicted_labels, predictions.view(-1).cpu().numpy())\n",
    "            euclidean = np.append(euclidean, euclidean_distance.view(-1).cpu().numpy())\n",
    "            \n",
    "            #print(input1['smiles'], input2['smiles'], label, euclidean_distance.item())\n",
    "            \n",
    "           \n",
    "\n",
    "    \n",
    "    \n",
    "\n",
    "        return true_labels, predicted_labels, euclidean"
   ]
  },
  {
   "cell_type": "code",
   "execution_count": 100,
   "id": "dc011a40-0cae-41b2-90ba-11ff02cb86e2",
   "metadata": {},
   "outputs": [],
   "source": [
    "a, b, c =test_network(gin, test_loader, threshold = 1)"
   ]
  },
  {
   "cell_type": "code",
   "execution_count": 101,
   "id": "2203131c-5969-438b-acbc-4b03a343b852",
   "metadata": {},
   "outputs": [
    {
     "data": {
      "text/plain": [
       "(Data(x=[4, 9], edge_index=[2, 6], edge_attr=[6, 3], smiles='CC(C)=C'),\n",
       " Data(x=[6, 9], edge_index=[2, 10], edge_attr=[10, 3], smiles='CCC=CCO'),\n",
       " tensor(1))"
      ]
     },
     "execution_count": 101,
     "metadata": {},
     "output_type": "execute_result"
    }
   ],
   "source": [
    "test_data[2]"
   ]
  },
  {
   "cell_type": "code",
   "execution_count": 102,
   "id": "1fde5bfa-fedc-4676-99e4-af6d36dc314e",
   "metadata": {},
   "outputs": [
    {
     "data": {
      "text/plain": [
       "(1.0, 0.0, 0.45941683650016785)"
      ]
     },
     "execution_count": 102,
     "metadata": {},
     "output_type": "execute_result"
    }
   ],
   "source": [
    "a[2], b[2], c[2]"
   ]
  },
  {
   "cell_type": "code",
   "execution_count": 103,
   "id": "3e29535f-c42b-4d96-aee3-3dabc1117de6",
   "metadata": {},
   "outputs": [
    {
     "data": {
      "text/plain": [
       "(array([856., 156.,  37.,  18.,   5.,   2.,   2.,   0.,   3.,   7.]),\n",
       " array([9.77125183e-06, 1.07357628e+00, 2.14714279e+00, 3.22070930e+00,\n",
       "        4.29427581e+00, 5.36784231e+00, 6.44140882e+00, 7.51497533e+00,\n",
       "        8.58854184e+00, 9.66210835e+00, 1.07356749e+01]),\n",
       " <BarContainer object of 10 artists>)"
      ]
     },
     "execution_count": 103,
     "metadata": {},
     "output_type": "execute_result"
    },
    {
     "data": {
      "image/png": "[encoded data removed]",
      "text/plain": [
       "<Figure size 640x480 with 1 Axes>"
      ]
     },
     "metadata": {},
     "output_type": "display_data"
    }
   ],
   "source": [
    "plt.hist(c)"
   ]
  },
  {
   "cell_type": "code",
   "execution_count": 104,
   "id": "a8b60101-b501-4196-b178-5114009709e3",
   "metadata": {},
   "outputs": [],
   "source": [
    "from sklearn.metrics import balanced_accuracy_score,accuracy_score,f1_score, confusion_matrix, recall_score, precision_score"
   ]
  },
  {
   "cell_type": "code",
   "execution_count": 121,
   "id": "3ccff72a-3eb6-4dda-84d4-1360aa6c4028",
   "metadata": {},
   "outputs": [
    {
     "data": {
      "text/plain": [
       "0.6731123388581952"
      ]
     },
     "execution_count": 121,
     "metadata": {},
     "output_type": "execute_result"
    }
   ],
   "source": [
    "accuracy_score(a, b)"
   ]
  },
  {
   "cell_type": "code",
   "execution_count": 122,
   "id": "cbb41458-7abb-4d92-b949-116a4e36ea14",
   "metadata": {},
   "outputs": [],
   "source": [
    "precision = precision_score(a, b)\n",
    "recall = recall_score(a, b)\n",
    "f1 = f1_score(a, b)\n",
    "cm = confusion_matrix(a,b)"
   ]
  },
  {
   "cell_type": "code",
   "execution_count": 123,
   "id": "1e01979e-0442-410d-afe0-9292809dee5f",
   "metadata": {},
   "outputs": [
    {
     "name": "stdout",
     "output_type": "stream",
     "text": [
      "0.8884297520661157 0.39594843462246776 0.5477707006369427\n"
     ]
    }
   ],
   "source": [
    "print(precision, recall, f1)"
   ]
  },
  {
   "cell_type": "code",
   "execution_count": 124,
   "id": "320df299-08fe-4679-8886-c0d78fc8e454",
   "metadata": {},
   "outputs": [
    {
     "name": "stdout",
     "output_type": "stream",
     "text": [
      "[[516  27]\n",
      " [328 215]]\n"
     ]
    }
   ],
   "source": [
    "print(cm)\n"
   ]
  },
  {
   "cell_type": "code",
   "execution_count": 109,
   "id": "fe798a36-ce93-4680-b1aa-113bdb699215",
   "metadata": {},
   "outputs": [],
   "source": [
    "new_cols = pd.DataFrame(list(zip(a,b,c)), columns = ['true_label', 'pred_label', 'Euclidean'])\n"
   ]
  },
  {
   "cell_type": "code",
   "execution_count": 117,
   "id": "89764cf9-e93a-4280-bc8d-ccac3d56a0fd",
   "metadata": {},
   "outputs": [],
   "source": [
    "X_test.reset_index(drop = True, inplace =True)"
   ]
  },
  {
   "cell_type": "code",
   "execution_count": 118,
   "id": "1494b5f0-087d-485d-9f85-1e1d0747ec40",
   "metadata": {},
   "outputs": [],
   "source": [
    "X_test1 = pd.concat([X_test, new_cols], axis = 1)"
   ]
  },
  {
   "cell_type": "code",
   "execution_count": 119,
   "id": "93bcabfa-dd0e-4e90-b09c-0347d5a5337c",
   "metadata": {},
   "outputs": [
    {
     "data": {
      "text/html": [
       "<div>\n",
       "<style scoped>\n",
       "    .dataframe tbody tr th:only-of-type {\n",
       "        vertical-align: middle;\n",
       "    }\n",
       "\n",
       "    .dataframe tbody tr th {\n",
       "        vertical-align: top;\n",
       "    }\n",
       "\n",
       "    .dataframe thead th {\n",
       "        text-align: right;\n",
       "    }\n",
       "</style>\n",
       "<table border=\"1\" class=\"dataframe\">\n",
       "  <thead>\n",
       "    <tr style=\"text-align: right;\">\n",
       "      <th></th>\n",
       "      <th>Target</th>\n",
       "      <th>Analogue</th>\n",
       "      <th>target_smi</th>\n",
       "      <th>analogue_smi</th>\n",
       "      <th>Label</th>\n",
       "      <th>tanimoto</th>\n",
       "      <th>true_label</th>\n",
       "      <th>pred_label</th>\n",
       "      <th>Euclidean</th>\n",
       "    </tr>\n",
       "  </thead>\n",
       "  <tbody>\n",
       "    <tr>\n",
       "      <th>0</th>\n",
       "      <td>DTXSID1026746</td>\n",
       "      <td>DTXSID2021947</td>\n",
       "      <td>CCC=C</td>\n",
       "      <td>CCCCCCCCCCCCCO</td>\n",
       "      <td>1</td>\n",
       "      <td>0.125000</td>\n",
       "      <td>1.0</td>\n",
       "      <td>0.0</td>\n",
       "      <td>0.152989</td>\n",
       "    </tr>\n",
       "    <tr>\n",
       "      <th>1</th>\n",
       "      <td>DTXSID40337923</td>\n",
       "      <td>DTXSID0047666</td>\n",
       "      <td>CCCCCCCCC(CC)CO</td>\n",
       "      <td>CCCC(=O)OCC=C</td>\n",
       "      <td>1</td>\n",
       "      <td>0.106383</td>\n",
       "      <td>1.0</td>\n",
       "      <td>0.0</td>\n",
       "      <td>0.498635</td>\n",
       "    </tr>\n",
       "    <tr>\n",
       "      <th>2</th>\n",
       "      <td>DTXSID9020748</td>\n",
       "      <td>DTXSID40862700</td>\n",
       "      <td>CC(C)=C</td>\n",
       "      <td>CCC=CCO</td>\n",
       "      <td>1</td>\n",
       "      <td>0.111111</td>\n",
       "      <td>1.0</td>\n",
       "      <td>0.0</td>\n",
       "      <td>0.459417</td>\n",
       "    </tr>\n",
       "    <tr>\n",
       "      <th>3</th>\n",
       "      <td>DTXSID1020431</td>\n",
       "      <td>DTXSID6026088</td>\n",
       "      <td>ClC1=CC=C(Cl)C=C1</td>\n",
       "      <td>ClC1=C(Cl)C(Cl)=C(Cl)C=C1</td>\n",
       "      <td>0</td>\n",
       "      <td>0.277778</td>\n",
       "      <td>0.0</td>\n",
       "      <td>0.0</td>\n",
       "      <td>0.893328</td>\n",
       "    </tr>\n",
       "    <tr>\n",
       "      <th>4</th>\n",
       "      <td>DTXSID4024012</td>\n",
       "      <td>DTXSID1024128</td>\n",
       "      <td>BrC1=CC=C(Br)C=C1</td>\n",
       "      <td>BrC1=C(Br)C(Br)=C(Br)C(Br)=C1Br</td>\n",
       "      <td>0</td>\n",
       "      <td>0.230769</td>\n",
       "      <td>0.0</td>\n",
       "      <td>1.0</td>\n",
       "      <td>7.270732</td>\n",
       "    </tr>\n",
       "    <tr>\n",
       "      <th>...</th>\n",
       "      <td>...</td>\n",
       "      <td>...</td>\n",
       "      <td>...</td>\n",
       "      <td>...</td>\n",
       "      <td>...</td>\n",
       "      <td>...</td>\n",
       "      <td>...</td>\n",
       "      <td>...</td>\n",
       "      <td>...</td>\n",
       "    </tr>\n",
       "    <tr>\n",
       "      <th>1081</th>\n",
       "      <td>DTXSID7024320</td>\n",
       "      <td>DTXSID8047763</td>\n",
       "      <td>ClC1=CC(Cl)=C(Cl)C=C1Cl</td>\n",
       "      <td>[S-]C#N</td>\n",
       "      <td>1</td>\n",
       "      <td>0.000000</td>\n",
       "      <td>1.0</td>\n",
       "      <td>1.0</td>\n",
       "      <td>1.415262</td>\n",
       "    </tr>\n",
       "    <tr>\n",
       "      <th>1082</th>\n",
       "      <td>DTXSID4026761</td>\n",
       "      <td>DTXSID80168576</td>\n",
       "      <td>COC=C</td>\n",
       "      <td>CNP(=O)(NC)N(C)C</td>\n",
       "      <td>1</td>\n",
       "      <td>0.045455</td>\n",
       "      <td>1.0</td>\n",
       "      <td>1.0</td>\n",
       "      <td>1.424851</td>\n",
       "    </tr>\n",
       "    <tr>\n",
       "      <th>1083</th>\n",
       "      <td>DTXSID501015053</td>\n",
       "      <td>DTXSID5026750</td>\n",
       "      <td>CCC(C)(C)CCCC(=O)OCC=C</td>\n",
       "      <td>CCCS</td>\n",
       "      <td>1</td>\n",
       "      <td>0.073171</td>\n",
       "      <td>1.0</td>\n",
       "      <td>0.0</td>\n",
       "      <td>0.765557</td>\n",
       "    </tr>\n",
       "    <tr>\n",
       "      <th>1084</th>\n",
       "      <td>DTXSID2027412</td>\n",
       "      <td>DTXSID20194995</td>\n",
       "      <td>CCCCOCCOCCOCCOCCO</td>\n",
       "      <td>CCCCCCCCCC(=O)OCC1=CC=CC=C1</td>\n",
       "      <td>1</td>\n",
       "      <td>0.135593</td>\n",
       "      <td>1.0</td>\n",
       "      <td>1.0</td>\n",
       "      <td>1.283402</td>\n",
       "    </tr>\n",
       "    <tr>\n",
       "      <th>1085</th>\n",
       "      <td>DTXSID60206647</td>\n",
       "      <td>DTXSID6047604</td>\n",
       "      <td>CCCCCCCCC(=O)OCCC1=CC=CC=C1</td>\n",
       "      <td>CCCC(=O)OCCC1=CC=CC=C1</td>\n",
       "      <td>0</td>\n",
       "      <td>0.660000</td>\n",
       "      <td>0.0</td>\n",
       "      <td>0.0</td>\n",
       "      <td>0.004322</td>\n",
       "    </tr>\n",
       "  </tbody>\n",
       "</table>\n",
       "<p>1086 rows × 9 columns</p>\n",
       "</div>"
      ],
      "text/plain": [
       "               Target        Analogue                   target_smi  \\\n",
       "0       DTXSID1026746   DTXSID2021947                        CCC=C   \n",
       "1      DTXSID40337923   DTXSID0047666              CCCCCCCCC(CC)CO   \n",
       "2       DTXSID9020748  DTXSID40862700                      CC(C)=C   \n",
       "3       DTXSID1020431   DTXSID6026088            ClC1=CC=C(Cl)C=C1   \n",
       "4       DTXSID4024012   DTXSID1024128            BrC1=CC=C(Br)C=C1   \n",
       "...               ...             ...                          ...   \n",
       "1081    DTXSID7024320   DTXSID8047763      ClC1=CC(Cl)=C(Cl)C=C1Cl   \n",
       "1082    DTXSID4026761  DTXSID80168576                        COC=C   \n",
       "1083  DTXSID501015053   DTXSID5026750       CCC(C)(C)CCCC(=O)OCC=C   \n",
       "1084    DTXSID2027412  DTXSID20194995            CCCCOCCOCCOCCOCCO   \n",
       "1085   DTXSID60206647   DTXSID6047604  CCCCCCCCC(=O)OCCC1=CC=CC=C1   \n",
       "\n",
       "                         analogue_smi  Label  tanimoto  true_label  \\\n",
       "0                      CCCCCCCCCCCCCO      1  0.125000         1.0   \n",
       "1                       CCCC(=O)OCC=C      1  0.106383         1.0   \n",
       "2                             CCC=CCO      1  0.111111         1.0   \n",
       "3           ClC1=C(Cl)C(Cl)=C(Cl)C=C1      0  0.277778         0.0   \n",
       "4     BrC1=C(Br)C(Br)=C(Br)C(Br)=C1Br      0  0.230769         0.0   \n",
       "...                               ...    ...       ...         ...   \n",
       "1081                          [S-]C#N      1  0.000000         1.0   \n",
       "1082                 CNP(=O)(NC)N(C)C      1  0.045455         1.0   \n",
       "1083                             CCCS      1  0.073171         1.0   \n",
       "1084      CCCCCCCCCC(=O)OCC1=CC=CC=C1      1  0.135593         1.0   \n",
       "1085           CCCC(=O)OCCC1=CC=CC=C1      0  0.660000         0.0   \n",
       "\n",
       "      pred_label  Euclidean  \n",
       "0            0.0   0.152989  \n",
       "1            0.0   0.498635  \n",
       "2            0.0   0.459417  \n",
       "3            0.0   0.893328  \n",
       "4            1.0   7.270732  \n",
       "...          ...        ...  \n",
       "1081         1.0   1.415262  \n",
       "1082         1.0   1.424851  \n",
       "1083         0.0   0.765557  \n",
       "1084         1.0   1.283402  \n",
       "1085         0.0   0.004322  \n",
       "\n",
       "[1086 rows x 9 columns]"
      ]
     },
     "execution_count": 119,
     "metadata": {},
     "output_type": "execute_result"
    }
   ],
   "source": [
    "X_test1"
   ]
  },
  {
   "cell_type": "code",
   "execution_count": 120,
   "id": "61573399-017d-4fe6-b480-f46955bad760",
   "metadata": {},
   "outputs": [
    {
     "data": {
      "text/plain": [
       "<matplotlib.legend.Legend at 0x7905aae1b8b0>"
      ]
     },
     "execution_count": 120,
     "metadata": {},
     "output_type": "execute_result"
    },
    {
     "data": {
      "image/png": "[encoded data removed]",
      "text/plain": [
       "<Figure size 640x480 with 1 Axes>"
      ]
     },
     "metadata": {},
     "output_type": "display_data"
    }
   ],
   "source": [
    "X_test1[X_test1['Label'] ==1]['Euclidean'].hist(label = 'similar')\n",
    "X_test1[X_test1['Label'] ==0]['Euclidean'].hist(color = 'r', alpha = 0.5, label = 'dissimilar')\n",
    "plt.legend()"
   ]
  },
  {
   "cell_type": "code",
   "execution_count": null,
   "id": "1b5a2252-b096-466f-821a-6804373da48e",
   "metadata": {},
   "outputs": [],
   "source": []
  },
  {
   "cell_type": "code",
   "execution_count": null,
   "id": "c326243b-0cce-4318-b8cb-4c8bc584baa5",
   "metadata": {},
   "outputs": [],
   "source": []
  }
 ],
 "metadata": {
  "kernelspec": {
   "display_name": "pytorch_cuda",
   "language": "python",
   "name": "pytorch_cuda"
  },
  "language_info": {
   "codemirror_mode": {
    "name": "ipython",
    "version": 3
   },
   "file_extension": ".py",
   "mimetype": "text/x-python",
   "name": "python",
   "nbconvert_exporter": "python",
   "pygments_lexer": "ipython3",
   "version": "3.11.10"
  },
  "widgets": {
   "application/vnd.jupyter.widget-state+json": {
    "state": {},
    "version_major": 2,
    "version_minor": 0
   }
  }
 },
 "nbformat": 4,
 "nbformat_minor": 5
}
