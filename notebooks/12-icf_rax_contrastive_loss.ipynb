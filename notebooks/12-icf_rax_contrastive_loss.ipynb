{
 "cells": [
  {
   "cell_type": "code",
   "execution_count": 3,
   "id": "11f50688-c0ec-461e-bbf5-51b5246076a7",
   "metadata": {},
   "outputs": [],
   "source": [
    "import matplotlib.pyplot as plt"
   ]
  },
  {
   "cell_type": "code",
   "execution_count": 4,
   "id": "795ef6b4-b697-45ca-97a0-fd5827697f39",
   "metadata": {},
   "outputs": [],
   "source": [
    "import torch"
   ]
  },
  {
   "cell_type": "code",
   "execution_count": 5,
   "id": "f06a975b-43af-43dc-b065-b56a89756eba",
   "metadata": {},
   "outputs": [],
   "source": [
    "import numpy as np\n",
    "import pandas as pd\n",
    "from rdkit import Chem\n",
    "\n",
    "import openpyxl\n",
    "import os\n",
    "from pathlib import Path"
   ]
  },
  {
   "cell_type": "code",
   "execution_count": 6,
   "id": "20a8f979-50f6-4d5b-8306-f00dea6a09f6",
   "metadata": {},
   "outputs": [],
   "source": [
    "%matplotlib inline"
   ]
  },
  {
   "cell_type": "code",
   "execution_count": 7,
   "id": "feb15c2f-ee55-40dd-806e-7b24f94180bc",
   "metadata": {},
   "outputs": [],
   "source": [
    "TOP = Path.cwd().as_posix().replace('notebooks','')\n",
    "raw_dir = Path(TOP) / 'data'/'raw'\n",
    "interim_dir = Path(TOP) / 'data'/'interim'\n",
    "external_dir = Path(TOP) / 'data'/'external'\n",
    "figures_dir = Path(TOP) / 'reports'/'figures/'\n",
    "processed_dir = Path(TOP) / 'data'/'processed'\n"
   ]
  },
  {
   "cell_type": "code",
   "execution_count": 8,
   "id": "e19ab639-b0bd-4381-8756-f1efbbe7845e",
   "metadata": {},
   "outputs": [
    {
     "data": {
      "text/html": [
       "<div>\n",
       "<style scoped>\n",
       "    .dataframe tbody tr th:only-of-type {\n",
       "        vertical-align: middle;\n",
       "    }\n",
       "\n",
       "    .dataframe tbody tr th {\n",
       "        vertical-align: top;\n",
       "    }\n",
       "\n",
       "    .dataframe thead th {\n",
       "        text-align: right;\n",
       "    }\n",
       "</style>\n",
       "<table border=\"1\" class=\"dataframe\">\n",
       "  <thead>\n",
       "    <tr style=\"text-align: right;\">\n",
       "      <th></th>\n",
       "      <th>Target</th>\n",
       "      <th>Analogue</th>\n",
       "      <th>Label</th>\n",
       "      <th>analogue_smi</th>\n",
       "      <th>target_smi</th>\n",
       "      <th>analogue_mol</th>\n",
       "      <th>target_mol</th>\n",
       "      <th>fps_target</th>\n",
       "      <th>fps_analogue</th>\n",
       "      <th>Tanimoto</th>\n",
       "    </tr>\n",
       "  </thead>\n",
       "  <tbody>\n",
       "    <tr>\n",
       "      <th>1</th>\n",
       "      <td>DTXSID5023378</td>\n",
       "      <td>DTXSID0044496</td>\n",
       "      <td>1</td>\n",
       "      <td>CCCCCC1CCCC(=O)O1</td>\n",
       "      <td>NCC(O)C1=CC=C(O)C(O)=C1</td>\n",
       "      <td>&lt;rdkit.Chem.rdchem.Mol object at 0x7b9df2c882e0&gt;</td>\n",
       "      <td>&lt;rdkit.Chem.rdchem.Mol object at 0x7b9de85e1310&gt;</td>\n",
       "      <td>&lt;rdkit.DataStructs.cDataStructs.ExplicitBitVec...</td>\n",
       "      <td>&lt;rdkit.DataStructs.cDataStructs.ExplicitBitVec...</td>\n",
       "      <td>0.031746</td>\n",
       "    </tr>\n",
       "    <tr>\n",
       "      <th>2</th>\n",
       "      <td>DTXSID5023378</td>\n",
       "      <td>DTXSID4029301</td>\n",
       "      <td>1</td>\n",
       "      <td>Cl[SiH](Cl)Cl</td>\n",
       "      <td>NCC(O)C1=CC=C(O)C(O)=C1</td>\n",
       "      <td>&lt;rdkit.Chem.rdchem.Mol object at 0x7b9df2c884a0&gt;</td>\n",
       "      <td>&lt;rdkit.Chem.rdchem.Mol object at 0x7b9de85e1380&gt;</td>\n",
       "      <td>&lt;rdkit.DataStructs.cDataStructs.ExplicitBitVec...</td>\n",
       "      <td>&lt;rdkit.DataStructs.cDataStructs.ExplicitBitVec...</td>\n",
       "      <td>0.000000</td>\n",
       "    </tr>\n",
       "    <tr>\n",
       "      <th>3</th>\n",
       "      <td>DTXSID5023378</td>\n",
       "      <td>DTXSID8026488</td>\n",
       "      <td>1</td>\n",
       "      <td>CC1(C)C2CCC(C2)C1=C</td>\n",
       "      <td>NCC(O)C1=CC=C(O)C(O)=C1</td>\n",
       "      <td>&lt;rdkit.Chem.rdchem.Mol object at 0x7b9df2c88200&gt;</td>\n",
       "      <td>&lt;rdkit.Chem.rdchem.Mol object at 0x7b9de85e13f0&gt;</td>\n",
       "      <td>&lt;rdkit.DataStructs.cDataStructs.ExplicitBitVec...</td>\n",
       "      <td>&lt;rdkit.DataStructs.cDataStructs.ExplicitBitVec...</td>\n",
       "      <td>0.019231</td>\n",
       "    </tr>\n",
       "    <tr>\n",
       "      <th>4</th>\n",
       "      <td>DTXSID5023378</td>\n",
       "      <td>DTXSID0029719</td>\n",
       "      <td>1</td>\n",
       "      <td>CCCCC(CC)COC(=O)CS[Sn](CCCC)(CCCC)SCC(=O)OCC(C...</td>\n",
       "      <td>NCC(O)C1=CC=C(O)C(O)=C1</td>\n",
       "      <td>&lt;rdkit.Chem.rdchem.Mol object at 0x7b9df2c88120&gt;</td>\n",
       "      <td>&lt;rdkit.Chem.rdchem.Mol object at 0x7b9de85e1460&gt;</td>\n",
       "      <td>&lt;rdkit.DataStructs.cDataStructs.ExplicitBitVec...</td>\n",
       "      <td>&lt;rdkit.DataStructs.cDataStructs.ExplicitBitVec...</td>\n",
       "      <td>0.057971</td>\n",
       "    </tr>\n",
       "    <tr>\n",
       "      <th>5</th>\n",
       "      <td>DTXSID5023378</td>\n",
       "      <td>DTXSID6047105</td>\n",
       "      <td>1</td>\n",
       "      <td>COC1=CC(C)=CC=C1O</td>\n",
       "      <td>NCC(O)C1=CC=C(O)C(O)=C1</td>\n",
       "      <td>&lt;rdkit.Chem.rdchem.Mol object at 0x7b9df2c88580&gt;</td>\n",
       "      <td>&lt;rdkit.Chem.rdchem.Mol object at 0x7b9de85e14d0&gt;</td>\n",
       "      <td>&lt;rdkit.DataStructs.cDataStructs.ExplicitBitVec...</td>\n",
       "      <td>&lt;rdkit.DataStructs.cDataStructs.ExplicitBitVec...</td>\n",
       "      <td>0.170213</td>\n",
       "    </tr>\n",
       "    <tr>\n",
       "      <th>...</th>\n",
       "      <td>...</td>\n",
       "      <td>...</td>\n",
       "      <td>...</td>\n",
       "      <td>...</td>\n",
       "      <td>...</td>\n",
       "      <td>...</td>\n",
       "      <td>...</td>\n",
       "      <td>...</td>\n",
       "      <td>...</td>\n",
       "      <td>...</td>\n",
       "    </tr>\n",
       "    <tr>\n",
       "      <th>480938</th>\n",
       "      <td>DTXSID00391682</td>\n",
       "      <td>DTXSID6025804</td>\n",
       "      <td>1</td>\n",
       "      <td>CCCCCCC=C</td>\n",
       "      <td>CCC(C)(C)C1=CC(C)=C(O)C(C)=C1</td>\n",
       "      <td>&lt;rdkit.Chem.rdchem.Mol object at 0x7b9de85e10e0&gt;</td>\n",
       "      <td>&lt;rdkit.Chem.rdchem.Mol object at 0x7b9de6ee3c30&gt;</td>\n",
       "      <td>&lt;rdkit.DataStructs.cDataStructs.ExplicitBitVec...</td>\n",
       "      <td>&lt;rdkit.DataStructs.cDataStructs.ExplicitBitVec...</td>\n",
       "      <td>0.095238</td>\n",
       "    </tr>\n",
       "    <tr>\n",
       "      <th>480939</th>\n",
       "      <td>DTXSID00391682</td>\n",
       "      <td>DTXSID7025631</td>\n",
       "      <td>1</td>\n",
       "      <td>CC1=CC=CC(=C1N)[N+]([O-])=O</td>\n",
       "      <td>CCC(C)(C)C1=CC(C)=C(O)C(C)=C1</td>\n",
       "      <td>&lt;rdkit.Chem.rdchem.Mol object at 0x7b9de85e1150&gt;</td>\n",
       "      <td>&lt;rdkit.Chem.rdchem.Mol object at 0x7b9de6ee3ca0&gt;</td>\n",
       "      <td>&lt;rdkit.DataStructs.cDataStructs.ExplicitBitVec...</td>\n",
       "      <td>&lt;rdkit.DataStructs.cDataStructs.ExplicitBitVec...</td>\n",
       "      <td>0.102041</td>\n",
       "    </tr>\n",
       "    <tr>\n",
       "      <th>481633</th>\n",
       "      <td>DTXSID3020205</td>\n",
       "      <td>DTXSID6025804</td>\n",
       "      <td>1</td>\n",
       "      <td>CCCCCCC=C</td>\n",
       "      <td>CCCCOC(=O)C1=C(C=CC=C1)C(=O)OCC1=CC=CC=C1</td>\n",
       "      <td>&lt;rdkit.Chem.rdchem.Mol object at 0x7b9de85e11c0&gt;</td>\n",
       "      <td>&lt;rdkit.Chem.rdchem.Mol object at 0x7b9de6ee3d10&gt;</td>\n",
       "      <td>&lt;rdkit.DataStructs.cDataStructs.ExplicitBitVec...</td>\n",
       "      <td>&lt;rdkit.DataStructs.cDataStructs.ExplicitBitVec...</td>\n",
       "      <td>0.101695</td>\n",
       "    </tr>\n",
       "    <tr>\n",
       "      <th>481634</th>\n",
       "      <td>DTXSID3020205</td>\n",
       "      <td>DTXSID7025631</td>\n",
       "      <td>1</td>\n",
       "      <td>CC1=CC=CC(=C1N)[N+]([O-])=O</td>\n",
       "      <td>CCCCOC(=O)C1=C(C=CC=C1)C(=O)OCC1=CC=CC=C1</td>\n",
       "      <td>&lt;rdkit.Chem.rdchem.Mol object at 0x7b9de85e1230&gt;</td>\n",
       "      <td>&lt;rdkit.Chem.rdchem.Mol object at 0x7b9de6ee3d80&gt;</td>\n",
       "      <td>&lt;rdkit.DataStructs.cDataStructs.ExplicitBitVec...</td>\n",
       "      <td>&lt;rdkit.DataStructs.cDataStructs.ExplicitBitVec...</td>\n",
       "      <td>0.106061</td>\n",
       "    </tr>\n",
       "    <tr>\n",
       "      <th>482329</th>\n",
       "      <td>DTXSID6025804</td>\n",
       "      <td>DTXSID7025631</td>\n",
       "      <td>1</td>\n",
       "      <td>CC1=CC=CC(=C1N)[N+]([O-])=O</td>\n",
       "      <td>CCCCCCC=C</td>\n",
       "      <td>&lt;rdkit.Chem.rdchem.Mol object at 0x7b9de85e12a0&gt;</td>\n",
       "      <td>&lt;rdkit.Chem.rdchem.Mol object at 0x7b9de6ee3df0&gt;</td>\n",
       "      <td>&lt;rdkit.DataStructs.cDataStructs.ExplicitBitVec...</td>\n",
       "      <td>&lt;rdkit.DataStructs.cDataStructs.ExplicitBitVec...</td>\n",
       "      <td>0.021277</td>\n",
       "    </tr>\n",
       "  </tbody>\n",
       "</table>\n",
       "<p>213531 rows × 10 columns</p>\n",
       "</div>"
      ],
      "text/plain": [
       "                Target        Analogue  Label  \\\n",
       "1        DTXSID5023378   DTXSID0044496      1   \n",
       "2        DTXSID5023378   DTXSID4029301      1   \n",
       "3        DTXSID5023378   DTXSID8026488      1   \n",
       "4        DTXSID5023378   DTXSID0029719      1   \n",
       "5        DTXSID5023378  DTXSID6047105       1   \n",
       "...                ...             ...    ...   \n",
       "480938  DTXSID00391682   DTXSID6025804      1   \n",
       "480939  DTXSID00391682   DTXSID7025631      1   \n",
       "481633   DTXSID3020205   DTXSID6025804      1   \n",
       "481634   DTXSID3020205   DTXSID7025631      1   \n",
       "482329   DTXSID6025804   DTXSID7025631      1   \n",
       "\n",
       "                                             analogue_smi  \\\n",
       "1                                       CCCCCC1CCCC(=O)O1   \n",
       "2                                           Cl[SiH](Cl)Cl   \n",
       "3                                     CC1(C)C2CCC(C2)C1=C   \n",
       "4       CCCCC(CC)COC(=O)CS[Sn](CCCC)(CCCC)SCC(=O)OCC(C...   \n",
       "5                                       COC1=CC(C)=CC=C1O   \n",
       "...                                                   ...   \n",
       "480938                                          CCCCCCC=C   \n",
       "480939                        CC1=CC=CC(=C1N)[N+]([O-])=O   \n",
       "481633                                          CCCCCCC=C   \n",
       "481634                        CC1=CC=CC(=C1N)[N+]([O-])=O   \n",
       "482329                        CC1=CC=CC(=C1N)[N+]([O-])=O   \n",
       "\n",
       "                                       target_smi  \\\n",
       "1                         NCC(O)C1=CC=C(O)C(O)=C1   \n",
       "2                         NCC(O)C1=CC=C(O)C(O)=C1   \n",
       "3                         NCC(O)C1=CC=C(O)C(O)=C1   \n",
       "4                         NCC(O)C1=CC=C(O)C(O)=C1   \n",
       "5                         NCC(O)C1=CC=C(O)C(O)=C1   \n",
       "...                                           ...   \n",
       "480938              CCC(C)(C)C1=CC(C)=C(O)C(C)=C1   \n",
       "480939              CCC(C)(C)C1=CC(C)=C(O)C(C)=C1   \n",
       "481633  CCCCOC(=O)C1=C(C=CC=C1)C(=O)OCC1=CC=CC=C1   \n",
       "481634  CCCCOC(=O)C1=C(C=CC=C1)C(=O)OCC1=CC=CC=C1   \n",
       "482329                                  CCCCCCC=C   \n",
       "\n",
       "                                            analogue_mol  \\\n",
       "1       <rdkit.Chem.rdchem.Mol object at 0x7b9df2c882e0>   \n",
       "2       <rdkit.Chem.rdchem.Mol object at 0x7b9df2c884a0>   \n",
       "3       <rdkit.Chem.rdchem.Mol object at 0x7b9df2c88200>   \n",
       "4       <rdkit.Chem.rdchem.Mol object at 0x7b9df2c88120>   \n",
       "5       <rdkit.Chem.rdchem.Mol object at 0x7b9df2c88580>   \n",
       "...                                                  ...   \n",
       "480938  <rdkit.Chem.rdchem.Mol object at 0x7b9de85e10e0>   \n",
       "480939  <rdkit.Chem.rdchem.Mol object at 0x7b9de85e1150>   \n",
       "481633  <rdkit.Chem.rdchem.Mol object at 0x7b9de85e11c0>   \n",
       "481634  <rdkit.Chem.rdchem.Mol object at 0x7b9de85e1230>   \n",
       "482329  <rdkit.Chem.rdchem.Mol object at 0x7b9de85e12a0>   \n",
       "\n",
       "                                              target_mol  \\\n",
       "1       <rdkit.Chem.rdchem.Mol object at 0x7b9de85e1310>   \n",
       "2       <rdkit.Chem.rdchem.Mol object at 0x7b9de85e1380>   \n",
       "3       <rdkit.Chem.rdchem.Mol object at 0x7b9de85e13f0>   \n",
       "4       <rdkit.Chem.rdchem.Mol object at 0x7b9de85e1460>   \n",
       "5       <rdkit.Chem.rdchem.Mol object at 0x7b9de85e14d0>   \n",
       "...                                                  ...   \n",
       "480938  <rdkit.Chem.rdchem.Mol object at 0x7b9de6ee3c30>   \n",
       "480939  <rdkit.Chem.rdchem.Mol object at 0x7b9de6ee3ca0>   \n",
       "481633  <rdkit.Chem.rdchem.Mol object at 0x7b9de6ee3d10>   \n",
       "481634  <rdkit.Chem.rdchem.Mol object at 0x7b9de6ee3d80>   \n",
       "482329  <rdkit.Chem.rdchem.Mol object at 0x7b9de6ee3df0>   \n",
       "\n",
       "                                               fps_target  \\\n",
       "1       <rdkit.DataStructs.cDataStructs.ExplicitBitVec...   \n",
       "2       <rdkit.DataStructs.cDataStructs.ExplicitBitVec...   \n",
       "3       <rdkit.DataStructs.cDataStructs.ExplicitBitVec...   \n",
       "4       <rdkit.DataStructs.cDataStructs.ExplicitBitVec...   \n",
       "5       <rdkit.DataStructs.cDataStructs.ExplicitBitVec...   \n",
       "...                                                   ...   \n",
       "480938  <rdkit.DataStructs.cDataStructs.ExplicitBitVec...   \n",
       "480939  <rdkit.DataStructs.cDataStructs.ExplicitBitVec...   \n",
       "481633  <rdkit.DataStructs.cDataStructs.ExplicitBitVec...   \n",
       "481634  <rdkit.DataStructs.cDataStructs.ExplicitBitVec...   \n",
       "482329  <rdkit.DataStructs.cDataStructs.ExplicitBitVec...   \n",
       "\n",
       "                                             fps_analogue  Tanimoto  \n",
       "1       <rdkit.DataStructs.cDataStructs.ExplicitBitVec...  0.031746  \n",
       "2       <rdkit.DataStructs.cDataStructs.ExplicitBitVec...  0.000000  \n",
       "3       <rdkit.DataStructs.cDataStructs.ExplicitBitVec...  0.019231  \n",
       "4       <rdkit.DataStructs.cDataStructs.ExplicitBitVec...  0.057971  \n",
       "5       <rdkit.DataStructs.cDataStructs.ExplicitBitVec...  0.170213  \n",
       "...                                                   ...       ...  \n",
       "480938  <rdkit.DataStructs.cDataStructs.ExplicitBitVec...  0.095238  \n",
       "480939  <rdkit.DataStructs.cDataStructs.ExplicitBitVec...  0.102041  \n",
       "481633  <rdkit.DataStructs.cDataStructs.ExplicitBitVec...  0.101695  \n",
       "481634  <rdkit.DataStructs.cDataStructs.ExplicitBitVec...  0.106061  \n",
       "482329  <rdkit.DataStructs.cDataStructs.ExplicitBitVec...  0.021277  \n",
       "\n",
       "[213531 rows x 10 columns]"
      ]
     },
     "execution_count": 8,
     "metadata": {},
     "output_type": "execute_result"
    }
   ],
   "source": [
    "df = pd.read_csv(interim_dir/'rax_pairs_200125.csv', index_col = [0])\n",
    "df"
   ]
  },
  {
   "cell_type": "code",
   "execution_count": 9,
   "id": "6c6e8944-2276-4930-8605-501328febf3f",
   "metadata": {},
   "outputs": [],
   "source": [
    "final_df = (df.reset_index()\n",
    " .assign(pair = lambda df: df.apply(lambda row: tuple(sorted([row[\"Target\"], row[\"Analogue\"]])), axis=1)\n",
    "        )\n",
    ".drop_duplicates(subset=[\"pair\"]).drop(columns=[\"pair\"])\n",
    ")"
   ]
  },
  {
   "cell_type": "code",
   "execution_count": 10,
   "id": "6bdab180-1d3a-4db3-a625-984fb12d564e",
   "metadata": {},
   "outputs": [
    {
     "data": {
      "text/plain": [
       "(213531, 11)"
      ]
     },
     "execution_count": 10,
     "metadata": {},
     "output_type": "execute_result"
    }
   ],
   "source": [
    "final_df.shape"
   ]
  },
  {
   "cell_type": "code",
   "execution_count": 11,
   "id": "6b7409e1-441f-4461-89b6-d66f97465e73",
   "metadata": {},
   "outputs": [],
   "source": [
    "final_df['analogue_mol'] = [Chem.MolFromSmiles(e) for e in final_df['analogue_smi']]\n",
    "\n",
    "final_df['target_mol'] = [Chem.MolFromSmiles(e) for e in final_df['target_smi']]"
   ]
  },
  {
   "cell_type": "code",
   "execution_count": 12,
   "id": "230d4e96-75cd-424a-befa-dff2626eb1f4",
   "metadata": {},
   "outputs": [],
   "source": [
    "from rdkit.Chem import rdFingerprintGenerator"
   ]
  },
  {
   "cell_type": "code",
   "execution_count": 13,
   "id": "31a1d918-444d-4a48-8a2d-d9aa1f7096a2",
   "metadata": {},
   "outputs": [],
   "source": [
    "mfpgen = rdFingerprintGenerator.GetMorganGenerator(radius=3,fpSize=1024)"
   ]
  },
  {
   "cell_type": "code",
   "execution_count": 14,
   "id": "113d186e-c286-4135-aec3-72d988e46b31",
   "metadata": {},
   "outputs": [],
   "source": [
    "final_df = (final_df\n",
    " .assign(fps_target = lambda df: df.apply(lambda row: mfpgen.GetFingerprintAsNumPy(row['target_mol']), axis =1)\n",
    "        )\n",
    "  .assign(fps_analogue = lambda df: df.apply(lambda row: mfpgen.GetFingerprintAsNumPy(row['analogue_mol']), axis =1)\n",
    "         )\n",
    ")"
   ]
  },
  {
   "cell_type": "code",
   "execution_count": 15,
   "id": "8279ebac-5450-4dd8-b9ef-b7666b342279",
   "metadata": {},
   "outputs": [
    {
     "data": {
      "text/plain": [
       "Label\n",
       "1    210372\n",
       "0      3159\n",
       "Name: count, dtype: int64"
      ]
     },
     "execution_count": 15,
     "metadata": {},
     "output_type": "execute_result"
    }
   ],
   "source": [
    "final_df['Label'].value_counts()"
   ]
  },
  {
   "cell_type": "code",
   "execution_count": 144,
   "id": "bc0be045-d579-4388-b1b8-183f6550fcfa",
   "metadata": {},
   "outputs": [
    {
     "data": {
      "text/plain": [
       "<Axes: >"
      ]
     },
     "execution_count": 144,
     "metadata": {},
     "output_type": "execute_result"
    },
    {
     "data": {
      "image/png": "[encoded data removed]",
      "text/plain": [
       "<Figure size 640x480 with 1 Axes>"
      ]
     },
     "metadata": {},
     "output_type": "display_data"
    }
   ],
   "source": [
    "final_df[final_df['Label']==1]['Tanimoto'].hist(color = 'r', alpha = 0.5)\n",
    "final_df[final_df['Label']==0]['Tanimoto'].hist(color = 'b', alpha = 0.5)"
   ]
  },
  {
   "cell_type": "code",
   "execution_count": 141,
   "id": "405d7d18-c0e2-4f3c-9fed-448c2aa99bb9",
   "metadata": {},
   "outputs": [
    {
     "data": {
      "text/plain": [
       "<Axes: >"
      ]
     },
     "execution_count": 141,
     "metadata": {},
     "output_type": "execute_result"
    },
    {
     "data": {
      "image/png": "[encoded data removed]",
      "text/plain": [
       "<Figure size 640x480 with 1 Axes>"
      ]
     },
     "metadata": {},
     "output_type": "display_data"
    }
   ],
   "source": [
    "final_df[final_df['Label']==0]['Tanimoto'].hist()"
   ]
  },
  {
   "cell_type": "code",
   "execution_count": 16,
   "id": "b78330c7-bc40-419c-92a3-3a1af4b84c9a",
   "metadata": {},
   "outputs": [],
   "source": [
    "similar_pairs = final_df[final_df['Label'] == 0]\n",
    "dissimilar_pairs = final_df[final_df['Label'] == 1]\n",
    "\n",
    "# Step 2: Downsample dissimilar pairs\n",
    "downsampled_dissimilar_pairs = dissimilar_pairs.sample(n=len(similar_pairs), replace=False)\n",
    "\n",
    "# Step 3: Combine balanced pairs\n",
    "balanced_df = pd.concat([similar_pairs, downsampled_dissimilar_pairs])\n",
    "\n",
    "# Step 4: Shuffle the dataset\n",
    "balanced_df = balanced_df.sample(frac=1, random_state=42)"
   ]
  },
  {
   "cell_type": "code",
   "execution_count": 17,
   "id": "50e10ad5-fb0f-4a02-b46b-2170e94f1ccf",
   "metadata": {},
   "outputs": [
    {
     "data": {
      "text/plain": [
       "Label\n",
       "1    3159\n",
       "0    3159\n",
       "Name: count, dtype: int64"
      ]
     },
     "execution_count": 17,
     "metadata": {},
     "output_type": "execute_result"
    }
   ],
   "source": [
    "balanced_df['Label'].value_counts()"
   ]
  },
  {
   "cell_type": "code",
   "execution_count": 18,
   "id": "bbf00318-d444-4ef1-b8ba-f24e549648e3",
   "metadata": {},
   "outputs": [],
   "source": [
    "from sklearn.model_selection import train_test_split\n",
    "#from kennard_stone import train_test_split\n",
    "from torch_geometric.loader import DataLoader\n",
    "from torch.utils.data import Dataset\n"
   ]
  },
  {
   "cell_type": "code",
   "execution_count": 19,
   "id": "45981405-e642-4981-980a-e610d54105c4",
   "metadata": {},
   "outputs": [
    {
     "data": {
      "text/plain": [
       "Index(['index', 'Target', 'Analogue', 'Label', 'analogue_smi', 'target_smi',\n",
       "       'analogue_mol', 'target_mol', 'fps_target', 'fps_analogue', 'Tanimoto'],\n",
       "      dtype='object')"
      ]
     },
     "execution_count": 19,
     "metadata": {},
     "output_type": "execute_result"
    }
   ],
   "source": [
    "balanced_df.columns"
   ]
  },
  {
   "cell_type": "code",
   "execution_count": 20,
   "id": "0db02181-43bf-4309-bf82-cea8d875ee61",
   "metadata": {},
   "outputs": [
    {
     "data": {
      "text/plain": [
       "<Axes: >"
      ]
     },
     "execution_count": 20,
     "metadata": {},
     "output_type": "execute_result"
    },
    {
     "data": {
      "image/png": "[encoded data removed]",
      "text/plain": [
       "<Figure size 640x480 with 1 Axes>"
      ]
     },
     "metadata": {},
     "output_type": "display_data"
    }
   ],
   "source": [
    "balanced_df[balanced_df['Label']==0].Tanimoto.hist(color = 'r', alpha = 0.2)\n",
    "balanced_df[balanced_df['Label']==1].Tanimoto.hist(alpha = 0.5)"
   ]
  },
  {
   "cell_type": "code",
   "execution_count": 21,
   "id": "7e3cd75e-ec97-481a-9cc0-4b9a88f53beb",
   "metadata": {},
   "outputs": [
    {
     "data": {
      "text/plain": [
       "Index(['index', 'Target', 'Analogue', 'Label', 'analogue_smi', 'target_smi',\n",
       "       'analogue_mol', 'target_mol', 'fps_target', 'fps_analogue', 'Tanimoto'],\n",
       "      dtype='object')"
      ]
     },
     "execution_count": 21,
     "metadata": {},
     "output_type": "execute_result"
    }
   ],
   "source": [
    "balanced_df.columns"
   ]
  },
  {
   "cell_type": "code",
   "execution_count": 22,
   "id": "2f784e10-8b64-4fe9-af93-fdea2919f142",
   "metadata": {},
   "outputs": [],
   "source": [
    "balanced_df.to_csv(interim_dir/'balanced_df_icf_230125.csv')"
   ]
  },
  {
   "cell_type": "code",
   "execution_count": 23,
   "id": "0fdf131e-50b6-4bec-bcf3-727f01a76bf2",
   "metadata": {},
   "outputs": [],
   "source": [
    "X_train, X_test, y_train, y_test  = train_test_split(balanced_df[['Target', 'Analogue','target_smi', 'analogue_smi', 'fps_target', 'fps_analogue', 'Label','Tanimoto', ]], balanced_df['Label'], stratify = balanced_df['Label'], random_state = 42,test_size=0.2)"
   ]
  },
  {
   "cell_type": "code",
   "execution_count": 24,
   "id": "0fc1268f-a329-4447-9f8d-0c14aaae9c17",
   "metadata": {},
   "outputs": [
    {
     "data": {
      "text/plain": [
       "Label\n",
       "0    2527\n",
       "1    2527\n",
       "Name: count, dtype: int64"
      ]
     },
     "execution_count": 24,
     "metadata": {},
     "output_type": "execute_result"
    }
   ],
   "source": [
    "y_train.value_counts(normalize = False)"
   ]
  },
  {
   "cell_type": "code",
   "execution_count": 25,
   "id": "7c32dcb3-16c0-4c08-be4e-def502f717d4",
   "metadata": {},
   "outputs": [
    {
     "data": {
      "text/plain": [
       "Label\n",
       "0    0.5\n",
       "1    0.5\n",
       "Name: proportion, dtype: float64"
      ]
     },
     "execution_count": 25,
     "metadata": {},
     "output_type": "execute_result"
    }
   ],
   "source": [
    "y_test.value_counts(normalize = True)"
   ]
  },
  {
   "cell_type": "code",
   "execution_count": 26,
   "id": "9adb08ed-df9d-430e-8a48-f0789eb81e96",
   "metadata": {},
   "outputs": [],
   "source": [
    "import torch.nn as nn\n",
    "from torch.utils.data import DataLoader, Dataset\n",
    "import torch\n",
    "import torch.optim as optim"
   ]
  },
  {
   "cell_type": "code",
   "execution_count": 27,
   "id": "a3381615-0ce7-44a3-b103-6f67c9c31272",
   "metadata": {},
   "outputs": [
    {
     "data": {
      "text/plain": [
       "array([array([0, 0, 0, ..., 0, 0, 0], dtype=uint8),\n",
       "       array([0, 0, 0, ..., 0, 0, 0], dtype=uint8),\n",
       "       array([0, 0, 0, ..., 0, 0, 0], dtype=uint8), ...,\n",
       "       array([0, 0, 0, ..., 0, 0, 0], dtype=uint8),\n",
       "       array([0, 0, 0, ..., 0, 0, 0], dtype=uint8),\n",
       "       array([0, 0, 0, ..., 0, 0, 0], dtype=uint8)], dtype=object)"
      ]
     },
     "execution_count": 27,
     "metadata": {},
     "output_type": "execute_result"
    }
   ],
   "source": [
    "X_train['fps_target'].values"
   ]
  },
  {
   "cell_type": "code",
   "execution_count": 28,
   "id": "3e466e0a-0022-45d2-bb70-6a231df89759",
   "metadata": {},
   "outputs": [],
   "source": [
    "class ChemicalPairsDataset(Dataset):\n",
    "    def __init__(self, df):\n",
    "        \"\"\"\n",
    "        fp1: target column in df of numpy representation of Morgan fp\n",
    "        fp2: analogue column in df of numpy representation of Morgan fp\n",
    "        labels: List of 0 (similar) or 1 (dissimilar) for each pair\n",
    "        \"\"\"\n",
    "        self.df = df\n",
    "    \n",
    "    def __len__(self):\n",
    "        return len(self.df)\n",
    "\n",
    "    def __getitem__(self, idx):\n",
    "        row = self.df.iloc[idx]\n",
    "        fp1,fp2 = row['fps_target'], row['fps_analogue']\n",
    "        label = row['Label']\n",
    "        identifier = (row['Target'], row['Analogue'])\n",
    "        \n",
    "        \n",
    "        return torch.tensor(fp1, dtype=torch.float32), torch.tensor(fp2, dtype=torch.float32), label, identifier\n"
   ]
  },
  {
   "cell_type": "code",
   "execution_count": 29,
   "id": "07ce8f93-9173-4f1e-be15-94ecc05cde29",
   "metadata": {},
   "outputs": [],
   "source": [
    "train_dataset = ChemicalPairsDataset(X_train)\n",
    "train_dataloader = DataLoader(train_dataset, batch_size=8, shuffle=True)\n",
    "\n",
    "test_dataset = ChemicalPairsDataset(X_test)\n",
    "test_dataloader = DataLoader(test_dataset, batch_size=8, shuffle=True)\n"
   ]
  },
  {
   "cell_type": "code",
   "execution_count": 30,
   "id": "fcdda708-21c0-4c5f-954b-9d150a6c34e9",
   "metadata": {},
   "outputs": [
    {
     "name": "stdout",
     "output_type": "stream",
     "text": [
      "[('DTXSID6026824', 'DTXSID0052259', 'DTXSID7021780', 'DTXSID9027522', 'DTXSID6047604', 'DTXSID4072780', 'DTXSID5025659', 'DTXSID7044764'), ('DTXSID9026714', 'DTXSID0020151', 'DTXSID8021482', 'DTXSID9044661', 'DTXSID60471515', 'DTXSID2027886', 'DTXSID3024368', 'Pubchem_102283662')]\n"
     ]
    }
   ],
   "source": [
    "for fp1, fp2, label, identifier  in train_dataloader:\n",
    "    print(identifier)\n",
    "    break"
   ]
  },
  {
   "cell_type": "code",
   "execution_count": 31,
   "id": "cf7b4784-253f-4d5f-9e15-bf79a7586f9c",
   "metadata": {},
   "outputs": [
    {
     "data": {
      "text/html": [
       "<div>\n",
       "<style scoped>\n",
       "    .dataframe tbody tr th:only-of-type {\n",
       "        vertical-align: middle;\n",
       "    }\n",
       "\n",
       "    .dataframe tbody tr th {\n",
       "        vertical-align: top;\n",
       "    }\n",
       "\n",
       "    .dataframe thead th {\n",
       "        text-align: right;\n",
       "    }\n",
       "</style>\n",
       "<table border=\"1\" class=\"dataframe\">\n",
       "  <thead>\n",
       "    <tr style=\"text-align: right;\">\n",
       "      <th></th>\n",
       "      <th>Target</th>\n",
       "      <th>Analogue</th>\n",
       "      <th>target_smi</th>\n",
       "      <th>analogue_smi</th>\n",
       "      <th>fps_target</th>\n",
       "      <th>fps_analogue</th>\n",
       "      <th>Label</th>\n",
       "      <th>Tanimoto</th>\n",
       "    </tr>\n",
       "  </thead>\n",
       "  <tbody>\n",
       "    <tr>\n",
       "      <th>62635</th>\n",
       "      <td>DTXSID6047604</td>\n",
       "      <td>DTXSID20202963</td>\n",
       "      <td>CCCC(=O)OCCC1=CC=CC=C1</td>\n",
       "      <td>CCCCCCC(=O)OCC1=CC=CC=C1</td>\n",
       "      <td>[0, 0, 0, 0, 0, 0, 0, 0, 0, 0, 1, 0, 0, 1, 0, ...</td>\n",
       "      <td>[0, 0, 0, 0, 0, 0, 0, 0, 0, 0, 0, 0, 0, 0, 0, ...</td>\n",
       "      <td>0</td>\n",
       "      <td>0.392857</td>\n",
       "    </tr>\n",
       "    <tr>\n",
       "      <th>189408</th>\n",
       "      <td>DTXSID20194995</td>\n",
       "      <td>DTXSID20215058</td>\n",
       "      <td>CCCCCCCCCC(=O)OCC1=CC=CC=C1</td>\n",
       "      <td>CCCCCCCCC(=O)OCC1=CC=CC=C1</td>\n",
       "      <td>[0, 0, 0, 0, 0, 0, 0, 0, 0, 0, 0, 0, 0, 0, 0, ...</td>\n",
       "      <td>[0, 0, 0, 0, 0, 0, 0, 0, 0, 0, 0, 0, 0, 0, 0, ...</td>\n",
       "      <td>0</td>\n",
       "      <td>1.000000</td>\n",
       "    </tr>\n",
       "    <tr>\n",
       "      <th>17481</th>\n",
       "      <td>DTXSID7025683</td>\n",
       "      <td>DTXSID50315333</td>\n",
       "      <td>CN</td>\n",
       "      <td>CCOCC(=O)OC</td>\n",
       "      <td>[0, 0, 0, 0, 0, 0, 0, 0, 0, 0, 0, 0, 0, 0, 0, ...</td>\n",
       "      <td>[0, 0, 0, 0, 0, 0, 0, 0, 0, 0, 0, 0, 0, 0, 0, ...</td>\n",
       "      <td>1</td>\n",
       "      <td>0.043478</td>\n",
       "    </tr>\n",
       "    <tr>\n",
       "      <th>206340</th>\n",
       "      <td>Pubchem_102283665</td>\n",
       "      <td>DTXSID1064663</td>\n",
       "      <td>CCCCCCCCCC(=O)OCCCC1=CC=CC=C1</td>\n",
       "      <td>CCCC(=O)OCCCC1=CC=CC=C1</td>\n",
       "      <td>[0, 0, 0, 0, 0, 0, 0, 0, 0, 0, 1, 0, 0, 1, 0, ...</td>\n",
       "      <td>[0, 0, 0, 0, 0, 0, 0, 0, 0, 0, 1, 0, 0, 1, 0, ...</td>\n",
       "      <td>0</td>\n",
       "      <td>0.692308</td>\n",
       "    </tr>\n",
       "    <tr>\n",
       "      <th>82730</th>\n",
       "      <td>DTXSID9063370</td>\n",
       "      <td>No_Stearate_sorbitol</td>\n",
       "      <td>CCCCCCCC(=O)OCC=C</td>\n",
       "      <td>O1CC(C(C1C(COC(CCCCCCCCCCCCCCCC)=O)O)O)O</td>\n",
       "      <td>[0, 0, 0, 0, 0, 0, 0, 0, 0, 0, 0, 0, 0, 0, 0, ...</td>\n",
       "      <td>[0, 1, 0, 0, 0, 0, 0, 0, 0, 0, 0, 0, 0, 0, 0, ...</td>\n",
       "      <td>1</td>\n",
       "      <td>0.377049</td>\n",
       "    </tr>\n",
       "    <tr>\n",
       "      <th>...</th>\n",
       "      <td>...</td>\n",
       "      <td>...</td>\n",
       "      <td>...</td>\n",
       "      <td>...</td>\n",
       "      <td>...</td>\n",
       "      <td>...</td>\n",
       "      <td>...</td>\n",
       "      <td>...</td>\n",
       "    </tr>\n",
       "    <tr>\n",
       "      <th>13805</th>\n",
       "      <td>DTXSID0029711</td>\n",
       "      <td>DTXSID5026413</td>\n",
       "      <td>Cl[Si](Cl)(Cl)Cl</td>\n",
       "      <td>C[SiH](Cl)Cl</td>\n",
       "      <td>[0, 0, 0, 0, 0, 0, 0, 0, 0, 0, 0, 0, 0, 0, 0, ...</td>\n",
       "      <td>[0, 0, 0, 0, 0, 0, 0, 0, 0, 0, 0, 0, 0, 0, 0, ...</td>\n",
       "      <td>0</td>\n",
       "      <td>0.111111</td>\n",
       "    </tr>\n",
       "    <tr>\n",
       "      <th>45523</th>\n",
       "      <td>DTXSID60206647</td>\n",
       "      <td>Pubchem_102283661</td>\n",
       "      <td>CCCCCCCCC(=O)OCCC1=CC=CC=C1</td>\n",
       "      <td>CCCCCCCCC(=O)OCCCC1=CC=CC=C1</td>\n",
       "      <td>[0, 0, 0, 0, 0, 0, 0, 0, 0, 0, 1, 0, 0, 1, 0, ...</td>\n",
       "      <td>[0, 0, 0, 0, 0, 0, 0, 0, 0, 0, 1, 0, 0, 1, 0, ...</td>\n",
       "      <td>0</td>\n",
       "      <td>0.740741</td>\n",
       "    </tr>\n",
       "    <tr>\n",
       "      <th>81141</th>\n",
       "      <td>DTXSID8027329</td>\n",
       "      <td>DTXSID1027425</td>\n",
       "      <td>CCCCCCCCC=C</td>\n",
       "      <td>COC(=O)C1=CC=C(C=C1)C(O)=O</td>\n",
       "      <td>[0, 0, 0, 0, 0, 0, 0, 0, 0, 0, 0, 0, 0, 0, 0, ...</td>\n",
       "      <td>[0, 0, 0, 0, 0, 0, 0, 0, 0, 0, 0, 0, 0, 0, 0, ...</td>\n",
       "      <td>1</td>\n",
       "      <td>0.021739</td>\n",
       "    </tr>\n",
       "    <tr>\n",
       "      <th>55741</th>\n",
       "      <td>DTXSID5020653</td>\n",
       "      <td>DTXSID7024952</td>\n",
       "      <td>CN(C)C1=CC=C(C=C1)C(C1=CC=C(C=C1)N(C)C)=C1C=CC...</td>\n",
       "      <td>CCCCNCCCC</td>\n",
       "      <td>[0, 0, 0, 0, 0, 0, 0, 0, 0, 1, 0, 0, 0, 0, 0, ...</td>\n",
       "      <td>[0, 0, 0, 0, 0, 0, 0, 0, 0, 0, 0, 0, 0, 0, 0, ...</td>\n",
       "      <td>1</td>\n",
       "      <td>0.020000</td>\n",
       "    </tr>\n",
       "    <tr>\n",
       "      <th>210653</th>\n",
       "      <td>DTXSID4063909</td>\n",
       "      <td>DTXSID80210807</td>\n",
       "      <td>CCCCCCCC(=O)OCCC1=CC=CC=C1</td>\n",
       "      <td>CCCCCCCCCC(=O)OCCC1=CC=CC=C1</td>\n",
       "      <td>[0, 0, 0, 0, 0, 0, 0, 0, 0, 0, 1, 0, 0, 1, 0, ...</td>\n",
       "      <td>[0, 0, 0, 0, 0, 0, 0, 0, 0, 0, 1, 0, 0, 1, 0, ...</td>\n",
       "      <td>0</td>\n",
       "      <td>0.978261</td>\n",
       "    </tr>\n",
       "  </tbody>\n",
       "</table>\n",
       "<p>5054 rows × 8 columns</p>\n",
       "</div>"
      ],
      "text/plain": [
       "                   Target              Analogue  \\\n",
       "62635       DTXSID6047604        DTXSID20202963   \n",
       "189408     DTXSID20194995        DTXSID20215058   \n",
       "17481       DTXSID7025683        DTXSID50315333   \n",
       "206340  Pubchem_102283665         DTXSID1064663   \n",
       "82730       DTXSID9063370  No_Stearate_sorbitol   \n",
       "...                   ...                   ...   \n",
       "13805       DTXSID0029711         DTXSID5026413   \n",
       "45523      DTXSID60206647     Pubchem_102283661   \n",
       "81141       DTXSID8027329         DTXSID1027425   \n",
       "55741       DTXSID5020653         DTXSID7024952   \n",
       "210653      DTXSID4063909        DTXSID80210807   \n",
       "\n",
       "                                               target_smi  \\\n",
       "62635                              CCCC(=O)OCCC1=CC=CC=C1   \n",
       "189408                        CCCCCCCCCC(=O)OCC1=CC=CC=C1   \n",
       "17481                                                  CN   \n",
       "206340                      CCCCCCCCCC(=O)OCCCC1=CC=CC=C1   \n",
       "82730                                   CCCCCCCC(=O)OCC=C   \n",
       "...                                                   ...   \n",
       "13805                                    Cl[Si](Cl)(Cl)Cl   \n",
       "45523                         CCCCCCCCC(=O)OCCC1=CC=CC=C1   \n",
       "81141                                         CCCCCCCCC=C   \n",
       "55741   CN(C)C1=CC=C(C=C1)C(C1=CC=C(C=C1)N(C)C)=C1C=CC...   \n",
       "210653                         CCCCCCCC(=O)OCCC1=CC=CC=C1   \n",
       "\n",
       "                                    analogue_smi  \\\n",
       "62635                   CCCCCCC(=O)OCC1=CC=CC=C1   \n",
       "189408                CCCCCCCCC(=O)OCC1=CC=CC=C1   \n",
       "17481                                CCOCC(=O)OC   \n",
       "206340                   CCCC(=O)OCCCC1=CC=CC=C1   \n",
       "82730   O1CC(C(C1C(COC(CCCCCCCCCCCCCCCC)=O)O)O)O   \n",
       "...                                          ...   \n",
       "13805                               C[SiH](Cl)Cl   \n",
       "45523               CCCCCCCCC(=O)OCCCC1=CC=CC=C1   \n",
       "81141                 COC(=O)C1=CC=C(C=C1)C(O)=O   \n",
       "55741                                  CCCCNCCCC   \n",
       "210653              CCCCCCCCCC(=O)OCCC1=CC=CC=C1   \n",
       "\n",
       "                                               fps_target  \\\n",
       "62635   [0, 0, 0, 0, 0, 0, 0, 0, 0, 0, 1, 0, 0, 1, 0, ...   \n",
       "189408  [0, 0, 0, 0, 0, 0, 0, 0, 0, 0, 0, 0, 0, 0, 0, ...   \n",
       "17481   [0, 0, 0, 0, 0, 0, 0, 0, 0, 0, 0, 0, 0, 0, 0, ...   \n",
       "206340  [0, 0, 0, 0, 0, 0, 0, 0, 0, 0, 1, 0, 0, 1, 0, ...   \n",
       "82730   [0, 0, 0, 0, 0, 0, 0, 0, 0, 0, 0, 0, 0, 0, 0, ...   \n",
       "...                                                   ...   \n",
       "13805   [0, 0, 0, 0, 0, 0, 0, 0, 0, 0, 0, 0, 0, 0, 0, ...   \n",
       "45523   [0, 0, 0, 0, 0, 0, 0, 0, 0, 0, 1, 0, 0, 1, 0, ...   \n",
       "81141   [0, 0, 0, 0, 0, 0, 0, 0, 0, 0, 0, 0, 0, 0, 0, ...   \n",
       "55741   [0, 0, 0, 0, 0, 0, 0, 0, 0, 1, 0, 0, 0, 0, 0, ...   \n",
       "210653  [0, 0, 0, 0, 0, 0, 0, 0, 0, 0, 1, 0, 0, 1, 0, ...   \n",
       "\n",
       "                                             fps_analogue  Label  Tanimoto  \n",
       "62635   [0, 0, 0, 0, 0, 0, 0, 0, 0, 0, 0, 0, 0, 0, 0, ...      0  0.392857  \n",
       "189408  [0, 0, 0, 0, 0, 0, 0, 0, 0, 0, 0, 0, 0, 0, 0, ...      0  1.000000  \n",
       "17481   [0, 0, 0, 0, 0, 0, 0, 0, 0, 0, 0, 0, 0, 0, 0, ...      1  0.043478  \n",
       "206340  [0, 0, 0, 0, 0, 0, 0, 0, 0, 0, 1, 0, 0, 1, 0, ...      0  0.692308  \n",
       "82730   [0, 1, 0, 0, 0, 0, 0, 0, 0, 0, 0, 0, 0, 0, 0, ...      1  0.377049  \n",
       "...                                                   ...    ...       ...  \n",
       "13805   [0, 0, 0, 0, 0, 0, 0, 0, 0, 0, 0, 0, 0, 0, 0, ...      0  0.111111  \n",
       "45523   [0, 0, 0, 0, 0, 0, 0, 0, 0, 0, 1, 0, 0, 1, 0, ...      0  0.740741  \n",
       "81141   [0, 0, 0, 0, 0, 0, 0, 0, 0, 0, 0, 0, 0, 0, 0, ...      1  0.021739  \n",
       "55741   [0, 0, 0, 0, 0, 0, 0, 0, 0, 0, 0, 0, 0, 0, 0, ...      1  0.020000  \n",
       "210653  [0, 0, 0, 0, 0, 0, 0, 0, 0, 0, 1, 0, 0, 1, 0, ...      0  0.978261  \n",
       "\n",
       "[5054 rows x 8 columns]"
      ]
     },
     "execution_count": 31,
     "metadata": {},
     "output_type": "execute_result"
    }
   ],
   "source": [
    "X_train"
   ]
  },
  {
   "cell_type": "code",
   "execution_count": 32,
   "id": "b961bf30-4de0-4ab6-b399-c1fb1f84d868",
   "metadata": {},
   "outputs": [
    {
     "data": {
      "image/png": "[encoded data removed]",
      "text/plain": [
       "<rdkit.Chem.rdchem.Mol at 0x7d5f1f6036f0>"
      ]
     },
     "execution_count": 32,
     "metadata": {},
     "output_type": "execute_result"
    }
   ],
   "source": [
    "Chem.MolFromSmiles('CC1(C)C2CCC1(C)C(=O)C2')"
   ]
  },
  {
   "cell_type": "code",
   "execution_count": 33,
   "id": "ecf970db-4fa7-4b5c-b935-e7416d486958",
   "metadata": {},
   "outputs": [
    {
     "data": {
      "image/png": "[encoded data removed]",
      "text/plain": [
       "<rdkit.Chem.rdchem.Mol at 0x7d5f1f603840>"
      ]
     },
     "execution_count": 33,
     "metadata": {},
     "output_type": "execute_result"
    }
   ],
   "source": [
    "Chem.MolFromSmiles('CC(C)=O')"
   ]
  },
  {
   "cell_type": "code",
   "execution_count": 34,
   "id": "3609e554-3dfd-4e99-958a-e8328b6abc94",
   "metadata": {},
   "outputs": [],
   "source": [
    "# Define the model\n",
    "class ContrastiveNetwork(nn.Module):\n",
    "    def __init__(self, input_dim, embedding_dim):\n",
    "        super(ContrastiveNetwork, self).__init__()\n",
    "        self.encoder = nn.Sequential(\n",
    "            nn.Linear(input_dim, 256),\n",
    "            nn.ReLU(),\n",
    "            nn.Linear(256, embedding_dim)\n",
    "        )\n",
    "\n",
    "    def forward(self, x):\n",
    "        return self.encoder(x)\n",
    "\n",
    "# Contrastive loss function\n",
    "class ContrastiveLoss(nn.Module):\n",
    "    def __init__(self, margin=1.0):\n",
    "        super(ContrastiveLoss, self).__init__()\n",
    "        self.margin = margin\n",
    "\n",
    "    def forward(self, embedding1, embedding2, label):\n",
    "        distance = torch.nn.functional.pairwise_distance(embedding1, embedding2)\n",
    "        loss = torch.mean((1 - label) * torch.pow(distance, 2) +\n",
    "                                      (label) * torch.pow(torch.clamp(self.margin - distance, min=0.0), 2))\n",
    "\n",
    "        return loss"
   ]
  },
  {
   "cell_type": "code",
   "execution_count": 35,
   "id": "f9b4478a-1f8d-45da-8517-034aafc8aaa1",
   "metadata": {},
   "outputs": [],
   "source": [
    "def compute_accuracy(model, dataloader, margin=1.0):\n",
    "    model.eval()\n",
    "    correct = 0\n",
    "    total = 0\n",
    "    all_predictions = []\n",
    "    all_labels = []\n",
    "    all_identifiers = []\n",
    "\n",
    "    with torch.no_grad():\n",
    "        for fp1, fp2, label, identifier in dataloader:\n",
    "            emb1 = model(fp1)\n",
    "            emb2 = model(fp2)\n",
    "            distances = torch.nn.functional.pairwise_distance(emb1, emb2)\n",
    "            \n",
    "\n",
    "            # Use the margin as the decision boundary\n",
    "            predictions = (distances > margin).long()  # Dissimilar if distance > margin\n",
    "            correct += (predictions == label).sum().item()\n",
    "            total += label.size(0)\n",
    "            all_predictions.extend(predictions.cpu().numpy())\n",
    "            all_labels.extend(label.cpu().numpy())\n",
    "            all_identifiers.extend(identifier) \n",
    "            \n",
    "\n",
    "    accuracy = correct / total\n",
    "    print(f\"Accuracy: {accuracy:.4f}\")\n",
    "    return accuracy, all_predictions, all_labels, all_identifiers"
   ]
  },
  {
   "cell_type": "code",
   "execution_count": 36,
   "id": "475eef08-a901-4469-be01-c62ada6f5cef",
   "metadata": {},
   "outputs": [],
   "source": [
    "input_dim = 1024\n",
    "embedding_dim = 128\n",
    "model = ContrastiveNetwork(input_dim, embedding_dim)\n",
    "criterion = ContrastiveLoss(margin=1.0)\n",
    "optimizer = optim.Adam(model.parameters(), lr=0.001)"
   ]
  },
  {
   "cell_type": "code",
   "execution_count": 37,
   "id": "c24b4bd6-128f-45f5-80e2-d32ff5172098",
   "metadata": {},
   "outputs": [
    {
     "name": "stdout",
     "output_type": "stream",
     "text": [
      "Accuracy: 0.8937\n",
      "Accuracy: 0.8742\n",
      "Epoch 1, Loss: 0.0559, Train Accuracy: 0.8937, Test Accuracy: 0.8742\n",
      "Accuracy: 0.9472\n",
      "Accuracy: 0.9241\n",
      "Epoch 2, Loss: 0.0177, Train Accuracy: 0.9472, Test Accuracy: 0.9241\n",
      "Accuracy: 0.9565\n",
      "Accuracy: 0.9399\n",
      "Epoch 3, Loss: 0.0116, Train Accuracy: 0.9565, Test Accuracy: 0.9399\n",
      "Accuracy: 0.9614\n",
      "Accuracy: 0.9367\n",
      "Epoch 4, Loss: 0.0089, Train Accuracy: 0.9614, Test Accuracy: 0.9367\n",
      "Accuracy: 0.9707\n",
      "Accuracy: 0.9462\n",
      "Epoch 5, Loss: 0.0088, Train Accuracy: 0.9707, Test Accuracy: 0.9462\n",
      "Accuracy: 0.9656\n",
      "Accuracy: 0.9375\n",
      "Epoch 6, Loss: 0.0080, Train Accuracy: 0.9656, Test Accuracy: 0.9375\n",
      "Accuracy: 0.9759\n",
      "Accuracy: 0.9509\n",
      "Epoch 7, Loss: 0.0080, Train Accuracy: 0.9759, Test Accuracy: 0.9509\n",
      "Accuracy: 0.9741\n",
      "Accuracy: 0.9430\n",
      "Epoch 8, Loss: 0.0062, Train Accuracy: 0.9741, Test Accuracy: 0.9430\n",
      "Accuracy: 0.9850\n",
      "Accuracy: 0.9636\n",
      "Epoch 9, Loss: 0.0062, Train Accuracy: 0.9850, Test Accuracy: 0.9636\n",
      "Accuracy: 0.9727\n",
      "Accuracy: 0.9438\n",
      "Epoch 10, Loss: 0.0063, Train Accuracy: 0.9727, Test Accuracy: 0.9438\n",
      "Accuracy: 0.9761\n",
      "Accuracy: 0.9565\n",
      "Epoch 11, Loss: 0.0053, Train Accuracy: 0.9761, Test Accuracy: 0.9565\n",
      "Accuracy: 0.9561\n",
      "Accuracy: 0.9407\n",
      "Epoch 12, Loss: 0.0051, Train Accuracy: 0.9561, Test Accuracy: 0.9407\n",
      "Accuracy: 0.9889\n",
      "Accuracy: 0.9731\n",
      "Epoch 13, Loss: 0.0060, Train Accuracy: 0.9889, Test Accuracy: 0.9731\n",
      "Accuracy: 0.9804\n",
      "Accuracy: 0.9573\n",
      "Epoch 14, Loss: 0.0047, Train Accuracy: 0.9804, Test Accuracy: 0.9573\n",
      "Accuracy: 0.9875\n",
      "Accuracy: 0.9644\n",
      "Epoch 15, Loss: 0.0040, Train Accuracy: 0.9875, Test Accuracy: 0.9644\n",
      "Accuracy: 0.9765\n",
      "Accuracy: 0.9581\n",
      "Epoch 16, Loss: 0.0041, Train Accuracy: 0.9765, Test Accuracy: 0.9581\n",
      "Accuracy: 0.9828\n",
      "Accuracy: 0.9628\n",
      "Epoch 17, Loss: 0.0042, Train Accuracy: 0.9828, Test Accuracy: 0.9628\n",
      "Accuracy: 0.9727\n",
      "Accuracy: 0.9525\n",
      "Epoch 18, Loss: 0.0039, Train Accuracy: 0.9727, Test Accuracy: 0.9525\n",
      "Accuracy: 0.9784\n",
      "Accuracy: 0.9597\n",
      "Epoch 19, Loss: 0.0039, Train Accuracy: 0.9784, Test Accuracy: 0.9597\n",
      "Accuracy: 0.9707\n",
      "Accuracy: 0.9533\n",
      "Epoch 20, Loss: 0.0042, Train Accuracy: 0.9707, Test Accuracy: 0.9533\n",
      "Accuracy: 0.9881\n",
      "Accuracy: 0.9691\n",
      "Epoch 21, Loss: 0.0038, Train Accuracy: 0.9881, Test Accuracy: 0.9691\n",
      "Accuracy: 0.9869\n",
      "Accuracy: 0.9739\n",
      "Epoch 22, Loss: 0.0032, Train Accuracy: 0.9869, Test Accuracy: 0.9739\n",
      "Accuracy: 0.9822\n",
      "Accuracy: 0.9628\n",
      "Epoch 23, Loss: 0.0033, Train Accuracy: 0.9822, Test Accuracy: 0.9628\n",
      "Accuracy: 0.9838\n",
      "Accuracy: 0.9699\n",
      "Epoch 24, Loss: 0.0036, Train Accuracy: 0.9838, Test Accuracy: 0.9699\n",
      "Accuracy: 0.9871\n",
      "Accuracy: 0.9723\n",
      "Epoch 25, Loss: 0.0037, Train Accuracy: 0.9871, Test Accuracy: 0.9723\n",
      "Accuracy: 0.9877\n",
      "Accuracy: 0.9755\n",
      "Epoch 26, Loss: 0.0030, Train Accuracy: 0.9877, Test Accuracy: 0.9755\n",
      "Accuracy: 0.9897\n",
      "Accuracy: 0.9723\n",
      "Epoch 27, Loss: 0.0029, Train Accuracy: 0.9897, Test Accuracy: 0.9723\n",
      "Accuracy: 0.9769\n",
      "Accuracy: 0.9612\n",
      "Epoch 28, Loss: 0.0026, Train Accuracy: 0.9769, Test Accuracy: 0.9612\n",
      "Accuracy: 0.9929\n",
      "Accuracy: 0.9771\n",
      "Epoch 29, Loss: 0.0029, Train Accuracy: 0.9929, Test Accuracy: 0.9771\n",
      "Accuracy: 0.9881\n",
      "Accuracy: 0.9763\n",
      "Epoch 30, Loss: 0.0030, Train Accuracy: 0.9881, Test Accuracy: 0.9763\n",
      "Accuracy: 0.9883\n",
      "Accuracy: 0.9810\n",
      "Epoch 31, Loss: 0.0042, Train Accuracy: 0.9883, Test Accuracy: 0.9810\n",
      "Accuracy: 0.9861\n",
      "Accuracy: 0.9676\n",
      "Epoch 32, Loss: 0.0039, Train Accuracy: 0.9861, Test Accuracy: 0.9676\n",
      "Accuracy: 0.9897\n",
      "Accuracy: 0.9747\n",
      "Epoch 33, Loss: 0.0030, Train Accuracy: 0.9897, Test Accuracy: 0.9747\n",
      "Accuracy: 0.9917\n",
      "Accuracy: 0.9810\n",
      "Epoch 34, Loss: 0.0027, Train Accuracy: 0.9917, Test Accuracy: 0.9810\n",
      "Accuracy: 0.9887\n",
      "Accuracy: 0.9731\n",
      "Epoch 35, Loss: 0.0028, Train Accuracy: 0.9887, Test Accuracy: 0.9731\n",
      "Accuracy: 0.9909\n",
      "Accuracy: 0.9731\n",
      "Epoch 36, Loss: 0.0023, Train Accuracy: 0.9909, Test Accuracy: 0.9731\n",
      "Accuracy: 0.9889\n",
      "Accuracy: 0.9778\n",
      "Epoch 37, Loss: 0.0024, Train Accuracy: 0.9889, Test Accuracy: 0.9778\n",
      "Accuracy: 0.9945\n",
      "Accuracy: 0.9818\n",
      "Epoch 38, Loss: 0.0027, Train Accuracy: 0.9945, Test Accuracy: 0.9818\n",
      "Accuracy: 0.9875\n",
      "Accuracy: 0.9739\n",
      "Epoch 39, Loss: 0.0027, Train Accuracy: 0.9875, Test Accuracy: 0.9739\n",
      "Accuracy: 0.9962\n",
      "Accuracy: 0.9834\n",
      "Epoch 40, Loss: 0.0028, Train Accuracy: 0.9962, Test Accuracy: 0.9834\n",
      "Accuracy: 0.9899\n",
      "Accuracy: 0.9739\n",
      "Epoch 41, Loss: 0.0024, Train Accuracy: 0.9899, Test Accuracy: 0.9739\n",
      "Accuracy: 0.9970\n",
      "Accuracy: 0.9858\n",
      "Epoch 42, Loss: 0.0021, Train Accuracy: 0.9970, Test Accuracy: 0.9858\n",
      "Accuracy: 0.9949\n",
      "Accuracy: 0.9826\n",
      "Epoch 43, Loss: 0.0024, Train Accuracy: 0.9949, Test Accuracy: 0.9826\n",
      "Accuracy: 0.9909\n",
      "Accuracy: 0.9723\n",
      "Epoch 44, Loss: 0.0037, Train Accuracy: 0.9909, Test Accuracy: 0.9723\n",
      "Accuracy: 0.9919\n",
      "Accuracy: 0.9802\n",
      "Epoch 45, Loss: 0.0027, Train Accuracy: 0.9919, Test Accuracy: 0.9802\n",
      "Accuracy: 0.9931\n",
      "Accuracy: 0.9778\n",
      "Epoch 46, Loss: 0.0023, Train Accuracy: 0.9931, Test Accuracy: 0.9778\n",
      "Accuracy: 0.9951\n",
      "Accuracy: 0.9786\n",
      "Epoch 47, Loss: 0.0024, Train Accuracy: 0.9951, Test Accuracy: 0.9786\n",
      "Accuracy: 0.9956\n",
      "Accuracy: 0.9842\n",
      "Epoch 48, Loss: 0.0023, Train Accuracy: 0.9956, Test Accuracy: 0.9842\n",
      "Accuracy: 0.9951\n",
      "Accuracy: 0.9834\n",
      "Epoch 49, Loss: 0.0023, Train Accuracy: 0.9951, Test Accuracy: 0.9834\n",
      "Accuracy: 0.9937\n",
      "Accuracy: 0.9778\n",
      "Epoch 50, Loss: 0.0021, Train Accuracy: 0.9937, Test Accuracy: 0.9778\n"
     ]
    }
   ],
   "source": [
    "for epoch in range(50):\n",
    "    model.train()  # Set model to training mode\n",
    "    total_loss = 0.0\n",
    "\n",
    "    for fp1, fp2, label, identifier in train_dataloader:\n",
    "        optimizer.zero_grad()\n",
    "        emb1 = model(fp1)\n",
    "        emb2 = model(fp2)\n",
    "        loss = criterion(emb1, emb2, label.float())\n",
    "        loss.backward()\n",
    "        optimizer.step()\n",
    "        total_loss += loss.item()\n",
    "\n",
    "    # Compute loss and accuracy for training and test sets\n",
    "    train_accuracy = compute_accuracy(model, train_dataloader)[0]\n",
    "    test_accuracy = compute_accuracy(model, test_dataloader)[0]\n",
    "    \n",
    "    print(f\"Epoch {epoch+1}, Loss: {total_loss / len(train_dataloader):.4f}, \"\n",
    "          f\"Train Accuracy: {train_accuracy:.4f}, Test Accuracy: {test_accuracy:.4f}\")\n"
   ]
  },
  {
   "cell_type": "code",
   "execution_count": 38,
   "id": "b78d64cd-e7c8-4807-a042-da2699f10818",
   "metadata": {},
   "outputs": [],
   "source": [
    "def visualize_distances_consistent(model, dataloader, margin=1.0):\n",
    "    model.eval()\n",
    "    similar_distances = []\n",
    "    dissimilar_distances = []\n",
    "    \n",
    "    with torch.no_grad():\n",
    "        for fp1, fp2, label, identifier in dataloader:\n",
    "            emb1 = model(fp1)\n",
    "            emb2 = model(fp2)\n",
    "            distances = torch.nn.functional.pairwise_distance(emb1, emb2)\n",
    "            \n",
    "            # Separate distances by labels\n",
    "            label = label.cpu().numpy()\n",
    "            similar_distances.extend(distances[label == 0].cpu().numpy())\n",
    "            dissimilar_distances.extend(distances[label == 1].cpu().numpy())\n",
    "    \n",
    "    # Plot histograms\n",
    "    plt.figure(figsize=(10, 6))\n",
    "    plt.hist(similar_distances, bins=30, alpha=0.6, color='blue', label='Similar Pairs (label=0)')\n",
    "    plt.hist(dissimilar_distances, bins=30, alpha=0.6, color='red', label='Dissimilar Pairs (label=1)')\n",
    "    plt.axvline(x=margin, color='black', linestyle='--', label='Training Margin')\n",
    "    plt.xlabel('Pairwise Distance')\n",
    "    plt.ylabel('Frequency')\n",
    "    plt.title('Distribution of Pairwise Distances (Aligned with Training)')\n",
    "    plt.legend()\n",
    "    plt.show()"
   ]
  },
  {
   "cell_type": "code",
   "execution_count": 39,
   "id": "4d00a77d-b35d-42e3-aa65-63f99a4d7841",
   "metadata": {},
   "outputs": [
    {
     "data": {
      "image/png": "[encoded data removed]",
      "text/plain": [
       "<Figure size 1000x600 with 1 Axes>"
      ]
     },
     "metadata": {},
     "output_type": "display_data"
    }
   ],
   "source": [
    "#| fig-label: fig-distances\n",
    "visualize_distances_consistent(model, test_dataloader, margin=1.0)\n"
   ]
  },
  {
   "cell_type": "code",
   "execution_count": 40,
   "id": "517105de-6e3d-4f94-b36d-01ec4ad09750",
   "metadata": {},
   "outputs": [],
   "source": [
    "def extract_pairwise_embeddings(model, dataloader):\n",
    "    \"\"\"\n",
    "    Extract embeddings for pairs of substances, calculate distances, \n",
    "    and save labels and identifiers for analysis.\n",
    "    \"\"\"\n",
    "    model.eval()\n",
    "    embeddings_fp1 = []\n",
    "    embeddings_fp2 = []\n",
    "    distances = []\n",
    "    labels = []\n",
    "    identifiers = []  # To trace back the actual chemical pairs\n",
    "\n",
    "    with torch.no_grad():\n",
    "        for fp1, fp2, label, identifier in dataloader:\n",
    "            # Compute embeddings for both substances in the pair\n",
    "            emb1 = model(fp1)\n",
    "            emb2 = model(fp2)\n",
    "            \n",
    "            # Compute the pairwise distance between embeddings\n",
    "            distance = torch.nn.functional.pairwise_distance(emb1, emb2)\n",
    "            \n",
    "            # Save embeddings, distances, labels, and identifiers\n",
    "            embeddings_fp1.append(emb1.cpu().numpy())\n",
    "            embeddings_fp2.append(emb2.cpu().numpy())\n",
    "            distances.append(distance.cpu().numpy())\n",
    "            labels.append(label.cpu().numpy())\n",
    "            identifiers.extend(identifier)\n",
    "\n",
    "    # Concatenate lists into arrays for easier handling\n",
    "    embeddings_fp1 = np.vstack(embeddings_fp1)\n",
    "    embeddings_fp2 = np.vstack(embeddings_fp2)\n",
    "    distances = np.concatenate(distances)\n",
    "    labels = np.concatenate(labels)\n",
    "\n",
    "    return embeddings_fp1, embeddings_fp2, distances, labels, identifiers"
   ]
  },
  {
   "cell_type": "code",
   "execution_count": 41,
   "id": "3199fac0-2098-4929-94a3-b33f257a8e1f",
   "metadata": {},
   "outputs": [],
   "source": [
    "# Extract embeddings for the test set\n",
    "embeddings_fp1, embeddings_fp2, distances, labels, identifiers = extract_pairwise_embeddings(model, test_dataloader)\n",
    "\n"
   ]
  },
  {
   "cell_type": "code",
   "execution_count": 42,
   "id": "24a6b6b9-acbb-463a-b6cf-f48621e79c0c",
   "metadata": {},
   "outputs": [
    {
     "data": {
      "text/plain": [
       "(1264, 8)"
      ]
     },
     "execution_count": 42,
     "metadata": {},
     "output_type": "execute_result"
    }
   ],
   "source": [
    "X_test.shape"
   ]
  },
  {
   "cell_type": "code",
   "execution_count": 43,
   "id": "6677b230-09c5-4cff-9ceb-9af3d2e8782a",
   "metadata": {},
   "outputs": [
    {
     "data": {
      "text/plain": [
       "array([0.03373282, 2.4620383 , 0.00438958, ..., 1.7086926 , 2.0257835 ,\n",
       "       1.5240827 ], dtype=float32)"
      ]
     },
     "execution_count": 43,
     "metadata": {},
     "output_type": "execute_result"
    }
   ],
   "source": [
    "distances"
   ]
  },
  {
   "cell_type": "code",
   "execution_count": 44,
   "id": "0473864b-1aa0-41c2-9d90-59108fa65878",
   "metadata": {},
   "outputs": [],
   "source": [
    "X_test1 = (X_test\n",
    " .assign(target_emb = lambda x: [ embeddings_fp1[i] for i in range(len(X_test))])\n",
    " .assign(analogue_emd =  lambda x: [ embeddings_fp2[i] for i in range(len(X_test))])\n",
    ")"
   ]
  },
  {
   "cell_type": "code",
   "execution_count": 45,
   "id": "7440a912-109c-425a-bc38-40c57da245b3",
   "metadata": {},
   "outputs": [],
   "source": [
    "X_test1 = (X_test1\n",
    " .assign(embed_dist = distances)\n",
    " .assign(prediction = lambda df: df.apply(lambda x: 1 if x['embed_dist'] > 1 else 0, axis = 1)) # Dissimilar if distance > mar\n",
    ")"
   ]
  },
  {
   "cell_type": "code",
   "execution_count": 46,
   "id": "fce7ba84-2ab4-40e0-8b43-3cd6af9f126b",
   "metadata": {},
   "outputs": [],
   "source": [
    "from sklearn.metrics import confusion_matrix, classification_report"
   ]
  },
  {
   "cell_type": "code",
   "execution_count": 47,
   "id": "3f3628a2-f2f7-402c-b994-eee1b96c3e69",
   "metadata": {},
   "outputs": [
    {
     "data": {
      "text/plain": [
       "array([[324, 308],\n",
       "       [332, 300]])"
      ]
     },
     "execution_count": 47,
     "metadata": {},
     "output_type": "execute_result"
    }
   ],
   "source": [
    "confusion_matrix(X_test1['Label'], X_test1['prediction'])"
   ]
  },
  {
   "cell_type": "code",
   "execution_count": 48,
   "id": "9df39ff6-3c0f-4377-94f8-d554f425e7d6",
   "metadata": {},
   "outputs": [
    {
     "name": "stdout",
     "output_type": "stream",
     "text": [
      "              precision    recall  f1-score   support\n",
      "\n",
      "           0       0.49      0.51      0.50       632\n",
      "           1       0.49      0.47      0.48       632\n",
      "\n",
      "    accuracy                           0.49      1264\n",
      "   macro avg       0.49      0.49      0.49      1264\n",
      "weighted avg       0.49      0.49      0.49      1264\n",
      "\n"
     ]
    }
   ],
   "source": [
    "print(classification_report(X_test1['Label'], X_test1['prediction']))"
   ]
  },
  {
   "cell_type": "code",
   "execution_count": 49,
   "id": "fa6ff1eb-fd0b-43d0-986f-998d09be38a9",
   "metadata": {},
   "outputs": [
    {
     "data": {
      "text/plain": [
       "Index(['Target', 'Analogue', 'target_smi', 'analogue_smi', 'fps_target',\n",
       "       'fps_analogue', 'Label', 'Tanimoto', 'target_emb', 'analogue_emd',\n",
       "       'embed_dist', 'prediction'],\n",
       "      dtype='object')"
      ]
     },
     "execution_count": 49,
     "metadata": {},
     "output_type": "execute_result"
    }
   ],
   "source": [
    "X_test1.columns"
   ]
  },
  {
   "cell_type": "code",
   "execution_count": 50,
   "id": "a39d89a2-3359-49ab-a9ba-fc9375c9a1c4",
   "metadata": {},
   "outputs": [
    {
     "data": {
      "text/plain": [
       "array([-4.64553088e-02,  9.28314552e-02,  2.22417768e-02, -1.05785504e-01,\n",
       "        2.49648765e-02, -1.39403977e-02, -5.01949973e-02,  1.04721338e-01,\n",
       "        1.35368928e-01, -1.10108696e-01, -1.23968013e-01,  1.44256502e-01,\n",
       "       -4.33721840e-02, -2.52565295e-02, -9.15389359e-02,  3.28419507e-02,\n",
       "       -2.76714228e-02, -6.25678152e-03, -1.46949470e-01,  4.78350855e-02,\n",
       "        3.28949168e-02,  4.56696376e-03, -9.04873386e-03,  8.90542567e-03,\n",
       "        1.00958914e-01,  1.22848433e-02, -3.13498974e-02, -8.69177803e-02,\n",
       "       -6.07947633e-03, -1.03711791e-01,  7.49081671e-02,  9.59672034e-02,\n",
       "        9.95792598e-02, -4.97313738e-02, -2.45729759e-02, -5.36815636e-03,\n",
       "       -3.60282436e-02, -3.43695879e-02,  1.49397217e-02,  7.33451396e-02,\n",
       "       -2.92615667e-02, -6.99940324e-02, -3.26527618e-02, -4.06499803e-02,\n",
       "       -5.30711375e-02,  3.20037790e-02, -3.97073776e-02,  2.91362870e-03,\n",
       "       -7.98587948e-02, -1.57466158e-02,  7.75141269e-02,  2.78932005e-02,\n",
       "        2.02903777e-01,  7.03155622e-03, -5.62646985e-02, -4.11101207e-02,\n",
       "        6.34146035e-02, -1.89728498e-01,  5.88312373e-03, -1.32630080e-01,\n",
       "        1.30432881e-02,  1.90004930e-02,  1.84547156e-04,  8.68926346e-02,\n",
       "        8.57622772e-02, -2.93434951e-02, -3.63229305e-01,  2.32174173e-02,\n",
       "        4.82960641e-02, -1.28261238e-01,  1.55222178e-01,  6.33670166e-02,\n",
       "        1.13391057e-01,  1.31130368e-02, -8.65243599e-02, -2.04125103e-02,\n",
       "        2.13762037e-02,  8.78074095e-02,  6.86630085e-02, -4.09869105e-02,\n",
       "       -9.73340422e-02,  1.11768313e-01, -5.37406243e-02, -1.09459057e-01,\n",
       "        2.12191753e-02, -7.06132427e-02,  1.46170586e-01,  7.69818760e-03,\n",
       "        4.64571640e-02, -6.58142567e-03,  9.44497958e-02,  8.15275982e-02,\n",
       "       -4.85677660e-01,  1.16109736e-02,  3.11725810e-02,  2.20782384e-02,\n",
       "        4.31684516e-02,  2.23334599e-03,  7.87099972e-02,  3.67259532e-02,\n",
       "        5.93310222e-03, -1.07410394e-01,  6.11753017e-02,  1.13168694e-02,\n",
       "        1.45256203e-02,  2.96167117e-02, -3.56487557e-03, -1.85401142e-02,\n",
       "        1.14861093e-01, -5.50872236e-02,  5.38548157e-02,  9.34949592e-02,\n",
       "        1.33069046e-03,  9.90633070e-02,  3.44797879e-01,  9.26849693e-02,\n",
       "        4.85029072e-02, -1.27278641e-01,  6.08930476e-02,  3.42253372e-02,\n",
       "        3.38807181e-02,  2.27710083e-02, -4.90148552e-02,  1.14645869e-01,\n",
       "        7.53776403e-03, -1.25250846e-01,  1.44590706e-01,  1.48831196e-02],\n",
       "      dtype=float32)"
      ]
     },
     "execution_count": 50,
     "metadata": {},
     "output_type": "execute_result"
    }
   ],
   "source": [
    "X_test1.target_emb.values[0]"
   ]
  },
  {
   "cell_type": "code",
   "execution_count": 51,
   "id": "2afde9b1-2d21-4299-abfc-bd76405cf60d",
   "metadata": {},
   "outputs": [],
   "source": [
    "def cosine_sim(vec1, vec2):\n",
    "    return cosine_similarity([vec1], [vec2])[0][0]"
   ]
  },
  {
   "cell_type": "code",
   "execution_count": 52,
   "id": "b1722e54-6843-4175-85c1-39c5df30169a",
   "metadata": {},
   "outputs": [
    {
     "name": "stdout",
     "output_type": "stream",
     "text": [
      "<class 'numpy.ndarray'>\n"
     ]
    }
   ],
   "source": [
    "print(type(X_test1['target_emb'].iloc[0]))"
   ]
  },
  {
   "cell_type": "code",
   "execution_count": 53,
   "id": "632e81d9-69c4-45bf-948a-9e36fd79461c",
   "metadata": {},
   "outputs": [
    {
     "data": {
      "text/plain": [
       "<Axes: xlabel='Tanimoto', ylabel='cosine_sim'>"
      ]
     },
     "execution_count": 53,
     "metadata": {},
     "output_type": "execute_result"
    },
    {
     "data": {
      "image/png": "[encoded data removed]",
      "text/plain": [
       "<Figure size 640x480 with 2 Axes>"
      ]
     },
     "metadata": {},
     "output_type": "display_data"
    }
   ],
   "source": [
    "from sklearn.metrics.pairwise import cosine_similarity\n",
    "(X_test1\n",
    " .assign(cosine_sim = lambda x:x.apply(lambda row: cosine_sim(row['target_emb'], row['analogue_emd']), axis =1))\n",
    " .plot(kind = 'scatter', x = 'Tanimoto', y = 'cosine_sim', c = 'Label', cmap = 'coolwarm')\n",
    ")\n",
    " "
   ]
  },
  {
   "cell_type": "code",
   "execution_count": 54,
   "id": "558dbefa-c514-4784-b682-8ce8bbc8ce1d",
   "metadata": {},
   "outputs": [],
   "source": [
    "tr_embeddings_fp1, tr_embeddings_fp2, tr_distances, tr_labels, tr_identifiers = extract_pairwise_embeddings(model, train_dataloader)"
   ]
  },
  {
   "cell_type": "code",
   "execution_count": 55,
   "id": "14a03b15-ed27-4ace-a67b-efb428355847",
   "metadata": {},
   "outputs": [],
   "source": [
    "import umap\n",
    "import seaborn as sns\n",
    "from sklearn.decomposition import PCA"
   ]
  },
  {
   "cell_type": "code",
   "execution_count": 56,
   "id": "192d2606-f7a5-418f-87ff-6a57ee740926",
   "metadata": {},
   "outputs": [],
   "source": [
    "def plot_2D_embeddings(embeddings_fp1, embeddings_fp2, labels, method='PCA'):\n",
    "    \"\"\"\n",
    "    Visualize the embeddings of fp1 and fp2 in 2D space using PCA or UMAP.\n",
    "    \n",
    "    Parameters:\n",
    "        embeddings_fp1: Embeddings for fp1 (numpy array)\n",
    "        embeddings_fp2: Embeddings for fp2 (numpy array)\n",
    "        labels: Labels indicating similar (0) or dissimilar (1)\n",
    "        method: Dimensionality reduction method ('PCA' or 'UMAP')\n",
    "    \"\"\"\n",
    "    # Concatenate embeddings to project both fp1 and fp2 in the same 2D space\n",
    "    combined_embeddings = np.vstack([embeddings_fp1, embeddings_fp2])\n",
    "    combined_labels = np.hstack([labels, labels])  # Duplicate labels for visualization\n",
    "\n",
    "    # Perform dimensionality reduction\n",
    "    if method == 'PCA':\n",
    "        reducer = PCA(n_components=2)\n",
    "    elif method == 'UMAP':\n",
    "        reducer = umap.UMAP(n_neighbors=15, min_dist=0.1, n_components=2, random_state=42)\n",
    "    else:\n",
    "        raise ValueError(\"Method should be either 'PCA' or 'UMAP'\")\n",
    "    \n",
    "    reduced_embeddings = reducer.fit_transform(combined_embeddings)\n",
    "    \n",
    "    # Split reduced embeddings back into fp1 and fp2\n",
    "    reduced_fp1 = reduced_embeddings[:len(embeddings_fp1)]\n",
    "    reduced_fp2 = reduced_embeddings[len(embeddings_fp1):]\n",
    "\n",
    "    # Plot embeddings\n",
    "    plt.figure(figsize=(12, 8))\n",
    "    plt.scatter(\n",
    "        reduced_fp1[:, 0],\n",
    "        reduced_fp1[:, 1],\n",
    "        c=combined_labels[:len(embeddings_fp1)],\n",
    "        cmap='coolwarm',\n",
    "        alpha=0.7,\n",
    "        label='FP1'\n",
    "    )\n",
    "    plt.scatter(\n",
    "        reduced_fp2[:, 0],\n",
    "        reduced_fp2[:, 1],\n",
    "        c=combined_labels[len(embeddings_fp1):],\n",
    "        cmap='coolwarm',\n",
    "        alpha=0.7,\n",
    "        marker='x',\n",
    "        label='FP2'\n",
    "    )\n",
    "    plt.colorbar(label='Label (0=Similar, 1=Dissimilar)')\n",
    "    plt.title(f'2D Visualization of Embeddings ({method})')\n",
    "    plt.xlabel('Dimension 1')\n",
    "    plt.ylabel('Dimension 2')\n",
    "    plt.legend()\n",
    "    plt.show()\n"
   ]
  },
  {
   "cell_type": "code",
   "execution_count": 57,
   "id": "35469d23-e6b9-43a4-a085-eb6062614b23",
   "metadata": {},
   "outputs": [
    {
     "name": "stderr",
     "output_type": "stream",
     "text": [
      "/home/grace/anaconda3/envs/pytorch_cuda/lib/python3.11/site-packages/umap/umap_.py:1952: UserWarning: n_jobs value 1 overridden to 1 by setting random_state. Use no seed for parallelism.\n",
      "  warn(\n"
     ]
    },
    {
     "data": {
      "image/png": "[encoded data removed]",
      "text/plain": [
       "<Figure size 1200x800 with 2 Axes>"
      ]
     },
     "metadata": {},
     "output_type": "display_data"
    }
   ],
   "source": [
    "#| fig-label: fig-embed\n",
    "plot_2D_embeddings(embeddings_fp1, embeddings_fp2, labels, method='UMAP')"
   ]
  },
  {
   "cell_type": "code",
   "execution_count": 58,
   "id": "927b3741-f943-4e6b-a109-8f370f75c5c9",
   "metadata": {},
   "outputs": [
    {
     "name": "stdout",
     "output_type": "stream",
     "text": [
      "Epoch 1: Training loss = 0.002233458337098694\n",
      "Epoch 1: Test loss = 0.011505169590940327\n",
      "Epoch 2: Training loss = 0.0025550871073180634\n",
      "Epoch 2: Test loss = 0.011159955945453177\n",
      "Epoch 3: Training loss = 0.002398513690625942\n",
      "Epoch 3: Test loss = 0.012385462947792206\n",
      "Epoch 4: Training loss = 0.00293793134258725\n",
      "Epoch 4: Test loss = 0.01274910894953705\n",
      "Epoch 5: Training loss = 0.0030509167410323807\n",
      "Epoch 5: Test loss = 0.01211270503382248\n",
      "Epoch 6: Training loss = 0.0024515314688415306\n",
      "Epoch 6: Test loss = 0.01260983686435121\n",
      "Epoch 7: Training loss = 0.002520737835669648\n",
      "Epoch 7: Test loss = 0.013113400543441981\n",
      "Epoch 8: Training loss = 0.0023828244728334325\n",
      "Epoch 8: Test loss = 0.011348029175338694\n",
      "Epoch 9: Training loss = 0.0018747459504411576\n",
      "Epoch 9: Test loss = 0.01202174947362621\n",
      "Epoch 10: Training loss = 0.0018814939850731215\n",
      "Epoch 10: Test loss = 0.011412278520556873\n",
      "Epoch 11: Training loss = 0.0021960691304755463\n",
      "Epoch 11: Test loss = 0.013298307375822056\n",
      "Epoch 12: Training loss = 0.0026588527429695042\n",
      "Epoch 12: Test loss = 0.012430651818312636\n",
      "Epoch 13: Training loss = 0.002320746125659951\n",
      "Epoch 13: Test loss = 0.011906344376345353\n",
      "Epoch 14: Training loss = 0.002170181769481496\n",
      "Epoch 14: Test loss = 0.010672146631445698\n",
      "Epoch 15: Training loss = 0.002117745475969617\n",
      "Epoch 15: Test loss = 0.011262235526997132\n",
      "Epoch 16: Training loss = 0.0023028747725672935\n",
      "Epoch 16: Test loss = 0.010990681287661216\n",
      "Epoch 17: Training loss = 0.0023181501808330015\n",
      "Epoch 17: Test loss = 0.012496934949856237\n",
      "Epoch 18: Training loss = 0.002399687756389676\n",
      "Epoch 18: Test loss = 0.013355123825027775\n",
      "Epoch 19: Training loss = 0.0025966331953628913\n",
      "Epoch 19: Test loss = 0.011544966451575546\n",
      "Epoch 20: Training loss = 0.0021466521436176514\n",
      "Epoch 20: Test loss = 0.011803615807729088\n",
      "Epoch 21: Training loss = 0.0021897946648052505\n",
      "Epoch 21: Test loss = 0.012222454450855012\n",
      "Epoch 22: Training loss = 0.00198120015040319\n",
      "Epoch 22: Test loss = 0.011353778877175409\n",
      "Epoch 23: Training loss = 0.0029922616254642515\n",
      "Epoch 23: Test loss = 0.012378672406600654\n",
      "Epoch 24: Training loss = 0.0019252369954625096\n",
      "Epoch 24: Test loss = 0.011826121388873583\n",
      "Epoch 25: Training loss = 0.0021885452708445144\n",
      "Epoch 25: Test loss = 0.012175849368906689\n",
      "Epoch 26: Training loss = 0.002371471946944318\n",
      "Epoch 26: Test loss = 0.012670841828663423\n",
      "Epoch 27: Training loss = 0.002334002332561955\n",
      "Epoch 27: Test loss = 0.014125094552416194\n",
      "Epoch 28: Training loss = 0.002137528704473863\n",
      "Epoch 28: Test loss = 0.013215291150020134\n",
      "Epoch 29: Training loss = 0.0023764689736333723\n",
      "Epoch 29: Test loss = 0.013756160958357352\n",
      "Epoch 30: Training loss = 0.0021761627661732582\n",
      "Epoch 30: Test loss = 0.013179637403217257\n",
      "Epoch 31: Training loss = 0.0021111060911300555\n",
      "Epoch 31: Test loss = 0.014080545022646744\n",
      "Epoch 32: Training loss = 0.0021643020273712857\n",
      "Epoch 32: Test loss = 0.012946561345490663\n",
      "Epoch 33: Training loss = 0.002448586572437196\n",
      "Epoch 33: Test loss = 0.012437771239579338\n",
      "Epoch 34: Training loss = 0.0019373804692449606\n",
      "Epoch 34: Test loss = 0.012920321146558578\n",
      "Epoch 35: Training loss = 0.0021100749570061718\n",
      "Epoch 35: Test loss = 0.013721145390085975\n",
      "Epoch 36: Training loss = 0.0022940076991903734\n",
      "Epoch 36: Test loss = 0.012828807111985422\n",
      "Epoch 37: Training loss = 0.0018901909154230285\n",
      "Epoch 37: Test loss = 0.014011894786724238\n",
      "Epoch 38: Training loss = 0.0021333832238228127\n",
      "Epoch 38: Test loss = 0.012431324952007333\n",
      "Epoch 39: Training loss = 0.0025444714760199487\n",
      "Epoch 39: Test loss = 0.013931324746788706\n",
      "Epoch 40: Training loss = 0.0022788029288579987\n",
      "Epoch 40: Test loss = 0.013784097540651184\n",
      "Epoch 41: Training loss = 0.0020167768550238105\n",
      "Epoch 41: Test loss = 0.020175213471472338\n",
      "Epoch 42: Training loss = 0.0021059520184410533\n",
      "Epoch 42: Test loss = 0.013823192381556808\n",
      "Epoch 43: Training loss = 0.002103193117224074\n",
      "Epoch 43: Test loss = 0.013055708923695442\n",
      "Epoch 44: Training loss = 0.002178692161663009\n",
      "Epoch 44: Test loss = 0.014130860475890149\n",
      "Epoch 45: Training loss = 0.0030557005237559194\n",
      "Epoch 45: Test loss = 0.014448745299585172\n",
      "Epoch 46: Training loss = 0.002497207590325188\n",
      "Epoch 46: Test loss = 0.014037839995219159\n",
      "Epoch 47: Training loss = 0.0027502826695065133\n",
      "Epoch 47: Test loss = 0.01393936598544352\n",
      "Epoch 48: Training loss = 0.0021518183383239294\n",
      "Epoch 48: Test loss = 0.013848140715382144\n",
      "Epoch 49: Training loss = 0.0019176932904856885\n",
      "Epoch 49: Test loss = 0.013724629412580772\n",
      "Epoch 50: Training loss = 0.002115347029255964\n",
      "Epoch 50: Test loss = 0.012954967730503903\n",
      "Number of train losses: 50\n",
      "Number of test losses: 50\n"
     ]
    }
   ],
   "source": [
    "device = torch.device('cpu')\n",
    "train_losses = []  # To store average train loss per epoch\n",
    "test_losses = []   # To store average test loss per epoch\n",
    "for epoch in range(50):\n",
    "    train_loss = 0.0\n",
    "    test_loss = 0.0\n",
    "    model.train()  # Set model to training mode\n",
    "\n",
    "    # Training loop\n",
    "    for fp1, fp2, label, identifier in train_dataloader:\n",
    "        # Move data to the device (GPU or CPU)\n",
    "        fp1, fp2, label = fp1.to(device), fp2.to(device), label.to(device)\n",
    "\n",
    "        optimizer.zero_grad()\n",
    "        emb1 = model(fp1)\n",
    "        emb2 = model(fp2)\n",
    "        loss = criterion(emb1, emb2, label.float())\n",
    "        loss.backward()\n",
    "        optimizer.step()\n",
    "        train_loss += loss.item()\n",
    "\n",
    "    # Average train loss per epoch\n",
    "    # Average train loss per epoch, only append once per epoch\n",
    "    avg_train_loss = train_loss / len(train_dataloader)\n",
    "    train_losses.append(avg_train_loss)\n",
    "    print(f\"Epoch {epoch+1}: Training loss = {train_loss / len(train_dataloader)}\")\n",
    "\n",
    "    # Evaluation loop\n",
    "    model.eval()\n",
    "    with torch.no_grad():\n",
    "        for fp1, fp2, label, _ in test_dataloader:\n",
    "            # Move test data to the device (GPU or CPU)\n",
    "            fp1, fp2, label = fp1.to(device), fp2.to(device), label.to(device)\n",
    "\n",
    "            emb1 = model(fp1)\n",
    "            emb2 = model(fp2)\n",
    "            test_loss += criterion(emb1, emb2, label.float()).item()\n",
    "\n",
    "    # Average test loss per epoch\n",
    "    avg_test_loss = test_loss / len(test_dataloader)\n",
    "    test_losses.append(avg_test_loss)\n",
    "    print(f\"Epoch {epoch+1}: Test loss = {test_loss / len(test_dataloader)}\")\n",
    "\n",
    "# After all epochs, check the lengths\n",
    "print(f\"Number of train losses: {len(train_losses)}\")\n",
    "print(f\"Number of test losses: {len(test_losses)}\")\n"
   ]
  },
  {
   "cell_type": "code",
   "execution_count": 59,
   "id": "26101d9d-bc93-497f-942a-ecd36b877705",
   "metadata": {},
   "outputs": [
    {
     "name": "stdout",
     "output_type": "stream",
     "text": [
      "Training batches: 632\n",
      "Testing batches: 158\n"
     ]
    }
   ],
   "source": [
    "print(f\"Training batches: {len(train_dataloader)}\")\n",
    "print(f\"Testing batches: {len(test_dataloader)}\")"
   ]
  },
  {
   "cell_type": "code",
   "execution_count": null,
   "id": "e1ac6517-a998-4adf-89ae-a9684fd6497d",
   "metadata": {},
   "outputs": [
    {
     "data": {
      "text/plain": [
       "Text(0.5, 1.0, 'Training and Test Loss Curves')"
      ]
     },
     "execution_count": 60,
     "metadata": {},
     "output_type": "execute_result"
    },
    {
     "data": {
      "image/png": "[encoded data removed]",
      "text/plain": [
       "<Figure size 640x480 with 1 Axes>"
      ]
     },
     "metadata": {},
     "output_type": "display_data"
    }
   ],
   "source": [
    "plt.plot(range(50), train_losses, label='Training Loss')\n",
    "plt.plot(range(50), test_losses, label='Test Loss')\n",
    "plt.xlabel('Epochs')\n",
    "plt.ylabel('Loss')\n",
    "plt.legend()\n",
    "plt.title('Training and Test Loss Curves')"
   ]
  },
  {
   "cell_type": "markdown",
   "id": "bda912b6-5f00-4aa9-9b41-53b48f926209",
   "metadata": {},
   "source": [
    "## GraphBased Networks"
   ]
  },
  {
   "cell_type": "code",
   "execution_count": 86,
   "id": "638fddaa-2129-4911-8c6e-da4c3307290c",
   "metadata": {},
   "outputs": [],
   "source": [
    "from torch.nn import Linear, Sequential, BatchNorm1d, ReLU, Dropout\n",
    "import torch.nn.functional as F\n",
    "from torch_geometric.nn import GCNConv, GINConv\n",
    "from torch_geometric.nn import global_mean_pool, global_add_pool\n",
    "from torch_geometric.data import Data, Dataset, DataLoader"
   ]
  },
  {
   "cell_type": "code",
   "execution_count": 87,
   "id": "86db2008-ca2e-4c84-8e8b-68b5a69bdd70",
   "metadata": {},
   "outputs": [],
   "source": [
    "def mol_to_graph(mol):\n",
    "        \"\"\"\n",
    "        Converts an RDKit mol object into a graph representation with atom and bond features.\n",
    "        \n",
    "        :param mol: RDKit mol object representing a molecule.\n",
    "        :return: PyTorch Geometric Data object containing graph representation of the molecule.\n",
    "        \"\"\"\n",
    "        atom_features = []\n",
    "        bond_features = []\n",
    "        edge_index = []\n",
    "        \n",
    "        # Atom feature extraction\n",
    "        for atom in mol.GetAtoms():\n",
    "            atom_feature = [\n",
    "                atom.GetAtomicNum(),                         # Atomic number\n",
    "                atom.GetFormalCharge(),                      # Formal charge\n",
    "                atom.GetHybridization().real,                # Hybridization\n",
    "                atom.GetIsAromatic(),                        # Aromaticity\n",
    "                atom.GetImplicitValence(),                   # Implicit valence\n",
    "                atom.GetDegree(),                            # Number of bonds to other atoms\n",
    "                atom.IsInRing(),                             # Is in ring\n",
    "                atom.GetChiralTag(),                         # Chirality\n",
    "                atom.GetExplicitValence(),                   # Explicit valence\n",
    "                atom.GetNumRadicalElectrons(),               # Number of radical electrons\n",
    "                atom.GetTotalNumHs(),                        # Total number of hydrogens\n",
    "                atom.GetIsotope(),                           # Isotope (if any)\n",
    "                atom.GetMass()                               # Atomic mass\n",
    "            ]\n",
    "            atom_features.append(atom_feature)\n",
    "        \n",
    "        # Bond feature extraction\n",
    "        for bond in mol.GetBonds():\n",
    "            i = bond.GetBeginAtomIdx()\n",
    "            j = bond.GetEndAtomIdx()\n",
    "            edge_index.extend([[i, j], [j, i]])  # Add bidirectional edges\n",
    "            \n",
    "            bond_feature = [\n",
    "                bond.GetBondTypeAsDouble(),                  # Bond type (single, double, triple, aromatic)\n",
    "                bond.GetIsConjugated(),                      # Is conjugated\n",
    "                bond.IsInRing(),                             # Is in ring\n",
    "                bond.GetStereo(),                            # Bond stereochemistry (cis/trans)\n",
    "                bond.GetBondDir()                            # Bond direction (up/down in 3D)\n",
    "            ]\n",
    "            bond_features.extend([bond_feature, bond_feature])  # Add twice for bidirectional edges\n",
    "        \n",
    "        # Convert to tensors\n",
    "        x = torch.tensor(atom_features, dtype=torch.float)\n",
    "        edge_index = torch.tensor(edge_index, dtype=torch.long).t().contiguous()\n",
    "        edge_attr = torch.tensor(bond_features, dtype=torch.float)\n",
    "        \n",
    "        return Data(x=x, edge_index=edge_index, edge_attr=edge_attr)\n",
    "  "
   ]
  },
  {
   "cell_type": "code",
   "execution_count": 88,
   "id": "bbee2110-ff3c-411e-949c-813444db5cf3",
   "metadata": {},
   "outputs": [
    {
     "data": {
      "text/html": [
       "<div>\n",
       "<style scoped>\n",
       "    .dataframe tbody tr th:only-of-type {\n",
       "        vertical-align: middle;\n",
       "    }\n",
       "\n",
       "    .dataframe tbody tr th {\n",
       "        vertical-align: top;\n",
       "    }\n",
       "\n",
       "    .dataframe thead th {\n",
       "        text-align: right;\n",
       "    }\n",
       "</style>\n",
       "<table border=\"1\" class=\"dataframe\">\n",
       "  <thead>\n",
       "    <tr style=\"text-align: right;\">\n",
       "      <th></th>\n",
       "      <th>Target</th>\n",
       "      <th>Analogue</th>\n",
       "      <th>target_smi</th>\n",
       "      <th>analogue_smi</th>\n",
       "      <th>fps_target</th>\n",
       "      <th>fps_analogue</th>\n",
       "      <th>Label</th>\n",
       "      <th>Tanimoto</th>\n",
       "    </tr>\n",
       "  </thead>\n",
       "  <tbody>\n",
       "    <tr>\n",
       "      <th>62635</th>\n",
       "      <td>DTXSID6047604</td>\n",
       "      <td>DTXSID20202963</td>\n",
       "      <td>CCCC(=O)OCCC1=CC=CC=C1</td>\n",
       "      <td>CCCCCCC(=O)OCC1=CC=CC=C1</td>\n",
       "      <td>[0, 0, 0, 0, 0, 0, 0, 0, 0, 0, 1, 0, 0, 1, 0, ...</td>\n",
       "      <td>[0, 0, 0, 0, 0, 0, 0, 0, 0, 0, 0, 0, 0, 0, 0, ...</td>\n",
       "      <td>0</td>\n",
       "      <td>0.392857</td>\n",
       "    </tr>\n",
       "  </tbody>\n",
       "</table>\n",
       "</div>"
      ],
      "text/plain": [
       "              Target        Analogue              target_smi  \\\n",
       "62635  DTXSID6047604  DTXSID20202963  CCCC(=O)OCCC1=CC=CC=C1   \n",
       "\n",
       "                   analogue_smi  \\\n",
       "62635  CCCCCCC(=O)OCC1=CC=CC=C1   \n",
       "\n",
       "                                              fps_target  \\\n",
       "62635  [0, 0, 0, 0, 0, 0, 0, 0, 0, 0, 1, 0, 0, 1, 0, ...   \n",
       "\n",
       "                                            fps_analogue  Label  Tanimoto  \n",
       "62635  [0, 0, 0, 0, 0, 0, 0, 0, 0, 0, 0, 0, 0, 0, 0, ...      0  0.392857  "
      ]
     },
     "execution_count": 88,
     "metadata": {},
     "output_type": "execute_result"
    }
   ],
   "source": [
    "X_train.head(1)"
   ]
  },
  {
   "cell_type": "code",
   "execution_count": 89,
   "id": "b1a04114-20c8-425d-a1bc-40d49e428310",
   "metadata": {},
   "outputs": [],
   "source": [
    "class GraphData(Dataset):\n",
    "    def __init__(self, df):\n",
    "        \"\"\"\n",
    "        GraphData class inheriting from the Dataset class in PyTorch.\n",
    "\n",
    "        Parameters\n",
    "        ----------\n",
    "    \n",
    "        node_vec_len : int\n",
    "            Node vector length of molecular graphs\n",
    "        max_atoms : int\n",
    "            Maximum number of atoms in molecular graphs\n",
    "        \"\"\"\n",
    "        self.df = df\n",
    "\n",
    "        # Create lists\n",
    "        #self.indices = df.index.to_list()\n",
    "        #self.smiles = df[\"smiles\"].to_list()\n",
    "        #self.outputs = df[\"measured log solubility in mols per litre\"].to_list()\n",
    "\n",
    "    def __len__(self):\n",
    "        return len(self.df)\n",
    "\n",
    "    def __getitem__(self, idx):\n",
    "        \n",
    "        \"\"\"\n",
    "        Returns node matrix, adjacency matrix, output, and SMILES string of\n",
    "        molecule.\n",
    "\n",
    "        Parameters\n",
    "        ----------\n",
    "        i : int\n",
    "            Dataset index\n",
    "\n",
    "        Returns\n",
    "        -------\n",
    "        node_mat : torch.Tensor with dimension (max_atoms,node_vec_len)\n",
    "            Node matrix\n",
    "        adj_mat: torch.Tensor with dimension (max_atoms,max_atoms)\n",
    "            Adjacency matrix\n",
    "        output : torch.Tensor with dimension n_outputs\n",
    "            Output vector\n",
    "        smile : str\n",
    "            SMILES string of molecule\n",
    "        \"\"\"\n",
    "        \n",
    "        row = self.df.iloc[idx]\n",
    "        target_mol = Chem.MolFromSmiles(row['target_smi'])\n",
    "        analogue_mol =Chem.MolFromSmiles(row['analogue_smi'])\n",
    "        target = mol_to_graph(target_mol)\n",
    "        analogue = mol_to_graph(analogue_mol)\n",
    "\n",
    "\n",
    "        # Get output\n",
    "        label = torch.tensor(row['Label'], dtype=torch.long)\n",
    "\n",
    "        return target, analogue, label\n",
    "\n",
    "   "
   ]
  },
  {
   "cell_type": "code",
   "execution_count": 90,
   "id": "9f1106c4-04da-4eef-9b42-a7855b2cfbb3",
   "metadata": {},
   "outputs": [],
   "source": [
    "train_data = GraphData(X_train)"
   ]
  },
  {
   "cell_type": "code",
   "execution_count": 102,
   "id": "64d6150a-1f1b-433b-bf66-9fc7d6c07e8f",
   "metadata": {},
   "outputs": [],
   "source": [
    "test_data = GraphData(X_test)"
   ]
  },
  {
   "cell_type": "code",
   "execution_count": 103,
   "id": "9d432c51-dd7b-4645-aba9-e33fb4edb5cf",
   "metadata": {},
   "outputs": [
    {
     "data": {
      "text/plain": [
       "13"
      ]
     },
     "execution_count": 103,
     "metadata": {},
     "output_type": "execute_result"
    }
   ],
   "source": [
    "test_data[0][0].num_features"
   ]
  },
  {
   "cell_type": "code",
   "execution_count": 110,
   "id": "e8914403-aa91-4e24-9d9c-dae3e11c7f0e",
   "metadata": {},
   "outputs": [],
   "source": [
    "class GIN(torch.nn.Module):\n",
    "    \"\"\"GIN\"\"\"\n",
    "    def __init__(self, dim_h):\n",
    "        super(GIN, self).__init__()\n",
    "        self.conv1 = GINConv(\n",
    "            Sequential(Linear(13, dim_h),\n",
    "                       BatchNorm1d(dim_h), ReLU(),\n",
    "                       Linear(dim_h, dim_h), ReLU()))\n",
    "        self.conv2 = GINConv(\n",
    "            Sequential(Linear(dim_h, dim_h), BatchNorm1d(dim_h), ReLU(),\n",
    "                       Linear(dim_h, dim_h), ReLU()))\n",
    "        self.conv3 = GINConv(\n",
    "            Sequential(Linear(dim_h, dim_h), BatchNorm1d(dim_h), ReLU(),\n",
    "                       Linear(dim_h, dim_h), ReLU()))\n",
    "        self.lin1 = Linear(dim_h*3, dim_h*3)\n",
    "        #self.lin2 = Linear(dim_h*3, 1)\n",
    "\n",
    "    def forward_once(self, data, batch=torch.tensor([0])):\n",
    "        x, edge_index = data.x, data.edge_index\n",
    "        # Node embeddings \n",
    "        h1 = self.conv1(x, edge_index)\n",
    "        h2 = self.conv2(h1, edge_index)\n",
    "        h3 = self.conv3(h2, edge_index)\n",
    "\n",
    "        # Graph-level readout\n",
    "        h1 = global_mean_pool(h1, batch)\n",
    "        h2 = global_mean_pool(h2, batch)\n",
    "        h3 = global_mean_pool(h3, batch)\n",
    "\n",
    "        # Concatenate graph embeddings\n",
    "        h = torch.cat((h1, h2, h3), dim=1)\n",
    "\n",
    "        # Classifier\n",
    "        #h = self.lin1(h)\n",
    "        #h = h.relu()\n",
    "        #h = F.dropout(h, p=0.5, training=self.training)\n",
    "        #h = self.lin2(h)\n",
    "        \n",
    "        return h\n",
    "       \n",
    "        \n",
    "    def forward(self, input1, input2):\n",
    "       \n",
    "        output1 = self.forward_once(input1)\n",
    "        output2 = self.forward_once(input2)\n",
    "\n",
    "        return output1, output2\n",
    "    \n",
    "    "
   ]
  },
  {
   "cell_type": "code",
   "execution_count": 119,
   "id": "80ccd186-ab3e-4977-a79f-17b4558efc1c",
   "metadata": {},
   "outputs": [],
   "source": [
    "gin = GIN(dim_h=32)\n"
   ]
  },
  {
   "cell_type": "code",
   "execution_count": 129,
   "id": "36efdf70-d193-45bc-a8ca-c3aa5aacb95f",
   "metadata": {},
   "outputs": [],
   "source": [
    "def normalize_embeddings(embeddings):\n",
    "    return embeddings / embeddings.norm(p=2, dim=1, keepdim=True)"
   ]
  },
  {
   "cell_type": "code",
   "execution_count": 130,
   "id": "7dc6b6af-0404-4f82-a1d7-690881067552",
   "metadata": {},
   "outputs": [],
   "source": [
    "def compute_ginaccuracy(model, dataloader, margin=1.0):\n",
    "    model.eval()\n",
    "    correct = 0\n",
    "    total = 0\n",
    "    all_predictions = []\n",
    "    all_labels = []\n",
    "    \n",
    "\n",
    "    with torch.no_grad():\n",
    "        for data in dataloader:\n",
    "            input1, input2, label = data\n",
    "            output1, output2 = model(input1, input2)\n",
    "            # Normalize embeddings\n",
    "            output1 = normalize_embeddings(output1)\n",
    "            output2 = normalize_embeddings(output2)\n",
    "\n",
    "            \n",
    "            distances = torch.nn.functional.pairwise_distance(output1, output2)\n",
    "            \n",
    "\n",
    "            # Use the margin as the decision boundary\n",
    "            predictions = (distances > margin).long()  # Dissimilar if distance > margin\n",
    "            correct += (predictions == label).sum().item()\n",
    "            total += label.size(0)\n",
    "            all_predictions.extend(predictions.cpu().numpy())\n",
    "            all_labels.extend(label.cpu().numpy())\n",
    "            \n",
    "            \n",
    "\n",
    "    accuracy = correct / total\n",
    "    print(f\"Accuracy: {accuracy:.4f}\")\n",
    "    return accuracy, all_predictions, all_labels"
   ]
  },
  {
   "cell_type": "code",
   "execution_count": 131,
   "id": "5d700838-f9bf-423d-869f-59be611e15b1",
   "metadata": {},
   "outputs": [],
   "source": [
    "from torch_geometric.nn.models import GAT, GIN\n",
    "from torch_geometric.nn import global_mean_pool, global_add_pool, global_max_pool\n"
   ]
  },
  {
   "cell_type": "code",
   "execution_count": 133,
   "id": "a790ab51-d781-4925-bc1a-2cf4de6f31a7",
   "metadata": {},
   "outputs": [],
   "source": [
    "class ContrastiveLoss(torch.nn.Module):\n",
    "    def __init__(self, margin=2.0):\n",
    "        super(ContrastiveLoss, self).__init__()\n",
    "        self.margin = margin\n",
    "\n",
    "    def forward(self, output1, output2, label):\n",
    "        # Euclidean distance between the embeddings\n",
    "        euclidean_distance = F.pairwise_distance(output1, output2, keepdim = True)\n",
    "\n",
    "        # Contrastive loss formula\n",
    "        contrastive_loss = torch.mean((1 - label) * torch.pow(euclidean_distance, 2) +\n",
    "                                      (label) * torch.pow(torch.clamp(self.margin - euclidean_distance, min=0.0), 2))\n",
    "\n",
    "        return contrastive_loss"
   ]
  },
  {
   "cell_type": "code",
   "execution_count": 134,
   "id": "a5980e0f-1e50-4027-9152-d0acccdbbbb0",
   "metadata": {},
   "outputs": [],
   "source": [
    "criterion = ContrastiveLoss()\n",
    "#optimizer = torch.optim.SGD(params=gin.parameters(), lr=0.005)\n",
    "\n",
    "optimizer = torch.optim.Adam(gin.parameters(), lr=0.0005)"
   ]
  },
  {
   "cell_type": "code",
   "execution_count": 135,
   "id": "4355b1d5-8aab-498e-8ea3-336c17d93134",
   "metadata": {},
   "outputs": [],
   "source": [
    "train_loader = DataLoader(train_data, batch_size=100, shuffle=True, drop_last=True)"
   ]
  },
  {
   "cell_type": "code",
   "execution_count": 136,
   "id": "a7ab23d6-19f9-4883-9d9a-8be47f54a912",
   "metadata": {},
   "outputs": [
    {
     "data": {
      "text/plain": [
       "(Data(x=[14, 13], edge_index=[2, 28], edge_attr=[28, 5]),\n",
       " Data(x=[16, 13], edge_index=[2, 32], edge_attr=[32, 5]),\n",
       " tensor(0))"
      ]
     },
     "execution_count": 136,
     "metadata": {},
     "output_type": "execute_result"
    }
   ],
   "source": [
    "train_data[0]"
   ]
  },
  {
   "cell_type": "code",
   "execution_count": 137,
   "id": "dd4d64ca-515a-4c77-91d5-e9d56baa908f",
   "metadata": {},
   "outputs": [],
   "source": [
    "test_loader = DataLoader(test_data, batch_size=1, shuffle=False, drop_last=True)"
   ]
  },
  {
   "cell_type": "code",
   "execution_count": 127,
   "id": "0a2dc68f-6a36-4aa1-98cb-2e8ab2c398de",
   "metadata": {},
   "outputs": [
    {
     "name": "stdout",
     "output_type": "stream",
     "text": [
      "[DataBatch(x=[1317, 13], edge_index=[2, 2582], edge_attr=[2582, 5], batch=[1317], ptr=[101]), DataBatch(x=[1312, 13], edge_index=[2, 2584], edge_attr=[2584, 5], batch=[1312], ptr=[101]), tensor([1, 0, 0, 0, 0, 1, 0, 0, 0, 0, 0, 1, 0, 0, 0, 0, 1, 0, 1, 1, 0, 0, 1, 0,\n",
      "        1, 0, 1, 0, 0, 1, 0, 0, 0, 0, 0, 1, 0, 1, 0, 0, 1, 0, 1, 0, 0, 1, 0, 1,\n",
      "        1, 0, 1, 1, 0, 1, 0, 0, 0, 1, 0, 1, 1, 0, 1, 0, 0, 1, 0, 1, 1, 1, 1, 1,\n",
      "        0, 1, 0, 0, 1, 1, 0, 1, 1, 0, 1, 0, 1, 1, 1, 1, 0, 0, 1, 0, 1, 1, 1, 0,\n",
      "        1, 0, 0, 0])]\n"
     ]
    }
   ],
   "source": [
    "for data in train_loader:\n",
    "    print(data)\n",
    "    break"
   ]
  },
  {
   "cell_type": "code",
   "execution_count": 138,
   "id": "f934863f-b30d-4008-8c06-fd763ad8c753",
   "metadata": {},
   "outputs": [
    {
     "name": "stdout",
     "output_type": "stream",
     "text": [
      "Accuracy: 0.4988\n",
      "Accuracy: 0.7421\n",
      "Epoch 1, Loss: 1.4009, Train Accuracy: 0.4988, Test Accuracy: 0.7421\n",
      "Accuracy: 0.5006\n",
      "Accuracy: 0.6661\n",
      "Epoch 2, Loss: 1.1887, Train Accuracy: 0.5006, Test Accuracy: 0.6661\n",
      "Accuracy: 0.4990\n",
      "Accuracy: 0.6203\n",
      "Epoch 3, Loss: 1.1560, Train Accuracy: 0.4990, Test Accuracy: 0.6203\n",
      "Accuracy: 0.4998\n",
      "Accuracy: 0.6717\n",
      "Epoch 4, Loss: 1.1634, Train Accuracy: 0.4998, Test Accuracy: 0.6717\n",
      "Accuracy: 0.4994\n",
      "Accuracy: 0.7271\n",
      "Epoch 5, Loss: 1.1836, Train Accuracy: 0.4994, Test Accuracy: 0.7271\n",
      "Accuracy: 0.5002\n",
      "Accuracy: 0.6693\n",
      "Epoch 6, Loss: 1.1194, Train Accuracy: 0.5002, Test Accuracy: 0.6693\n",
      "Accuracy: 0.4996\n",
      "Accuracy: 0.6638\n",
      "Epoch 7, Loss: 1.1271, Train Accuracy: 0.4996, Test Accuracy: 0.6638\n",
      "Accuracy: 0.5036\n",
      "Accuracy: 0.7484\n",
      "Epoch 8, Loss: 1.1045, Train Accuracy: 0.5036, Test Accuracy: 0.7484\n",
      "Accuracy: 0.5008\n",
      "Accuracy: 0.6187\n",
      "Epoch 9, Loss: 1.2068, Train Accuracy: 0.5008, Test Accuracy: 0.6187\n",
      "Accuracy: 0.5026\n",
      "Accuracy: 0.6203\n",
      "Epoch 10, Loss: 1.1291, Train Accuracy: 0.5026, Test Accuracy: 0.6203\n",
      "Accuracy: 0.5040\n",
      "Accuracy: 0.5981\n",
      "Epoch 11, Loss: 1.0647, Train Accuracy: 0.5040, Test Accuracy: 0.5981\n",
      "Accuracy: 0.4998\n",
      "Accuracy: 0.5926\n",
      "Epoch 12, Loss: 1.0390, Train Accuracy: 0.4998, Test Accuracy: 0.5926\n",
      "Accuracy: 0.4990\n",
      "Accuracy: 0.5973\n",
      "Epoch 13, Loss: 1.0885, Train Accuracy: 0.4990, Test Accuracy: 0.5973\n",
      "Accuracy: 0.5008\n",
      "Accuracy: 0.6440\n",
      "Epoch 14, Loss: 1.1073, Train Accuracy: 0.5008, Test Accuracy: 0.6440\n",
      "Accuracy: 0.4954\n",
      "Accuracy: 0.7302\n",
      "Epoch 15, Loss: 1.0983, Train Accuracy: 0.4954, Test Accuracy: 0.7302\n",
      "Accuracy: 0.4996\n",
      "Accuracy: 0.6392\n",
      "Epoch 16, Loss: 1.0879, Train Accuracy: 0.4996, Test Accuracy: 0.6392\n",
      "Accuracy: 0.4982\n",
      "Accuracy: 0.6503\n",
      "Epoch 17, Loss: 1.0771, Train Accuracy: 0.4982, Test Accuracy: 0.6503\n",
      "Accuracy: 0.4996\n",
      "Accuracy: 0.6313\n",
      "Epoch 18, Loss: 1.0390, Train Accuracy: 0.4996, Test Accuracy: 0.6313\n",
      "Accuracy: 0.4942\n",
      "Accuracy: 0.6574\n",
      "Epoch 19, Loss: 1.0631, Train Accuracy: 0.4942, Test Accuracy: 0.6574\n",
      "Accuracy: 0.4994\n",
      "Accuracy: 0.5854\n",
      "Epoch 20, Loss: 1.0646, Train Accuracy: 0.4994, Test Accuracy: 0.5854\n",
      "Accuracy: 0.4952\n",
      "Accuracy: 0.7017\n",
      "Epoch 21, Loss: 1.0962, Train Accuracy: 0.4952, Test Accuracy: 0.7017\n",
      "Accuracy: 0.5018\n",
      "Accuracy: 0.5934\n",
      "Epoch 22, Loss: 1.0741, Train Accuracy: 0.5018, Test Accuracy: 0.5934\n",
      "Accuracy: 0.5036\n",
      "Accuracy: 0.7286\n",
      "Epoch 23, Loss: 1.0735, Train Accuracy: 0.5036, Test Accuracy: 0.7286\n",
      "Accuracy: 0.5020\n",
      "Accuracy: 0.7919\n",
      "Epoch 24, Loss: 1.0542, Train Accuracy: 0.5020, Test Accuracy: 0.7919\n",
      "Accuracy: 0.5000\n",
      "Accuracy: 0.6258\n",
      "Epoch 25, Loss: 1.0628, Train Accuracy: 0.5000, Test Accuracy: 0.6258\n",
      "Accuracy: 0.5090\n",
      "Accuracy: 0.7563\n",
      "Epoch 26, Loss: 1.0597, Train Accuracy: 0.5090, Test Accuracy: 0.7563\n",
      "Accuracy: 0.5012\n",
      "Accuracy: 0.6994\n",
      "Epoch 27, Loss: 1.0654, Train Accuracy: 0.5012, Test Accuracy: 0.6994\n",
      "Accuracy: 0.5008\n",
      "Accuracy: 0.6179\n",
      "Epoch 28, Loss: 1.0689, Train Accuracy: 0.5008, Test Accuracy: 0.6179\n",
      "Accuracy: 0.5002\n",
      "Accuracy: 0.6479\n",
      "Epoch 29, Loss: 1.0485, Train Accuracy: 0.5002, Test Accuracy: 0.6479\n",
      "Accuracy: 0.4982\n",
      "Accuracy: 0.6290\n",
      "Epoch 30, Loss: 1.0537, Train Accuracy: 0.4982, Test Accuracy: 0.6290\n",
      "Accuracy: 0.5086\n",
      "Accuracy: 0.6828\n",
      "Epoch 31, Loss: 1.0368, Train Accuracy: 0.5086, Test Accuracy: 0.6828\n",
      "Accuracy: 0.5072\n",
      "Accuracy: 0.7793\n",
      "Epoch 32, Loss: 1.0470, Train Accuracy: 0.5072, Test Accuracy: 0.7793\n",
      "Accuracy: 0.5050\n",
      "Accuracy: 0.6432\n",
      "Epoch 33, Loss: 1.0384, Train Accuracy: 0.5050, Test Accuracy: 0.6432\n",
      "Accuracy: 0.5062\n",
      "Accuracy: 0.6282\n",
      "Epoch 34, Loss: 1.0505, Train Accuracy: 0.5062, Test Accuracy: 0.6282\n",
      "Accuracy: 0.5056\n",
      "Accuracy: 0.6733\n",
      "Epoch 35, Loss: 1.0513, Train Accuracy: 0.5056, Test Accuracy: 0.6733\n",
      "Accuracy: 0.5014\n",
      "Accuracy: 0.7231\n",
      "Epoch 36, Loss: 1.0333, Train Accuracy: 0.5014, Test Accuracy: 0.7231\n",
      "Accuracy: 0.4988\n",
      "Accuracy: 0.7097\n",
      "Epoch 37, Loss: 1.1157, Train Accuracy: 0.4988, Test Accuracy: 0.7097\n",
      "Accuracy: 0.5012\n",
      "Accuracy: 0.5918\n",
      "Epoch 38, Loss: 1.0588, Train Accuracy: 0.5012, Test Accuracy: 0.5918\n",
      "Accuracy: 0.5006\n",
      "Accuracy: 0.6108\n",
      "Epoch 39, Loss: 1.0536, Train Accuracy: 0.5006, Test Accuracy: 0.6108\n",
      "Accuracy: 0.5124\n",
      "Accuracy: 0.6820\n",
      "Epoch 40, Loss: 1.0405, Train Accuracy: 0.5124, Test Accuracy: 0.6820\n",
      "Accuracy: 0.4998\n",
      "Accuracy: 0.6329\n",
      "Epoch 41, Loss: 1.0341, Train Accuracy: 0.4998, Test Accuracy: 0.6329\n",
      "Accuracy: 0.5012\n",
      "Accuracy: 0.7017\n",
      "Epoch 42, Loss: 1.0682, Train Accuracy: 0.5012, Test Accuracy: 0.7017\n",
      "Accuracy: 0.4980\n",
      "Accuracy: 0.7832\n",
      "Epoch 43, Loss: 1.0874, Train Accuracy: 0.4980, Test Accuracy: 0.7832\n",
      "Accuracy: 0.5018\n",
      "Accuracy: 0.6377\n",
      "Epoch 44, Loss: 1.0686, Train Accuracy: 0.5018, Test Accuracy: 0.6377\n",
      "Accuracy: 0.4992\n",
      "Accuracy: 0.7326\n",
      "Epoch 45, Loss: 1.0890, Train Accuracy: 0.4992, Test Accuracy: 0.7326\n",
      "Accuracy: 0.4976\n",
      "Accuracy: 0.6661\n",
      "Epoch 46, Loss: 1.0359, Train Accuracy: 0.4976, Test Accuracy: 0.6661\n",
      "Accuracy: 0.4998\n",
      "Accuracy: 0.6653\n",
      "Epoch 47, Loss: 1.0615, Train Accuracy: 0.4998, Test Accuracy: 0.6653\n",
      "Accuracy: 0.5012\n",
      "Accuracy: 0.6788\n",
      "Epoch 48, Loss: 1.0492, Train Accuracy: 0.5012, Test Accuracy: 0.6788\n",
      "Accuracy: 0.5002\n",
      "Accuracy: 0.7168\n",
      "Epoch 49, Loss: 1.0717, Train Accuracy: 0.5002, Test Accuracy: 0.7168\n",
      "Accuracy: 0.5038\n",
      "Accuracy: 0.6305\n",
      "Epoch 50, Loss: 1.1090, Train Accuracy: 0.5038, Test Accuracy: 0.6305\n"
     ]
    }
   ],
   "source": [
    "for epoch in range(50):\n",
    "    gin.train()  # Set model to training mode\n",
    "    total_loss = 0.0\n",
    "\n",
    "    for data in train_loader:\n",
    "        input1, input2, label = data\n",
    "        optimizer.zero_grad()\n",
    "        output1, output2 = gin(input1, input2)\n",
    "        \n",
    "        output1 = normalize_embeddings(output1)\n",
    "        output2 = normalize_embeddings(output2)\n",
    "        \n",
    "        loss = criterion(output1, output2, label.float())\n",
    "        loss.backward()\n",
    "        optimizer.step()\n",
    "        total_loss += loss.item()\n",
    "\n",
    "    # Compute loss and accuracy for training and test sets\n",
    "    train_accuracy = compute_ginaccuracy(gin, train_loader)[0]\n",
    "    test_accuracy = compute_ginaccuracy(gin, test_loader)[0]\n",
    "    \n",
    "    print(f\"Epoch {epoch+1}, Loss: {total_loss / len(train_loader):.4f}, \"\n",
    "          f\"Train Accuracy: {train_accuracy:.4f}, Test Accuracy: {test_accuracy:.4f}\")"
   ]
  },
  {
   "cell_type": "code",
   "execution_count": null,
   "id": "cb12fcc3-161c-4fd8-8c77-c088068ac1a1",
   "metadata": {},
   "outputs": [],
   "source": []
  },
  {
   "cell_type": "code",
   "execution_count": null,
   "id": "5ea9bcf1-29cb-4f21-9bb5-00e52c041fb7",
   "metadata": {},
   "outputs": [],
   "source": []
  },
  {
   "cell_type": "code",
   "execution_count": null,
   "id": "014a9f70-f4c1-441f-8f8b-60f6f51f05e3",
   "metadata": {},
   "outputs": [],
   "source": []
  },
  {
   "cell_type": "code",
   "execution_count": 55,
   "id": "97de3c5f-e525-4cb9-961b-d53af1e1a999",
   "metadata": {},
   "outputs": [],
   "source": [
    "from sklearn.metrics import accuracy_score, precision_score, recall_score, f1_score"
   ]
  },
  {
   "cell_type": "code",
   "execution_count": 83,
   "id": "516bb8cb-5bea-4a7e-954b-5ceda848bda4",
   "metadata": {},
   "outputs": [],
   "source": [
    "def test_network(model, test_loader, threshold=5):\n",
    "    true_labels = np.empty((0,))\n",
    "    predicted_labels = np.empty((0,))\n",
    "    euclidean = np.empty((0,))\n",
    "    \n",
    "    model.eval()\n",
    "    \n",
    "    with torch.no_grad():\n",
    "        for i, data in enumerate(test_loader,0):\n",
    "            # Unpack data\n",
    "            input1, input2, label = data\n",
    "            #print(label)\n",
    "            \n",
    "            output1, output2 = model(input1, input2)\n",
    "            #print(output1, output2)\n",
    "            euclidean_distance = F.pairwise_distance(output1, output2)\n",
    "            predictions = (euclidean_distance > threshold).float()\n",
    "            \n",
    "\n",
    "            true_labels = np.append(true_labels, label.view(-1).cpu().numpy())\n",
    "            predicted_labels = np.append(predicted_labels, predictions.view(-1).cpu().numpy())\n",
    "            euclidean = np.append(euclidean, euclidean_distance.view(-1).cpu().numpy())\n",
    "            \n",
    "            #print(input1['smiles'], input2['smiles'], label, euclidean_distance.item())\n",
    "            \n",
    "           \n",
    "\n",
    "    \n",
    "    \n",
    "\n",
    "        return true_labels, predicted_labels, euclidean"
   ]
  },
  {
   "cell_type": "code",
   "execution_count": 100,
   "id": "dc011a40-0cae-41b2-90ba-11ff02cb86e2",
   "metadata": {},
   "outputs": [],
   "source": [
    "a, b, c =test_network(gin, test_loader, threshold = 1)"
   ]
  },
  {
   "cell_type": "code",
   "execution_count": 101,
   "id": "2203131c-5969-438b-acbc-4b03a343b852",
   "metadata": {},
   "outputs": [
    {
     "data": {
      "text/plain": [
       "(Data(x=[4, 9], edge_index=[2, 6], edge_attr=[6, 3], smiles='CC(C)=C'),\n",
       " Data(x=[6, 9], edge_index=[2, 10], edge_attr=[10, 3], smiles='CCC=CCO'),\n",
       " tensor(1))"
      ]
     },
     "execution_count": 101,
     "metadata": {},
     "output_type": "execute_result"
    }
   ],
   "source": [
    "test_data[2]"
   ]
  },
  {
   "cell_type": "code",
   "execution_count": 102,
   "id": "1fde5bfa-fedc-4676-99e4-af6d36dc314e",
   "metadata": {},
   "outputs": [
    {
     "data": {
      "text/plain": [
       "(1.0, 0.0, 0.45941683650016785)"
      ]
     },
     "execution_count": 102,
     "metadata": {},
     "output_type": "execute_result"
    }
   ],
   "source": [
    "a[2], b[2], c[2]"
   ]
  },
  {
   "cell_type": "code",
   "execution_count": 103,
   "id": "3e29535f-c42b-4d96-aee3-3dabc1117de6",
   "metadata": {},
   "outputs": [
    {
     "data": {
      "text/plain": [
       "(array([856., 156.,  37.,  18.,   5.,   2.,   2.,   0.,   3.,   7.]),\n",
       " array([9.77125183e-06, 1.07357628e+00, 2.14714279e+00, 3.22070930e+00,\n",
       "        4.29427581e+00, 5.36784231e+00, 6.44140882e+00, 7.51497533e+00,\n",
       "        8.58854184e+00, 9.66210835e+00, 1.07356749e+01]),\n",
       " <BarContainer object of 10 artists>)"
      ]
     },
     "execution_count": 103,
     "metadata": {},
     "output_type": "execute_result"
    },
    {
     "data": {
      "image/png": "[encoded data removed]",
      "text/plain": [
       "<Figure size 640x480 with 1 Axes>"
      ]
     },
     "metadata": {},
     "output_type": "display_data"
    }
   ],
   "source": [
    "plt.hist(c)"
   ]
  },
  {
   "cell_type": "code",
   "execution_count": 104,
   "id": "a8b60101-b501-4196-b178-5114009709e3",
   "metadata": {},
   "outputs": [],
   "source": [
    "from sklearn.metrics import balanced_accuracy_score,accuracy_score,f1_score, confusion_matrix, recall_score, precision_score"
   ]
  },
  {
   "cell_type": "code",
   "execution_count": 121,
   "id": "3ccff72a-3eb6-4dda-84d4-1360aa6c4028",
   "metadata": {},
   "outputs": [
    {
     "data": {
      "text/plain": [
       "0.6731123388581952"
      ]
     },
     "execution_count": 121,
     "metadata": {},
     "output_type": "execute_result"
    }
   ],
   "source": [
    "accuracy_score(a, b)"
   ]
  },
  {
   "cell_type": "code",
   "execution_count": 122,
   "id": "cbb41458-7abb-4d92-b949-116a4e36ea14",
   "metadata": {},
   "outputs": [],
   "source": [
    "precision = precision_score(a, b)\n",
    "recall = recall_score(a, b)\n",
    "f1 = f1_score(a, b)\n",
    "cm = confusion_matrix(a,b)"
   ]
  },
  {
   "cell_type": "code",
   "execution_count": 123,
   "id": "1e01979e-0442-410d-afe0-9292809dee5f",
   "metadata": {},
   "outputs": [
    {
     "name": "stdout",
     "output_type": "stream",
     "text": [
      "0.8884297520661157 0.39594843462246776 0.5477707006369427\n"
     ]
    }
   ],
   "source": [
    "print(precision, recall, f1)"
   ]
  },
  {
   "cell_type": "code",
   "execution_count": 124,
   "id": "320df299-08fe-4679-8886-c0d78fc8e454",
   "metadata": {},
   "outputs": [
    {
     "name": "stdout",
     "output_type": "stream",
     "text": [
      "[[516  27]\n",
      " [328 215]]\n"
     ]
    }
   ],
   "source": [
    "print(cm)\n"
   ]
  },
  {
   "cell_type": "code",
   "execution_count": 109,
   "id": "fe798a36-ce93-4680-b1aa-113bdb699215",
   "metadata": {},
   "outputs": [],
   "source": [
    "new_cols = pd.DataFrame(list(zip(a,b,c)), columns = ['true_label', 'pred_label', 'Euclidean'])\n"
   ]
  },
  {
   "cell_type": "code",
   "execution_count": 117,
   "id": "89764cf9-e93a-4280-bc8d-ccac3d56a0fd",
   "metadata": {},
   "outputs": [],
   "source": [
    "X_test.reset_index(drop = True, inplace =True)"
   ]
  },
  {
   "cell_type": "code",
   "execution_count": 118,
   "id": "1494b5f0-087d-485d-9f85-1e1d0747ec40",
   "metadata": {},
   "outputs": [],
   "source": [
    "X_test1 = pd.concat([X_test, new_cols], axis = 1)"
   ]
  },
  {
   "cell_type": "code",
   "execution_count": 119,
   "id": "93bcabfa-dd0e-4e90-b09c-0347d5a5337c",
   "metadata": {},
   "outputs": [
    {
     "data": {
      "text/html": [
       "<div>\n",
       "<style scoped>\n",
       "    .dataframe tbody tr th:only-of-type {\n",
       "        vertical-align: middle;\n",
       "    }\n",
       "\n",
       "    .dataframe tbody tr th {\n",
       "        vertical-align: top;\n",
       "    }\n",
       "\n",
       "    .dataframe thead th {\n",
       "        text-align: right;\n",
       "    }\n",
       "</style>\n",
       "<table border=\"1\" class=\"dataframe\">\n",
       "  <thead>\n",
       "    <tr style=\"text-align: right;\">\n",
       "      <th></th>\n",
       "      <th>Target</th>\n",
       "      <th>Analogue</th>\n",
       "      <th>target_smi</th>\n",
       "      <th>analogue_smi</th>\n",
       "      <th>Label</th>\n",
       "      <th>tanimoto</th>\n",
       "      <th>true_label</th>\n",
       "      <th>pred_label</th>\n",
       "      <th>Euclidean</th>\n",
       "    </tr>\n",
       "  </thead>\n",
       "  <tbody>\n",
       "    <tr>\n",
       "      <th>0</th>\n",
       "      <td>DTXSID1026746</td>\n",
       "      <td>DTXSID2021947</td>\n",
       "      <td>CCC=C</td>\n",
       "      <td>CCCCCCCCCCCCCO</td>\n",
       "      <td>1</td>\n",
       "      <td>0.125000</td>\n",
       "      <td>1.0</td>\n",
       "      <td>0.0</td>\n",
       "      <td>0.152989</td>\n",
       "    </tr>\n",
       "    <tr>\n",
       "      <th>1</th>\n",
       "      <td>DTXSID40337923</td>\n",
       "      <td>DTXSID0047666</td>\n",
       "      <td>CCCCCCCCC(CC)CO</td>\n",
       "      <td>CCCC(=O)OCC=C</td>\n",
       "      <td>1</td>\n",
       "      <td>0.106383</td>\n",
       "      <td>1.0</td>\n",
       "      <td>0.0</td>\n",
       "      <td>0.498635</td>\n",
       "    </tr>\n",
       "    <tr>\n",
       "      <th>2</th>\n",
       "      <td>DTXSID9020748</td>\n",
       "      <td>DTXSID40862700</td>\n",
       "      <td>CC(C)=C</td>\n",
       "      <td>CCC=CCO</td>\n",
       "      <td>1</td>\n",
       "      <td>0.111111</td>\n",
       "      <td>1.0</td>\n",
       "      <td>0.0</td>\n",
       "      <td>0.459417</td>\n",
       "    </tr>\n",
       "    <tr>\n",
       "      <th>3</th>\n",
       "      <td>DTXSID1020431</td>\n",
       "      <td>DTXSID6026088</td>\n",
       "      <td>ClC1=CC=C(Cl)C=C1</td>\n",
       "      <td>ClC1=C(Cl)C(Cl)=C(Cl)C=C1</td>\n",
       "      <td>0</td>\n",
       "      <td>0.277778</td>\n",
       "      <td>0.0</td>\n",
       "      <td>0.0</td>\n",
       "      <td>0.893328</td>\n",
       "    </tr>\n",
       "    <tr>\n",
       "      <th>4</th>\n",
       "      <td>DTXSID4024012</td>\n",
       "      <td>DTXSID1024128</td>\n",
       "      <td>BrC1=CC=C(Br)C=C1</td>\n",
       "      <td>BrC1=C(Br)C(Br)=C(Br)C(Br)=C1Br</td>\n",
       "      <td>0</td>\n",
       "      <td>0.230769</td>\n",
       "      <td>0.0</td>\n",
       "      <td>1.0</td>\n",
       "      <td>7.270732</td>\n",
       "    </tr>\n",
       "    <tr>\n",
       "      <th>...</th>\n",
       "      <td>...</td>\n",
       "      <td>...</td>\n",
       "      <td>...</td>\n",
       "      <td>...</td>\n",
       "      <td>...</td>\n",
       "      <td>...</td>\n",
       "      <td>...</td>\n",
       "      <td>...</td>\n",
       "      <td>...</td>\n",
       "    </tr>\n",
       "    <tr>\n",
       "      <th>1081</th>\n",
       "      <td>DTXSID7024320</td>\n",
       "      <td>DTXSID8047763</td>\n",
       "      <td>ClC1=CC(Cl)=C(Cl)C=C1Cl</td>\n",
       "      <td>[S-]C#N</td>\n",
       "      <td>1</td>\n",
       "      <td>0.000000</td>\n",
       "      <td>1.0</td>\n",
       "      <td>1.0</td>\n",
       "      <td>1.415262</td>\n",
       "    </tr>\n",
       "    <tr>\n",
       "      <th>1082</th>\n",
       "      <td>DTXSID4026761</td>\n",
       "      <td>DTXSID80168576</td>\n",
       "      <td>COC=C</td>\n",
       "      <td>CNP(=O)(NC)N(C)C</td>\n",
       "      <td>1</td>\n",
       "      <td>0.045455</td>\n",
       "      <td>1.0</td>\n",
       "      <td>1.0</td>\n",
       "      <td>1.424851</td>\n",
       "    </tr>\n",
       "    <tr>\n",
       "      <th>1083</th>\n",
       "      <td>DTXSID501015053</td>\n",
       "      <td>DTXSID5026750</td>\n",
       "      <td>CCC(C)(C)CCCC(=O)OCC=C</td>\n",
       "      <td>CCCS</td>\n",
       "      <td>1</td>\n",
       "      <td>0.073171</td>\n",
       "      <td>1.0</td>\n",
       "      <td>0.0</td>\n",
       "      <td>0.765557</td>\n",
       "    </tr>\n",
       "    <tr>\n",
       "      <th>1084</th>\n",
       "      <td>DTXSID2027412</td>\n",
       "      <td>DTXSID20194995</td>\n",
       "      <td>CCCCOCCOCCOCCOCCO</td>\n",
       "      <td>CCCCCCCCCC(=O)OCC1=CC=CC=C1</td>\n",
       "      <td>1</td>\n",
       "      <td>0.135593</td>\n",
       "      <td>1.0</td>\n",
       "      <td>1.0</td>\n",
       "      <td>1.283402</td>\n",
       "    </tr>\n",
       "    <tr>\n",
       "      <th>1085</th>\n",
       "      <td>DTXSID60206647</td>\n",
       "      <td>DTXSID6047604</td>\n",
       "      <td>CCCCCCCCC(=O)OCCC1=CC=CC=C1</td>\n",
       "      <td>CCCC(=O)OCCC1=CC=CC=C1</td>\n",
       "      <td>0</td>\n",
       "      <td>0.660000</td>\n",
       "      <td>0.0</td>\n",
       "      <td>0.0</td>\n",
       "      <td>0.004322</td>\n",
       "    </tr>\n",
       "  </tbody>\n",
       "</table>\n",
       "<p>1086 rows × 9 columns</p>\n",
       "</div>"
      ],
      "text/plain": [
       "               Target        Analogue                   target_smi  \\\n",
       "0       DTXSID1026746   DTXSID2021947                        CCC=C   \n",
       "1      DTXSID40337923   DTXSID0047666              CCCCCCCCC(CC)CO   \n",
       "2       DTXSID9020748  DTXSID40862700                      CC(C)=C   \n",
       "3       DTXSID1020431   DTXSID6026088            ClC1=CC=C(Cl)C=C1   \n",
       "4       DTXSID4024012   DTXSID1024128            BrC1=CC=C(Br)C=C1   \n",
       "...               ...             ...                          ...   \n",
       "1081    DTXSID7024320   DTXSID8047763      ClC1=CC(Cl)=C(Cl)C=C1Cl   \n",
       "1082    DTXSID4026761  DTXSID80168576                        COC=C   \n",
       "1083  DTXSID501015053   DTXSID5026750       CCC(C)(C)CCCC(=O)OCC=C   \n",
       "1084    DTXSID2027412  DTXSID20194995            CCCCOCCOCCOCCOCCO   \n",
       "1085   DTXSID60206647   DTXSID6047604  CCCCCCCCC(=O)OCCC1=CC=CC=C1   \n",
       "\n",
       "                         analogue_smi  Label  tanimoto  true_label  \\\n",
       "0                      CCCCCCCCCCCCCO      1  0.125000         1.0   \n",
       "1                       CCCC(=O)OCC=C      1  0.106383         1.0   \n",
       "2                             CCC=CCO      1  0.111111         1.0   \n",
       "3           ClC1=C(Cl)C(Cl)=C(Cl)C=C1      0  0.277778         0.0   \n",
       "4     BrC1=C(Br)C(Br)=C(Br)C(Br)=C1Br      0  0.230769         0.0   \n",
       "...                               ...    ...       ...         ...   \n",
       "1081                          [S-]C#N      1  0.000000         1.0   \n",
       "1082                 CNP(=O)(NC)N(C)C      1  0.045455         1.0   \n",
       "1083                             CCCS      1  0.073171         1.0   \n",
       "1084      CCCCCCCCCC(=O)OCC1=CC=CC=C1      1  0.135593         1.0   \n",
       "1085           CCCC(=O)OCCC1=CC=CC=C1      0  0.660000         0.0   \n",
       "\n",
       "      pred_label  Euclidean  \n",
       "0            0.0   0.152989  \n",
       "1            0.0   0.498635  \n",
       "2            0.0   0.459417  \n",
       "3            0.0   0.893328  \n",
       "4            1.0   7.270732  \n",
       "...          ...        ...  \n",
       "1081         1.0   1.415262  \n",
       "1082         1.0   1.424851  \n",
       "1083         0.0   0.765557  \n",
       "1084         1.0   1.283402  \n",
       "1085         0.0   0.004322  \n",
       "\n",
       "[1086 rows x 9 columns]"
      ]
     },
     "execution_count": 119,
     "metadata": {},
     "output_type": "execute_result"
    }
   ],
   "source": [
    "X_test1"
   ]
  },
  {
   "cell_type": "code",
   "execution_count": 120,
   "id": "61573399-017d-4fe6-b480-f46955bad760",
   "metadata": {},
   "outputs": [
    {
     "data": {
      "text/plain": [
       "<matplotlib.legend.Legend at 0x7905aae1b8b0>"
      ]
     },
     "execution_count": 120,
     "metadata": {},
     "output_type": "execute_result"
    },
    {
     "data": {
      "image/png": "[encoded data removed]",
      "text/plain": [
       "<Figure size 640x480 with 1 Axes>"
      ]
     },
     "metadata": {},
     "output_type": "display_data"
    }
   ],
   "source": [
    "X_test1[X_test1['Label'] ==1]['Euclidean'].hist(label = 'similar')\n",
    "X_test1[X_test1['Label'] ==0]['Euclidean'].hist(color = 'r', alpha = 0.5, label = 'dissimilar')\n",
    "plt.legend()"
   ]
  },
  {
   "cell_type": "code",
   "execution_count": null,
   "id": "1b5a2252-b096-466f-821a-6804373da48e",
   "metadata": {},
   "outputs": [],
   "source": []
  },
  {
   "cell_type": "code",
   "execution_count": null,
   "id": "c326243b-0cce-4318-b8cb-4c8bc584baa5",
   "metadata": {},
   "outputs": [],
   "source": []
  }
 ],
 "metadata": {
  "kernelspec": {
   "display_name": "pytorch_cuda",
   "language": "python",
   "name": "pytorch_cuda"
  },
  "language_info": {
   "codemirror_mode": {
    "name": "ipython",
    "version": 3
   },
   "file_extension": ".py",
   "mimetype": "text/x-python",
   "name": "python",
   "nbconvert_exporter": "python",
   "pygments_lexer": "ipython3",
   "version": "3.11.10"
  },
  "widgets": {
   "application/vnd.jupyter.widget-state+json": {
    "state": {},
    "version_major": 2,
    "version_minor": 0
   }
  }
 },
 "nbformat": 4,
 "nbformat_minor": 5
}
