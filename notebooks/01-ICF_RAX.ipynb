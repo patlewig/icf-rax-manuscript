{
 "cells": [
  {
   "cell_type": "code",
   "execution_count": 1,
   "id": "6c9cff20-2a14-4f9a-b73a-5eb416da1351",
   "metadata": {},
   "outputs": [],
   "source": [
    "import numpy as np\n",
    "import pandas as pd\n",
    "import matplotlib.pyplot as plt\n",
    "import seaborn as sns\n",
    "%matplotlib inline\n",
    "import openpyxl\n",
    "from rdkit.Chem.Draw import MolsToGridImage\n",
    "\n",
    "#Show mols in dataframes\n",
    "\n",
    "from rdkit import Chem\n",
    "from rdkit.Chem.Draw import MolsToGridImage\n",
    "from IPython.core.display import HTML\n",
    "from rdkit.Chem import Descriptors\n",
    "from rdkit.ML.Descriptors import MoleculeDescriptors\n",
    "\n",
    "from rdkit.Chem import AllChem\n",
    "from rdkit.Chem import rdDepictor\n",
    "from rdkit.Chem.Fingerprints import FingerprintMols\n",
    "from rdkit import DataStructs\n",
    "\n",
    "from pathlib import Path"
   ]
  },
  {
   "cell_type": "code",
   "execution_count": 2,
   "id": "9e991a2d-21a5-492f-9324-e9989bbd5f72",
   "metadata": {},
   "outputs": [],
   "source": [
    "TOP = Path.cwd().as_posix().replace('notebooks','')\n",
    "raw_dir = Path(TOP) / 'data'/'raw'\n",
    "interim_dir = Path(TOP) / 'data'/'interim'\n",
    "external_dir = Path(TOP) / 'data'/'external'\n",
    "figures_dir = Path(TOP) / 'reports'/'figures/'\n"
   ]
  },
  {
   "cell_type": "code",
   "execution_count": 3,
   "id": "dc23d214-bc1c-478e-9c82-455397034b76",
   "metadata": {},
   "outputs": [],
   "source": [
    "df = pd.read_excel(raw_dir/'ICF_extractions_160125.xlsx', index_col = [0])"
   ]
  },
  {
   "cell_type": "code",
   "execution_count": 4,
   "id": "c880c397-1a15-4b66-9712-9745e210c1c6",
   "metadata": {},
   "outputs": [
    {
     "data": {
      "text/plain": [
       "Index\n",
       "1      12\n",
       "2       4\n",
       "3      17\n",
       "4      14\n",
       "5      20\n",
       "       ..\n",
       "153     6\n",
       "154     5\n",
       "155     3\n",
       "156     2\n",
       "157    15\n",
       "Length: 157, dtype: int64"
      ]
     },
     "execution_count": 4,
     "metadata": {},
     "output_type": "execute_result"
    }
   ],
   "source": [
    "df.groupby('Index').size()"
   ]
  },
  {
   "cell_type": "markdown",
   "id": "6b0ca51c-2bb7-4d5b-ba17-da8bc1e51f7b",
   "metadata": {},
   "source": [
    "June-Feb 2024 extraction set has extracted 157 read-across examples"
   ]
  },
  {
   "cell_type": "code",
   "execution_count": 5,
   "id": "747f359e-dfbb-4b6a-a04e-9c09fdddc53c",
   "metadata": {},
   "outputs": [
    {
     "data": {
      "text/plain": [
       "(1019, 52)"
      ]
     },
     "execution_count": 5,
     "metadata": {},
     "output_type": "execute_result"
    }
   ],
   "source": [
    "df.shape"
   ]
  },
  {
   "cell_type": "code",
   "execution_count": 6,
   "id": "bd4319a8-4f9a-453b-a17a-801946db125a",
   "metadata": {},
   "outputs": [
    {
     "data": {
      "text/plain": [
       "157"
      ]
     },
     "execution_count": 6,
     "metadata": {},
     "output_type": "execute_result"
    }
   ],
   "source": [
    "df.Index.nunique()"
   ]
  },
  {
   "cell_type": "code",
   "execution_count": 7,
   "id": "147c9c7a-abbb-4a46-adb0-41cd7a3e6430",
   "metadata": {},
   "outputs": [
    {
     "data": {
      "text/plain": [
       "Index(['Index', 'Substance Name in Assessment',\n",
       "       'Substance Number in Assessment', 'Substance Role',\n",
       "       'Read-Across Assessment Title', 'Year of Assessment',\n",
       "       'Link to Assessment',\n",
       "       'Source (e.g. OECD IATA case study,  U.S. EPA PPRTV, journal article, primary author, etc.)',\n",
       "       'Decision Context Purpose (e.g., regulatory, hazard screening, risk assessment, REACH, TSCA, test order, framework validation, etc.)',\n",
       "       'Approach \\n(Analogue or Category)', 'DTXSID', 'Preferred Name',\n",
       "       'CASRN', 'IUPAC_NAME', 'SMILES', 'QSAR Ready SMILES',\n",
       "       'Analogue Role (specific for PPRTV assessments)',\n",
       "       'Critical Effect(s) (short-term or longer exposure)',\n",
       "       'Route of Exposure', 'Study Type', 'Study Duration',\n",
       "       'Study Duration Units', 'Species', 'LOAEL/LOAEC', 'LOAEL/LOAEC units',\n",
       "       'LOEL/LOEC', 'LOEL/LOEC units', 'NOAEL/NOAEC', 'NOAEL/NOAEC units',\n",
       "       'NOEL/NOEC', 'NOEL/NOEC units', 'Reference for Toxicity Study ',\n",
       "       'POD Method', 'POD', 'POD units', 'RfC/p-RfC Toxicity Type',\n",
       "       'RfC/p-RfC Value', 'RfC/p-RfC units', 'RfD/p-RfD Toxicity Type',\n",
       "       'RfD/p-RfD Value', 'RfD/p-RfD units', 'Other Toxicity Value Type',\n",
       "       'Other Toxicity Value', 'Other Toxicity Value units',\n",
       "       'Citation for  Toxicity Value', 'Predicted Toxicity Type',\n",
       "       'Toxicological Endpoint Predicted by Read-Across',\n",
       "       'Predicted Endpoint Value', 'Predicted Endpoint Value Units',\n",
       "       'Method or Calculation Used to Derive Target Chemical Endpoint Value',\n",
       "       'Authors' Rationale for Choosing the Analogues/Category Justification',\n",
       "       'Analogue Evidence Stream'],\n",
       "      dtype='object')"
      ]
     },
     "execution_count": 7,
     "metadata": {},
     "output_type": "execute_result"
    }
   ],
   "source": [
    "df.columns"
   ]
  },
  {
   "cell_type": "code",
   "execution_count": 8,
   "id": "3e884d2a-3a9c-43c2-acef-3a319b030351",
   "metadata": {},
   "outputs": [],
   "source": [
    "df = (df\n",
    " .rename(columns = {'Decision Context Purpose (e.g., regulatory, hazard screening, risk assessment, REACH, TSCA, test order, framework validation, etc.)': 'decision_context', 'Approach \\n(Analogue or Category)': 'Approach', 'Source (e.g. OECD IATA case study,  U.S. EPA PPRTV, journal article, primary author, etc.)': 'Source', 'Analogue Evidence Stream': 'analogue_evidence_stream', 'DTXSID':'dtxsid', 'Substance Role': 'substance_role'})\n",
    ")"
   ]
  },
  {
   "cell_type": "code",
   "execution_count": 9,
   "id": "57e6ac99-5010-4d12-bff6-973b8d034c45",
   "metadata": {},
   "outputs": [
    {
     "data": {
      "text/plain": [
       "array(['Case study to clarify regulatory acceptance and improve OECD guidance',\n",
       "       'Read-across framework validation for risk assessment',\n",
       "       'Case study to demonstrate read-across attempted for registration under EU REACH and accepted under OECD HPV programme',\n",
       "       'Case study to illustrate issues with read-across and improve OECD guidance',\n",
       "       'Case study to suggest key elements for read-across that may be used for regulatory purposes',\n",
       "       'Case study for risk assessment with strategy designed to pass the ECHA RAAF',\n",
       "       'Case study to illustrate issues with read-across and help develop OECD guidance',\n",
       "       'Risk assessment',\n",
       "       'Case study of hazard characterization for screening assessment under the Japanese Chemical Substances of Control Law (CSCL)',\n",
       "       'Screening assessment under Japanese Chemicals Substances Control Law (CSCL)',\n",
       "       'REACH registration',\n",
       "       'Case study to illustrate issues associated with predicting subchronic effects (not intended for any regulatory purposes)',\n",
       "       'Case study to demonstrate how NAMs can support read-across for REACH registration',\n",
       "       'Case study to demonstrate application of an AOP-based testing strategy for read across (under the domain of the EFSA)',\n",
       "       \"Hazard characterization; Groupings Initiative of Canada's Chemical's Management Plan (CMP)\",\n",
       "       'Case study to demonstrate how NAMs can support read-across',\n",
       "       'Calculate permitted daily exposure under the European Medicine Agency (EMA) guideline',\n",
       "       'Case study to improve guidance for read-across',\n",
       "       'Case study to demonstrate how metabolomics data can be used to improve chemical grouping for read-across predictions; to compare the predicted outcome with actual study outcome required by REACH',\n",
       "       'Case study to demonstrate how metabolomics data can be used to support read-across predictions for REACH registration',\n",
       "       'Hazard assessment; OECD HPV Programme',\n",
       "       \"Screening risk assessment/risk characterization; Canada's Chemical's Management Plan (CMP)\",\n",
       "       'Safety assessment', 'Case study for risk assessment'],\n",
       "      dtype=object)"
      ]
     },
     "execution_count": 9,
     "metadata": {},
     "output_type": "execute_result"
    }
   ],
   "source": [
    "df['decision_context'].unique()"
   ]
  },
  {
   "cell_type": "code",
   "execution_count": 10,
   "id": "be869b5f-01ef-45a8-b129-bb0daa806f98",
   "metadata": {},
   "outputs": [],
   "source": [
    "decision_context = {'Case study to clarify regulatory acceptance and improve OECD guidance' : 'technical_guidance',\n",
    "       'Read-across framework validation for risk assessment' : 'technical_guidance',\n",
    "       'Case study to demonstrate read-across attempted for registration under EU REACH and accepted under OECD HPV programme' : 'regulatory_purpose',\n",
    "       'Case study to illustrate issues with read-across and improve OECD guidance' : 'technical_guidance',\n",
    "       'Case study to suggest key elements for read-across that may be used for regulatory purposes' :'technical_guidance',\n",
    "       'Case study for risk assessment with strategy designed to pass the ECHA RAAF':'technical_guidance',\n",
    "       'Case study to illustrate issues with read-across and help develop OECD guidance':'technical_guidance',\n",
    "       'Risk assessment':'regulatory_purpose',\n",
    "                     'Case study for risk assessment': 'regulatory_purpose',\n",
    "       'Case study of hazard characterization for screening assessment under the Japanese Chemical Substances of Control Law (CSCL)':'regulatory_purpose',\n",
    "       'Screening assessment under Japanese Chemicals Substances Control Law (CSCL)':'regulatory_purpose',\n",
    "       'REACH registration':'regulatory_purpose',\n",
    "       'Case study to illustrate issues associated with predicting subchronic effects (not intended for any regulatory purposes)':'technical_guidance',\n",
    "       'Case study to demonstrate how NAMs can support read-across for REACH registration' : 'NAMs',\n",
    "       'Case study to demonstrate application of an AOP-based testing strategy for read across (under the domain of the EFSA)' : 'NAMs',\n",
    "       \"Hazard characterization; Groupings Initiative of Canada's Chemical's Management Plan (CMP)\":'regulatory_purpose',\n",
    "       'Case study to demonstrate how NAMs can support read-across': 'NAMs',\n",
    "       'Calculate permitted daily exposure under the European Medicine Agency (EMA) guideline':'regulatory_purpose',\n",
    "       'Case study to improve guidance for read-across':'technical_guidance',\n",
    "       'Case study to demonstrate how metabolomics data can be used to improve chemical grouping for read-across predictions; to compare the predicted outcome with actual study outcome required by REACH' :'NAMs',\n",
    "       'Case study to demonstrate how metabolomics data can be used to support read-across predictions for REACH registration' : 'NAMs',\n",
    "       'Hazard assessment; OECD HPV Programme':'regulatory_purpose',\n",
    "       \"Screening risk assessment/risk characterization; Canada's Chemical's Management Plan (CMP)\": 'regulatory_purpose', 'Safety assessment': 'safety_assessment'}"
   ]
  },
  {
   "cell_type": "code",
   "execution_count": 11,
   "id": "bfac05a4-acfa-4869-8420-a5888b77b3d3",
   "metadata": {},
   "outputs": [
    {
     "data": {
      "text/plain": [
       "24"
      ]
     },
     "execution_count": 11,
     "metadata": {},
     "output_type": "execute_result"
    }
   ],
   "source": [
    "len(decision_context)"
   ]
  },
  {
   "cell_type": "code",
   "execution_count": 12,
   "id": "d0f9876d-5394-4bb1-9b09-e53048f0d0b9",
   "metadata": {},
   "outputs": [],
   "source": [
    "df = (df\n",
    " .assign(use_case = lambda df: df['decision_context'].replace(decision_context))\n",
    ")"
   ]
  },
  {
   "cell_type": "markdown",
   "id": "591f13db-5fc0-4b28-94fc-12af77528836",
   "metadata": {},
   "source": [
    "There are 24 unique decisions context which when aggregated by NAMs, technical guidance or regulatory purposes finds of the 157 examples, 71 capture regulatory purposes, 68 for safety assessments with the remainder are relatively evenly split between efforts to improve guidance or evaluate the utility of NAMs to substance read-across."
   ]
  },
  {
   "cell_type": "code",
   "execution_count": 13,
   "id": "bd61c08b-4e67-4c25-b1d4-ee532a820031",
   "metadata": {},
   "outputs": [],
   "source": [
    "dtxsid_multiple = df.groupby('dtxsid')['Index'].nunique().loc[lambda x:x>1].index\n",
    "\n",
    "#dtxsid_multiple = df.groupby('dtxsid')['Index'].nunique().loc[lambda x: x > 1].index"
   ]
  },
  {
   "cell_type": "code",
   "execution_count": 14,
   "id": "d36fba51-ea1e-4708-9077-d5e72832e488",
   "metadata": {},
   "outputs": [],
   "source": [
    "df[df['dtxsid'].isin(dtxsid_multiple)][['dtxsid', 'Index']].to_csv(interim_dir/'duplicative_chems_studies.csv')"
   ]
  },
  {
   "cell_type": "code",
   "execution_count": 15,
   "id": "7abba25e-1bf8-4f94-ab3a-a9f37f467c42",
   "metadata": {},
   "outputs": [
    {
     "data": {
      "text/html": [
       "<div>\n",
       "<style scoped>\n",
       "    .dataframe tbody tr th:only-of-type {\n",
       "        vertical-align: middle;\n",
       "    }\n",
       "\n",
       "    .dataframe tbody tr th {\n",
       "        vertical-align: top;\n",
       "    }\n",
       "\n",
       "    .dataframe thead th {\n",
       "        text-align: right;\n",
       "    }\n",
       "</style>\n",
       "<table border=\"1\" class=\"dataframe\">\n",
       "  <thead>\n",
       "    <tr style=\"text-align: right;\">\n",
       "      <th></th>\n",
       "      <th>Critical Effect(s) (short-term or longer exposure)</th>\n",
       "      <th>Route of Exposure</th>\n",
       "      <th>Study Type</th>\n",
       "      <th>Study Duration</th>\n",
       "      <th>Study Duration Units</th>\n",
       "      <th>Species</th>\n",
       "      <th>LOAEL/LOAEC</th>\n",
       "      <th>LOAEL/LOAEC units</th>\n",
       "      <th>LOEL/LOEC</th>\n",
       "      <th>LOEL/LOEC units</th>\n",
       "      <th>NOAEL/NOAEC</th>\n",
       "      <th>NOAEL/NOAEC units</th>\n",
       "      <th>NOEL/NOEC</th>\n",
       "      <th>NOEL/NOEC units</th>\n",
       "      <th>Reference for Toxicity Study</th>\n",
       "      <th>POD Method</th>\n",
       "      <th>POD</th>\n",
       "      <th>POD units</th>\n",
       "    </tr>\n",
       "    <tr>\n",
       "      <th>Status</th>\n",
       "      <th></th>\n",
       "      <th></th>\n",
       "      <th></th>\n",
       "      <th></th>\n",
       "      <th></th>\n",
       "      <th></th>\n",
       "      <th></th>\n",
       "      <th></th>\n",
       "      <th></th>\n",
       "      <th></th>\n",
       "      <th></th>\n",
       "      <th></th>\n",
       "      <th></th>\n",
       "      <th></th>\n",
       "      <th></th>\n",
       "      <th></th>\n",
       "      <th></th>\n",
       "      <th></th>\n",
       "    </tr>\n",
       "  </thead>\n",
       "  <tbody>\n",
       "    <tr>\n",
       "      <th>QC done</th>\n",
       "      <td>maternal toxicity (central nervous system effe...</td>\n",
       "      <td>inhalation</td>\n",
       "      <td>developmental</td>\n",
       "      <td>NaN</td>\n",
       "      <td>NaN</td>\n",
       "      <td>rat</td>\n",
       "      <td>NaN</td>\n",
       "      <td>NaN</td>\n",
       "      <td>NaN</td>\n",
       "      <td>NaN</td>\n",
       "      <td>1500</td>\n",
       "      <td>ppm</td>\n",
       "      <td>NaN</td>\n",
       "      <td>NaN</td>\n",
       "      <td>Hanley, T.R. et al., 1984. Teratologic evaluat...</td>\n",
       "      <td>NaN</td>\n",
       "      <td>NaN</td>\n",
       "      <td>NaN</td>\n",
       "    </tr>\n",
       "    <tr>\n",
       "      <th>QC done</th>\n",
       "      <td>maternal toxicity; no developmental effects ob...</td>\n",
       "      <td>inhalation</td>\n",
       "      <td>developmental</td>\n",
       "      <td>NaN</td>\n",
       "      <td>NaN</td>\n",
       "      <td>rabbit</td>\n",
       "      <td>NaN</td>\n",
       "      <td>NaN</td>\n",
       "      <td>NaN</td>\n",
       "      <td>NaN</td>\n",
       "      <td>1500</td>\n",
       "      <td>ppm</td>\n",
       "      <td>NaN</td>\n",
       "      <td>NaN</td>\n",
       "      <td>Hanley, T.R. et al., 1984. Teratologic evaluat...</td>\n",
       "      <td>NaN</td>\n",
       "      <td>NaN</td>\n",
       "      <td>NaN</td>\n",
       "    </tr>\n",
       "    <tr>\n",
       "      <th>QC done</th>\n",
       "      <td>parental toxicity</td>\n",
       "      <td>inhalation</td>\n",
       "      <td>reproductive, 2-generation</td>\n",
       "      <td>NaN</td>\n",
       "      <td>NaN</td>\n",
       "      <td>rat</td>\n",
       "      <td>NaN</td>\n",
       "      <td>NaN</td>\n",
       "      <td>NaN</td>\n",
       "      <td>NaN</td>\n",
       "      <td>300</td>\n",
       "      <td>ppm</td>\n",
       "      <td>NaN</td>\n",
       "      <td>NaN</td>\n",
       "      <td>NaN</td>\n",
       "      <td>NaN</td>\n",
       "      <td>NaN</td>\n",
       "      <td>NaN</td>\n",
       "    </tr>\n",
       "    <tr>\n",
       "      <th>QC done</th>\n",
       "      <td>not specified</td>\n",
       "      <td>dermal</td>\n",
       "      <td>subchronic</td>\n",
       "      <td>90</td>\n",
       "      <td>day</td>\n",
       "      <td>rabbit</td>\n",
       "      <td>NaN</td>\n",
       "      <td>NaN</td>\n",
       "      <td>NaN</td>\n",
       "      <td>NaN</td>\n",
       "      <td>1838</td>\n",
       "      <td>mg/kg</td>\n",
       "      <td>NaN</td>\n",
       "      <td>NaN</td>\n",
       "      <td>Not reported</td>\n",
       "      <td>NaN</td>\n",
       "      <td>NaN</td>\n",
       "      <td>NaN</td>\n",
       "    </tr>\n",
       "    <tr>\n",
       "      <th>QC done</th>\n",
       "      <td>not specified</td>\n",
       "      <td>inhalation</td>\n",
       "      <td>subchronic</td>\n",
       "      <td>90</td>\n",
       "      <td>day</td>\n",
       "      <td>rat</td>\n",
       "      <td>NaN</td>\n",
       "      <td>NaN</td>\n",
       "      <td>NaN</td>\n",
       "      <td>NaN</td>\n",
       "      <td>1000</td>\n",
       "      <td>ppm</td>\n",
       "      <td>NaN</td>\n",
       "      <td>NaN</td>\n",
       "      <td>Not reported</td>\n",
       "      <td>NaN</td>\n",
       "      <td>NaN</td>\n",
       "      <td>NaN</td>\n",
       "    </tr>\n",
       "    <tr>\n",
       "      <th>QC done</th>\n",
       "      <td>not specified</td>\n",
       "      <td>inhalation</td>\n",
       "      <td>subchronic</td>\n",
       "      <td>90</td>\n",
       "      <td>day</td>\n",
       "      <td>rabbit</td>\n",
       "      <td>NaN</td>\n",
       "      <td>NaN</td>\n",
       "      <td>NaN</td>\n",
       "      <td>NaN</td>\n",
       "      <td>1000</td>\n",
       "      <td>ppm</td>\n",
       "      <td>NaN</td>\n",
       "      <td>NaN</td>\n",
       "      <td>Not reported</td>\n",
       "      <td>NaN</td>\n",
       "      <td>NaN</td>\n",
       "      <td>NaN</td>\n",
       "    </tr>\n",
       "  </tbody>\n",
       "</table>\n",
       "</div>"
      ],
      "text/plain": [
       "        Critical Effect(s) (short-term or longer exposure) Route of Exposure  \\\n",
       "Status                                                                         \n",
       "QC done  maternal toxicity (central nervous system effe...        inhalation   \n",
       "QC done  maternal toxicity; no developmental effects ob...        inhalation   \n",
       "QC done                                  parental toxicity        inhalation   \n",
       "QC done                                      not specified            dermal   \n",
       "QC done                                      not specified        inhalation   \n",
       "QC done                                      not specified        inhalation   \n",
       "\n",
       "                         Study Type Study Duration Study Duration Units  \\\n",
       "Status                                                                    \n",
       "QC done               developmental            NaN                  NaN   \n",
       "QC done               developmental            NaN                  NaN   \n",
       "QC done  reproductive, 2-generation            NaN                  NaN   \n",
       "QC done                  subchronic             90                  day   \n",
       "QC done                  subchronic             90                  day   \n",
       "QC done                  subchronic             90                  day   \n",
       "\n",
       "        Species LOAEL/LOAEC LOAEL/LOAEC units LOEL/LOEC LOEL/LOEC units  \\\n",
       "Status                                                                    \n",
       "QC done     rat         NaN               NaN       NaN             NaN   \n",
       "QC done  rabbit         NaN               NaN       NaN             NaN   \n",
       "QC done     rat         NaN               NaN       NaN             NaN   \n",
       "QC done  rabbit         NaN               NaN       NaN             NaN   \n",
       "QC done     rat         NaN               NaN       NaN             NaN   \n",
       "QC done  rabbit         NaN               NaN       NaN             NaN   \n",
       "\n",
       "        NOAEL/NOAEC NOAEL/NOAEC units NOEL/NOEC NOEL/NOEC units  \\\n",
       "Status                                                            \n",
       "QC done        1500               ppm       NaN             NaN   \n",
       "QC done        1500               ppm       NaN             NaN   \n",
       "QC done         300               ppm       NaN             NaN   \n",
       "QC done        1838             mg/kg       NaN             NaN   \n",
       "QC done        1000               ppm       NaN             NaN   \n",
       "QC done        1000               ppm       NaN             NaN   \n",
       "\n",
       "                             Reference for Toxicity Study  POD Method  POD  \\\n",
       "Status                                                                       \n",
       "QC done  Hanley, T.R. et al., 1984. Teratologic evaluat...        NaN  NaN   \n",
       "QC done  Hanley, T.R. et al., 1984. Teratologic evaluat...        NaN  NaN   \n",
       "QC done                                                NaN        NaN  NaN   \n",
       "QC done                                       Not reported        NaN  NaN   \n",
       "QC done                                       Not reported        NaN  NaN   \n",
       "QC done                                       Not reported        NaN  NaN   \n",
       "\n",
       "        POD units  \n",
       "Status             \n",
       "QC done       NaN  \n",
       "QC done       NaN  \n",
       "QC done       NaN  \n",
       "QC done       NaN  \n",
       "QC done       NaN  \n",
       "QC done       NaN  "
      ]
     },
     "execution_count": 15,
     "metadata": {},
     "output_type": "execute_result"
    }
   ],
   "source": [
    "df[(df['Index'] == 3) & (df['dtxsid'] == 'DTXSID8024284')][['Critical Effect(s) (short-term or longer exposure)',\n",
    "       'Route of Exposure', 'Study Type', 'Study Duration',\n",
    "       'Study Duration Units', 'Species', 'LOAEL/LOAEC', 'LOAEL/LOAEC units',\n",
    "       'LOEL/LOEC', 'LOEL/LOEC units', 'NOAEL/NOAEC', 'NOAEL/NOAEC units',\n",
    "       'NOEL/NOEC', 'NOEL/NOEC units', 'Reference for Toxicity Study ',\n",
    "       'POD Method', 'POD', 'POD units', ]]"
   ]
  },
  {
   "cell_type": "code",
   "execution_count": 16,
   "id": "f055ac13-f382-43b6-bab4-c977c675319e",
   "metadata": {},
   "outputs": [],
   "source": [
    "#df.decision_context.value_counts().plot.barh()"
   ]
  },
  {
   "cell_type": "code",
   "execution_count": 17,
   "id": "5ecc662c-f1b6-415b-8e19-0b54e338819f",
   "metadata": {},
   "outputs": [
    {
     "data": {
      "text/plain": [
       "use_case\n",
       "regulatory_purpose    0.452229\n",
       "safety_assessment     0.433121\n",
       "NAMs                  0.063694\n",
       "technical_guidance    0.050955\n",
       "Name: proportion, dtype: float64"
      ]
     },
     "execution_count": 17,
     "metadata": {},
     "output_type": "execute_result"
    }
   ],
   "source": [
    "df.drop_duplicates(subset=['Index', 'use_case'])['use_case'].value_counts(dropna = False, normalize = True)"
   ]
  },
  {
   "cell_type": "code",
   "execution_count": 18,
   "id": "e24adc5c-0f1f-41ef-bbef-d39a3848eb70",
   "metadata": {},
   "outputs": [
    {
     "data": {
      "image/png": "[encoded data removed]",
      "text/plain": [
       "<Figure size 640x480 with 1 Axes>"
      ]
     },
     "metadata": {},
     "output_type": "display_data"
    }
   ],
   "source": [
    "df.drop_duplicates(subset=['Index', 'use_case'])['use_case'].value_counts(dropna = False).plot.barh();\n"
   ]
  },
  {
   "cell_type": "code",
   "execution_count": 19,
   "id": "8e64a01a-985f-4865-a98d-89b60970aaae",
   "metadata": {},
   "outputs": [],
   "source": [
    "source_dict = {k: v for k,v in zip(df['Source'].unique(),df['Source'].unique())}"
   ]
  },
  {
   "cell_type": "code",
   "execution_count": 20,
   "id": "0de292a9-a44c-4dd9-b1cf-1d964052066f",
   "metadata": {},
   "outputs": [],
   "source": [
    "#source_dict"
   ]
  },
  {
   "cell_type": "code",
   "execution_count": 21,
   "id": "9faf1c48-4d97-4704-ba97-7fdb0ec11e34",
   "metadata": {},
   "outputs": [],
   "source": [
    "source_dict = {'OECD IATA case study': 'OECD IATA case study',\n",
    " 'Journal article': 'journal_article',\n",
    " 'OECD IATA case study; Journal article (https://doi.org/10.1016/j.comtox.2017.02.005)': 'OECD IATA case study',\n",
    " 'OECD IATA case study; Journal article (https://doi.org/10.1016/j.comtox.2018.05.001)': 'OECD IATA case study',\n",
    " 'OECD IATA case study; Journal article (https://doi.org/10.1016/j.comtox.2017.02.002)': 'OECD IATA case study',\n",
    " 'US EPA PPRTV': 'US EPA PPRTV',\n",
    " 'OECD IATA case study; Journal article (https://doi.org/10.1016/j.yrtph.2014.10.011)': 'OECD IATA case study',\n",
    " 'OECD IATA case study (developed by EU ToxRisk project [BIAC])': 'OECD IATA case study',\n",
    " 'OECD SIDS': 'OECD SIDS',\n",
    " 'Health Canada screening assessment for the Challenge': 'Health Canada case study',\n",
    " 'ECETOC case study': 'ECETOC case study',\n",
    " 'RIFM; Journal article (https://doi.org/10.1016/j.fct.2022.112897)': 'journal_article',\n",
    " 'RIFM; Journal article (http://dx.doi.org/10.1016/j.fct.2015.09.006)': 'journal_article',\n",
    " 'RIFM; Journal article (http://dx.doi.org/10.1016/j.fct.2016.07.028)': 'journal_article',\n",
    " 'RIFM; Journal article (https://doi.org/10.1016/j.fct.2022.113125)': 'journal_article',\n",
    " 'RIFM; Journal article (http://dx.doi.org/10.1016/j.fct.2015.09.014)': 'journal_article',\n",
    " 'RIFM; Journal article (http://dx.doi.org/10.1016/j.fct.2015.12.014)': 'journal_article',\n",
    " 'RIFM; Journal article (http://dx.doi.org/10.1016/j.fct.2015.12.015)': 'journal_article',\n",
    " 'RIFM; Journal article (http://dx.doi.org/10.1016/j.fct.2016.04.002)': 'journal_article',\n",
    " 'RIFM; Journal article (http://dx.doi.org/10.1016/j.fct.2016.07.029)': 'journal_article',\n",
    " 'RIFM; Journal article (https://doi.org/10.1016/j.fct.2022.113031)': 'journal_article',\n",
    " 'RIFM; Journal article (https://doi.org/10.1016/j.fct.2016.09.022)': 'journal_article',\n",
    " 'RIFM; Journal article (https://doi.org/10.1016/j.fct.2022.113265)': 'journal_article',\n",
    " 'RIFM; Journal article (http://dx.doi.org/10.1016/j.fct.2016.09.023)': 'journal_article',\n",
    " 'RIFM; Journal article (https://doi.org/10.1016/j.fct.2022.113459)': 'journal_article',\n",
    " 'RIFM; Journal article (http://dx.doi.org/10.1016/j.fct.2016.10.029)': 'journal_article',\n",
    " 'RIFM; Journal article (https://doi.org/10.1016/j.fct.2019.110716)': 'journal_article',\n",
    " 'RIFM; Journal article (https://doi.org/10.1016/j.fct.2019.111002)': 'journal_article',\n",
    " 'RIFM; Journal article (https://doi.org/10.1016/j.fct.2022.113117)': 'journal_article',\n",
    " 'RIFM; Journal article (https://doi.org/10.1016/j.fct.2020.111338)': 'journal_article',\n",
    " 'RIFM; Journal article (https://doi.org/10.1016/j.fct.2020.111337)': 'journal_article',\n",
    " 'RIFM; Journal article (https://doi.org/10.1016/j.fct.2020.111465)': 'journal_article',\n",
    " 'RIFM; Journal article (https://doi.org/10.1016/j.fct.2020.111456)': 'journal_article',\n",
    " 'RIFM; Journal article (https://doi.org/10.1016/j.fct.2020.111470)': 'journal_article',\n",
    " 'RIFM; Journal article (https://doi.org/10.1016/j.fct.2020.111640)': 'journal_article',\n",
    " 'RIFM; Journal article (https://doi.org/10.1016/j.fct.2020.111696)': 'journal_article',\n",
    " 'RIFM; Journal article (https://doi.org/10.1016/j.fct.2020.111730)': 'journal_article',\n",
    " 'RIFM; Journal article (https://doi.org/10.1016/j.fct.2020.111735)': 'journal_article',\n",
    " 'RIFM; Journal article (https://doi.org/10.1016/j.fct.2020.111759)': 'journal_article',\n",
    " 'RIFM; Journal article (https://doi.org/10.1016/j.fct.2020.111871)': 'journal_article',\n",
    " 'RIFM; Journal article (https://doi.org/10.1016/j.fct.2020.111868)': 'journal_article',\n",
    " 'RIFM; Journal article (https://doi.org/10.1016/j.fct.2021.111989)': 'journal_article',\n",
    " 'RIFM; Journal article (https://doi.org/10.1016/j.fct.2021.112174)': 'journal_article',\n",
    " 'RIFM; Journal article (https://doi.org/10.1016/j.fct.2021.112181)': 'journal_article',\n",
    " 'RIFM; Journal article (https://doi.org/10.1016/j.fct.2021.112360)': 'journal_article',\n",
    " 'RIFM; Journal article (https://doi.org/10.1016/j.fct.2021.112458)': 'journal_article',\n",
    " 'RIFM; Journal article (https://doi.org/10.1016/j.fct.2021.112453)': 'journal_article',\n",
    " 'RIFM; Journal article (https://doi.org/10.1016/j.fct.2021.112711)': 'journal_article',\n",
    " 'RIFM; Journal article (https://doi.org/10.1016/j.fct.2022.112870)': 'journal_article',\n",
    " 'RIFM; Journal article (https://doi.org/10.1016/j.fct.2022.112876)': 'journal_article',\n",
    " 'RIFM; Journal article (https://doi.org/10.1016/j.fct.2022.113408)': 'journal_article',\n",
    " 'Journal article (https://doi.org/10.3109/10408444.2011.623149)': 'journal_article',\n",
    " 'Journal article (http://dx.doi.org/10.1016/j.yrtph.2012.02.006)': 'journal_article',\n",
    " 'Journal article (https://doi.org/10.1080/10408440600894914)': 'journal_article',\n",
    " 'Journal article (10.1016/j.yrtph.2009.09.006 )': 'journal_article',\n",
    " 'Journal article (doi: 10.1016/j.yrtph.2011.03.002)': 'journal_article',\n",
    " 'Journal article (10.2131/jts.37.503)': 'journal_article',\n",
    " 'Journal article (10.3109/10408444.2013.792328)': 'journal_article',\n",
    " 'Journal article (10.1007/s00204-016-1752-5)': 'journal_article',\n",
    " 'Journal article (10.1016/j.fct.2018.06.028)': 'journal_article',\n",
    " 'Journal article (10.1080/01480545.2019.1650061)': 'journal_article',\n",
    " 'Journal article (10.1016/j.yrtph.2022.105161)': 'journal_article',\n",
    " 'Journal article (10.1093/toxsci/kfac139 )': 'journal_article',\n",
    " 'Journal article (10.1016/j.yrtph.2022.105181)': 'journal_article',\n",
    " 'Journal article (10.1016/j.yrtph.2020.104855)': 'journal_article'}"
   ]
  },
  {
   "cell_type": "code",
   "execution_count": 22,
   "id": "2e7e743b-316b-4175-94ce-4f50e8b7efe8",
   "metadata": {},
   "outputs": [],
   "source": [
    "df =(df\n",
    " .assign(source = lambda df: df['Source'].replace(source_dict))\n",
    ")"
   ]
  },
  {
   "cell_type": "code",
   "execution_count": 23,
   "id": "e71524b1-dffb-4044-82a2-5dbeff23d84a",
   "metadata": {},
   "outputs": [
    {
     "data": {
      "text/plain": [
       "<Axes: ylabel='source'>"
      ]
     },
     "execution_count": 23,
     "metadata": {},
     "output_type": "execute_result"
    },
    {
     "data": {
      "image/png": "[encoded data removed]",
      "text/plain": [
       "<Figure size 640x480 with 1 Axes>"
      ]
     },
     "metadata": {},
     "output_type": "display_data"
    }
   ],
   "source": [
    "df.drop_duplicates(subset=['Index', 'source'])['source'].value_counts(dropna = False).plot.barh()"
   ]
  },
  {
   "cell_type": "code",
   "execution_count": 24,
   "id": "bc8e0d13-79c2-4c56-a392-e548a6a3f96c",
   "metadata": {},
   "outputs": [
    {
     "data": {
      "text/plain": [
       "source\n",
       "journal_article             0.424242\n",
       "NaN                         0.202020\n",
       "OECD SIDS                   0.161616\n",
       "US EPA PPRTV                0.126263\n",
       "OECD IATA case study        0.065657\n",
       "Health Canada case study    0.010101\n",
       "ECETOC case study           0.010101\n",
       "Name: proportion, dtype: float64"
      ]
     },
     "execution_count": 24,
     "metadata": {},
     "output_type": "execute_result"
    }
   ],
   "source": [
    "df.drop_duplicates(subset=['Index', 'source'])['source'].value_counts(dropna = False, normalize = True)"
   ]
  },
  {
   "cell_type": "code",
   "execution_count": 25,
   "id": "7096c592-00e1-4820-89a1-91260356736d",
   "metadata": {},
   "outputs": [
    {
     "data": {
      "text/plain": [
       "source\n",
       "journal_article             84\n",
       "NaN                         40\n",
       "OECD SIDS                   32\n",
       "US EPA PPRTV                25\n",
       "OECD IATA case study        13\n",
       "Health Canada case study     2\n",
       "ECETOC case study            2\n",
       "Name: count, dtype: int64"
      ]
     },
     "execution_count": 25,
     "metadata": {},
     "output_type": "execute_result"
    }
   ],
   "source": [
    "df.drop_duplicates(subset=['Index', 'source'])['source'].value_counts(dropna = False)"
   ]
  },
  {
   "cell_type": "code",
   "execution_count": 26,
   "id": "404d548b-b1fa-43ee-8eae-173683bc7b7a",
   "metadata": {},
   "outputs": [
    {
     "data": {
      "text/plain": [
       "Approach\n",
       "Analogue             0.573248\n",
       "Category             0.388535\n",
       "Category/Analogue    0.038217\n",
       "Name: proportion, dtype: float64"
      ]
     },
     "execution_count": 26,
     "metadata": {},
     "output_type": "execute_result"
    }
   ],
   "source": [
    "#df['Approach \\n(Analogue or Category)']\n",
    "df.drop_duplicates(subset=['Index', 'Approach'])['Approach'].value_counts(dropna = False, normalize = True)"
   ]
  },
  {
   "cell_type": "code",
   "execution_count": 27,
   "id": "61fa5151-f691-4db7-b30a-63241679304f",
   "metadata": {},
   "outputs": [],
   "source": [
    "#df.groupby(['source'])['Approach'].value_counts(normalize = True).reset_index()"
   ]
  },
  {
   "cell_type": "markdown",
   "id": "3d9558ec-8099-49d5-9a29-9497685f1b44",
   "metadata": {},
   "source": [
    "|Source  | Approach | Proportion of cases|\n",
    "|:-:|:-:|:-:|\n",
    "|ECETOC case study |       Category |                            1.000000|\n",
    "|Health Canada case study | Analogue   |                          1.000000|\n",
    "|Journal article       |    Category     |                        0.629870|\n",
    " |                         |Analogue                    |         0.37|\n",
    "|OECD IATA case study|      Category      |                       0.989418|\n",
    " |                         |Analogue                         |    0.010582|\n",
    "|OECD SIDS  |               Category         |                    0.836538|\n",
    "  |                      |  Category/Analogue       |            0.163462|\n",
    "|US EPA PPRTV      |        Analogue          |                   1.000000|"
   ]
  },
  {
   "cell_type": "markdown",
   "id": "cf049b5b-bbf2-49f6-912d-0189ae8604da",
   "metadata": {},
   "source": [
    "If we look at the approaches with respect to the source - all of the EPA PPRTV cases rely on an analogue approaches, whereas in general over 80% of all the OECD IATA case studies, SIDS dossiers relied on a category approach. Journal articles favoured a category approach (63%) but there was a reasonable proportion of analogue cases (37%)."
   ]
  },
  {
   "cell_type": "code",
   "execution_count": 28,
   "id": "a26f9d0c-045c-402d-b275-b84bf2c6ed24",
   "metadata": {},
   "outputs": [
    {
     "data": {
      "text/plain": [
       "695"
      ]
     },
     "execution_count": 28,
     "metadata": {},
     "output_type": "execute_result"
    }
   ],
   "source": [
    "df.dtxsid.nunique()"
   ]
  },
  {
   "cell_type": "code",
   "execution_count": 29,
   "id": "539ad735-6cdd-42a6-8fe4-2cd621f1aa8d",
   "metadata": {},
   "outputs": [
    {
     "data": {
      "text/plain": [
       "661"
      ]
     },
     "execution_count": 29,
     "metadata": {},
     "output_type": "execute_result"
    }
   ],
   "source": [
    "df.SMILES.nunique()"
   ]
  },
  {
   "cell_type": "code",
   "execution_count": 30,
   "id": "0c2de934-f861-42be-b9f5-68e9ae905c34",
   "metadata": {},
   "outputs": [
    {
     "data": {
      "text/plain": [
       "15"
      ]
     },
     "execution_count": 30,
     "metadata": {},
     "output_type": "execute_result"
    }
   ],
   "source": [
    "df[df['SMILES'].isnull()]['Index'].nunique()"
   ]
  },
  {
   "cell_type": "code",
   "execution_count": 31,
   "id": "506392aa-bd82-4e37-b0c8-bcf39de18f99",
   "metadata": {},
   "outputs": [
    {
     "data": {
      "text/plain": [
       "Year of Assessment\n",
       "2012.0    120\n",
       "2017.0    116\n",
       "2020.0     96\n",
       "2011.0     79\n",
       "2016.0     79\n",
       "2014.0     66\n",
       "2021.0     57\n",
       "2010.0     52\n",
       "2013.0     50\n",
       "2006.0     49\n",
       "2009.0     47\n",
       "2018.0     46\n",
       "2019.0     21\n",
       "2022.0     18\n",
       "2015.0     15\n",
       "2004.0     11\n",
       "2008.0      9\n",
       "2005.0      5\n",
       "2023.0      3\n",
       "Name: count, dtype: int64"
      ]
     },
     "execution_count": 31,
     "metadata": {},
     "output_type": "execute_result"
    }
   ],
   "source": [
    "(df['Year of Assessment'].value_counts())"
   ]
  },
  {
   "cell_type": "code",
   "execution_count": 42,
   "id": "d57d5a73-c0f7-47f6-b657-2175e0081837",
   "metadata": {},
   "outputs": [
    {
     "data": {
      "text/plain": [
       "Index(['Index', 'Substance Name in Assessment',\n",
       "       'Substance Number in Assessment', 'substance_role',\n",
       "       'Read-Across Assessment Title', 'Year of Assessment',\n",
       "       'Link to Assessment', 'Source', 'decision_context', 'Approach',\n",
       "       'dtxsid', 'Preferred Name', 'CASRN', 'IUPAC_NAME', 'SMILES',\n",
       "       'QSAR Ready SMILES', 'Analogue Role (specific for PPRTV assessments)',\n",
       "       'Critical Effect(s) (short-term or longer exposure)',\n",
       "       'Route of Exposure', 'Study Type', 'Study Duration',\n",
       "       'Study Duration Units', 'Species', 'LOAEL/LOAEC', 'LOAEL/LOAEC units',\n",
       "       'LOEL/LOEC', 'LOEL/LOEC units', 'NOAEL/NOAEC', 'NOAEL/NOAEC units',\n",
       "       'NOEL/NOEC', 'NOEL/NOEC units', 'Reference for Toxicity Study ',\n",
       "       'POD Method', 'POD', 'POD units', 'RfC/p-RfC Toxicity Type',\n",
       "       'RfC/p-RfC Value', 'RfC/p-RfC units', 'RfD/p-RfD Toxicity Type',\n",
       "       'RfD/p-RfD Value', 'RfD/p-RfD units', 'Other Toxicity Value Type',\n",
       "       'Other Toxicity Value', 'Other Toxicity Value units',\n",
       "       'Citation for  Toxicity Value', 'Predicted Toxicity Type',\n",
       "       'Toxicological Endpoint Predicted by Read-Across',\n",
       "       'Predicted Endpoint Value', 'Predicted Endpoint Value Units',\n",
       "       'Method or Calculation Used to Derive Target Chemical Endpoint Value',\n",
       "       'Authors' Rationale for Choosing the Analogues/Category Justification',\n",
       "       'analogue_evidence_stream', 'use_case', 'source'],\n",
       "      dtype='object')"
      ]
     },
     "execution_count": 42,
     "metadata": {},
     "output_type": "execute_result"
    }
   ],
   "source": [
    "df.columns"
   ]
  },
  {
   "cell_type": "code",
   "execution_count": 43,
   "id": "a3ea9683-915d-49ac-8565-0d22aae76dce",
   "metadata": {},
   "outputs": [],
   "source": [
    "df2 = (df\n",
    "       .assign(\n",
    "        year_of_assessment=lambda df: pd.to_datetime(\n",
    "            df[\"Year of Assessment\"],  # Only convert non-missing values\n",
    "            format='%Y',\n",
    "            errors='coerce'  # Coerce invalid conversions to NaT\n",
    "        ))\n",
    "  .filter(['Index','Year of Assessment', 'year_of_assessment','Read-Across Assessment Title', 'Year of Assessment',\n",
    "       'Link to Assessment', 'Source', 'decision_context', 'Approach',\n",
    "       'dtxsid', 'Preferred Name', ])\n",
    "      )\n"
   ]
  },
  {
   "cell_type": "code",
   "execution_count": 50,
   "id": "60542f15-e55c-4889-a2a8-71935274450f",
   "metadata": {},
   "outputs": [],
   "source": [
    "#df2[df2['year_of_assessment'] =='2011-01-01']"
   ]
  },
  {
   "cell_type": "code",
   "execution_count": 57,
   "id": "b35f5158-1b5b-4153-8369-f0b5561dcbc1",
   "metadata": {},
   "outputs": [
    {
     "data": {
      "text/plain": [
       "array(['RIFM; Journal article (https://doi.org/10.1016/j.fct.2022.112897)',\n",
       "       'RIFM; Journal article (https://doi.org/10.1016/j.fct.2022.113125)',\n",
       "       'RIFM; Journal article (https://doi.org/10.1016/j.fct.2022.113031)',\n",
       "       'RIFM; Journal article (https://doi.org/10.1016/j.fct.2022.113265)',\n",
       "       'RIFM; Journal article (https://doi.org/10.1016/j.fct.2022.113459)',\n",
       "       'RIFM; Journal article (https://doi.org/10.1016/j.fct.2022.113117)',\n",
       "       'RIFM; Journal article (https://doi.org/10.1016/j.fct.2021.112711)',\n",
       "       'RIFM; Journal article (https://doi.org/10.1016/j.fct.2022.112870)',\n",
       "       'RIFM; Journal article (https://doi.org/10.1016/j.fct.2022.112876)',\n",
       "       'RIFM; Journal article (https://doi.org/10.1016/j.fct.2022.113408)',\n",
       "       'Journal article (10.1016/j.yrtph.2022.105161)',\n",
       "       'Journal article (10.1016/j.yrtph.2022.105181)'], dtype=object)"
      ]
     },
     "execution_count": 57,
     "metadata": {},
     "output_type": "execute_result"
    }
   ],
   "source": [
    "(df2\n",
    " .query(\"year_of_assessment.dt.year  == 2022\")\n",
    " .Source.unique()\n",
    ")"
   ]
  },
  {
   "cell_type": "code",
   "execution_count": 40,
   "id": "2e8de638-5bc5-48c9-bb53-3bc66b277785",
   "metadata": {},
   "outputs": [
    {
     "data": {
      "image/png": "[encoded data removed]",
      "text/plain": [
       "<Figure size 640x480 with 1 Axes>"
      ]
     },
     "metadata": {},
     "output_type": "display_data"
    }
   ],
   "source": [
    "#| label: fig-year\n",
    "#| fig-cap: \"Number of unique cases per year\"\n",
    "\n",
    "df2.groupby(\"year_of_assessment\")[\"Index\"].nunique().plot(kind ='line')\n",
    "plt.xlabel('Year of Assessment')\n",
    "plt.ylabel('Number of unique cases');"
   ]
  },
  {
   "cell_type": "code",
   "execution_count": 41,
   "id": "6235896e-e20b-44fd-a6fc-5b10afc6e062",
   "metadata": {},
   "outputs": [
    {
     "data": {
      "text/plain": [
       "year_of_assessment\n",
       "2004-01-01     1\n",
       "2005-01-01     1\n",
       "2006-01-01     6\n",
       "2008-01-01     1\n",
       "2009-01-01     8\n",
       "2010-01-01    13\n",
       "2011-01-01    17\n",
       "2012-01-01    14\n",
       "2013-01-01     5\n",
       "2014-01-01     9\n",
       "2015-01-01     4\n",
       "2016-01-01    13\n",
       "2017-01-01    12\n",
       "2018-01-01     2\n",
       "2019-01-01     4\n",
       "2020-01-01    21\n",
       "2021-01-01    13\n",
       "2022-01-01    12\n",
       "2023-01-01     1\n",
       "Name: Index, dtype: int64"
      ]
     },
     "execution_count": 41,
     "metadata": {},
     "output_type": "execute_result"
    }
   ],
   "source": [
    "df2groupby(\"year_of_assessment\")[\"Index\"].nunique()"
   ]
  },
  {
   "cell_type": "code",
   "execution_count": 82,
   "id": "6d3e4230-a756-4e57-b849-93d554e578b3",
   "metadata": {},
   "outputs": [],
   "source": [
    "#df[df['SMILES'].isnull()].head()#[\"Source (e.g. OECD IATA case study,  U.S. EPA PPRTV, journal article, primary author, etc.)\"].unique()"
   ]
  },
  {
   "cell_type": "code",
   "execution_count": 40,
   "id": "3b133d43-6965-42ed-917f-a04100c81840",
   "metadata": {},
   "outputs": [],
   "source": [
    "#df[df['SMILES'].isnull()]"
   ]
  },
  {
   "cell_type": "code",
   "execution_count": 61,
   "id": "24ead4f1-a911-4922-b685-122751dd9d20",
   "metadata": {},
   "outputs": [],
   "source": [
    "df1 = (\n",
    "    df.reset_index()\n",
    "      .groupby('Index', group_keys=False)\n",
    "      .apply(lambda group: group.drop_duplicates(subset=['dtxsid']),include_groups=False)\n",
    "      .filter(['Index',\n",
    "               'Substance Name in Assessment',\n",
    "               'substance_role',\n",
    "               'Approach',\n",
    "               'dtxsid',\n",
    "               'Preferred Name',\n",
    "               'CASRN',\n",
    "               'SMILES',\n",
    "               'QSAR Ready SMILES',\n",
    "               'analogue_evidence_stream',\n",
    "               'use_case',\n",
    "               'source'])\n",
    ")"
   ]
  },
  {
   "cell_type": "code",
   "execution_count": 97,
   "id": "b97ae796-d6b3-4290-bdba-3446cd7287d2",
   "metadata": {},
   "outputs": [
    {
     "data": {
      "text/html": [
       "<div>\n",
       "<style scoped>\n",
       "    .dataframe tbody tr th:only-of-type {\n",
       "        vertical-align: middle;\n",
       "    }\n",
       "\n",
       "    .dataframe tbody tr th {\n",
       "        vertical-align: top;\n",
       "    }\n",
       "\n",
       "    .dataframe thead th {\n",
       "        text-align: right;\n",
       "    }\n",
       "</style>\n",
       "<table border=\"1\" class=\"dataframe\">\n",
       "  <thead>\n",
       "    <tr style=\"text-align: right;\">\n",
       "      <th></th>\n",
       "      <th>Substance Name in Assessment</th>\n",
       "      <th>substance_role</th>\n",
       "      <th>Approach</th>\n",
       "      <th>dtxsid</th>\n",
       "      <th>Preferred Name</th>\n",
       "      <th>CASRN</th>\n",
       "      <th>SMILES</th>\n",
       "      <th>QSAR Ready SMILES</th>\n",
       "      <th>analogue_evidence_stream</th>\n",
       "      <th>use_case</th>\n",
       "      <th>source</th>\n",
       "    </tr>\n",
       "  </thead>\n",
       "  <tbody>\n",
       "    <tr>\n",
       "      <th>0</th>\n",
       "      <td>Chlorobenzene</td>\n",
       "      <td>Target</td>\n",
       "      <td>Category</td>\n",
       "      <td>DTXSID4020298</td>\n",
       "      <td>Chlorobenzene</td>\n",
       "      <td>108-90-7</td>\n",
       "      <td>ClC1=CC=CC=C1</td>\n",
       "      <td>ClC1=CC=CC=C1</td>\n",
       "      <td>Structural_ChemMine-tools_MCS-Tanimoto | Physc...</td>\n",
       "      <td>technical_guidance</td>\n",
       "      <td>OECD IATA case study</td>\n",
       "    </tr>\n",
       "    <tr>\n",
       "      <th>1</th>\n",
       "      <td>1,4-Dichlorobenzene</td>\n",
       "      <td>Target</td>\n",
       "      <td>Category</td>\n",
       "      <td>DTXSID1020431</td>\n",
       "      <td>1,4-Dichlorobenzene</td>\n",
       "      <td>106-46-7</td>\n",
       "      <td>ClC1=CC=C(Cl)C=C1</td>\n",
       "      <td>ClC1=CC=C(Cl)C=C1</td>\n",
       "      <td>Structural_ChemMine-tools_MCS-Tanimoto | Physc...</td>\n",
       "      <td>technical_guidance</td>\n",
       "      <td>OECD IATA case study</td>\n",
       "    </tr>\n",
       "    <tr>\n",
       "      <th>2</th>\n",
       "      <td>1,2-Dichlorobenzene</td>\n",
       "      <td>Category member</td>\n",
       "      <td>Category</td>\n",
       "      <td>DTXSID6020430</td>\n",
       "      <td>1,2-Dichlorobenzene</td>\n",
       "      <td>95-50-1</td>\n",
       "      <td>ClC1=C(Cl)C=CC=C1</td>\n",
       "      <td>ClC1=C(Cl)C=CC=C1</td>\n",
       "      <td>Structural_ChemMine-tools_MCS-Tanimoto | Physc...</td>\n",
       "      <td>technical_guidance</td>\n",
       "      <td>OECD IATA case study</td>\n",
       "    </tr>\n",
       "    <tr>\n",
       "      <th>3</th>\n",
       "      <td>1,3-Dichlorobenzene</td>\n",
       "      <td>Target</td>\n",
       "      <td>Category</td>\n",
       "      <td>DTXSID6022056</td>\n",
       "      <td>1,3-Dichlorobenzene</td>\n",
       "      <td>541-73-1</td>\n",
       "      <td>ClC1=CC(Cl)=CC=C1</td>\n",
       "      <td>ClC1=CC(Cl)=CC=C1</td>\n",
       "      <td>Structural_ChemMine-tools_MCS-Tanimoto | Physc...</td>\n",
       "      <td>technical_guidance</td>\n",
       "      <td>OECD IATA case study</td>\n",
       "    </tr>\n",
       "    <tr>\n",
       "      <th>4</th>\n",
       "      <td>1,2,4-Trichlorobenzene</td>\n",
       "      <td>Source Analogue</td>\n",
       "      <td>Category</td>\n",
       "      <td>DTXSID0021965</td>\n",
       "      <td>1,2,4-Trichlorobenzene</td>\n",
       "      <td>120-82-1</td>\n",
       "      <td>ClC1=CC(Cl)=C(Cl)C=C1</td>\n",
       "      <td>ClC1=CC(Cl)=C(Cl)C=C1</td>\n",
       "      <td>Structural_ChemMine-tools_MCS-Tanimoto | Physc...</td>\n",
       "      <td>technical_guidance</td>\n",
       "      <td>OECD IATA case study</td>\n",
       "    </tr>\n",
       "    <tr>\n",
       "      <th>...</th>\n",
       "      <td>...</td>\n",
       "      <td>...</td>\n",
       "      <td>...</td>\n",
       "      <td>...</td>\n",
       "      <td>...</td>\n",
       "      <td>...</td>\n",
       "      <td>...</td>\n",
       "      <td>...</td>\n",
       "      <td>...</td>\n",
       "      <td>...</td>\n",
       "      <td>...</td>\n",
       "    </tr>\n",
       "    <tr>\n",
       "      <th>1014</th>\n",
       "      <td>Propiconazole</td>\n",
       "      <td>Category member</td>\n",
       "      <td>Category</td>\n",
       "      <td>DTXSID8024280</td>\n",
       "      <td>Propiconazole</td>\n",
       "      <td>60207-90-1</td>\n",
       "      <td>CCCC1COC(CN2C=NC=N2)(O1)C1=C(Cl)C=C(Cl)C=C1</td>\n",
       "      <td>CCCC1COC(CN2C=NC=N2)(O1)C1=C(Cl)C=C(Cl)C=C1</td>\n",
       "      <td>Structural_similar-scaffold_common-functional-...</td>\n",
       "      <td>NAMs</td>\n",
       "      <td>journal_article</td>\n",
       "    </tr>\n",
       "    <tr>\n",
       "      <th>1015</th>\n",
       "      <td>Prothioconazole</td>\n",
       "      <td>Category member</td>\n",
       "      <td>Category</td>\n",
       "      <td>DTXSID4034869</td>\n",
       "      <td>Prothioconazole</td>\n",
       "      <td>178928-70-6</td>\n",
       "      <td>OC(CN1N=CNC1=S)(CC1=C(Cl)C=CC=C1)C1(Cl)CC1</td>\n",
       "      <td>OC(CN1N=CNC1=S)(CC1=C(Cl)C=CC=C1)C1(Cl)CC1</td>\n",
       "      <td>Structural_similar-scaffold_common-functional-...</td>\n",
       "      <td>NAMs</td>\n",
       "      <td>journal_article</td>\n",
       "    </tr>\n",
       "    <tr>\n",
       "      <th>1016</th>\n",
       "      <td>Tebuconazole</td>\n",
       "      <td>Category member</td>\n",
       "      <td>Category</td>\n",
       "      <td>DTXSID9032113</td>\n",
       "      <td>Tebuconazole</td>\n",
       "      <td>107534-96-3</td>\n",
       "      <td>CC(C)(C)C(O)(CCC1=CC=C(Cl)C=C1)CN1C=NC=N1</td>\n",
       "      <td>CC(C)(C)C(O)(CCC1=CC=C(Cl)C=C1)CN1C=NC=N1</td>\n",
       "      <td>Structural_similar-scaffold_common-functional-...</td>\n",
       "      <td>NAMs</td>\n",
       "      <td>journal_article</td>\n",
       "    </tr>\n",
       "    <tr>\n",
       "      <th>1017</th>\n",
       "      <td>Triadimenol</td>\n",
       "      <td>Category member</td>\n",
       "      <td>Category</td>\n",
       "      <td>DTXSID0032493</td>\n",
       "      <td>Triadimenol</td>\n",
       "      <td>55219-65-3</td>\n",
       "      <td>CC(C)(C)C(O)C(OC1=CC=C(Cl)C=C1)N1C=NC=N1</td>\n",
       "      <td>CC(C)(C)C(O)C(OC1=CC=C(Cl)C=C1)N1C=NC=N1</td>\n",
       "      <td>Structural_similar-scaffold_common-functional-...</td>\n",
       "      <td>NAMs</td>\n",
       "      <td>journal_article</td>\n",
       "    </tr>\n",
       "    <tr>\n",
       "      <th>1018</th>\n",
       "      <td>Triadimefon</td>\n",
       "      <td>Category member</td>\n",
       "      <td>Category</td>\n",
       "      <td>DTXSID3023897</td>\n",
       "      <td>Triadimefon</td>\n",
       "      <td>43121-43-3</td>\n",
       "      <td>CC(C)(C)C(=O)C(OC1=CC=C(Cl)C=C1)N1C=NC=N1</td>\n",
       "      <td>CC(C)(C)C(=O)C(OC1=CC=C(Cl)C=C1)N1C=NC=N1</td>\n",
       "      <td>Structural_similar-scaffold_common-functional-...</td>\n",
       "      <td>NAMs</td>\n",
       "      <td>journal_article</td>\n",
       "    </tr>\n",
       "  </tbody>\n",
       "</table>\n",
       "<p>797 rows × 11 columns</p>\n",
       "</div>"
      ],
      "text/plain": [
       "     Substance Name in Assessment   substance_role  Approach         dtxsid  \\\n",
       "0                   Chlorobenzene           Target  Category  DTXSID4020298   \n",
       "1             1,4-Dichlorobenzene           Target  Category  DTXSID1020431   \n",
       "2             1,2-Dichlorobenzene  Category member  Category  DTXSID6020430   \n",
       "3             1,3-Dichlorobenzene           Target  Category  DTXSID6022056   \n",
       "4          1,2,4-Trichlorobenzene  Source Analogue  Category  DTXSID0021965   \n",
       "...                           ...              ...       ...            ...   \n",
       "1014                Propiconazole  Category member  Category  DTXSID8024280   \n",
       "1015              Prothioconazole  Category member  Category  DTXSID4034869   \n",
       "1016                 Tebuconazole  Category member  Category  DTXSID9032113   \n",
       "1017                  Triadimenol  Category member  Category  DTXSID0032493   \n",
       "1018                  Triadimefon  Category member  Category  DTXSID3023897   \n",
       "\n",
       "              Preferred Name        CASRN  \\\n",
       "0              Chlorobenzene     108-90-7   \n",
       "1        1,4-Dichlorobenzene     106-46-7   \n",
       "2        1,2-Dichlorobenzene      95-50-1   \n",
       "3        1,3-Dichlorobenzene     541-73-1   \n",
       "4     1,2,4-Trichlorobenzene     120-82-1   \n",
       "...                      ...          ...   \n",
       "1014           Propiconazole   60207-90-1   \n",
       "1015         Prothioconazole  178928-70-6   \n",
       "1016            Tebuconazole  107534-96-3   \n",
       "1017             Triadimenol   55219-65-3   \n",
       "1018             Triadimefon   43121-43-3   \n",
       "\n",
       "                                           SMILES  \\\n",
       "0                                   ClC1=CC=CC=C1   \n",
       "1                               ClC1=CC=C(Cl)C=C1   \n",
       "2                               ClC1=C(Cl)C=CC=C1   \n",
       "3                               ClC1=CC(Cl)=CC=C1   \n",
       "4                           ClC1=CC(Cl)=C(Cl)C=C1   \n",
       "...                                           ...   \n",
       "1014  CCCC1COC(CN2C=NC=N2)(O1)C1=C(Cl)C=C(Cl)C=C1   \n",
       "1015   OC(CN1N=CNC1=S)(CC1=C(Cl)C=CC=C1)C1(Cl)CC1   \n",
       "1016    CC(C)(C)C(O)(CCC1=CC=C(Cl)C=C1)CN1C=NC=N1   \n",
       "1017     CC(C)(C)C(O)C(OC1=CC=C(Cl)C=C1)N1C=NC=N1   \n",
       "1018    CC(C)(C)C(=O)C(OC1=CC=C(Cl)C=C1)N1C=NC=N1   \n",
       "\n",
       "                                QSAR Ready SMILES  \\\n",
       "0                                   ClC1=CC=CC=C1   \n",
       "1                               ClC1=CC=C(Cl)C=C1   \n",
       "2                               ClC1=C(Cl)C=CC=C1   \n",
       "3                               ClC1=CC(Cl)=CC=C1   \n",
       "4                           ClC1=CC(Cl)=C(Cl)C=C1   \n",
       "...                                           ...   \n",
       "1014  CCCC1COC(CN2C=NC=N2)(O1)C1=C(Cl)C=C(Cl)C=C1   \n",
       "1015   OC(CN1N=CNC1=S)(CC1=C(Cl)C=CC=C1)C1(Cl)CC1   \n",
       "1016    CC(C)(C)C(O)(CCC1=CC=C(Cl)C=C1)CN1C=NC=N1   \n",
       "1017     CC(C)(C)C(O)C(OC1=CC=C(Cl)C=C1)N1C=NC=N1   \n",
       "1018    CC(C)(C)C(=O)C(OC1=CC=C(Cl)C=C1)N1C=NC=N1   \n",
       "\n",
       "                               analogue_evidence_stream            use_case  \\\n",
       "0     Structural_ChemMine-tools_MCS-Tanimoto | Physc...  technical_guidance   \n",
       "1     Structural_ChemMine-tools_MCS-Tanimoto | Physc...  technical_guidance   \n",
       "2     Structural_ChemMine-tools_MCS-Tanimoto | Physc...  technical_guidance   \n",
       "3     Structural_ChemMine-tools_MCS-Tanimoto | Physc...  technical_guidance   \n",
       "4     Structural_ChemMine-tools_MCS-Tanimoto | Physc...  technical_guidance   \n",
       "...                                                 ...                 ...   \n",
       "1014  Structural_similar-scaffold_common-functional-...                NAMs   \n",
       "1015  Structural_similar-scaffold_common-functional-...                NAMs   \n",
       "1016  Structural_similar-scaffold_common-functional-...                NAMs   \n",
       "1017  Structural_similar-scaffold_common-functional-...                NAMs   \n",
       "1018  Structural_similar-scaffold_common-functional-...                NAMs   \n",
       "\n",
       "                    source  \n",
       "0     OECD IATA case study  \n",
       "1     OECD IATA case study  \n",
       "2     OECD IATA case study  \n",
       "3     OECD IATA case study  \n",
       "4     OECD IATA case study  \n",
       "...                    ...  \n",
       "1014       journal_article  \n",
       "1015       journal_article  \n",
       "1016       journal_article  \n",
       "1017       journal_article  \n",
       "1018       journal_article  \n",
       "\n",
       "[797 rows x 11 columns]"
      ]
     },
     "execution_count": 97,
     "metadata": {},
     "output_type": "execute_result"
    }
   ],
   "source": [
    "df1"
   ]
  },
  {
   "cell_type": "code",
   "execution_count": 63,
   "id": "a980017f-d3c6-45ff-8a02-ed9a4abbbe47",
   "metadata": {},
   "outputs": [],
   "source": [
    "df1.to_csv(interim_dir/'icf_processed_220125.csv')\n",
    "\n"
   ]
  },
  {
   "cell_type": "code",
   "execution_count": 98,
   "id": "54fedbe2-a8e2-4049-93d5-aca5add9308d",
   "metadata": {},
   "outputs": [],
   "source": [
    "df2 = (df1\n",
    " .query('SMILES.notnull()')\n",
    ")"
   ]
  },
  {
   "cell_type": "markdown",
   "id": "5119cfd9-dbce-4449-bf75-24b5b7608afd",
   "metadata": {},
   "source": [
    "Explore chemical classes using the Classify ontology by Wishart"
   ]
  },
  {
   "cell_type": "code",
   "execution_count": 102,
   "id": "f2848f9f-4745-4143-bb4b-e968a85bac4f",
   "metadata": {},
   "outputs": [],
   "source": [
    "import json, requests\n",
    "import urllib.request"
   ]
  },
  {
   "cell_type": "code",
   "execution_count": 103,
   "id": "dadf59f6-f1d3-45b6-8a43-d036b2f78d0f",
   "metadata": {},
   "outputs": [],
   "source": [
    "def classify(dtx):\n",
    "    classify = f\"https://hazard-dev.sciencedataexperts.com/api/resolver/classyfire?query={dtx}\"\n",
    "    a = json.loads(urllib.request.urlopen(classify).read().decode())\n",
    "    return a['content']\n"
   ]
  },
  {
   "cell_type": "code",
   "execution_count": 105,
   "id": "dd782d26-804f-4b5c-b763-a0f7f4c9d03d",
   "metadata": {},
   "outputs": [
    {
     "name": "stdout",
     "output_type": "stream",
     "text": [
      "Pubchem_562248\n",
      "Pubchem_54176852\n",
      "Pubchem_102283662\n",
      "Pubchem_102283661\n",
      "Pubchem_102283665\n",
      "Pubchem_102283668\n",
      "Pubchem_162521585\n",
      "Nocas_2747537\n",
      "Pubchem_138190\n",
      "No_Dodecanoate_sorbitol\n",
      "No_Stearate_sorbitol\n"
     ]
    }
   ],
   "source": [
    "mychems = []\n",
    "for dtx in df2.dtxsid.tolist():\n",
    "    try:\n",
    "        a = classify(dtx)\n",
    "    except Exception as error:\n",
    "        print(f'{dtx}')\n",
    "    mychems.append(a)"
   ]
  },
  {
   "cell_type": "code",
   "execution_count": 107,
   "id": "95bab170-7244-4502-a88b-154845fe6bdf",
   "metadata": {},
   "outputs": [
    {
     "data": {
      "text/plain": [
       "763"
      ]
     },
     "execution_count": 107,
     "metadata": {},
     "output_type": "execute_result"
    }
   ],
   "source": [
    "len(mychems)"
   ]
  },
  {
   "cell_type": "code",
   "execution_count": 126,
   "id": "562220bf-4ca3-4b6d-b265-30a15d139ffa",
   "metadata": {},
   "outputs": [
    {
     "data": {
      "text/html": [
       "<div>\n",
       "<style scoped>\n",
       "    .dataframe tbody tr th:only-of-type {\n",
       "        vertical-align: middle;\n",
       "    }\n",
       "\n",
       "    .dataframe tbody tr th {\n",
       "        vertical-align: top;\n",
       "    }\n",
       "\n",
       "    .dataframe thead th {\n",
       "        text-align: right;\n",
       "    }\n",
       "</style>\n",
       "<table border=\"1\" class=\"dataframe\">\n",
       "  <thead>\n",
       "    <tr style=\"text-align: right;\">\n",
       "      <th></th>\n",
       "      <th>sid</th>\n",
       "      <th>smiles</th>\n",
       "      <th>kingdom</th>\n",
       "      <th>superklass</th>\n",
       "      <th>klass</th>\n",
       "      <th>subklass</th>\n",
       "      <th>directParent</th>\n",
       "      <th>geometricDescriptor</th>\n",
       "      <th>alternativeParents</th>\n",
       "      <th>substituents</th>\n",
       "    </tr>\n",
       "  </thead>\n",
       "  <tbody>\n",
       "    <tr>\n",
       "      <th>0</th>\n",
       "      <td>DTXSID3023897</td>\n",
       "      <td>CC(C)(C)C(=O)C(OC1=CC=C(Cl)C=C1)N1C=NC=N1</td>\n",
       "      <td>Organic compounds</td>\n",
       "      <td>Benzenoids</td>\n",
       "      <td>Phenol ethers</td>\n",
       "      <td>Phenol ethers</td>\n",
       "      <td>Phenol ethers</td>\n",
       "      <td>Aromatic heteromonocyclic compounds</td>\n",
       "      <td>[Aryl chlorides, Azacyclic compounds, Chlorobe...</td>\n",
       "      <td>[Phenol ether, Triazole, Monocyclic benzene mo...</td>\n",
       "    </tr>\n",
       "  </tbody>\n",
       "</table>\n",
       "</div>"
      ],
      "text/plain": [
       "             sid                                     smiles  \\\n",
       "0  DTXSID3023897  CC(C)(C)C(=O)C(OC1=CC=C(Cl)C=C1)N1C=NC=N1   \n",
       "\n",
       "             kingdom  superklass          klass       subklass   directParent  \\\n",
       "0  Organic compounds  Benzenoids  Phenol ethers  Phenol ethers  Phenol ethers   \n",
       "\n",
       "                   geometricDescriptor  \\\n",
       "0  Aromatic heteromonocyclic compounds   \n",
       "\n",
       "                                  alternativeParents  \\\n",
       "0  [Aryl chlorides, Azacyclic compounds, Chlorobe...   \n",
       "\n",
       "                                        substituents  \n",
       "0  [Phenol ether, Triazole, Monocyclic benzene mo...  "
      ]
     },
     "execution_count": 126,
     "metadata": {},
     "output_type": "execute_result"
    }
   ],
   "source": [
    "mylst[762]"
   ]
  },
  {
   "cell_type": "code",
   "execution_count": 149,
   "id": "98a66fcd-2804-404e-9b98-5f0ab0e7b2ff",
   "metadata": {},
   "outputs": [
    {
     "name": "stdout",
     "output_type": "stream",
     "text": [
      "Number of empty DataFrames: 12\n"
     ]
    }
   ],
   "source": [
    "empty_dfs = [e for e in mylst if e.empty]\n",
    "print(f\"Number of empty DataFrames: {len(empty_dfs)}\")"
   ]
  },
  {
   "cell_type": "code",
   "execution_count": 109,
   "id": "81a667c2-0042-4733-9f7f-b708e3a3d343",
   "metadata": {},
   "outputs": [],
   "source": [
    "mylst = []\n",
    "for i in range(len(mychems)):\n",
    "    mylst.append(pd.DataFrame(mychems[i]))"
   ]
  },
  {
   "cell_type": "code",
   "execution_count": 150,
   "id": "142be196-c891-4ef1-aadf-e7514963175c",
   "metadata": {},
   "outputs": [],
   "source": [
    "classify_df = pd.concat(mylst)"
   ]
  },
  {
   "cell_type": "code",
   "execution_count": 151,
   "id": "422de7e7-984e-42f1-ab84-b1164262930d",
   "metadata": {},
   "outputs": [
    {
     "data": {
      "text/plain": [
       "(751, 10)"
      ]
     },
     "execution_count": 151,
     "metadata": {},
     "output_type": "execute_result"
    }
   ],
   "source": [
    "classify_df.shape"
   ]
  },
  {
   "cell_type": "code",
   "execution_count": 154,
   "id": "9bcf93cd-1ddf-4be2-a4ac-2e937cf62dc2",
   "metadata": {},
   "outputs": [
    {
     "data": {
      "text/plain": [
       "['DTXSID4029062',\n",
       " 'DTXSID0027983',\n",
       " 'DTXSID30145493',\n",
       " 'Pubchem_562248',\n",
       " 'Pubchem_54176852',\n",
       " 'Pubchem_102283662',\n",
       " 'Pubchem_102283661',\n",
       " 'Pubchem_102283665',\n",
       " 'Pubchem_102283668',\n",
       " 'DTXSID50872815',\n",
       " 'DTXSID1042156',\n",
       " 'Pubchem_162521585',\n",
       " 'DTXSID2063553',\n",
       " 'Nocas_2747537',\n",
       " 'Pubchem_138190',\n",
       " 'DTXSID7067451',\n",
       " 'DTXSID8027820',\n",
       " 'DTXSID1041639',\n",
       " 'No_Dodecanoate_sorbitol',\n",
       " 'No_Stearate_sorbitol',\n",
       " 'DTXSID6047105 ',\n",
       " 'DTXSID0047038 ',\n",
       " 'DTXSID0027856',\n",
       " 'DTXSID7027837',\n",
       " 'DTXSID9027863']"
      ]
     },
     "execution_count": 154,
     "metadata": {},
     "output_type": "execute_result"
    }
   ],
   "source": [
    "[e for e  in df2.dtxsid.tolist() if e not in classify_df.sid.unique()]"
   ]
  },
  {
   "cell_type": "code",
   "execution_count": 157,
   "id": "449e3969-cda4-4ecd-b4b7-0522c20b23e1",
   "metadata": {},
   "outputs": [
    {
     "data": {
      "text/plain": [
       "638"
      ]
     },
     "execution_count": 157,
     "metadata": {},
     "output_type": "execute_result"
    }
   ],
   "source": [
    "classify_df.sid.nunique()"
   ]
  },
  {
   "cell_type": "code",
   "execution_count": 159,
   "id": "cc7b1387-b28c-4e06-a517-f84a88546a5d",
   "metadata": {},
   "outputs": [],
   "source": [
    "classify_df.to_csv(external_dir/'classify_jan25_icf_rax.csv')"
   ]
  },
  {
   "cell_type": "code",
   "execution_count": 92,
   "id": "765441a8-125c-4db0-aa05-be95c3807b47",
   "metadata": {},
   "outputs": [],
   "source": [
    "classify_df = pd.read_csv(external_dir/'classify_jan25_icf_rax.csv', index_col = [0])"
   ]
  },
  {
   "cell_type": "code",
   "execution_count": 94,
   "id": "05ebb6f1-7771-4758-8810-0f37a5debaad",
   "metadata": {},
   "outputs": [
    {
     "data": {
      "text/html": [
       "<div>\n",
       "<style scoped>\n",
       "    .dataframe tbody tr th:only-of-type {\n",
       "        vertical-align: middle;\n",
       "    }\n",
       "\n",
       "    .dataframe tbody tr th {\n",
       "        vertical-align: top;\n",
       "    }\n",
       "\n",
       "    .dataframe thead th {\n",
       "        text-align: right;\n",
       "    }\n",
       "</style>\n",
       "<table border=\"1\" class=\"dataframe\">\n",
       "  <thead>\n",
       "    <tr style=\"text-align: right;\">\n",
       "      <th></th>\n",
       "      <th>sid</th>\n",
       "      <th>smiles</th>\n",
       "      <th>kingdom</th>\n",
       "      <th>superklass</th>\n",
       "      <th>klass</th>\n",
       "      <th>subklass</th>\n",
       "      <th>directParent</th>\n",
       "      <th>geometricDescriptor</th>\n",
       "      <th>alternativeParents</th>\n",
       "      <th>substituents</th>\n",
       "    </tr>\n",
       "  </thead>\n",
       "  <tbody>\n",
       "    <tr>\n",
       "      <th>0</th>\n",
       "      <td>DTXSID4020298</td>\n",
       "      <td>ClC1=CC=CC=C1</td>\n",
       "      <td>Organic compounds</td>\n",
       "      <td>Benzenoids</td>\n",
       "      <td>Benzene and substituted derivatives</td>\n",
       "      <td>Halobenzenes</td>\n",
       "      <td>Chlorobenzenes</td>\n",
       "      <td>Aromatic homomonocyclic compounds</td>\n",
       "      <td>['Aryl chlorides', 'Hydrocarbon derivatives', ...</td>\n",
       "      <td>['Aryl chloride', 'Chlorobenzene', 'Aromatic h...</td>\n",
       "    </tr>\n",
       "    <tr>\n",
       "      <th>0</th>\n",
       "      <td>DTXSID1020431</td>\n",
       "      <td>ClC1=CC=C(Cl)C=C1</td>\n",
       "      <td>Organic compounds</td>\n",
       "      <td>Benzenoids</td>\n",
       "      <td>Benzene and substituted derivatives</td>\n",
       "      <td>Halobenzenes</td>\n",
       "      <td>Dichlorobenzenes</td>\n",
       "      <td>Aromatic homomonocyclic compounds</td>\n",
       "      <td>['Aryl chlorides', 'Hydrocarbon derivatives', ...</td>\n",
       "      <td>['Aryl chloride', 'Aromatic homomonocyclic com...</td>\n",
       "    </tr>\n",
       "    <tr>\n",
       "      <th>0</th>\n",
       "      <td>DTXSID6020430</td>\n",
       "      <td>ClC1=C(Cl)C=CC=C1</td>\n",
       "      <td>Organic compounds</td>\n",
       "      <td>Benzenoids</td>\n",
       "      <td>Benzene and substituted derivatives</td>\n",
       "      <td>Halobenzenes</td>\n",
       "      <td>Dichlorobenzenes</td>\n",
       "      <td>Aromatic homomonocyclic compounds</td>\n",
       "      <td>['Aryl chlorides', 'Hydrocarbon derivatives', ...</td>\n",
       "      <td>['Aryl chloride', 'Aromatic homomonocyclic com...</td>\n",
       "    </tr>\n",
       "    <tr>\n",
       "      <th>0</th>\n",
       "      <td>DTXSID6022056</td>\n",
       "      <td>ClC1=CC(Cl)=CC=C1</td>\n",
       "      <td>Organic compounds</td>\n",
       "      <td>Benzenoids</td>\n",
       "      <td>Benzene and substituted derivatives</td>\n",
       "      <td>Halobenzenes</td>\n",
       "      <td>Dichlorobenzenes</td>\n",
       "      <td>Aromatic homomonocyclic compounds</td>\n",
       "      <td>['Aryl chlorides', 'Hydrocarbon derivatives', ...</td>\n",
       "      <td>['Aryl chloride', 'Aromatic homomonocyclic com...</td>\n",
       "    </tr>\n",
       "    <tr>\n",
       "      <th>0</th>\n",
       "      <td>DTXSID0021965</td>\n",
       "      <td>ClC1=CC(Cl)=C(Cl)C=C1</td>\n",
       "      <td>Organic compounds</td>\n",
       "      <td>Benzenoids</td>\n",
       "      <td>Benzene and substituted derivatives</td>\n",
       "      <td>Halobenzenes</td>\n",
       "      <td>Chlorobenzenes</td>\n",
       "      <td>Aromatic homomonocyclic compounds</td>\n",
       "      <td>['Aryl chlorides', 'Hydrocarbon derivatives', ...</td>\n",
       "      <td>['Aryl chloride', 'Chlorobenzene', 'Aromatic h...</td>\n",
       "    </tr>\n",
       "  </tbody>\n",
       "</table>\n",
       "</div>"
      ],
      "text/plain": [
       "             sid                 smiles            kingdom  superklass  \\\n",
       "0  DTXSID4020298          ClC1=CC=CC=C1  Organic compounds  Benzenoids   \n",
       "0  DTXSID1020431      ClC1=CC=C(Cl)C=C1  Organic compounds  Benzenoids   \n",
       "0  DTXSID6020430      ClC1=C(Cl)C=CC=C1  Organic compounds  Benzenoids   \n",
       "0  DTXSID6022056      ClC1=CC(Cl)=CC=C1  Organic compounds  Benzenoids   \n",
       "0  DTXSID0021965  ClC1=CC(Cl)=C(Cl)C=C1  Organic compounds  Benzenoids   \n",
       "\n",
       "                                 klass      subklass      directParent  \\\n",
       "0  Benzene and substituted derivatives  Halobenzenes    Chlorobenzenes   \n",
       "0  Benzene and substituted derivatives  Halobenzenes  Dichlorobenzenes   \n",
       "0  Benzene and substituted derivatives  Halobenzenes  Dichlorobenzenes   \n",
       "0  Benzene and substituted derivatives  Halobenzenes  Dichlorobenzenes   \n",
       "0  Benzene and substituted derivatives  Halobenzenes    Chlorobenzenes   \n",
       "\n",
       "                 geometricDescriptor  \\\n",
       "0  Aromatic homomonocyclic compounds   \n",
       "0  Aromatic homomonocyclic compounds   \n",
       "0  Aromatic homomonocyclic compounds   \n",
       "0  Aromatic homomonocyclic compounds   \n",
       "0  Aromatic homomonocyclic compounds   \n",
       "\n",
       "                                  alternativeParents  \\\n",
       "0  ['Aryl chlorides', 'Hydrocarbon derivatives', ...   \n",
       "0  ['Aryl chlorides', 'Hydrocarbon derivatives', ...   \n",
       "0  ['Aryl chlorides', 'Hydrocarbon derivatives', ...   \n",
       "0  ['Aryl chlorides', 'Hydrocarbon derivatives', ...   \n",
       "0  ['Aryl chlorides', 'Hydrocarbon derivatives', ...   \n",
       "\n",
       "                                        substituents  \n",
       "0  ['Aryl chloride', 'Chlorobenzene', 'Aromatic h...  \n",
       "0  ['Aryl chloride', 'Aromatic homomonocyclic com...  \n",
       "0  ['Aryl chloride', 'Aromatic homomonocyclic com...  \n",
       "0  ['Aryl chloride', 'Aromatic homomonocyclic com...  \n",
       "0  ['Aryl chloride', 'Chlorobenzene', 'Aromatic h...  "
      ]
     },
     "execution_count": 94,
     "metadata": {},
     "output_type": "execute_result"
    }
   ],
   "source": [
    "classify_df.head()"
   ]
  },
  {
   "cell_type": "markdown",
   "id": "5e2dbe89-4db0-4aa4-b4d8-e596b7eb62a0",
   "metadata": {},
   "source": [
    "Functions to derive Morgan FP and Jaccard distance matrices as inputs for UMAP "
   ]
  },
  {
   "cell_type": "code",
   "execution_count": 95,
   "id": "cfd74321-8b79-4da5-ad0c-1477c35b3cf1",
   "metadata": {},
   "outputs": [],
   "source": [
    "def mk_fp(df):\n",
    "\n",
    "    '''\n",
    "    Function to create a Morgan FP  of length 1024 and radius 3. Input file is expecting a dtxsid and smiles column in a df. \n",
    "    Expects dtxsid as identifier and smiles as SMILES.\n",
    "    Returns df of index as dtxsid values and columns as 1024 morgan FP\n",
    "    '''\n",
    "\n",
    "    MOLS = dict(zip(df['dtxsid'], df['SMILES']))\n",
    "    MOLS = {k:Chem.MolFromSmiles(v) for k,v in MOLS.items()}\n",
    "    MOLS = {i:j for i,j in MOLS.items() if j}\n",
    "    FP0 = pd.DataFrame([np.array(AllChem.GetMorganFingerprintAsBitVect(i,3,1024)) for i in MOLS.values()])\n",
    "    FP0.index = MOLS.keys()\n",
    "    FP0.columns = ['mrgn_%d'%i for i in FP0.columns]\n",
    "    return FP0\n"
   ]
  },
  {
   "cell_type": "code",
   "execution_count": 99,
   "id": "9321c637-6e7f-4232-a450-f2a3ba5201fe",
   "metadata": {},
   "outputs": [],
   "source": [
    "FP = mk_fp(df2)"
   ]
  },
  {
   "cell_type": "code",
   "execution_count": 100,
   "id": "8c10ae9d-7701-41ce-b2a1-f96f4a9db9b1",
   "metadata": {},
   "outputs": [
    {
     "data": {
      "text/plain": [
       "(661, 1024)"
      ]
     },
     "execution_count": 100,
     "metadata": {},
     "output_type": "execute_result"
    }
   ],
   "source": [
    "FP.shape"
   ]
  },
  {
   "cell_type": "code",
   "execution_count": 101,
   "id": "62a1714f-f2c9-464a-8ff6-e49e6a16b32b",
   "metadata": {},
   "outputs": [],
   "source": [
    "import umap"
   ]
  },
  {
   "cell_type": "code",
   "execution_count": 102,
   "id": "664805d8-6c93-4e80-ad3a-ad1d9a9a28d8",
   "metadata": {},
   "outputs": [],
   "source": [
    "def umap_plot(a):\n",
    "    model = umap.UMAP(random_state=42, n_jobs = 1)\n",
    "    #model = TSNE(learning_rate = 200, perplexity=a[label].shape[0]-1, random_state = 42)\n",
    "    umap_features = model.fit_transform(a)\n",
    "    umap_features = pd.DataFrame(umap_features, index = a.index, columns = ['umap_x', 'umap_y'])\n",
    "    #umap_df = pd.concat([umap_features, b[label]], axis = 1)\n",
    "    return umap_features"
   ]
  },
  {
   "cell_type": "code",
   "execution_count": 103,
   "id": "57b05630-8769-46ae-9455-0e470f5f5e95",
   "metadata": {},
   "outputs": [],
   "source": [
    "umap_df = umap_plot(FP)"
   ]
  },
  {
   "cell_type": "code",
   "execution_count": 104,
   "id": "97983776-a833-4542-ba9e-8a337d93bbb8",
   "metadata": {},
   "outputs": [
    {
     "data": {
      "text/html": [
       "<div>\n",
       "<style scoped>\n",
       "    .dataframe tbody tr th:only-of-type {\n",
       "        vertical-align: middle;\n",
       "    }\n",
       "\n",
       "    .dataframe tbody tr th {\n",
       "        vertical-align: top;\n",
       "    }\n",
       "\n",
       "    .dataframe thead th {\n",
       "        text-align: right;\n",
       "    }\n",
       "</style>\n",
       "<table border=\"1\" class=\"dataframe\">\n",
       "  <thead>\n",
       "    <tr style=\"text-align: right;\">\n",
       "      <th></th>\n",
       "      <th>umap_x</th>\n",
       "      <th>umap_y</th>\n",
       "    </tr>\n",
       "  </thead>\n",
       "  <tbody>\n",
       "    <tr>\n",
       "      <th>DTXSID4020298</th>\n",
       "      <td>6.670036</td>\n",
       "      <td>8.045594</td>\n",
       "    </tr>\n",
       "    <tr>\n",
       "      <th>DTXSID1020431</th>\n",
       "      <td>5.988152</td>\n",
       "      <td>7.989594</td>\n",
       "    </tr>\n",
       "    <tr>\n",
       "      <th>DTXSID6020430</th>\n",
       "      <td>6.215571</td>\n",
       "      <td>8.134884</td>\n",
       "    </tr>\n",
       "    <tr>\n",
       "      <th>DTXSID6022056</th>\n",
       "      <td>5.958580</td>\n",
       "      <td>8.091734</td>\n",
       "    </tr>\n",
       "    <tr>\n",
       "      <th>DTXSID0021965</th>\n",
       "      <td>5.761437</td>\n",
       "      <td>8.017127</td>\n",
       "    </tr>\n",
       "    <tr>\n",
       "      <th>...</th>\n",
       "      <td>...</td>\n",
       "      <td>...</td>\n",
       "    </tr>\n",
       "    <tr>\n",
       "      <th>DTXSID8024280</th>\n",
       "      <td>5.567620</td>\n",
       "      <td>8.124877</td>\n",
       "    </tr>\n",
       "    <tr>\n",
       "      <th>DTXSID4034869</th>\n",
       "      <td>6.258087</td>\n",
       "      <td>8.087989</td>\n",
       "    </tr>\n",
       "    <tr>\n",
       "      <th>DTXSID9032113</th>\n",
       "      <td>6.139581</td>\n",
       "      <td>7.578280</td>\n",
       "    </tr>\n",
       "    <tr>\n",
       "      <th>DTXSID0032493</th>\n",
       "      <td>6.399106</td>\n",
       "      <td>8.387132</td>\n",
       "    </tr>\n",
       "    <tr>\n",
       "      <th>DTXSID3023897</th>\n",
       "      <td>6.390965</td>\n",
       "      <td>8.421954</td>\n",
       "    </tr>\n",
       "  </tbody>\n",
       "</table>\n",
       "<p>661 rows × 2 columns</p>\n",
       "</div>"
      ],
      "text/plain": [
       "                 umap_x    umap_y\n",
       "DTXSID4020298  6.670036  8.045594\n",
       "DTXSID1020431  5.988152  7.989594\n",
       "DTXSID6020430  6.215571  8.134884\n",
       "DTXSID6022056  5.958580  8.091734\n",
       "DTXSID0021965  5.761437  8.017127\n",
       "...                 ...       ...\n",
       "DTXSID8024280  5.567620  8.124877\n",
       "DTXSID4034869  6.258087  8.087989\n",
       "DTXSID9032113  6.139581  7.578280\n",
       "DTXSID0032493  6.399106  8.387132\n",
       "DTXSID3023897  6.390965  8.421954\n",
       "\n",
       "[661 rows x 2 columns]"
      ]
     },
     "execution_count": 104,
     "metadata": {},
     "output_type": "execute_result"
    }
   ],
   "source": [
    "umap_df"
   ]
  },
  {
   "cell_type": "code",
   "execution_count": 105,
   "id": "c78e37db-2f97-4c93-bafd-d5f10da29ead",
   "metadata": {},
   "outputs": [],
   "source": [
    "result = (umap_df\n",
    " .merge(classify_df[['sid',  'kingdom', 'superklass', 'klass', 'subklass']], left_on = umap_df.index, right_on = 'sid',  how = 'left')\n",
    " .set_index('sid')\n",
    ")"
   ]
  },
  {
   "cell_type": "code",
   "execution_count": 106,
   "id": "33b952df-cd5f-448f-a9d8-ba70a2ac4bac",
   "metadata": {},
   "outputs": [
    {
     "data": {
      "text/plain": [
       "superklass\n",
       "Benzenoids                          0.352470\n",
       "Lipids and lipid-like molecules     0.190921\n",
       "Organic oxygen compounds            0.133511\n",
       "Organic acids and derivatives       0.128171\n",
       "Organic nitrogen compounds          0.041389\n",
       "Organoheterocyclic compounds        0.034713\n",
       "Phenylpropanoids and polyketides    0.033378\n",
       "Organometallic compounds            0.026702\n",
       "Hydrocarbons                        0.020027\n",
       "Organic salts                       0.017356\n",
       "Organosulfur compounds              0.016021\n",
       "Organohalogen compounds             0.005340\n",
       "Name: proportion, dtype: float64"
      ]
     },
     "execution_count": 106,
     "metadata": {},
     "output_type": "execute_result"
    }
   ],
   "source": [
    "result.superklass.value_counts(normalize=True)"
   ]
  },
  {
   "cell_type": "code",
   "execution_count": 107,
   "id": "844baad5-514f-43e3-af98-230685f0c6be",
   "metadata": {},
   "outputs": [
    {
     "data": {
      "text/plain": [
       "66"
      ]
     },
     "execution_count": 107,
     "metadata": {},
     "output_type": "execute_result"
    }
   ],
   "source": [
    "30+13+10+13"
   ]
  },
  {
   "cell_type": "code",
   "execution_count": 108,
   "id": "b45df3fa-0b37-4f7d-8e8b-4a03eec6f317",
   "metadata": {},
   "outputs": [
    {
     "data": {
      "text/plain": [
       "klass\n",
       "Benzene and substituted derivatives    0.303071\n",
       "Fatty Acyls                            0.133511\n",
       "Organooxygen compounds                 0.130841\n",
       "Carboxylic acids and derivatives       0.102804\n",
       "Prenol lipids                          0.049399\n",
       "Name: proportion, dtype: float64"
      ]
     },
     "execution_count": 108,
     "metadata": {},
     "output_type": "execute_result"
    }
   ],
   "source": [
    "result.klass.value_counts(normalize = True).head()"
   ]
  },
  {
   "cell_type": "code",
   "execution_count": 111,
   "id": "f4b14ef4-090f-4df9-9dd1-5d48ba6a7205",
   "metadata": {},
   "outputs": [],
   "source": [
    "result.to_csv(external_dir/'umap_classyfire_230125.csv')"
   ]
  },
  {
   "cell_type": "markdown",
   "id": "592bb41e-f4a6-42b1-a7ed-8fe40171e170",
   "metadata": {},
   "source": [
    "2D-UMAP for the dataset colour coded by Superclass designations from Classify where available"
   ]
  },
  {
   "cell_type": "code",
   "execution_count": 112,
   "id": "018e89d7-b288-4c0a-830b-363d819b5811",
   "metadata": {},
   "outputs": [
    {
     "data": {
      "image/png": "[encoded data removed]",
      "text/plain": [
       "<Figure size 1000x600 with 1 Axes>"
      ]
     },
     "metadata": {},
     "output_type": "display_data"
    }
   ],
   "source": [
    "#| label: fig-classyfire\n",
    "#| fig-cap: \"UMAP plot colour coded by ClassyFire superclasses\"\n",
    "fig, ax = plt.subplots(figsize = (10,6))\n",
    "#color_dict = dict({1: 'red', 0: 'blue'})\n",
    "sns.kdeplot(x = 'umap_x', y = 'umap_y', fill = True,data = result)\n",
    "sns.scatterplot(x = 'umap_x', y = 'umap_y' ,   hue = 'superklass', data = result )\n",
    "ax.legend(loc='center left', bbox_to_anchor=(1, 0.5))\n",
    "plt.tight_layout()\n",
    "plt.savefig(figures_dir/'umap_df.png', dpi = 300)"
   ]
  },
  {
   "cell_type": "markdown",
   "id": "21a69d0e-a3af-4c8b-8ab7-7f9153f60775",
   "metadata": {},
   "source": [
    "Analogue Evidence streams\n"
   ]
  },
  {
   "cell_type": "markdown",
   "id": "b08dfa62-d732-4fee-bd6b-108889f4761f",
   "metadata": {},
   "source": [
    "Extracted the first evidence stream from all those noted in the dataset, across the 157 examples - there were 85 evidence streams - of these the majority of initial means of identifying candidate analogues were by structural considerations - in only 4 cases was Metabolism the first consideration"
   ]
  },
  {
   "cell_type": "code",
   "execution_count": 113,
   "id": "9ff1bc69-2a83-4d8c-b4ff-36c8dac39540",
   "metadata": {},
   "outputs": [],
   "source": [
    "#df1.Index"
   ]
  },
  {
   "cell_type": "code",
   "execution_count": 114,
   "id": "4261f990-385b-45fe-8ce0-c52acb6fe400",
   "metadata": {},
   "outputs": [
    {
     "data": {
      "text/plain": [
       "Index(['Substance Name in Assessment', 'substance_role', 'Approach', 'dtxsid',\n",
       "       'Preferred Name', 'CASRN', 'SMILES', 'QSAR Ready SMILES',\n",
       "       'analogue_evidence_stream', 'use_case', 'source'],\n",
       "      dtype='object')"
      ]
     },
     "execution_count": 114,
     "metadata": {},
     "output_type": "execute_result"
    }
   ],
   "source": [
    "df1.columns"
   ]
  },
  {
   "cell_type": "code",
   "execution_count": 72,
   "id": "f97be7c0-2694-4ca9-be68-fb3f0097e253",
   "metadata": {},
   "outputs": [],
   "source": [
    "#df1['analogue_evidence_stream'].unique()"
   ]
  },
  {
   "cell_type": "code",
   "execution_count": 79,
   "id": "71e81aca-e2bd-4356-b4f2-0a3afcc63a63",
   "metadata": {},
   "outputs": [],
   "source": [
    "first = [str(e).split('|')[0].strip() for e in df1['analogue_evidence_stream'] ]"
   ]
  },
  {
   "cell_type": "code",
   "execution_count": 84,
   "id": "202e638b-eadb-467e-a52a-cc058ada013c",
   "metadata": {},
   "outputs": [],
   "source": [
    "\n",
    "first = [x for x in first if x != 'nan']"
   ]
  },
  {
   "cell_type": "code",
   "execution_count": 88,
   "id": "c08226e4-387c-4bbb-88e1-a3c24da28399",
   "metadata": {},
   "outputs": [
    {
     "data": {
      "text/plain": [
       "85"
      ]
     },
     "execution_count": 88,
     "metadata": {},
     "output_type": "execute_result"
    }
   ],
   "source": [
    "len(set([e for e in first if 'Structural' in e]))"
   ]
  },
  {
   "cell_type": "code",
   "execution_count": 89,
   "id": "7cc6f61d-3369-441a-9ca5-965b6c54488f",
   "metadata": {},
   "outputs": [
    {
     "data": {
      "text/plain": [
       "14"
      ]
     },
     "execution_count": 89,
     "metadata": {},
     "output_type": "execute_result"
    }
   ],
   "source": [
    "len(set([e for e in first if 'Metab' in e]))"
   ]
  },
  {
   "cell_type": "code",
   "execution_count": 208,
   "id": "baedc211-7b92-4a4e-8bab-32d9276365fe",
   "metadata": {},
   "outputs": [
    {
     "data": {
      "text/plain": [
       "100"
      ]
     },
     "execution_count": 208,
     "metadata": {},
     "output_type": "execute_result"
    }
   ],
   "source": [
    "len([e for e in list(set([str(e).split('|')[0] .strip() for e in df1['analogue_evidence_stream']]))])"
   ]
  },
  {
   "cell_type": "code",
   "execution_count": 209,
   "id": "3e2ad3f0-3717-4acb-9c0d-c64a46b0f6bb",
   "metadata": {},
   "outputs": [],
   "source": [
    "structural_tags = [e.replace('Structural_', '')  for e in list(set([str(e).split('|')[0].strip() for e in df1['analogue_evidence_stream']])) if 'Structural_' in e]\n"
   ]
  },
  {
   "cell_type": "code",
   "execution_count": 210,
   "id": "526fd7ca-86ff-4847-95e0-85aae0e2337f",
   "metadata": {},
   "outputs": [],
   "source": [
    "structural_tags = [e.strip() for e in structural_tags]"
   ]
  },
  {
   "cell_type": "code",
   "execution_count": 212,
   "id": "a8b76b6f-4734-4a10-b543-f3440f935192",
   "metadata": {},
   "outputs": [],
   "source": [
    "#structural_tags"
   ]
  },
  {
   "cell_type": "markdown",
   "id": "e0e3f860-b9f3-4d56-b6bb-8db261f27083",
   "metadata": {},
   "source": [
    "Creating a simple mapping dict to summarise the types of structural flags/tools/approaches used"
   ]
  },
  {
   "cell_type": "code",
   "execution_count": 214,
   "id": "397ffccf-c3fe-4446-a86d-4d924c7ff572",
   "metadata": {},
   "outputs": [],
   "source": [
    "structural_tags_dict = {'OECD-Toolbox_diphenylamine-core_dialkylated-substitutions' : 'OECD-Toolbox',\n",
    " 'C1-C8-alkyl-esters-of-methacrylic-acid' : 'common-functional-groups',\n",
    " 'acid-dissociation': 'Other',\n",
    "                         'common-functional-group-formate': 'common-functional-groups',\n",
    "                        'common-reactive-functional-group': 'common-functional-groups',\n",
    "                        'common-functional-groups_similar-2D-structure': 'common-functional-groups',\n",
    "                        'similar-scaffold_common-functional-group': 'common-functional-groups',\n",
    "             'shared-4-ring-structure_similar-molecular-weight': 'common-functional-groups',           \n",
    "                'high-molecular-weight-aliphatic-thiols_common-functional-group' : 'common-functional-groups',        \n",
    "                        'common-functional-group': 'common-functional-groups',\n",
    "                        'common-reactive-ester-bond_similar-alkyl-side-chains':'common-functional-groups' ,\n",
    "                        'common-functional-group_short-chain-length': 'common-functional-groups' ,\n",
    "                   'common-functional-groups_structurally-similar-to-target-hydrolysis-product': 'common-functional-groups',\n",
    " 'reactive-chlorine-group': 'common-functional-groups',\n",
    " 'C2-C4-aliphatic-thiols_common-functional-group' :  'common-functional-groups',   \n",
    "       'common-reactive-moiety_low-molecular-weight': 'common-functional-groups',\n",
    " 'common-moieties': 'common-functional-groups',\n",
    " 'common-reactive-functional-group': 'common-functional-groups',\n",
    " 'common-general-molecular-structure': 'common-functional-groups',\n",
    " 'chlorosilanes_reactive-chlorine-groups':'common-functional-groups' ,\n",
    " 'common-polar-constituent-and-olefin-moiety': 'common-functional-groups',\n",
    " 'common-functional-groups_reactive-chlorine-groups':'common-functional-groups' ,\n",
    " 'common-functional-group-formate': 'common-functional-groups',                 \n",
    "   'common-functional-groups_similar-2D-structure': 'common-functional-groups',                     \n",
    "        'simple-straight-chain-configuration': 'common-functional-groups',\n",
    " 'silanol_similar-structure-to-target-hydrolysis-product': 'common-functional-groups',                \n",
    "               'dimethyltin-moiety': 'common-functional-groups' ,\n",
    "                        'acid-dissociation': 'Other',\n",
    "                        'similarity': 'Other',\n",
    "                        'salts-of-same-parent-compound': 'Other',\n",
    "                        \n",
    "                        'Tanimoto_isomers': 'Other',\n",
    "                        'shared-4-ring-structure_similar-molecular-weight': 'common-functional-groups',\n",
    " 'common-functional-groups_isomers':'common-functional-groups',     \n",
    "                        'common-functional-group_short-chain-length':'common-functional-groups',\n",
    " 'repeating-units_common-functional-group' :'common-functional-groups',\n",
    "                        'repeating-units_common-functional-groups': 'common-functional-groups',\n",
    "                        'variable-alkyl-chain': 'common-functional-groups',\n",
    "                        'chlorosilanes_reactive-chlorine-groups': 'common-functional-groups',\n",
    "                        'common-functional-group' : 'common-functional-groups',\n",
    " 'salts-of-same-parent-compound': 'Other',\n",
    " 'dinitrobenzene-isomers' :'common-functional-groups',\n",
    " 'ChemIDPlus': 'ChemIDPlus',\n",
    " 'ChemIDplus_OECD Toolbox-Tanimoto_highest-structural-similarity':'OECD-Toolbox-ChemIDPlus',\n",
    " 'DSSTox_ChemIDPlus':'DSSTox-ChemIDPlus',\n",
    " 'common-functional-groups' : 'common-functional-groups',\n",
    " 'SciFinder_ChemID_close-similarity':'Scifinder-ChemIDPlus',\n",
    " 'ChemIDPlus_Chemical-Class_dinitrophenols':'ChemIDPlus',\n",
    " 'ChemIDPlus_alkylbenzenes': 'ChemIDPlus',\n",
    " 'ChemIDPlus_Chemical-Class_brominated-benzenes':'ChemIDPlus',\n",
    " 'C4-olefin-isomers': 'common-functional-groups',\n",
    " 'OECD-Toolbox_diphenylamine-core_ variable-number-phenyl-substitutions':'OECD-Toolbox',\n",
    " 'OECD Toolbox-Tanimoto':'OECD-Toolbox',\n",
    "     'OECD-QSAR-Toolbox_Tanimoto': 'OECD-Toolbox',                   \n",
    " 'acid-chlorides_reactive-chlorines':'common-functional-groups',\n",
    " 'benzene-backbone_mono-substituted-phenols':'common-functional-groups',\n",
    " 'C6-C14-aliphatic-chain-olefins':'common-functional-groups',\n",
    " 'SciFinder_ChemID_close-similarity':'Scifinder-ChemIDPlus',\n",
    " 'OECD-Toolbox_ diphenylamine-core_variable-number-alkyl-substitutions':'OECD-Toolbox',\n",
    " 'hydrolysis-pair': 'Other',\n",
    "                        'OECD-Toolbox_ diphenylamine-core_monoalkylated-substitution': 'OECD-Toolbox',\n",
    " 'RDKit_2-branched-aliphatic-carboxylic-acids_comparable-chain-lengths':'common-functional-groups',\n",
    "      'OECD-Toolbox_ diphenylamine-core_variable-number-alkyl-substitutions':'OECD-Toolbox',                   \n",
    "            'OECD-Toolbox_diphenylamine-core_ variable-number-phenyl-substitutions':'OECD-Toolbox',            \n",
    "                    'ChemIDplus_OECD Toolbox-Tanimoto_highest-structural-similarity':'OECD-Toolbox-ChemIDPlus',    \n",
    "              \n",
    "        'DSSTox_ChemIDPlus_similar-branched-structure':'DSSTox-ChemIDPlus',                \n",
    "           'ChemIDPlus_alkylbenzenes_similar-straight-chain-structure':   'ChemIDPlus',           \n",
    "             'OECD Toolbox_ChemIDPlus':   'OECD-Toolbox-ChemIDPlus',         \n",
    "                      'OECD-Toolbox-Tanimoto_ChemIDPlus_DSSTox_highest-structural-similarity': 'DSSTox-ChemIDPlus-OECD-Toolbox',  \n",
    " 'OECD-Toolbox_diphenylamine-core':'OECD-Toolbox',\n",
    " 'ChemIDPlus-OECD Toolbox':'OECD-Toolbox-ChemIDPlus',\n",
    " 'shared-4-ring-structure_similar-molecular-weight':'common-functional-groups',\n",
    " 'common-functional-group-peroxy':'common-functional-groups',\n",
    " 'ChemTunes-ToxGPS_common-alkyl-substituents':'ChemTunes-ToxGPS',\n",
    "                        'ChemTunes-ToxGPS_Tanimoto_common-functional-groups': 'ChemTunes-ToxGPS',\n",
    " 'oligomer-mixtures-of-alkyl-phenols-or-phenates':'common-functional-groups',\n",
    " 'DSSTox_OECD Toolbox-Tanimoto_ChemIDplus_functional-group-aldehyde':'DSSTox-ChemIDPlus-OECD-Toolbox',\n",
    "                        'DSSTox_OECD Toolbox-Tanimoto_ChemIDplus_functional-group-aldehyde_closest-in-carbon-chain-length' : 'DSSTox-ChemIDPlus-OECD-Toolbox',\n",
    " 'DSSTox_ChemIDPlus': 'DSSTox-ChemIDPlus',\n",
    " 'ChemIDPlus':'ChemIDPlus',\n",
    "                        'CHRIP_OECD-Toolbox_common-phenolic-group-at-same-position-on-benzotriazole': 'OECD-Toolbox',\n",
    "                         'OECD-Toolbox_ diphenylamine-core_monoalkylated-substitution': 'OECD-Toolbox',\n",
    "                        'OECD-Toolbox_diphenylamine-core_dialkylated-substitutions': 'OECD-Toolbox',\n",
    "                        'OECD-Toolbox_ diphenylamine-core_variable-number-alkyl-substitutions':'OECD-Toolbox',\n",
    "                         'OECD-Toolbox_diphenylamine-core_dialkylated-substitutions':'OECD-Toolbox',\n",
    " 'OECD-Toolbox_diphenylamine-core': 'OECD-Toolbox',\n",
    " 'OECD-Toolbox-Tanimoto_ChemIDPlus_DSSTox_highest-structural-similarity': 'OECD-Toolbox',\n",
    "                        'OECD Toolbox-Tanimoto': 'OECD-Toolbox',\n",
    "                        'ChemIDPlus_OECD-Toolbox-Tanimoto': 'OECD-Toolbox-ChemIDPlus',\n",
    "           'DSSTox_ChemIDPlus_similar-branched-structure': 'DSSTox-ChemIDPlus',   \n",
    "                        'DSSTox_similar-scaffold-short-chained-alkylbenzenes': 'DSSTox',\n",
    "                        'ChemIDPlus_Chemical-Class_dinitrophenols': 'ChemIDPlus',\n",
    "                         'ChemIDPlus_alkylbenzenes': 'ChemIDPlus',\n",
    "                        'ChemIDplus_OECD Toolbox-Tanimoto_highest-structural-similarity': 'OECD-Toolbox-ChemIDPlus',\n",
    "                      'OECD-Toolbox-Tanimoto_ChemIDPlus_DSSTox': 'DSSTox-ChemIDPlus-OECD-Toolbox',\n",
    " 'OECD-Toolbox_diphenylamine-core_ variable-number-phenyl-substitutions': 'OECD-Toolbox',\n",
    " 'OECD-QSAR-Toolbox_Tanimoto': 'OECD-Toolbox',\n",
    "                        'ChemIDPlus_alkylbenzenes_similar-straight-chain-structure': 'ChemIDPlus',\n",
    "                        'OECD Toolbox_ChemIDPlus': 'OECD-Toolbox-ChemIDPlus',\n",
    "                        'ChemIDPlus-OECD Toolbox': 'OECD-Toolbox-ChemIDPlus',\n",
    "                        'RDKit_2-branched-aliphatic-carboxylic-acids_comparable-chain-lengths': 'common-functional-groups',\n",
    " 'OECD-Toolbox_ diphenylamine-core_monoalkylated-substitution':'OECD-Toolbox',\n",
    " 'DSSTox_OECD Toolbox-Tanimoto_ChemIDplus_functional-group-aldehyde_closest-in-carbon-chain-length':'DSSTox-ChemIDPlus-OECD-Toolbox',\n",
    " 'RDKit_aliphatic-carboxylic-acids_same-position-branched-alkyl-side-chains':'common-functional-groups',\n",
    " 'KNIME_RDKIT_SMARTS_common-toxophore_similar-3D-structure' :'common-functional-groups' ,\n",
    " 'OECD Toolbox_ChemIDPlus':'OECD-Toolbox-ChemIDPlus',\n",
    " 'common-reactive-ester-bond_similar-alkyl-side-chains':'common-functional-groups',\n",
    " 'common-functional-groups_similar-2D-structure':'common-functional-groups',\n",
    " 'common-functional-group-formate':'common-functional-groups',\n",
    " 'OECD Toolbox-Tanimoto' : 'OECD-Toolbox',\n",
    "                        \n",
    "               'reactive-chlorine-group': 'common-functional-groups',         \n",
    "                     'variable-alkyl-chain': 'Other',\n",
    "                        \n",
    "                          'Tanimoto_common-substructure_close-similarity': 'common-functional-groups', \n",
    " 'Tanimoto_common-functional-group_branched-chain-primary-alcohol': 'common-functional-groups', \n",
    " \n",
    " 'Tanimoto_common-functional-group_structural-isomers': 'common-functional-groups', \n",
    " \n",
    " 'repeating-units_common-functional-groups': 'common-functional-groups', \n",
    " 'high-molecular-weight-aliphatic-thiols_common-functional-group': 'common-functional-groups', \n",
    " 'common-polar-constituent-and-olefin-moiety': 'common-functional-groups', \n",
    "  'common-reactive-moiety_low-molecular-weight': 'common-functional-groups', \n",
    " 'Tanimoto_common-cyclic-structure': 'common-functional-groups', \n",
    " 'C6-C14-aliphatic-chain-olefins': 'common-functional-groups', \n",
    " \n",
    " 'repeating-units_common-functional-group': 'common-functional-groups', \n",
    " 'Tanimoto_common-functional-group': 'common-functional-groups', \n",
    " \n",
    " 'C4-olefin-isomers': 'common-functional-groups', \n",
    " \n",
    " 'common-reactive-ester-bond_similar-alkyl-side-chains': 'common-functional-groups', \n",
    " 'common-functional-groups_isomers': 'common-functional-groups', \n",
    "\n",
    " 'Tanimoto_common-functional-group_close-similarity': 'common-functional-groups', \n",
    " 'RDKit_aliphatic-carboxylic-acids_same-position-branched-alkyl-side-chains': 'common-functional-groups', \n",
    " 'silanol_similar-structure-to-target-hydrolysis-product': 'common-functional-groups', \n",
    " \n",
    " 'oligomer-mixtures-of-alkyl-phenols-or-phenates': 'common-functional-groups', \n",
    " 'C1-C8-alkyl-esters-of-methacrylic-acid': 'common-functional-groups', \n",
    " \n",
    " 'common-functional-groups_reactive-chlorine-groups': 'common-functional-groups', \n",
    " 'common-functional-group-peroxy': 'common-functional-groups', \n",
    " 'simple-straight-chain-configuration': 'common-functional-groups', \n",
    " 'Tanimoto_stereoisomer': 'common-functional-groups', \n",
    " 'KNIME_RDKIT_SMARTS_common-toxophore_similar-3D-structure': 'common-functional-groups', \n",
    " 'common-general-molecular-structure': 'common-functional-groups', \n",
    " 'C2-C4-aliphatic-thiols_common-functional-group': 'common-functional-groups', \n",
    " 'acid-chlorides_reactive-chlorines': 'common-functional-groups', \n",
    " 'Tanimoto_common-functional-group_common-structural-fragment': 'common-functional-groups', \n",
    " 'Tanimoto_common-functional-groups': 'common-functional-groups', \n",
    " 'common-moieties': 'common-functional-groups',         \n",
    " 'dibutyltin-moiety':'common-functional-groups',\n",
    " 'DSSTox_ChemIDPlus_similar-branched-structure': 'DSSTox-ChemIDPlus',\n",
    " 'variable-alkyl-chain':'common-functional-groups',\n",
    " 'OECD-Toolbox-Tanimoto_ChemIDPlus_DSSTox' : 'DSSTox-ChemIDPlus-OECD-Toolbox',\n",
    " 'Open-Babel-toolbox-Tanimoto_common-functional-groups': 'Open-Babel',\n",
    " 'common-functional-group':'common-functional-groups',\n",
    " 'common-functional-groups':'common-functional-groups',\n",
    " 'simple-straight-chain-configuration':'common-functional-groups',\n",
    " 'OECD-Toolbox-Tanimoto_ChemIDPlus_DSSTox_highest-structural-similarity':'DSSTox-ChemIDPlus-OECD-Toolbox',\n",
    " 'Leadscope_ChemID_expert_judgement': 'Leadscope-ChemIDPlus',\n",
    " 'ChemIDPlus_alkylbenzenes_similar-straight-chain-structure': 'ChemIDPlus',\n",
    " 'CHRIP_OECD-Toolbox_common-phenolic-group-at-same-position-on-benzotriazole':'OECD-Toolbox' ,\n",
    " 'OECD-QSAR-Toolbox_Tanimoto':'OECD-Toolbox',\n",
    " 'chlorosilanes_reactive-chlorine-groups':'common-functional-groups',\n",
    " 'ChemIDPlus_OECD-Toolbox-Tanimoto':'OECD-Toolbox-ChemIDPlus',\n",
    " 'OECD-Toolbox-Tanimoto_ChemIDPlus_DSSTox':'DSSTox-ChemIDPlus-OECD-Toolbox',\n",
    " 'CHRIP_visual-judgement_single-allyl-alcohol-group': 'Other',\n",
    "     'CHRIP_visual-judgement_single-allyl-alcohol-group': 'Other',                   \n",
    " 'common-polar-constituent-and-olefin-moiety':'common-functional-groups',\n",
    " 'DSSTox':  'DSSTox',\n",
    "                        'ChemTunes-ToxGPS_common-alkyl-substituents': 'ChemTunes-ToxGPS',   \n",
    "                       \n",
    " 'ChemTunes-ToxGPS_Tanimoto_common-functional-groups': 'ChemTunes-ToxGPS',\n",
    " 'MACCS-TANIMOTO_common-substituents': 'Other',\n",
    " 'ChemMine-tools_MCS-Tanimoto': 'ChemMine'}"
   ]
  },
  {
   "cell_type": "code",
   "execution_count": 215,
   "id": "ab9ed0c3-c4c9-4a2b-ae1b-b85d6c026faa",
   "metadata": {},
   "outputs": [],
   "source": [
    "mylst = []\n",
    "for k,v in structural_tags_dict.items():\n",
    "    mylst.append(v)"
   ]
  },
  {
   "cell_type": "code",
   "execution_count": 216,
   "id": "61cc8041-b40c-4b52-8168-c41ba29855bf",
   "metadata": {},
   "outputs": [
    {
     "data": {
      "text/plain": [
       "13"
      ]
     },
     "execution_count": 216,
     "metadata": {},
     "output_type": "execute_result"
    }
   ],
   "source": [
    "len(set(mylst))"
   ]
  },
  {
   "cell_type": "code",
   "execution_count": 217,
   "id": "827fa627-836a-46ca-bf53-b136f607999f",
   "metadata": {},
   "outputs": [],
   "source": [
    "structural_tags_df = pd.DataFrame(list(structural_tags_dict.items()), columns = ['Struct-AE', 'Level1-Struct-AE'])"
   ]
  },
  {
   "cell_type": "code",
   "execution_count": 219,
   "id": "530372b3-83d3-4029-96df-ad7dd66e35b1",
   "metadata": {},
   "outputs": [
    {
     "data": {
      "image/png": "[encoded data removed]",
      "text/plain": [
       "<Figure size 640x480 with 1 Axes>"
      ]
     },
     "metadata": {},
     "output_type": "display_data"
    }
   ],
   "source": [
    "structural_tags_df.groupby('Level1-Struct-AE').size().plot.barh()\n",
    "plt.tight_layout()\n",
    "plt.savefig(figures_dir/'analogue_stream.png', dpi = 300)"
   ]
  },
  {
   "cell_type": "markdown",
   "id": "5a14ae63-2054-4930-8788-b73fce1596b2",
   "metadata": {},
   "source": [
    "## Structural similarity within the read-across cases"
   ]
  },
  {
   "cell_type": "code",
   "execution_count": 223,
   "id": "ed7a7c0e-0670-41f5-b643-4dfda4b81d20",
   "metadata": {},
   "outputs": [],
   "source": [
    "from scipy.spatial.distance import pdist, squareform\n",
    "from scipy.cluster.hierarchy import dendrogram, linkage"
   ]
  },
  {
   "cell_type": "code",
   "execution_count": 224,
   "id": "569e0602-60a6-4e59-9795-ef75cdd47793",
   "metadata": {},
   "outputs": [],
   "source": [
    "def distance_matrix(df):\n",
    "    '''\n",
    "    Function to create a pairwise square distance matrix using the Jaccard index\n",
    "    '''\n",
    "    D_mgrn = pd.DataFrame(squareform(pdist(df, 'jaccard')), columns = df.index, index = df.index)\n",
    "\n",
    "    return D_mgrn"
   ]
  },
  {
   "cell_type": "code",
   "execution_count": 238,
   "id": "2d7a361f-8b16-4c54-8d78-02c0886fd32c",
   "metadata": {},
   "outputs": [],
   "source": [
    "mydict2 = {}\n",
    "for i, group in df1.groupby('Index'):\n",
    "    subset = group[['dtxsid', 'Index', 'SMILES']]\n",
    "    mydict2[i] = subset.shape[0]"
   ]
  },
  {
   "cell_type": "code",
   "execution_count": 246,
   "id": "ad219cff-747e-455e-860d-87f9ad674cbf",
   "metadata": {},
   "outputs": [
    {
     "data": {
      "text/plain": [
       "[42, 24, 20, 19, 17, 16, 15, 15, 14, 12]"
      ]
     },
     "execution_count": 246,
     "metadata": {},
     "output_type": "execute_result"
    }
   ],
   "source": [
    "sorted(mydict2.values(), reverse =True)[:10]"
   ]
  },
  {
   "cell_type": "code",
   "execution_count": 252,
   "id": "7296dc1b-e556-4fc1-b8c1-bf3adf0dd0e9",
   "metadata": {},
   "outputs": [
    {
     "data": {
      "text/plain": [
       "5.076433121019108"
      ]
     },
     "execution_count": 252,
     "metadata": {},
     "output_type": "execute_result"
    }
   ],
   "source": [
    "np.mean((list(mydict2.values())))"
   ]
  },
  {
   "cell_type": "code",
   "execution_count": 225,
   "id": "8d216542-7f5e-4fdf-92d0-e23c4e94ec36",
   "metadata": {},
   "outputs": [
    {
     "name": "stdout",
     "output_type": "stream",
     "text": [
      "40 No registered converter was able to produce a C++ rvalue of type std::basic_string<wchar_t, std::char_traits<wchar_t>, std::allocator<wchar_t> > from this Python object of type float\n",
      "41 No registered converter was able to produce a C++ rvalue of type std::basic_string<wchar_t, std::char_traits<wchar_t>, std::allocator<wchar_t> > from this Python object of type float\n",
      "47 No registered converter was able to produce a C++ rvalue of type std::basic_string<wchar_t, std::char_traits<wchar_t>, std::allocator<wchar_t> > from this Python object of type float\n",
      "50 No registered converter was able to produce a C++ rvalue of type std::basic_string<wchar_t, std::char_traits<wchar_t>, std::allocator<wchar_t> > from this Python object of type float\n",
      "54 No registered converter was able to produce a C++ rvalue of type std::basic_string<wchar_t, std::char_traits<wchar_t>, std::allocator<wchar_t> > from this Python object of type float\n",
      "55 No registered converter was able to produce a C++ rvalue of type std::basic_string<wchar_t, std::char_traits<wchar_t>, std::allocator<wchar_t> > from this Python object of type float\n",
      "56 No registered converter was able to produce a C++ rvalue of type std::basic_string<wchar_t, std::char_traits<wchar_t>, std::allocator<wchar_t> > from this Python object of type float\n",
      "60 No registered converter was able to produce a C++ rvalue of type std::basic_string<wchar_t, std::char_traits<wchar_t>, std::allocator<wchar_t> > from this Python object of type float\n",
      "65 No registered converter was able to produce a C++ rvalue of type std::basic_string<wchar_t, std::char_traits<wchar_t>, std::allocator<wchar_t> > from this Python object of type float\n",
      "69 No registered converter was able to produce a C++ rvalue of type std::basic_string<wchar_t, std::char_traits<wchar_t>, std::allocator<wchar_t> > from this Python object of type float\n",
      "72 No registered converter was able to produce a C++ rvalue of type std::basic_string<wchar_t, std::char_traits<wchar_t>, std::allocator<wchar_t> > from this Python object of type float\n",
      "98 No registered converter was able to produce a C++ rvalue of type std::basic_string<wchar_t, std::char_traits<wchar_t>, std::allocator<wchar_t> > from this Python object of type float\n",
      "121 No registered converter was able to produce a C++ rvalue of type std::basic_string<wchar_t, std::char_traits<wchar_t>, std::allocator<wchar_t> > from this Python object of type float\n",
      "125 No registered converter was able to produce a C++ rvalue of type std::basic_string<wchar_t, std::char_traits<wchar_t>, std::allocator<wchar_t> > from this Python object of type float\n",
      "145 No registered converter was able to produce a C++ rvalue of type std::basic_string<wchar_t, std::char_traits<wchar_t>, std::allocator<wchar_t> > from this Python object of type float\n"
     ]
    }
   ],
   "source": [
    "mydict = {}\n",
    "for i, group in df1.groupby('Index'):\n",
    "    subset = group[['dtxsid', 'Index', 'SMILES']]\n",
    "    try:\n",
    "        a = mk_fp(subset)\n",
    "        b = distance_matrix(a)\n",
    "        b1 = 1 - b\n",
    "        mk = np.triu(np.ones(b1.shape), k=0)\n",
    "        b2 = b1.where(mk==1, np.nan).unstack().reset_index().dropna()\n",
    "        b2 = b2[b2['level_0'] != b2['level_1']]\n",
    "        b2 = b2.iloc[:,2].values\n",
    "        mydict[i] = b2\n",
    "    except Exception as error:\n",
    "        print(i, error)\n"
   ]
  },
  {
   "cell_type": "code",
   "execution_count": 78,
   "id": "8df10414-6e11-4aaa-b33c-64cc614929a6",
   "metadata": {},
   "outputs": [],
   "source": [
    "#mydict\n"
   ]
  },
  {
   "cell_type": "code",
   "execution_count": 226,
   "id": "821a8f5b-9968-4809-9ae1-1e14bfeeab74",
   "metadata": {},
   "outputs": [],
   "source": [
    "new_df = pd.DataFrame({k:v for k,v in mydict.items() if len(v) >1}.items())\n",
    "new_df['meds'] = [np.median(e) for e in new_df[1]]\n",
    "new_df = new_df.sort_values(by = 'meds', ascending = False)"
   ]
  },
  {
   "cell_type": "code",
   "execution_count": 227,
   "id": "6d0b2216-d873-495f-b6d9-db815ba15fb6",
   "metadata": {},
   "outputs": [
    {
     "data": {
      "text/plain": [
       "0.34252017608217167"
      ]
     },
     "execution_count": 227,
     "metadata": {},
     "output_type": "execute_result"
    }
   ],
   "source": [
    "new_df['meds'].median()"
   ]
  },
  {
   "cell_type": "code",
   "execution_count": 228,
   "id": "abc48242-70c0-41f4-a034-6dbee2c01391",
   "metadata": {},
   "outputs": [],
   "source": [
    "#new_df"
   ]
  },
  {
   "cell_type": "code",
   "execution_count": 229,
   "id": "6934ef9d-ca29-457c-8555-e69d0fb3c0af",
   "metadata": {},
   "outputs": [
    {
     "data": {
      "image/png": "[encoded data removed]",
      "text/plain": [
       "<Figure size 640x480 with 1 Axes>"
      ]
     },
     "metadata": {},
     "output_type": "display_data"
    }
   ],
   "source": [
    "new_df['meds'].hist()\n",
    "plt.xlabel('median Jaccard similarity')\n",
    "plt.savefig(figures_dir/'median_JS_dist.png', dpi = 300)"
   ]
  },
  {
   "cell_type": "code",
   "execution_count": 75,
   "id": "5305ecab-ac79-4e4e-b72d-48f7ad75872a",
   "metadata": {},
   "outputs": [],
   "source": [
    "labels, data = list(zip((new_df[0].values, new_df[1].values)))\n"
   ]
  },
  {
   "cell_type": "code",
   "execution_count": 234,
   "id": "43af8fed-954a-4e9d-8742-e61f76ada703",
   "metadata": {},
   "outputs": [
    {
     "data": {
      "image/png": "[encoded data removed]",
      "text/plain": [
       "<Figure size 900x600 with 1 Axes>"
      ]
     },
     "metadata": {},
     "output_type": "display_data"
    }
   ],
   "source": [
    "fig, ax = plt.subplots(figsize = (9,6))\n",
    "labels, data = list(zip((new_df[0].values, new_df[1].values)))\n",
    "ax.boxplot(data[0], vert=True)  # Set vert=True to flip the axis\n",
    "\n",
    "n = 5  # Change this to set the interval of tick labels\n",
    "selected_indices = range(0, len(labels[0]), n)\n",
    "selected_labels = [labels[0][i] for i in selected_indices]\n",
    "\n",
    "# Set the selected tick positions and labels\n",
    "plt.xticks(selected_indices, selected_labels, fontsize=6)\n",
    "plt.xlabel('Read-across case number')\n",
    "plt.ylabel('Jaccard structural similarity', fontsize = 12)\n",
    "fig.savefig(figures_dir/'Jaccard_SS.png', dpi = 300)"
   ]
  },
  {
   "cell_type": "code",
   "execution_count": 229,
   "id": "2fd1dac4-4655-4993-bb02-34f5b731cb95",
   "metadata": {},
   "outputs": [],
   "source": [
    "#mydict"
   ]
  }
 ],
 "metadata": {
  "kernelspec": {
   "display_name": "py310",
   "language": "python",
   "name": "py310"
  },
  "language_info": {
   "codemirror_mode": {
    "name": "ipython",
    "version": 3
   },
   "file_extension": ".py",
   "mimetype": "text/x-python",
   "name": "python",
   "nbconvert_exporter": "python",
   "pygments_lexer": "ipython3",
   "version": "3.10.14"
  },
  "widgets": {
   "application/vnd.jupyter.widget-state+json": {
    "state": {},
    "version_major": 2,
    "version_minor": 0
   }
  }
 },
 "nbformat": 4,
 "nbformat_minor": 5
}
