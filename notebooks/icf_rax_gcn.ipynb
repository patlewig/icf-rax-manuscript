{
 "cells": [
  {
   "cell_type": "code",
   "execution_count": 1,
   "id": "11f50688-c0ec-461e-bbf5-51b5246076a7",
   "metadata": {},
   "outputs": [],
   "source": [
    "import matplotlib.pyplot as plt"
   ]
  },
  {
   "cell_type": "code",
   "execution_count": 2,
   "id": "795ef6b4-b697-45ca-97a0-fd5827697f39",
   "metadata": {},
   "outputs": [],
   "source": [
    "import torch"
   ]
  },
  {
   "cell_type": "code",
   "execution_count": 3,
   "id": "f06a975b-43af-43dc-b065-b56a89756eba",
   "metadata": {},
   "outputs": [],
   "source": [
    "import pandas as pd\n",
    "from rdkit import Chem\n",
    "from rdkit.Chem import AllChem"
   ]
  },
  {
   "cell_type": "code",
   "execution_count": 4,
   "id": "b9318bca-e30e-413d-ae91-ac77a4c04a28",
   "metadata": {},
   "outputs": [],
   "source": [
    "df = pd.read_csv('df5.csv', index_col = [0])"
   ]
  },
  {
   "cell_type": "code",
   "execution_count": 5,
   "id": "2aa448a7-cf6c-4bbb-a4c6-842b6c659016",
   "metadata": {},
   "outputs": [
    {
     "data": {
      "text/plain": [
       "(33672, 9)"
      ]
     },
     "execution_count": 5,
     "metadata": {},
     "output_type": "execute_result"
    }
   ],
   "source": [
    "df.shape"
   ]
  },
  {
   "cell_type": "code",
   "execution_count": 6,
   "id": "992463b6-3769-44d0-80da-f3816d8dc22a",
   "metadata": {},
   "outputs": [
    {
     "data": {
      "text/html": [
       "<div>\n",
       "<style scoped>\n",
       "    .dataframe tbody tr th:only-of-type {\n",
       "        vertical-align: middle;\n",
       "    }\n",
       "\n",
       "    .dataframe tbody tr th {\n",
       "        vertical-align: top;\n",
       "    }\n",
       "\n",
       "    .dataframe thead th {\n",
       "        text-align: right;\n",
       "    }\n",
       "</style>\n",
       "<table border=\"1\" class=\"dataframe\">\n",
       "  <thead>\n",
       "    <tr style=\"text-align: right;\">\n",
       "      <th></th>\n",
       "      <th>Target</th>\n",
       "      <th>Analogue</th>\n",
       "      <th>Index</th>\n",
       "      <th>t1</th>\n",
       "      <th>a1</th>\n",
       "      <th>a2</th>\n",
       "      <th>Label</th>\n",
       "      <th>target_smiles</th>\n",
       "      <th>analogue_smiles</th>\n",
       "    </tr>\n",
       "  </thead>\n",
       "  <tbody>\n",
       "    <tr>\n",
       "      <th>2</th>\n",
       "      <td>DTXSID4020298</td>\n",
       "      <td>DTXSID1020431</td>\n",
       "      <td>[1 1]</td>\n",
       "      <td>1</td>\n",
       "      <td>1.0</td>\n",
       "      <td>1.0</td>\n",
       "      <td>0</td>\n",
       "      <td>ClC1=CC=CC=C1</td>\n",
       "      <td>ClC1=CC=C(Cl)C=C1</td>\n",
       "    </tr>\n",
       "    <tr>\n",
       "      <th>3</th>\n",
       "      <td>DTXSID1020431</td>\n",
       "      <td>DTXSID4020298</td>\n",
       "      <td>[1 1]</td>\n",
       "      <td>1</td>\n",
       "      <td>1.0</td>\n",
       "      <td>1.0</td>\n",
       "      <td>0</td>\n",
       "      <td>ClC1=CC=C(Cl)C=C1</td>\n",
       "      <td>ClC1=CC=CC=C1</td>\n",
       "    </tr>\n",
       "    <tr>\n",
       "      <th>4</th>\n",
       "      <td>DTXSID4020298</td>\n",
       "      <td>DTXSID6020430</td>\n",
       "      <td>[1 1]</td>\n",
       "      <td>1</td>\n",
       "      <td>1.0</td>\n",
       "      <td>1.0</td>\n",
       "      <td>0</td>\n",
       "      <td>ClC1=CC=CC=C1</td>\n",
       "      <td>ClC1=C(Cl)C=CC=C1</td>\n",
       "    </tr>\n",
       "    <tr>\n",
       "      <th>5</th>\n",
       "      <td>DTXSID6020430</td>\n",
       "      <td>DTXSID4020298</td>\n",
       "      <td>[1 1]</td>\n",
       "      <td>1</td>\n",
       "      <td>1.0</td>\n",
       "      <td>1.0</td>\n",
       "      <td>0</td>\n",
       "      <td>ClC1=C(Cl)C=CC=C1</td>\n",
       "      <td>ClC1=CC=CC=C1</td>\n",
       "    </tr>\n",
       "    <tr>\n",
       "      <th>6</th>\n",
       "      <td>DTXSID4020298</td>\n",
       "      <td>DTXSID6022056</td>\n",
       "      <td>[1 1]</td>\n",
       "      <td>1</td>\n",
       "      <td>1.0</td>\n",
       "      <td>1.0</td>\n",
       "      <td>0</td>\n",
       "      <td>ClC1=CC=CC=C1</td>\n",
       "      <td>ClC1=CC(Cl)=CC=C1</td>\n",
       "    </tr>\n",
       "  </tbody>\n",
       "</table>\n",
       "</div>"
      ],
      "text/plain": [
       "          Target       Analogue  Index  t1   a1   a2  Label  \\\n",
       "2  DTXSID4020298  DTXSID1020431  [1 1]   1  1.0  1.0      0   \n",
       "3  DTXSID1020431  DTXSID4020298  [1 1]   1  1.0  1.0      0   \n",
       "4  DTXSID4020298  DTXSID6020430  [1 1]   1  1.0  1.0      0   \n",
       "5  DTXSID6020430  DTXSID4020298  [1 1]   1  1.0  1.0      0   \n",
       "6  DTXSID4020298  DTXSID6022056  [1 1]   1  1.0  1.0      0   \n",
       "\n",
       "       target_smiles    analogue_smiles  \n",
       "2      ClC1=CC=CC=C1  ClC1=CC=C(Cl)C=C1  \n",
       "3  ClC1=CC=C(Cl)C=C1      ClC1=CC=CC=C1  \n",
       "4      ClC1=CC=CC=C1  ClC1=C(Cl)C=CC=C1  \n",
       "5  ClC1=C(Cl)C=CC=C1      ClC1=CC=CC=C1  \n",
       "6      ClC1=CC=CC=C1  ClC1=CC(Cl)=CC=C1  "
      ]
     },
     "execution_count": 6,
     "metadata": {},
     "output_type": "execute_result"
    }
   ],
   "source": [
    "df.head()"
   ]
  },
  {
   "cell_type": "code",
   "execution_count": 7,
   "id": "18c9670d-9dd2-4028-a121-3d506162ae17",
   "metadata": {},
   "outputs": [
    {
     "data": {
      "text/html": [
       "<div>\n",
       "<style scoped>\n",
       "    .dataframe tbody tr th:only-of-type {\n",
       "        vertical-align: middle;\n",
       "    }\n",
       "\n",
       "    .dataframe tbody tr th {\n",
       "        vertical-align: top;\n",
       "    }\n",
       "\n",
       "    .dataframe thead th {\n",
       "        text-align: right;\n",
       "    }\n",
       "</style>\n",
       "<table border=\"1\" class=\"dataframe\">\n",
       "  <thead>\n",
       "    <tr style=\"text-align: right;\">\n",
       "      <th></th>\n",
       "      <th>DTXSID4020298</th>\n",
       "      <th>DTXSID1020431</th>\n",
       "      <th>DTXSID6020430</th>\n",
       "      <th>DTXSID6022056</th>\n",
       "      <th>DTXSID0021965</th>\n",
       "      <th>DTXSID8026193</th>\n",
       "      <th>DTXSID8026195</th>\n",
       "      <th>DTXSID1026089</th>\n",
       "      <th>DTXSID6026088</th>\n",
       "      <th>DTXSID7024320</th>\n",
       "      <th>...</th>\n",
       "      <th>DTXSID70169512</th>\n",
       "      <th>DTXSID30196445</th>\n",
       "      <th>DTXSID50212055</th>\n",
       "      <th>DTXSID90166240</th>\n",
       "      <th>DTXSID4039233</th>\n",
       "      <th>DTXSID60916875</th>\n",
       "      <th>DTXSID50864078</th>\n",
       "      <th>DTXSID20973686</th>\n",
       "      <th>DTXSID401015812</th>\n",
       "      <th>DTXSID501015053</th>\n",
       "    </tr>\n",
       "  </thead>\n",
       "  <tbody>\n",
       "    <tr>\n",
       "      <th>DTXSID4020298</th>\n",
       "      <td>0</td>\n",
       "      <td>0</td>\n",
       "      <td>0</td>\n",
       "      <td>0</td>\n",
       "      <td>0</td>\n",
       "      <td>0</td>\n",
       "      <td>0</td>\n",
       "      <td>0</td>\n",
       "      <td>0</td>\n",
       "      <td>0</td>\n",
       "      <td>...</td>\n",
       "      <td>1</td>\n",
       "      <td>1</td>\n",
       "      <td>1</td>\n",
       "      <td>1</td>\n",
       "      <td>1</td>\n",
       "      <td>1</td>\n",
       "      <td>1</td>\n",
       "      <td>1</td>\n",
       "      <td>1</td>\n",
       "      <td>1</td>\n",
       "    </tr>\n",
       "    <tr>\n",
       "      <th>DTXSID1020431</th>\n",
       "      <td>0</td>\n",
       "      <td>0</td>\n",
       "      <td>0</td>\n",
       "      <td>0</td>\n",
       "      <td>0</td>\n",
       "      <td>0</td>\n",
       "      <td>0</td>\n",
       "      <td>0</td>\n",
       "      <td>0</td>\n",
       "      <td>0</td>\n",
       "      <td>...</td>\n",
       "      <td>1</td>\n",
       "      <td>1</td>\n",
       "      <td>1</td>\n",
       "      <td>1</td>\n",
       "      <td>1</td>\n",
       "      <td>1</td>\n",
       "      <td>1</td>\n",
       "      <td>1</td>\n",
       "      <td>1</td>\n",
       "      <td>1</td>\n",
       "    </tr>\n",
       "    <tr>\n",
       "      <th>DTXSID6020430</th>\n",
       "      <td>0</td>\n",
       "      <td>0</td>\n",
       "      <td>0</td>\n",
       "      <td>0</td>\n",
       "      <td>0</td>\n",
       "      <td>0</td>\n",
       "      <td>0</td>\n",
       "      <td>0</td>\n",
       "      <td>0</td>\n",
       "      <td>0</td>\n",
       "      <td>...</td>\n",
       "      <td>1</td>\n",
       "      <td>1</td>\n",
       "      <td>1</td>\n",
       "      <td>1</td>\n",
       "      <td>1</td>\n",
       "      <td>1</td>\n",
       "      <td>1</td>\n",
       "      <td>1</td>\n",
       "      <td>1</td>\n",
       "      <td>1</td>\n",
       "    </tr>\n",
       "    <tr>\n",
       "      <th>DTXSID6022056</th>\n",
       "      <td>0</td>\n",
       "      <td>0</td>\n",
       "      <td>0</td>\n",
       "      <td>0</td>\n",
       "      <td>0</td>\n",
       "      <td>0</td>\n",
       "      <td>0</td>\n",
       "      <td>0</td>\n",
       "      <td>0</td>\n",
       "      <td>0</td>\n",
       "      <td>...</td>\n",
       "      <td>1</td>\n",
       "      <td>1</td>\n",
       "      <td>1</td>\n",
       "      <td>1</td>\n",
       "      <td>1</td>\n",
       "      <td>1</td>\n",
       "      <td>1</td>\n",
       "      <td>1</td>\n",
       "      <td>1</td>\n",
       "      <td>1</td>\n",
       "    </tr>\n",
       "    <tr>\n",
       "      <th>DTXSID0021965</th>\n",
       "      <td>0</td>\n",
       "      <td>0</td>\n",
       "      <td>0</td>\n",
       "      <td>0</td>\n",
       "      <td>0</td>\n",
       "      <td>0</td>\n",
       "      <td>0</td>\n",
       "      <td>0</td>\n",
       "      <td>0</td>\n",
       "      <td>0</td>\n",
       "      <td>...</td>\n",
       "      <td>1</td>\n",
       "      <td>1</td>\n",
       "      <td>1</td>\n",
       "      <td>1</td>\n",
       "      <td>1</td>\n",
       "      <td>1</td>\n",
       "      <td>1</td>\n",
       "      <td>1</td>\n",
       "      <td>1</td>\n",
       "      <td>1</td>\n",
       "    </tr>\n",
       "    <tr>\n",
       "      <th>...</th>\n",
       "      <td>...</td>\n",
       "      <td>...</td>\n",
       "      <td>...</td>\n",
       "      <td>...</td>\n",
       "      <td>...</td>\n",
       "      <td>...</td>\n",
       "      <td>...</td>\n",
       "      <td>...</td>\n",
       "      <td>...</td>\n",
       "      <td>...</td>\n",
       "      <td>...</td>\n",
       "      <td>...</td>\n",
       "      <td>...</td>\n",
       "      <td>...</td>\n",
       "      <td>...</td>\n",
       "      <td>...</td>\n",
       "      <td>...</td>\n",
       "      <td>...</td>\n",
       "      <td>...</td>\n",
       "      <td>...</td>\n",
       "      <td>...</td>\n",
       "    </tr>\n",
       "    <tr>\n",
       "      <th>DTXSID60916875</th>\n",
       "      <td>1</td>\n",
       "      <td>1</td>\n",
       "      <td>1</td>\n",
       "      <td>1</td>\n",
       "      <td>1</td>\n",
       "      <td>1</td>\n",
       "      <td>1</td>\n",
       "      <td>1</td>\n",
       "      <td>1</td>\n",
       "      <td>1</td>\n",
       "      <td>...</td>\n",
       "      <td>0</td>\n",
       "      <td>0</td>\n",
       "      <td>0</td>\n",
       "      <td>0</td>\n",
       "      <td>0</td>\n",
       "      <td>0</td>\n",
       "      <td>0</td>\n",
       "      <td>0</td>\n",
       "      <td>0</td>\n",
       "      <td>0</td>\n",
       "    </tr>\n",
       "    <tr>\n",
       "      <th>DTXSID50864078</th>\n",
       "      <td>1</td>\n",
       "      <td>1</td>\n",
       "      <td>1</td>\n",
       "      <td>1</td>\n",
       "      <td>1</td>\n",
       "      <td>1</td>\n",
       "      <td>1</td>\n",
       "      <td>1</td>\n",
       "      <td>1</td>\n",
       "      <td>1</td>\n",
       "      <td>...</td>\n",
       "      <td>0</td>\n",
       "      <td>0</td>\n",
       "      <td>0</td>\n",
       "      <td>0</td>\n",
       "      <td>0</td>\n",
       "      <td>0</td>\n",
       "      <td>0</td>\n",
       "      <td>0</td>\n",
       "      <td>0</td>\n",
       "      <td>0</td>\n",
       "    </tr>\n",
       "    <tr>\n",
       "      <th>DTXSID20973686</th>\n",
       "      <td>1</td>\n",
       "      <td>1</td>\n",
       "      <td>1</td>\n",
       "      <td>1</td>\n",
       "      <td>1</td>\n",
       "      <td>1</td>\n",
       "      <td>1</td>\n",
       "      <td>1</td>\n",
       "      <td>1</td>\n",
       "      <td>1</td>\n",
       "      <td>...</td>\n",
       "      <td>0</td>\n",
       "      <td>0</td>\n",
       "      <td>0</td>\n",
       "      <td>0</td>\n",
       "      <td>0</td>\n",
       "      <td>0</td>\n",
       "      <td>0</td>\n",
       "      <td>0</td>\n",
       "      <td>0</td>\n",
       "      <td>0</td>\n",
       "    </tr>\n",
       "    <tr>\n",
       "      <th>DTXSID401015812</th>\n",
       "      <td>1</td>\n",
       "      <td>1</td>\n",
       "      <td>1</td>\n",
       "      <td>1</td>\n",
       "      <td>1</td>\n",
       "      <td>1</td>\n",
       "      <td>1</td>\n",
       "      <td>1</td>\n",
       "      <td>1</td>\n",
       "      <td>1</td>\n",
       "      <td>...</td>\n",
       "      <td>0</td>\n",
       "      <td>0</td>\n",
       "      <td>0</td>\n",
       "      <td>0</td>\n",
       "      <td>0</td>\n",
       "      <td>0</td>\n",
       "      <td>0</td>\n",
       "      <td>0</td>\n",
       "      <td>0</td>\n",
       "      <td>0</td>\n",
       "    </tr>\n",
       "    <tr>\n",
       "      <th>DTXSID501015053</th>\n",
       "      <td>1</td>\n",
       "      <td>1</td>\n",
       "      <td>1</td>\n",
       "      <td>1</td>\n",
       "      <td>1</td>\n",
       "      <td>1</td>\n",
       "      <td>1</td>\n",
       "      <td>1</td>\n",
       "      <td>1</td>\n",
       "      <td>1</td>\n",
       "      <td>...</td>\n",
       "      <td>0</td>\n",
       "      <td>0</td>\n",
       "      <td>0</td>\n",
       "      <td>0</td>\n",
       "      <td>0</td>\n",
       "      <td>0</td>\n",
       "      <td>0</td>\n",
       "      <td>0</td>\n",
       "      <td>0</td>\n",
       "      <td>0</td>\n",
       "    </tr>\n",
       "  </tbody>\n",
       "</table>\n",
       "<p>184 rows × 184 columns</p>\n",
       "</div>"
      ],
      "text/plain": [
       "                 DTXSID4020298  DTXSID1020431  DTXSID6020430  DTXSID6022056  \\\n",
       "DTXSID4020298                0              0              0              0   \n",
       "DTXSID1020431                0              0              0              0   \n",
       "DTXSID6020430                0              0              0              0   \n",
       "DTXSID6022056                0              0              0              0   \n",
       "DTXSID0021965                0              0              0              0   \n",
       "...                        ...            ...            ...            ...   \n",
       "DTXSID60916875               1              1              1              1   \n",
       "DTXSID50864078               1              1              1              1   \n",
       "DTXSID20973686               1              1              1              1   \n",
       "DTXSID401015812              1              1              1              1   \n",
       "DTXSID501015053              1              1              1              1   \n",
       "\n",
       "                 DTXSID0021965  DTXSID8026193  DTXSID8026195  DTXSID1026089  \\\n",
       "DTXSID4020298                0              0              0              0   \n",
       "DTXSID1020431                0              0              0              0   \n",
       "DTXSID6020430                0              0              0              0   \n",
       "DTXSID6022056                0              0              0              0   \n",
       "DTXSID0021965                0              0              0              0   \n",
       "...                        ...            ...            ...            ...   \n",
       "DTXSID60916875               1              1              1              1   \n",
       "DTXSID50864078               1              1              1              1   \n",
       "DTXSID20973686               1              1              1              1   \n",
       "DTXSID401015812              1              1              1              1   \n",
       "DTXSID501015053              1              1              1              1   \n",
       "\n",
       "                 DTXSID6026088  DTXSID7024320  ...  DTXSID70169512  \\\n",
       "DTXSID4020298                0              0  ...               1   \n",
       "DTXSID1020431                0              0  ...               1   \n",
       "DTXSID6020430                0              0  ...               1   \n",
       "DTXSID6022056                0              0  ...               1   \n",
       "DTXSID0021965                0              0  ...               1   \n",
       "...                        ...            ...  ...             ...   \n",
       "DTXSID60916875               1              1  ...               0   \n",
       "DTXSID50864078               1              1  ...               0   \n",
       "DTXSID20973686               1              1  ...               0   \n",
       "DTXSID401015812              1              1  ...               0   \n",
       "DTXSID501015053              1              1  ...               0   \n",
       "\n",
       "                 DTXSID30196445  DTXSID50212055  DTXSID90166240  \\\n",
       "DTXSID4020298                 1               1               1   \n",
       "DTXSID1020431                 1               1               1   \n",
       "DTXSID6020430                 1               1               1   \n",
       "DTXSID6022056                 1               1               1   \n",
       "DTXSID0021965                 1               1               1   \n",
       "...                         ...             ...             ...   \n",
       "DTXSID60916875                0               0               0   \n",
       "DTXSID50864078                0               0               0   \n",
       "DTXSID20973686                0               0               0   \n",
       "DTXSID401015812               0               0               0   \n",
       "DTXSID501015053               0               0               0   \n",
       "\n",
       "                 DTXSID4039233  DTXSID60916875  DTXSID50864078  \\\n",
       "DTXSID4020298                1               1               1   \n",
       "DTXSID1020431                1               1               1   \n",
       "DTXSID6020430                1               1               1   \n",
       "DTXSID6022056                1               1               1   \n",
       "DTXSID0021965                1               1               1   \n",
       "...                        ...             ...             ...   \n",
       "DTXSID60916875               0               0               0   \n",
       "DTXSID50864078               0               0               0   \n",
       "DTXSID20973686               0               0               0   \n",
       "DTXSID401015812              0               0               0   \n",
       "DTXSID501015053              0               0               0   \n",
       "\n",
       "                 DTXSID20973686  DTXSID401015812  DTXSID501015053  \n",
       "DTXSID4020298                 1                1                1  \n",
       "DTXSID1020431                 1                1                1  \n",
       "DTXSID6020430                 1                1                1  \n",
       "DTXSID6022056                 1                1                1  \n",
       "DTXSID0021965                 1                1                1  \n",
       "...                         ...              ...              ...  \n",
       "DTXSID60916875                0                0                0  \n",
       "DTXSID50864078                0                0                0  \n",
       "DTXSID20973686                0                0                0  \n",
       "DTXSID401015812               0                0                0  \n",
       "DTXSID501015053               0                0                0  \n",
       "\n",
       "[184 rows x 184 columns]"
      ]
     },
     "execution_count": 7,
     "metadata": {},
     "output_type": "execute_result"
    }
   ],
   "source": [
    "new_df2 = pd.read_csv('new_df2.csv', index_col = [0])\n",
    "new_df2"
   ]
  },
  {
   "cell_type": "code",
   "execution_count": 8,
   "id": "e5429d7e-f084-4390-950e-b8341dfbda9b",
   "metadata": {},
   "outputs": [],
   "source": [
    "import numpy as np"
   ]
  },
  {
   "cell_type": "code",
   "execution_count": 9,
   "id": "b9e21a1c-ed46-411d-bf36-ac09173275d2",
   "metadata": {},
   "outputs": [],
   "source": [
    "def remove_upper_triangle(df):\n",
    "    # Get the upper triangle mask\n",
    "    mask = pd.DataFrame(np.triu(np.ones(df.shape), k=0), columns=df.columns, index=df.index)\n",
    "\n",
    "    # Set upper triangle values to NaN\n",
    "    df = df.where(mask == 0)\n",
    "\n",
    "    return df"
   ]
  },
  {
   "cell_type": "code",
   "execution_count": 10,
   "id": "cde2fea0-34af-4a90-ba91-5c575da1bd6a",
   "metadata": {},
   "outputs": [],
   "source": [
    "new_df3 = remove_upper_triangle(new_df2)"
   ]
  },
  {
   "cell_type": "code",
   "execution_count": 11,
   "id": "e70b1325-6086-4246-acce-03e7cb263149",
   "metadata": {},
   "outputs": [],
   "source": [
    "new_df3 =new_df3.unstack().reset_index().dropna()"
   ]
  },
  {
   "cell_type": "code",
   "execution_count": 12,
   "id": "8358192f-1b1f-41af-acc0-cb5a28407c07",
   "metadata": {},
   "outputs": [],
   "source": [
    "new_df3.columns = ['Target', 'Analogue', 'Label']"
   ]
  },
  {
   "cell_type": "code",
   "execution_count": 13,
   "id": "9c5404b4-b5fe-4a4b-ad17-c12f9b5c9856",
   "metadata": {},
   "outputs": [],
   "source": [
    "target_smi = {k:v for k,v in zip(df['Target'], df['target_smiles'])}\n",
    "analogue_smi = {k:v for k,v in zip(df['Analogue'], df['analogue_smiles'])}"
   ]
  },
  {
   "cell_type": "code",
   "execution_count": 14,
   "id": "3d9e8e80-3290-4c6d-815b-c447a8d351f0",
   "metadata": {},
   "outputs": [],
   "source": [
    "new_df3['target_smi'] = new_df3['Target'].apply(lambda x: target_smi[x])"
   ]
  },
  {
   "cell_type": "code",
   "execution_count": 15,
   "id": "ec63b9a9-6812-43fe-9605-a8226e9cbb48",
   "metadata": {},
   "outputs": [],
   "source": [
    "new_df3['target_mol'] = [Chem.MolFromSmiles(e) for e in new_df3['target_smi']]\n",
    "new_df3['analogue_smi'] = new_df3['Analogue'].apply(lambda x: analogue_smi[x])"
   ]
  },
  {
   "cell_type": "code",
   "execution_count": 16,
   "id": "6ba5fb48-2423-4277-9eb9-ee17c075fdc0",
   "metadata": {},
   "outputs": [],
   "source": [
    "new_df3['target_FP'] = [np.array(AllChem.GetMorganFingerprintAsBitVect(i,3,1024)) for i in new_df3['target_mol']]"
   ]
  },
  {
   "cell_type": "code",
   "execution_count": 17,
   "id": "b2143550-9c37-48c7-b163-5395f3a3c87b",
   "metadata": {},
   "outputs": [],
   "source": [
    "new_df3['analogue_mol'] = [Chem.MolFromSmiles(e) for e in new_df3['analogue_smi']]"
   ]
  },
  {
   "cell_type": "code",
   "execution_count": 18,
   "id": "f9c9e757-2ffb-4d9b-a6a9-c2d1110d27c2",
   "metadata": {},
   "outputs": [],
   "source": [
    "new_df3['analogue_FP'] = [np.array(AllChem.GetMorganFingerprintAsBitVect(i,3,1024)) for i in new_df3['analogue_mol']]"
   ]
  },
  {
   "cell_type": "code",
   "execution_count": 24,
   "id": "9a13bc2a-735a-4d48-93dc-a63b8561209f",
   "metadata": {},
   "outputs": [],
   "source": [
    "new_df3['Label2'] = new_df3['Label'].apply(lambda x: 0 if x==1 else 1)"
   ]
  },
  {
   "cell_type": "code",
   "execution_count": 25,
   "id": "3f9fa9a5-5836-4e8e-9f30-114d68b77374",
   "metadata": {},
   "outputs": [
    {
     "data": {
      "text/plain": [
       "Label2\n",
       "1    15614\n",
       "0     1222\n",
       "Name: count, dtype: int64"
      ]
     },
     "execution_count": 25,
     "metadata": {},
     "output_type": "execute_result"
    }
   ],
   "source": [
    "new_df3.Label2.value_counts()"
   ]
  },
  {
   "cell_type": "code",
   "execution_count": 26,
   "id": "b8a65ff3-bc3d-49c9-b411-d2bf92e49cd2",
   "metadata": {},
   "outputs": [],
   "source": [
    "new_df3.drop(['Label'], axis = 1, inplace = True)"
   ]
  },
  {
   "cell_type": "code",
   "execution_count": 27,
   "id": "734317fc-6662-47e6-b115-dfd75bf6d247",
   "metadata": {},
   "outputs": [],
   "source": [
    "new_df3.rename(columns = {'Label2':'Label'}, inplace = True)"
   ]
  },
  {
   "cell_type": "code",
   "execution_count": 28,
   "id": "a27332c5-df4f-467c-8033-0615201d8c7f",
   "metadata": {},
   "outputs": [
    {
     "data": {
      "text/plain": [
       "Label\n",
       "1    15614\n",
       "0     1222\n",
       "Name: count, dtype: int64"
      ]
     },
     "execution_count": 28,
     "metadata": {},
     "output_type": "execute_result"
    }
   ],
   "source": [
    "new_df3.Label.value_counts()"
   ]
  },
  {
   "cell_type": "code",
   "execution_count": 29,
   "id": "edaecba6-7f74-4528-98b5-a32152b9bae8",
   "metadata": {},
   "outputs": [],
   "source": [
    "from rdkit import DataStructs\n",
    "from rdkit.Chem import AllChem"
   ]
  },
  {
   "cell_type": "code",
   "execution_count": 30,
   "id": "0ed617f2-ce45-4552-b178-fb3ceb3f1c15",
   "metadata": {},
   "outputs": [],
   "source": [
    "fpgen = AllChem.GetMorganGenerator(radius=3, fpSize=1024)"
   ]
  },
  {
   "cell_type": "code",
   "execution_count": 31,
   "id": "31d2c30b-c0b9-4d1d-a635-395bed8f289b",
   "metadata": {},
   "outputs": [
    {
     "data": {
      "text/plain": [
       "<rdkit.Chem.rdFingerprintGenerator.FingeprintGenerator64 at 0x7fb7ea20c3c0>"
      ]
     },
     "execution_count": 31,
     "metadata": {},
     "output_type": "execute_result"
    }
   ],
   "source": [
    "fpgen"
   ]
  },
  {
   "cell_type": "code",
   "execution_count": 32,
   "id": "37eb5428-982a-47d2-9f26-86f4aaa7ebd2",
   "metadata": {},
   "outputs": [],
   "source": [
    "new_df3['fps_target'] = new_df3['target_mol'].apply(lambda x: fpgen.GetFingerprint(x))"
   ]
  },
  {
   "cell_type": "code",
   "execution_count": 33,
   "id": "03de3be8-4d56-4f42-8aa9-f55d83f30be8",
   "metadata": {},
   "outputs": [],
   "source": [
    "new_df3['fps_analogue'] = new_df3['analogue_mol'].apply(lambda x: fpgen.GetFingerprint(x))"
   ]
  },
  {
   "cell_type": "code",
   "execution_count": 34,
   "id": "20833bbd-b148-47dd-95fb-0cf329a3ef92",
   "metadata": {},
   "outputs": [],
   "source": [
    "#new_df3"
   ]
  },
  {
   "cell_type": "code",
   "execution_count": 35,
   "id": "68c45489-89bd-4533-a87d-793a3a565083",
   "metadata": {},
   "outputs": [],
   "source": [
    "mylst = []\n",
    "for i, row in new_df3.iterrows():\n",
    "    mylst.append(DataStructs.TanimotoSimilarity(row['fps_target'], row['fps_analogue']))\n",
    "\n",
    "#DataStructs.TanimotoSimilarity(new_df3[['target_FP', 'analogue_FP']].iloc[0,:].values[0], new_df3[['target_FP', 'analogue_FP']].iloc[0,:].values[1])"
   ]
  },
  {
   "cell_type": "code",
   "execution_count": 36,
   "id": "2e4e02b9-65c3-488c-937c-ee0122bcaed7",
   "metadata": {},
   "outputs": [
    {
     "data": {
      "text/plain": [
       "16836"
      ]
     },
     "execution_count": 36,
     "metadata": {},
     "output_type": "execute_result"
    }
   ],
   "source": [
    "len(mylst)"
   ]
  },
  {
   "cell_type": "code",
   "execution_count": 37,
   "id": "3a4a0b7c-2145-4d02-94e2-4d9288e2112c",
   "metadata": {},
   "outputs": [],
   "source": [
    "new_df3['Tanimoto'] = mylst"
   ]
  },
  {
   "cell_type": "code",
   "execution_count": 38,
   "id": "995758cb-eb97-44fa-8572-3ea790a7ce2d",
   "metadata": {},
   "outputs": [
    {
     "data": {
      "text/plain": [
       "<Axes: >"
      ]
     },
     "execution_count": 38,
     "metadata": {},
     "output_type": "execute_result"
    },
    {
     "data": {
      "image/png": "[encoded data removed]",
      "text/plain": [
       "<Figure size 640x480 with 1 Axes>"
      ]
     },
     "metadata": {},
     "output_type": "display_data"
    }
   ],
   "source": [
    "new_df3[new_df3['Label'] ==0]['Tanimoto'].hist()"
   ]
  },
  {
   "cell_type": "code",
   "execution_count": 39,
   "id": "73229680-f138-4196-b9f8-74f88c0f867f",
   "metadata": {},
   "outputs": [
    {
     "data": {
      "text/plain": [
       "<Axes: >"
      ]
     },
     "execution_count": 39,
     "metadata": {},
     "output_type": "execute_result"
    },
    {
     "data": {
      "image/png": "[encoded data removed]",
      "text/plain": [
       "<Figure size 640x480 with 1 Axes>"
      ]
     },
     "metadata": {},
     "output_type": "display_data"
    }
   ],
   "source": [
    "new_df3[new_df3['Label'] ==1]['Tanimoto'].hist()"
   ]
  },
  {
   "cell_type": "code",
   "execution_count": 40,
   "id": "bbf00318-d444-4ef1-b8ba-f24e549648e3",
   "metadata": {},
   "outputs": [],
   "source": [
    "from sklearn.model_selection import train_test_split\n",
    "#from kennard_stone import train_test_split\n",
    "\n",
    "from torch.utils.data import Dataset, DataLoader"
   ]
  },
  {
   "cell_type": "code",
   "execution_count": 41,
   "id": "0fdf131e-50b6-4bec-bcf3-727f01a76bf2",
   "metadata": {},
   "outputs": [],
   "source": [
    "X_train, X_test, y_train, y_test  = train_test_split(new_df3[['Target', \t'Analogue','target_smi', 'analogue_smi', 'Label']], new_df3['Label'], stratify = new_df3['Label'], random_state = 42,test_size=0.2)"
   ]
  },
  {
   "cell_type": "code",
   "execution_count": 42,
   "id": "0fc1268f-a329-4447-9f8d-0c14aaae9c17",
   "metadata": {},
   "outputs": [
    {
     "data": {
      "text/plain": [
       "Label\n",
       "1    0.927383\n",
       "0    0.072617\n",
       "Name: proportion, dtype: float64"
      ]
     },
     "execution_count": 42,
     "metadata": {},
     "output_type": "execute_result"
    }
   ],
   "source": [
    "y_train.value_counts(normalize = True)"
   ]
  },
  {
   "cell_type": "code",
   "execution_count": 43,
   "id": "7c32dcb3-16c0-4c08-be4e-def502f717d4",
   "metadata": {},
   "outputs": [
    {
     "data": {
      "text/plain": [
       "Label\n",
       "1    0.927553\n",
       "0    0.072447\n",
       "Name: proportion, dtype: float64"
      ]
     },
     "execution_count": 43,
     "metadata": {},
     "output_type": "execute_result"
    }
   ],
   "source": [
    "y_test.value_counts(normalize = True)"
   ]
  },
  {
   "cell_type": "code",
   "execution_count": 44,
   "id": "8e388fca-21e9-4fcc-931e-bbcded77906c",
   "metadata": {},
   "outputs": [
    {
     "data": {
      "text/plain": [
       "Index(['Target', 'Analogue', 'target_smi', 'analogue_smi', 'Label'], dtype='object')"
      ]
     },
     "execution_count": 44,
     "metadata": {},
     "output_type": "execute_result"
    }
   ],
   "source": [
    "X_train.columns"
   ]
  },
  {
   "cell_type": "code",
   "execution_count": 45,
   "id": "0418318a-5a2e-4ba4-8834-f071829ceabc",
   "metadata": {},
   "outputs": [],
   "source": [
    "from rdkit import Chem\n",
    "from rdkit.Chem import AllChem\n",
    "from rdkit.Chem import rdDistGeom as molDG\n",
    "from rdkit.Chem import rdmolops"
   ]
  },
  {
   "cell_type": "code",
   "execution_count": 46,
   "id": "d8d33f67-d214-4e60-9897-dc992a9ec502",
   "metadata": {},
   "outputs": [],
   "source": [
    "class Graph:\n",
    "    def __init__(self, smiles: str,  node_vec_len: int, max_atoms: int = None):\n",
    "        \"\"\"\n",
    "        Construct a molecular graph of a given molecule with a SMILES string.\n",
    "\n",
    "        Build a node matrix that has dimensions (max_atoms,node_vec_len) and an\n",
    "        adjacency matrix with dimensions (max_atoms,max_atoms).\n",
    "\n",
    "        Parameters\n",
    "        ----------\n",
    "        molecule_smiles : str\n",
    "            SMILES string of the molecule\n",
    "        node_vec_len : int\n",
    "            DESCRIPTION.\n",
    "        max_atoms : int, optional\n",
    "            DESCRIPTION. The default is None.\n",
    "        \"\"\"\n",
    "\n",
    "        self.smiles = smiles\n",
    "        \n",
    "        self.node_vec_len = node_vec_len\n",
    "        self.max_atoms = max_atoms\n",
    "        self.smiles_to_mol()\n",
    "        if self.mol is not None:\n",
    "            self.smiles_to_graph()\n",
    "\n",
    "    def smiles_to_mol(self):\n",
    "        \"\"\"\n",
    "        Converts smiles string to Mol object in RDKit\n",
    "        \"\"\"\n",
    "\n",
    "        # Use MolFromSmiles from RDKit to get molecule object\n",
    "        mol = Chem.MolFromSmiles(self.smiles)\n",
    "        if mol is None:\n",
    "            self.mol = None\n",
    "            return\n",
    "\n",
    "        # Add hydrogens to molecule\n",
    "        self.mol = Chem.AddHs(mol)\n",
    "\n",
    "    def smiles_to_graph(self):\n",
    "        \"\"\"\n",
    "        Converts smiles to a graph.\n",
    "        \"\"\"\n",
    "\n",
    "        # Get list of atoms in molecule\n",
    "        atoms = self.mol.GetAtoms()\n",
    "\n",
    "        # Create empty node matrix\n",
    "        if self.max_atoms is None:\n",
    "            n_atoms = len(list(atoms))\n",
    "        else:\n",
    "            n_atoms = self.max_atoms\n",
    "        node_mat = np.zeros((n_atoms, self.node_vec_len))\n",
    "\n",
    "        # Iterate over atoms and add to node matrix\n",
    "        for atom in atoms:\n",
    "            # Get atom index and atomic number\n",
    "            atom_index = atom.GetIdx()\n",
    "            atom_no = atom.GetAtomicNum()\n",
    "\n",
    "            # Assign to node matrix\n",
    "            node_mat[atom_index, atom_no] = 1\n",
    "\n",
    "        # Create empty adjacency matrix\n",
    "        adj_mat = np.zeros((n_atoms, n_atoms))\n",
    "\n",
    "        # Create adjacency matrix\n",
    "        adj_mat = rdmolops.GetAdjacencyMatrix(self.mol)\n",
    "        self.std_adj_mat = np.copy(adj_mat)\n",
    "\n",
    "        # Create distance matrix\n",
    "        dist_mat = molDG.GetMoleculeBoundsMatrix(self.mol)\n",
    "        dist_mat[dist_mat == 0.0] = 1\n",
    "\n",
    "        # Get modified adjacency matrix\n",
    "        adj_mat = adj_mat * (1 / dist_mat)\n",
    "\n",
    "        # Pad the adjacency matrix\n",
    "        dim_add = n_atoms - adj_mat.shape[0]\n",
    "        adj_mat = np.pad(\n",
    "            adj_mat, pad_width=((0, dim_add), (0, dim_add)), mode=\"constant\"\n",
    "        )\n",
    "\n",
    "        # Add an identity matrix to adjacency matrix\n",
    "        # This will make an atom its own neighbor\n",
    "        adj_mat = adj_mat + np.eye(n_atoms)\n",
    "\n",
    "        # Save both matrices\n",
    "        self.node_mat = node_mat\n",
    "        self.adj_mat = adj_mat"
   ]
  },
  {
   "cell_type": "code",
   "execution_count": 47,
   "id": "2320f6d1-7571-41ab-94b3-2e673dc60781",
   "metadata": {},
   "outputs": [],
   "source": [
    "class GraphData(Dataset):\n",
    "    def __init__(self, df, node_vec_len: int, max_atoms: int):\n",
    "        \"\"\"\n",
    "        GraphData class inheriting from the Dataset class in PyTorch.\n",
    "\n",
    "        Parameters\n",
    "        ----------\n",
    "    \n",
    "        node_vec_len : int\n",
    "            Node vector length of molecular graphs\n",
    "        max_atoms : int\n",
    "            Maximum number of atoms in molecular graphs\n",
    "        \"\"\"\n",
    "        self.df = df\n",
    "\n",
    "        # Save attributes\n",
    "        self.node_vec_len = node_vec_len\n",
    "        self.max_atoms = max_atoms\n",
    "\n",
    "\n",
    "        # Create lists\n",
    "        #self.indices = df.index.to_list()\n",
    "        #self.smiles = df[\"smiles\"].to_list()\n",
    "        #self.outputs = df[\"measured log solubility in mols per litre\"].to_list()\n",
    "\n",
    "    def __len__(self):\n",
    "        return len(self.df)\n",
    "\n",
    "    def __getitem__(self, idx):\n",
    "        \n",
    "        \"\"\"\n",
    "        Returns node matrix, adjacency matrix, output, and SMILES string of\n",
    "        molecule.\n",
    "\n",
    "        Parameters\n",
    "        ----------\n",
    "        i : int\n",
    "            Dataset index\n",
    "\n",
    "        Returns\n",
    "        -------\n",
    "        node_mat : torch.Tensor with dimension (max_atoms,node_vec_len)\n",
    "            Node matrix\n",
    "        adj_mat: torch.Tensor with dimension (max_atoms,max_atoms)\n",
    "            Adjacency matrix\n",
    "        output : torch.Tensor with dimension n_outputs\n",
    "            Output vector\n",
    "        smile : str\n",
    "            SMILES string of molecule\n",
    "        \"\"\"\n",
    "        \n",
    "        row = self.df.iloc[idx]\n",
    "        target_mol = Graph(row['target_smi'],self.node_vec_len, self.max_atoms)\n",
    "        analogue_mol = Graph(row['analogue_smi'],self.node_vec_len, self.max_atoms)\n",
    "\n",
    "        \n",
    "        # Get matrices\n",
    "        target_node_mat = torch.Tensor(target_mol.node_mat)\n",
    "        target_adj_mat = torch.Tensor(target_mol.adj_mat)\n",
    "        \n",
    "        analogue_node_mat = torch.Tensor(analogue_mol.node_mat)\n",
    "        analogue_adj_mat = torch.Tensor(analogue_mol.adj_mat)\n",
    "\n",
    "        # Get output\n",
    "        label = torch.tensor(row['Label']).float() \n",
    "\n",
    "        return (target_node_mat, target_adj_mat), (analogue_node_mat, analogue_adj_mat), label\n",
    "\n",
    "   \n",
    "\n"
   ]
  },
  {
   "cell_type": "code",
   "execution_count": 48,
   "id": "0e3f1e9b-f879-4e4c-b016-bedfe2b16dc2",
   "metadata": {},
   "outputs": [],
   "source": [
    "def collate_graph_dataset(dataset: Dataset):\n",
    "    # Create empty lists of node and adjacency matrices, outputs, and smiles\n",
    "    target_node_mats = []\n",
    "    target_adj_mats = []\n",
    "    analogue_node_mats = []\n",
    "    analogue_adj_mats = []\n",
    "    labels = []\n",
    "    \n",
    "    \n",
    "    # Iterate over list and assign each component to the correct list\n",
    "    for i in range(len(dataset)):\n",
    "        (target_node_mat,target_adj_mat),(analogue_node_mat,analogue_adj_mat), label  = dataset[i]\n",
    "        target_node_mats.append(target_node_mat)\n",
    "        target_adj_mats.append(target_adj_mat)\n",
    "        analogue_node_mats.append(analogue_node_mat)\n",
    "        analogue_adj_mats.append(analogue_adj_mat)\n",
    "        labels.append(label)\n",
    "        \n",
    "    \n",
    "        \n",
    "    # Create tensors\n",
    "    target_node_mats_tensor = torch.cat(target_node_mats, dim=0)\n",
    "    target_adj_mats_tensor = torch.cat(target_adj_mats, dim=0)\n",
    "    analogue_node_mats_tensor = torch.cat(analogue_node_mats, dim=0)\n",
    "    analogue_adj_mats_tensor = torch.cat(analogue_adj_mats, dim=0)\n",
    "    labels_tensor = torch.stack(labels, dim=0)\n",
    "    \n",
    "    # Return tensors\n",
    "    return  (target_node_mats_tensor, target_adj_mats_tensor), (analogue_node_mats_tensor, analogue_adj_mats_tensor), labels_tensor, "
   ]
  },
  {
   "cell_type": "code",
   "execution_count": 49,
   "id": "ad53ec29-b2f4-41d7-af25-0a9a25697c59",
   "metadata": {},
   "outputs": [],
   "source": [
    "train_dataset = GraphData(X_train, max_atoms=200, \n",
    "                        node_vec_len=60)"
   ]
  },
  {
   "cell_type": "code",
   "execution_count": 86,
   "id": "e9973d70-04e8-4fe6-bf7e-49fc7a38ef1e",
   "metadata": {},
   "outputs": [
    {
     "data": {
      "text/plain": [
       "tensor(1.)"
      ]
     },
     "execution_count": 86,
     "metadata": {},
     "output_type": "execute_result"
    }
   ],
   "source": [
    "train_dataset[0][2]"
   ]
  },
  {
   "cell_type": "code",
   "execution_count": 51,
   "id": "1183a79d-514d-4a69-ab7b-f00d2b872eb6",
   "metadata": {},
   "outputs": [],
   "source": [
    "test_dataset = GraphData(X_test, max_atoms=200, \n",
    "                        node_vec_len=60)"
   ]
  },
  {
   "cell_type": "code",
   "execution_count": 83,
   "id": "5cf1a286-9020-49ef-8306-26ace2127067",
   "metadata": {},
   "outputs": [],
   "source": [
    "from torch_geometric.data import Data\n",
    "\n",
    "def adjacency_matrix_to_coo(node, adjacency_matrix, labels):\n",
    "    # Get non-zero indices from the adjacency matrix\n",
    "    row, col = torch.nonzero(adjacency_matrix, as_tuple=True)\n",
    "\n",
    "    # Create COO representation\n",
    "    edge_index = torch.stack([row, col], dim=0)\n",
    "\n",
    "    # Create a PyTorch Geometric Data object\n",
    "    data = Data(x=node, edge_index=edge_index, y = labels)\n",
    "\n",
    "    return data"
   ]
  },
  {
   "cell_type": "code",
   "execution_count": 53,
   "id": "556f338d-e4ff-4856-982b-2ece1a62049e",
   "metadata": {},
   "outputs": [],
   "source": [
    "graph_data = adjacency_matrix_to_coo(train_dataset[0][0][0], train_dataset[0][0][1])"
   ]
  },
  {
   "cell_type": "code",
   "execution_count": 54,
   "id": "8c713427-c7ea-40fd-849e-5a03a1a8fa3e",
   "metadata": {},
   "outputs": [
    {
     "data": {
      "text/plain": [
       "Data(x=[200, 60], edge_index=[2, 236])"
      ]
     },
     "execution_count": 54,
     "metadata": {},
     "output_type": "execute_result"
    }
   ],
   "source": [
    "graph_data"
   ]
  },
  {
   "cell_type": "code",
   "execution_count": 75,
   "id": "87143792-9549-4793-8420-156bf743c129",
   "metadata": {},
   "outputs": [],
   "source": [
    "from torch_geometric.data import Data, Dataset\n",
    "\n",
    "class CustomGraphDataset(Dataset):\n",
    "    def __init__(self, graph_list):\n",
    "        super(CustomGraphDataset, self).__init__()\n",
    "        self.graph_list = graph_list\n",
    "\n",
    "    def len(self):\n",
    "        return len(self.graph_list)\n",
    "\n",
    "    def get(self, idx):\n",
    "        return self.graph_list[idx]\n"
   ]
  },
  {
   "cell_type": "code",
   "execution_count": 60,
   "id": "46dbaefb-f077-4344-9d1d-dfe809269fb1",
   "metadata": {},
   "outputs": [],
   "source": [
    "graph_lst = []\n",
    "\n",
    "for i in range(len(train_dataset)):\n",
    "    graph_lst.append(adjacency_matrix_to_coo(train_dataset[i][0][0], train_dataset[i][0][1]))"
   ]
  },
  {
   "cell_type": "code",
   "execution_count": 61,
   "id": "4bd254ab-58e2-472b-b7dc-6688ed749f75",
   "metadata": {},
   "outputs": [
    {
     "data": {
      "text/plain": [
       "[Data(x=[200, 60], edge_index=[2, 236]),\n",
       " Data(x=[200, 60], edge_index=[2, 218]),\n",
       " Data(x=[200, 60], edge_index=[2, 276]),\n",
       " Data(x=[200, 60], edge_index=[2, 204]),\n",
       " Data(x=[200, 60], edge_index=[2, 286]),\n",
       " Data(x=[200, 60], edge_index=[2, 234]),\n",
       " Data(x=[200, 60], edge_index=[2, 224]),\n",
       " Data(x=[200, 60], edge_index=[2, 244]),\n",
       " Data(x=[200, 60], edge_index=[2, 278]),\n",
       " Data(x=[200, 60], edge_index=[2, 322])]"
      ]
     },
     "execution_count": 61,
     "metadata": {},
     "output_type": "execute_result"
    }
   ],
   "source": [
    "graph_lst[:10]"
   ]
  },
  {
   "cell_type": "code",
   "execution_count": 76,
   "id": "d01731c1-ca99-4462-acd1-01c7d51ae754",
   "metadata": {},
   "outputs": [],
   "source": [
    "custom_dataset = CustomGraphDataset(graph_lst)"
   ]
  },
  {
   "cell_type": "code",
   "execution_count": null,
   "id": "b9369683-5a5a-405b-af1e-dc4b228e85e0",
   "metadata": {},
   "outputs": [],
   "source": []
  },
  {
   "cell_type": "code",
   "execution_count": 68,
   "id": "33a1b519-7f28-47aa-9a87-235ec6a56c4a",
   "metadata": {},
   "outputs": [],
   "source": [
    "from torch_geometric.utils import to_networkx\n",
    "import networkx as nx\n",
    "import matplotlib.pyplot as plt\n",
    "\n"
   ]
  },
  {
   "cell_type": "code",
   "execution_count": 69,
   "id": "0c33edf9-12fc-496d-84c2-f973c762faa5",
   "metadata": {},
   "outputs": [],
   "source": [
    "from torch.nn import Linear\n",
    "from torch_geometric.nn import GCNConv"
   ]
  },
  {
   "cell_type": "code",
   "execution_count": null,
   "id": "4330356e-ae66-42ce-9d1b-5e56ec1b06fc",
   "metadata": {},
   "outputs": [],
   "source": []
  },
  {
   "cell_type": "code",
   "execution_count": null,
   "id": "aa4448c7-45d2-446f-b43b-25ce5996ab99",
   "metadata": {},
   "outputs": [],
   "source": []
  },
  {
   "cell_type": "code",
   "execution_count": null,
   "id": "e0b52c2c-2939-4bbc-a1b9-eb6f7b077d1c",
   "metadata": {},
   "outputs": [],
   "source": []
  },
  {
   "cell_type": "code",
   "execution_count": 142,
   "id": "230090bf-bc58-4b07-b6d5-88bd635d4b88",
   "metadata": {},
   "outputs": [],
   "source": [
    "from torch import nn\n",
    "import torch.nn.functional as F"
   ]
  },
  {
   "cell_type": "code",
   "execution_count": 143,
   "id": "76d1fe8d-ae26-457b-a2c6-014707c704cf",
   "metadata": {},
   "outputs": [],
   "source": [
    "class ConvolutionLayer(nn.Module):\n",
    "    def __init__(self, node_in_len: int, node_out_len: int):\n",
    "        # Call constructor of base class\n",
    "        super().__init__()\n",
    "\n",
    "        # Create linear layer for node matrix\n",
    "        self.conv_linear = nn.Linear(node_in_len, node_out_len)\n",
    "\n",
    "        # Create activation function\n",
    "        self.conv_activation = nn.LeakyReLU()\n",
    "\n",
    "    def forward(self, node_mat, adj_mat):\n",
    "        # Calculate number of neighbors\n",
    "        n_neighbors = adj_mat.sum(dim=-1, keepdims=True)\n",
    "        # Create identity tensor\n",
    "        self.idx_mat = torch.eye(\n",
    "            adj_mat.shape[-2], adj_mat.shape[-1], device=n_neighbors.device\n",
    "        )\n",
    "        # Add new (batch) dimension and expand\n",
    "        idx_mat = self.idx_mat.unsqueeze(0).expand(*adj_mat.shape)\n",
    "        # Get inverse degree matrix\n",
    "        inv_degree_mat = torch.mul(idx_mat, 1 / n_neighbors)\n",
    "\n",
    "        # Perform matrix multiplication: D^(-1)AN\n",
    "        node_fea = torch.bmm(inv_degree_mat, adj_mat)\n",
    "        node_fea = torch.bmm(node_fea, node_mat)\n",
    "\n",
    "        # Perform linear transformation to node features \n",
    "        # (multiplication with W)\n",
    "        node_fea = self.conv_linear(node_fea)\n",
    "\n",
    "        # Apply activation\n",
    "        node_fea = self.conv_activation(node_fea)\n",
    "\n",
    "        return node_fea"
   ]
  },
  {
   "cell_type": "code",
   "execution_count": 144,
   "id": "5f30b18f-1981-47f4-be37-c6027dae1d8b",
   "metadata": {},
   "outputs": [],
   "source": [
    "class PoolingLayer(nn.Module):\n",
    "    def __init__(self):\n",
    "        # Call constructor of base class\n",
    "        super().__init__()\n",
    "\n",
    "    def forward(self, node_fea):\n",
    "        # Pool the node matrix\n",
    "        pooled_node_fea = node_fea.mean(dim=1)\n",
    "        return pooled_node_fea"
   ]
  },
  {
   "cell_type": "code",
   "execution_count": 145,
   "id": "b0927342-dcaf-4a1e-8e35-086104991525",
   "metadata": {},
   "outputs": [],
   "source": [
    "class ChemGCN(nn.Module):\n",
    "    def __init__(\n",
    "        self,\n",
    "        node_vec_len: int,\n",
    "        node_fea_len: int,\n",
    "        hidden_fea_len: int,\n",
    "        n_conv: int,\n",
    "        n_hidden: int,\n",
    "        n_outputs: int,\n",
    "        p_dropout: float = 0.0,\n",
    "    ):\n",
    "        # Call constructor of base class\n",
    "        super().__init__()\n",
    "\n",
    "        # Define layers\n",
    "        \n",
    "        \n",
    "        # Initial transformation from node matrix to node features\n",
    "        self.init_transform = nn.Linear(node_vec_len, node_fea_len)\n",
    "\n",
    "        # Convolution layers\n",
    "        self.conv_layers = nn.ModuleList(\n",
    "            [\n",
    "                ConvolutionLayer(\n",
    "                    node_in_len=node_fea_len,\n",
    "                    node_out_len=node_fea_len,\n",
    "                )\n",
    "                for i in range(n_conv)\n",
    "            ]\n",
    "        )\n",
    "\n",
    "        # Pool convolution outputs\n",
    "        self.pooling = PoolingLayer()\n",
    "        pooled_node_fea_len = node_fea_len\n",
    "\n",
    "        # Pooling activation\n",
    "        self.pooling_activation = nn.LeakyReLU()\n",
    "\n",
    "        # From pooled vector to hidden layers\n",
    "        self.pooled_to_hidden = nn.Linear(pooled_node_fea_len, hidden_fea_len)\n",
    "\n",
    "        # Hidden layer\n",
    "        self.hidden_layer = nn.Linear(hidden_fea_len, hidden_fea_len)\n",
    "\n",
    "        # Hidden layer activation function\n",
    "        self.hidden_activation = nn.LeakyReLU()\n",
    "\n",
    "        # Hidden layer dropout\n",
    "        self.dropout = nn.Dropout(p=p_dropout)\n",
    "\n",
    "        # If hidden layers more than 1, add more hidden layers\n",
    "        self.n_hidden = n_hidden\n",
    "        if self.n_hidden > 1:\n",
    "            self.hidden_layers = nn.ModuleList(\n",
    "                [self.hidden_layer for _ in range(n_hidden - 1)]\n",
    "            )\n",
    "            self.hidden_activation_layers = nn.ModuleList(\n",
    "                [self.hidden_activation for _ in range(n_hidden - 1)]\n",
    "            )\n",
    "            self.hidden_dropout_layers = nn.ModuleList(\n",
    "                [self.dropout for _ in range(n_hidden - 1)]\n",
    "            )\n",
    "\n",
    "        # Final layer going to the output\n",
    "        self.hidden_to_output = nn.Linear(hidden_fea_len, n_outputs)\n",
    "\n",
    "    def forward_once(self, node_mat, adj_mat):\n",
    "        # Perform initial transform on node_mat\n",
    "        node_fea = self.init_transform(node_mat)\n",
    "\n",
    "        # Perform convolutions\n",
    "        for conv in self.conv_layers:\n",
    "            node_fea = conv(node_fea, adj_mat)\n",
    "\n",
    "        # Perform pooling\n",
    "        pooled_node_fea = self.pooling(node_fea)\n",
    "        pooled_node_fea = self.pooling_activation(pooled_node_fea)\n",
    "\n",
    "        # First hidden layer\n",
    "        hidden_node_fea = self.pooled_to_hidden(pooled_node_fea)\n",
    "        hidden_node_fea = self.hidden_activation(hidden_node_fea)\n",
    "        hidden_node_fea = self.dropout(hidden_node_fea)\n",
    "\n",
    "        # Subsequent hidden layers\n",
    "        if self.n_hidden > 1:\n",
    "            for i in range(self.n_hidden - 1):\n",
    "                hidden_node_fea = self.hidden_layers[i](hidden_node_fea)\n",
    "                hidden_node_fea = self.hidden_activation_layers[i](hidden_node_fea)\n",
    "                hidden_node_fea = self.hidden_dropout_layers[i](hidden_node_fea)\n",
    "\n",
    "        # Output\n",
    "        out = self.hidden_to_output(hidden_node_fea)\n",
    "\n",
    "        return out\n",
    "    \n",
    "    def forward(self, node_mat1, adj_mat1, node_mat2, adj_mat2):\n",
    "       \n",
    "        output1 = self.forward_once(node_mat1, adj_mat1)\n",
    "        output2 = self.forward_once(node_mat2, adj_mat2)\n",
    "\n",
    "        return output1, output2"
   ]
  },
  {
   "cell_type": "code",
   "execution_count": 146,
   "id": "aa7f94c6-a268-4601-a17d-4a1376d9ee68",
   "metadata": {},
   "outputs": [],
   "source": [
    "class ContrastiveLoss(nn.Module):\n",
    "    def __init__(self, margin=2.0):\n",
    "        super(ContrastiveLoss, self).__init__()\n",
    "        self.margin = margin\n",
    "\n",
    "    def forward(self, output1, output2, label):\n",
    "        # Euclidean distance between the embeddings\n",
    "        euclidean_distance = F.pairwise_distance(output1, output2)\n",
    "\n",
    "        # Contrastive loss formula\n",
    "        contrastive_loss = torch.mean((1 - label) * torch.pow(euclidean_distance, 2) +\n",
    "                                      (label) * torch.pow(torch.clamp(self.margin - euclidean_distance, min=0.0), 2))\n",
    "\n",
    "        return contrastive_loss"
   ]
  },
  {
   "cell_type": "code",
   "execution_count": 147,
   "id": "acd887fa-62e0-4dc5-a489-2f6e670bfd18",
   "metadata": {},
   "outputs": [],
   "source": [
    "max_atoms = 200\n",
    "node_vec_len = 60\n",
    "hidden_nodes = 60\n",
    "n_conv_layers = 4\n",
    "n_hidden_layers = 2\n",
    "n_epochs = 10"
   ]
  },
  {
   "cell_type": "code",
   "execution_count": 148,
   "id": "69229f8a-5d61-44f2-825f-8ce431cd387c",
   "metadata": {},
   "outputs": [],
   "source": [
    "model = ChemGCN(\n",
    "    node_vec_len=node_vec_len,\n",
    "    node_fea_len=hidden_nodes,\n",
    "    hidden_fea_len=hidden_nodes,\n",
    "    n_conv=n_conv_layers,\n",
    "    n_hidden=n_hidden_layers,\n",
    "    n_outputs=1,\n",
    "    p_dropout=0.1,\n",
    ")"
   ]
  },
  {
   "cell_type": "code",
   "execution_count": 149,
   "id": "61140133-17bb-471b-9bfd-5630eac8a92d",
   "metadata": {},
   "outputs": [],
   "source": [
    "criterion = ContrastiveLoss()\n",
    "optimizer = torch.optim.SGD(params=model.parameters(), \n",
    "                            lr=0.005)"
   ]
  },
  {
   "cell_type": "code",
   "execution_count": 150,
   "id": "f1f158c8-e316-48e4-9a60-33f1b0bac902",
   "metadata": {},
   "outputs": [],
   "source": [
    "#model"
   ]
  },
  {
   "cell_type": "code",
   "execution_count": 151,
   "id": "dd3a0d11-68f7-4421-a0cc-dc502416b701",
   "metadata": {},
   "outputs": [],
   "source": [
    "train_loader = DataLoader(\n",
    "    train_dataset,\n",
    "    batch_size=32,\n",
    "    \n",
    "    collate_fn=collate_graph_dataset,\n",
    ")"
   ]
  },
  {
   "cell_type": "code",
   "execution_count": 152,
   "id": "d40ec525-6422-40ba-9dfd-5d8753290b42",
   "metadata": {},
   "outputs": [],
   "source": [
    "test_loader = DataLoader(\n",
    "    test_dataset,\n",
    "    batch_size=32,\n",
    "    \n",
    "    collate_fn=collate_graph_dataset,\n",
    ")"
   ]
  },
  {
   "cell_type": "code",
   "execution_count": 153,
   "id": "2fa4be6c-4619-4388-9a4c-87784b3f2dca",
   "metadata": {},
   "outputs": [
    {
     "data": {
      "text/plain": [
       "28"
      ]
     },
     "execution_count": 153,
     "metadata": {},
     "output_type": "execute_result"
    }
   ],
   "source": [
    "2024-1996"
   ]
  },
  {
   "cell_type": "code",
   "execution_count": 154,
   "id": "d6273b91-fd8c-40ae-ad50-856868568cef",
   "metadata": {},
   "outputs": [],
   "source": [
    "def show_plot(counter,loss_history):\n",
    "    f, ax = plt.subplots()\n",
    "    return ax.plot(counter,loss_history)"
   ]
  },
  {
   "cell_type": "code",
   "execution_count": 155,
   "id": "974eca59-2692-47a2-821e-d9824169386b",
   "metadata": {},
   "outputs": [],
   "source": [
    "from sklearn.metrics import balanced_accuracy_score,accuracy_score,f1_score"
   ]
  },
  {
   "cell_type": "code",
   "execution_count": 156,
   "id": "c6d957ff-4478-4286-804a-fd199dd527ac",
   "metadata": {},
   "outputs": [],
   "source": [
    "def train_network(model, train_loader, optimizer, criterion, n_epochs=50):\n",
    "    model.train()\n",
    "    avg_loss = 0\n",
    "    counter = []\n",
    "    loss_history = [] \n",
    "    count = 0\n",
    "    \n",
    "        #total_loss = 0.0\n",
    "    for i, data in enumerate(train_loader):\n",
    "            # Unpack data\n",
    "            a,b,c = data\n",
    "            node_mat1 = a[0]\n",
    "            adj_mat1 = a[1]\n",
    "            node_mat2 = b[0]\n",
    "            adj_mat2 = b[1]\n",
    "            label = c\n",
    "            \n",
    "            # Reshape inputs\n",
    "            first_dim = int((torch.numel(node_mat1)) / (max_atoms * node_vec_len))\n",
    "            node_mat1 = node_mat1.reshape(first_dim, max_atoms, node_vec_len)\n",
    "            adj_mat1 = adj_mat1.reshape(first_dim, max_atoms, max_atoms)\n",
    "            \n",
    "            first_dim1 = int((torch.numel(node_mat2)) / (max_atoms * node_vec_len))\n",
    "            node_mat2 = node_mat2.reshape(first_dim1, max_atoms, node_vec_len)\n",
    "            adj_mat2 = adj_mat2.reshape(first_dim1, max_atoms, max_atoms)\n",
    "            \n",
    "            \n",
    "            output1, output2 = model(node_mat1, adj_mat1, node_mat2, adj_mat2)\n",
    "            loss = criterion(output1, output2, label)\n",
    "            avg_loss += loss\n",
    "            optimizer.zero_grad()\n",
    "            loss.backward()\n",
    "            optimizer.step()\n",
    "            #total_loss += loss.item()\n",
    "            # Every 10 batches print out the loss\n",
    "            count += 1\n",
    "            avg_loss = avg_loss / count\n",
    "            counter.append(count)\n",
    "            loss_history.append(loss.item())\n",
    "        \n",
    "            # Print stats\n",
    "            print(\n",
    "                \"Epoch: [{0}]\\tTraining Loss: [{1:.2f}]\"\\\n",
    "                   .format(\n",
    "                            count, avg_loss\n",
    "                   )\n",
    "            )\n",
    "            \n",
    "    return  avg_loss, count, loss, counter, loss_history   "
   ]
  },
  {
   "cell_type": "code",
   "execution_count": 157,
   "id": "fe2cbc61-e0bb-45ad-a9e1-1587207b1622",
   "metadata": {},
   "outputs": [
    {
     "name": "stdout",
     "output_type": "stream",
     "text": [
      "Epoch: [1]\tTraining Loss: [1.60]\n",
      "Epoch: [2]\tTraining Loss: [1.79]\n",
      "Epoch: [3]\tTraining Loss: [1.33]\n",
      "Epoch: [4]\tTraining Loss: [0.86]\n",
      "Epoch: [5]\tTraining Loss: [0.52]\n",
      "Epoch: [6]\tTraining Loss: [0.37]\n",
      "Epoch: [7]\tTraining Loss: [0.34]\n",
      "Epoch: [8]\tTraining Loss: [0.32]\n",
      "Epoch: [9]\tTraining Loss: [0.27]\n",
      "Epoch: [10]\tTraining Loss: [0.23]\n",
      "Epoch: [11]\tTraining Loss: [0.24]\n"
     ]
    }
   ],
   "source": [
    "result = train_network(model, train_loader, optimizer, criterion, n_epochs =10)"
   ]
  },
  {
   "cell_type": "code",
   "execution_count": 158,
   "id": "3b0e8bf1-ac66-487c-ba31-7821bb5b62a1",
   "metadata": {},
   "outputs": [],
   "source": [
    "#result[4]"
   ]
  },
  {
   "cell_type": "code",
   "execution_count": 159,
   "id": "a995689b-2601-4e88-aaec-6bde9eb5f603",
   "metadata": {},
   "outputs": [],
   "source": [
    "def show_plot(x,y):\n",
    "    f, ax = plt.subplots()\n",
    "    return ax.plot(x, y)\n",
    "     "
   ]
  },
  {
   "cell_type": "code",
   "execution_count": 160,
   "id": "b375134c-bc12-4214-9b99-0355c0a944b1",
   "metadata": {},
   "outputs": [
    {
     "data": {
      "text/plain": [
       "[<matplotlib.lines.Line2D at 0x7f6dc076ceb0>]"
      ]
     },
     "execution_count": 160,
     "metadata": {},
     "output_type": "execute_result"
    },
    {
     "data": {
      "image/png": "[encoded data removed]",
      "text/plain": [
       "<Figure size 640x480 with 1 Axes>"
      ]
     },
     "metadata": {},
     "output_type": "display_data"
    }
   ],
   "source": [
    "show_plot(result[3],result[4])"
   ]
  },
  {
   "cell_type": "code",
   "execution_count": 161,
   "id": "bb05e5f1-eb22-4875-b1e0-db328ffd5738",
   "metadata": {},
   "outputs": [],
   "source": [
    "from sklearn.metrics import balanced_accuracy_score,accuracy_score,f1_score"
   ]
  },
  {
   "cell_type": "code",
   "execution_count": 162,
   "id": "8d9a6928-2fdc-47a6-a25d-d43fac49611a",
   "metadata": {},
   "outputs": [],
   "source": [
    "def test_network(model, test_loader, threshold = 0.7):\n",
    "    model.eval()\n",
    "    true_labels = []\n",
    "    predicted_labels = []\n",
    "    \n",
    "    with torch.no_grad():\n",
    "         for i, data in enumerate(test_loader):\n",
    "            # Unpack data\n",
    "            a,b,c = data\n",
    "            node_mat1 = a[0]\n",
    "            adj_mat1 = a[1]\n",
    "            node_mat2 = b[0]\n",
    "            adj_mat2 = b[1]\n",
    "            label = c\n",
    "            \n",
    "            # Reshape inputs\n",
    "            first_dim = int((torch.numel(node_mat1)) / (max_atoms * node_vec_len))\n",
    "            node_mat1 = node_mat1.reshape(first_dim, max_atoms, node_vec_len)\n",
    "            adj_mat1 = adj_mat1.reshape(first_dim, max_atoms, max_atoms)\n",
    "            \n",
    "            first_dim1 = int((torch.numel(node_mat2)) / (max_atoms * node_vec_len))\n",
    "            node_mat2 = node_mat2.reshape(first_dim1, max_atoms, node_vec_len)\n",
    "            adj_mat2 = adj_mat2.reshape(first_dim1, max_atoms, max_atoms)\n",
    "            \n",
    "            \n",
    "            output1, output2 = model(node_mat1, adj_mat1, node_mat2, adj_mat2)\n",
    "            loss = criterion(output1, output2, label)\n",
    "            euclidean_distance = F.pairwise_distance(output1, output2)\n",
    "            \n",
    "            predictions = (euclidean_distance < threshold).float()\n",
    "\n",
    "            true_labels.extend(label.cpu().numpy())\n",
    "            predicted_labels.extend(predictions.cpu().numpy())\n",
    "        \n",
    "    return true_labels, predicted_labels"
   ]
  },
  {
   "cell_type": "code",
   "execution_count": 163,
   "id": "ad614ee1-0ba2-40f2-b254-d210a3331245",
   "metadata": {},
   "outputs": [],
   "source": [
    "train_predictions = test_network(model, train_loader, threshold = 0.7)"
   ]
  },
  {
   "cell_type": "code",
   "execution_count": 168,
   "id": "e91e1c88-abb2-46a2-ae60-23e92307c321",
   "metadata": {},
   "outputs": [],
   "source": [
    "test_predictions = test_network(model, test_loader, threshold = 0.7)"
   ]
  },
  {
   "cell_type": "code",
   "execution_count": 164,
   "id": "b0e59505-a895-4526-8306-e568b41ae54e",
   "metadata": {},
   "outputs": [
    {
     "data": {
      "text/plain": [
       "343"
      ]
     },
     "execution_count": 164,
     "metadata": {},
     "output_type": "execute_result"
    }
   ],
   "source": [
    "len(train_predictions[0])"
   ]
  },
  {
   "cell_type": "code",
   "execution_count": 169,
   "id": "7586ee90-1c45-40bc-9efa-965025b0e263",
   "metadata": {},
   "outputs": [
    {
     "data": {
      "text/plain": [
       "86"
      ]
     },
     "execution_count": 169,
     "metadata": {},
     "output_type": "execute_result"
    }
   ],
   "source": [
    "len(test_predictions[0])"
   ]
  },
  {
   "cell_type": "code",
   "execution_count": 167,
   "id": "6be102bf-9f75-43a6-bb2a-a594c6bbab92",
   "metadata": {},
   "outputs": [
    {
     "data": {
      "text/plain": [
       "0.5"
      ]
     },
     "execution_count": 167,
     "metadata": {},
     "output_type": "execute_result"
    }
   ],
   "source": [
    "balanced_accuracy_score(train_predictions[0], train_predictions[1] )"
   ]
  },
  {
   "cell_type": "code",
   "execution_count": 171,
   "id": "f295f035-6c3c-49f4-90e8-75d82bd73986",
   "metadata": {},
   "outputs": [
    {
     "data": {
      "text/plain": [
       "0.5"
      ]
     },
     "execution_count": 171,
     "metadata": {},
     "output_type": "execute_result"
    }
   ],
   "source": [
    "accuracy_score(test_predictions[0], test_predictions[1] )"
   ]
  },
  {
   "cell_type": "code",
   "execution_count": null,
   "id": "ea8ea75a-bf4d-462d-8f5d-45ed288bc77a",
   "metadata": {},
   "outputs": [],
   "source": []
  }
 ],
 "metadata": {
  "kernelspec": {
   "display_name": "cuda-gpt",
   "language": "python",
   "name": "cuda"
  },
  "language_info": {
   "codemirror_mode": {
    "name": "ipython",
    "version": 3
   },
   "file_extension": ".py",
   "mimetype": "text/x-python",
   "name": "python",
   "nbconvert_exporter": "python",
   "pygments_lexer": "ipython3",
   "version": "3.9.13"
  },
  "widgets": {
   "application/vnd.jupyter.widget-state+json": {
    "state": {},
    "version_major": 2,
    "version_minor": 0
   }
  }
 },
 "nbformat": 4,
 "nbformat_minor": 5
}
